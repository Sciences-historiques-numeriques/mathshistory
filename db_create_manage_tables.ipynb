{
 "cells": [
  {
   "cell_type": "code",
   "execution_count": null,
   "id": "066f2d62-e7e9-4d10-a7ec-da8e60521af7",
   "metadata": {},
   "outputs": [],
   "source": []
  },
  {
   "cell_type": "code",
   "execution_count": 1,
   "id": "712e116e-3e86-4aaa-8121-7d2c172078c4",
   "metadata": {
    "tags": []
   },
   "outputs": [],
   "source": [
    "import psycopg2\n",
    "import pandas as pd\n",
    "\n",
    "\n",
    "from time import strftime, gmtime"
   ]
  },
  {
   "cell_type": "code",
   "execution_count": 2,
   "id": "b7a57bdf-defc-418c-910a-58d465781ca4",
   "metadata": {},
   "outputs": [],
   "source": [
    "from itables import init_notebook_mode, show\n",
    "import re\n",
    "from importlib import reload"
   ]
  },
  {
   "cell_type": "code",
   "execution_count": 3,
   "id": "fc9cfa55-0537-4cb6-9b61-5ed879eba7fc",
   "metadata": {},
   "outputs": [],
   "source": [
    "import coreferee"
   ]
  },
  {
   "cell_type": "code",
   "execution_count": 4,
   "id": "537eb469-1c63-4013-b9c6-edab74d04db3",
   "metadata": {},
   "outputs": [],
   "source": [
    "import warnings\n",
    "warnings.filterwarnings('ignore')"
   ]
  },
  {
   "cell_type": "code",
   "execution_count": 5,
   "id": "3dbd57c8-850d-4697-90b5-a941dde522c9",
   "metadata": {},
   "outputs": [],
   "source": [
    "import postgresql_functions as pgf\n",
    "import settings as stt"
   ]
  },
  {
   "cell_type": "code",
   "execution_count": 10,
   "id": "d9c09e9c-beac-4366-84f7-b1005e1e236d",
   "metadata": {},
   "outputs": [
    {
     "data": {
      "text/plain": [
       "<module 'postgresql_functions' from '/home/francesco/shared_files/python_notebooks/Early-Modern-Astronomy/mathshistory/postgresql_functions.py'>"
      ]
     },
     "execution_count": 10,
     "metadata": {},
     "output_type": "execute_result"
    }
   ],
   "source": [
    "reload(pgf)"
   ]
  },
  {
   "cell_type": "code",
   "execution_count": null,
   "id": "9c95f4d1-09cd-4bd3-b849-3891917a49ef",
   "metadata": {},
   "outputs": [],
   "source": []
  },
  {
   "cell_type": "code",
   "execution_count": null,
   "id": "a5eb12a7-e779-4f77-853c-ccfc86ac9871",
   "metadata": {},
   "outputs": [],
   "source": []
  },
  {
   "cell_type": "code",
   "execution_count": 8,
   "id": "80bf535d-cbe0-4997-8955-e0419c393e8c",
   "metadata": {},
   "outputs": [],
   "source": [
    "q1 = \"\"\"\n",
    "-- DROP TABLE astronomers.coref_sentence;\n",
    "\n",
    "CREATE TABLE astronomers.coref_sentence (\n",
    "    pk_sentence serial4 NOT NULL,\n",
    "    fk_mathshistory int4 NULL,\n",
    "    st_id int4 NULL,\n",
    "    sentence text NULL,\n",
    "    sent_vector vector(300),\n",
    "    CONSTRAINT coref_sentence_pk PRIMARY KEY (pk_sentence),\n",
    "    CONSTRAINT coref_sentence_fk FOREIGN KEY (fk_mathshistory) REFERENCES astronomers.mathshistory(pk_mathshistory)\n",
    ");\n",
    "CREATE INDEX coref_sentence_fk_mathshistory_idx ON astronomers.coref_sentence USING btree (fk_mathshistory);\n",
    "CREATE INDEX coref_sentence_st_id_idx ON astronomers.coref_sentence USING btree (st_id);\n",
    "\"\"\""
   ]
  },
  {
   "cell_type": "code",
   "execution_count": 12,
   "id": "0c56f6b9-1b50-4861-b53b-9ff0ca8b4e44",
   "metadata": {},
   "outputs": [],
   "source": [
    "q2 = \"\"\"\n",
    "-- DROP TABLE astronomers.coref_chunk;\n",
    "\n",
    "CREATE TABLE astronomers.coref_chunk (\n",
    "\tpk_chunk serial4 NOT NULL,\n",
    "\tfk_sentence int4 NULL,\n",
    "\tst_id int4 NULL,\n",
    "\tc_text varchar NULL,\n",
    "\tc_start_char int4 NULL,\n",
    "\tc_end_char int4 NULL,\n",
    "\tc_root_text varchar NULL,\n",
    "\tc_root_dep_ varchar NULL,\n",
    "\tc_root_ancestors varchar NULL,\n",
    "\tc_root_head_text varchar NULL,\n",
    "\tfk_mathshistory int4 NULL,\n",
    "    chunk_vector vector(300),\n",
    "\tCONSTRAINT coref_chunk_pk PRIMARY KEY (pk_chunk),\n",
    "\tCONSTRAINT coref_chunk_fk FOREIGN KEY (fk_sentence) REFERENCES astronomers.coref_sentence(pk_sentence)\n",
    ");\n",
    "\"\"\""
   ]
  },
  {
   "cell_type": "code",
   "execution_count": 23,
   "id": "299e8d0b-82bf-430e-b20d-19deccf7c9b0",
   "metadata": {},
   "outputs": [],
   "source": [
    "q3 = \"\"\"\n",
    "-- DROP TABLE astronomers.coref_token;\n",
    "\n",
    "CREATE TABLE astronomers.coref_token (\n",
    "\tpk_token serial4 NOT NULL,\n",
    "\tfk_sentence int4 NULL,\n",
    "\tst_id int4 NULL,\n",
    "\tt_index int4 NULL,\n",
    "\tt_text varchar NULL,\n",
    "\tt_lemma varchar NULL,\n",
    "\tt_pos_ varchar NULL,\n",
    "\tt_tag_ varchar NULL,\n",
    "\tt_dep_ varchar NULL,\n",
    "\tt_head_i int4 NULL,\n",
    "\tt_head_text varchar NULL,\n",
    "\tt_head_pos_ varchar NULL,\n",
    "\tt_head_tag_ varchar NULL,\n",
    "\tt_children varchar NULL,\n",
    "    t_vector vector(300),\n",
    "\tfk_mathshistory int4 NULL,\n",
    "\tCONSTRAINT coref_token_pk PRIMARY KEY (pk_token),\n",
    "\tCONSTRAINT coref_token_fk FOREIGN KEY (fk_sentence) REFERENCES astronomers.coref_sentence(pk_sentence)\n",
    ");\n",
    "CREATE INDEX coref_token_fk_mathshistory_idx ON astronomers.coref_token USING btree (fk_mathshistory);\n",
    "CREATE INDEX coref_token_st_id_idx ON astronomers.coref_token USING btree (st_id);\n",
    "CREATE INDEX coref_token_t_head_i_idx ON astronomers.coref_token USING btree (t_head_i);\n",
    "CREATE INDEX coref_token_t_index_idx ON astronomers.coref_token USING btree (t_index);\"\"\""
   ]
  },
  {
   "cell_type": "code",
   "execution_count": 16,
   "id": "14966596-09c5-4f38-b0f7-fd1a494e2fd6",
   "metadata": {},
   "outputs": [],
   "source": [
    "q4 = \"\"\"\n",
    "CREATE TABLE astronomers.coref_entity (\n",
    "\tpk_entity serial4 NOT NULL,\n",
    "\tfk_sentence int4 NULL,\n",
    "\tst_id int4 NULL,\n",
    "\te_text varchar NULL,\n",
    "\te_label varchar NULL,\n",
    "\tfk_mathshistory int4 NULL,\n",
    "    e_vector vector(300),\n",
    "\tCONSTRAINT coref_entity_pk PRIMARY KEY (pk_entity),\n",
    "\tCONSTRAINT coref_entity_fk FOREIGN KEY (fk_sentence) REFERENCES astronomers.coref_sentence(pk_sentence)\n",
    ");\n",
    "\"\"\""
   ]
  },
  {
   "cell_type": "code",
   "execution_count": 22,
   "id": "555ae1ee-608a-46dd-b72a-cbba4becb720",
   "metadata": {},
   "outputs": [],
   "source": [
    "### connect to the local database\n",
    "cnn = psycopg2.connect(host=\"localhost\", port = 5432, database=\"espace_intellectuel\", \n",
    "                        user=\"postgres\", password=stt.dbw)\n",
    "#conn"
   ]
  },
  {
   "cell_type": "code",
   "execution_count": 24,
   "id": "36cac17f-ae81-471b-909b-1172c96838b6",
   "metadata": {},
   "outputs": [],
   "source": [
    "with cnn.cursor() as curs:\n",
    "    try:   \n",
    "        curs.execute(q3)\n",
    "        cnn.commit()\n",
    "    except Exception as e:            \n",
    "        cnn.rollback()\n",
    "        print(e)"
   ]
  },
  {
   "cell_type": "code",
   "execution_count": 25,
   "id": "404fb788-81b1-4de6-8f6c-c3e322d10615",
   "metadata": {},
   "outputs": [],
   "source": [
    "cnn.close()"
   ]
  },
  {
   "cell_type": "code",
   "execution_count": null,
   "id": "6ff46ad1-b1f7-47cc-8302-04a6b6cb2ef0",
   "metadata": {},
   "outputs": [],
   "source": [
    "textes = pd.DataFrame(result[0])\n",
    "textes.columns = ['id', 'texte', 'size']"
   ]
  },
  {
   "cell_type": "code",
   "execution_count": null,
   "id": "cbfead55-0dd5-4393-8fac-16b6e6671f74",
   "metadata": {},
   "outputs": [],
   "source": [
    "textes.head()"
   ]
  },
  {
   "cell_type": "code",
   "execution_count": null,
   "id": "e51d160c-f17f-4baf-b1fa-c15facf28cfb",
   "metadata": {},
   "outputs": [],
   "source": [
    "len(textes), len(textes[textes['size'] > 1500])"
   ]
  },
  {
   "cell_type": "code",
   "execution_count": null,
   "id": "cc57c251-1549-42c2-a7ed-f4b725586764",
   "metadata": {
    "scrolled": true,
    "tags": []
   },
   "outputs": [],
   "source": [
    "### Choose one document\n",
    "txt = textes.iloc[1].texte \n",
    "print(txt)"
   ]
  },
  {
   "cell_type": "code",
   "execution_count": null,
   "id": "a9b307ac-0875-4ce7-b215-0b242a42a7d0",
   "metadata": {},
   "outputs": [],
   "source": [
    "#txt = \"We have quoted above from Biancani concerning his high regard for Galileo. However, he did not always agree with Galileo's views. The first disagreement came in 1611 and concerned the mountains on the moon. Galileo had observed the surface of the moon through a telescope in 1609 and had used certain mathematical techniques to prove that there were lunar mountains. His claim appeared in Sidereus Nuncius published in May 1610. In May 1611 a group of scientists, mostly Jesuits, was brought together by cardinal Ferdinando Gonzaga in Mantua to discuss Galileo's claims. One of the major points discussed was Galileo's proof that there were mountains on the moon, and the report from the group came down firmly in favour of the traditional belief that the moon was perfectly smooth. Galileo suspected that Biancani was the author of the report and letters were exchanged in which Biancani dissociated himself from any insult towards Galileo saying that he was sorry if he had been offended but, nevertheless, pointing out that he did believe that the moon was perfectly smooth. He also disagreed with Galileo in 1613 when a dispute broke out between Galileo and Christoph Scheiner over sunspots. Galileo unfairly accused Scheiner of plagiarism but, although Scheiner's discovery of sunspots was certainly independent of any work by Galileo, his explanation was quite wrong. Biancani, however, defended his fellow Jesuit Scheiner.\""
   ]
  },
  {
   "cell_type": "code",
   "execution_count": null,
   "id": "df06753e-d60e-44c6-8079-7033cfe224df",
   "metadata": {},
   "outputs": [],
   "source": [
    "#print(txt)"
   ]
  },
  {
   "cell_type": "code",
   "execution_count": null,
   "id": "f71f22f5-1c0a-4db3-ac64-894ab06e9228",
   "metadata": {},
   "outputs": [],
   "source": []
  },
  {
   "cell_type": "markdown",
   "id": "6295a341-1352-4362-9bef-e67d2811cd57",
   "metadata": {},
   "source": [
    "## Coreferee"
   ]
  },
  {
   "cell_type": "code",
   "execution_count": null,
   "id": "4a2736c1-92cb-4130-8e44-24a266322141",
   "metadata": {},
   "outputs": [],
   "source": [
    "nlp = spacy.load('en_core_web_lg')"
   ]
  },
  {
   "cell_type": "code",
   "execution_count": null,
   "id": "1a9e7245-764e-43a6-bccc-1022c0676f2a",
   "metadata": {},
   "outputs": [],
   "source": [
    "### https://spacy.io/universe/project/coreferee\n",
    "nlp.add_pipe('coreferee')"
   ]
  },
  {
   "cell_type": "code",
   "execution_count": null,
   "id": "df4bfccd-ea15-4bb5-97b0-38cd96c6bcbf",
   "metadata": {},
   "outputs": [],
   "source": []
  },
  {
   "cell_type": "code",
   "execution_count": null,
   "id": "7df67835-c90f-4125-b110-ea913e4684c9",
   "metadata": {},
   "outputs": [],
   "source": [
    "doc = nlp(txt)"
   ]
  },
  {
   "cell_type": "code",
   "execution_count": null,
   "id": "19aead54-6f5f-4e45-a412-caad1b25093c",
   "metadata": {
    "scrolled": true,
    "tags": []
   },
   "outputs": [],
   "source": [
    "doc._.coref_chains.print()"
   ]
  },
  {
   "cell_type": "code",
   "execution_count": null,
   "id": "90902213-ff15-4910-9ba1-08d5cdef1b7b",
   "metadata": {
    "scrolled": true,
    "tags": []
   },
   "outputs": [],
   "source": [
    "### Produce resolved text\n",
    "# https://stackoverflow.com/questions/75204212/spacy-coreferee-how-to-cleanly-extract-coreferenced-text\n",
    "\n",
    "resolved_text = \"\"\n",
    "\n",
    "for token in doc[:]:\n",
    "  \n",
    "    repres = doc._.coref_chains.resolve(token)\n",
    "    # print(repres)\n",
    "    if repres:\n",
    "        c = \" and \".join([t.text for t in repres])\n",
    "        # resolved_text += \" \" + c\n",
    "        resolved_text += c + \" \"\n",
    "        # print(c)\n",
    "    else:\n",
    "        #resolved_text += \" \" + token.text\n",
    "        resolved_text += token.text_with_ws\n",
    "\n",
    "print(resolved_text)"
   ]
  },
  {
   "cell_type": "code",
   "execution_count": null,
   "id": "424663d4-5e23-4a8d-a977-6943aa6108f8",
   "metadata": {},
   "outputs": [],
   "source": [
    "def resolve_text(doc):\n",
    "    \n",
    "    resolved_text = \"\"\n",
    "    \n",
    "    for token in doc:\n",
    "  \n",
    "        repres = doc._.coref_chains.resolve(token)\n",
    "        # print(repres)\n",
    "        if repres:\n",
    "            c = \" and \".join([t.text for t in repres])\n",
    "            # resolved_text += \" \" + c\n",
    "            resolved_text += c + \" \"\n",
    "            # print(c)\n",
    "        else:\n",
    "            #resolved_text += \" \" + token.text\n",
    "            resolved_text += token.text_with_ws\n",
    "        \n",
    "    return resolved_text    "
   ]
  },
  {
   "cell_type": "code",
   "execution_count": null,
   "id": "b6f54fc7-e1c2-4f85-bb3d-e6639981fa22",
   "metadata": {},
   "outputs": [],
   "source": [
    "resolve_text(doc)[:1000]"
   ]
  },
  {
   "cell_type": "code",
   "execution_count": null,
   "id": "179c22d9-25b4-4461-8860-479ee3636fa6",
   "metadata": {},
   "outputs": [],
   "source": []
  },
  {
   "cell_type": "code",
   "execution_count": null,
   "id": "48e71954-a790-4df9-baf9-e24abaf3783a",
   "metadata": {},
   "outputs": [],
   "source": []
  },
  {
   "cell_type": "markdown",
   "id": "f25f5295-f4fb-4e86-af56-d111ca229d26",
   "metadata": {},
   "source": [
    "## Import into database"
   ]
  },
  {
   "cell_type": "code",
   "execution_count": null,
   "id": "667ad16b-8ee7-4f63-82ad-cb28416580cb",
   "metadata": {},
   "outputs": [],
   "source": []
  },
  {
   "cell_type": "code",
   "execution_count": null,
   "id": "54c1dc81-1c1d-4e31-bed5-a875264509b5",
   "metadata": {
    "scrolled": true,
    "tags": []
   },
   "outputs": [],
   "source": [
    "### Je n'ai retenu que ceux à plus que 1500 !\n",
    "# il faudra reprendre les autres\n",
    "\n",
    "ll = textes[textes['size'] > 1500].values.tolist()\n",
    "len(ll), ll[:2]"
   ]
  },
  {
   "cell_type": "code",
   "execution_count": null,
   "id": "3a13ecd1-9efb-43c8-925b-c0d0d6afbb38",
   "metadata": {},
   "outputs": [],
   "source": []
  },
  {
   "cell_type": "markdown",
   "id": "53eed81a-8fdc-4ca8-a20f-bd0b448c9067",
   "metadata": {},
   "source": [
    "UPDATE astronomers.mathshistory SET coreferenced_txt = null;"
   ]
  },
  {
   "cell_type": "code",
   "execution_count": null,
   "id": "1592b4ce-492c-4d3b-9777-00450cbfbe6e",
   "metadata": {},
   "outputs": [],
   "source": [
    "\n",
    "### Next line commented to avoid disruption\n",
    "\n",
    "for t in ll:\n",
    "\n",
    "    error = []\n",
    "    \n",
    "    doc = nlp(t[1])\n",
    "        \n",
    "    rt = resolve_text(doc).replace(\"'\", \"\\\\\\'\")\n",
    "    # print(type(rt), len(rt))\n",
    "    \n",
    "    \n",
    "    with conn.cursor() as curs:\n",
    "        try:\n",
    "            qs = f\"\"\"\n",
    "            UPDATE astronomers.mathshistory SET coreferenced_txt = E'{rt}'\n",
    "            WHERE pk_mathshistory = {t[0]};\n",
    "            \"\"\"\n",
    "            \n",
    "            curs.execute(qs)\n",
    "            conn.commit()\n",
    "        except Exception as e:\n",
    "            error.append([t[0], e])\n",
    "            # print(error)\n",
    "            with open('spacy/logs_errors_coreferenced.txt', 'a') as f:\n",
    "                f.write(f'd{str(error)} — Error — {strftime(\"%a, %d %b %Y %H:%M:%S +0000\", gmtime())}\\n\\n')\n",
    "            conn.rollback()"
   ]
  },
  {
   "cell_type": "code",
   "execution_count": null,
   "id": "13fa31c6-dd9e-44f3-b94a-afcefa2224c0",
   "metadata": {},
   "outputs": [],
   "source": []
  },
  {
   "cell_type": "code",
   "execution_count": null,
   "id": "d00c5657-e730-4fca-b42f-30914511d4ab",
   "metadata": {},
   "outputs": [],
   "source": []
  }
 ],
 "metadata": {
  "kernelspec": {
   "display_name": "py310_pip_spacy",
   "language": "python",
   "name": "py310_pip_spacy"
  },
  "language_info": {
   "codemirror_mode": {
    "name": "ipython",
    "version": 3
   },
   "file_extension": ".py",
   "mimetype": "text/x-python",
   "name": "python",
   "nbconvert_exporter": "python",
   "pygments_lexer": "ipython3",
   "version": "3.10.11"
  }
 },
 "nbformat": 4,
 "nbformat_minor": 5
}
