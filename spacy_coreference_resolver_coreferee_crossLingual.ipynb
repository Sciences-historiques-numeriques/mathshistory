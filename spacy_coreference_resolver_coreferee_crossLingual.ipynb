{
 "cells": [
  {
   "cell_type": "code",
   "execution_count": null,
   "id": "066f2d62-e7e9-4d10-a7ec-da8e60521af7",
   "metadata": {},
   "outputs": [],
   "source": []
  },
  {
   "cell_type": "markdown",
   "id": "b16269c6-8e87-4910-88f2-6e7be2a461a1",
   "metadata": {
    "tags": []
   },
   "source": [
    "# Discover Spacy plugins and their functions\n",
    "\n",
    "Use the pip_spacy Conda environment\n",
    "\n",
    "* CrossLingual\n",
    "* Coreferee\n",
    "* Claucy\n",
    "* Concepcy"
   ]
  },
  {
   "cell_type": "markdown",
   "id": "f196311f-f223-4d97-a214-0afbbb83b60e",
   "metadata": {},
   "source": []
  },
  {
   "cell_type": "code",
   "execution_count": 1,
   "id": "712e116e-3e86-4aaa-8121-7d2c172078c4",
   "metadata": {
    "tags": []
   },
   "outputs": [],
   "source": [
    "import spacy\n",
    "import psycopg2\n",
    "import pandas as pd\n",
    "from spacy.tokens import Span\n",
    "from spacy import displacy\n"
   ]
  },
  {
   "cell_type": "code",
   "execution_count": 2,
   "id": "b7a57bdf-defc-418c-910a-58d465781ca4",
   "metadata": {},
   "outputs": [],
   "source": [
    "from itables import init_notebook_mode, show\n",
    "import re\n",
    "from importlib import reload"
   ]
  },
  {
   "cell_type": "code",
   "execution_count": 3,
   "id": "fc9cfa55-0537-4cb6-9b61-5ed879eba7fc",
   "metadata": {},
   "outputs": [],
   "source": [
    "import coreferee"
   ]
  },
  {
   "cell_type": "code",
   "execution_count": 4,
   "id": "537eb469-1c63-4013-b9c6-edab74d04db3",
   "metadata": {},
   "outputs": [],
   "source": [
    "import warnings\n",
    "warnings.filterwarnings('ignore')"
   ]
  },
  {
   "cell_type": "code",
   "execution_count": 5,
   "id": "3dbd57c8-850d-4697-90b5-a941dde522c9",
   "metadata": {},
   "outputs": [],
   "source": [
    "import postgresql_functions as pgf\n",
    "import settings as stt"
   ]
  },
  {
   "cell_type": "code",
   "execution_count": 6,
   "id": "d9c09e9c-beac-4366-84f7-b1005e1e236d",
   "metadata": {},
   "outputs": [],
   "source": [
    "# reload(pgf)"
   ]
  },
  {
   "cell_type": "code",
   "execution_count": null,
   "id": "9c95f4d1-09cd-4bd3-b849-3891917a49ef",
   "metadata": {},
   "outputs": [],
   "source": []
  },
  {
   "cell_type": "code",
   "execution_count": 7,
   "id": "555ae1ee-608a-46dd-b72a-cbba4becb720",
   "metadata": {},
   "outputs": [],
   "source": [
    "### connect to the local database\n",
    "conn = psycopg2.connect(host=\"localhost\", port = 5432, database=\"espace_intellectuel\", \n",
    "                        user=\"postgres\", password=stt.dbw)\n",
    "#conn"
   ]
  },
  {
   "cell_type": "code",
   "execution_count": null,
   "id": "a5eb12a7-e779-4f77-853c-ccfc86ac9871",
   "metadata": {},
   "outputs": [],
   "source": []
  },
  {
   "cell_type": "code",
   "execution_count": 10,
   "id": "80bf535d-cbe0-4997-8955-e0419c393e8c",
   "metadata": {},
   "outputs": [],
   "source": [
    "q1 = \"\"\"\n",
    "select pk_mathshistory, \"name\", url, dates, length(biography) as eff, biography \n",
    "from mathshistory.mathshistory m \n",
    "where pk_mathshistory in (103, 117, 133, 159, 186);\n",
    "\"\"\""
   ]
  },
  {
   "cell_type": "code",
   "execution_count": 11,
   "id": "36cac17f-ae81-471b-909b-1172c96838b6",
   "metadata": {},
   "outputs": [],
   "source": [
    "result = pgf.sql_explore(q1, conn)\n",
    "# print(f'Lines count: {len(result[0])}, errors count: {len(result[1])}, \\nFirst lines: {result[0][:5]}')"
   ]
  },
  {
   "cell_type": "code",
   "execution_count": 12,
   "id": "6ff46ad1-b1f7-47cc-8302-04a6b6cb2ef0",
   "metadata": {},
   "outputs": [],
   "source": [
    "textes = pd.DataFrame(result[0])\n",
    "textes.columns = ['id', 'name', 'url', 'dates', 'length_bio', 'texte']"
   ]
  },
  {
   "cell_type": "code",
   "execution_count": 13,
   "id": "cbfead55-0dd5-4393-8fac-16b6e6671f74",
   "metadata": {},
   "outputs": [
    {
     "data": {
      "text/html": [
       "<div>\n",
       "<style scoped>\n",
       "    .dataframe tbody tr th:only-of-type {\n",
       "        vertical-align: middle;\n",
       "    }\n",
       "\n",
       "    .dataframe tbody tr th {\n",
       "        vertical-align: top;\n",
       "    }\n",
       "\n",
       "    .dataframe thead th {\n",
       "        text-align: right;\n",
       "    }\n",
       "</style>\n",
       "<table border=\"1\" class=\"dataframe\">\n",
       "  <thead>\n",
       "    <tr style=\"text-align: right;\">\n",
       "      <th></th>\n",
       "      <th>id</th>\n",
       "      <th>name</th>\n",
       "      <th>url</th>\n",
       "      <th>dates</th>\n",
       "      <th>length_bio</th>\n",
       "      <th>texte</th>\n",
       "    </tr>\n",
       "  </thead>\n",
       "  <tbody>\n",
       "    <tr>\n",
       "      <th>0</th>\n",
       "      <td>103</td>\n",
       "      <td>Christopher Clavius</td>\n",
       "      <td>https://mathshistory.st-andrews.ac.uk/Biograph...</td>\n",
       "      <td>1538-1612</td>\n",
       "      <td>10616</td>\n",
       "      <td>Christopher Clavius was born in a German regio...</td>\n",
       "    </tr>\n",
       "    <tr>\n",
       "      <th>1</th>\n",
       "      <td>117</td>\n",
       "      <td>Michael Mästlin</td>\n",
       "      <td>https://mathshistory.st-andrews.ac.uk/Biograph...</td>\n",
       "      <td>1550-1631</td>\n",
       "      <td>10122</td>\n",
       "      <td>Michael Mästlin was born in Göppingen which wa...</td>\n",
       "    </tr>\n",
       "    <tr>\n",
       "      <th>2</th>\n",
       "      <td>133</td>\n",
       "      <td>Giuseppe Biancani</td>\n",
       "      <td>https://mathshistory.st-andrews.ac.uk/Biograph...</td>\n",
       "      <td>1566-1624</td>\n",
       "      <td>10035</td>\n",
       "      <td>Giuseppe Biancani's name also appears in its L...</td>\n",
       "    </tr>\n",
       "    <tr>\n",
       "      <th>3</th>\n",
       "      <td>159</td>\n",
       "      <td>Wilhelm Schickard</td>\n",
       "      <td>https://mathshistory.st-andrews.ac.uk/Biograph...</td>\n",
       "      <td>1592-1635</td>\n",
       "      <td>10272</td>\n",
       "      <td>Wilhelm Schickard's name is sometimes written ...</td>\n",
       "    </tr>\n",
       "    <tr>\n",
       "      <th>4</th>\n",
       "      <td>186</td>\n",
       "      <td>Johannes Hevelius</td>\n",
       "      <td>https://mathshistory.st-andrews.ac.uk/Biograph...</td>\n",
       "      <td>1611-1687</td>\n",
       "      <td>10856</td>\n",
       "      <td>The first problem that we have to address is t...</td>\n",
       "    </tr>\n",
       "  </tbody>\n",
       "</table>\n",
       "</div>"
      ],
      "text/plain": [
       "    id                 name  \\\n",
       "0  103  Christopher Clavius   \n",
       "1  117      Michael Mästlin   \n",
       "2  133    Giuseppe Biancani   \n",
       "3  159    Wilhelm Schickard   \n",
       "4  186    Johannes Hevelius   \n",
       "\n",
       "                                                 url      dates  length_bio  \\\n",
       "0  https://mathshistory.st-andrews.ac.uk/Biograph...  1538-1612       10616   \n",
       "1  https://mathshistory.st-andrews.ac.uk/Biograph...  1550-1631       10122   \n",
       "2  https://mathshistory.st-andrews.ac.uk/Biograph...  1566-1624       10035   \n",
       "3  https://mathshistory.st-andrews.ac.uk/Biograph...  1592-1635       10272   \n",
       "4  https://mathshistory.st-andrews.ac.uk/Biograph...  1611-1687       10856   \n",
       "\n",
       "                                               texte  \n",
       "0  Christopher Clavius was born in a German regio...  \n",
       "1  Michael Mästlin was born in Göppingen which wa...  \n",
       "2  Giuseppe Biancani's name also appears in its L...  \n",
       "3  Wilhelm Schickard's name is sometimes written ...  \n",
       "4  The first problem that we have to address is t...  "
      ]
     },
     "execution_count": 13,
     "metadata": {},
     "output_type": "execute_result"
    }
   ],
   "source": [
    "textes.head()"
   ]
  },
  {
   "cell_type": "code",
   "execution_count": 14,
   "id": "cc57c251-1549-42c2-a7ed-f4b725586764",
   "metadata": {
    "scrolled": true,
    "tags": []
   },
   "outputs": [
    {
     "name": "stdout",
     "output_type": "stream",
     "text": [
      "Michael Mästlin was born in Göppingen which was a village about 50 km east of Tübingen. His father, Jakob Mästlin, and his mother, Dorothea Simon, were both devout Lutherans and Michael was brought up in that faith and remained strongly committed to it throughout his life. He was the middle child of the family, having an older sister and a younger brother. He attended the monastic school in Königsbronn then, after his studies there, entered Tübingen University in 1568. [3]:-\n",
      "As was the case with many young scholars including Kepler, his most famous student, [Mästlin] did his undergraduate studies at a preparatory school and came to the university to take his final exams and pick up his baccalaureate degree.At Tübingen University he studied mathematics and astronomy for a Master's degree under Philipp Apian who was Peter Apian's son. In 1570, while a student, he purchased a copy of Copernicus's De revolutionibus from the widow of Victorin Strigel, who had been professor of theology at Leipzig and the author of an astronomy text. Mästlin was awarded a Master's degree with distinction in 1571. While studying for this degree he had edited a new edition of the Prutenis Tables which was published in 1571. The Prutenis Tables had been originally compiled by Erasmus Reinhold who had based them on Copernicus's version of the solar system. After graduating, Mästlin spent the following years teaching in Tübingen, and at the same time took [3]:-\n",
      "... the theological programme, because Tübingen University's primary mission was to prepare young men for the Lutheran ministry.Then, in 1576, he was sent to be a deacon at the Lutheran Church in Backnang, a town about 30 km northwest of Göppingen. He married Margarete Gruuninger (1551-1588) in April 1577 not long after he took up the position in Backnang; they had three sons and three daughters but Margarete died due to complications with the birth of their sixth child. Mästlin then married Margarete Burkhardt, daughter of a professor at Tübingen; they had eight children.\n",
      "\n",
      "Mästlin is famous for his excellent, very accurate, observations of the comet of 1577, observed while he was in Backnang, and published in Tübingen in 1578 as Observatio et demonstratio cometae aetherae qui anno 1577 et 1578 constitutus in sphaera Veneris apparuit cum admirandius eius passionibus varietate scilicet motus loco orbe distantia a terro centro etc. adhibitis demonstrationibus geometricis et calculo arithmetico cuius modi de alio quoquam cometa nunquam visa est (Observations and demonstrations of the ethereal comets of the years 1577 and 1578). We discuss this achievement in more detail below. He remained in Backnang for four years, then was appointed as professor of mathematics at the University of Heidelberg in 1580. There he published the first edition of his famous astronomy textbook Epitome astronomiae (1582) - he published six further editions of this popular work during his lifetime. Despite his commitment to the views of Copernicus (which we state below in his own words) this teaching textbook was written purely as a description of astronomy based on the geocentric model of Ptolemy.\n",
      "\n",
      "After four years in Heidelberg he returned to his position in Tübingen where he spent the rest of his career [2]:-\n",
      "At Tübingen, Mästlin was elected dean of the arts faculty several times. He was well liked by both his colleagues and his students. Mästlin was very generous both to his family and to others. He was a religious man; he followed the Lutheran line in opposing the Gregorian calendar reform partly because it was initiated by the Pope. Mästlin had several students who became noted mathematicians, the most famous being Kepler. Mästlin also maintained interests in Biblical chronology and geography.Perhaps his greatest achievement (other than being Kepler's teacher) is that he was the first to compute the orbit of a comet, although his method was not sound. He found, however, a sun centred orbit for the comet of 1577 which he claimed supported Copernicus's heliocentric system. He did show that the comet was further away than the moon, which contradicted the accepted teachings of Aristotle. Although clearly believing in the system as proposed by Copernicus, he taught astronomy using his own textbook which was based on Ptolemy's system. However for the more advanced lectures he adopted the heliocentric approach - Kepler credited Mästlin with introducing him to Copernican ideas while he was a student at Tübingen (1589-94). In [6] Methuen looks at these two different world systems in Mästlin's teaching. A G Molland reviews Methuen's paper:-\n",
      "Michael Mästlin is regularly ascribed a firm if minor place in accounts of the Astronomical Revolution, as the teacher of Johannes Kepler and as an early believer in the physical reality of the Copernican system. What has been less clear is how this related to his regular teaching at the University of Tübingen, with some having argued that he only taught Copernicanism cautiously and in private. Methuen examines this question in the light of Maestlin's published writings, including five sets of theses over whose disputations (two at Heidelberg, one at Tübingen) he presided. She shows that he had no compunction about firmly asserting the supralunar position of the New Star of 1572 and of the comets of 1577 - 1578 and 1580. In general, his writings, especially his textbook 'Epitome astronomiae' of 1582, show no firm Copernican commitment, although there are signs of a leaning in that direction, and he was concerned with emphasizing the interconvertibility of hypotheses. His elementary teaching was certainly based on traditional astronomy, but Methuen concludes that he taught newer material to his more advanced students. She claims that he made a clear distinction between \"spheres\" and \"orbs\", with the former possessing physical reality and the latter being merely useful mathematical constructions ...Mästlin was both a great expert on spherical trigonometry and also a fine observer producing accurate data - the quality of his eyesight is seen from the fact that he saw, and sketched the positions of, 11 stars in the Pleiades cluster. Of course there were not any bright city lights around then, but we challenge any reader to equal this achievement however dark a site they find. He seems to have been the first to claim that the dark part of the moon shone through sunlight reflected from the earth but Leonardo da Vinci has also been credited with this idea. Another first for Mästlin is an accurate calculation of the golden ratio as \"approximately 0.6180340\" stated in a letter he wrote to Kepler in 1597.\n",
      "\n",
      "He was an innovative thinker who was quite prepared to challenge conventional views. For example he attempted to measure the parallax of a supernova and, having failed to find any, deduced that it was as far away as the \"fixed stars\". This of course contradicted the view, held since Aristotle, that all changes in the heavens occurred closer to earth than the realm of the stars which was unchanging.\n",
      "\n",
      "Mästlin lived to see the invention of the telescope for astronomical observations by Galileo. He had two, rather poor, telescopes with which he was able to observe sunspots and the moons of Jupiter. He was still making accurate observations at the age of 78 when he observed the lunar eclipse of 1628.\n",
      "\n",
      "As we mentioned above Mästlin acquired a copy of Copernicus's De revolutionibus in 1570 and he wrote extensive notes near the beginning of the book. These give much insight into his views on Copernicus and we quote the notes using Gingerich's translations. Mästlin wrote that [3]:-\n",
      "... the arrangement presented in this book is the sort of structure in which all the sidereal motions and phenomena are explained very exactly. Therefore this hypothesis recommends itself to the intellect.Mästlin continued:-\n",
      "The heavenly motions were at the point of collapse, and so [Copernicus] concluded that appropriate hypotheses were needed to explain these motions. When he noticed that the common hypotheses were insufficient, he eventually accepted the idea of the Earth's mobility, since indeed, it not only satisfied the phenomena very well but it didn't lead to anything absurd.\n",
      "\n",
      "In fact, if anyone would straighten out the common hypotheses so that they would agree with the phenomena and allow no inconsistencies, then I would gratefully trust him; clearly he would bring very many to his views. But I see that some, even very outstanding mathematicians, have laboured on this yet, in the end, without results. Therefore, I think that unless the common hypotheses are reformed (a task that I am not up to because of my inadequate abilities), I will accept the hypotheses and opinion of Copernicus - after Ptolemy, the prince of all Astronomers.There are further annotations written by Mästlin [3] which are very interesting. On the back of the title page of De revolutionibus is the infamous notice which states that \"... these hypotheses need not be true nor even probable; it is sufficient if the calculations agree with the observations.\" Mästlin adds a note to his copy stating:- \n",
      "This preface was added by someone, whoever its author may be, (for indeed, its weakness of style and choice of words reveal that it is not by Copernicus).He later added a further note:-\n",
      "I found the following words written somewhere among the books of Philipp Apian (which I bought from his widow); although no author was given I could recognise Apian's hand:\n",
      "On account of this letter Georg Joachim Rheticus, the Leipzig professor and disciple of Copernicus, became involved in a very bitter wrangle with the printer, who asserted that it had been turned over to him with the rest of the work. Rheticus, however, suspected that Osiander [the proof-reader of Copernicus's book] had prefaced it to the work. If he knew this for certain, he declared, he would handle that fellow so that in future he would mind his own business and not slander astronomers any more. Nevertheless, [Peter] Apian told me that Osiander had openly admitted to him that he had added this all by himself.\n"
     ]
    }
   ],
   "source": [
    "### Choose one document\n",
    "txt = textes.iloc[1].texte \n",
    "print(txt)"
   ]
  },
  {
   "cell_type": "code",
   "execution_count": 15,
   "id": "a9b307ac-0875-4ce7-b215-0b242a42a7d0",
   "metadata": {},
   "outputs": [],
   "source": [
    "#txt = \"We have quoted above from Biancani concerning his high regard for Galileo. However, he did not always agree with Galileo's views. The first disagreement came in 1611 and concerned the mountains on the moon. Galileo had observed the surface of the moon through a telescope in 1609 and had used certain mathematical techniques to prove that there were lunar mountains. His claim appeared in Sidereus Nuncius published in May 1610. In May 1611 a group of scientists, mostly Jesuits, was brought together by cardinal Ferdinando Gonzaga in Mantua to discuss Galileo's claims. One of the major points discussed was Galileo's proof that there were mountains on the moon, and the report from the group came down firmly in favour of the traditional belief that the moon was perfectly smooth. Galileo suspected that Biancani was the author of the report and letters were exchanged in which Biancani dissociated himself from any insult towards Galileo saying that he was sorry if he had been offended but, nevertheless, pointing out that he did believe that the moon was perfectly smooth. He also disagreed with Galileo in 1613 when a dispute broke out between Galileo and Christoph Scheiner over sunspots. Galileo unfairly accused Scheiner of plagiarism but, although Scheiner's discovery of sunspots was certainly independent of any work by Galileo, his explanation was quite wrong. Biancani, however, defended his fellow Jesuit Scheiner.\""
   ]
  },
  {
   "cell_type": "code",
   "execution_count": 16,
   "id": "df06753e-d60e-44c6-8079-7033cfe224df",
   "metadata": {},
   "outputs": [],
   "source": [
    "#print(txt)"
   ]
  },
  {
   "cell_type": "code",
   "execution_count": null,
   "id": "f71f22f5-1c0a-4db3-ac64-894ab06e9228",
   "metadata": {},
   "outputs": [],
   "source": []
  },
  {
   "cell_type": "markdown",
   "id": "fc11f3f8-bec9-4c4e-8cdb-f1d4c0a28b92",
   "metadata": {
    "tags": []
   },
   "source": [
    "## CrossLingual\n",
    "\n",
    "* https://spacy.io/universe/project/crosslingualcoreference\n",
    "* https://github.com/davidberenstein1957/crosslingual-coreference"
   ]
  },
  {
   "cell_type": "code",
   "execution_count": 17,
   "id": "3c25d137-52f2-4617-932b-0bfec1988db0",
   "metadata": {},
   "outputs": [
    {
     "name": "stderr",
     "output_type": "stream",
     "text": [
      "[nltk_data] Downloading package omw-1.4 to\n",
      "[nltk_data]     /home/francesco/nltk_data...\n",
      "[nltk_data]   Package omw-1.4 is already up-to-date!\n",
      "[nltk_data] Downloading package omw-1.4 to\n",
      "[nltk_data]     /home/francesco/nltk_data...\n",
      "[nltk_data]   Package omw-1.4 is already up-to-date!\n"
     ]
    }
   ],
   "source": [
    "nlp = spacy.load('en_core_web_lg')"
   ]
  },
  {
   "cell_type": "code",
   "execution_count": 18,
   "id": "24230f4c-fb42-4063-bbcb-505315f1c3c9",
   "metadata": {
    "scrolled": true,
    "tags": []
   },
   "outputs": [
    {
     "name": "stderr",
     "output_type": "stream",
     "text": [
      "Some weights of the model checkpoint at nreimers/mMiniLMv2-L12-H384-distilled-from-XLMR-Large were not used when initializing XLMRobertaModel: ['lm_head.dense.weight', 'lm_head.layer_norm.weight', 'lm_head.dense.bias', 'lm_head.bias', 'lm_head.layer_norm.bias']\n",
      "- This IS expected if you are initializing XLMRobertaModel from the checkpoint of a model trained on another task or with another architecture (e.g. initializing a BertForSequenceClassification model from a BertForPreTraining model).\n",
      "- This IS NOT expected if you are initializing XLMRobertaModel from the checkpoint of a model that you expect to be exactly identical (initializing a BertForSequenceClassification model from a BertForSequenceClassification model).\n",
      "Some weights of XLMRobertaModel were not initialized from the model checkpoint at nreimers/mMiniLMv2-L12-H384-distilled-from-XLMR-Large and are newly initialized: ['roberta.pooler.dense.bias', 'roberta.pooler.dense.weight']\n",
      "You should probably TRAIN this model on a down-stream task to be able to use it for predictions and inference.\n"
     ]
    },
    {
     "data": {
      "text/plain": [
       "<crosslingual_coreference.CrossLingualPredictorSpacy.CrossLingualPredictorSpacy at 0x7f990fa08a30>"
      ]
     },
     "execution_count": 18,
     "metadata": {},
     "output_type": "execute_result"
    }
   ],
   "source": [
    "nlp.add_pipe(\n",
    "    \"xx_coref\", config={\"chunk_size\": 2500, \"chunk_overlap\": 2, \"device\": -1, \"model_name\": \"minilm\"}\n",
    ")"
   ]
  },
  {
   "cell_type": "code",
   "execution_count": 19,
   "id": "fba0b73f-0998-43d2-a3d4-16d8fd6df665",
   "metadata": {
    "scrolled": true,
    "tags": []
   },
   "outputs": [],
   "source": [
    "doc = nlp(txt)"
   ]
  },
  {
   "cell_type": "code",
   "execution_count": 20,
   "id": "b826406c-8e4b-41a5-afb1-65b3d21e7aa8",
   "metadata": {},
   "outputs": [
    {
     "name": "stdout",
     "output_type": "stream",
     "text": [
      "[[[0, 15], [88, 91], [119, 122], [178, 185], [264, 267], [274, 276], [359, 361], [418, 421], [578, 581], [663, 666], [691, 694], [739, 741], [871, 873], [1044, 1051], [1139, 1141], [1370, 1377], [1601, 1603], [1707, 1709], [1780, 1782], [1934, 1941], [2039, 2046], [2061, 2064], [2141, 2143], [2320, 2324]], [[0, 15], [88, 91], [119, 122], [178, 185], [264, 267], [274, 276], [359, 361], [418, 421], [578, 581], [663, 666], [691, 694], [739, 741], [871, 873], [1044, 1051], [1139, 1141], [1370, 1377], [1601, 1603], [1707, 1709], [1780, 1782], [1934, 1941], [2039, 2046], [2061, 2064], [2141, 2143], [2320, 2324], [2579, 2584]], [[78, 86], [1416, 1424], [1696, 1705], [2003, 2011], [2178, 2186]]]\n"
     ]
    }
   ],
   "source": [
    "print(doc._.coref_clusters[:3])"
   ]
  },
  {
   "cell_type": "code",
   "execution_count": 21,
   "id": "7caa09a7-9b5f-4a17-9ce0-66ee55573db6",
   "metadata": {},
   "outputs": [
    {
     "name": "stdout",
     "output_type": "stream",
     "text": [
      "ästlin comets married Margarete Burkhardt, daughter of a professor at Tübingen; they had eight children.\n",
      "\n",
      "Michael Mästlin comets famous for Michael Mästlin's excellent, very accurate, observations Backnang the comet of 1577, observed while Michael Mästlin children in Backnang, and published in Tübingen in 1578 as Observatio et demonstratio cometae aetherae qui anno 1577 et 1578 constitutus in sphaera Veneris apparuit cum admirandius Michael Mästlin passionibus varietate scilicet motus loco orbe distantia a terro centro etc. adhibitis demonstrationibus geometricis et calculo arithmetico cuius modi children alio Backnang cometa nunquam visa est (Observations and demonstrations of the ethereal comets of the Michael Mästlin 1577 and 1578). We discuss this achievement in more detail below. He remained in Backnang for four comets, then was appointed as comets of mathematics at the University of Heidelberg in 1580comets There he published the first then was appointed as professor of mathematics at the University of Heidelberg in's famous comets textbook Epitome astronomiae comets1582) - he published six further editions of this popular work comets his lifetime. then was appointed as profe\n"
     ]
    }
   ],
   "source": [
    "txt_res = doc._.resolved_text\n",
    "print(txt_res[2300:3500])"
   ]
  },
  {
   "cell_type": "code",
   "execution_count": 22,
   "id": "8d89b44d-8a30-4d0f-ade9-58302561329e",
   "metadata": {},
   "outputs": [
    {
     "name": "stdout",
     "output_type": "stream",
     "text": [
      "None\n"
     ]
    }
   ],
   "source": [
    "print(doc._.coref_chains)"
   ]
  },
  {
   "cell_type": "code",
   "execution_count": 23,
   "id": "53675e12-f232-47a1-bd0a-ce5bf03340c9",
   "metadata": {},
   "outputs": [
    {
     "data": {
      "text/plain": [
       "(1893, 11686)"
      ]
     },
     "execution_count": 23,
     "metadata": {},
     "output_type": "execute_result"
    }
   ],
   "source": [
    "len(doc), len(txt_res)"
   ]
  },
  {
   "cell_type": "code",
   "execution_count": 24,
   "id": "5961da14-eced-48f6-beed-6a04d6682b5e",
   "metadata": {},
   "outputs": [
    {
     "data": {
      "text/plain": [
       "(Michael, himself)"
      ]
     },
     "execution_count": 24,
     "metadata": {},
     "output_type": "execute_result"
    }
   ],
   "source": [
    "doc[0], doc[len(doc)-2]"
   ]
  },
  {
   "cell_type": "code",
   "execution_count": 25,
   "id": "b16cce41-0b69-486d-8c35-a61646d54476",
   "metadata": {},
   "outputs": [],
   "source": [
    "info = []\n",
    "for token in doc:\n",
    "    info.append((token.idx, token.text, token.lemma_, token.pos_, token.tag_, token.dep_,\n",
    "                token.shape_, token.is_alpha, token.is_stop))\n",
    "tx_df = pd.DataFrame(info, columns = [\"idx\",\"text\", \"lemma_\", \"pos_\", \"tag_\", \"dep_\",\"shape_\", \"is_alpha\", \"is_stop\"])"
   ]
  },
  {
   "cell_type": "code",
   "execution_count": 26,
   "id": "1e0b8a23-6fba-414e-8072-8214da8dca37",
   "metadata": {
    "tags": []
   },
   "outputs": [
    {
     "data": {
      "text/html": [
       "<style>.itables table td {\n",
       "    text-overflow: ellipsis;\n",
       "    overflow: hidden;\n",
       "}\n",
       "\n",
       ".itables table th {\n",
       "    text-overflow: ellipsis;\n",
       "    overflow: hidden;\n",
       "}\n",
       "\n",
       ".itables thead input {\n",
       "    width: 100%;\n",
       "    padding: 3px;\n",
       "    box-sizing: border-box;\n",
       "}\n",
       "\n",
       ".itables tfoot input {\n",
       "    width: 100%;\n",
       "    padding: 3px;\n",
       "    box-sizing: border-box;\n",
       "}\n",
       "</style>\n",
       "<div class=\"itables\">\n",
       "<table id=\"a70fdeab-bfc3-4d8f-94b3-f2255ae92f64\" class=\"display\"style=\"table-layout:auto;width:auto;margin:auto;caption-side:bottom\"><thead>\n",
       "    <tr style=\"text-align: right;\">\n",
       "      \n",
       "      <th>idx</th>\n",
       "      <th>text</th>\n",
       "      <th>lemma_</th>\n",
       "      <th>pos_</th>\n",
       "      <th>tag_</th>\n",
       "      <th>dep_</th>\n",
       "      <th>shape_</th>\n",
       "      <th>is_alpha</th>\n",
       "      <th>is_stop</th>\n",
       "    </tr>\n",
       "  </thead><tbody><tr><td>Loading... (need <a href=https://mwouts.github.io/itables/troubleshooting.html>help</a>?)</td></tr></tbody><tfoot><th>idx</th><th>text</th><th>lemma_</th><th>pos_</th><th>tag_</th><th>dep_</th><th>shape_</th><th>is_alpha</th><th>is_stop</th></tfoot></table>\n",
       "<link rel=\"stylesheet\" type=\"text/css\" href=\"https://cdn.datatables.net/1.13.1/css/jquery.dataTables.min.css\">\n",
       "<script type=\"module\">\n",
       "    // Import jquery and DataTable\n",
       "    import 'https://code.jquery.com/jquery-3.6.0.min.js';\n",
       "    import dt from 'https://cdn.datatables.net/1.12.1/js/jquery.dataTables.mjs';\n",
       "    dt($);\n",
       "\n",
       "    // Define the table data\n",
       "    const data = [[0, \"Michael\", \"Michael\", \"PROPN\", \"NNP\", \"compound\", \"Xxxxx\", true, false], [8, \"M\\u00e4stlin\", \"M\\u00e4stlin\", \"PROPN\", \"NNP\", \"nsubjpass\", \"Xxxxx\", true, false], [16, \"was\", \"be\", \"AUX\", \"VBD\", \"auxpass\", \"xxx\", true, true], [20, \"born\", \"bear\", \"VERB\", \"VBN\", \"ROOT\", \"xxxx\", true, false], [25, \"in\", \"in\", \"ADP\", \"IN\", \"prep\", \"xx\", true, true], [28, \"G\\u00f6ppingen\", \"G\\u00f6ppingen\", \"PROPN\", \"NNP\", \"pobj\", \"Xxxxx\", true, false], [38, \"which\", \"which\", \"DET\", \"WDT\", \"nsubj\", \"xxxx\", true, true], [44, \"was\", \"be\", \"VERB\", \"VBD\", \"relcl\", \"xxx\", true, true], [48, \"a\", \"a\", \"DET\", \"DT\", \"det\", \"x\", true, true], [50, \"village\", \"village\", \"NOUN\", \"NN\", \"attr\", \"xxxx\", true, false], [58, \"about\", \"about\", \"ADV\", \"RB\", \"advmod\", \"xxxx\", true, true], [64, \"50\", \"50\", \"NUM\", \"CD\", \"nummod\", \"dd\", false, false], [67, \"km\", \"km\", \"NOUN\", \"NN\", \"npadvmod\", \"xx\", true, false], [70, \"east\", \"east\", \"ADV\", \"RB\", \"advmod\", \"xxxx\", true, false], [75, \"of\", \"of\", \"ADP\", \"IN\", \"prep\", \"xx\", true, true], [78, \"T\\u00fcbingen\", \"T\\u00fcbingen\", \"PROPN\", \"NNP\", \"pobj\", \"Xxxxx\", true, false], [86, \".\", \".\", \"PUNCT\", \".\", \"punct\", \".\", false, false], [88, \"His\", \"his\", \"PRON\", \"PRP$\", \"poss\", \"Xxx\", true, true], [92, \"father\", \"father\", \"NOUN\", \"NN\", \"nsubj\", \"xxxx\", true, false], [98, \",\", \",\", \"PUNCT\", \",\", \"punct\", \",\", false, false], [100, \"Jakob\", \"Jakob\", \"PROPN\", \"NNP\", \"compound\", \"Xxxxx\", true, false], [106, \"M\\u00e4stlin\", \"M\\u00e4stlin\", \"PROPN\", \"NNP\", \"appos\", \"Xxxxx\", true, false], [113, \",\", \",\", \"PUNCT\", \",\", \"punct\", \",\", false, false], [115, \"and\", \"and\", \"CCONJ\", \"CC\", \"cc\", \"xxx\", true, true], [119, \"his\", \"his\", \"PRON\", \"PRP$\", \"poss\", \"xxx\", true, true], [123, \"mother\", \"mother\", \"NOUN\", \"NN\", \"conj\", \"xxxx\", true, false], [129, \",\", \",\", \"PUNCT\", \",\", \"punct\", \",\", false, false], [131, \"Dorothea\", \"Dorothea\", \"PROPN\", \"NNP\", \"compound\", \"Xxxxx\", true, false], [140, \"Simon\", \"Simon\", \"PROPN\", \"NNP\", \"appos\", \"Xxxxx\", true, false], [145, \",\", \",\", \"PUNCT\", \",\", \"punct\", \",\", false, false], [147, \"were\", \"be\", \"AUX\", \"VBD\", \"ROOT\", \"xxxx\", true, true], [152, \"both\", \"both\", \"DET\", \"DT\", \"preconj\", \"xxxx\", true, true], [157, \"devout\", \"devout\", \"ADJ\", \"JJ\", \"amod\", \"xxxx\", true, false], [164, \"Lutherans\", \"Lutherans\", \"PROPN\", \"NNPS\", \"nsubjpass\", \"Xxxxx\", true, false], [174, \"and\", \"and\", \"CCONJ\", \"CC\", \"cc\", \"xxx\", true, true], [178, \"Michael\", \"Michael\", \"PROPN\", \"NNP\", \"conj\", \"Xxxxx\", true, false], [186, \"was\", \"be\", \"AUX\", \"VBD\", \"auxpass\", \"xxx\", true, true], [190, \"brought\", \"bring\", \"VERB\", \"VBN\", \"ccomp\", \"xxxx\", true, false], [198, \"up\", \"up\", \"ADP\", \"RP\", \"prt\", \"xx\", true, true], [201, \"in\", \"in\", \"ADP\", \"IN\", \"prep\", \"xx\", true, true], [204, \"that\", \"that\", \"DET\", \"DT\", \"det\", \"xxxx\", true, true], [209, \"faith\", \"faith\", \"NOUN\", \"NN\", \"pobj\", \"xxxx\", true, false], [215, \"and\", \"and\", \"CCONJ\", \"CC\", \"cc\", \"xxx\", true, true], [219, \"remained\", \"remain\", \"VERB\", \"VBD\", \"conj\", \"xxxx\", true, false], [228, \"strongly\", \"strongly\", \"ADV\", \"RB\", \"advmod\", \"xxxx\", true, false], [237, \"committed\", \"committed\", \"ADJ\", \"JJ\", \"acomp\", \"xxxx\", true, false], [247, \"to\", \"to\", \"ADP\", \"IN\", \"prep\", \"xx\", true, true], [250, \"it\", \"it\", \"PRON\", \"PRP\", \"pobj\", \"xx\", true, true], [253, \"throughout\", \"throughout\", \"ADP\", \"IN\", \"prep\", \"xxxx\", true, true], [264, \"his\", \"his\", \"PRON\", \"PRP$\", \"poss\", \"xxx\", true, true], [268, \"life\", \"life\", \"NOUN\", \"NN\", \"pobj\", \"xxxx\", true, false], [272, \".\", \".\", \"PUNCT\", \".\", \"punct\", \".\", false, false], [274, \"He\", \"he\", \"PRON\", \"PRP\", \"nsubj\", \"Xx\", true, true], [277, \"was\", \"be\", \"AUX\", \"VBD\", \"ROOT\", \"xxx\", true, true], [281, \"the\", \"the\", \"DET\", \"DT\", \"det\", \"xxx\", true, true], [285, \"middle\", \"middle\", \"ADJ\", \"JJ\", \"amod\", \"xxxx\", true, false], [292, \"child\", \"child\", \"NOUN\", \"NN\", \"attr\", \"xxxx\", true, false], [298, \"of\", \"of\", \"ADP\", \"IN\", \"prep\", \"xx\", true, true], [301, \"the\", \"the\", \"DET\", \"DT\", \"det\", \"xxx\", true, true], [305, \"family\", \"family\", \"NOUN\", \"NN\", \"pobj\", \"xxxx\", true, false], [311, \",\", \",\", \"PUNCT\", \",\", \"punct\", \",\", false, false], [313, \"having\", \"have\", \"VERB\", \"VBG\", \"advcl\", \"xxxx\", true, false], [320, \"an\", \"an\", \"DET\", \"DT\", \"det\", \"xx\", true, true], [323, \"older\", \"old\", \"ADJ\", \"JJR\", \"amod\", \"xxxx\", true, false], [329, \"sister\", \"sister\", \"NOUN\", \"NN\", \"dobj\", \"xxxx\", true, false], [336, \"and\", \"and\", \"CCONJ\", \"CC\", \"cc\", \"xxx\", true, true], [340, \"a\", \"a\", \"DET\", \"DT\", \"det\", \"x\", true, true], [342, \"younger\", \"young\", \"ADJ\", \"JJR\", \"amod\", \"xxxx\", true, false], [350, \"brother\", \"brother\", \"NOUN\", \"NN\", \"conj\", \"xxxx\", true, false], [357, \".\", \".\", \"PUNCT\", \".\", \"punct\", \".\", false, false], [359, \"He\", \"he\", \"PRON\", \"PRP\", \"nsubj\", \"Xx\", true, true], [362, \"attended\", \"attend\", \"VERB\", \"VBD\", \"ROOT\", \"xxxx\", true, false], [371, \"the\", \"the\", \"DET\", \"DT\", \"det\", \"xxx\", true, true], [375, \"monastic\", \"monastic\", \"ADJ\", \"JJ\", \"amod\", \"xxxx\", true, false], [384, \"school\", \"school\", \"NOUN\", \"NN\", \"dobj\", \"xxxx\", true, false], [391, \"in\", \"in\", \"ADP\", \"IN\", \"prep\", \"xx\", true, true], [394, \"K\\u00f6nigsbronn\", \"K\\u00f6nigsbronn\", \"PROPN\", \"NNP\", \"pobj\", \"Xxxxx\", true, false], [406, \"then\", \"then\", \"ADV\", \"RB\", \"advmod\", \"xxxx\", true, true], [410, \",\", \",\", \"PUNCT\", \",\", \"punct\", \",\", false, false], [412, \"after\", \"after\", \"ADP\", \"IN\", \"prep\", \"xxxx\", true, true], [418, \"his\", \"his\", \"PRON\", \"PRP$\", \"poss\", \"xxx\", true, true], [422, \"studies\", \"study\", \"NOUN\", \"NNS\", \"pobj\", \"xxxx\", true, false], [430, \"there\", \"there\", \"ADV\", \"RB\", \"advmod\", \"xxxx\", true, true], [435, \",\", \",\", \"PUNCT\", \",\", \"punct\", \",\", false, false], [437, \"entered\", \"enter\", \"VERB\", \"VBD\", \"advcl\", \"xxxx\", true, false], [445, \"T\\u00fcbingen\", \"T\\u00fcbingen\", \"PROPN\", \"NNP\", \"compound\", \"Xxxxx\", true, false], [454, \"University\", \"University\", \"PROPN\", \"NNP\", \"dobj\", \"Xxxxx\", true, false], [465, \"in\", \"in\", \"ADP\", \"IN\", \"prep\", \"xx\", true, true], [468, \"1568\", \"1568\", \"NUM\", \"CD\", \"pobj\", \"dddd\", false, false], [472, \".\", \".\", \"PUNCT\", \".\", \"punct\", \".\", false, false], [474, \"[\", \"[\", \"X\", \"XX\", \"dep\", \"[\", false, false], [475, \"3]:-\", \"3]:-\", \"NUM\", \"CD\", \"compound\", \"d]:-\", false, false], [479, \"\\\\n\", \"\\\\n\", \"SPACE\", \"_SP\", \"nsubj\", \"\\\\n\", false, false], [480, \"As\", \"as\", \"ADP\", \"IN\", \"mark\", \"Xx\", true, true], [483, \"was\", \"be\", \"AUX\", \"VBD\", \"ROOT\", \"xxx\", true, true], [487, \"the\", \"the\", \"DET\", \"DT\", \"det\", \"xxx\", true, true], [491, \"case\", \"case\", \"NOUN\", \"NN\", \"attr\", \"xxxx\", true, false], [496, \"with\", \"with\", \"ADP\", \"IN\", \"prep\", \"xxxx\", true, true], [501, \"many\", \"many\", \"ADJ\", \"JJ\", \"amod\", \"xxxx\", true, true], [506, \"young\", \"young\", \"ADJ\", \"JJ\", \"amod\", \"xxxx\", true, false], [512, \"scholars\", \"scholar\", \"NOUN\", \"NNS\", \"pobj\", \"xxxx\", true, false], [521, \"including\", \"include\", \"VERB\", \"VBG\", \"prep\", \"xxxx\", true, false], [531, \"Kepler\", \"Kepler\", \"PROPN\", \"NNP\", \"pobj\", \"Xxxxx\", true, false], [537, \",\", \",\", \"PUNCT\", \",\", \"punct\", \",\", false, false], [539, \"his\", \"his\", \"PRON\", \"PRP$\", \"poss\", \"xxx\", true, true], [543, \"most\", \"most\", \"ADV\", \"RBS\", \"advmod\", \"xxxx\", true, true], [548, \"famous\", \"famous\", \"ADJ\", \"JJ\", \"amod\", \"xxxx\", true, false], [555, \"student\", \"student\", \"NOUN\", \"NN\", \"appos\", \"xxxx\", true, false], [562, \",\", \",\", \"PUNCT\", \",\", \"punct\", \",\", false, false], [564, \"[\", \"[\", \"PUNCT\", \"-LRB-\", \"punct\", \"[\", false, false], [565, \"M\\u00e4stlin\", \"M\\u00e4stlin\", \"PROPN\", \"NNP\", \"appos\", \"Xxxxx\", true, false], [572, \"]\", \"]\", \"PUNCT\", \"-RRB-\", \"punct\", \"]\", false, false], [574, \"did\", \"do\", \"VERB\", \"VBD\", \"dep\", \"xxx\", true, true], [578, \"his\", \"his\", \"PRON\", \"PRP$\", \"poss\", \"xxx\", true, true], [582, \"undergraduate\", \"undergraduate\", \"ADJ\", \"JJ\", \"amod\", \"xxxx\", true, false], [596, \"studies\", \"study\", \"NOUN\", \"NNS\", \"dobj\", \"xxxx\", true, false], [604, \"at\", \"at\", \"ADP\", \"IN\", \"prep\", \"xx\", true, true], [607, \"a\", \"a\", \"DET\", \"DT\", \"det\", \"x\", true, true], [609, \"preparatory\", \"preparatory\", \"ADJ\", \"JJ\", \"amod\", \"xxxx\", true, false], [621, \"school\", \"school\", \"NOUN\", \"NN\", \"pobj\", \"xxxx\", true, false], [628, \"and\", \"and\", \"CCONJ\", \"CC\", \"cc\", \"xxx\", true, true], [632, \"came\", \"come\", \"VERB\", \"VBD\", \"conj\", \"xxxx\", true, false], [637, \"to\", \"to\", \"ADP\", \"IN\", \"prep\", \"xx\", true, true], [640, \"the\", \"the\", \"DET\", \"DT\", \"det\", \"xxx\", true, true], [644, \"university\", \"university\", \"NOUN\", \"NN\", \"pobj\", \"xxxx\", true, false], [655, \"to\", \"to\", \"PART\", \"TO\", \"aux\", \"xx\", true, true], [658, \"take\", \"take\", \"VERB\", \"VB\", \"advcl\", \"xxxx\", true, true], [663, \"his\", \"his\", \"PRON\", \"PRP$\", \"poss\", \"xxx\", true, true], [667, \"final\", \"final\", \"ADJ\", \"JJ\", \"amod\", \"xxxx\", true, false], [673, \"exams\", \"exam\", \"NOUN\", \"NNS\", \"dobj\", \"xxxx\", true, false], [679, \"and\", \"and\", \"CCONJ\", \"CC\", \"cc\", \"xxx\", true, true], [683, \"pick\", \"pick\", \"VERB\", \"VB\", \"conj\", \"xxxx\", true, false], [688, \"up\", \"up\", \"ADP\", \"RP\", \"prt\", \"xx\", true, true], [691, \"his\", \"his\", \"PRON\", \"PRP$\", \"poss\", \"xxx\", true, true], [695, \"baccalaureate\", \"baccalaureate\", \"NOUN\", \"NN\", \"compound\", \"xxxx\", true, false], [709, \"degree\", \"degree\", \"NOUN\", \"NN\", \"dobj\", \"xxxx\", true, false], [715, \".\", \".\", \"PUNCT\", \".\", \"punct\", \".\", false, false], [716, \"At\", \"at\", \"ADP\", \"IN\", \"prep\", \"Xx\", true, true], [719, \"T\\u00fcbingen\", \"T\\u00fcbingen\", \"PROPN\", \"NNP\", \"compound\", \"Xxxxx\", true, false], [728, \"University\", \"University\", \"PROPN\", \"NNP\", \"pobj\", \"Xxxxx\", true, false], [739, \"he\", \"he\", \"PRON\", \"PRP\", \"nsubj\", \"xx\", true, true], [742, \"studied\", \"study\", \"VERB\", \"VBD\", \"ROOT\", \"xxxx\", true, false], [750, \"mathematics\", \"mathematic\", \"NOUN\", \"NNS\", \"dobj\", \"xxxx\", true, false], [762, \"and\", \"and\", \"CCONJ\", \"CC\", \"cc\", \"xxx\", true, true], [766, \"astronomy\", \"astronomy\", \"NOUN\", \"NN\", \"conj\", \"xxxx\", true, false], [776, \"for\", \"for\", \"ADP\", \"IN\", \"prep\", \"xxx\", true, true], [780, \"a\", \"a\", \"DET\", \"DT\", \"det\", \"x\", true, true], [782, \"Master\", \"Master\", \"PROPN\", \"NNP\", \"poss\", \"Xxxxx\", true, false], [788, \"'s\", \"'s\", \"PART\", \"POS\", \"case\", \"'x\", false, true], [791, \"degree\", \"degree\", \"NOUN\", \"NN\", \"pobj\", \"xxxx\", true, false], [798, \"under\", \"under\", \"ADP\", \"IN\", \"prep\", \"xxxx\", true, true], [804, \"Philipp\", \"Philipp\", \"PROPN\", \"NNP\", \"compound\", \"Xxxxx\", true, false], [812, \"Apian\", \"Apian\", \"PROPN\", \"NNP\", \"pobj\", \"Xxxxx\", true, false], [818, \"who\", \"who\", \"PRON\", \"WP\", \"nsubj\", \"xxx\", true, true], [822, \"was\", \"be\", \"VERB\", \"VBD\", \"relcl\", \"xxx\", true, true], [826, \"Peter\", \"Peter\", \"PROPN\", \"NNP\", \"compound\", \"Xxxxx\", true, false], [832, \"Apian\", \"Apian\", \"PROPN\", \"NNP\", \"poss\", \"Xxxxx\", true, false], [837, \"'s\", \"'s\", \"PART\", \"POS\", \"case\", \"'x\", false, true], [840, \"son\", \"son\", \"NOUN\", \"NN\", \"attr\", \"xxx\", true, false], [843, \".\", \".\", \"PUNCT\", \".\", \"punct\", \".\", false, false], [845, \"In\", \"in\", \"ADP\", \"IN\", \"prep\", \"Xx\", true, true], [848, \"1570\", \"1570\", \"NUM\", \"CD\", \"pobj\", \"dddd\", false, false], [852, \",\", \",\", \"PUNCT\", \",\", \"punct\", \",\", false, false], [854, \"while\", \"while\", \"SCONJ\", \"IN\", \"prep\", \"xxxx\", true, true], [860, \"a\", \"a\", \"DET\", \"DT\", \"det\", \"x\", true, true], [862, \"student\", \"student\", \"NOUN\", \"NN\", \"pobj\", \"xxxx\", true, false], [869, \",\", \",\", \"PUNCT\", \",\", \"punct\", \",\", false, false], [871, \"he\", \"he\", \"PRON\", \"PRP\", \"nsubj\", \"xx\", true, true], [874, \"purchased\", \"purchase\", \"VERB\", \"VBD\", \"ROOT\", \"xxxx\", true, false], [884, \"a\", \"a\", \"DET\", \"DT\", \"det\", \"x\", true, true], [886, \"copy\", \"copy\", \"NOUN\", \"NN\", \"dobj\", \"xxxx\", true, false], [891, \"of\", \"of\", \"ADP\", \"IN\", \"prep\", \"xx\", true, true], [894, \"Copernicus\", \"Copernicus\", \"PROPN\", \"NNP\", \"poss\", \"Xxxxx\", true, false], [904, \"'s\", \"'s\", \"PART\", \"POS\", \"case\", \"'x\", false, true], [907, \"De\", \"De\", \"PROPN\", \"NNP\", \"compound\", \"Xx\", true, false], [910, \"revolutionibus\", \"revolutionibus\", \"NOUN\", \"NN\", \"pobj\", \"xxxx\", true, false], [925, \"from\", \"from\", \"ADP\", \"IN\", \"prep\", \"xxxx\", true, true], [930, \"the\", \"the\", \"DET\", \"DT\", \"det\", \"xxx\", true, true], [934, \"widow\", \"widow\", \"NOUN\", \"NN\", \"pobj\", \"xxxx\", true, false], [940, \"of\", \"of\", \"ADP\", \"IN\", \"prep\", \"xx\", true, true], [943, \"Victorin\", \"Victorin\", \"PROPN\", \"NNP\", \"compound\", \"Xxxxx\", true, false], [952, \"Strigel\", \"Strigel\", \"PROPN\", \"NNP\", \"pobj\", \"Xxxxx\", true, false], [959, \",\", \",\", \"PUNCT\", \",\", \"punct\", \",\", false, false], [961, \"who\", \"who\", \"PRON\", \"WP\", \"nsubj\", \"xxx\", true, true], [965, \"had\", \"have\", \"AUX\", \"VBD\", \"aux\", \"xxx\", true, true], [969, \"been\", \"be\", \"VERB\", \"VBN\", \"relcl\", \"xxxx\", true, true], [974, \"professor\", \"professor\", \"NOUN\", \"NN\", \"attr\", \"xxxx\", true, false], [984, \"of\", \"of\", \"ADP\", \"IN\", \"prep\", \"xx\", true, true], [987, \"theology\", \"theology\", \"NOUN\", \"NN\", \"pobj\", \"xxxx\", true, false], [996, \"at\", \"at\", \"ADP\", \"IN\", \"prep\", \"xx\", true, true], [999, \"Leipzig\", \"Leipzig\", \"PROPN\", \"NNP\", \"pobj\", \"Xxxxx\", true, false], [1007, \"and\", \"and\", \"CCONJ\", \"CC\", \"cc\", \"xxx\", true, true], [1011, \"the\", \"the\", \"DET\", \"DT\", \"det\", \"xxx\", true, true], [1015, \"author\", \"author\", \"NOUN\", \"NN\", \"conj\", \"xxxx\", true, false], [1022, \"of\", \"of\", \"ADP\", \"IN\", \"prep\", \"xx\", true, true], [1025, \"an\", \"an\", \"DET\", \"DT\", \"det\", \"xx\", true, true], [1028, \"astronomy\", \"astronomy\", \"NOUN\", \"NN\", \"compound\", \"xxxx\", true, false], [1038, \"text\", \"text\", \"NOUN\", \"NN\", \"pobj\", \"xxxx\", true, false], [1042, \".\", \".\", \"PUNCT\", \".\", \"punct\", \".\", false, false], [1044, \"M\\u00e4stlin\", \"M\\u00e4stlin\", \"PROPN\", \"NNP\", \"nsubjpass\", \"Xxxxx\", true, false], [1052, \"was\", \"be\", \"AUX\", \"VBD\", \"auxpass\", \"xxx\", true, true], [1056, \"awarded\", \"award\", \"VERB\", \"VBN\", \"ROOT\", \"xxxx\", true, false], [1064, \"a\", \"a\", \"DET\", \"DT\", \"det\", \"x\", true, true], [1066, \"Master\", \"Master\", \"PROPN\", \"NNP\", \"poss\", \"Xxxxx\", true, false], [1072, \"'s\", \"'s\", \"PART\", \"POS\", \"case\", \"'x\", false, true], [1075, \"degree\", \"degree\", \"NOUN\", \"NN\", \"dobj\", \"xxxx\", true, false], [1082, \"with\", \"with\", \"ADP\", \"IN\", \"prep\", \"xxxx\", true, true], [1087, \"distinction\", \"distinction\", \"NOUN\", \"NN\", \"pobj\", \"xxxx\", true, false], [1099, \"in\", \"in\", \"ADP\", \"IN\", \"prep\", \"xx\", true, true], [1102, \"1571\", \"1571\", \"NUM\", \"CD\", \"pobj\", \"dddd\", false, false], [1106, \".\", \".\", \"PUNCT\", \".\", \"punct\", \".\", false, false], [1108, \"While\", \"while\", \"SCONJ\", \"IN\", \"mark\", \"Xxxxx\", true, true], [1114, \"studying\", \"study\", \"VERB\", \"VBG\", \"advcl\", \"xxxx\", true, false], [1123, \"for\", \"for\", \"ADP\", \"IN\", \"prep\", \"xxx\", true, true], [1127, \"this\", \"this\", \"DET\", \"DT\", \"det\", \"xxxx\", true, true], [1132, \"degree\", \"degree\", \"NOUN\", \"NN\", \"pobj\", \"xxxx\", true, false], [1139, \"he\", \"he\", \"PRON\", \"PRP\", \"nsubj\", \"xx\", true, true], [1142, \"had\", \"have\", \"AUX\", \"VBD\", \"aux\", \"xxx\", true, true], [1146, \"edited\", \"edit\", \"VERB\", \"VBN\", \"ROOT\", \"xxxx\", true, false], [1153, \"a\", \"a\", \"DET\", \"DT\", \"det\", \"x\", true, true], [1155, \"new\", \"new\", \"ADJ\", \"JJ\", \"amod\", \"xxx\", true, false], [1159, \"edition\", \"edition\", \"NOUN\", \"NN\", \"dobj\", \"xxxx\", true, false], [1167, \"of\", \"of\", \"ADP\", \"IN\", \"prep\", \"xx\", true, true], [1170, \"the\", \"the\", \"DET\", \"DT\", \"det\", \"xxx\", true, true], [1174, \"Prutenis\", \"Prutenis\", \"PROPN\", \"NNP\", \"compound\", \"Xxxxx\", true, false], [1183, \"Tables\", \"Tables\", \"PROPN\", \"NNP\", \"pobj\", \"Xxxxx\", true, false], [1190, \"which\", \"which\", \"DET\", \"WDT\", \"nsubjpass\", \"xxxx\", true, true], [1196, \"was\", \"be\", \"AUX\", \"VBD\", \"auxpass\", \"xxx\", true, true], [1200, \"published\", \"publish\", \"VERB\", \"VBN\", \"relcl\", \"xxxx\", true, false], [1210, \"in\", \"in\", \"ADP\", \"IN\", \"prep\", \"xx\", true, true], [1213, \"1571\", \"1571\", \"NUM\", \"CD\", \"pobj\", \"dddd\", false, false], [1217, \".\", \".\", \"PUNCT\", \".\", \"punct\", \".\", false, false], [1219, \"The\", \"the\", \"DET\", \"DT\", \"det\", \"Xxx\", true, true], [1223, \"Prutenis\", \"Prutenis\", \"PROPN\", \"NNP\", \"compound\", \"Xxxxx\", true, false], [1232, \"Tables\", \"Tables\", \"PROPN\", \"NNP\", \"nsubjpass\", \"Xxxxx\", true, false], [1239, \"had\", \"have\", \"AUX\", \"VBD\", \"aux\", \"xxx\", true, true], [1243, \"been\", \"be\", \"AUX\", \"VBN\", \"auxpass\", \"xxxx\", true, true], [1248, \"originally\", \"originally\", \"ADV\", \"RB\", \"advmod\", \"xxxx\", true, false], [1259, \"compiled\", \"compile\", \"VERB\", \"VBN\", \"ROOT\", \"xxxx\", true, false], [1268, \"by\", \"by\", \"ADP\", \"IN\", \"agent\", \"xx\", true, true], [1271, \"Erasmus\", \"Erasmus\", \"PROPN\", \"NNP\", \"compound\", \"Xxxxx\", true, false], [1279, \"Reinhold\", \"Reinhold\", \"PROPN\", \"NNP\", \"pobj\", \"Xxxxx\", true, false], [1288, \"who\", \"who\", \"PRON\", \"WP\", \"nsubj\", \"xxx\", true, true], [1292, \"had\", \"have\", \"AUX\", \"VBD\", \"aux\", \"xxx\", true, true], [1296, \"based\", \"base\", \"VERB\", \"VBN\", \"relcl\", \"xxxx\", true, false], [1302, \"them\", \"they\", \"PRON\", \"PRP\", \"dobj\", \"xxxx\", true, true], [1307, \"on\", \"on\", \"ADP\", \"IN\", \"prep\", \"xx\", true, true], [1310, \"Copernicus\", \"Copernicus\", \"PROPN\", \"NNP\", \"poss\", \"Xxxxx\", true, false], [1320, \"'s\", \"'s\", \"PART\", \"POS\", \"case\", \"'x\", false, true], [1323, \"version\", \"version\", \"NOUN\", \"NN\", \"pobj\", \"xxxx\", true, false], [1331, \"of\", \"of\", \"ADP\", \"IN\", \"prep\", \"xx\", true, true], [1334, \"the\", \"the\", \"DET\", \"DT\", \"det\", \"xxx\", true, true], [1338, \"solar\", \"solar\", \"ADJ\", \"JJ\", \"amod\", \"xxxx\", true, false], [1344, \"system\", \"system\", \"NOUN\", \"NN\", \"pobj\", \"xxxx\", true, false], [1350, \".\", \".\", \"PUNCT\", \".\", \"punct\", \".\", false, false], [1352, \"After\", \"after\", \"ADP\", \"IN\", \"prep\", \"Xxxxx\", true, true], [1358, \"graduating\", \"graduate\", \"VERB\", \"VBG\", \"pcomp\", \"xxxx\", true, false], [1368, \",\", \",\", \"PUNCT\", \",\", \"punct\", \",\", false, false], [1370, \"M\\u00e4stlin\", \"M\\u00e4stlin\", \"PROPN\", \"NNP\", \"nsubj\", \"Xxxxx\", true, false], [1378, \"spent\", \"spend\", \"VERB\", \"VBD\", \"ROOT\", \"xxxx\", true, false], [1384, \"the\", \"the\", \"DET\", \"DT\", \"det\", \"xxx\", true, true], [1388, \"following\", \"following\", \"ADJ\", \"JJ\", \"amod\", \"xxxx\", true, false], [1398, \"years\", \"year\", \"NOUN\", \"NNS\", \"dobj\", \"xxxx\", true, false], [1404, \"teaching\", \"teach\", \"VERB\", \"VBG\", \"xcomp\", \"xxxx\", true, false], [1413, \"in\", \"in\", \"ADP\", \"IN\", \"prep\", \"xx\", true, true], [1416, \"T\\u00fcbingen\", \"T\\u00fcbingen\", \"PROPN\", \"NNP\", \"pobj\", \"Xxxxx\", true, false], [1424, \",\", \",\", \"PUNCT\", \",\", \"punct\", \",\", false, false], [1426, \"and\", \"and\", \"CCONJ\", \"CC\", \"cc\", \"xxx\", true, true], [1430, \"at\", \"at\", \"ADP\", \"IN\", \"prep\", \"xx\", true, true], [1433, \"the\", \"the\", \"DET\", \"DT\", \"det\", \"xxx\", true, true], [1437, \"same\", \"same\", \"ADJ\", \"JJ\", \"amod\", \"xxxx\", true, true], [1442, \"time\", \"time\", \"NOUN\", \"NN\", \"pobj\", \"xxxx\", true, false], [1447, \"took\", \"take\", \"VERB\", \"VBD\", \"conj\", \"xxxx\", true, false], [1452, \"[\", \"[\", \"PUNCT\", \"-LRB-\", \"punct\", \"[\", false, false], [1453, \"3]:-\", \"3]:-\", \"NUM\", \"CD\", \"nummod\", \"d]:-\", false, false], [1457, \"\\\\n\", \"\\\\n\", \"SPACE\", \"_SP\", \"dobj\", \"\\\\n\", false, false], [1458, \"...\", \"...\", \"PUNCT\", \":\", \"punct\", \"...\", false, false], [1462, \"the\", \"the\", \"DET\", \"DT\", \"det\", \"xxx\", true, true], [1466, \"theological\", \"theological\", \"ADJ\", \"JJ\", \"amod\", \"xxxx\", true, false], [1478, \"programme\", \"programme\", \"NOUN\", \"NN\", \"dobj\", \"xxxx\", true, false], [1487, \",\", \",\", \"PUNCT\", \",\", \"punct\", \",\", false, false], [1489, \"because\", \"because\", \"SCONJ\", \"IN\", \"mark\", \"xxxx\", true, true], [1497, \"T\\u00fcbingen\", \"T\\u00fcbingen\", \"PROPN\", \"NNP\", \"compound\", \"Xxxxx\", true, false], [1506, \"University\", \"University\", \"PROPN\", \"NNP\", \"poss\", \"Xxxxx\", true, false], [1516, \"'s\", \"'s\", \"PART\", \"POS\", \"case\", \"'x\", false, true], [1519, \"primary\", \"primary\", \"ADJ\", \"JJ\", \"amod\", \"xxxx\", true, false], [1527, \"mission\", \"mission\", \"NOUN\", \"NN\", \"nsubj\", \"xxxx\", true, false], [1535, \"was\", \"be\", \"VERB\", \"VBD\", \"advcl\", \"xxx\", true, true], [1539, \"to\", \"to\", \"PART\", \"TO\", \"aux\", \"xx\", true, true], [1542, \"prepare\", \"prepare\", \"VERB\", \"VB\", \"xcomp\", \"xxxx\", true, false], [1550, \"young\", \"young\", \"ADJ\", \"JJ\", \"amod\", \"xxxx\", true, false], [1556, \"men\", \"man\", \"NOUN\", \"NNS\", \"dobj\", \"xxx\", true, false], [1560, \"for\", \"for\", \"ADP\", \"IN\", \"prep\", \"xxx\", true, true], [1564, \"the\", \"the\", \"DET\", \"DT\", \"det\", \"xxx\", true, true], [1568, \"Lutheran\", \"Lutheran\", \"PROPN\", \"NNP\", \"compound\", \"Xxxxx\", true, false], [1577, \"ministry\", \"ministry\", \"NOUN\", \"NN\", \"pobj\", \"xxxx\", true, false], [1585, \".\", \".\", \"PUNCT\", \".\", \"punct\", \".\", false, false], [1586, \"Then\", \"then\", \"ADV\", \"RB\", \"advmod\", \"Xxxx\", true, true], [1590, \",\", \",\", \"PUNCT\", \",\", \"punct\", \",\", false, false], [1592, \"in\", \"in\", \"ADP\", \"IN\", \"prep\", \"xx\", true, true], [1595, \"1576\", \"1576\", \"NUM\", \"CD\", \"pobj\", \"dddd\", false, false], [1599, \",\", \",\", \"PUNCT\", \",\", \"punct\", \",\", false, false], [1601, \"he\", \"he\", \"PRON\", \"PRP\", \"nsubjpass\", \"xx\", true, true], [1604, \"was\", \"be\", \"AUX\", \"VBD\", \"auxpass\", \"xxx\", true, true], [1608, \"sent\", \"send\", \"VERB\", \"VBN\", \"ROOT\", \"xxxx\", true, false], [1613, \"to\", \"to\", \"PART\", \"TO\", \"aux\", \"xx\", true, true], [1616, \"be\", \"be\", \"VERB\", \"VB\", \"advcl\", \"xx\", true, true], [1619, \"a\", \"a\", \"DET\", \"DT\", \"det\", \"x\", true, true], [1621, \"deacon\", \"deacon\", \"NOUN\", \"NN\", \"attr\", \"xxxx\", true, false], [1628, \"at\", \"at\", \"ADP\", \"IN\", \"prep\", \"xx\", true, true], [1631, \"the\", \"the\", \"DET\", \"DT\", \"det\", \"xxx\", true, true], [1635, \"Lutheran\", \"Lutheran\", \"PROPN\", \"NNP\", \"compound\", \"Xxxxx\", true, false], [1644, \"Church\", \"Church\", \"PROPN\", \"NNP\", \"pobj\", \"Xxxxx\", true, false], [1651, \"in\", \"in\", \"ADP\", \"IN\", \"prep\", \"xx\", true, true], [1654, \"Backnang\", \"Backnang\", \"PROPN\", \"NNP\", \"pobj\", \"Xxxxx\", true, false], [1662, \",\", \",\", \"PUNCT\", \",\", \"punct\", \",\", false, false], [1664, \"a\", \"a\", \"DET\", \"DT\", \"det\", \"x\", true, true], [1666, \"town\", \"town\", \"NOUN\", \"NN\", \"appos\", \"xxxx\", true, false], [1671, \"about\", \"about\", \"ADV\", \"RB\", \"advmod\", \"xxxx\", true, true], [1677, \"30\", \"30\", \"NUM\", \"CD\", \"nummod\", \"dd\", false, false], [1680, \"km\", \"km\", \"NOUN\", \"NN\", \"npadvmod\", \"xx\", true, false], [1683, \"northwest\", \"northwest\", \"ADV\", \"RB\", \"advmod\", \"xxxx\", true, false], [1693, \"of\", \"of\", \"ADP\", \"IN\", \"prep\", \"xx\", true, true], [1696, \"G\\u00f6ppingen\", \"G\\u00f6ppingen\", \"PROPN\", \"NNP\", \"pobj\", \"Xxxxx\", true, false], [1705, \".\", \".\", \"PUNCT\", \".\", \"punct\", \".\", false, false], [1707, \"He\", \"he\", \"PRON\", \"PRP\", \"nsubj\", \"Xx\", true, true], [1710, \"married\", \"marry\", \"VERB\", \"VBD\", \"ROOT\", \"xxxx\", true, false], [1718, \"Margarete\", \"Margarete\", \"PROPN\", \"NNP\", \"compound\", \"Xxxxx\", true, false], [1728, \"Gruuninger\", \"Gruuninger\", \"PROPN\", \"NNP\", \"dobj\", \"Xxxxx\", true, false], [1739, \"(\", \"(\", \"PUNCT\", \"-LRB-\", \"punct\", \"(\", false, false], [1740, \"1551\", \"1551\", \"NUM\", \"CD\", \"appos\", \"dddd\", false, false], [1744, \"-\", \"-\", \"SYM\", \"SYM\", \"punct\", \"-\", false, false], [1745, \"1588\", \"1588\", \"NUM\", \"CD\", \"prep\", \"dddd\", false, false], [1749, \")\", \")\", \"PUNCT\", \"-RRB-\", \"punct\", \")\", false, false], [1751, \"in\", \"in\", \"ADP\", \"IN\", \"prep\", \"xx\", true, true], [1754, \"April\", \"April\", \"PROPN\", \"NNP\", \"pobj\", \"Xxxxx\", true, false], [1760, \"1577\", \"1577\", \"NUM\", \"CD\", \"nummod\", \"dddd\", false, false], [1765, \"not\", \"not\", \"PART\", \"RB\", \"neg\", \"xxx\", true, true], [1769, \"long\", \"long\", \"ADV\", \"RB\", \"advmod\", \"xxxx\", true, false], [1774, \"after\", \"after\", \"ADP\", \"IN\", \"mark\", \"xxxx\", true, true], [1780, \"he\", \"he\", \"PRON\", \"PRP\", \"nsubj\", \"xx\", true, true], [1783, \"took\", \"take\", \"VERB\", \"VBD\", \"ccomp\", \"xxxx\", true, false], [1788, \"up\", \"up\", \"ADP\", \"RP\", \"prt\", \"xx\", true, true], [1791, \"the\", \"the\", \"DET\", \"DT\", \"det\", \"xxx\", true, true], [1795, \"position\", \"position\", \"NOUN\", \"NN\", \"dobj\", \"xxxx\", true, false], [1804, \"in\", \"in\", \"ADP\", \"IN\", \"prep\", \"xx\", true, true], [1807, \"Backnang\", \"Backnang\", \"PROPN\", \"NNP\", \"pobj\", \"Xxxxx\", true, false], [1815, \";\", \";\", \"PUNCT\", \":\", \"punct\", \";\", false, false], [1817, \"they\", \"they\", \"PRON\", \"PRP\", \"nsubj\", \"xxxx\", true, true], [1822, \"had\", \"have\", \"VERB\", \"VBD\", \"conj\", \"xxx\", true, true], [1826, \"three\", \"three\", \"NUM\", \"CD\", \"nummod\", \"xxxx\", true, true], [1832, \"sons\", \"son\", \"NOUN\", \"NNS\", \"dobj\", \"xxxx\", true, false], [1837, \"and\", \"and\", \"CCONJ\", \"CC\", \"cc\", \"xxx\", true, true], [1841, \"three\", \"three\", \"NUM\", \"CD\", \"nummod\", \"xxxx\", true, true], [1847, \"daughters\", \"daughter\", \"NOUN\", \"NNS\", \"conj\", \"xxxx\", true, false], [1857, \"but\", \"but\", \"CCONJ\", \"CC\", \"cc\", \"xxx\", true, true], [1861, \"Margarete\", \"Margarete\", \"PROPN\", \"NNP\", \"nsubj\", \"Xxxxx\", true, false], [1871, \"died\", \"die\", \"VERB\", \"VBD\", \"conj\", \"xxxx\", true, false], [1876, \"due\", \"due\", \"ADP\", \"IN\", \"prep\", \"xxx\", true, true], [1880, \"to\", \"to\", \"ADP\", \"IN\", \"pcomp\", \"xx\", true, true], [1883, \"complications\", \"complication\", \"NOUN\", \"NNS\", \"pobj\", \"xxxx\", true, false], [1897, \"with\", \"with\", \"ADP\", \"IN\", \"prep\", \"xxxx\", true, true], [1902, \"the\", \"the\", \"DET\", \"DT\", \"det\", \"xxx\", true, true], [1906, \"birth\", \"birth\", \"NOUN\", \"NN\", \"pobj\", \"xxxx\", true, false], [1912, \"of\", \"of\", \"ADP\", \"IN\", \"prep\", \"xx\", true, true], [1915, \"their\", \"their\", \"PRON\", \"PRP$\", \"poss\", \"xxxx\", true, true], [1921, \"sixth\", \"sixth\", \"ADJ\", \"JJ\", \"amod\", \"xxxx\", true, false], [1927, \"child\", \"child\", \"NOUN\", \"NN\", \"pobj\", \"xxxx\", true, false], [1932, \".\", \".\", \"PUNCT\", \".\", \"punct\", \".\", false, false], [1934, \"M\\u00e4stlin\", \"M\\u00e4stlin\", \"PROPN\", \"NNP\", \"nsubj\", \"Xxxxx\", true, false], [1942, \"then\", \"then\", \"ADV\", \"RB\", \"advmod\", \"xxxx\", true, true], [1947, \"married\", \"marry\", \"VERB\", \"VBD\", \"ccomp\", \"xxxx\", true, false], [1955, \"Margarete\", \"Margarete\", \"PROPN\", \"NNP\", \"compound\", \"Xxxxx\", true, false], [1965, \"Burkhardt\", \"Burkhardt\", \"PROPN\", \"NNP\", \"dobj\", \"Xxxxx\", true, false], [1974, \",\", \",\", \"PUNCT\", \",\", \"punct\", \",\", false, false], [1976, \"daughter\", \"daughter\", \"NOUN\", \"NN\", \"appos\", \"xxxx\", true, false], [1985, \"of\", \"of\", \"ADP\", \"IN\", \"prep\", \"xx\", true, true], [1988, \"a\", \"a\", \"DET\", \"DT\", \"det\", \"x\", true, true], [1990, \"professor\", \"professor\", \"NOUN\", \"NN\", \"pobj\", \"xxxx\", true, false], [2000, \"at\", \"at\", \"ADP\", \"IN\", \"prep\", \"xx\", true, true], [2003, \"T\\u00fcbingen\", \"T\\u00fcbingen\", \"PROPN\", \"NNP\", \"pobj\", \"Xxxxx\", true, false], [2011, \";\", \";\", \"PUNCT\", \":\", \"punct\", \";\", false, false], [2013, \"they\", \"they\", \"PRON\", \"PRP\", \"nsubj\", \"xxxx\", true, true], [2018, \"had\", \"have\", \"VERB\", \"VBD\", \"ROOT\", \"xxx\", true, true], [2022, \"eight\", \"eight\", \"NUM\", \"CD\", \"nummod\", \"xxxx\", true, true], [2028, \"children\", \"child\", \"NOUN\", \"NNS\", \"dobj\", \"xxxx\", true, false], [2036, \".\", \".\", \"PUNCT\", \".\", \"punct\", \".\", false, false], [2037, \"\\\\n\\\\n\", \"\\\\n\\\\n\", \"SPACE\", \"_SP\", \"ROOT\", \"\\\\n\\\\n\", false, false], [2039, \"M\\u00e4stlin\", \"M\\u00e4stlin\", \"PROPN\", \"NNP\", \"nsubj\", \"Xxxxx\", true, false], [2047, \"is\", \"be\", \"AUX\", \"VBZ\", \"ROOT\", \"xx\", true, true], [2050, \"famous\", \"famous\", \"ADJ\", \"JJ\", \"acomp\", \"xxxx\", true, false], [2057, \"for\", \"for\", \"ADP\", \"IN\", \"prep\", \"xxx\", true, true], [2061, \"his\", \"his\", \"PRON\", \"PRP$\", \"poss\", \"xxx\", true, true], [2065, \"excellent\", \"excellent\", \"ADJ\", \"JJ\", \"amod\", \"xxxx\", true, false], [2074, \",\", \",\", \"PUNCT\", \",\", \"punct\", \",\", false, false], [2076, \"very\", \"very\", \"ADV\", \"RB\", \"advmod\", \"xxxx\", true, true], [2081, \"accurate\", \"accurate\", \"ADJ\", \"JJ\", \"amod\", \"xxxx\", true, false], [2089, \",\", \",\", \"PUNCT\", \",\", \"punct\", \",\", false, false], [2091, \"observations\", \"observation\", \"NOUN\", \"NNS\", \"pobj\", \"xxxx\", true, false], [2104, \"of\", \"of\", \"ADP\", \"IN\", \"prep\", \"xx\", true, true], [2107, \"the\", \"the\", \"DET\", \"DT\", \"det\", \"xxx\", true, true], [2111, \"comet\", \"comet\", \"NOUN\", \"NN\", \"pobj\", \"xxxx\", true, false], [2117, \"of\", \"of\", \"ADP\", \"IN\", \"prep\", \"xx\", true, true], [2120, \"1577\", \"1577\", \"NUM\", \"CD\", \"pobj\", \"dddd\", false, false], [2124, \",\", \",\", \"PUNCT\", \",\", \"punct\", \",\", false, false], [2126, \"observed\", \"observe\", \"VERB\", \"VBD\", \"dep\", \"xxxx\", true, false], [2135, \"while\", \"while\", \"SCONJ\", \"IN\", \"mark\", \"xxxx\", true, true], [2141, \"he\", \"he\", \"PRON\", \"PRP\", \"nsubj\", \"xx\", true, true], [2144, \"was\", \"be\", \"VERB\", \"VBD\", \"advcl\", \"xxx\", true, true], [2148, \"in\", \"in\", \"ADP\", \"IN\", \"prep\", \"xx\", true, true], [2151, \"Backnang\", \"Backnang\", \"PROPN\", \"NNP\", \"pobj\", \"Xxxxx\", true, false], [2159, \",\", \",\", \"PUNCT\", \",\", \"punct\", \",\", false, false], [2161, \"and\", \"and\", \"CCONJ\", \"CC\", \"cc\", \"xxx\", true, true], [2165, \"published\", \"publish\", \"VERB\", \"VBN\", \"conj\", \"xxxx\", true, false], [2175, \"in\", \"in\", \"ADP\", \"IN\", \"prep\", \"xx\", true, true], [2178, \"T\\u00fcbingen\", \"T\\u00fcbingen\", \"PROPN\", \"NNP\", \"pobj\", \"Xxxxx\", true, false], [2187, \"in\", \"in\", \"ADP\", \"IN\", \"prep\", \"xx\", true, true], [2190, \"1578\", \"1578\", \"NUM\", \"CD\", \"pobj\", \"dddd\", false, false], [2195, \"as\", \"as\", \"ADP\", \"IN\", \"prep\", \"xx\", true, true], [2198, \"Observatio\", \"Observatio\", \"PROPN\", \"NNP\", \"nmod\", \"Xxxxx\", true, false], [2209, \"et\", \"et\", \"PROPN\", \"NNP\", \"compound\", \"xx\", true, false], [2212, \"demonstratio\", \"demonstratio\", \"PROPN\", \"NNP\", \"compound\", \"xxxx\", true, false], [2225, \"cometae\", \"cometae\", \"PROPN\", \"NNP\", \"compound\", \"xxxx\", true, false], [2233, \"aetherae\", \"aetherae\", \"PROPN\", \"NNP\", \"compound\", \"xxxx\", true, false], [2242, \"qui\", \"qui\", \"X\", \"FW\", \"compound\", \"xxx\", true, false], [2246, \"anno\", \"anno\", \"PROPN\", \"NNP\", \"pobj\", \"xxxx\", true, false], [2251, \"1577\", \"1577\", \"NUM\", \"CD\", \"nummod\", \"dddd\", false, false], [2256, \"et\", \"et\", \"PROPN\", \"NNP\", \"nmod\", \"xx\", true, false], [2259, \"1578\", \"1578\", \"NUM\", \"CD\", \"nummod\", \"dddd\", false, false], [2264, \"constitutus\", \"constitutus\", \"PROPN\", \"NNP\", \"appos\", \"xxxx\", true, false], [2276, \"in\", \"in\", \"ADP\", \"IN\", \"prep\", \"xx\", true, true], [2279, \"sphaera\", \"sphaera\", \"NOUN\", \"NN\", \"compound\", \"xxxx\", true, false], [2287, \"Veneris\", \"Veneris\", \"PROPN\", \"NNP\", \"compound\", \"Xxxxx\", true, false], [2295, \"apparuit\", \"apparuit\", \"NOUN\", \"NN\", \"compound\", \"xxxx\", true, false], [2304, \"cum\", \"cum\", \"NOUN\", \"NN\", \"compound\", \"xxx\", true, false], [2308, \"admirandius\", \"admirandius\", \"PROPN\", \"NNP\", \"compound\", \"xxxx\", true, false], [2320, \"eius\", \"eius\", \"PROPN\", \"NNP\", \"compound\", \"xxxx\", true, false], [2325, \"passionibus\", \"passionibus\", \"PROPN\", \"NNP\", \"compound\", \"xxxx\", true, false], [2337, \"varietate\", \"varietate\", \"PROPN\", \"NNP\", \"npadvmod\", \"xxxx\", true, false], [2347, \"scilicet\", \"scilicet\", \"PROPN\", \"NNP\", \"compound\", \"xxxx\", true, false], [2356, \"motus\", \"motus\", \"PROPN\", \"NNP\", \"compound\", \"xxxx\", true, false], [2362, \"loco\", \"loco\", \"PROPN\", \"NNP\", \"compound\", \"xxxx\", true, false], [2367, \"orbe\", \"orbe\", \"PROPN\", \"NNP\", \"compound\", \"xxxx\", true, false], [2372, \"distantia\", \"distantia\", \"PROPN\", \"NNP\", \"dobj\", \"xxxx\", true, false], [2382, \"a\", \"a\", \"DET\", \"DT\", \"det\", \"x\", true, true], [2384, \"terro\", \"terro\", \"PROPN\", \"NNP\", \"compound\", \"xxxx\", true, false], [2390, \"centro\", \"centro\", \"X\", \"FW\", \"compound\", \"xxxx\", true, false], [2397, \"etc\", \"etc\", \"X\", \"FW\", \"dobj\", \"xxx\", true, false], [2400, \".\", \".\", \"PUNCT\", \".\", \"punct\", \".\", false, false], [2402, \"adhibitis\", \"adhibitis\", \"PROPN\", \"NNP\", \"compound\", \"xxxx\", true, false], [2412, \"demonstrationibus\", \"demonstrationibus\", \"PROPN\", \"NNP\", \"compound\", \"xxxx\", true, false], [2430, \"geometricis\", \"geometricis\", \"PROPN\", \"NNP\", \"ROOT\", \"xxxx\", true, false], [2442, \"et\", \"et\", \"X\", \"FW\", \"nmod\", \"xx\", true, false], [2445, \"calculo\", \"calculo\", \"PROPN\", \"NNP\", \"compound\", \"xxxx\", true, false], [2453, \"arithmetico\", \"arithmetico\", \"PROPN\", \"NNP\", \"appos\", \"xxxx\", true, false], [2465, \"cuius\", \"cuius\", \"PROPN\", \"NNP\", \"nmod\", \"xxxx\", true, false], [2471, \"modi\", \"modi\", \"X\", \"FW\", \"nmod\", \"xxxx\", true, false], [2476, \"de\", \"de\", \"X\", \"FW\", \"nmod\", \"xx\", true, false], [2479, \"alio\", \"alio\", \"PROPN\", \"NNP\", \"appos\", \"xxxx\", true, false], [2484, \"quoquam\", \"quoquam\", \"PROPN\", \"NNP\", \"compound\", \"xxxx\", true, false], [2492, \"cometa\", \"cometa\", \"PROPN\", \"NNP\", \"compound\", \"xxxx\", true, false], [2499, \"nunquam\", \"nunquam\", \"PROPN\", \"NNP\", \"compound\", \"xxxx\", true, false], [2507, \"visa\", \"visa\", \"PROPN\", \"NNP\", \"compound\", \"xxxx\", true, false], [2512, \"est\", \"est\", \"X\", \"FW\", \"appos\", \"xxx\", true, false], [2516, \"(\", \"(\", \"PUNCT\", \"-LRB-\", \"punct\", \"(\", false, false], [2517, \"Observations\", \"observation\", \"NOUN\", \"NNS\", \"appos\", \"Xxxxx\", true, false], [2530, \"and\", \"and\", \"CCONJ\", \"CC\", \"cc\", \"xxx\", true, true], [2534, \"demonstrations\", \"demonstration\", \"NOUN\", \"NNS\", \"conj\", \"xxxx\", true, false], [2549, \"of\", \"of\", \"ADP\", \"IN\", \"prep\", \"xx\", true, true], [2552, \"the\", \"the\", \"DET\", \"DT\", \"det\", \"xxx\", true, true], [2556, \"ethereal\", \"ethereal\", \"ADJ\", \"JJ\", \"amod\", \"xxxx\", true, false], [2565, \"comets\", \"comet\", \"NOUN\", \"NNS\", \"pobj\", \"xxxx\", true, false], [2572, \"of\", \"of\", \"ADP\", \"IN\", \"prep\", \"xx\", true, true], [2575, \"the\", \"the\", \"DET\", \"DT\", \"det\", \"xxx\", true, true], [2579, \"years\", \"year\", \"NOUN\", \"NNS\", \"pobj\", \"xxxx\", true, false], [2585, \"1577\", \"1577\", \"NUM\", \"CD\", \"conj\", \"dddd\", false, false], [2590, \"and\", \"and\", \"CCONJ\", \"CC\", \"cc\", \"xxx\", true, true], [2594, \"1578\", \"1578\", \"NUM\", \"CD\", \"conj\", \"dddd\", false, false], [2598, \")\", \")\", \"PUNCT\", \"-RRB-\", \"punct\", \")\", false, false], [2599, \".\", \".\", \"PUNCT\", \".\", \"punct\", \".\", false, false], [2601, \"We\", \"we\", \"PRON\", \"PRP\", \"nsubj\", \"Xx\", true, true], [2604, \"discuss\", \"discuss\", \"VERB\", \"VBP\", \"ROOT\", \"xxxx\", true, false], [2612, \"this\", \"this\", \"DET\", \"DT\", \"det\", \"xxxx\", true, true], [2617, \"achievement\", \"achievement\", \"NOUN\", \"NN\", \"dobj\", \"xxxx\", true, false], [2629, \"in\", \"in\", \"ADP\", \"IN\", \"prep\", \"xx\", true, true], [2632, \"more\", \"more\", \"ADJ\", \"JJR\", \"amod\", \"xxxx\", true, true], [2637, \"detail\", \"detail\", \"NOUN\", \"NN\", \"pobj\", \"xxxx\", true, false], [2644, \"below\", \"below\", \"ADV\", \"RB\", \"advmod\", \"xxxx\", true, true], [2649, \".\", \".\", \"PUNCT\", \".\", \"punct\", \".\", false, false], [2651, \"He\", \"he\", \"PRON\", \"PRP\", \"nsubj\", \"Xx\", true, true], [2654, \"remained\", \"remain\", \"VERB\", \"VBD\", \"ROOT\", \"xxxx\", true, false], [2663, \"in\", \"in\", \"ADP\", \"IN\", \"prep\", \"xx\", true, true], [2666, \"Backnang\", \"Backnang\", \"PROPN\", \"NNP\", \"pobj\", \"Xxxxx\", true, false], [2675, \"for\", \"for\", \"ADP\", \"IN\", \"prep\", \"xxx\", true, true], [2679, \"four\", \"four\", \"NUM\", \"CD\", \"nummod\", \"xxxx\", true, true], [2684, \"years\", \"year\", \"NOUN\", \"NNS\", \"pobj\", \"xxxx\", true, false], [2689, \",\", \",\", \"PUNCT\", \",\", \"punct\", \",\", false, false], [2691, \"then\", \"then\", \"ADV\", \"RB\", \"advmod\", \"xxxx\", true, true], [2696, \"was\", \"be\", \"AUX\", \"VBD\", \"auxpass\", \"xxx\", true, true], [2700, \"appointed\", \"appoint\", \"VERB\", \"VBN\", \"advcl\", \"xxxx\", true, false], [2710, \"as\", \"as\", \"ADP\", \"IN\", \"prep\", \"xx\", true, true], [2713, \"professor\", \"professor\", \"NOUN\", \"NN\", \"pobj\", \"xxxx\", true, false], [2723, \"of\", \"of\", \"ADP\", \"IN\", \"prep\", \"xx\", true, true], [2726, \"mathematics\", \"mathematic\", \"NOUN\", \"NNS\", \"pobj\", \"xxxx\", true, false], [2738, \"at\", \"at\", \"ADP\", \"IN\", \"prep\", \"xx\", true, true], [2741, \"the\", \"the\", \"DET\", \"DT\", \"det\", \"xxx\", true, true], [2745, \"University\", \"University\", \"PROPN\", \"NNP\", \"pobj\", \"Xxxxx\", true, false], [2756, \"of\", \"of\", \"ADP\", \"IN\", \"prep\", \"xx\", true, true], [2759, \"Heidelberg\", \"Heidelberg\", \"PROPN\", \"NNP\", \"pobj\", \"Xxxxx\", true, false], [2770, \"in\", \"in\", \"ADP\", \"IN\", \"prep\", \"xx\", true, true], [2773, \"1580\", \"1580\", \"NUM\", \"CD\", \"pobj\", \"dddd\", false, false], [2777, \".\", \".\", \"PUNCT\", \".\", \"punct\", \".\", false, false], [2779, \"There\", \"there\", \"ADV\", \"RB\", \"advmod\", \"Xxxxx\", true, true], [2785, \"he\", \"he\", \"PRON\", \"PRP\", \"nsubj\", \"xx\", true, true], [2788, \"published\", \"publish\", \"VERB\", \"VBD\", \"ccomp\", \"xxxx\", true, false], [2798, \"the\", \"the\", \"DET\", \"DT\", \"det\", \"xxx\", true, true], [2802, \"first\", \"first\", \"ADJ\", \"JJ\", \"amod\", \"xxxx\", true, true], [2808, \"edition\", \"edition\", \"NOUN\", \"NN\", \"dobj\", \"xxxx\", true, false], [2816, \"of\", \"of\", \"ADP\", \"IN\", \"prep\", \"xx\", true, true], [2819, \"his\", \"his\", \"PRON\", \"PRP$\", \"poss\", \"xxx\", true, true], [2823, \"famous\", \"famous\", \"ADJ\", \"JJ\", \"amod\", \"xxxx\", true, false], [2830, \"astronomy\", \"astronomy\", \"NOUN\", \"NN\", \"compound\", \"xxxx\", true, false], [2840, \"textbook\", \"textbook\", \"NOUN\", \"NN\", \"pobj\", \"xxxx\", true, false], [2849, \"Epitome\", \"epitome\", \"ADJ\", \"JJ\", \"compound\", \"Xxxxx\", true, false], [2857, \"astronomiae\", \"astronomiae\", \"NOUN\", \"NN\", \"appos\", \"xxxx\", true, false], [2869, \"(\", \"(\", \"PUNCT\", \"-LRB-\", \"punct\", \"(\", false, false], [2870, \"1582\", \"1582\", \"NUM\", \"CD\", \"appos\", \"dddd\", false, false], [2874, \")\", \")\", \"PUNCT\", \"-RRB-\", \"punct\", \")\", false, false], [2876, \"-\", \"-\", \"PUNCT\", \":\", \"punct\", \"-\", false, false], [2878, \"he\", \"he\", \"PRON\", \"PRP\", \"nsubj\", \"xx\", true, true], [2881, \"published\", \"publish\", \"VERB\", \"VBD\", \"ROOT\", \"xxxx\", true, false], [2891, \"six\", \"six\", \"NUM\", \"CD\", \"nummod\", \"xxx\", true, true], [2895, \"further\", \"further\", \"ADJ\", \"JJ\", \"amod\", \"xxxx\", true, true], [2903, \"editions\", \"edition\", \"NOUN\", \"NNS\", \"dobj\", \"xxxx\", true, false], [2912, \"of\", \"of\", \"ADP\", \"IN\", \"prep\", \"xx\", true, true], [2915, \"this\", \"this\", \"DET\", \"DT\", \"det\", \"xxxx\", true, true], [2920, \"popular\", \"popular\", \"ADJ\", \"JJ\", \"amod\", \"xxxx\", true, false], [2928, \"work\", \"work\", \"NOUN\", \"NN\", \"pobj\", \"xxxx\", true, false], [2933, \"during\", \"during\", \"ADP\", \"IN\", \"prep\", \"xxxx\", true, true], [2940, \"his\", \"his\", \"PRON\", \"PRP$\", \"poss\", \"xxx\", true, true], [2944, \"lifetime\", \"lifetime\", \"NOUN\", \"NN\", \"pobj\", \"xxxx\", true, false], [2952, \".\", \".\", \"PUNCT\", \".\", \"punct\", \".\", false, false], [2954, \"Despite\", \"despite\", \"SCONJ\", \"IN\", \"prep\", \"Xxxxx\", true, false], [2962, \"his\", \"his\", \"PRON\", \"PRP$\", \"poss\", \"xxx\", true, true], [2966, \"commitment\", \"commitment\", \"NOUN\", \"NN\", \"pobj\", \"xxxx\", true, false], [2977, \"to\", \"to\", \"ADP\", \"IN\", \"prep\", \"xx\", true, true], [2980, \"the\", \"the\", \"DET\", \"DT\", \"det\", \"xxx\", true, true], [2984, \"views\", \"view\", \"NOUN\", \"NNS\", \"pobj\", \"xxxx\", true, false], [2990, \"of\", \"of\", \"ADP\", \"IN\", \"prep\", \"xx\", true, true], [2993, \"Copernicus\", \"Copernicus\", \"PROPN\", \"NNP\", \"pobj\", \"Xxxxx\", true, false], [3004, \"(\", \"(\", \"PUNCT\", \"-LRB-\", \"punct\", \"(\", false, false], [3005, \"which\", \"which\", \"DET\", \"WDT\", \"dobj\", \"xxxx\", true, true], [3011, \"we\", \"we\", \"PRON\", \"PRP\", \"nsubj\", \"xx\", true, true], [3014, \"state\", \"state\", \"VERB\", \"VBP\", \"relcl\", \"xxxx\", true, false], [3020, \"below\", \"below\", \"ADV\", \"RB\", \"advmod\", \"xxxx\", true, true], [3026, \"in\", \"in\", \"ADP\", \"IN\", \"prep\", \"xx\", true, true], [3029, \"his\", \"his\", \"PRON\", \"PRP$\", \"poss\", \"xxx\", true, true], [3033, \"own\", \"own\", \"ADJ\", \"JJ\", \"amod\", \"xxx\", true, true], [3037, \"words\", \"word\", \"NOUN\", \"NNS\", \"pobj\", \"xxxx\", true, false], [3042, \")\", \")\", \"PUNCT\", \"-RRB-\", \"punct\", \")\", false, false], [3044, \"this\", \"this\", \"DET\", \"DT\", \"det\", \"xxxx\", true, true], [3049, \"teaching\", \"teaching\", \"NOUN\", \"NN\", \"compound\", \"xxxx\", true, false], [3058, \"textbook\", \"textbook\", \"NOUN\", \"NN\", \"nsubjpass\", \"xxxx\", true, false], [3067, \"was\", \"be\", \"AUX\", \"VBD\", \"auxpass\", \"xxx\", true, true], [3071, \"written\", \"write\", \"VERB\", \"VBN\", \"ROOT\", \"xxxx\", true, false], [7201, \"he\", \"he\", \"PRON\", \"PRP\", \"nsubj\", \"xx\", true, true], [7204, \"was\", \"be\", \"VERB\", \"VBD\", \"relcl\", \"xxx\", true, true], [7208, \"able\", \"able\", \"ADJ\", \"JJ\", \"acomp\", \"xxxx\", true, false], [7213, \"to\", \"to\", \"PART\", \"TO\", \"aux\", \"xx\", true, true], [7216, \"observe\", \"observe\", \"VERB\", \"VB\", \"xcomp\", \"xxxx\", true, false], [7224, \"sunspots\", \"sunspot\", \"NOUN\", \"NNS\", \"dobj\", \"xxxx\", true, false], [7233, \"and\", \"and\", \"CCONJ\", \"CC\", \"cc\", \"xxx\", true, true], [7237, \"the\", \"the\", \"DET\", \"DT\", \"det\", \"xxx\", true, true], [7241, \"moons\", \"moon\", \"NOUN\", \"NNS\", \"conj\", \"xxxx\", true, false], [7247, \"of\", \"of\", \"ADP\", \"IN\", \"prep\", \"xx\", true, true], [7250, \"Jupiter\", \"Jupiter\", \"PROPN\", \"NNP\", \"pobj\", \"Xxxxx\", true, false], [7257, \".\", \".\", \"PUNCT\", \".\", \"punct\", \".\", false, false], [7259, \"He\", \"he\", \"PRON\", \"PRP\", \"nsubj\", \"Xx\", true, true], [7262, \"was\", \"be\", \"AUX\", \"VBD\", \"aux\", \"xxx\", true, true], [7266, \"still\", \"still\", \"ADV\", \"RB\", \"advmod\", \"xxxx\", true, true], [7272, \"making\", \"make\", \"VERB\", \"VBG\", \"ROOT\", \"xxxx\", true, false], [7279, \"accurate\", \"accurate\", \"ADJ\", \"JJ\", \"amod\", \"xxxx\", true, false], [7288, \"observations\", \"observation\", \"NOUN\", \"NNS\", \"dobj\", \"xxxx\", true, false], [7301, \"at\", \"at\", \"ADP\", \"IN\", \"prep\", \"xx\", true, true], [7304, \"the\", \"the\", \"DET\", \"DT\", \"det\", \"xxx\", true, true], [7308, \"age\", \"age\", \"NOUN\", \"NN\", \"pobj\", \"xxx\", true, false], [7312, \"of\", \"of\", \"ADP\", \"IN\", \"prep\", \"xx\", true, true], [7315, \"78\", \"78\", \"NUM\", \"CD\", \"pobj\", \"dd\", false, false], [7318, \"when\", \"when\", \"ADV\", \"WRB\", \"advmod\", \"xxxx\", true, true], [7323, \"he\", \"he\", \"PRON\", \"PRP\", \"nsubj\", \"xx\", true, true], [7326, \"observed\", \"observe\", \"VERB\", \"VBD\", \"advcl\", \"xxxx\", true, false], [7335, \"the\", \"the\", \"DET\", \"DT\", \"det\", \"xxx\", true, true], [7339, \"lunar\", \"lunar\", \"ADJ\", \"JJ\", \"amod\", \"xxxx\", true, false], [7345, \"eclipse\", \"eclipse\", \"NOUN\", \"NN\", \"dobj\", \"xxxx\", true, false], [7353, \"of\", \"of\", \"ADP\", \"IN\", \"prep\", \"xx\", true, true], [7356, \"1628\", \"1628\", \"NUM\", \"CD\", \"pobj\", \"dddd\", false, false], [7360, \".\", \".\", \"PUNCT\", \".\", \"punct\", \".\", false, false], [7361, \"\\\\n\\\\n\", \"\\\\n\\\\n\", \"SPACE\", \"_SP\", \"npadvmod\", \"\\\\n\\\\n\", false, false], [7363, \"As\", \"as\", \"ADP\", \"IN\", \"mark\", \"Xx\", true, true], [7366, \"we\", \"we\", \"PRON\", \"PRP\", \"nsubj\", \"xx\", true, true], [7369, \"mentioned\", \"mention\", \"VERB\", \"VBD\", \"advcl\", \"xxxx\", true, false], [7379, \"above\", \"above\", \"ADP\", \"IN\", \"prep\", \"xxxx\", true, true], [7385, \"M\\u00e4stlin\", \"M\\u00e4stlin\", \"PROPN\", \"NNP\", \"pobj\", \"Xxxxx\", true, false], [7393, \"acquired\", \"acquire\", \"VERB\", \"VBD\", \"ROOT\", \"xxxx\", true, false], [7402, \"a\", \"a\", \"DET\", \"DT\", \"det\", \"x\", true, true], [7404, \"copy\", \"copy\", \"NOUN\", \"NN\", \"dobj\", \"xxxx\", true, false], [7409, \"of\", \"of\", \"ADP\", \"IN\", \"prep\", \"xx\", true, true], [7412, \"Copernicus\", \"Copernicus\", \"PROPN\", \"NNP\", \"poss\", \"Xxxxx\", true, false], [7422, \"'s\", \"'s\", \"PART\", \"POS\", \"case\", \"'x\", false, true], [7425, \"De\", \"De\", \"PROPN\", \"NNP\", \"compound\", \"Xx\", true, false], [7428, \"revolutionibus\", \"revolutionibus\", \"NOUN\", \"NN\", \"pobj\", \"xxxx\", true, false], [7443, \"in\", \"in\", \"ADP\", \"IN\", \"prep\", \"xx\", true, true], [7446, \"1570\", \"1570\", \"NUM\", \"CD\", \"pobj\", \"dddd\", false, false], [7451, \"and\", \"and\", \"CCONJ\", \"CC\", \"cc\", \"xxx\", true, true], [7455, \"he\", \"he\", \"PRON\", \"PRP\", \"nsubj\", \"xx\", true, true], [7458, \"wrote\", \"write\", \"VERB\", \"VBD\", \"conj\", \"xxxx\", true, false], [7464, \"extensive\", \"extensive\", \"ADJ\", \"JJ\", \"amod\", \"xxxx\", true, false], [7474, \"notes\", \"note\", \"NOUN\", \"NNS\", \"dobj\", \"xxxx\", true, false], [7480, \"near\", \"near\", \"SCONJ\", \"IN\", \"prep\", \"xxxx\", true, false], [7485, \"the\", \"the\", \"DET\", \"DT\", \"det\", \"xxx\", true, true], [7489, \"beginning\", \"beginning\", \"NOUN\", \"NN\", \"pobj\", \"xxxx\", true, false], [7499, \"of\", \"of\", \"ADP\", \"IN\", \"prep\", \"xx\", true, true], [7502, \"the\", \"the\", \"DET\", \"DT\", \"det\", \"xxx\", true, true], [7506, \"book\", \"book\", \"NOUN\", \"NN\", \"pobj\", \"xxxx\", true, false], [7510, \".\", \".\", \"PUNCT\", \".\", \"punct\", \".\", false, false], [7512, \"These\", \"these\", \"DET\", \"DT\", \"nsubj\", \"Xxxxx\", true, true], [7518, \"give\", \"give\", \"VERB\", \"VBP\", \"ROOT\", \"xxxx\", true, true], [7523, \"much\", \"much\", \"ADJ\", \"JJ\", \"amod\", \"xxxx\", true, true], [7528, \"insight\", \"insight\", \"NOUN\", \"NN\", \"dobj\", \"xxxx\", true, false], [7536, \"into\", \"into\", \"ADP\", \"IN\", \"prep\", \"xxxx\", true, true], [7541, \"his\", \"his\", \"PRON\", \"PRP$\", \"poss\", \"xxx\", true, true], [7545, \"views\", \"view\", \"NOUN\", \"NNS\", \"pobj\", \"xxxx\", true, false], [7551, \"on\", \"on\", \"ADP\", \"IN\", \"prep\", \"xx\", true, true], [7554, \"Copernicus\", \"Copernicus\", \"PROPN\", \"NNP\", \"pobj\", \"Xxxxx\", true, false], [7565, \"and\", \"and\", \"CCONJ\", \"CC\", \"cc\", \"xxx\", true, true], [7569, \"we\", \"we\", \"PRON\", \"PRP\", \"nsubj\", \"xx\", true, true], [7572, \"quote\", \"quote\", \"VERB\", \"VBP\", \"conj\", \"xxxx\", true, false], [7578, \"the\", \"the\", \"DET\", \"DT\", \"det\", \"xxx\", true, true], [7582, \"notes\", \"note\", \"NOUN\", \"NNS\", \"dobj\", \"xxxx\", true, false], [7588, \"using\", \"use\", \"VERB\", \"VBG\", \"acl\", \"xxxx\", true, true], [7594, \"Gingerich\", \"Gingerich\", \"PROPN\", \"NNP\", \"poss\", \"Xxxxx\", true, false], [7603, \"'s\", \"'s\", \"PART\", \"POS\", \"case\", \"'x\", false, true], [7606, \"translations\", \"translation\", \"NOUN\", \"NNS\", \"dobj\", \"xxxx\", true, false], [7618, \".\", \".\", \"PUNCT\", \".\", \"punct\", \".\", false, false], [7620, \"M\\u00e4stlin\", \"M\\u00e4stlin\", \"PROPN\", \"NNP\", \"nsubj\", \"Xxxxx\", true, false], [7628, \"wrote\", \"write\", \"VERB\", \"VBD\", \"ROOT\", \"xxxx\", true, false], [7634, \"that\", \"that\", \"SCONJ\", \"IN\", \"mark\", \"xxxx\", true, true], [7639, \"[\", \"[\", \"PUNCT\", \"-LRB-\", \"punct\", \"[\", false, false], [7640, \"3]:-\", \"3]:-\", \"NUM\", \"CD\", \"compound\", \"d]:-\", false, false], [7644, \"\\\\n\", \"\\\\n\", \"SPACE\", \"_SP\", \"nsubj\", \"\\\\n\", false, false], [7645, \"...\", \"...\", \"PUNCT\", \":\", \"punct\", \"...\", false, false], [7649, \"the\", \"the\", \"DET\", \"DT\", \"det\", \"xxx\", true, true], [7653, \"arrangement\", \"arrangement\", \"NOUN\", \"NN\", \"nsubj\", \"xxxx\", true, false], [7665, \"presented\", \"present\", \"VERB\", \"VBN\", \"acl\", \"xxxx\", true, false], [7675, \"in\", \"in\", \"ADP\", \"IN\", \"prep\", \"xx\", true, true], [7678, \"this\", \"this\", \"DET\", \"DT\", \"det\", \"xxxx\", true, true], [7683, \"book\", \"book\", \"NOUN\", \"NN\", \"pobj\", \"xxxx\", true, false], [7688, \"is\", \"be\", \"AUX\", \"VBZ\", \"ccomp\", \"xx\", true, true], [7691, \"the\", \"the\", \"DET\", \"DT\", \"det\", \"xxx\", true, true], [7695, \"sort\", \"sort\", \"NOUN\", \"NN\", \"attr\", \"xxxx\", true, false], [7700, \"of\", \"of\", \"ADP\", \"IN\", \"prep\", \"xx\", true, true], [7703, \"structure\", \"structure\", \"NOUN\", \"NN\", \"pobj\", \"xxxx\", true, false], [7713, \"in\", \"in\", \"ADP\", \"IN\", \"prep\", \"xx\", true, true], [7716, \"which\", \"which\", \"DET\", \"WDT\", \"pobj\", \"xxxx\", true, true], [7722, \"all\", \"all\", \"DET\", \"PDT\", \"predet\", \"xxx\", true, true], [7726, \"the\", \"the\", \"DET\", \"DT\", \"det\", \"xxx\", true, true], [7730, \"sidereal\", \"sidereal\", \"ADJ\", \"JJ\", \"amod\", \"xxxx\", true, false], [7739, \"motions\", \"motion\", \"NOUN\", \"NNS\", \"nsubjpass\", \"xxxx\", true, false], [7747, \"and\", \"and\", \"CCONJ\", \"CC\", \"cc\", \"xxx\", true, true], [7751, \"phenomena\", \"phenomenon\", \"NOUN\", \"NNS\", \"conj\", \"xxxx\", true, false], [7761, \"are\", \"be\", \"AUX\", \"VBP\", \"auxpass\", \"xxx\", true, true], [7765, \"explained\", \"explain\", \"VERB\", \"VBN\", \"relcl\", \"xxxx\", true, false], [7775, \"very\", \"very\", \"ADV\", \"RB\", \"advmod\", \"xxxx\", true, true], [7780, \"exactly\", \"exactly\", \"ADV\", \"RB\", \"advmod\", \"xxxx\", true, false], [7787, \".\", \".\", \"PUNCT\", \".\", \"punct\", \".\", false, false], [7789, \"Therefore\", \"therefore\", \"ADV\", \"RB\", \"advmod\", \"Xxxxx\", true, true], [7799, \"this\", \"this\", \"DET\", \"DT\", \"det\", \"xxxx\", true, true], [7804, \"hypothesis\", \"hypothesis\", \"NOUN\", \"NN\", \"nsubj\", \"xxxx\", true, false], [7815, \"recommends\", \"recommend\", \"VERB\", \"VBZ\", \"ROOT\", \"xxxx\", true, false], [7826, \"itself\", \"itself\", \"PRON\", \"PRP\", \"dobj\", \"xxxx\", true, true], [7833, \"to\", \"to\", \"ADP\", \"IN\", \"prep\", \"xx\", true, true], [7836, \"the\", \"the\", \"DET\", \"DT\", \"det\", \"xxx\", true, true], [7840, \"intellect\", \"intellect\", \"NOUN\", \"NN\", \"pobj\", \"xxxx\", true, false], [7849, \".\", \".\", \"PUNCT\", \".\", \"punct\", \".\", false, false], [7850, \"M\\u00e4stlin\", \"M\\u00e4stlin\", \"PROPN\", \"NNP\", \"ROOT\", \"Xxxxx\", true, false], [7858, \"continued:-\", \"continued:-\", \"PROPN\", \"NNP\", \"punct\", \"xxxx:-\", false, false], [7869, \"\\\\n\", \"\\\\n\", \"SPACE\", \"_SP\", \"ROOT\", \"\\\\n\", false, false], [7870, \"The\", \"the\", \"DET\", \"DT\", \"det\", \"Xxx\", true, true], [7874, \"heavenly\", \"heavenly\", \"ADJ\", \"JJ\", \"amod\", \"xxxx\", true, false], [7883, \"motions\", \"motion\", \"NOUN\", \"NNS\", \"nsubj\", \"xxxx\", true, false], [7891, \"were\", \"be\", \"AUX\", \"VBD\", \"ROOT\", \"xxxx\", true, true], [7896, \"at\", \"at\", \"ADP\", \"IN\", \"prep\", \"xx\", true, true], [7899, \"the\", \"the\", \"DET\", \"DT\", \"det\", \"xxx\", true, true], [7903, \"point\", \"point\", \"NOUN\", \"NN\", \"pobj\", \"xxxx\", true, false], [7909, \"of\", \"of\", \"ADP\", \"IN\", \"prep\", \"xx\", true, true], [7912, \"collapse\", \"collapse\", \"NOUN\", \"NN\", \"pobj\", \"xxxx\", true, false], [7920, \",\", \",\", \"PUNCT\", \",\", \"punct\", \",\", false, false], [7922, \"and\", \"and\", \"CCONJ\", \"CC\", \"cc\", \"xxx\", true, true], [7926, \"so\", \"so\", \"ADV\", \"RB\", \"advmod\", \"xx\", true, true], [7929, \"[\", \"[\", \"PUNCT\", \"-LRB-\", \"punct\", \"[\", false, false], [7930, \"Copernicus\", \"Copernicus\", \"PROPN\", \"NNP\", \"nsubj\", \"Xxxxx\", true, false], [7940, \"]\", \"]\", \"PUNCT\", \"-RRB-\", \"punct\", \"]\", false, false], [7942, \"concluded\", \"conclude\", \"VERB\", \"VBD\", \"conj\", \"xxxx\", true, false], [7952, \"that\", \"that\", \"SCONJ\", \"IN\", \"mark\", \"xxxx\", true, true], [7957, \"appropriate\", \"appropriate\", \"ADJ\", \"JJ\", \"amod\", \"xxxx\", true, false], [7969, \"hypotheses\", \"hypothesis\", \"NOUN\", \"NNS\", \"nsubjpass\", \"xxxx\", true, false], [7980, \"were\", \"be\", \"AUX\", \"VBD\", \"auxpass\", \"xxxx\", true, true], [7985, \"needed\", \"need\", \"VERB\", \"VBN\", \"ccomp\", \"xxxx\", true, false], [7992, \"to\", \"to\", \"PART\", \"TO\", \"aux\", \"xx\", true, true], [7995, \"explain\", \"explain\", \"VERB\", \"VB\", \"advcl\", \"xxxx\", true, false], [8003, \"these\", \"these\", \"DET\", \"DT\", \"det\", \"xxxx\", true, true], [8009, \"motions\", \"motion\", \"NOUN\", \"NNS\", \"dobj\", \"xxxx\", true, false], [8016, \".\", \".\", \"PUNCT\", \".\", \"punct\", \".\", false, false], [8018, \"When\", \"when\", \"ADV\", \"WRB\", \"advmod\", \"Xxxx\", true, true], [8023, \"he\", \"he\", \"PRON\", \"PRP\", \"nsubj\", \"xx\", true, true], [8026, \"noticed\", \"notice\", \"VERB\", \"VBD\", \"advcl\", \"xxxx\", true, false], [8034, \"that\", \"that\", \"SCONJ\", \"IN\", \"mark\", \"xxxx\", true, true], [8039, \"the\", \"the\", \"DET\", \"DT\", \"det\", \"xxx\", true, true], [8043, \"common\", \"common\", \"ADJ\", \"JJ\", \"amod\", \"xxxx\", true, false], [8050, \"hypotheses\", \"hypothesis\", \"NOUN\", \"NNS\", \"nsubj\", \"xxxx\", true, false], [8061, \"were\", \"be\", \"AUX\", \"VBD\", \"ccomp\", \"xxxx\", true, true], [8066, \"insufficient\", \"insufficient\", \"ADJ\", \"JJ\", \"acomp\", \"xxxx\", true, false], [8078, \",\", \",\", \"PUNCT\", \",\", \"punct\", \",\", false, false], [8080, \"he\", \"he\", \"PRON\", \"PRP\", \"nsubj\", \"xx\", true, true], [8083, \"eventually\", \"eventually\", \"ADV\", \"RB\", \"advmod\", \"xxxx\", true, false], [8094, \"accepted\", \"accept\", \"VERB\", \"VBD\", \"ROOT\", \"xxxx\", true, false], [8103, \"the\", \"the\", \"DET\", \"DT\", \"det\", \"xxx\", true, true], [8107, \"idea\", \"idea\", \"NOUN\", \"NN\", \"dobj\", \"xxxx\", true, false], [8112, \"of\", \"of\", \"ADP\", \"IN\", \"prep\", \"xx\", true, true], [8115, \"the\", \"the\", \"DET\", \"DT\", \"det\", \"xxx\", true, true], [8119, \"Earth\", \"Earth\", \"PROPN\", \"NNP\", \"poss\", \"Xxxxx\", true, false], [8124, \"'s\", \"'s\", \"PART\", \"POS\", \"case\", \"'x\", false, true], [8127, \"mobility\", \"mobility\", \"NOUN\", \"NN\", \"pobj\", \"xxxx\", true, false], [8135, \",\", \",\", \"PUNCT\", \",\", \"punct\", \",\", false, false], [8137, \"since\", \"since\", \"SCONJ\", \"IN\", \"prep\", \"xxxx\", true, true], [8143, \"indeed\", \"indeed\", \"ADV\", \"RB\", \"pcomp\", \"xxxx\", true, true], [8149, \",\", \",\", \"PUNCT\", \",\", \"punct\", \",\", false, false], [8151, \"it\", \"it\", \"PRON\", \"PRP\", \"nsubj\", \"xx\", true, true], [8154, \"not\", \"not\", \"PART\", \"RB\", \"preconj\", \"xxx\", true, true], [8158, \"only\", \"only\", \"ADV\", \"RB\", \"advmod\", \"xxxx\", true, true], [8163, \"satisfied\", \"satisfy\", \"VERB\", \"VBD\", \"advcl\", \"xxxx\", true, false], [8173, \"the\", \"the\", \"DET\", \"DT\", \"det\", \"xxx\", true, true], [8177, \"phenomena\", \"phenomena\", \"NOUN\", \"NN\", \"dobj\", \"xxxx\", true, false], [8187, \"very\", \"very\", \"ADV\", \"RB\", \"advmod\", \"xxxx\", true, true], [8192, \"well\", \"well\", \"ADV\", \"RB\", \"advmod\", \"xxxx\", true, true], [8197, \"but\", \"but\", \"CCONJ\", \"CC\", \"cc\", \"xxx\", true, true], [8201, \"it\", \"it\", \"PRON\", \"PRP\", \"nsubj\", \"xx\", true, true], [8204, \"did\", \"do\", \"AUX\", \"VBD\", \"aux\", \"xxx\", true, true], [8207, \"n't\", \"n't\", \"PART\", \"RB\", \"neg\", \"x'x\", false, true], [8211, \"lead\", \"lead\", \"VERB\", \"VB\", \"ROOT\", \"xxxx\", true, false], [8216, \"to\", \"to\", \"ADP\", \"IN\", \"prep\", \"xx\", true, true], [8219, \"anything\", \"anything\", \"PRON\", \"NN\", \"pobj\", \"xxxx\", true, true], [8228, \"absurd\", \"absurd\", \"ADJ\", \"JJ\", \"amod\", \"xxxx\", true, false], [8234, \".\", \".\", \"PUNCT\", \".\", \"punct\", \".\", false, false], [8235, \"\\\\n\\\\n\", \"\\\\n\\\\n\", \"SPACE\", \"_SP\", \"ROOT\", \"\\\\n\\\\n\", false, false], [8237, \"In\", \"in\", \"ADP\", \"IN\", \"prep\", \"Xx\", true, true], [8240, \"fact\", \"fact\", \"NOUN\", \"NN\", \"pobj\", \"xxxx\", true, false], [8244, \",\", \",\", \"PUNCT\", \",\", \"punct\", \",\", false, false], [8246, \"if\", \"if\", \"SCONJ\", \"IN\", \"mark\", \"xx\", true, true], [8249, \"anyone\", \"anyone\", \"PRON\", \"NN\", \"nsubj\", \"xxxx\", true, true], [8256, \"would\", \"would\", \"AUX\", \"MD\", \"aux\", \"xxxx\", true, true], [8262, \"straighten\", \"straighten\", \"VERB\", \"VB\", \"advcl\", \"xxxx\", true, false], [8273, \"out\", \"out\", \"ADP\", \"RP\", \"prt\", \"xxx\", true, true], [8277, \"the\", \"the\", \"DET\", \"DT\", \"det\", \"xxx\", true, true], [8281, \"common\", \"common\", \"ADJ\", \"JJ\", \"amod\", \"xxxx\", true, false], [8288, \"hypotheses\", \"hypothesis\", \"NOUN\", \"NNS\", \"dobj\", \"xxxx\", true, false], [8299, \"so\", \"so\", \"SCONJ\", \"IN\", \"mark\", \"xx\", true, true], [8302, \"that\", \"that\", \"SCONJ\", \"IN\", \"mark\", \"xxxx\", true, true], [8307, \"they\", \"they\", \"PRON\", \"PRP\", \"nsubj\", \"xxxx\", true, true], [8312, \"would\", \"would\", \"AUX\", \"MD\", \"aux\", \"xxxx\", true, true], [8318, \"agree\", \"agree\", \"VERB\", \"VB\", \"advcl\", \"xxxx\", true, false], [8324, \"with\", \"with\", \"ADP\", \"IN\", \"prep\", \"xxxx\", true, true], [8329, \"the\", \"the\", \"DET\", \"DT\", \"det\", \"xxx\", true, true], [8333, \"phenomena\", \"phenomena\", \"NOUN\", \"NN\", \"pobj\", \"xxxx\", true, false], [8343, \"and\", \"and\", \"CCONJ\", \"CC\", \"cc\", \"xxx\", true, true], [8347, \"allow\", \"allow\", \"VERB\", \"VB\", \"conj\", \"xxxx\", true, false], [8353, \"no\", \"no\", \"DET\", \"DT\", \"det\", \"xx\", true, true], [8356, \"inconsistencies\", \"inconsistency\", \"NOUN\", \"NNS\", \"dobj\", \"xxxx\", true, false], [8371, \",\", \",\", \"PUNCT\", \",\", \"punct\", \",\", false, false], [8373, \"then\", \"then\", \"ADV\", \"RB\", \"advmod\", \"xxxx\", true, true], [8378, \"I\", \"I\", \"PRON\", \"PRP\", \"nsubj\", \"X\", true, true], [8380, \"would\", \"would\", \"AUX\", \"MD\", \"aux\", \"xxxx\", true, true], [8386, \"gratefully\", \"gratefully\", \"ADV\", \"RB\", \"advmod\", \"xxxx\", true, false], [8397, \"trust\", \"trust\", \"VERB\", \"VB\", \"ccomp\", \"xxxx\", true, false], [8403, \"him\", \"he\", \"PRON\", \"PRP\", \"dobj\", \"xxx\", true, true], [8406, \";\", \";\", \"PUNCT\", \":\", \"punct\", \";\", false, false], [8408, \"clearly\", \"clearly\", \"ADV\", \"RB\", \"advmod\", \"xxxx\", true, false], [8416, \"he\", \"he\", \"PRON\", \"PRP\", \"nsubj\", \"xx\", true, true], [8419, \"would\", \"would\", \"AUX\", \"MD\", \"aux\", \"xxxx\", true, true], [8425, \"bring\", \"bring\", \"VERB\", \"VB\", \"ROOT\", \"xxxx\", true, false], [8431, \"very\", \"very\", \"ADV\", \"RB\", \"advmod\", \"xxxx\", true, true], [8436, \"many\", \"many\", \"ADJ\", \"JJ\", \"dobj\", \"xxxx\", true, true], [8441, \"to\", \"to\", \"ADP\", \"IN\", \"prep\", \"xx\", true, true], [8444, \"his\", \"his\", \"PRON\", \"PRP$\", \"poss\", \"xxx\", true, true], [8448, \"views\", \"view\", \"NOUN\", \"NNS\", \"pobj\", \"xxxx\", true, false], [8453, \".\", \".\", \"PUNCT\", \".\", \"punct\", \".\", false, false], [8455, \"But\", \"but\", \"CCONJ\", \"CC\", \"cc\", \"Xxx\", true, true], [8459, \"I\", \"I\", \"PRON\", \"PRP\", \"nsubj\", \"X\", true, true], [8461, \"see\", \"see\", \"VERB\", \"VBP\", \"ROOT\", \"xxx\", true, true], [8465, \"that\", \"that\", \"SCONJ\", \"IN\", \"mark\", \"xxxx\", true, true], [8470, \"some\", \"some\", \"DET\", \"DT\", \"nsubj\", \"xxxx\", true, true], [8474, \",\", \",\", \"PUNCT\", \",\", \"punct\", \",\", false, false], [8476, \"even\", \"even\", \"ADV\", \"RB\", \"advmod\", \"xxxx\", true, true], [8481, \"very\", \"very\", \"ADV\", \"RB\", \"advmod\", \"xxxx\", true, true], [8486, \"outstanding\", \"outstanding\", \"ADJ\", \"JJ\", \"amod\", \"xxxx\", true, false], [8498, \"mathematicians\", \"mathematician\", \"NOUN\", \"NNS\", \"appos\", \"xxxx\", true, false], [8512, \",\", \",\", \"PUNCT\", \",\", \"punct\", \",\", false, false], [8514, \"have\", \"have\", \"AUX\", \"VBP\", \"aux\", \"xxxx\", true, true], [8519, \"laboured\", \"labour\", \"VERB\", \"VBN\", \"ccomp\", \"xxxx\", true, false], [8528, \"on\", \"on\", \"ADP\", \"IN\", \"prep\", \"xx\", true, true], [8531, \"this\", \"this\", \"DET\", \"DT\", \"pobj\", \"xxxx\", true, true], [8536, \"yet\", \"yet\", \"ADV\", \"RB\", \"advmod\", \"xxx\", true, true], [8539, \",\", \",\", \"PUNCT\", \",\", \"punct\", \",\", false, false], [8541, \"in\", \"in\", \"ADP\", \"IN\", \"prep\", \"xx\", true, true], [8544, \"the\", \"the\", \"DET\", \"DT\", \"det\", \"xxx\", true, true], [8548, \"end\", \"end\", \"NOUN\", \"NN\", \"pobj\", \"xxx\", true, false], [8551, \",\", \",\", \"PUNCT\", \",\", \"punct\", \",\", false, false], [8553, \"without\", \"without\", \"ADP\", \"IN\", \"prep\", \"xxxx\", true, true], [8561, \"results\", \"result\", \"NOUN\", \"NNS\", \"pobj\", \"xxxx\", true, false], [8568, \".\", \".\", \"PUNCT\", \".\", \"punct\", \".\", false, false], [8570, \"Therefore\", \"therefore\", \"ADV\", \"RB\", \"advmod\", \"Xxxxx\", true, true], [8579, \",\", \",\", \"PUNCT\", \",\", \"punct\", \",\", false, false], [8581, \"I\", \"I\", \"PRON\", \"PRP\", \"nsubj\", \"X\", true, true], [8583, \"think\", \"think\", \"VERB\", \"VBP\", \"ROOT\", \"xxxx\", true, false], [8589, \"that\", \"that\", \"SCONJ\", \"IN\", \"mark\", \"xxxx\", true, true], [8594, \"unless\", \"unless\", \"SCONJ\", \"IN\", \"mark\", \"xxxx\", true, true], [8601, \"the\", \"the\", \"DET\", \"DT\", \"det\", \"xxx\", true, true], [8605, \"common\", \"common\", \"ADJ\", \"JJ\", \"amod\", \"xxxx\", true, false], [8612, \"hypotheses\", \"hypothesis\", \"NOUN\", \"NNS\", \"nsubjpass\", \"xxxx\", true, false], [8623, \"are\", \"be\", \"AUX\", \"VBP\", \"auxpass\", \"xxx\", true, true], [8627, \"reformed\", \"reform\", \"VERB\", \"VBN\", \"advcl\", \"xxxx\", true, false], [8636, \"(\", \"(\", \"PUNCT\", \"-LRB-\", \"punct\", \"(\", false, false], [8637, \"a\", \"a\", \"DET\", \"DT\", \"det\", \"x\", true, true], [8639, \"task\", \"task\", \"NOUN\", \"NN\", \"dobj\", \"xxxx\", true, false], [8644, \"that\", \"that\", \"DET\", \"WDT\", \"pobj\", \"xxxx\", true, true], [8649, \"I\", \"I\", \"PRON\", \"PRP\", \"nsubj\", \"X\", true, true], [8651, \"am\", \"be\", \"VERB\", \"VBP\", \"relcl\", \"xx\", true, true], [8654, \"not\", \"not\", \"PART\", \"RB\", \"neg\", \"xxx\", true, true], [8658, \"up\", \"up\", \"ADP\", \"IN\", \"prep\", \"xx\", true, true], [8661, \"to\", \"to\", \"ADP\", \"IN\", \"prep\", \"xx\", true, true], [8664, \"because\", \"because\", \"SCONJ\", \"IN\", \"prep\", \"xxxx\", true, true], [8672, \"of\", \"of\", \"ADP\", \"IN\", \"pcomp\", \"xx\", true, true], [8675, \"my\", \"my\", \"PRON\", \"PRP$\", \"poss\", \"xx\", true, true], [8678, \"inadequate\", \"inadequate\", \"ADJ\", \"JJ\", \"amod\", \"xxxx\", true, false], [8689, \"abilities\", \"ability\", \"NOUN\", \"NNS\", \"pobj\", \"xxxx\", true, false], [8698, \")\", \")\", \"PUNCT\", \"-RRB-\", \"punct\", \")\", false, false], [8699, \",\", \",\", \"PUNCT\", \",\", \"punct\", \",\", false, false], [8701, \"I\", \"I\", \"PRON\", \"PRP\", \"nsubj\", \"X\", true, true], [8703, \"will\", \"will\", \"AUX\", \"MD\", \"aux\", \"xxxx\", true, true], [8708, \"accept\", \"accept\", \"VERB\", \"VB\", \"ccomp\", \"xxxx\", true, false], [8715, \"the\", \"the\", \"DET\", \"DT\", \"det\", \"xxx\", true, true], [8719, \"hypotheses\", \"hypothesis\", \"NOUN\", \"NNS\", \"dobj\", \"xxxx\", true, false], [8730, \"and\", \"and\", \"CCONJ\", \"CC\", \"cc\", \"xxx\", true, true], [8734, \"opinion\", \"opinion\", \"NOUN\", \"NN\", \"conj\", \"xxxx\", true, false], [8742, \"of\", \"of\", \"ADP\", \"IN\", \"prep\", \"xx\", true, true], [8745, \"Copernicus\", \"Copernicus\", \"PROPN\", \"NNP\", \"pobj\", \"Xxxxx\", true, false], [8756, \"-\", \"-\", \"PUNCT\", \",\", \"punct\", \"-\", false, false], [8758, \"after\", \"after\", \"ADP\", \"IN\", \"prep\", \"xxxx\", true, true], [8764, \"Ptolemy\", \"Ptolemy\", \"PROPN\", \"NNP\", \"pobj\", \"Xxxxx\", true, false], [8771, \",\", \",\", \"PUNCT\", \",\", \"punct\", \",\", false, false], [8773, \"the\", \"the\", \"DET\", \"DT\", \"det\", \"xxx\", true, true], [8777, \"prince\", \"prince\", \"NOUN\", \"NN\", \"appos\", \"xxxx\", true, false], [8784, \"of\", \"of\", \"ADP\", \"IN\", \"prep\", \"xx\", true, true], [8787, \"all\", \"all\", \"DET\", \"DT\", \"det\", \"xxx\", true, true], [8791, \"Astronomers\", \"astronomer\", \"NOUN\", \"NNS\", \"pobj\", \"Xxxxx\", true, false], [8802, \".\", \".\", \"PUNCT\", \".\", \"punct\", \".\", false, false], [8803, \"There\", \"there\", \"PRON\", \"EX\", \"expl\", \"Xxxxx\", true, true], [8809, \"are\", \"be\", \"AUX\", \"VBP\", \"ROOT\", \"xxx\", true, true], [8813, \"further\", \"further\", \"ADJ\", \"JJ\", \"amod\", \"xxxx\", true, true], [8821, \"annotations\", \"annotation\", \"NOUN\", \"NNS\", \"attr\", \"xxxx\", true, false], [8833, \"written\", \"write\", \"VERB\", \"VBN\", \"acl\", \"xxxx\", true, false], [8841, \"by\", \"by\", \"ADP\", \"IN\", \"agent\", \"xx\", true, true], [8844, \"M\\u00e4stlin\", \"M\\u00e4stlin\", \"PROPN\", \"NNP\", \"pobj\", \"Xxxxx\", true, false], [8852, \"[\", \"[\", \"PUNCT\", \"-LRB-\", \"punct\", \"[\", false, false], [8853, \"3\", \"3\", \"NUM\", \"CD\", \"appos\", \"d\", false, false], [8854, \"]\", \"]\", \"PUNCT\", \"-RRB-\", \"punct\", \"]\", false, false], [8856, \"which\", \"which\", \"DET\", \"WDT\", \"nsubj\", \"xxxx\", true, true], [8862, \"are\", \"be\", \"VERB\", \"VBP\", \"relcl\", \"xxx\", true, true], [8866, \"very\", \"very\", \"ADV\", \"RB\", \"advmod\", \"xxxx\", true, true], [8871, \"interesting\", \"interesting\", \"ADJ\", \"JJ\", \"acomp\", \"xxxx\", true, false], [8882, \".\", \".\", \"PUNCT\", \".\", \"punct\", \".\", false, false], [8884, \"On\", \"on\", \"ADP\", \"IN\", \"prep\", \"Xx\", true, true], [8887, \"the\", \"the\", \"DET\", \"DT\", \"det\", \"xxx\", true, true], [8891, \"back\", \"back\", \"NOUN\", \"NN\", \"pobj\", \"xxxx\", true, true], [8896, \"of\", \"of\", \"ADP\", \"IN\", \"prep\", \"xx\", true, true], [8899, \"the\", \"the\", \"DET\", \"DT\", \"det\", \"xxx\", true, true], [8903, \"title\", \"title\", \"NOUN\", \"NN\", \"compound\", \"xxxx\", true, false], [8909, \"page\", \"page\", \"NOUN\", \"NN\", \"pobj\", \"xxxx\", true, false], [8914, \"of\", \"of\", \"ADP\", \"IN\", \"prep\", \"xx\", true, true], [8917, \"De\", \"De\", \"PROPN\", \"NNP\", \"compound\", \"Xx\", true, false], [8920, \"revolutionibus\", \"revolutionibus\", \"NOUN\", \"NN\", \"pobj\", \"xxxx\", true, false], [8935, \"is\", \"be\", \"AUX\", \"VBZ\", \"ccomp\", \"xx\", true, true], [8938, \"the\", \"the\", \"DET\", \"DT\", \"det\", \"xxx\", true, true], [8942, \"infamous\", \"infamous\", \"ADJ\", \"JJ\", \"amod\", \"xxxx\", true, false], [8951, \"notice\", \"notice\", \"NOUN\", \"NN\", \"attr\", \"xxxx\", true, false], [8958, \"which\", \"which\", \"DET\", \"WDT\", \"nsubj\", \"xxxx\", true, true], [8964, \"states\", \"state\", \"VERB\", \"VBZ\", \"relcl\", \"xxxx\", true, false], [8971, \"that\", \"that\", \"SCONJ\", \"IN\", \"mark\", \"xxxx\", true, true], [8976, \"\\\"\", \"\\\"\", \"PUNCT\", \"``\", \"punct\", \"\\\"\", false, false], [8977, \"...\", \"...\", \"PUNCT\", \"NFP\", \"punct\", \"...\", false, false], [8981, \"these\", \"these\", \"DET\", \"DT\", \"det\", \"xxxx\", true, true], [8987, \"hypotheses\", \"hypothesis\", \"NOUN\", \"NNS\", \"nsubj\", \"xxxx\", true, false], [8998, \"need\", \"need\", \"AUX\", \"VBP\", \"aux\", \"xxxx\", true, false], [9003, \"not\", \"not\", \"PART\", \"RB\", \"neg\", \"xxx\", true, true], [9007, \"be\", \"be\", \"VERB\", \"VB\", \"ccomp\", \"xx\", true, true], [9010, \"true\", \"true\", \"ADJ\", \"JJ\", \"acomp\", \"xxxx\", true, false], [9015, \"nor\", \"nor\", \"CCONJ\", \"CC\", \"cc\", \"xxx\", true, true], [9019, \"even\", \"even\", \"ADV\", \"RB\", \"advmod\", \"xxxx\", true, true], [9024, \"probable\", \"probable\", \"ADJ\", \"JJ\", \"conj\", \"xxxx\", true, false], [9032, \";\", \";\", \"PUNCT\", \":\", \"punct\", \";\", false, false], [9034, \"it\", \"it\", \"PRON\", \"PRP\", \"nsubj\", \"xx\", true, true], [9037, \"is\", \"be\", \"AUX\", \"VBZ\", \"ROOT\", \"xx\", true, true], [9040, \"sufficient\", \"sufficient\", \"ADJ\", \"JJ\", \"acomp\", \"xxxx\", true, false], [9051, \"if\", \"if\", \"SCONJ\", \"IN\", \"mark\", \"xx\", true, true], [9054, \"the\", \"the\", \"DET\", \"DT\", \"det\", \"xxx\", true, true], [9058, \"calculations\", \"calculation\", \"NOUN\", \"NNS\", \"nsubj\", \"xxxx\", true, false], [9071, \"agree\", \"agree\", \"VERB\", \"VBP\", \"advcl\", \"xxxx\", true, false], [9077, \"with\", \"with\", \"ADP\", \"IN\", \"prep\", \"xxxx\", true, true], [9082, \"the\", \"the\", \"DET\", \"DT\", \"det\", \"xxx\", true, true], [9086, \"observations\", \"observation\", \"NOUN\", \"NNS\", \"pobj\", \"xxxx\", true, false], [9098, \".\", \".\", \"PUNCT\", \".\", \"punct\", \".\", false, false], [9099, \"\\\"\", \"\\\"\", \"PUNCT\", \"''\", \"punct\", \"\\\"\", false, false], [9101, \"M\\u00e4stlin\", \"M\\u00e4stlin\", \"PROPN\", \"NNP\", \"nsubj\", \"Xxxxx\", true, false], [9109, \"adds\", \"add\", \"VERB\", \"VBZ\", \"ROOT\", \"xxxx\", true, false], [9114, \"a\", \"a\", \"DET\", \"DT\", \"det\", \"x\", true, true], [9116, \"note\", \"note\", \"NOUN\", \"NN\", \"dobj\", \"xxxx\", true, false], [9121, \"to\", \"to\", \"ADP\", \"IN\", \"prep\", \"xx\", true, true], [9124, \"his\", \"his\", \"PRON\", \"PRP$\", \"poss\", \"xxx\", true, true], [9128, \"copy\", \"copy\", \"NOUN\", \"NN\", \"pobj\", \"xxxx\", true, false], [9133, \"stating:-\", \"stating:-\", \"VERB\", \"VBZ\", \"ccomp\", \"xxxx:-\", false, false], [9143, \"\\\\n\", \"\\\\n\", \"SPACE\", \"_SP\", \"punct\", \"\\\\n\", false, false], [9144, \"This\", \"this\", \"DET\", \"DT\", \"det\", \"Xxxx\", true, true], [9149, \"preface\", \"preface\", \"NOUN\", \"NN\", \"nsubjpass\", \"xxxx\", true, false], [9157, \"was\", \"be\", \"AUX\", \"VBD\", \"auxpass\", \"xxx\", true, true], [9161, \"added\", \"add\", \"VERB\", \"VBN\", \"ROOT\", \"xxxx\", true, false], [9167, \"by\", \"by\", \"ADP\", \"IN\", \"agent\", \"xx\", true, true], [9170, \"someone\", \"someone\", \"PRON\", \"NN\", \"pobj\", \"xxxx\", true, true], [9177, \",\", \",\", \"PUNCT\", \",\", \"punct\", \",\", false, false], [9179, \"whoever\", \"whoever\", \"PRON\", \"WP\", \"attr\", \"xxxx\", true, true], [9187, \"its\", \"its\", \"PRON\", \"PRP$\", \"poss\", \"xxx\", true, true], [9191, \"author\", \"author\", \"NOUN\", \"NN\", \"nsubj\", \"xxxx\", true, false], [9198, \"may\", \"may\", \"AUX\", \"MD\", \"aux\", \"xxx\", true, true], [9202, \"be\", \"be\", \"VERB\", \"VB\", \"advcl\", \"xx\", true, true], [9204, \",\", \",\", \"PUNCT\", \",\", \"punct\", \",\", false, false], [9206, \"(\", \"(\", \"PUNCT\", \"-LRB-\", \"punct\", \"(\", false, false], [9207, \"for\", \"for\", \"ADP\", \"IN\", \"prep\", \"xxx\", true, true], [9211, \"indeed\", \"indeed\", \"ADV\", \"RB\", \"pcomp\", \"xxxx\", true, true], [9217, \",\", \",\", \"PUNCT\", \",\", \"punct\", \",\", false, false], [9219, \"its\", \"its\", \"PRON\", \"PRP$\", \"poss\", \"xxx\", true, true], [9223, \"weakness\", \"weakness\", \"NOUN\", \"NN\", \"nsubj\", \"xxxx\", true, false], [9232, \"of\", \"of\", \"ADP\", \"IN\", \"prep\", \"xx\", true, true], [9235, \"style\", \"style\", \"NOUN\", \"NN\", \"pobj\", \"xxxx\", true, false], [9241, \"and\", \"and\", \"CCONJ\", \"CC\", \"cc\", \"xxx\", true, true], [9245, \"choice\", \"choice\", \"NOUN\", \"NN\", \"conj\", \"xxxx\", true, false], [9252, \"of\", \"of\", \"ADP\", \"IN\", \"prep\", \"xx\", true, true], [9255, \"words\", \"word\", \"NOUN\", \"NNS\", \"pobj\", \"xxxx\", true, false], [9261, \"reveal\", \"reveal\", \"VERB\", \"VBP\", \"ccomp\", \"xxxx\", true, false], [9268, \"that\", \"that\", \"SCONJ\", \"IN\", \"mark\", \"xxxx\", true, true], [9273, \"it\", \"it\", \"PRON\", \"PRP\", \"nsubj\", \"xx\", true, true], [9276, \"is\", \"be\", \"AUX\", \"VBZ\", \"ccomp\", \"xx\", true, true], [9279, \"not\", \"not\", \"PART\", \"RB\", \"neg\", \"xxx\", true, true], [9283, \"by\", \"by\", \"ADP\", \"IN\", \"prep\", \"xx\", true, true], [9286, \"Copernicus).He\", \"Copernicus).He\", \"NOUN\", \"NNS\", \"nsubj\", \"Xxxxx).Xx\", false, false], [9301, \"later\", \"later\", \"ADV\", \"RB\", \"advmod\", \"xxxx\", true, false], [9307, \"added\", \"add\", \"VERB\", \"VBD\", \"advcl\", \"xxxx\", true, false], [9313, \"a\", \"a\", \"DET\", \"DT\", \"det\", \"x\", true, true], [9315, \"further\", \"further\", \"ADJ\", \"JJ\", \"dobj\", \"xxxx\", true, true], [9323, \"note:-\", \"note:-\", \"NOUN\", \"NN\", \"punct\", \"xxxx:-\", false, false], [9329, \"\\\\n\", \"\\\\n\", \"SPACE\", \"_SP\", \"appos\", \"\\\\n\", false, false], [9330, \"I\", \"I\", \"PRON\", \"PRP\", \"nsubj\", \"X\", true, true], [9332, \"found\", \"find\", \"VERB\", \"VBD\", \"ccomp\", \"xxxx\", true, false], [9338, \"the\", \"the\", \"DET\", \"DT\", \"det\", \"xxx\", true, true], [9342, \"following\", \"follow\", \"VERB\", \"VBG\", \"amod\", \"xxxx\", true, false], [9352, \"words\", \"word\", \"NOUN\", \"NNS\", \"dobj\", \"xxxx\", true, false], [9358, \"written\", \"write\", \"VERB\", \"VBN\", \"acl\", \"xxxx\", true, false], [9366, \"somewhere\", \"somewhere\", \"ADV\", \"RB\", \"advmod\", \"xxxx\", true, true], [9376, \"among\", \"among\", \"ADP\", \"IN\", \"prep\", \"xxxx\", true, true], [9382, \"the\", \"the\", \"DET\", \"DT\", \"det\", \"xxx\", true, true], [9386, \"books\", \"book\", \"NOUN\", \"NNS\", \"pobj\", \"xxxx\", true, false], [9392, \"of\", \"of\", \"ADP\", \"IN\", \"prep\", \"xx\", true, true], [9395, \"Philipp\", \"Philipp\", \"PROPN\", \"NNP\", \"compound\", \"Xxxxx\", true, false], [9403, \"Apian\", \"Apian\", \"PROPN\", \"NNP\", \"pobj\", \"Xxxxx\", true, false], [9409, \"(\", \"(\", \"PUNCT\", \"-LRB-\", \"punct\", \"(\", false, false], [9410, \"which\", \"which\", \"DET\", \"WDT\", \"dobj\", \"xxxx\", true, true], [9416, \"I\", \"I\", \"PRON\", \"PRP\", \"nsubj\", \"X\", true, true], [9418, \"bought\", \"buy\", \"VERB\", \"VBD\", \"relcl\", \"xxxx\", true, false], [9425, \"from\", \"from\", \"ADP\", \"IN\", \"prep\", \"xxxx\", true, true], [9430, \"his\", \"his\", \"PRON\", \"PRP$\", \"poss\", \"xxx\", true, true], [9434, \"widow\", \"widow\", \"NOUN\", \"NN\", \"pobj\", \"xxxx\", true, false], [9439, \")\", \")\", \"PUNCT\", \"-RRB-\", \"punct\", \")\", false, false], [9440, \";\", \";\", \"PUNCT\", \":\", \"punct\", \";\", false, false], [9442, \"although\", \"although\", \"SCONJ\", \"IN\", \"mark\", \"xxxx\", true, true], [9451, \"no\", \"no\", \"DET\", \"DT\", \"det\", \"xx\", true, true], [9454, \"author\", \"author\", \"NOUN\", \"NN\", \"nsubjpass\", \"xxxx\", true, false], [9461, \"was\", \"be\", \"AUX\", \"VBD\", \"auxpass\", \"xxx\", true, true], [9465, \"given\", \"give\", \"VERB\", \"VBN\", \"advcl\", \"xxxx\", true, false], [9471, \"I\", \"I\", \"PRON\", \"PRP\", \"nsubj\", \"X\", true, true], [9473, \"could\", \"could\", \"AUX\", \"MD\", \"aux\", \"xxxx\", true, true], [9479, \"recognise\", \"recognise\", \"VERB\", \"VB\", \"ROOT\", \"xxxx\", true, false], [9489, \"Apian\", \"Apian\", \"PROPN\", \"NNP\", \"poss\", \"Xxxxx\", true, false], [9494, \"'s\", \"'s\", \"PART\", \"POS\", \"case\", \"'x\", false, true], [9497, \"hand\", \"hand\", \"NOUN\", \"NN\", \"dobj\", \"xxxx\", true, false], [9501, \":\", \":\", \"PUNCT\", \":\", \"punct\", \":\", false, false], [9502, \"\\\\n\", \"\\\\n\", \"SPACE\", \"_SP\", \"punct\", \"\\\\n\", false, false], [9503, \"On\", \"on\", \"ADP\", \"IN\", \"prep\", \"Xx\", true, true], [9506, \"account\", \"account\", \"NOUN\", \"NN\", \"pobj\", \"xxxx\", true, false], [9514, \"of\", \"of\", \"ADP\", \"IN\", \"prep\", \"xx\", true, true], [9517, \"this\", \"this\", \"DET\", \"DT\", \"det\", \"xxxx\", true, true], [9522, \"letter\", \"letter\", \"NOUN\", \"NN\", \"pobj\", \"xxxx\", true, false], [9529, \"Georg\", \"Georg\", \"PROPN\", \"NNP\", \"compound\", \"Xxxxx\", true, false], [9535, \"Joachim\", \"Joachim\", \"PROPN\", \"NNP\", \"compound\", \"Xxxxx\", true, false], [9543, \"Rheticus\", \"Rheticus\", \"PROPN\", \"NNP\", \"nsubj\", \"Xxxxx\", true, false], [9551, \",\", \",\", \"PUNCT\", \",\", \"punct\", \",\", false, false], [9553, \"the\", \"the\", \"DET\", \"DT\", \"det\", \"xxx\", true, true], [9557, \"Leipzig\", \"Leipzig\", \"PROPN\", \"NNP\", \"compound\", \"Xxxxx\", true, false], [9565, \"professor\", \"professor\", \"NOUN\", \"NN\", \"appos\", \"xxxx\", true, false], [9575, \"and\", \"and\", \"CCONJ\", \"CC\", \"cc\", \"xxx\", true, true], [9579, \"disciple\", \"disciple\", \"NOUN\", \"NN\", \"conj\", \"xxxx\", true, false], [9588, \"of\", \"of\", \"ADP\", \"IN\", \"prep\", \"xx\", true, true], [9591, \"Copernicus\", \"Copernicus\", \"PROPN\", \"NNP\", \"pobj\", \"Xxxxx\", true, false], [9601, \",\", \",\", \"PUNCT\", \",\", \"punct\", \",\", false, false], [9603, \"became\", \"become\", \"VERB\", \"VBD\", \"ROOT\", \"xxxx\", true, true], [9610, \"involved\", \"involved\", \"ADJ\", \"JJ\", \"acomp\", \"xxxx\", true, false], [9619, \"in\", \"in\", \"ADP\", \"IN\", \"prep\", \"xx\", true, true], [9622, \"a\", \"a\", \"DET\", \"DT\", \"det\", \"x\", true, true], [9624, \"very\", \"very\", \"ADV\", \"RB\", \"advmod\", \"xxxx\", true, true], [9629, \"bitter\", \"bitter\", \"ADJ\", \"JJ\", \"amod\", \"xxxx\", true, false], [9636, \"wrangle\", \"wrangle\", \"NOUN\", \"NN\", \"pobj\", \"xxxx\", true, false], [9644, \"with\", \"with\", \"ADP\", \"IN\", \"prep\", \"xxxx\", true, true], [9649, \"the\", \"the\", \"DET\", \"DT\", \"det\", \"xxx\", true, true], [9653, \"printer\", \"printer\", \"NOUN\", \"NN\", \"pobj\", \"xxxx\", true, false], [9660, \",\", \",\", \"PUNCT\", \",\", \"punct\", \",\", false, false], [9662, \"who\", \"who\", \"PRON\", \"WP\", \"nsubj\", \"xxx\", true, true], [9666, \"asserted\", \"assert\", \"VERB\", \"VBD\", \"relcl\", \"xxxx\", true, false], [9675, \"that\", \"that\", \"SCONJ\", \"IN\", \"mark\", \"xxxx\", true, true], [9680, \"it\", \"it\", \"PRON\", \"PRP\", \"nsubjpass\", \"xx\", true, true], [9683, \"had\", \"have\", \"AUX\", \"VBD\", \"aux\", \"xxx\", true, true], [9687, \"been\", \"be\", \"AUX\", \"VBN\", \"auxpass\", \"xxxx\", true, true], [9692, \"turned\", \"turn\", \"VERB\", \"VBN\", \"ccomp\", \"xxxx\", true, false], [9699, \"over\", \"over\", \"ADP\", \"RP\", \"prt\", \"xxxx\", true, true], [9704, \"to\", \"to\", \"ADP\", \"IN\", \"prep\", \"xx\", true, true], [9707, \"him\", \"he\", \"PRON\", \"PRP\", \"pobj\", \"xxx\", true, true], [9711, \"with\", \"with\", \"ADP\", \"IN\", \"prep\", \"xxxx\", true, true], [9716, \"the\", \"the\", \"DET\", \"DT\", \"det\", \"xxx\", true, true], [9720, \"rest\", \"rest\", \"NOUN\", \"NN\", \"pobj\", \"xxxx\", true, false], [9725, \"of\", \"of\", \"ADP\", \"IN\", \"prep\", \"xx\", true, true], [9728, \"the\", \"the\", \"DET\", \"DT\", \"det\", \"xxx\", true, true], [9732, \"work\", \"work\", \"NOUN\", \"NN\", \"pobj\", \"xxxx\", true, false], [9736, \".\", \".\", \"PUNCT\", \".\", \"punct\", \".\", false, false], [9738, \"Rheticus\", \"Rheticus\", \"PROPN\", \"NNP\", \"nsubj\", \"Xxxxx\", true, false], [9746, \",\", \",\", \"PUNCT\", \",\", \"punct\", \",\", false, false], [9748, \"however\", \"however\", \"ADV\", \"RB\", \"advmod\", \"xxxx\", true, true], [9755, \",\", \",\", \"PUNCT\", \",\", \"punct\", \",\", false, false], [9757, \"suspected\", \"suspect\", \"VERB\", \"VBD\", \"ROOT\", \"xxxx\", true, false], [9767, \"that\", \"that\", \"SCONJ\", \"IN\", \"mark\", \"xxxx\", true, true], [9772, \"Osiander\", \"Osiander\", \"PROPN\", \"NNP\", \"nsubj\", \"Xxxxx\", true, false], [9781, \"[\", \"[\", \"PUNCT\", \"-LRB-\", \"punct\", \"[\", false, false], [9782, \"the\", \"the\", \"DET\", \"DT\", \"det\", \"xxx\", true, true], [9786, \"proof\", \"proof\", \"NOUN\", \"NN\", \"compound\", \"xxxx\", true, false], [9791, \"-\", \"-\", \"PUNCT\", \"HYPH\", \"punct\", \"-\", false, false], [9792, \"reader\", \"reader\", \"NOUN\", \"NN\", \"appos\", \"xxxx\", true, false], [9799, \"of\", \"of\", \"ADP\", \"IN\", \"prep\", \"xx\", true, true], [9802, \"Copernicus\", \"Copernicus\", \"PROPN\", \"NNP\", \"poss\", \"Xxxxx\", true, false], [9812, \"'s\", \"'s\", \"PART\", \"POS\", \"case\", \"'x\", false, true], [9815, \"book\", \"book\", \"NOUN\", \"NN\", \"pobj\", \"xxxx\", true, false], [9819, \"]\", \"]\", \"PUNCT\", \"-RRB-\", \"punct\", \"]\", false, false], [9821, \"had\", \"have\", \"AUX\", \"VBD\", \"aux\", \"xxx\", true, true], [9825, \"prefaced\", \"preface\", \"VERB\", \"VBN\", \"ccomp\", \"xxxx\", true, false], [9834, \"it\", \"it\", \"PRON\", \"PRP\", \"dobj\", \"xx\", true, true], [9837, \"to\", \"to\", \"ADP\", \"IN\", \"prep\", \"xx\", true, true], [9840, \"the\", \"the\", \"DET\", \"DT\", \"det\", \"xxx\", true, true], [9844, \"work\", \"work\", \"NOUN\", \"NN\", \"pobj\", \"xxxx\", true, false], [9848, \".\", \".\", \"PUNCT\", \".\", \"punct\", \".\", false, false], [9850, \"If\", \"if\", \"SCONJ\", \"IN\", \"mark\", \"Xx\", true, true], [9853, \"he\", \"he\", \"PRON\", \"PRP\", \"nsubj\", \"xx\", true, true], [9856, \"knew\", \"know\", \"VERB\", \"VBD\", \"advcl\", \"xxxx\", true, false], [9861, \"this\", \"this\", \"DET\", \"DT\", \"dobj\", \"xxxx\", true, true], [9866, \"for\", \"for\", \"ADP\", \"IN\", \"prep\", \"xxx\", true, true], [9870, \"certain\", \"certain\", \"ADJ\", \"JJ\", \"amod\", \"xxxx\", true, false], [9877, \",\", \",\", \"PUNCT\", \",\", \"punct\", \",\", false, false], [9879, \"he\", \"he\", \"PRON\", \"PRP\", \"nsubj\", \"xx\", true, true], [9882, \"declared\", \"declare\", \"VERB\", \"VBD\", \"ROOT\", \"xxxx\", true, false], [9890, \",\", \",\", \"PUNCT\", \",\", \"punct\", \",\", false, false], [9892, \"he\", \"he\", \"PRON\", \"PRP\", \"nsubj\", \"xx\", true, true], [9895, \"would\", \"would\", \"AUX\", \"MD\", \"aux\", \"xxxx\", true, true], [9901, \"handle\", \"handle\", \"VERB\", \"VB\", \"ccomp\", \"xxxx\", true, false], [9908, \"that\", \"that\", \"DET\", \"DT\", \"det\", \"xxxx\", true, true], [9913, \"fellow\", \"fellow\", \"NOUN\", \"NN\", \"dobj\", \"xxxx\", true, false], [9920, \"so\", \"so\", \"SCONJ\", \"IN\", \"mark\", \"xx\", true, true], [9923, \"that\", \"that\", \"SCONJ\", \"IN\", \"mark\", \"xxxx\", true, true], [9928, \"in\", \"in\", \"ADP\", \"IN\", \"prep\", \"xx\", true, true], [9931, \"future\", \"future\", \"NOUN\", \"NN\", \"pobj\", \"xxxx\", true, false], [9938, \"he\", \"he\", \"PRON\", \"PRP\", \"nsubj\", \"xx\", true, true], [9941, \"would\", \"would\", \"AUX\", \"MD\", \"aux\", \"xxxx\", true, true], [9947, \"mind\", \"mind\", \"VERB\", \"VB\", \"advcl\", \"xxxx\", true, false], [9952, \"his\", \"his\", \"PRON\", \"PRP$\", \"poss\", \"xxx\", true, true], [9956, \"own\", \"own\", \"ADJ\", \"JJ\", \"amod\", \"xxx\", true, true], [9960, \"business\", \"business\", \"NOUN\", \"NN\", \"dobj\", \"xxxx\", true, false], [9969, \"and\", \"and\", \"CCONJ\", \"CC\", \"cc\", \"xxx\", true, true], [9973, \"not\", \"not\", \"PART\", \"RB\", \"neg\", \"xxx\", true, true], [9977, \"slander\", \"slander\", \"VERB\", \"VB\", \"conj\", \"xxxx\", true, false], [9985, \"astronomers\", \"astronomer\", \"NOUN\", \"NNS\", \"dative\", \"xxxx\", true, false], [9997, \"any\", \"any\", \"DET\", \"DT\", \"advmod\", \"xxx\", true, true], [10001, \"more\", \"more\", \"ADV\", \"RBR\", \"advmod\", \"xxxx\", true, true], [10005, \".\", \".\", \"PUNCT\", \".\", \"punct\", \".\", false, false], [10007, \"Nevertheless\", \"nevertheless\", \"ADV\", \"RB\", \"advmod\", \"Xxxxx\", true, true], [10019, \",\", \",\", \"PUNCT\", \",\", \"punct\", \",\", false, false], [10021, \"[\", \"[\", \"PUNCT\", \"-LRB-\", \"punct\", \"[\", false, false], [10022, \"Peter\", \"Peter\", \"PROPN\", \"NNP\", \"npadvmod\", \"Xxxxx\", true, false], [10027, \"]\", \"]\", \"PUNCT\", \"-RRB-\", \"punct\", \"]\", false, false], [10029, \"Apian\", \"Apian\", \"PROPN\", \"NNP\", \"nsubj\", \"Xxxxx\", true, false], [10035, \"told\", \"tell\", \"VERB\", \"VBD\", \"ROOT\", \"xxxx\", true, false], [10040, \"me\", \"I\", \"PRON\", \"PRP\", \"dobj\", \"xx\", true, true], [10043, \"that\", \"that\", \"SCONJ\", \"IN\", \"mark\", \"xxxx\", true, true], [10048, \"Osiander\", \"Osiander\", \"PROPN\", \"NNP\", \"nsubj\", \"Xxxxx\", true, false], [10057, \"had\", \"have\", \"AUX\", \"VBD\", \"aux\", \"xxx\", true, true], [10061, \"openly\", \"openly\", \"ADV\", \"RB\", \"advmod\", \"xxxx\", true, false], [10068, \"admitted\", \"admit\", \"VERB\", \"VBN\", \"ccomp\", \"xxxx\", true, false], [10077, \"to\", \"to\", \"ADP\", \"IN\", \"prep\", \"xx\", true, true], [10080, \"him\", \"he\", \"PRON\", \"PRP\", \"pobj\", \"xxx\", true, true], [10084, \"that\", \"that\", \"SCONJ\", \"IN\", \"mark\", \"xxxx\", true, true], [10089, \"he\", \"he\", \"PRON\", \"PRP\", \"nsubj\", \"xx\", true, true], [10092, \"had\", \"have\", \"AUX\", \"VBD\", \"aux\", \"xxx\", true, true], [10096, \"added\", \"add\", \"VERB\", \"VBN\", \"ccomp\", \"xxxx\", true, false], [10102, \"this\", \"this\", \"DET\", \"DT\", \"dobj\", \"xxxx\", true, true], [10107, \"all\", \"all\", \"DET\", \"DT\", \"dobj\", \"xxx\", true, true], [10111, \"by\", \"by\", \"ADP\", \"IN\", \"prep\", \"xx\", true, true], [10114, \"himself\", \"himself\", \"PRON\", \"PRP\", \"pobj\", \"xxxx\", true, true], [10121, \".\", \".\", \"PUNCT\", \".\", \"punct\", \".\", false, false]];\n",
       "\n",
       "    // Define the dt_args\n",
       "    let dt_args = {\"scrollY\": \"400px\", \"scrollCollapse\": true, \"paging\": false, \"dom\": \"lrtip\", \"order\": [], \"fnInfoCallback\": function (oSettings, iStart, iEnd, iMax, iTotal, sPre) { return sPre + ' (<a href=\"https://mwouts.github.io/itables/downsampling.html\">downsampled</a> from 1,893x9 to 1,129x9 as maxBytes=65536)'; }, \"initComplete\": function () {\n",
       "    // Apply the search\n",
       "    this.api()\n",
       "        .columns()\n",
       "        .every(function () {\n",
       "            const that = this;\n",
       "\n",
       "            $('input', this.footer()).on('keyup change clear', function () {\n",
       "                if (that.search() !== this.value) {\n",
       "                    that.search(this.value).draw();\n",
       "                }\n",
       "            });\n",
       "        });\n",
       "}\n",
       "};\n",
       "    dt_args[\"data\"] = data;\n",
       "\n",
       "    $(document).ready(function () {\n",
       "        // Setup - add a text input to each header or footer cell\n",
       "$('#a70fdeab-bfc3-4d8f-94b3-f2255ae92f64 tfoot th').each(function () {\n",
       "    let title = $(this).text();\n",
       "    $(this).html('<input type=\"text\" placeholder=\"Search ' +\n",
       "        // We use encodeURI to avoid this LGTM error:\n",
       "        // https://lgtm.com/rules/1511866576920/\n",
       "        encodeURI(title).replaceAll(\"%20\", \" \") +\n",
       "        '\" />');\n",
       "});\n",
       "\n",
       "        $('#a70fdeab-bfc3-4d8f-94b3-f2255ae92f64').DataTable(dt_args);\n",
       "    });\n",
       "</script>\n",
       "</div>\n"
      ],
      "text/plain": [
       "<IPython.core.display.HTML object>"
      ]
     },
     "metadata": {},
     "output_type": "display_data"
    }
   ],
   "source": [
    "### https://github.com/mwouts/itables/blob/main/docs/advanced_parameters.md\n",
    "show(tx_df[tx_df.idx >= 0], classes=\"display\", scrollY=\"400px\", scrollCollapse=True, paging=False, column_filters=\"footer\", dom=\"lrtip\")"
   ]
  },
  {
   "cell_type": "code",
   "execution_count": 28,
   "id": "b62eccb6-a563-4827-a64c-f0d4a74f9d56",
   "metadata": {
    "tags": []
   },
   "outputs": [
    {
     "data": {
      "text/plain": [
       "[[0, 15], [88, 91], [119, 122], [178, 185], [264, 267], [274, 276], [359, 361]]"
      ]
     },
     "execution_count": 28,
     "metadata": {},
     "output_type": "execute_result"
    }
   ],
   "source": [
    "cc = doc._.coref_clusters[0]\n",
    "cc[:7]"
   ]
  },
  {
   "cell_type": "code",
   "execution_count": 29,
   "id": "cc576574-0ad5-4af6-8da8-7e173976a885",
   "metadata": {},
   "outputs": [
    {
     "data": {
      "text/plain": [
       "1893"
      ]
     },
     "execution_count": 29,
     "metadata": {},
     "output_type": "execute_result"
    }
   ],
   "source": [
    "len(doc)"
   ]
  },
  {
   "cell_type": "code",
   "execution_count": 33,
   "id": "63ab081d-8cb5-4c1f-b307-c7cf5a7845f3",
   "metadata": {
    "tags": []
   },
   "outputs": [
    {
     "data": {
      "text/plain": [
       "Michael Mästlin was born in Göppingen which was a village about 50 km east of Tübingen. His father, Jakob Mästlin, and his mother, Dorothea Simon, were both devout Lutherans and Michael was brought up in that faith and remained strongly committed to it throughout his life. He was the middle child of the family, having an older sister and a younger brother. He attended the monastic school in Königsbronn then, after his studies there, entered Tübingen University in 1568. [3]:-\n",
       "As was the case with many young scholars including Kepler, his most famous student, [Mästlin] did his undergraduate studies at a preparatory school and came to the university to take his final exams and pick up his baccalaureate degree.At Tübingen University he studied mathematics and astronomy for a Master's degree under Philipp Apian who was Peter Apian's son. In 1570, while a student, he purchased a copy of Copernicus's De revolutionibus from the widow of Victorin Strigel, who had been professor of theology at Leipzig and the author of an astronomy text. Mästlin was awarded a Master's degree with distinction in 1571. While studying for this degree he had edited a new edition of the Prutenis Tables which was published in 1571. The Prutenis Tables had been originally compiled by Erasmus Reinhold who had based them on Copernicus's version of the solar system. After graduating, Mästlin spent the following years teaching in Tübingen, and at the same time took [3]:-\n",
       "... the theological programme, because Tübingen University's primary mission was to prepare young men for the Lutheran ministry.Then, in"
      ]
     },
     "execution_count": 33,
     "metadata": {},
     "output_type": "execute_result"
    }
   ],
   "source": [
    "doc[:300]"
   ]
  },
  {
   "cell_type": "code",
   "execution_count": null,
   "id": "3770f988-692d-4b66-a621-b06e17f8329b",
   "metadata": {},
   "outputs": [],
   "source": [
    "### Does not work, issue with the number of spans\n",
    "for s in cc:\n",
    "    print(s[0], s[1])\n",
    "    Span(doc, s[0], s[1])"
   ]
  },
  {
   "cell_type": "code",
   "execution_count": null,
   "id": "0f3e9c6a-935e-49d3-922a-9922c8fded8f",
   "metadata": {},
   "outputs": [],
   "source": [
    "### Does not work, issue with the number of spans\n",
    "spans = []\n",
    "for idx, cluster in enumerate(doc._.coref_clusters):\n",
    "    for span in cluster:\n",
    "        spans.append(\n",
    "            Span(doc, span[0], span[1]+1, str(idx).upper())\n",
    "        )\n",
    "\n",
    "doc.spans[\"custom\"] = spans"
   ]
  },
  {
   "cell_type": "code",
   "execution_count": null,
   "id": "88dbcabd-e8a6-47e8-b5ac-fed4e4331a7b",
   "metadata": {},
   "outputs": [],
   "source": []
  },
  {
   "cell_type": "markdown",
   "id": "6295a341-1352-4362-9bef-e67d2811cd57",
   "metadata": {},
   "source": [
    "## Coreferee"
   ]
  },
  {
   "cell_type": "code",
   "execution_count": 69,
   "id": "4a2736c1-92cb-4130-8e44-24a266322141",
   "metadata": {},
   "outputs": [],
   "source": [
    "nlp = spacy.load('en_core_web_lg')"
   ]
  },
  {
   "cell_type": "code",
   "execution_count": 70,
   "id": "1a9e7245-764e-43a6-bccc-1022c0676f2a",
   "metadata": {},
   "outputs": [
    {
     "data": {
      "text/plain": [
       "<coreferee.manager.CorefereeBroker at 0x7f97c0523fd0>"
      ]
     },
     "execution_count": 70,
     "metadata": {},
     "output_type": "execute_result"
    }
   ],
   "source": [
    "### https://spacy.io/universe/project/coreferee\n",
    "nlp.add_pipe('coreferee')"
   ]
  },
  {
   "cell_type": "code",
   "execution_count": 38,
   "id": "7df67835-c90f-4125-b110-ea913e4684c9",
   "metadata": {},
   "outputs": [],
   "source": [
    "doc = nlp(txt)"
   ]
  },
  {
   "cell_type": "code",
   "execution_count": 39,
   "id": "19aead54-6f5f-4e45-a412-caad1b25093c",
   "metadata": {},
   "outputs": [
    {
     "name": "stdout",
     "output_type": "stream",
     "text": [
      "0: Mästlin(1), His(17), his(24), his(49), He(52), He(70), his(80), his(104), Mästlin(110), his(113), his(127), his(133), he(140), he(167), Mästlin(199), he(216), Mästlin(258), he(302), He(325), he(340), Mästlin(369), Mästlin(388), his(392), he(407), He(489), he(513), his(519), he(529), his(539), his(543), his(556), he(585), his(588), he(593), his(598), Mästlin(606), He(617), his(623), his(626), Mästlin(629), his(635), He(641), he(647), Mästlin(667), Mästlin(682), his(693), he(706), his(719), He(725), he(740), He(748), he(780), his(784), he(801), Mästlin(809), him(812), he(817), Mästlin(842), Mästlin(855)\n",
      "1: father(18), it(47)\n",
      "2: University(86), University(139)\n",
      "3: Master(147), Master(203)\n",
      "4: Tables(225), Tables(234)\n",
      "5: 1571(230), them(245)\n",
      "6: Backnang(314), Backnang(346)\n",
      "7: 1551(330), they(348), their(365), they(382)\n",
      "8: Tübingen(380), Tübingen(415)\n",
      "9: Tübingen(591), Tübingen(604)\n",
      "10: man(645), it(660)\n",
      "11: Kepler(680), Kepler(700)\n",
      "12: comet(736), comet(753)\n",
      "13: Copernicus(743), Copernicus(778)\n",
      "14: Methuen(833), Methuen(850), Methuen(924)\n",
      "15: Kepler(876), his(901), he(915), he(955), he(961), his(991), his(995), he(1022), His(1032), he(1046), his(1051), he(1059)\n",
      "16: believer(881), She(958)\n",
      "17: Tübingen(908), Tübingen(953)\n",
      "18: Methuen(1043), She(1056)\n",
      "19: Mästlin(1088), his(1109), he(1117), He(1161), Mästlin(1199), he(1217), He(1225), he(1241), Mästlin(1304), He(1319), he(1329), He(1341), he(1353), Mästlin(1366), he(1378), his(1394), Mästlin(1408)\n",
      "20: reader(1149), they(1158)\n",
      "21: supernova(1249), it(1260)\n",
      "22: Copernicus(1371), Copernicus(1397)\n",
      "23: book(1387), book(1420)\n",
      "24: hypothesis(1441), itself(1443)\n",
      "25: Mästlin(1448), he(1478), he(1487), him(1548), he(1551), his(1557)\n",
      "26: motions(1453), motions(1475)\n",
      "27: idea(1491), it(1501), it(1510)\n",
      "28: hypotheses(1529), they(1532)\n",
      "29: hypotheses(1615), hypotheses(1665)\n",
      "30: Mästlin(1636), Mästlin(1686), his(1691)\n",
      "31: preface(1696), its(1703), its(1712), it(1722)\n",
      "32: Apian(1745), his(1751), Apian(1763)\n",
      "33: Rheticus(1775), him(1805), Rheticus(1813)\n",
      "34: professor(1779), he(1838), he(1844), he(1847), he(1856), his(1859), him(1883), he(1885), himself(1891)\n",
      "35: Copernicus(1783), Copernicus(1826), it(1832)\n",
      "36: wrangle(1791), it(1799)\n",
      "37: work(1811), work(1835)\n",
      "38: Osiander(1819), Osiander(1878)\n"
     ]
    }
   ],
   "source": [
    "doc._.coref_chains.print()"
   ]
  },
  {
   "cell_type": "code",
   "execution_count": 40,
   "id": "791ef7a8-84fb-4e5b-90dc-67f7bdf307ad",
   "metadata": {},
   "outputs": [
    {
     "data": {
      "text/plain": [
       "he"
      ]
     },
     "execution_count": 40,
     "metadata": {},
     "output_type": "execute_result"
    }
   ],
   "source": [
    "doc[1487]"
   ]
  },
  {
   "cell_type": "code",
   "execution_count": 41,
   "id": "09fcae18-b0c3-44e3-ad16-6e98623a9499",
   "metadata": {},
   "outputs": [
    {
     "name": "stdout",
     "output_type": "stream",
     "text": [
      "[Mästlin]\n"
     ]
    }
   ],
   "source": [
    "print(doc._.coref_chains.resolve(doc[1487]))"
   ]
  },
  {
   "cell_type": "code",
   "execution_count": 42,
   "id": "db90f6a3-414a-42f1-aab4-a7768450610e",
   "metadata": {},
   "outputs": [
    {
     "data": {
      "text/plain": [
       "[0: [1], [17], [24], [49], [52], [70], [80], [104], [110], [113], [127], [133], [140], [167], [199], [216], [258], [302], [325], [340], [369], [388], [392], [407], [489], [513], [519], [529], [539], [543], [556], [585], [588], [593], [598], [606], [617], [623], [626], [629], [635], [641], [647], [667], [682], [693], [706], [719], [725], [740], [748], [780], [784], [801], [809], [812], [817], [842], [855], 1: [18], [47], 2: [86], [139], 3: [147], [203], 4: [225], [234], 5: [230], [245], 6: [314], [346], 7: [330], [348], [365], [382], 8: [380], [415], 9: [591], [604], 10: [645], [660], 11: [680], [700], 12: [736], [753], 13: [743], [778], 14: [833], [850], [924], 15: [876], [901], [915], [955], [961], [991], [995], [1022], [1032], [1046], [1051], [1059], 16: [881], [958], 17: [908], [953], 18: [1043], [1056], 19: [1088], [1109], [1117], [1161], [1199], [1217], [1225], [1241], [1304], [1319], [1329], [1341], [1353], [1366], [1378], [1394], [1408], 20: [1149], [1158], 21: [1249], [1260], 22: [1371], [1397], 23: [1387], [1420], 24: [1441], [1443], 25: [1448], [1478], [1487], [1548], [1551], [1557], 26: [1453], [1475], 27: [1491], [1501], [1510], 28: [1529], [1532], 29: [1615], [1665], 30: [1636], [1686], [1691], 31: [1696], [1703], [1712], [1722], 32: [1745], [1751], [1763], 33: [1775], [1805], [1813], 34: [1779], [1838], [1844], [1847], [1856], [1859], [1883], [1885], [1891], 35: [1783], [1826], [1832], 36: [1791], [1799], 37: [1811], [1835], 38: [1819], [1878]]"
      ]
     },
     "execution_count": 42,
     "metadata": {},
     "output_type": "execute_result"
    }
   ],
   "source": [
    "doc._.coref_chains.deserialize_obj()"
   ]
  },
  {
   "cell_type": "code",
   "execution_count": 43,
   "id": "66bef9ab-1680-4380-b73c-37150282c196",
   "metadata": {},
   "outputs": [
    {
     "data": {
      "text/plain": [
       "(1893, [0, Michael])"
      ]
     },
     "execution_count": 43,
     "metadata": {},
     "output_type": "execute_result"
    }
   ],
   "source": [
    "tks = [[i, tk] for i, tk in enumerate(doc)]\n",
    "len(tks), tks[0]"
   ]
  },
  {
   "cell_type": "code",
   "execution_count": 44,
   "id": "533ce2fb-23ee-416d-9125-2c0a5b08cc76",
   "metadata": {},
   "outputs": [
    {
     "data": {
      "text/plain": [
       "[1487, he]"
      ]
     },
     "execution_count": 44,
     "metadata": {},
     "output_type": "execute_result"
    }
   ],
   "source": [
    "tks[1487]"
   ]
  },
  {
   "cell_type": "code",
   "execution_count": null,
   "id": "4c934fe7-7cdd-4a70-a81b-288e606718b5",
   "metadata": {},
   "outputs": [],
   "source": []
  },
  {
   "cell_type": "code",
   "execution_count": 47,
   "id": "90902213-ff15-4910-9ba1-08d5cdef1b7b",
   "metadata": {
    "tags": []
   },
   "outputs": [
    {
     "name": "stdout",
     "output_type": "stream",
     "text": [
      "Michael Mästlin was born in Göppingen which was a village about 50 km east of Tübingen. Mästlin father, Jakob Mästlin, and Mästlin mother, Dorothea Simon, were both devout Lutherans and Michael was brought up in that faith and remained strongly committed to father throughout Mästlin life. Mästlin was the middle child of the family, having an older sister and a younger brother. Mästlin attended the monastic school in Königsbronn then, after Mästlin studies there, entered Tübingen University in 1568. [3]:-\n",
      "As was the case with many young scholars including Kepler, Mästlin most famous student, [Mästlin ] did Mästlin undergraduate studies at a preparatory school and came to the university to take Mästlin final exams and pick up Mästlin baccalaureate degree.At Tübingen University Mästlin studied mathematics and astronomy for a Master's degree under Philipp Apian who was Peter Apian's son. In 1570, while a student, Mästlin purchased a copy of Copernicus's De revolutionibus from the widow of Victorin Strigel, who had been professor of theology at Leipzig and the author of an astronomy text. Mästlin was awarded a Master 's degree with distinction in 1571. While studying for this degree Mästlin had edited a new edition of the Prutenis Tables which was published in 1571. The Prutenis Tables had been originally compiled by Erasmus Reinhold who had based 1571 on Copernicus's version of the solar system. After graduating, Mästlin spent the following years teaching in Tübingen, and at the same time took [3]:-\n",
      "... the theological programme, because Tübingen University's primary mission was to prepare young men for the Lutheran ministry.Then, in 1576, Mästlin was sent to be a deacon at the Lutheran Church in Backnang, a town about 30 km northwest of Göppingen. Mästlin married Margarete Gruuninger (1551-1588) in April 1577 not long after Mästlin took up the position in Backnang ; 1551 had three sons and three daughters but Margarete died due to complications with the birth of 1551 s\n"
     ]
    }
   ],
   "source": [
    "### Produce resolved text\n",
    "# https://stackoverflow.com/questions/75204212/spacy-coreferee-how-to-cleanly-extract-coreferenced-text\n",
    "\n",
    "resolved_text = \"\"\n",
    "\n",
    "for token in doc[:]:\n",
    "  \n",
    "    repres = doc._.coref_chains.resolve(token)\n",
    "    # print(repres)\n",
    "    if repres:\n",
    "        c = \" and \".join([t.text for t in repres])\n",
    "        # resolved_text += \" \" + c\n",
    "        resolved_text += c + \" \"\n",
    "        # print(c)\n",
    "    else:\n",
    "        # resolved_text += \" \" + token.text\n",
    "        resolved_text += token.text_with_ws\n",
    "\n",
    "print(resolved_text[:2000])"
   ]
  },
  {
   "cell_type": "code",
   "execution_count": null,
   "id": "ac6906c0-85d5-4672-8eb7-d2ff11112568",
   "metadata": {},
   "outputs": [],
   "source": []
  },
  {
   "cell_type": "code",
   "execution_count": 48,
   "id": "8d08f57f-bcaa-4f4f-a5b7-90144d768473",
   "metadata": {},
   "outputs": [
    {
     "name": "stdout",
     "output_type": "stream",
     "text": [
      "274\n",
      "[He, the middle child, the family, an older sister, a younger brother]\n",
      "['_', '__class__', '__delattr__', '__dir__', '__doc__', '__eq__', '__format__', '__ge__', '__getattribute__', '__getitem__', '__gt__', '__hash__', '__init__', '__init_subclass__', '__iter__', '__le__', '__len__', '__lt__', '__ne__', '__new__', '__pyx_vtable__', '__reduce__', '__reduce_ex__', '__repr__', '__setattr__', '__sizeof__', '__str__', '__subclasshook__', '_fix_dep_copy', '_vector', '_vector_norm', 'as_doc', 'char_span', 'conjuncts', 'doc', 'end', 'end_char', 'ent_id', 'ent_id_', 'ents', 'get_extension', 'get_lca_matrix', 'has_extension', 'has_vector', 'id', 'id_', 'kb_id', 'kb_id_', 'label', 'label_', 'lefts', 'lemma_', 'n_lefts', 'n_rights', 'noun_chunks', 'orth_', 'remove_extension', 'rights', 'root', 'sent', 'sentiment', 'sents', 'set_extension', 'similarity', 'start', 'start_char', 'subtree', 'tensor', 'text', 'text_with_ws', 'to_array', 'vector', 'vector_norm', 'vocab']\n"
     ]
    }
   ],
   "source": [
    "i = 0\n",
    "for s in doc.sents:\n",
    "    if i == 2:\n",
    "        print(s.start_char)\n",
    "        print([nc for nc in s.noun_chunks])\n",
    "        print(dir(s))\n",
    "    i += 1    "
   ]
  },
  {
   "cell_type": "code",
   "execution_count": 49,
   "id": "8b9f3a23-e589-42c9-b58b-f68bee033856",
   "metadata": {
    "tags": []
   },
   "outputs": [
    {
     "data": {
      "text/plain": [
       "74"
      ]
     },
     "execution_count": 49,
     "metadata": {},
     "output_type": "execute_result"
    }
   ],
   "source": [
    "### Produce a list of the sentences in the document and add an index to each sentence \n",
    "sents = [[i, s, [nc for nc in s.noun_chunks]]  for i, s in enumerate(doc.sents)]\n",
    "len(sents)"
   ]
  },
  {
   "cell_type": "code",
   "execution_count": 50,
   "id": "aead1dc5-9e9b-4864-afff-82b61575161a",
   "metadata": {
    "scrolled": true,
    "tags": []
   },
   "outputs": [
    {
     "name": "stdout",
     "output_type": "stream",
     "text": [
      "----\n",
      " [0, Michael Mästlin was born in Göppingen which was a village about 50 km east of Tübingen., [Michael Mästlin, Göppingen, a village, Tübingen]]\n",
      "----\n",
      " [1, His father, Jakob Mästlin, and his mother, Dorothea Simon, were both devout Lutherans and Michael was brought up in that faith and remained strongly committed to it throughout his life., [His father, Jakob Mästlin, his mother, Dorothea Simon, both devout Lutherans, Michael, that faith, it, his life]]\n",
      "----\n",
      " [2, He was the middle child of the family, having an older sister and a younger brother., [He, the middle child, the family, an older sister, a younger brother]]\n",
      "----\n",
      " [3, He attended the monastic school in Königsbronn then, after his studies there, entered Tübingen University in 1568., [He, the monastic school, Königsbronn, his studies, Tübingen University]]\n",
      "----\n",
      " [4, [3]:-\n",
      "As was the case with many young scholars including Kepler, his most famous student, [Mästlin] did his undergraduate studies at a preparatory school and came to the university to take his final exams and pick up his baccalaureate degree., [the case, many young scholars, Kepler, his most famous student, Mästlin, his undergraduate studies, a preparatory school, the university, his final exams, his baccalaureate degree]]\n"
     ]
    }
   ],
   "source": [
    "for sent in sents[:5]:\n",
    "    print('----\\n',sent)"
   ]
  },
  {
   "cell_type": "code",
   "execution_count": 51,
   "id": "761f2439-1b5d-4a85-8c11-b74bdaacc2fa",
   "metadata": {},
   "outputs": [
    {
     "data": {
      "text/html": [
       "<div>\n",
       "<style scoped>\n",
       "    .dataframe tbody tr th:only-of-type {\n",
       "        vertical-align: middle;\n",
       "    }\n",
       "\n",
       "    .dataframe tbody tr th {\n",
       "        vertical-align: top;\n",
       "    }\n",
       "\n",
       "    .dataframe thead th {\n",
       "        text-align: right;\n",
       "    }\n",
       "</style>\n",
       "<table border=\"1\" class=\"dataframe\">\n",
       "  <thead>\n",
       "    <tr style=\"text-align: right;\">\n",
       "      <th></th>\n",
       "      <th>text</th>\n",
       "      <th>lemma_</th>\n",
       "      <th>pos_</th>\n",
       "      <th>tag_</th>\n",
       "      <th>dep_</th>\n",
       "      <th>shape_</th>\n",
       "      <th>is_alpha</th>\n",
       "      <th>is_stop</th>\n",
       "    </tr>\n",
       "  </thead>\n",
       "  <tbody>\n",
       "    <tr>\n",
       "      <th>0</th>\n",
       "      <td>Michael</td>\n",
       "      <td>Michael</td>\n",
       "      <td>PROPN</td>\n",
       "      <td>NNP</td>\n",
       "      <td>compound</td>\n",
       "      <td>Xxxxx</td>\n",
       "      <td>True</td>\n",
       "      <td>False</td>\n",
       "    </tr>\n",
       "    <tr>\n",
       "      <th>1</th>\n",
       "      <td>Mästlin</td>\n",
       "      <td>Mästlin</td>\n",
       "      <td>PROPN</td>\n",
       "      <td>NNP</td>\n",
       "      <td>nsubjpass</td>\n",
       "      <td>Xxxxx</td>\n",
       "      <td>True</td>\n",
       "      <td>False</td>\n",
       "    </tr>\n",
       "    <tr>\n",
       "      <th>2</th>\n",
       "      <td>was</td>\n",
       "      <td>be</td>\n",
       "      <td>AUX</td>\n",
       "      <td>VBD</td>\n",
       "      <td>auxpass</td>\n",
       "      <td>xxx</td>\n",
       "      <td>True</td>\n",
       "      <td>True</td>\n",
       "    </tr>\n",
       "    <tr>\n",
       "      <th>3</th>\n",
       "      <td>born</td>\n",
       "      <td>bear</td>\n",
       "      <td>VERB</td>\n",
       "      <td>VBN</td>\n",
       "      <td>ROOT</td>\n",
       "      <td>xxxx</td>\n",
       "      <td>True</td>\n",
       "      <td>False</td>\n",
       "    </tr>\n",
       "    <tr>\n",
       "      <th>4</th>\n",
       "      <td>in</td>\n",
       "      <td>in</td>\n",
       "      <td>ADP</td>\n",
       "      <td>IN</td>\n",
       "      <td>prep</td>\n",
       "      <td>xx</td>\n",
       "      <td>True</td>\n",
       "      <td>True</td>\n",
       "    </tr>\n",
       "    <tr>\n",
       "      <th>...</th>\n",
       "      <td>...</td>\n",
       "      <td>...</td>\n",
       "      <td>...</td>\n",
       "      <td>...</td>\n",
       "      <td>...</td>\n",
       "      <td>...</td>\n",
       "      <td>...</td>\n",
       "      <td>...</td>\n",
       "    </tr>\n",
       "    <tr>\n",
       "      <th>1888</th>\n",
       "      <td>this</td>\n",
       "      <td>this</td>\n",
       "      <td>DET</td>\n",
       "      <td>DT</td>\n",
       "      <td>dobj</td>\n",
       "      <td>xxxx</td>\n",
       "      <td>True</td>\n",
       "      <td>True</td>\n",
       "    </tr>\n",
       "    <tr>\n",
       "      <th>1889</th>\n",
       "      <td>all</td>\n",
       "      <td>all</td>\n",
       "      <td>DET</td>\n",
       "      <td>DT</td>\n",
       "      <td>dobj</td>\n",
       "      <td>xxx</td>\n",
       "      <td>True</td>\n",
       "      <td>True</td>\n",
       "    </tr>\n",
       "    <tr>\n",
       "      <th>1890</th>\n",
       "      <td>by</td>\n",
       "      <td>by</td>\n",
       "      <td>ADP</td>\n",
       "      <td>IN</td>\n",
       "      <td>prep</td>\n",
       "      <td>xx</td>\n",
       "      <td>True</td>\n",
       "      <td>True</td>\n",
       "    </tr>\n",
       "    <tr>\n",
       "      <th>1891</th>\n",
       "      <td>himself</td>\n",
       "      <td>himself</td>\n",
       "      <td>PRON</td>\n",
       "      <td>PRP</td>\n",
       "      <td>pobj</td>\n",
       "      <td>xxxx</td>\n",
       "      <td>True</td>\n",
       "      <td>True</td>\n",
       "    </tr>\n",
       "    <tr>\n",
       "      <th>1892</th>\n",
       "      <td>.</td>\n",
       "      <td>.</td>\n",
       "      <td>PUNCT</td>\n",
       "      <td>.</td>\n",
       "      <td>punct</td>\n",
       "      <td>.</td>\n",
       "      <td>False</td>\n",
       "      <td>False</td>\n",
       "    </tr>\n",
       "  </tbody>\n",
       "</table>\n",
       "<p>1893 rows × 8 columns</p>\n",
       "</div>"
      ],
      "text/plain": [
       "          text   lemma_   pos_ tag_       dep_ shape_  is_alpha  is_stop\n",
       "0     Michael   Michael  PROPN  NNP   compound  Xxxxx      True    False\n",
       "1     Mästlin   Mästlin  PROPN  NNP  nsubjpass  Xxxxx      True    False\n",
       "2         was        be    AUX  VBD    auxpass    xxx      True     True\n",
       "3        born      bear   VERB  VBN       ROOT   xxxx      True    False\n",
       "4          in        in    ADP   IN       prep     xx      True     True\n",
       "...        ...      ...    ...  ...        ...    ...       ...      ...\n",
       "1888     this      this    DET   DT       dobj   xxxx      True     True\n",
       "1889      all       all    DET   DT       dobj    xxx      True     True\n",
       "1890       by        by    ADP   IN       prep     xx      True     True\n",
       "1891   himself  himself   PRON  PRP       pobj   xxxx      True     True\n",
       "1892         .        .  PUNCT    .      punct      .     False    False\n",
       "\n",
       "[1893 rows x 8 columns]"
      ]
     },
     "execution_count": 51,
     "metadata": {},
     "output_type": "execute_result"
    }
   ],
   "source": [
    "info = []\n",
    "for token in doc:\n",
    "    info.append((token.text_with_ws,  token.lemma_, token.pos_, token.tag_, token.dep_,\n",
    "                token.shape_, token.is_alpha, token.is_stop))\n",
    "pd.DataFrame(info, columns = [\"text\", \"lemma_\", \"pos_\", \"tag_\", \"dep_\",\"shape_\", \"is_alpha\", \"is_stop\"])"
   ]
  },
  {
   "cell_type": "code",
   "execution_count": 53,
   "id": "1a31ba6e-07d6-4228-b673-7f0408d11087",
   "metadata": {},
   "outputs": [
    {
     "data": {
      "text/plain": [
       "[0: [1], [17], [24], [49], [52], [70], [80], [104], [110], [113], [127], [133], [140], [167], [199], [216], [258], [302], [325], [340], [369], [388], [392], [407], [489], [513], [519], [529], [539], [543], [556], [585], [588], [593], [598], [606], [617], [623], [626], [629], [635], [641], [647], [667], [682], [693], [706], [719], [725], [740], [748], [780], [784], [801], [809], [812], [817], [842], [855],\n",
       " 1: [18], [47],\n",
       " 2: [86], [139],\n",
       " 3: [147], [203],\n",
       " 4: [225], [234],\n",
       " 5: [230], [245],\n",
       " 6: [314], [346],\n",
       " 7: [330], [348], [365], [382],\n",
       " 8: [380], [415],\n",
       " 9: [591], [604],\n",
       " 10: [645], [660],\n",
       " 11: [680], [700],\n",
       " 12: [736], [753],\n",
       " 13: [743], [778],\n",
       " 14: [833], [850], [924],\n",
       " 15: [876], [901], [915], [955], [961], [991], [995], [1022], [1032], [1046], [1051], [1059],\n",
       " 16: [881], [958],\n",
       " 17: [908], [953],\n",
       " 18: [1043], [1056],\n",
       " 19: [1088], [1109], [1117], [1161], [1199], [1217], [1225], [1241], [1304], [1319], [1329], [1341], [1353], [1366], [1378], [1394], [1408]]"
      ]
     },
     "execution_count": 53,
     "metadata": {},
     "output_type": "execute_result"
    }
   ],
   "source": [
    "doc._.coref_chains.chains[:20]"
   ]
  },
  {
   "cell_type": "code",
   "execution_count": 54,
   "id": "f189ba05-e353-4a99-9151-26b45c36f468",
   "metadata": {
    "tags": []
   },
   "outputs": [
    {
     "name": "stdout",
     "output_type": "stream",
     "text": [
      "Michael\n",
      "Mästlin\n",
      "was\n",
      "born\n",
      "in\n",
      "Göppingen\n",
      "which\n",
      "was\n",
      "a\n",
      "village\n"
     ]
    }
   ],
   "source": [
    "for t in doc[:10]:\n",
    "    print(t)"
   ]
  },
  {
   "cell_type": "code",
   "execution_count": null,
   "id": "20473c15-e2a9-4a84-a8dd-800309f0d0bd",
   "metadata": {},
   "outputs": [],
   "source": []
  },
  {
   "cell_type": "code",
   "execution_count": null,
   "id": "b3c1c044-b7f9-478b-9bb6-ac3440f4030f",
   "metadata": {},
   "outputs": [],
   "source": []
  },
  {
   "cell_type": "code",
   "execution_count": null,
   "id": "ad5168e9-c6a0-4754-b46d-a5c0e618b927",
   "metadata": {},
   "outputs": [],
   "source": []
  },
  {
   "cell_type": "code",
   "execution_count": null,
   "id": "ff796c03-4dac-4ffd-bfdc-b1ee276b136c",
   "metadata": {},
   "outputs": [],
   "source": []
  },
  {
   "cell_type": "markdown",
   "id": "b68b7c4e-afd2-44db-b6fb-3615045a4d22",
   "metadata": {},
   "source": [
    "## ClauCy\n",
    "\n",
    "https://github.com/mmxgn/spacy-clausie\n"
   ]
  },
  {
   "cell_type": "code",
   "execution_count": 68,
   "id": "715315ae-c9a4-4600-83a7-3ff0f21ef19d",
   "metadata": {},
   "outputs": [],
   "source": [
    "import claucy"
   ]
  },
  {
   "cell_type": "code",
   "execution_count": 71,
   "id": "825d3c2a-cdec-4d31-bb83-44ddc6b78584",
   "metadata": {},
   "outputs": [],
   "source": [
    "claucy.add_to_pipe(nlp)    "
   ]
  },
  {
   "cell_type": "code",
   "execution_count": 58,
   "id": "31425ef0-0b39-46f2-a6c6-e76461b48862",
   "metadata": {
    "scrolled": true,
    "tags": []
   },
   "outputs": [],
   "source": [
    "doc = nlp(txt)\n",
    "\n",
    "txt_res = doc._.resolved_text\n"
   ]
  },
  {
   "cell_type": "code",
   "execution_count": 67,
   "id": "910fadde-2719-4033-910b-b2ad7b5c4b69",
   "metadata": {},
   "outputs": [
    {
     "name": "stdout",
     "output_type": "stream",
     "text": [
      "None\n"
     ]
    }
   ],
   "source": [
    "print(txt_res)"
   ]
  },
  {
   "cell_type": "code",
   "execution_count": 76,
   "id": "1e46e844-ae11-4ceb-93e6-353a68504a10",
   "metadata": {
    "scrolled": true,
    "tags": []
   },
   "outputs": [],
   "source": [
    "### The resolved_text variable is defined above\n",
    "doc = nlp(resolved_text)"
   ]
  },
  {
   "cell_type": "code",
   "execution_count": 77,
   "id": "8d140f9f-8d17-4dc7-ac3f-5612ec1cf2cd",
   "metadata": {},
   "outputs": [],
   "source": [
    "sents = [s for s in doc.sents]"
   ]
  },
  {
   "cell_type": "code",
   "execution_count": 78,
   "id": "be04b41d-7106-4864-8255-dfdc51444eec",
   "metadata": {},
   "outputs": [],
   "source": [
    "info = []\n",
    "for token in sents[3]:\n",
    "    info.append((token.text, token.lemma_, token.pos_, token.tag_, token.dep_,\n",
    "                token.shape_, token.is_alpha, token.is_stop))\n",
    "tx_df  = pd.DataFrame(info, columns = [\"text\", \"lemma_\", \"pos_\", \"tag_\", \"dep_\",\"shape_\", \"is_alpha\", \"is_stop\"])"
   ]
  },
  {
   "cell_type": "code",
   "execution_count": 79,
   "id": "c7b2fba7-b55b-4b2a-878d-dce4ad4a4d74",
   "metadata": {
    "tags": []
   },
   "outputs": [
    {
     "data": {
      "text/html": [
       "<style>.itables table td {\n",
       "    text-overflow: ellipsis;\n",
       "    overflow: hidden;\n",
       "}\n",
       "\n",
       ".itables table th {\n",
       "    text-overflow: ellipsis;\n",
       "    overflow: hidden;\n",
       "}\n",
       "\n",
       ".itables thead input {\n",
       "    width: 100%;\n",
       "    padding: 3px;\n",
       "    box-sizing: border-box;\n",
       "}\n",
       "\n",
       ".itables tfoot input {\n",
       "    width: 100%;\n",
       "    padding: 3px;\n",
       "    box-sizing: border-box;\n",
       "}\n",
       "</style>\n",
       "<div class=\"itables\">\n",
       "<table id=\"9e697b07-71f3-4df4-8ecf-484be0f040ad\" class=\"display\"style=\"table-layout:auto;width:auto;margin:auto;caption-side:bottom\"><thead>\n",
       "    <tr style=\"text-align: right;\">\n",
       "      \n",
       "      <th>text</th>\n",
       "      <th>lemma_</th>\n",
       "      <th>pos_</th>\n",
       "      <th>tag_</th>\n",
       "      <th>dep_</th>\n",
       "      <th>shape_</th>\n",
       "      <th>is_alpha</th>\n",
       "      <th>is_stop</th>\n",
       "    </tr>\n",
       "  </thead><tbody><tr><td>Loading... (need <a href=https://mwouts.github.io/itables/troubleshooting.html>help</a>?)</td></tr></tbody><tfoot><th>text</th><th>lemma_</th><th>pos_</th><th>tag_</th><th>dep_</th><th>shape_</th><th>is_alpha</th><th>is_stop</th></tfoot></table>\n",
       "<link rel=\"stylesheet\" type=\"text/css\" href=\"https://cdn.datatables.net/1.13.1/css/jquery.dataTables.min.css\">\n",
       "<script type=\"module\">\n",
       "    // Import jquery and DataTable\n",
       "    import 'https://code.jquery.com/jquery-3.6.0.min.js';\n",
       "    import dt from 'https://cdn.datatables.net/1.12.1/js/jquery.dataTables.mjs';\n",
       "    dt($);\n",
       "\n",
       "    // Define the table data\n",
       "    const data = [[\"M\\u00e4stlin\", \"M\\u00e4stlin\", \"PROPN\", \"NNP\", \"nsubj\", \"Xxxxx\", true, false], [\"attended\", \"attend\", \"VERB\", \"VBD\", \"ROOT\", \"xxxx\", true, false], [\"the\", \"the\", \"DET\", \"DT\", \"det\", \"xxx\", true, true], [\"monastic\", \"monastic\", \"ADJ\", \"JJ\", \"amod\", \"xxxx\", true, false], [\"school\", \"school\", \"NOUN\", \"NN\", \"dobj\", \"xxxx\", true, false], [\"in\", \"in\", \"ADP\", \"IN\", \"prep\", \"xx\", true, true], [\"K\\u00f6nigsbronn\", \"K\\u00f6nigsbronn\", \"PROPN\", \"NNP\", \"pobj\", \"Xxxxx\", true, false], [\"then\", \"then\", \"ADV\", \"RB\", \"advmod\", \"xxxx\", true, true], [\",\", \",\", \"PUNCT\", \",\", \"punct\", \",\", false, false], [\"after\", \"after\", \"ADP\", \"IN\", \"prep\", \"xxxx\", true, true], [\"M\\u00e4stlin\", \"M\\u00e4stlin\", \"PROPN\", \"NNP\", \"compound\", \"Xxxxx\", true, false], [\"studies\", \"study\", \"NOUN\", \"NNS\", \"pobj\", \"xxxx\", true, false], [\"there\", \"there\", \"ADV\", \"RB\", \"advmod\", \"xxxx\", true, true], [\",\", \",\", \"PUNCT\", \",\", \"punct\", \",\", false, false], [\"entered\", \"enter\", \"VERB\", \"VBD\", \"advcl\", \"xxxx\", true, false], [\"T\\u00fcbingen\", \"T\\u00fcbingen\", \"PROPN\", \"NNP\", \"compound\", \"Xxxxx\", true, false], [\"University\", \"University\", \"PROPN\", \"NNP\", \"dobj\", \"Xxxxx\", true, false], [\"in\", \"in\", \"ADP\", \"IN\", \"prep\", \"xx\", true, true], [\"1568\", \"1568\", \"NUM\", \"CD\", \"pobj\", \"dddd\", false, false], [\".\", \".\", \"PUNCT\", \".\", \"punct\", \".\", false, false]];\n",
       "\n",
       "    // Define the dt_args\n",
       "    let dt_args = {\"scrollY\": \"200px\", \"scrollCollapse\": true, \"paging\": false, \"dom\": \"lrtip\", \"order\": [], \"initComplete\": function () {\n",
       "    // Apply the search\n",
       "    this.api()\n",
       "        .columns()\n",
       "        .every(function () {\n",
       "            const that = this;\n",
       "\n",
       "            $('input', this.footer()).on('keyup change clear', function () {\n",
       "                if (that.search() !== this.value) {\n",
       "                    that.search(this.value).draw();\n",
       "                }\n",
       "            });\n",
       "        });\n",
       "}\n",
       "};\n",
       "    dt_args[\"data\"] = data;\n",
       "\n",
       "    $(document).ready(function () {\n",
       "        // Setup - add a text input to each header or footer cell\n",
       "$('#9e697b07-71f3-4df4-8ecf-484be0f040ad tfoot th').each(function () {\n",
       "    let title = $(this).text();\n",
       "    $(this).html('<input type=\"text\" placeholder=\"Search ' +\n",
       "        // We use encodeURI to avoid this LGTM error:\n",
       "        // https://lgtm.com/rules/1511866576920/\n",
       "        encodeURI(title).replaceAll(\"%20\", \" \") +\n",
       "        '\" />');\n",
       "});\n",
       "\n",
       "        $('#9e697b07-71f3-4df4-8ecf-484be0f040ad').DataTable(dt_args);\n",
       "    });\n",
       "</script>\n",
       "</div>\n"
      ],
      "text/plain": [
       "<IPython.core.display.HTML object>"
      ]
     },
     "metadata": {},
     "output_type": "display_data"
    }
   ],
   "source": [
    "### https://github.com/mwouts/itables/blob/main/docs/advanced_parameters.md\n",
    "show(tx_df, classes=\"display\", scrollY=\"200px\", scrollCollapse=True, paging=False, column_filters=\"footer\", dom=\"lrtip\")"
   ]
  },
  {
   "cell_type": "code",
   "execution_count": 83,
   "id": "89a7266a-fee2-439d-8793-9b41a8acff2e",
   "metadata": {},
   "outputs": [],
   "source": [
    "props = []\n",
    "for d in sents[3]._.clauses:\n",
    "    props.append(d.to_propositions(inflect=None))\n"
   ]
  },
  {
   "cell_type": "code",
   "execution_count": 84,
   "id": "aeffe04c-733b-4764-a84a-c28061767cad",
   "metadata": {},
   "outputs": [
    {
     "data": {
      "text/plain": [
       "2"
      ]
     },
     "execution_count": 84,
     "metadata": {},
     "output_type": "execute_result"
    }
   ],
   "source": [
    "len(props)"
   ]
  },
  {
   "cell_type": "code",
   "execution_count": 82,
   "id": "05de4aec-75a8-4348-9076-c91444cadcff",
   "metadata": {
    "tags": []
   },
   "outputs": [
    {
     "data": {
      "text/plain": [
       "[[(Mästlin, attended, the monastic school, then),\n",
       "  (Mästlin, attended, the monastic school)],\n",
       " [(Mästlin, entered, Tübingen University),\n",
       "  (Mästlin, entered, Tübingen University, after Mästlin studies there),\n",
       "  (Mästlin, entered, Tübingen University, in 1568)]]"
      ]
     },
     "execution_count": 82,
     "metadata": {},
     "output_type": "execute_result"
    }
   ],
   "source": [
    "props[:10]"
   ]
  },
  {
   "cell_type": "code",
   "execution_count": null,
   "id": "1698dc51-7737-4350-9538-31a833c0b2ba",
   "metadata": {},
   "outputs": [],
   "source": []
  },
  {
   "cell_type": "markdown",
   "id": "5f2ecf36-2d64-4d8c-9f9c-017894424d61",
   "metadata": {},
   "source": [
    "## Concepcy\n",
    "\n",
    "A spaCy wrapper for ConceptNet, a freely-available semantic network designed to help computers understand the meaning of words.\n",
    "\n",
    "* https://spacy.io/universe/project/concepcy"
   ]
  },
  {
   "cell_type": "code",
   "execution_count": 86,
   "id": "37783c98-14b4-4886-bccb-805cba7974b1",
   "metadata": {},
   "outputs": [],
   "source": [
    "import concepcy"
   ]
  },
  {
   "cell_type": "code",
   "execution_count": 91,
   "id": "e6107cd5-c6de-48e8-bf2e-05669896742a",
   "metadata": {},
   "outputs": [
    {
     "name": "stdout",
     "output_type": "stream",
     "text": [
      "Word: company [{'start': {'id': '/c/en/company', 'label': 'company', 'language': 'en', 'term': '/c/en/company', '@type': 'Node'}, 'end': {'id': '/c/en/business', 'label': 'business', 'language': 'en', 'term': '/c/en/business', '@type': 'Node'}, 'relation': 'RelatedTo', 'text': '[[company]] is related to [[business]]', 'weight': 6.424017434596516}, {'start': {'id': '/c/en/company', 'label': 'company', 'language': 'en', 'term': '/c/en/company', '@type': 'Node'}, 'end': {'id': '/c/en/corporation', 'label': 'corporation', 'language': 'en', 'term': '/c/en/corporation', '@type': 'Node'}, 'relation': 'RelatedTo', 'text': '[[company]] is related to [[corporation]]', 'weight': 4.432155231938521}, {'start': {'id': '/c/en/company', 'label': 'company', 'language': 'en', 'term': '/c/en/company', '@type': 'Node'}, 'end': {'id': '/c/en/organization', 'label': 'organization', 'language': 'en', 'term': '/c/en/organization', '@type': 'Node'}, 'relation': 'RelatedTo', 'text': '[[company]] is related to [[organization]]', 'weight': 4.259107887809371}, {'start': {'id': '/c/en/organization', 'label': 'organization', 'language': 'en', 'term': '/c/en/organization', '@type': 'Node'}, 'end': {'id': '/c/en/company', 'label': 'company', 'language': 'en', 'term': '/c/en/company', '@type': 'Node'}, 'relation': 'RelatedTo', 'text': '[[organization]] is related to [[company]]', 'weight': 3.4117444218463957}, {'start': {'id': '/c/en/business', 'label': 'business', 'language': 'en', 'term': '/c/en/business', '@type': 'Node'}, 'end': {'id': '/c/en/company', 'label': 'company', 'language': 'en', 'term': '/c/en/company', '@type': 'Node'}, 'relation': 'RelatedTo', 'text': '[[business]] is related to [[company]]', 'weight': 3.2174524083504323}, {'start': {'id': '/c/en/company', 'label': 'company', 'language': 'en', 'term': '/c/en/company', '@type': 'Node'}, 'end': {'id': '/c/en/group', 'label': 'group', 'language': 'en', 'term': '/c/en/group', '@type': 'Node'}, 'relation': 'RelatedTo', 'text': '[[company]] is related to [[group]]', 'weight': 2.615339366124404}, {'start': {'id': '/c/en/company', 'label': 'company', 'language': 'en', 'term': '/c/en/company', '@type': 'Node'}, 'end': {'id': '/c/en/firm', 'label': 'firm', 'language': 'en', 'term': '/c/en/firm', '@type': 'Node'}, 'relation': 'RelatedTo', 'text': '[[company]] is related to [[firm]]', 'weight': 2.5775957790157857}, {'start': {'id': '/c/en/corporation', 'label': 'corporation', 'language': 'en', 'term': '/c/en/corporation', '@type': 'Node'}, 'end': {'id': '/c/en/company', 'label': 'company', 'language': 'en', 'term': '/c/en/company', '@type': 'Node'}, 'relation': 'RelatedTo', 'text': '[[corporation]] is related to [[company]]', 'weight': 2.5651510676761315}, {'start': {'id': '/c/en/department', 'label': 'department', 'language': 'en', 'term': '/c/en/department', '@type': 'Node'}, 'end': {'id': '/c/en/company', 'label': 'company', 'language': 'en', 'term': '/c/en/company', '@type': 'Node'}, 'relation': 'RelatedTo', 'text': '[[department]] is related to [[company]]', 'weight': 2.420743687382041}, {'start': {'id': '/c/en/company', 'label': 'company', 'language': 'en', 'term': '/c/en/company', '@type': 'Node'}, 'end': {'id': '/c/en/work', 'label': 'work', 'language': 'en', 'term': '/c/en/work', '@type': 'Node'}, 'relation': 'RelatedTo', 'text': '[[company]] is related to [[work]]', 'weight': 2.06494551986245}, {'start': {'id': '/c/en/company', 'label': 'company', 'language': 'en', 'term': '/c/en/company', '@type': 'Node'}, 'end': {'id': '/c/en/people', 'label': 'people', 'language': 'en', 'term': '/c/en/people', '@type': 'Node'}, 'relation': 'RelatedTo', 'text': '[[company]] is related to [[people]]', 'weight': 2.0337158110217857}]\n",
      "Word: WHO  []\n",
      "Word: is  []\n",
      "Word: a  []\n",
      "Word: lovely  []\n",
      "Word: company  [{'start': {'id': '/c/en/company', 'label': 'company', 'language': 'en', 'term': '/c/en/company', '@type': 'Node'}, 'end': {'id': '/c/en/business', 'label': 'business', 'language': 'en', 'term': '/c/en/business', '@type': 'Node'}, 'relation': 'RelatedTo', 'text': '[[company]] is related to [[business]]', 'weight': 6.424017434596516}, {'start': {'id': '/c/en/company', 'label': 'company', 'language': 'en', 'term': '/c/en/company', '@type': 'Node'}, 'end': {'id': '/c/en/corporation', 'label': 'corporation', 'language': 'en', 'term': '/c/en/corporation', '@type': 'Node'}, 'relation': 'RelatedTo', 'text': '[[company]] is related to [[corporation]]', 'weight': 4.432155231938521}, {'start': {'id': '/c/en/company', 'label': 'company', 'language': 'en', 'term': '/c/en/company', '@type': 'Node'}, 'end': {'id': '/c/en/organization', 'label': 'organization', 'language': 'en', 'term': '/c/en/organization', '@type': 'Node'}, 'relation': 'RelatedTo', 'text': '[[company]] is related to [[organization]]', 'weight': 4.259107887809371}, {'start': {'id': '/c/en/organization', 'label': 'organization', 'language': 'en', 'term': '/c/en/organization', '@type': 'Node'}, 'end': {'id': '/c/en/company', 'label': 'company', 'language': 'en', 'term': '/c/en/company', '@type': 'Node'}, 'relation': 'RelatedTo', 'text': '[[organization]] is related to [[company]]', 'weight': 3.4117444218463957}, {'start': {'id': '/c/en/business', 'label': 'business', 'language': 'en', 'term': '/c/en/business', '@type': 'Node'}, 'end': {'id': '/c/en/company', 'label': 'company', 'language': 'en', 'term': '/c/en/company', '@type': 'Node'}, 'relation': 'RelatedTo', 'text': '[[business]] is related to [[company]]', 'weight': 3.2174524083504323}, {'start': {'id': '/c/en/company', 'label': 'company', 'language': 'en', 'term': '/c/en/company', '@type': 'Node'}, 'end': {'id': '/c/en/group', 'label': 'group', 'language': 'en', 'term': '/c/en/group', '@type': 'Node'}, 'relation': 'RelatedTo', 'text': '[[company]] is related to [[group]]', 'weight': 2.615339366124404}, {'start': {'id': '/c/en/company', 'label': 'company', 'language': 'en', 'term': '/c/en/company', '@type': 'Node'}, 'end': {'id': '/c/en/firm', 'label': 'firm', 'language': 'en', 'term': '/c/en/firm', '@type': 'Node'}, 'relation': 'RelatedTo', 'text': '[[company]] is related to [[firm]]', 'weight': 2.5775957790157857}, {'start': {'id': '/c/en/corporation', 'label': 'corporation', 'language': 'en', 'term': '/c/en/corporation', '@type': 'Node'}, 'end': {'id': '/c/en/company', 'label': 'company', 'language': 'en', 'term': '/c/en/company', '@type': 'Node'}, 'relation': 'RelatedTo', 'text': '[[corporation]] is related to [[company]]', 'weight': 2.5651510676761315}, {'start': {'id': '/c/en/department', 'label': 'department', 'language': 'en', 'term': '/c/en/department', '@type': 'Node'}, 'end': {'id': '/c/en/company', 'label': 'company', 'language': 'en', 'term': '/c/en/company', '@type': 'Node'}, 'relation': 'RelatedTo', 'text': '[[department]] is related to [[company]]', 'weight': 2.420743687382041}, {'start': {'id': '/c/en/company', 'label': 'company', 'language': 'en', 'term': '/c/en/company', '@type': 'Node'}, 'end': {'id': '/c/en/work', 'label': 'work', 'language': 'en', 'term': '/c/en/work', '@type': 'Node'}, 'relation': 'RelatedTo', 'text': '[[company]] is related to [[work]]', 'weight': 2.06494551986245}, {'start': {'id': '/c/en/company', 'label': 'company', 'language': 'en', 'term': '/c/en/company', '@type': 'Node'}, 'end': {'id': '/c/en/people', 'label': 'people', 'language': 'en', 'term': '/c/en/people', '@type': 'Node'}, 'relation': 'RelatedTo', 'text': '[[company]] is related to [[people]]', 'weight': 2.0337158110217857}]\n"
     ]
    }
   ],
   "source": [
    "nlp = spacy.load('en_core_web_lg')\n",
    "# Using default concepCy configuration\n",
    "nlp.add_pipe('concepcy')\n",
    "\n",
    "doc = nlp('WHO is a lovely company')\n",
    "\n",
    "# Access all the 'RelatedTo' relations from the Doc\n",
    "for word, relations in doc._.relatedto.items():\n",
    "    print(f'Word: {word} {relations}')\n",
    "\n",
    "# Access the 'RelatedTo' relations word by word\n",
    "for token in doc:\n",
    "    print(f'Word: {token}  {token._.relatedto}')"
   ]
  },
  {
   "cell_type": "code",
   "execution_count": null,
   "id": "cc73f81c-89fb-43e3-9b8c-48f9f4f04564",
   "metadata": {},
   "outputs": [],
   "source": []
  },
  {
   "cell_type": "code",
   "execution_count": null,
   "id": "def52539-9f9f-4543-9e36-1d5555772144",
   "metadata": {},
   "outputs": [],
   "source": []
  },
  {
   "cell_type": "code",
   "execution_count": null,
   "id": "0e5d6b0d-545c-4220-820f-8ee3143b4bcc",
   "metadata": {},
   "outputs": [],
   "source": []
  },
  {
   "cell_type": "code",
   "execution_count": null,
   "id": "8f4e2be2-25b5-4f6e-b1ff-de2888c48247",
   "metadata": {},
   "outputs": [],
   "source": []
  },
  {
   "cell_type": "code",
   "execution_count": null,
   "id": "5685474f-339c-48c1-bec2-6a629af42dc0",
   "metadata": {},
   "outputs": [],
   "source": []
  },
  {
   "cell_type": "code",
   "execution_count": null,
   "id": "82522cfd-404b-4ebe-8df1-2181e7736ea1",
   "metadata": {},
   "outputs": [],
   "source": []
  },
  {
   "cell_type": "code",
   "execution_count": null,
   "id": "418782e4-c999-4260-82c4-74771f48e26d",
   "metadata": {},
   "outputs": [],
   "source": []
  },
  {
   "cell_type": "code",
   "execution_count": null,
   "id": "667ad16b-8ee7-4f63-82ad-cb28416580cb",
   "metadata": {},
   "outputs": [],
   "source": []
  }
 ],
 "metadata": {
  "kernelspec": {
   "display_name": "py310_pip_spacy",
   "language": "python",
   "name": "py310_pip_spacy"
  },
  "language_info": {
   "codemirror_mode": {
    "name": "ipython",
    "version": 3
   },
   "file_extension": ".py",
   "mimetype": "text/x-python",
   "name": "python",
   "nbconvert_exporter": "python",
   "pygments_lexer": "ipython3",
   "version": "3.10.11"
  }
 },
 "nbformat": 4,
 "nbformat_minor": 5
}
