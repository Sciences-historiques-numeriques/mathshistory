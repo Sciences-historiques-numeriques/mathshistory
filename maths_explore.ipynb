{
 "cells": [
  {
   "cell_type": "markdown",
   "metadata": {},
   "source": [
    "# Explore the biographical texts and prepare data acquisition"
   ]
  },
  {
   "cell_type": "markdown",
   "metadata": {
    "tags": []
   },
   "source": [
    "## Site original\n",
    "\n",
    "Licence : \n",
    "\n",
    "[Copyright Information](https://mathshistory.st-andrews.ac.uk/Miscellaneous/copyright/) (Original website) -> [Creative Commons License 4.0 BY SA](http://creativecommons.org/licenses/by-sa/4.0/)\n",
    "\n",
    "https://mathshistory.st-andrews.ac.uk/Biographies/chronological\n",
    "\n",
    "Je téléchargé la page dans le dossier : /mathshistory/html_files\n",
    "\n",
    "Fichier original Chronological Biographies Index - MacTutor History of Mathematics.html\n",
    "Copie : chrono_biogr_index.html\n",
    "Je nettoye le fichier directement en HTML (Atom) afin de tout simplement avoir la liste que je veux travailler\n",
    "\n",
    "https://mathshistory.st-andrews.ac.uk/Biographies/Tartaglia/\n"
   ]
  },
  {
   "cell_type": "code",
   "execution_count": 2,
   "metadata": {},
   "outputs": [],
   "source": [
    "### Importation de modules\n",
    "import lxml.html\n",
    "import re\n",
    "from lxml import etree\n",
    "import requests\n",
    "import altair as alt"
   ]
  },
  {
   "cell_type": "markdown",
   "metadata": {},
   "source": [
    "## Explore mathematician's list"
   ]
  },
  {
   "cell_type": "code",
   "execution_count": 3,
   "metadata": {},
   "outputs": [
    {
     "data": {
      "text/plain": [
       "<lxml.etree._ElementTree at 0x7f3505b0b140>"
      ]
     },
     "execution_count": 3,
     "metadata": {},
     "output_type": "execute_result"
    }
   ],
   "source": [
    "### This file was created manually from this address (retrieved 8 April 2023)\n",
    "# https://mathshistory.st-andrews.ac.uk/Biographies/chronological/\n",
    "# by eliminating unuseful scripts and indexes\n",
    "\n",
    "# Mathematicians from the year 1000 and onward \n",
    "f = \"html_files/chrono_biogr_index_1000_and_later.html\"\n",
    "a = etree.parse(f)\n",
    "a"
   ]
  },
  {
   "cell_type": "code",
   "execution_count": null,
   "metadata": {},
   "outputs": [],
   "source": []
  },
  {
   "cell_type": "code",
   "execution_count": 4,
   "metadata": {},
   "outputs": [
    {
     "data": {
      "text/plain": [
       "['https://mathshistory.st-andrews.ac.uk/Biographies/Al-Nasawi/',\n",
       " 'https://mathshistory.st-andrews.ac.uk/Biographies/Jia_Xian/']"
      ]
     },
     "execution_count": 4,
     "metadata": {},
     "output_type": "execute_result"
    }
   ],
   "source": [
    "### Test the syntax to extract the URLs\n",
    "a.xpath('//li/a/@href')[0:2]"
   ]
  },
  {
   "cell_type": "code",
   "execution_count": 5,
   "metadata": {},
   "outputs": [
    {
     "name": "stdout",
     "output_type": "stream",
     "text": [
      "3010\n"
     ]
    },
    {
     "data": {
      "text/plain": [
       "3010"
      ]
     },
     "execution_count": 5,
     "metadata": {},
     "output_type": "execute_result"
    }
   ],
   "source": [
    "### Extract all URLs\n",
    "l_url = a.xpath('//li/a/@href')\n",
    "print(len(l_url))\n",
    "### syntax for relative URLs, not needed here\n",
    "# restructured_url = ['https://mathshistory.st-andrews.ac.uk/' + url.replace('../../', '') for url in l_url]\n",
    "urls = [url for url in l_url]\n",
    "len(urls)"
   ]
  },
  {
   "cell_type": "code",
   "execution_count": 6,
   "metadata": {
    "tags": []
   },
   "outputs": [
    {
     "data": {
      "text/plain": [
       "['https://mathshistory.st-andrews.ac.uk/Biographies/Al-Nasawi/',\n",
       " 'https://mathshistory.st-andrews.ac.uk/Biographies/Jia_Xian/']"
      ]
     },
     "execution_count": 6,
     "metadata": {},
     "output_type": "execute_result"
    }
   ],
   "source": [
    "urls[:2]"
   ]
  },
  {
   "cell_type": "code",
   "execution_count": 7,
   "metadata": {},
   "outputs": [],
   "source": [
    "### Prepare the whole list of persons\n",
    "t = a.xpath('//li') #[0:2]"
   ]
  },
  {
   "cell_type": "code",
   "execution_count": 8,
   "metadata": {},
   "outputs": [],
   "source": [
    "### Extract birth/death year, name, URL \n",
    "l_date_nom_url = [[e.xpath('./text()')[0].replace('(', '').replace(')', '').replace(' - ', '-').strip(), \\\n",
    "                   e.xpath('./a/text()')[0], \\\n",
    "                   e.xpath('./a/@href')[0]] \\\n",
    "                   for e in t]"
   ]
  },
  {
   "cell_type": "code",
   "execution_count": 9,
   "metadata": {},
   "outputs": [
    {
     "name": "stdout",
     "output_type": "stream",
     "text": [
      "3010\n"
     ]
    },
    {
     "data": {
      "text/plain": [
       "([['1089-1173',\n",
       "   'Hemchandra',\n",
       "   'https://mathshistory.st-andrews.ac.uk/Biographies/Hemchandra/'],\n",
       "  ['1092-1167',\n",
       "   'Rabbi Ben Ezra',\n",
       "   'https://mathshistory.st-andrews.ac.uk/Biographies/Ezra/'],\n",
       "  ['1100-1160',\n",
       "   'Jabir ibn Aflah',\n",
       "   'https://mathshistory.st-andrews.ac.uk/Biographies/Jabir_ibn_Aflah/']],\n",
       " [['1979-',\n",
       "   'Artur Ávila',\n",
       "   'https://mathshistory.st-andrews.ac.uk/Biographies/Avila/'],\n",
       "  ['1984-',\n",
       "   'Maryna Viazovska',\n",
       "   'https://mathshistory.st-andrews.ac.uk/Biographies/Viazovska/'],\n",
       "  ['1984-',\n",
       "   'Qëndrim Gashi',\n",
       "   'https://mathshistory.st-andrews.ac.uk/Biographies/Gashi/']])"
      ]
     },
     "execution_count": 9,
     "metadata": {},
     "output_type": "execute_result"
    }
   ],
   "source": [
    "print(len(l_date_nom_url))\n",
    "l_date_nom_url[10:13], l_date_nom_url[-3:]"
   ]
  },
  {
   "cell_type": "code",
   "execution_count": 10,
   "metadata": {},
   "outputs": [
    {
     "data": {
      "text/plain": [
       "3010"
      ]
     },
     "execution_count": 10,
     "metadata": {},
     "output_type": "execute_result"
    }
   ],
   "source": [
    "### Transform years into integers\n",
    "l_astro = [[e[1], int(e[0][:4]), int(e[0][5:9]) if len(e[0])> 5 else None, e[2]] for e in l_date_nom_url]; len(l_astro)"
   ]
  },
  {
   "cell_type": "code",
   "execution_count": 11,
   "metadata": {},
   "outputs": [
    {
     "name": "stdout",
     "output_type": "stream",
     "text": [
      "[['al-Nasawi', 1010, 1075, 'https://mathshistory.st-andrews.ac.uk/Biographies/Al-Nasawi/'], ['Jia Xian', 1010, 1070, 'https://mathshistory.st-andrews.ac.uk/Biographies/Jia_Xian/']] \n",
      "----\n",
      " [['Terence Tao', 1975, None, 'https://mathshistory.st-andrews.ac.uk/Biographies/Tao/'], ['Maryam Mirzakhani', 1977, 2017, 'https://mathshistory.st-andrews.ac.uk/Biographies/Mirzakhani/']]\n"
     ]
    }
   ],
   "source": [
    "print(l_astro[:2], '\\n----\\n',l_astro[-5:-3])"
   ]
  },
  {
   "cell_type": "code",
   "execution_count": 12,
   "metadata": {},
   "outputs": [
    {
     "data": {
      "text/plain": [
       "[1010, 1010, 1013]"
      ]
     },
     "execution_count": 12,
     "metadata": {},
     "output_type": "execute_result"
    }
   ],
   "source": [
    "### List birth years\n",
    "y_l = [e[1] for e in l_astro]; y_l[:3]"
   ]
  },
  {
   "cell_type": "code",
   "execution_count": 13,
   "metadata": {},
   "outputs": [
    {
     "data": {
      "text/plain": [
       "(1010, 1984)"
      ]
     },
     "execution_count": 13,
     "metadata": {},
     "output_type": "execute_result"
    }
   ],
   "source": [
    "### Get min and max birth years\n",
    "min(y_l), max(y_l)"
   ]
  },
  {
   "cell_type": "code",
   "execution_count": 14,
   "metadata": {},
   "outputs": [
    {
     "data": {
      "text/plain": [
       "(19,\n",
       " [(1001, 1050), (1051, 1100), (1101, 1150)],\n",
       " [(1801, 1850), (1851, 1900), (1901, 1950)])"
      ]
     },
     "execution_count": 14,
     "metadata": {},
     "output_type": "execute_result"
    }
   ],
   "source": [
    "### Create periods\n",
    "period = 50 # remplacer si souhaité avec 10, 15, 20, 50 etc.\n",
    "per_l = list(range(1001, 1921, period))\n",
    "per_ll = [(l, l+ period -1) for l in per_l]\n",
    "len(per_ll),per_ll[:3],per_ll[-3:]"
   ]
  },
  {
   "cell_type": "code",
   "execution_count": 15,
   "metadata": {
    "tags": []
   },
   "outputs": [
    {
     "data": {
      "text/plain": [
       "[['1001_1050',\n",
       "  7,\n",
       "  ['al-Nasawi',\n",
       "   'Jia Xian',\n",
       "   'Hermann of Reichenau',\n",
       "   'Sripati',\n",
       "   'al-Zarqali',\n",
       "   'Shen Kua',\n",
       "   'Omar Khayyam']]]"
      ]
     },
     "execution_count": 15,
     "metadata": {},
     "output_type": "execute_result"
    }
   ],
   "source": [
    "### Add periods to data\n",
    "\n",
    "per_r = []\n",
    "for a in per_ll:\n",
    "    # créer le label de la période \n",
    "    label = f'{a[0]}_{a[1]}'\n",
    "    # réinitialiser ces variables à chaque boucle\n",
    "    effectif = 0\n",
    "    noms =  []\n",
    "    for v in l_astro:\n",
    "        if v[1] >= a[0] and v[1] <= a[1] and (v[1] < 1921 or (v[1] > 1920 and v[2])): # dernière clause = protection de données, max nés en 1930\n",
    "            effectif += 1\n",
    "            noms.append(v[0])\n",
    "            # pass\n",
    "    per_r.append([label, effectif, noms])\n",
    "\n",
    "per_r[:1]  #, per_r[-1:]"
   ]
  },
  {
   "cell_type": "code",
   "execution_count": null,
   "metadata": {
    "tags": []
   },
   "outputs": [],
   "source": []
  },
  {
   "cell_type": "code",
   "execution_count": 16,
   "metadata": {
    "scrolled": true,
    "tags": []
   },
   "outputs": [],
   "source": [
    "### Prepare data to visualize\n",
    "data = [{'per': e[0], 'eff': e[1], 'names': '\\n'.join(e[2])} for e in per_r]"
   ]
  },
  {
   "cell_type": "code",
   "execution_count": 17,
   "metadata": {
    "tags": []
   },
   "outputs": [
    {
     "data": {
      "text/html": [
       "\n",
       "<div id=\"altair-viz-1230f0237a2945fbb4cda132f32b008c\"></div>\n",
       "<script type=\"text/javascript\">\n",
       "  var VEGA_DEBUG = (typeof VEGA_DEBUG == \"undefined\") ? {} : VEGA_DEBUG;\n",
       "  (function(spec, embedOpt){\n",
       "    let outputDiv = document.currentScript.previousElementSibling;\n",
       "    if (outputDiv.id !== \"altair-viz-1230f0237a2945fbb4cda132f32b008c\") {\n",
       "      outputDiv = document.getElementById(\"altair-viz-1230f0237a2945fbb4cda132f32b008c\");\n",
       "    }\n",
       "    const paths = {\n",
       "      \"vega\": \"https://cdn.jsdelivr.net/npm//vega@5?noext\",\n",
       "      \"vega-lib\": \"https://cdn.jsdelivr.net/npm//vega-lib?noext\",\n",
       "      \"vega-lite\": \"https://cdn.jsdelivr.net/npm//vega-lite@4.17.0?noext\",\n",
       "      \"vega-embed\": \"https://cdn.jsdelivr.net/npm//vega-embed@6?noext\",\n",
       "    };\n",
       "\n",
       "    function maybeLoadScript(lib, version) {\n",
       "      var key = `${lib.replace(\"-\", \"\")}_version`;\n",
       "      return (VEGA_DEBUG[key] == version) ?\n",
       "        Promise.resolve(paths[lib]) :\n",
       "        new Promise(function(resolve, reject) {\n",
       "          var s = document.createElement('script');\n",
       "          document.getElementsByTagName(\"head\")[0].appendChild(s);\n",
       "          s.async = true;\n",
       "          s.onload = () => {\n",
       "            VEGA_DEBUG[key] = version;\n",
       "            return resolve(paths[lib]);\n",
       "          };\n",
       "          s.onerror = () => reject(`Error loading script: ${paths[lib]}`);\n",
       "          s.src = paths[lib];\n",
       "        });\n",
       "    }\n",
       "\n",
       "    function showError(err) {\n",
       "      outputDiv.innerHTML = `<div class=\"error\" style=\"color:red;\">${err}</div>`;\n",
       "      throw err;\n",
       "    }\n",
       "\n",
       "    function displayChart(vegaEmbed) {\n",
       "      vegaEmbed(outputDiv, spec, embedOpt)\n",
       "        .catch(err => showError(`Javascript Error: ${err.message}<br>This usually means there's a typo in your chart specification. See the javascript console for the full traceback.`));\n",
       "    }\n",
       "\n",
       "    if(typeof define === \"function\" && define.amd) {\n",
       "      requirejs.config({paths});\n",
       "      require([\"vega-embed\"], displayChart, err => showError(`Error loading script: ${err.message}`));\n",
       "    } else {\n",
       "      maybeLoadScript(\"vega\", \"5\")\n",
       "        .then(() => maybeLoadScript(\"vega-lite\", \"4.17.0\"))\n",
       "        .then(() => maybeLoadScript(\"vega-embed\", \"6\"))\n",
       "        .catch(showError)\n",
       "        .then(() => displayChart(vegaEmbed));\n",
       "    }\n",
       "  })({\"config\": {\"view\": {\"continuousWidth\": 400, \"continuousHeight\": 300}}, \"layer\": [{\"mark\": \"bar\", \"encoding\": {\"tooltip\": {\"field\": \"eff\", \"type\": \"quantitative\"}, \"x\": {\"field\": \"per\", \"type\": \"nominal\"}, \"y\": {\"field\": \"eff\", \"type\": \"quantitative\"}}}, {\"mark\": {\"type\": \"line\", \"color\": \"red\"}, \"encoding\": {\"x\": {\"field\": \"per\", \"type\": \"ordinal\"}, \"y\": {\"field\": \"rolling_mean\", \"type\": \"quantitative\"}}, \"transform\": [{\"window\": [{\"op\": \"mean\", \"field\": \"eff\", \"as\": \"rolling_mean\"}], \"frame\": [-9, 0]}]}], \"data\": {\"values\": [{\"per\": \"1001_1050\", \"eff\": 7, \"names\": \"al-Nasawi\\nJia Xian\\nHermann of Reichenau\\nSripati\\nal-Zarqali\\nShen Kua\\nOmar Khayyam\"}, {\"per\": \"1051_1100\", \"eff\": 6, \"names\": \"Brahmadeva\\nAbraham bar Hiyya\\nAdelard\\nHemchandra\\nRabbi Ben Ezra\\nJabir ibn Aflah\"}, {\"per\": \"1101_1150\", \"eff\": 5, \"names\": \"Bhaskara II\\nGherard\\nAl-Samawal\\nSharaf al-Din al-Tusi\\nReinher of Paderborn\"}, {\"per\": \"1151_1200\", \"eff\": 6, \"names\": \"Robert Grosseteste\\nFibonacci\\nMichael Scot\\nLi Zhi\\nJohn Sacrobosco\\nAlbertus\"}, {\"per\": \"1201_1250\", \"eff\": 11, \"names\": \"Nasir al-Din al-Tusi\\nQin Jiushao\\nRoger Bacon\\nJohannes Campanus\\nMuhyi l'din al-Maghribi\\nJordanus Nemorarius\\nGuo Shoujing\\nRamon Llull\\nJacob ben Tibbon\\nYang Hui\\nShams al-Din al-Samarqandi\"}, {\"per\": \"1251_1300\", \"eff\": 7, \"names\": \"Ibn al-Banna\\nAl-Farisi\\nZhu Shijie\\nZhao Youqin\\nLevi ben Gerson\\nWilliam of Ockham\\nThomas Bradwardine\"}, {\"per\": \"1301_1350\", \"eff\": 6, \"names\": \"Albert of Saxony\\nAl-Khalili\\nNicholas Oresme\\nMahendra Suri\\nNarayana\\nMadhava\"}, {\"per\": \"1351_1400\", \"eff\": 6, \"names\": \"Qadi Zada\\nParamesvara\\nFilippo Brunelleschi\\nal-Kashi\\nUlugh Beg\\nAl-Umawi\"}, {\"per\": \"1401_1450\", \"eff\": 11, \"names\": \"Nicholas Kryffs\\nAli Qushji\\nLeone Battista Alberti\\nAl-Qalasadi\\nPiero della Francesca\\nGeorg Peurbach\\nPiero Borgi\\nRegiomontanus\\nNilakantha\\nLuca Pacioli\\nNicolas Chuquet\"}, {\"per\": \"1451_1500\", \"eff\": 20, \"names\": \"Leonardo da Vinci\\nJohannes Widman\\nScipione del Ferro\\nJohann Werner\\nJohn Maior\\nEstienne de la Roche\\nAlbrecht D\\u00fcrer\\nCharles de Bouvelles\\nNicolaus Copernicus\\nCuthbert Tunstall\\nJuan de Ortega\\nGaspar Lax\\nMichael Stifel\\nAdam Ries\\nFrancesco Maurolico\\nOronce Fine\\nPetrus Apianus\\nChristoff Rudolff\\nJyesthadeva\\nTartaglia\"}, {\"per\": \"1501_1550\", \"eff\": 32, \"names\": \"Girolamo Cardano\\nPedro Nunes\\nFrederico Commandino\\nGemma Frisius\\nRobert Recorde\\nErasmus Reinhold\\nGerard Mercator\\nGeorg Joachim Rheticus\\nPeter Ramus\\nLodovico Ferrari\\nRafael Bombelli\\nJohn Dee\\nGiovanni Benedetti\\nCheng Dawei\\nGiambattista della Porta\\nEgnatio Danti\\nFrancesco Barozzi\\nChristopher Clavius\\nFran\\u00e7ois Vi\\u00e8te\\nLudolph Van Ceulen\\nThomas Allen\\nGuidobaldo del Monte\\nPaul Wittich\\nThomas Digges\\nTycho Brahe\\nBaha' al-Din al-Amili\\nGiordano Bruno\\nPietro Cataldi\\nSimon Stevin\\nHenry Savile\\nJohn Napier\\nMichael M\\u00e4stlin\"}, {\"per\": \"1551_1600\", \"eff\": 54, \"names\": \"Jost B\\u00fcrgi\\nLuca Valerio\\nMatteo Ricci\\nJo\\u00e3o Delgado\\nGiovanni Magini\\nJo\\u00e3o Baptista Lavanha\\nThomas Harriot\\nAdriaan van Roomen\\nBartholomeo Pitiscus\\nDuncan Liddel\\nHenry Briggs\\nPhilip van Lansberge\\nThomas Fincke\\nXu Guang-qi\\nGalileo Galilei\\nGiuseppe Biancani\\nMarino Ghetaldi\\nJohannes Kepler\\nChristoph Scheiner\\nSimon Mayr\\nWilliam Oughtred\\nPaul Guldin\\nBenedetto Castelli\\nJohann Faulhaber\\nPierre H\\u00e9rigone\\nWillebrord Snell\\nClaude Gaspar Bachet\\nEdmund Gunter\\nJean-Baptiste Morin\\nGregory of Saint-Vincent\\nPierre Vernier\\nClaude Mydorge\\nPeter Turner\\nJoachim Jungius\\nBenjamin Bramer\\n\\u00c9tienne Pascal\\nMarin Mersenne\\nThomas Hobbes\\nJean Beaugrand\\nGirard Desargues\\nPierre Gassendi\\nWilhelm Schickard\\nPierre Petit\\nAlbert Girard\\nJacob Gool\\nRen\\u00e9 Descartes\\nHenry Gellibrand\\nJan-Karel della Faille\\nBonaventura Cavalieri\\nClaude Hardy\\nGiovanni Battista Riccioli\\nAdriaan Vlacq\\nPierre de Carcavi\\nRichard Delamain\"}, {\"per\": \"1601_1650\", \"eff\": 79, \"names\": \"Florimond de Beaune\\nPierre Fermat\\nGilles Roberval\\nJacques de Billy\\nJohn Greaves\\nFrenicle de Bessy\\nIsmael Boulliau\\nJuan Caramuel\\nMaria Cunitz\\nEvangelista Torricelli\\nGiovanni Alfonso Borelli\\nHonor\\u00e9 Fabri\\nJacques Le Tenneur\\nJan Stampioen\\nJohannes Hevelius\\nJohn Pell\\nAndrea Tacquet\\nAntoine Arnauld\\nHenry More\\nJohn Wilkins\\nFrans van Schooten\\nJohn Wallis\\nKamalakara\\nSeth Ward\\nClaude Mylon\\nFrancesco Grimaldi\\nGabriel Mouton\\nJeremiah Horrocks\\nMichelangelo Ricci\\nJean Picard\\nNicolaus Mercator\\nWilliam Brouncker\\nClaude Dechales\\nAdrien Auzout\\nJohann Rahn\\nRen\\u00e9 de Sluze\\nVincenzo Viviani\\nBlaise Pascal\\nFerdinand Verbiest\\nStephano degli Angeli\\nGuarino Guarini\\nJohn Collins\\nErasmus Bartholin\\nGiovanni Cassini\\nJan de Witt\\nJ\\u00e1nos Ap\\u00e1czai\\nPietro Mengoli\\nJonas Moore\\nRobert Boyle\\nJohann Hudde\\nChristiaan Huygens\\nIsaac Barrow\\nJean Richer\\nEdward Cocker\\nChristopher Wren\\nHenry Coley\\nMei Wending\\nHendrik van Heuraet\\nRobert Hooke\\nValentin Heins\\nWilliam Neile\\nJames Gregory\\nNicolas Malebranche\\nBernard Lamy\\nGeorg Mohr\\nJacques Ozanam\\nPhilippe de la Hire\\nTakakazu Seki\\nIsaac Newton\\nHeinrich Meissner\\nSiguenza y Gongora\\nChoi Seok-jeong\\nGottfried Leibniz\\nJohn Flamsteed\\nDenis Papin\\nElisabetha Koopman\\nGiovanni Ceva\\nHenry Aldrich\\nTommaso Ceva\"}, {\"per\": \"1651_1700\", \"eff\": 68, \"names\": \"Ehrenfried Walter von Tschirnhaus\\nJean Le F\\u00e8vre\\nMichel Rolle\\nAbraham Sharp\\nPierre Varignon\\nJacob Bernoulli\\nCharles Ren\\u00e9 Reyneau\\nEdmond Halley\\nWilliam Molyneux\\nBernard de Fontenelle\\nDavid Gregory\\nJoseph Saurin\\nThomas Fantet de Lagny\\nGuillaume de l'H\\u00f4pital\\nJohn Craig\\nLouis Carr\\u00e9\\nTakebe Katahiro\\nAbraham de Moivre\\nGiovanni Saccheri\\nJohann Bernoulli\\nJohn Arbuthnot\\nWilliam Whiston\\nJoseph Raphson\\nLeonty Filippovich Magnitsky\\nMaria Winckelmann\\nGuido Grandi\\nJohn Keill\\nEustachio Manfredi\\nSamuel Clarke\\nWilliam Jones\\nJacopo Riccati\\nJacques Cassini\\nJohann Gabriel Doppelmayr\\nJoseph Privat de Moli\\u00e8res\\nCharles Hayes\\nJakob Hermann\\nPierre R\\u00e9mond de Montmort\\nJohn Colson\\nJohn Machin\\nGabriele Manfredi\\nMei Juecheng\\nGiulio Fagnano\\nJohn Hadley\\nNicholas Saunderson\\nRoger Cotes\\nGiovanni Poleni\\nBrook Taylor\\nGeorge Berkeley\\nNicolaus (I) Bernoulli\\nRobert Simson\\nLouis Castel\\nRoger Paman\\nWillem 'sGravesande\\nSamuel Molyneux\\nChristian Goldbach\\nJagannatha\\nJames Stirling\\nJames Bradley\\nNicolaus (II) Bernoulli\\nRamiro Rampinelli\\nColin Maclaurin\\nPierre Bouguer\\nPierre-Louis Moreau de Maupertuis\\nCharles-\\u00c9tienne Camus\\nDaniel Bernoulli\\nEdmund Stone\\nNathaniel Bliss\\nWilliam Braikenridge\"}, {\"per\": \"1701_1750\", \"eff\": 101, \"names\": \"Anders Celsius\\nCharles-Marie de La Condamine\\nWilliam Emerson\\nThomas Bayes\\nAntoine Deparcieux\\nAugustin Hallerstein\\nJean-Louis Calandrini\\nAlexis Fontaine\\nGabriel Cramer\\nJohann Castillon\\nJohann Segner\\nBenjamin Franklin\\nBenjamin Robins\\n\\u00c9milie du Ch\\u00e2telet\\nGeorges Buffon\\nLeonhard Euler\\nVincenzo Riccati\\nGiordano Riccati\\nJohann (II) Bernoulli\\nThomas Fuller\\nThomas Simpson\\nFran\\u00e7ois Jacquier\\nLaura Bassi\\nRuggero Giuseppe Boscovich\\nSamuel K\\u00f6nig\\nAlexis Clairaut\\nJorge Juan\\nNicolas-Louis de Lacaille\\nAlexander Wilson\\nC\\u00e9sar-Fran\\u00e7ois Cassini de Thury\\nGiovanni Fagnano\\nJean d'Alembert\\nMatthew Stewart\\nIstv\\u00e1n Hatvani\\nMaria Agnesi\\nAbraham K\\u00e4stner\\nJohn Landen\\nMar\\u00eda Andresa Casamayor\\nNicole-Reine Etable de Labri\\u00e8re\\nRichard Price\\nTobias Mayer\\nFranz Aepinus\\n\\u00c9tienne Montucla\\nPatrick d'Arcy\\nJames Hutton\\nJohann Heinrich Lambert\\nPaolo Frisi\\nLouis-Antoine de Bougainville\\nCharles Bossut\\n\\u00c9tienne B\\u00e9zout\\nBenjamin Banneker\\nFrancis Maseres\\nGianfrancesco Malfatti\\nDavid Rittenhouse\\nJ\\u00e9r\\u00f4me Lalande\\nJos\\u00e9 Mutis\\nNaonobu Ajima\\nNevil Maskelyne\\nWenceslaus Johann Gustav Karsten\\nJean-Charles de Borda\\nAchille-Pierre Dionis du S\\u00e9jour\\nMonteiro da Rocha\\nAlexandre-Theophile Vandermonde\\nAntonio Mario Lorgna\\nJesse Ramsden\\nCharles Augustin Coulomb\\nEdward Waring\\nErland Bring\\nJohannes Tetens\\nJoseph-Louis Lagrange\\nCharles Hutton\\nNicolas Vilant\\nWilliam Herschel\\nGeorg Kl\\u00fcgel\\nAnders Lexell\\nPietro Giannini\\nCarl Friedrich Hindenburg\\nJohn Wilson\\nMarquis de Condorcet\\nAnast\\u00e1cio da Cunha\\nJohann(III) Bernoulli\\nPierre M\\u00e9chain\\nAdrien Quentin Bu\\u00e9e\\nCaspar Wessel\\nGeorge Atwood\\nGaspard Monge\\nGiuseppe Piazzi\\nWilliam Trail\\nAida Yasuaki\\nCharles Tinseau\\nDominique Cassini\\nJohn Playfair\\nJean-Baptiste-Joseph Delambre\\nJohn Hellins\\nPierre-Simon Laplace\\nSamuel Vince\\nCaroline Herschel\\nJames Glenie\\nLorenzo Mascheroni\\nSimon Lhuilier\\nWilliam Morgan\"}, {\"per\": \"1751_1800\", \"eff\": 150, \"names\": \"John Bonnycastle\\nAdrien-Marie Legendre\\nDugald Stewart\\nEdward Troughton\\nLazare Carnot\\nNicola Fergola\\nGeorg Vega\\nNicolas-Fran\\u00e7ois Canard\\nAntoine Parseval\\nGaspard de Prony\\nNikolai Fuss\\nFranti\\u0161ek Josef Gerstner\\nJohn West\\nJacob (II) Bernoulli\\nLouis Arbogast\\nPietro Paoli\\nChristian Kramp\\nFran\\u00e7ois Budan\\nRuan Yuan\\nJames Ivory\\nJohann Friedrich Pfaff\\nPaolo Ruffini\\nPierre-Simon Girard\\nSylvestre Lacroix\\nTimofei Fedorovic Osipovsky\\nJohn Brinkley\\nJohn Farey\\nJohn Leslie\\nAlexis Bouvard\\nAm\\u00e9lie Harlay\\nArgand\\nFran\\u00e7ois Fran\\u00e7ais\\nFran\\u00e7ois-Joseph Servois\\nJoseph Fourier\\nLi Rui\\nPietro Abbati Marescotti\\nWilliam Wallace\\nAnnibale Giordano\\nJean Nicolas Pierre Hachette\\nLouis Puissant\\nMartin Bartels\\nAntoine-Andr\\u00e9-Louis Reynaud\\nJoseph Gergonne\\nBartholomew Lloyd\\nRobert Haldane\\nJohann Karl Burckhardt\\nLouis Benjamin Francoeur\\nNathaniel Bowditch\\nRobert Woodhouse\\nThomas Young\\nJean-Baptiste Biot\\nKarl Mollweide\\nOlinthus Gregory\\nAndr\\u00e9-Marie Amp\\u00e8re\\n\\u00c9tienne Louis Malus\\nFarkas Bolyai\\nJacques Fran\\u00e7ais\\nRobert Adrain\\nPeter Barlow\\nSophie Germain\\nBarnab\\u00e9 Brisson\\nCarl Friedrich Gauss\\nDaniel Hecht\\nLouis Poinsot\\nWilliam Spence\\nJoz\\u00e9f Ho\\u00ebn\\u00e9 Wronski\\nBenjamin Gompertz\\nAugust Crelle\\nMary Somerville\\nBernard Bolzano\\nGiorgio Bidone\\nGiovanni Plana\\nSim\\u00e9on-Denis Poisson\\nVincenzo Flauti\\nCharles-Julien Brianchon\\nClaude-Louis Mathieu\\nCharles Dupin\\nWilhelm Bessel\\nClaude-Louis Navier\\nFran\\u00e7ois Arago\\nJacques Binet\\nJames Thomson\\nJean-Nicolas Nicollet\\nJohn Walsh\\nMiles Bland\\nWilliam Horner\\nJohn Cruickshank\\nLouis Lef\\u00e9bure de Fourcy\\nAugustin Fresnel\\nEnno Heeren Dirksen\\nFearon Fallows\\nGriffith Davies\\nJean-Victor Poncelet\\nWilliam Hamilton\\nAntonio Bordoni\\nAugustin-Louis Cauchy\\nGeorg Simon Ohm\\nAugust M\\u00f6bius\\nCharles Hughes Terrot\\nJean-Baptiste B\\u00e9langer\\nJean-Fran\\u00e7ois Champollion\\nTheodore Strong\\nAlexis Petit\\nC V Mourey\\nCharles Babbage\\nF\\u00e9lix Savart\\nGeorge Peacock\\nJohann Franz Encke\\nMichael Faraday\\nVictor Am\\u00e9d\\u00e9e Lebesgue\\nGaspard-Gustave de Coriolis\\nJohn Herschel\\nMartin Ohm\\nNikolai Ivanovich Lobachevsky\\nGeorge Green\\nJakob Kulik\\nMichel Chasles\\nTh\\u00e9odore Olivier\\nWilliam Hopkins\\nFranz Adolph Taurinus\\nGerminal Dandelin\\nWilliam Whewell\\nArthur Jules Morin\\nBernt Holmboe\\nCharles Whish\\n\\u00c9mile L\\u00e9ger\\nGabriel Lam\\u00e9\\nLouis Richard\\nOlinde Rodrigues\\nThomas Carlyle\\nAdolphe Quetelet\\nJakob Steiner\\nJules Bienaym\\u00e9\\nNikolai Dmetrievich Brashman\\nSadi Carnot\\nF\\u00e9lix Savary\\nJean Claude Saint-Venant\\nJean-Marie Duhamel\\nPierre-Joseph-\\u00c9tienne Finck\\nChristoph Gudermann\\n\\u00c9tienne Bobillier\\nFranz Neumann\\nHeinrich Scherk\\nKarl von Staudt\\n\\u00c9mile Clapeyron\\nKarl Gr\\u00e4ffe\\nHenry Fox Talbot\\nHumphrey Lloyd\\nKarl Feuerbach\\nStephen de Gurbs\"}, {\"per\": \"1801_1850\", \"eff\": 342, \"names\": \"Augustin Cournot\\nGeorge Airy\\nHenry Moseley\\nHenry Perigal\\nJoseph Plateau\\nJoseph Raabe\\nJulius Pl\\u00fccker\\nMikhail Vasilevich Ostrogradski\\nThomas Clausen\\nJ\\u00e1nos Bolyai\\nJean-Baptiste Brasseur\\nNiels Abel\\nCharles-Fran\\u00e7ois Sturm\\nChristian Doppler\\nChristian Heinrich von Nagel\\nGiusto Bellavitis\\nGuglielmo Libri\\nJohn Hymers\\nJuan Manuel Cajigal\\nCarl Jacobi\\nGeorge Jerrard\\nPierre Verhulst\\nViktor Yakovlevich Bunyakovskii\\nWilhelm Weber\\nEdward Sang\\nLejeune Dirichlet\\nWilliam Rowan Hamilton\\nAugustus De Morgan\\nFerdinand Minding\\nJames Booth\\nJohn T Graves\\nJulius Weisbach\\nRobert Murphy\\nThomas Kirkman\\nJ\\u00f3zeph Petzval\\nMoritz Abraham Stern\\nAthanase Dupr\\u00e9\\nJohann Benedict Listing\\nJohn Scott Russell\\nPhilip Kelland\\nBenjamin Peirce\\nHermann Grassmann\\nJames MacCullagh\\nJohn Pratt\\nJoseph Liouville\\nLuigi Menabrea\\nEduard Kummer\\nOliver Byrne\\nAndrew Hart\\n\\u00c9variste Galois\\nJohn Waterston\\nLi Shanlan\\nOtto Hesse\\nUrbain Le Verrier\\nAdolph G\\u00f6pel\\nCharles Graves\\nWilliam Shanks\\nDuncan Gregory\\nPierre Laurent\\nRobert Anstice\\nDaniel da Silva\\nEug\\u00e8ne Catalan\\nFernando Pio Rosellini\\nFranc Mocnik\\nJames Joseph Sylvester\\nJohn Colenso\\nLudwig Schl\\u00e4fli\\nMatthew O'Brien\\nPierre Wantzel\\nWilliam Donkin\\nAugusta Ada Byron\\nGeorge Boole\\nKarl Weierstrass\\nOsip Somov\\nCharles Eug\\u00e8ne Delaunay\\nJean Frenet\\nJohann Rosenhain\\nRudolf Wolf\\nAngelo Genocchi\\nCarl Borchardt\\nCharles Briot\\nLeslie Ellis\\nWilliam Ferrel\\nFerdinand Joachimsthal\\nJoel E Hendricks\\nOle Jacob Broch\\nFrancis Bashforth\\nGeorge Salmon\\nGeorge Stokes\\nHippolyte Fizeau\\nJames Cockle\\nJean-Claude Bouquet\\nJohn Couch Adams\\nJoseph Serret\\nL\\u00e9on Foucault\\nPierre Bonnet\\nSiegfried Aronhold\\nErnest de Jonqui\\u00e8res\\nFlorence Nightingale\\nIsaac Todhunter\\nJohn Casey\\nVictor Puiseux\\nWilliam Chauvenet\\nWilliam Rankine\\nArthur Cayley\\nEduard Heine\\nHermann von Helmholtz\\nPafnuty Chebyshev\\nPhilipp von Seidel\\nRamchundra\\nSamuel Haughton\\nCharles Hermite\\nFrancis Galton\\nJoseph Bertrand\\nJules Lissajous\\nRudolf Clausius\\nWilliam Oughter Lonie\\nAugust Yulevich Davidov\\nEnrico Betti\\nGotthold Eisenstein\\nHugh Blackburn\\nJacob Amsler\\nJules Ho\\u00fcel\\nLeopold Kronecker\\nOscar Schl\\u00f6milch\\nStephen Parkinson\\nDelfino Codazzi\\nFrancesco Brioschi\\nGeorge Allman\\nGustav Kirchhoff\\nWilliam Thomson\\nZacharias Dase\\nCarl Bjerknes\\nCharles MacKenzie\\nFrancesco Fa\\u00e0 di Bruno\\nJohann Balmer\\nJohn James Walker\\nMikhail Egorovich Vashchenko-Zakharchenko\\nWilliam Spottiswoode\\nBernhard Riemann\\nChristian Wiener\\nErnst Meissel\\nGiuseppe Battaglini\\nHenry Smith\\nMorgan Crofton\\nCharles Merrifield\\nHenry Watson\\nLajos Martin\\nSamuel Roberts\\nGiuseppe Bruno\\nKarl Peterson\\nRudolf Skuhersk\\u00fd\\nElwin Christoffel\\nHeinrich Schr\\u00f6ter\\nJoaquim Gomes de Souza\\nJoseph Wolstenholme\\nMoritz Cantor\\nNorman Ferrers\\nRobert Ferguson\\nLuigi Cremona\\nThomas Bond Sprague\\nThomas Hirst\\nAm\\u00e9d\\u00e9e Mannheim\\nDorothea Beale\\nEdward Routh\\nGeorg Sidler\\nJames Clerk Maxwell\\nP G Tait\\nPaul du Bois-Reymond\\nRichard Dedekind\\nCarl Neumann\\nCharles Lutwidge Dodgson\\nEdmond Bour\\nEug\\u00e8ne Rouch\\u00e9\\nGeorg Zehfuss\\nLudwig Sylow\\nMary Everest Boole\\nRobert Tucker\\nRudolf Lipschitz\\nWilhelm Fiedler\\nAlfred Clebsch\\nFran\\u00e7ois Folie\\nHenri Delannoy\\nLazarus Fuchs\\nEdmond Laguerre\\nErastus De Forest\\nJohn Venn\\nWilliam Jack\\nArtemas Martin\\nCharles M\\u00e9ray\\n\\u00c9mile Mathieu\\nEugenio Beltrami\\nFelice Casorati\\nHoward Van Amringe\\nJames Moriarty\\nJohn Purser\\nJosef Stefan\\nSimon Newcomb\\nStanley Jevons\\nJulius Weingarten\\nAleksandr Nikolaevich Korkin\\nHermann Bleuler\\nHugh MacColl\\nJoseph Tilly\\nLeo K\\u00f6nigsberger\\nNicolai Vasilievich Bugaev\\nPaul Bachmann\\nPaul Gordan\\nWilhelm Lexis\\nCamille Jordan\\nEdwin Abbott Abbott\\nFrank Baldwin\\nGeorge Hill\\nJen\\u0151 Hunyadi\\nTheodor Reye\\nThomas Barker\\nThorvald Thiele\\nCharles S Peirce\\nChristian Adolph Mayer\\nFrancesco Siacci\\nGustav Roch\\nHermann Hankel\\nHieronymus Georg Zeuthen\\nJ Willard Gibbs\\nJames Bolam\\nJoseph-\\u00c9mile Barbier\\nJulius Petersen\\nAllen Whitworth\\nCarl Johannes Thomae\\n\\u00c9mile Lemoine\\nEmory McClintock\\nErnst Abbe\\nFranz Mertens\\nJakob Rebstein\\nJoseph Neuberg\\nOlaus Henrici\\nRobert Ball\\nErnst Schr\\u00f6der\\nHermann Laurent\\nRudolf Sturm\\nSamuel Loyd\\nWoolsey Johnson\\nAgnes Mary Clerke\\nAlexander von Brill\\n\\u00c9douard Lucas\\nGaston Darboux\\nGeorge Thom\\nGiuseppe Basso\\nHeinrich Weber\\nHenry Taylor\\nJakob Rosanes\\nJohn William Strutt\\nJoseph Boussinesq\\nOsborne Reynolds\\nOtto Stolz\\nSophus Lie\\nWilliam Niven\\nYulian Vasilievich Sokhotsky\\nEnrico D'Ovidio\\nGaston Tarry\\nHeinrich Friedrich Weber\\nHermann Schwarz\\nJames Stuart\\nJohn S Mackay\\nKarl Geiser\\nMauritz Dahlin\\nMoritz Pasch\\nPaul Tannery\\n\\u00c1goston Scholtz\\nAlbert Wangerin\\nGeorge-Henri Halphen\\nJacob L\\u00fcroth\\nLudwig Boltzmann\\nMax Noether\\nPaul Mansion\\nThomas Muir\\nCharles Niven\\nEduard Gubler\\nElizaveta Litvinova\\nF\\u00e9lix Tisserand\\nFrancis Edgeworth\\nGeorg Cantor\\nGeorge Darwin\\nHenri Brocard\\nUlisse Dini\\nVaclav Jerabek\\nVictor B\\u00e4cklund\\nWilliam Clifford\\nEnoch Beery Seitz\\nEugen Netto\\nEugenio Bertini\\nG\\u00f6sta Mittag-Leffler\\nHenry Heaton\\nM\\u00f3r R\\u00e9thy\\nPieter Hendrik Schoute\\nPlaton Sergeevich Poretsky\\nAlberto Castigliano\\nAndrew Gray\\nCesare Arzel\\u00e0\\nChristine Ladd-Franklin\\nEgor Ivanovich Zolotarev\\nGaston Floquet\\nGeorge Greenhill\\nGyula Farkas\\nIrving Stringham\\nJohn Wilson\\nNikolai Egorovich Zhukovskii\\nWilhelm Killing\\nAdam G\\u00fcnther\\nDiederik Korteweg\\n\\u00c9douard Benjamin Baillaud\\nEmil Weyr\\nGottlob Frege\\nHeinrich Bruns\\nHeinrich Suter\\nHermann Schubert\\nJames Whitbread Lee Glaisher\\nJules Tannery\\nKonstantin Alekseevich Andreev\\nL\\u00f3r\\u00e1nd E\\u00f6tv\\u00f6s\\nAlfred Kempe\\nAndrew Jeffrey Gunion Barclay\\nFelix Klein\\nGeorg Frobenius\\nGustav von Escherich\\nGustav von Escherich\\nHorace Lamb\\nJohn Hopkinson\\nJulius K\\u00f6nig\\nLeopold Gegenbauer\\nNikolay Sonin\\nRobert Scott\\nRobert Woodward\\nAlfred Pringsheim\\nArthur Downing\\nJorgen Gram\\nOliver Heaviside\\nScott Lang\\nSofia Kovalevskaya\\nSophie Willock Bryant\\nWalter Rouse Ball\\nWilliam Story\"}, {\"per\": \"1851_1900\", \"eff\": 888, \"names\": \"Adolf Weiler\\nAlexander Macfarlane\\nAxel Harnack\\nEdward Langley\\nEdwin Elliott\\nEllen Hayes\\nEmanuel Czuber\\nFriedrich Schottky\\nGeorge Chrystal\\nGeorge FitzGerald\\nGomes Teixeira\\nGuillaume Bigourdan\\nJacques Bertillon\\nJames Taylor\\nJulius Gysel\\nSamuel Dickstein\\nSpiru Haret\\nWilliam James Macdonald\\nAlbin Herzog\\nAndrei Petrovich Kiselev\\nConstantin Le Paige\\nEduard Weyr\\nEdward Bouchet\\nFerdinand von Lindemann\\nFrancis Upton\\nFran\\u00e7ois Cosserat\\nGiovanni Frattini\\nJohann Heinrich Graf\\nWalter Gr\\u00f6bli\\nWilliam Burnside\\nAlbert Badoureau\\nArthur Sch\\u00f6nflies\\nFabian Franklin\\nGeorge Halsted\\nGregorio Ricci-Curbastro\\nHeinrich Maschke\\nHendrik Lorentz\\nJohn Kerr\\nSalvatore Pincherle\\nAlfred Barnard Basset\\nAlfred Lodge\\nBenjamin Osgood Peirce\\nChristian Beyel\\nGiuseppe Veronese\\nHenri Poincar\\u00e9\\nHertha Marks Ayrton\\nHjalmar Mellin\\nIvan \\u015aleszy\\u0144ski\\nJohannes Robert Rydberg\\nLeopold Klug\\nMarcel Brillouin\\nPercy MacMahon\\nRobert Philip\\nAlfredo Capelli\\nCharles Boys\\nChristian Juel\\nEduard Wiltheiss\\nGiovanni Guccia\\nGyula V\\u00e1lyi\\nJohn Steggall\\nKarl Rohn\\nLouis Raffy\\nPaul Appell\\nPierre Puiseux\\nThomas Craig\\nAndrei Andreyevich Markov\\nArnold Droz-Farny\\nCargill Knott\\nCarl Runge\\nDonald Macmillan\\n\\u00c9mile Picard\\nErnest Hobson\\nFerdinand Rudio\\nGiacinto Morera\\nIda Metcalf\\nLuigi Bianchi\\nMicaiah Hill\\nThomas Stieltjes\\nWalther von Dyck\\nWilhelm Meyer\\nWilliam Thomson\\nAdolf Kiefer\\nAleksandr Mikhailovich Lyapunov\\nAlexander Pell\\nAlexander Yule Fraser\\nHeinrich Hertz\\nHenry Ernest Dudeney\\nHermann Wiener\\nJoseph Larmor\\nKarl Pearson\\nOskar Bolza\\nAlice Lee\\nAndrew Forsyth\\nCharlotte Angas Scott\\n\\u00c9douard Goursat\\nFrancesco Gerbaldi\\nGabriel Koenigs\\nGeorge Gibson\\nGiuseppe Peano\\nHenry Fine\\nMax Planck\\nWilliam Johnson\\nAdolf Hurwitz\\nAlfonso Del Re\\nBoris Yakovlevic Bukreev\\nErnesto Ces\\u00e0ro\\nFlorian Cajori\\nGeorg Pick\\nGeorges Humbert\\nGiulio Vivanti\\nIvan Vsevolodovich Meshchersky\\nJ\\u00e9r\\u00f4me Franel\\nJohan Ludwig Jensen\\nKarl Heun\\nOtto H\\u00f6lder\\nSamuil Osipovich Shatunovsky\\nAlexander Morgan\\nAlicia Boole Stott\\nAugust Gutzmer\\nCharles Chree\\nD'Arcy Thompson\\nDavid Eugene Smith\\nFrank Carey\\nFrank Morley\\nHerman Hollerith\\nJohn Pullar\\nMario Pieri\\nMaty\\u00e1\\u0161 Lerch\\nRaphael Weldon\\nRobert Muirhead\\nSidney Luxton Loney\\nVito Volterra\\nAlfred North Whitehead\\nCesare Burali-Forti\\nEmil M\\u00fcller\\nErnst Fiedler\\nFrank Cole\\nFriedrich Engel\\nGeorge Mathews\\nHeinrich Burkhardt\\nHenry White\\nHerbert Ellsworth Slaught\\nIvar Bendixson\\nJohn Alison\\nJohn Clark\\nKurt Hensel\\nP J Heawood\\nPierre Duhem\\nRobert Fricke\\nTheodor Molien\\nThomas Heath\\nWilliam Briggs\\nWilliam J Greenstreet\\nWilliam Peddie\\nAdolf Kneser\\nDavid Hilbert\\nEduard Study\\nEliakim Moore\\nFrancis Macaulay\\nFritz (Friedrich) B\\u00fctzberger\\nGino Loria\\nHenri Andoyer\\nJames Archibald\\nJames Wattie\\nJohn Campbell\\nJules Richard\\nLeonard Rogers\\nMarius Lacombe\\nMaurice d'Ocagne\\nPaul St\\u00e4ckel\\nRobert Allardice\\nRoberto Marcolongo\\nRuth Gentry\\nVilhelm Bjerknes\\nWinifred Edgerton Merrill\\nAleksei Krylov\\nAnnie Jump Cannon\\nAugust Adler\\nAugustus Love\\nAxel Thue\\nCorrado Segre\\nCrossley Barlow\\nDmitry Aleksandrovich Grave\\nDomenico Montesano\\nEdvard Phragm\\u00e9n\\nEdward Van Vleck\\nGeorge Miller\\nGiovanni Vailati\\nHenri Pad\\u00e9\\nHerbert Richmond\\nJ Watt Butters\\nJames Watt\\nJean-Marie Le Roux\\nJohn Charles Fields\\nJohn Henry Michell\\nJohn McCowan\\nJohn Morrison\\nKelly Miller\\nL\\u00e1szlo R\\u00e1tz\\nLuigi Berzolari\\nMatthew Fry\\nPaul Painlev\\u00e9\\nStanis\\u0142aw Zaremba\\nWilliam Metzler\\nWilliam Sheppard\\nWilliam Young\\nCharles Joly\\nCristoforo Alasia\\nGeorge Bryan\\nHermann Minkowski\\nJ\\u00f3zsef K\\u00fcrsch\\u00e1k\\nLudwig Schlesinger\\nRobert Hardie\\nVladimir A Steklov\\nWilhelm Wien\\nWilliam Osgood\\nAleksandr P Kotelnikov\\nAlfred Dixon\\nAlice Everett\\nAnders Wiman\\nBenjamin Franklin Finkel\\nCharles Cailler\\nDavid Tweedie\\nErnest Vessiot\\nErnesto Pascal\\nFlora Philip\\nGeorg Landsberg\\nGiuseppe Bagnera\\nGuido Castelnuovo\\nHector Macdonald\\nJ A Third\\nJacques Hadamard\\nJulio Garavito\\nNiels Nielsen\\nPiers Bohl\\nRosenberg, Fabian\\nThomas Scott Fiske\\nWilhelm Wirtinger\\nAlfred Tauber\\nArthur Hirsch\\nCarruthers Beattie\\nCharles de la Vall\\u00e9e Poussin\\nClara Bacon\\nErnest Brown\\nEttore Bortolotti\\nEug\\u00e8ne Cosserat\\nFrances Hardcastle\\nGeorg Scheffers\\nGustav de Vries\\nHenry Baker\\nIvar Fredholm\\nJames Pierpont\\nKazimierz \\u017borawski\\nMineo Chini\\nRalph Sampson\\nT J J See\\nWilliam McFadden Orr\\nArthur Lee Dixon\\nCharles Noble\\nDerrick Norman Lehmer\\nDmitrii Matveevich Sintsov\\nGury Vasilievich Kolosov\\nHendrik de Vries\\nJohn Dougall\\nLawrence Crawford\\nMaxime B\\u00f4cher\\nWilhelm Kutta\\nAlessandro Padoa\\nAlice Bache Gould\\nAnne Bosworth\\nAnnie Fitch MacKinnon\\nAnnie Scott Dill Maunder\\nArnold Sommerfeld\\nCharles Shirra Dougall\\nCharles Tweedie\\nDonald McIntosh\\nEmanuel Lasker\\nFelix Hausdorff\\nGeoffrey Bennett\\nGeorgy Voronoy\\nGilbert Walker\\nGrace Chisholm\\nHenrietta Swan Leavitt\\nJames Craig\\nJames Macdonald\\nJames McBride\\nJohn Airey\\nLadislaus Bortkiewicz\\nLouis Couturat\\nMihailo Petrovi\\u0107\\nPeter Comrie\\nPhilippa Fawcett\\nWilliam Leslie Thomson\\nArthur Bowley\\nBenjamin Fedorovich Kagan\\nDimitri Fedorovich Egorov\\n\\u00c9lie Cartan\\nEmilie Martin\\nIsabel Maddison\\nMary Winston Newson\\nPhilipp Furtw\\u00e4ngler\\nSergei Alekseevich Chaplygin\\nVirgil Snyder\\nAgnes Baxter\\nDavid J Tweedie\\nEllice Horsburgh\\nErnst Lindel\\u00f6f\\nFrank Jackson\\nGeorge Lawson\\nGeorge Lidstone\\nHelge von Koch\\nHenri Fehr\\nHoratio Carslaw\\nIon Ionescu\\nLouis Bachelier\\nPeter Pinkerton\\nRobert de Montessus\\nBoris G Galerkin\\n\\u00c9mile Borel\\nErnst Julius Amberg\\nErnst Steinitz\\nErnst Zermelo\\nFederigo Enriques\\nGeorge Udny Yule\\nGino Fano\\nJames Mitchell\\nJohn Miller\\nJohn Turner\\nJules Drach\\nPaul Epstein\\nPoul Heegaard\\nV Ramaswami Aiyar\\nAlexander Burgess\\nAlexander Durie Russell\\nBertrand Russell\\nChrystal Macmillan\\nElizabeth Stephansen\\nForest Ray Moulton\\nGeorge Moffat\\nGeorgii Vasilovich Pfeiffer\\nGiovanni Vacca\\nGustave Dumas\\nJohn Meiklejohn\\nMarian Smoluchowski\\nNikolaos Hatzidakis\\nOnorato Nicoletti\\nVolodymyr Levytsky\\nWilhelm Ahrens\\nWillem de Sitter\\nAlfred Loewy\\nAlfred Young\\nAlfreds Meders\\nConstantin Carath\\u00e9odory\\nDimitrie Pompeiu\\nEdmund Whittaker\\nHans Blichfeldt\\nJosip Plemelj\\nJulian Coolidge\\nKarl Schwarzschild\\nKarl Sundman\\nPatrick Hardie\\nRichard Fuchs\\nTullio Levi-Civita\\nZo\\u00e1rd Ge\\u00f6cze\\nBeatrice Mabel Cave-Browne-Cave\\nCarl St\\u00f8rmer\\nEdward Huntington\\nErnest William Barnes\\nFriedrich Hartogs\\nGheorghe \\u021ai\\u021beica\\nLeonard Dickson\\nMih\\u00e1ly Bauer\\nRen\\u00e9 Baire\\nRobert d'Adh\\u00e9mar\\nAndre-Louis Cholesky\\nArchibald Milne\\nArthur Conway\\nBeppo Levi\\nEdward Blades\\nErnst Fischer\\nFrancesco Cantelli\\nGiuseppe Vitali\\nHenri Lebesgue\\nHenry Plummer\\nIssai Schur\\nLouis N G Filon\\nLudwig Prandtl\\nMax Abraham\\nMichele de Franchis\\nRaymond Archibald\\nTeiji Takagi\\nThomas Bromwich\\nUgo Amaldi\\nAnderson McKendrick\\nAnton Davidoglu\\nEarle Raymond Hedrick\\nErhard Schmidt\\nErnest Esclangon\\nErnest Wilczynski\\nEvelyn Cave-Browne-Cave\\nGaetano Scorza\\nGilbert Bliss\\nHeinrich Jung\\nJames Gray\\nLuther Eisenhart\\nOtto Blumenthal\\nPaul Montel\\nRobert J T Bell\\nTatiana Alexeyevna Afanassjewa\\nWilliam Gosset\\nAlexander Brown\\nCarl Schoy\\nCharles Glover Barkla\\nDavid Drysdale\\nDavid Johnstone\\nEdmund Landau\\nG H Hardy\\nGeorg Faber\\nGeorg Hamel\\nJames Jeans\\nLuigi Brusotti\\nMax Mason\\nThomas Hakon Gr\\u00f6nwall\\nThomas Havelock\\nTommaso Boggio\\nWilliam Gentle\\n\\u00d3lafur Dan\\u00edelsson\\nAgner Erlang\\nArthur Coble\\nBeulah Russell\\nDuilio Gigli\\nEdward Kasner\\nEdwin P Adams\\nEthel Elderton\\nFelix Bernstein\\nGeorge Samuel Eastwood\\nGeorgios Remoundos\\nHaroutune Dadourian\\nJan \\u0141ukasiewicz\\nLeon Lichtenstein\\nLeopold L\\u00f6wenheim\\nLouis Karpinski\\nMarcel Grossmann\\nMatteo Bottasso\\nMaurice Fr\\u00e9chet\\nMax Dehn\\nOliver Kellogg\\nPanagiotis Zervos\\nPierre Fatou\\nRoland Richardson\\nAlbert Einstein\\nAnton Dimitrija Bilimovic\\nC Wilhelm Oseen\\nDavid Picken\\nDougald Mcquistan\\nDuncan Sommerville\\nEdwin Wilson\\nFrancesco Severi\\nGuido Fubini\\nHans Hahn\\nNikolai Mitrofanovich Krylov\\nPeter Ramsay\\nPhilip Jourdain\\nRobert Carmichael\\nAlexander Merriles\\nEvgeny Evgenievich Slutsky\\nFiladelfo Insolera\\nFrigyes Riesz\\nGeorge Carse\\nHeinrich Tietze\\nLeo Harmaja\\nLip\\u00f3t Fej\\u00e9r\\nMichele Cipolla\\nOskar Perron\\nOswald Veblen\\nPaul Ehrenfest\\nPierre Boutroux\\nRudolf Fueter\\nSergei Bernstein\\nArchibald Richardson\\nDudley Woodard\\nEbenezer Cunningham\\nEdward Ross\\nGeorge Waddel Snedecor\\nGustav Herglotz\\nHilda Hudson\\nJur Hronec\\nL E J Brouwer\\nLajos D\\u00e1vid\\nLewis Fry Richardson\\nOtto Toeplitz\\nSamuel Beatty\\nTheodore von K\\u00e1rm\\u00e1n\\nWilliam Milne\\nArthur Eddington\\nClement Durell\\n\\u00c9amon de Valera\\nEmil Hilb\\nEmmy Noether\\nErnst Jacobsthal\\nHarry Bateman\\nHarry Vandiver\\nHenry Sheffer\\nJean Chazy\\nJoseph Wedderburn\\nKazimierz Bartel\\nKonrad Knopp\\nMax Born\\nPaul Dienes\\nPaul Koebe\\nRobert Lee Moore\\nTadeusz Banachiewicz\\nTheodor Anghelu\\u021b\\u0103\\nWac\\u0142aw Sierpi\\u0144ski\\nAlbert Ch\\u00e2telet\\nAleksandr Nekrasov\\nAnna Johnson Wheeler\\nClarence Lewis\\nDavid Gibb\\nEric Temple Bell\\nErnst Hellinger\\nEsteban Terradas\\nEugenio Levi\\nFrances Chick Wood\\nFrancisco Jos\\u00e9 Duarte\\nJames Mercer\\nJan A Schouten\\nJohn Maynard Keynes\\nLudwig Berwald\\nMargaret Barr Moir\\nNeil McArthur\\nNikolai Luzin\\nRichard von Mises\\nArnaud Denjoy\\nCharles Weatherburn\\nCorrado Gini\\nDavid Enskog\\nD\\u00e9nes K\\u00f6nig\\nEduard Helly\\nFrancesco Cecioni\\nFrieda Nugel\\nFritz Noether\\nGeorge Birkhoff\\nGeorges Valiron\\nH T H Piaggio\\nHeinrich Scholz\\nJohn Raymond Wilton\\nNicolae Abramescu\\nOtto Sz\\u00e1sz\\nPhilipp Frank\\nSolomon Lefschetz\\nSotero Prieto\\nThomas MacRobert\\nUmberto Puppini\\nWilhelm Winkler\\nWilliam Watson\\nAlfr\\u00e9d Haar\\nAndreas Speiser\\nF F P Bisacre\\nFinlay Freundlich\\nHarlow Shapley\\nHerbert Turnbull\\nHermann Weyl\\nJ E Littlewood\\nJohn McWhan\\nKarel Rychlik\\nKarlis Zalts\\nLeonida Tonelli\\nMauro Picone\\nMichel Plancherel\\nNiels Bohr\\nNiels Norlund\\nPauline Sperry\\nSalvatore Cherubino\\nTheodor Kaluza\\nViggo Brun\\nWilhelm Blaschke\\nWilliam B Coutts\\nAlexander Barrie Grieve\\nAnnibale Comessatti\\nAurel Angelescu\\nBalfour Lockhart\\nGeoffrey Taylor\\nLester R Ford\\nLudwig Bieberbach\\nLuigi Amoroso\\nMarcel Riesz\\nMichael Fekete\\nNeville Watson\\nOtto Bruun\\nPaul L\\u00e9vy\\nPia Nalli\\nStanis\\u0142aw Le\\u015bniewski\\nWalter Brown\\nCharles Galton Darwin\\nErich Hecke\\nErwin Schr\\u00f6dinger\\nGeorge P\\u00f3lya\\nGriffith Evans\\nGuido Ascoli\\nGustav Hertz\\nHarald Bohr\\nHugo Steinhaus\\nJohann Radon\\nJohn Jackson\\nOskar Anderson\\nOtto Haupt\\nOtton Nikodym\\nSimion Stoilow\\nSrinivasa Ramanujan\\nThoralf Skolem\\nVladimir Smirnov\\nAlexander Friedmann\\nArchibald Goldie\\nArchie Alexander\\nBibhutibhushan Datta\\nDavid Kennedy Fraser\\nDunham Jackson\\nGeorges Darmois\\nGiovanni Sansone\\nHermann Kober\\nJames Alexander\\nJohn Mackie\\nJoseph Proudman\\nJulio Rey Pastor\\nLloyd Williams\\nLouis Antoine\\nLouis Mordell\\nPaul Bernays\\nRaymond Butchart\\nRichard Courant\\nRobert Remak\\nSelig Brodetsky\\nStefan Mazurkiewicz\\nSydney Chapman\\nWilliam Berwick\\nWilliam Brash\\nWilliam Threlfall\\nYakov Davydovich Tamarkin\\nZygmunt Janiszewski\\nAdolphe Rome\\nAndrei Razmadze\\nAnton Kazimirovich Suschkevich\\nBalthasar van der Pol\\nDoris Adams\\nEdwin Hubble\\nEnrico Bompiani\\nEric Harold Neville\\nEustachy \\u017byli\\u0144ski\\nHans Hamburger\\nHenry Forder\\nHyman Levy\\nLudwig Wittgenstein\\nMildred Sanderson\\nOscar Chisini\\nPercy Daniell\\nRalph Fowler\\nRalph Jeffery\\nRen\\u00e9 Eug\\u00e8ne Gateaux\\nRobert Dunbar\\nSewall Green Wright\\nThomas Lancaster Wren\\nVyacheslaw Vassilievich Stepanov\\nBevan Braithwaite Baker\\nBoris Nikolaevich Delone\\nEuphemia Lofton Haynes\\nGeorg Feigl\\nGiacomo Albanese\\nGlenny Smeal\\nHarry Carver\\nHerbert Dingle\\nJakob Nielsen\\nJohannes van der Corput\\nJoseph P\\u00e9r\\u00e8s\\nMartha Betz Shapley\\nOlive Clio Hazlett\\nPhilip Stein\\nR A Fisher\\nRaymond Brink\\nAbraham Fraenkel\\nAbram Samoilovitch Besicovitch\\nAndrew Young\\nEdward Ince\\nGeorge Jeffery\\nHans Reichenbach\\nHarold Jeffreys\\nIvan Ivanovich Privalov\\nIvan Matveevich Vinogradov\\nJames Cassels\\nJen\\u0151 Egerv\\u00e1ry\\nLeopold Vietoris\\nLorna Swain\\nLouis Melville Milne-Thomson\\nNikoloz Muskhelishvili\\nOtto Yulyevich Schmidt\\nPierre Humbert\\nWalter Shewhart\\nA A Krishnaswami Ayyangar\\nArnold Walfisz\\nCarlo Bonferroni\\nDmitrii Menshov\\nEduard Jan Dijksterhuis\\nF\\u00e9lix Pollaczek\\nGustav Doetsch\\nHans Rademacher\\nJoseph Burchnall\\nLouis de Broglie\\nMarston Morse\\nMikhail Krawtchouk\\nOctav Onicescu\\nStefan Banach\\nTadija Pejovic\\nTorsten Carleman\\nAlexander Ostrowski\\nAndr\\u00e9 Bloch\\nAnna Mullikin\\nBill Ferrar\\nBronis\\u0142aw Knaster\\nCharles Henry Rowe\\nCharles Loewner\\nCornelius Lanczos\\nEduard \\u010cech\\nErnst \\u00d6pik\\nFrancis Murnaghan\\nGaston Julia\\nHarald Cram\\u00e9r\\nHilda Geiringer\\nJason J Nassau\\nJoseph Ritt\\nKurt Reidemeister\\nMikhail Fedorovich Subbotin\\nMohammed Reda Madwar\\nPetre Sergescu\\nPrasanta Chandra Mahalanobis\\nThomas Arnold Brown\\nXiong Qinglai\\nAgnes Scott\\nAleksandr Yakovlevich Khinchin\\nAlfred Brauer\\nCecilia Krieger\\nDirk Struik\\nDorothy Wrinch\\nEinar Carl Hille\\nGeorges Lema\\u00eetre\\nHarry Schmidt\\nHeinz Hopf\\nHendrik Kramers\\nJacov Il'ich Frenkel\\nJerzy Neyman\\nMikhail Yakovlevich Suslin\\nNikolai Chebotaryov\\nNorbert Wiener\\nOskar Klein\\nPaul Finsler\\nSatyendranath Bose\\nTheodoros Varopoulos\\nWarren Weaver\\nWerner Rogosinski\\nWilliam Arthur\\nAlec Aitken\\nArchil Kirillovich Kharadze\\nBernard Childs\\nCyrus Colton MacDuffee\\nEgon Pearson\\nElbert Cox\\nErich Hans Rothe\\nG\\u00e1bor Szeg\\u0151\\nHarold Hotelling\\nJoseph Walsh\\nJ\\u00falio Mello e Souza\\nKarl Reinhardt\\nLancelot Hogben\\nLeslie Cunningham\\nOle Peder Arvesen\\nR Buckminster Fuller\\nRolf Nevanlinna\\nStefan Bergman\\nStefan Kaczmarz\\nThomas Lumsden\\nTibor Rad\\u00f3\\nWilhelm S\\u00fcss\\nArthur Milne\\nBertram Wilson\\nCarl Siegel\\nDaniel O'Connell\\nDavid Jack\\nEleanor Pairman\\nEvgeny Remez\\nHeinz Pr\\u00fcfer\\nIvo Lah\\nKazimierz Kuratowski\\nLeopold Pars\\nNora Calderwood\\nPavel Aleksandrov\\nRaymond Wilder\\nRobert Geary\\nRolin Wavre\\nSof'ja Aleksandrovna Janovskaja\\nTadeusz Wa\\u017cewski\\nVernon Morton\\nWilhelm Ackermann\\nYurii Sokolov\\nAlexander Weinstein\\nAlfonso G\\u00e1ndara\\nAnnie Hutton Numbers\\nCharles Fox\\nDouglas Hartree\\nEdwin Pitman\\nEmil Post\\nFrancesco Tricomi\\nGertrude Blanch\\nJesse Douglas\\nJohn Synge\\nJosif Zakharovich Shtokalo\\nLetitia Chitty\\nMax Newman\\nMyron Mathisson\\nStanis\\u0142aw Saks\\nSylvia Skan\\nTatsujiro Shimizu\\nTheodore Combridge\\nVojt\\u011bch Jarn\\u00edk\\nWilliam Greaves\\nAli Moustafa Mosharrafa\\nArend Heyting\\nB\\u00e9la Ker\\u00e9kj\\u00e1rt\\u00f3\\nDavid Widder\\nEdwin Olds\\nEmil Artin\\nErich Bessel-Hagen\\nFritz Zwicky\\nHeinrich Behnke\\nHellmuth Kneser\\nHelmut Hasse\\nJohn Wishart\\nK K Weatherhead\\nLeopold Infeld\\nMarguerite Lehr\\nMary Taylor\\nMaurits Escher\\nPavel Urysohn\\nPhilip Franklin\\nRapha\\u00ebl Salem\\nThomas Cherry\\nVladimir Aleksandrovich Fock\\nWilliam Kermack\\nZyoiti Suetuna\\nBadri Nath Prasad\\nEdward Titchmarsh\\nHenri Mineur\\nHildegard Ille\\nJulius Schauder\\nKarl D\\u00f6rge\\nLois Griffiths\\nMaximilian Herzberger\\nOscar Zariski\\nOtakar Boruvka\\nOtto Neugebauer\\n\\u00d8ystein Ore\\nPelageia Polubarinova Kochina\\nRobert Schlapp\\nSalomon Bochner\\nSzolem Mandelbrojt\\nTom\\u00e1s Rodr\\u00edguez Bachiller\\nWolfgang Krull\\nAbraham Plessner\\nAlbert Ingham\\nAntoni Zygmund\\nCecilia Payne-Gaposchkin\\nCecily Tanner\\nDavid van Dantzig\\nEdward Collingwood\\nFrederick Bath\\nGeorge Uhlenbeck\\nGertrude Cox\\nGheorghe Vr\\u0103nceanu\\nHaskell Curry\\nHendrik Kloosterman\\nHoward Aiken\\nIda Rhodes\\nJ C Burkill\\nL\\u00e1szl\\u00f3 R\\u00e9dei\\nMary Cartwright\\nMikhail Alekseevich Lavrent'ev\\nPedro Puig Adam\\nWilhelm Cauer\\nWilliam Youden\\nWolfgang Pauli\"}, {\"per\": \"1901_1950\", \"eff\": 1022, \"names\": \"Alfred Tarski\\nBento Cara\\u00e7a\\n\\u00c9douard Zeckendorf\\nEdward Copson\\nEnrico Fermi\\nFriedrich Karl Schmidt\\nGeorge Temple\\nIvan Georgievich Petrovsky\\nJohn Williamson\\nKiyoshi Oka\\nKurt Friedrichs\\nLevan Gokieli\\nLuigi Fantappi\\u00e8\\nMachgielis Euwe\\nMary Simpson\\nNaum Il'ich Akhiezer\\nNikolai Evgrafovich Kochin\\nNina Bari\\nOene Bottema\\nOtto Schreier\\nPetr Sergeevich Novikov\\nRaj Chandra Bose\\nRichard Brauer\\nRichard Gwilt\\nRichard Robb\\nSemyon Aranovich Gershgorin\\nSteven Vajda\\nUgo Morin\\nWerner Heisenberg\\nWilliam Whyburn\\nWinifred Deans\\nAbraham Wald\\nCarolyn Eisele\\nEberhard Hopf\\nEdna Kramer\\nEugene Paul Wigner\\nFrank Yates\\nG Leslie Frewin\\nGheorghe  Calug\\u0103re\\u0103nu\\nHans Petersson\\nHans Schwerdtfeger\\nHubert Wall\\nJoseph Pierce\\nJovan Karamata\\nKarl Menger\\nKazimierz Zarankiewicz\\nKenjiro Shoda\\nMarion Gray\\nMina Rees\\nPascual Jordan\\nPaul Dirac\\nReinhold Baer\\nReuben R McDaniel\\nStanis\\u0142aw Go\\u0142\\u0105b\\nStefan Cohn-Vossen\\nTheodor Estermann\\nThomas Room\\nUdo Wegner\\nWallace J Eckert\\nWolfgang Haack\\nAlan Broadbent\\nAlexander Oppenheim\\nAlonzo Church\\nAndrey Kolmogorov\\nAurel Wintner\\nBartel van der Waerden\\nBeniamino Segre\\nBertha Swirles Jeffreys\\nC T Rajagopal\\nCatherine Steele\\nDudley Littlewood\\nErnest Walton\\nEvan James Williams\\nFrank Ramsey\\nGeoffrey Timms\\nGeorges de Rham\\nGladys Mackenzie\\nHans Rohrbach\\nHoward Percy Robertson\\nIrmgard Fl\\u00fcgge-Lotz\\nIsaac Schoenberg\\nJames Paton\\nJan Tinbergen\\nJean Delsarte\\nJohn von Neumann\\nKurt Mahler\\nLeifur \\u00c1sgeirsson\\nMarshall Stone\\nOliver Sutton\\nPatrick Du Val\\nRobert Gillespie\\nStephen Bosanquet\\nSydney Goldstein\\nTaro Morishima\\nViktor Kupradze\\nWilliam Birnbaum\\nWilliam Hodge\\nWilliam Prager\\nW\\u0142adys\\u0142aw Orlicz\\nYves Rocard\\nAdolf Lindenbaum\\nAlexander Buchan\\nAlfred Foster\\nAlston Householder\\nArnold Scholz\\nDemetrios Kappos\\nDonald Eperson\\nEdward McShane\\nEvan (Ianto) Davies\\nFranti\\u0161ek Wolf\\nGeorge McVittie\\nGeorgi Bradistilov\\nGiovanni Ricci\\nGonz\\u00e1lez Dom\\u00ednguez\\nGordon Whyburn\\nHans Lewy\\nHelmut Grunsky\\nHenri Cartan\\nHenry Whitehead\\nJacob Levitzki\\nJerzy S\\u0142upecki\\nJohn Evelyn\\nJohn Semple\\nJurjen Koksma\\nKarl Maruhn\\nLeonard Roth\\nLyudmila Vsevolodovna Keldysh\\nNikolai Grigor'evich Chudakov\\nPaul Dubreil\\nPhilip Hall\\nRenato Caccioppoli\\nStefan Warschawski\\nWilhelm Fl\\u00fcgge\\nWilliam Edge\\nWilliam McCrea\\nWitold Hurewicz\\nA Adrian Albert\\nAlbert Tucker\\nAlexander Doniphan Wallace\\nAnna Adelaide Stafford Henriques\\nArne Beurling\\nCharles Ehresmann\\nD R Kaprekar\\nDerrick Henry Lehmer\\nEi\\u017eens Leimanis\\nEmanuel Sperner\\nErnst Stueckelberg\\nGottfried K\\u00f6the\\nHans Freudenthal\\nHarold Ruse\\nHermann Br\\u00fcck\\nHubert Linfoot\\nJan Popken\\nJohn Whittaker\\nJoseph Dennis\\nKarol Borsuk\\nL\\u00e1szl\\u00f3 Kalm\\u00e1r\\nLaurence Chisholm Young\\nLeo Zippin\\nLev Shnirelman\\nMargaret E Boyle\\nMarian Rejewski\\nMarie-Louise Dubreil-Jacotin\\nRen\\u00e9 de Possel\\nR\\u00f3zsa P\\u00e9ter\\nRuth Moufang\\nSerge Mikhalovich Nikolski\\nSigekatu Kuroda\\nStanis\\u0142aw Mazur\\nThomas Graham\\nTiberiu Popoviciu\\nWilhelm Ljunggren\\nWilliam Guthrie\\nWinifred Sargent\\nAdolph Pavlovich Yushkevich\\nAleksandr Osipovich Gelfond\\nAndr\\u00e9 Weil\\nAndrei Tikhonov\\nBoris Yakovlevich Levin\\nBruno de Finetti\\nCarl Boyer\\nCarlo Federici\\nCyril Offord\\nDaniel Rutherford\\nEdward Maitland Wright\\nEdwin Beckenbach\\nEmma Lehmer\\nErich K\\u00e4hler\\nErnst Peschl\\nEugene Lukacs\\nFranz Rellich\\nG de B Robinson\\nGheorghe Mihoc\\nGordon Welchman\\nGrace Hopper\\nGrigore Moisil\\nHans Bethe\\nHans Fitting\\nJean Dieudonn\\u00e9\\nJean Leray\\nJohn Smith\\nKurt G\\u00f6del\\nKurt Hirsch\\nMary Fasenmyer\\nMax Zorn\\nOlga Taussky-Todd\\nOmar Catunda\\nOtt-Heinrich Keller\\nRafael Laguardia\\nRichard Rado\\nRoberto Frucht\\nSamarendra Nath Roy\\nSamuel Verblunsky\\nSamuel Wilks\\nShokichi Iyanaga\\nTom Cowling\\nVera Nikolaevna Faddeeva\\nWilliam Feller\\nYaroslav Borisovich Lopatynsky\\nB\\u00f8rge Jessen\\nD D Kosambi\\nDmitrii Konstantinovich Faddeev\\nDonald Coxeter\\nDuro Kurepa\\nEdgar Raymond Lorch\\nEdward Marczewski\\nEdwin Maxwell\\nGheorghe Pic\\nHarold Davenport\\nHassler Whitney\\nHenry Scheff\\u00e9\\nHerbert Seifert\\nHermann Arthur Jahn\\nIlya Vekua\\nJohn Mauchly\\nJohn Womersley\\nLars Ahlfors\\nLeonard Carlitz\\nMark Krein\\nMaurice Kendall\\nMax Deuring\\nRaymond Paley\\nRudolf Peierls\\nSarvadaman Chowla\\nWilhelm Magnus\\nWilhelm Specht\\nAldo Ghizzetti\\nAleksandr G Kurosh\\nAlexander Dinghas\\nAlfred Hoblitzelle Clifford\\nArchibald Macintyre\\nArthur Erd\\u00e9lyi\\nBrian Kuttner\\nDonald Sadler\\nEgbert van Kampen\\nGianfranco Cimmino\\nGuacolda Lazzerini\\nGuglielmo Righini\\nGustav Elfving\\nHannes Alfv\\u00e9n\\nHans Heilbronn\\nHans Reichardt\\nHans Schubert\\nHenryk Zygalski\\nHermann Ludwig Schmid\\nHerta Freitag\\nIda Busbridge\\nIvor Etherington\\nJacob Bronowski\\nJacques Herbrand\\nJohn Todd\\nLev Landau\\nLev Pontryagin\\nMarceli Stark\\nMorris Kline\\nSchieffelin Claytor\\nSergei Sobolev\\nSolomon Grigoryevich Mikhlin\\nTheodore Samuel Motzkin\\nVictor Amazaspovich Ambartsumian\\nViktor Vladimirovich Vagner\\nWillard Van Quine\\nAnatoly Malcev\\nB\\u00e9la Gyires\\nBernhard Neumann\\nBill Penney\\nClaude Chevalley\\nDeane Montgomery\\nEduard Stiefel\\nFabio Conforto\\nFeodor Theilheimer\\nFlorence Nightingale David\\nFriedrich Bachmann\\nGeoffrey Walker\\nGerhard Gentzen\\nHidegor\\u00f4 Nakano\\nHugh Alexander\\nJerzy Rozycki\\nJohannes Haantjes\\nKarl Heinrich Weise\\nKosaku Yosida\\nMark Aronovich Naimark\\nMax Black\\nNikolai Nikolaevich Bogolyubov\\nOtt\\u00f3 Varga\\nRalph James\\nSaunders Mac Lane\\nStan Ulam\\nStephen C Kleene\\nWade Ellis\\nWalter R Talbot\\nWerner Romberg\\nWilliam Cochran\\nCahit Arf\\nCharles Coulson\\nCharles Pisot\\nDaniel Pedoe\\nDoris Hellman\\nErnests Fogels\\nErnst Mohr\\nFloyd Burton Jones\\nFritz John\\nGeorge G Lorentz\\nG\\u00e9za Gr\\u00fcnwald\\nHelmut Wielandt\\nHua Loo-Keng\\nJacob Wolfowitz\\nJohanna Weber\\nJoseph Doob\\nJ\\u00f3zef Marcinkiewicz\\nKonrad Zuse\\nLamberto Cesari\\nLothar Collatz\\nMarshall Hall Jr\\nMaurice Bartlett\\nNathan Jacobson\\nNikolai Vladimirovich Efimov\\nNorman Steenrod\\nPao Lu Hsu\\nPaul Tur\\u00e1n\\nSheila Scott Macintyre\\nSubrahmanyan Chandrasekhar\\nTjalling Charles Koopmans\\nAbraham Gelbart\\nCaleb Gattegno\\nDov Jarden\\nEizens Arins\\nEmanuels Grinbergs\\nEnzo Martinelli\\nErnst Witt\\nFelix Behrend\\nGarrett Birkhoff\\nGeorge Szekeres\\nJack Todd\\nKlaus Fuchs\\nLu\\u00eds Antoni Santal\\u00f3\\nMenahem Schiffer\\nMstislav Vsevolodovich Keldysh\\nOrymbek Zhautykov\\nPilar Ribeiro\\nRaphael Robinson\\nRobert Schatten\\nShiing-shen Chern\\nShizuo Kakutani\\nTheodor Schneider\\nWalter Ledermann\\nWarwick Sawyer\\nWei-Liang Chow\\nWolfgang Hahn\\nAlan Turing\\nAleksandr Aleksandrov\\nAndy Guinand\\nBoris Vladimirovich Gnedenko\\nCaius Iacob\\nCarlo Miranda\\nCora Ratto de Sadosky\\nDavid Champernowne\\nDemetrios Magiros\\nDonald C Spencer\\nElgy Johnson\\nEmil Grosswald\\nFerran Sunyer\\nFrank Smithies\\nGerald Whitrow\\nHans Zassenhaus\\nHugh Dowker\\nKathleen Ollerenshaw\\nKentaro Yano\\nLeonid Vital'evich Kantorovich\\nLouis Goodstein\\nMartin Eichler\\nNoel Slater\\nNorman Levinson\\nPierre Lelong\\nRafael Artzy\\nRalph Boas\\nSergei Chernikov\\nShigeo Sasaki\\nTadashi Nakayama\\nTibor Gallai\\nAdriaan Cornelis Zaanen\\nAlessandro Faedo\\nAndrzej Mostowski\\n\\u00c1ngel Gros\\nC\\u00e2ndido Silva Dias\\nEmma Castelnuovo\\nErnest Corominas\\nGiuseppe Pompilj\\nG\\u00f6ran Borg\\nHerman Goldstine\\nIsrael Everett Glover\\nIsrail Gelfand\\nJan Mikusi\\u0144ski\\nLevan Magnaradze\\nMarie-H\\u00e9l\\u00e8ne Schwartz\\nMary Cannell\\nMischa Cotlar\\nMuriel Wales\\nOswald Teichm\\u00fcller\\nPaul Erd\\u0151s\\nRalph Fox\\nSamuel Eilenberg\\nShaun Wylie\\nSixto R\\u00edos\\nSubbaramiah Minakshisundaram\\n\\u00c5ke Pleijel\\nAndr\\u00e1s Rapcs\\u00e1k\\nColin Cherry\\nDorothy Bernstein\\nEdward Begle\\nEmilio Baiada\\nEvgeny Sergeevich Lyapin\\nFederico Cafiero\\nGeorge Dantzig\\nGeorgii Polozii\\nHanna Neumann\\nHarry Pitt\\nJacques Feldbau\\nJohannes de Groot\\nJos\\u00e9 Sebastiao e Silva\\nLev Arkad'evich Kaluznin\\nLipman Bers\\nLyman Spitzer\\nManuel Sadosky\\nMarjorie Lee Browne\\nMark Kac\\nMartin Gardner\\nPedro Abellanas\\nR H Bing\\nRobert Dilworth\\nRufus Isaacs\\nStefan Schwarz\\nTadeusz Boleslaw \\u015alebarski\\nVladimir Potapov\\nWalter Samuel McAfee\\nWassily Hoeffding\\nWilliam Wager Cooper\\nAlberto Dou\\nAleksandr Yakovlevich Povzner\\nAlice T Schafer\\nAndr\\u00e9 Lichnerowicz\\nBoris Khvedelidze\\nChuan-Chih Hsiung\\nEvgenii Mikhailovich Lifshitz\\nFred Hoyle\\nGustave Choquet\\nHerbert Robbins\\nJames McConnell\\nJohn Tukey\\nJos\\u00e9 Luis Massera\\nKenneth May\\nKiyosi Ito\\nKunihiko Kodaira\\nLaurent Schwartz\\nLee Lorch\\nLionel Cooper\\nMollie Orshansky\\nPaul Kelly\\nRichard Hamming\\nRobert Rankin\\nWarren Brothers\\nWolfgang Doeblin\\nYuri Vladimirovich Linnik\\nAbraham Seidenberg\\nAlbrecht Fr\\u00f6hlich\\nAryeh Dvoretzky\\nClaude E Shannon\\nDavid Bates\\nDouglas Northcott\\nEdmund Hlawka\\nElliott Montroll\\nEllis Kolchin\\nFrederick Atkinson\\nFrederick Mosteller\\nGeorge Mackey\\nGilbert Hunt\\nHans Samelson\\nIrving John Good\\nJohn Crank\\nJohn Kelley\\nNathan Fine\\nPaul Halmos\\nRoger Ap\\u00e9ry\\nSheila Edmonds\\nZolt\\u00e1n Dienes\\nAndrzej Alexiewicz\\nAtle Selberg\\nBeno Eckmann\\nClarence Francis Stephens\\nEdward Lorenz\\nElizabeth Scott\\nErling Sverdrup\\nGeorge Forsythe\\nGraham Higman\\nHelena Rasiowa\\nHenry Jack\\nIrving Kaplansky\\nIstv\\u00e1n Feny\\u0151\\nJoan Clarke\\nKenkichi Iwasawa\\nLeonard Gillman\\nLeonard Jimmie Savage\\nLuna Isaac Mishoe\\nMoshe Livsic\\nNathan Mendelsohn\\nNikolai Sergeevitch Krylov\\nPatrick Moran\\nPhyllis Nicolson\\nRoger Lyndon\\nSergei Fomin\\nTosio Kato\\nWilliam Tutte\\nYurii Alekseevich Mitropolskii\\nAbraham Robinson\\nDavid Gilbarg\\nDavid Kendall\\nDavid Rees\\nGeoffrey Kneebone\\nGeorge Carrier\\nHeinz Rutishauser\\nHsien C Wang\\nIrving Segal\\nIvan Vidav\\nJacqueline Ferrand\\nJacy Monteiro\\nJohn Herivel\\nJulian Schwinger\\nKatherine Johnson\\nL\\u00ea V\\u0103n Thi\\u00eam\\nLeon Mirsky\\nLeslie Fox\\nMario Fiorentini\\nNaum Il'ich Feldman\\nNicolaas de Bruijn\\nRichard Feynman\\nSheila Power Tinney\\nTibor Szele\\nVincent McRae\\nWanda Szmielew\\nYudell Luke\\nAleksei Vasilevich Pogorelov\\nAlexander Andreevich Samarskii\\nClifford Ambrose Truesdell III\\nDavid Blackwell\\nErwin Hiebert\\nGeorge Box\\nGeorgii Dmitrievich Suvorov\\nHermann Bondi\\nIan Sneddon\\nJ Presper Eckert\\nJaap Seidel\\nJim Wilkinson\\nJulia Bowman Robinson\\nLars G\\u00e5rding\\nLeopold Schmetterer\\nMagnus Wenninger\\nPaulette Libermann\\nRaimundo Chela\\nRaymond Smullyan\\nVladimir Abramovich Rokhlin\\nWen-Tsun Wu\\nWilliam Kruskal\\nAlberto Calder\\u00f3n\\nAlfred Goldie\\nAmbrose Rogers\\nAnne Cobbe\\nBasil Rennie\\nBill Boone\\nCalyampudi Radhakrishna Rao\\nDonald Pack\\nEdwin Hewitt\\nErnst Specker\\nFrank Bonsall\\nGeorge Batchelor\\nGeorge Butcher\\nGeorges Reeb\\nHerbert Federer\\nJeremiah Certaine\\nJerzy \\u0141o\\u015b\\nJohn Hammersley\\nKollagunta Ramanathan\\nMarcel-Paul Sch\\u00fctzenberger\\nMark Krasnosel'skii\\nNicolaas Kuiper\\nRichard Bellman\\nRoman Ingarden\\nRoman Sikorski\\nSree Pillai\\nUdita Narayana Singh\\nVera Kublanovskaya\\nWolfgang Gasch\\u00fctz\\nAlexander Kronrod\\nAlfr\\u00e9d R\\u00e9nyi\\nAndrew Gleason\\nBent Christiansen\\nBoris Trakhtenbrot\\nChike Obi\\nDavid Gale\\nEdith Hirsch Luchins\\nEdwin Spanier\\nFerenc Rad\\u00f3\\nFrank Harary\\nHarry Reuter\\nHenri Garnir\\nHorst Tietz\\nIacopo Barsotti\\nJean-Louis Koszul\\nJohn Quill Taylor King\\nJonas Kubilius\\nKathleen McNulty Antonelli\\nLeo Moser\\nMar\\u00edlia Peixoto\\nMartin L\\u00f6b\\nMaur\\u00edcio Peixoto\\nPierre Samuel\\nRoger Godement\\nRonald Mitchell\\nShimshon Amitsur\\nWalter Rudin\\nYozo Matsushima\\nAmbros Speiser\\nAnneli Lax\\nAsger Aaboe\\nDouglas Jones\\nErnst Straus\\nGaetano Fichera\\nGuido Stampacchia\\nImre Lakatos\\nJ W S Cassels\\nJack Warga\\nJan Kalicki\\nKathleen Booth\\nLazar Matveevich Gluskin\\nLeopoldo Nachbin\\nLeslie Woods\\nOlga Alexandrovna Ladyzhenskaya\\nRimhak Ree\\nAdegoke Olubummo\\nAleksei Alekseevich Dezin\\nArmand Borel\\nBeauregard Stubblefield\\nBlagoj Popov\\nCathleen Morawetz\\nChristine Hamill\\nDan Mostow\\nDaniel Gorenstein\\nDionisio Gallarati\\nEnrico Magenes\\nFreeman Dyson\\nFritz Ursell\\nGeorg Kreisel\\nGloria Olive\\nHarish-Chandra\\nHenri Cabannes\\nHidehiko Yamabe\\nIgor Rostislavovich Shafarevich\\nJ Ernest Wilkins\\nJoseph Keller\\nKuo-Tsai Chen\\nMikhail Iosiphovich Kadets\\nMurray Macbeath\\nPeter Henrici\\nPeter Hilton\\nRaoul Bott\\nRen\\u00e9 Thom\\nThomas Flett\\nTom Apostol\\nVasilii Sergeevich Vladimirov\\nWim Cohen\\nYitz Herstein\\nAldo Andreotti\\nArnljot H\\u00f8yland\\nAttia Ashour\\nBenoit Mandelbrot\\nClive William Kilmister\\nDonald Davies\\nElena Moldovan Popoviciu\\nEvgenii B Dynkin\\nIrving Reiner\\nIsadore Singer\\nJack Kiefer\\nJames Lighthill\\nJ\\u00e1nos Horv\\u00e1th\\nJean Bartik\\nJohn Backus\\nKarl Aubert\\nLinards Reizi\\u0146\\u0161\\nLucien Le Cam\\nMary Ellen Rudin\\nNikolai Nikolaevich Krasovskii\\nNorrie Everitt\\nOtt\\u00f3 Steinfeld\\nPaul Cohn\\nSamuel Karlin\\nWilhelm Klingenberg\\nAdelina Guti\\u00e9rrez Moreno\\nCecilia Berdichevsky\\nChris Zeeman\\nElza Furtado Gomide\\nEugene Graham\\nFred Wright\\nGermund Dahlquist\\nGiovanni Prodi\\nGordon Preston\\nGuri Ivanovich Marchuk\\nHanno Rund\\nHans-J\\u00fcrgen Hoehnke\\nJohn Pople\\nJohn Torrence Tate\\nKeith Stewartson\\nKlaus Roth\\nLloyd Williams\\nLouis Nirenberg\\nMartin Kruskal\\nNathan Divinsky\\nOlga Arsenievna Oleinik\\nOlli Lehto\\nRenfrey Potts\\nRichard Kadison\\nShanti Swarup Gupta\\nAlbert Nijenhuis\\nBrian Haselgrove\\nCalogero Vinti\\nCarol Karp\\nChaim Samuel H\\u00f6nig\\nClaude Berge\\nDavid Spence\\nFranz Kahn\\nG\\u00fcnd\\u00fcz Ikeda\\nHans-Joachim Bremermann\\nHenry Dye\\nJ A Green\\nJames Clunie\\nJames Eells\\nJames Serrin\\nJaroslav H\\u00e1jek\\nJean-Pierre Kahane\\nJohn Aitchison\\nJohn Kemeny\\nJohn Leech\\nJohn Shepherdson\\nKristen Nygaard\\nMagdalena Mouj\\u00e1n\\nMaurice Auslander\\nMichio Suzuki\\nMiroslav Fiedler\\nRebeca Cherep de Guber\\nRex Tims\\nTonny Springer\\nWalter Hayman\\nZdzis\\u0142aw Pawlak\\nAbdulalim Shabazz\\nAlbert Bharucha-Reid\\nAlexander Ivanovich Skopin\\nAllen Shields\\nBenjamin Moiseiwitsch\\nBrian Griffiths\\nCarlos Benjamin de Lyra\\nDimitrei D Stancu\\nFelix Browder\\nFrank Levin\\nFriedrich Hirzebruch\\nFriedrich Horn\\nGeoffrey Shephard\\nGyula Maurer\\nHans Wussing\\nHeinrich-Wolfgang Leopoldt\\nHo\\u00e0ng T\\u1ee5y\\nHorst Sachs\\nJohn Britton\\nMasayoshi Nagata\\nMikhail Mikhailovich Postnikov\\nSerge Lang\\nSlamet Dajono\\nWilliam Moser\\nYutaka Taniyama\\nAlexander Grothendieck\\nCharles Bell\\nCharles Costley\\nChukwuka Okonjo\\nDonald Greenspan\\nDonald Higman\\nElizabeth Fennema\\nEnnio De Giorgi\\nEric Milner\\nErrett Bishop\\nGordon Pask\\nHeinz Bauer\\nIain Adamson\\nIsrael Gohberg\\nJacques-Louis Lions\\nJohn Bell\\nJohn F Nash\\nJoseph Kruskal\\nJ\\u00fcrgen Moser\\nKarl Gruenberg\\nLouis Auslander\\nManuel Valdivia\\nMarion Walter\\nMartin Davis\\nMikio Sato\\nNorman Routledge\\nRichard Varga\\nAleksei Kostrikin\\nAndor Kert\\u00e9sz\\nAnthony Spencer\\nBranko Gr\\u00fcnbaum\\nBrooke Benjamin\\nBryce McLeod\\nDouglas Munn\\nElem\\u00e9r Kiss\\nElon Lima\\nFran\\u00e7ois Bruhat\\nG\\u00fcnter Lumer\\nIlya Iosifovich Piatetski-Shapiro\\nJock Hoe\\nLaurence Raymond Harper\\nMargaret Rayner\\nMichael Atiyah\\nPaddy Kennedy\\nVera Spinadel\\nWard Cheney\\nYurii Vasilevich Prokhorov\\nAnatolii Asirovich Goldberg\\nAnatolii Volodymyrovych Skorokhod\\nBruce Kellogg\\nDavid Foulis\\nEdsger Dijkstra\\nFrank Adams\\nGoro Shimura\\nGregory Maxwell Kelly\\nHans Grauert\\nIsmail Mohamed\\nJacob T Schwartz\\nJacques Tits\\nJaime Escalante\\nJames Ezeilo\\nJohn Polkinghorne\\nJuan Jorge Sch\\u00e4ffer\\nKazimierz Urbanik\\nNewby Curle\\nReinhard Selten\\nRudolf Kalman\\nSatoshi Suzuki\\nShreeram Shankar Abhyankar\\nWalter Feit\\nWang Yuan\\nAlan Mercer\\nAnatoli Georgievich Vitushkin\\nAndr\\u00e1s Hajnal\\nCzes\\u0142aw Olech\\nEl\\u00e9na Kreindler\\nElias Stein\\nHerbert Wilf\\nIgor Kluv\\u00e1nek\\nLars H\\u00f6rmander\\nRobert C Thompson\\nSergei Ivanovich Adian\\nStanis\\u0142aw Knapowski\\nValentina Mikhailovna Borok\\nVera Pless\\nCrispin Nash-Williams\\nDonald Solitar\\nFrancis Allotey\\nGene Golub\\nGian-Carlo Rota\\nGilberto Loibel\\nGrace Alele-Williams\\nJack van Lint\\nJacques Neveu\\nJoachim Neub\\u00fcser\\nJohn Lewis\\nKenneth Appel\\nLee Segel\\nMarian \\u021aarin\\u0103\\nMary Warner\\nMaurice Audin\\nSiobh\\u00e1n Vernon\\nStanis\\u0142aw \\u015awierczkowski\\nTaira Honda\\nTom Whiteside\\nVivienne Malone-Mayes\\nChen Jingrun\\nDorothy Foster\\nEtta Zuber Falconer\\nFrederick Justin Almgren\\nGary Roach\\nGilbert Baumslag\\nJean-Paul Pier\\nJohn Frankland Rigby\\nLochlainn O'Raifeartaigh\\nMikhail Moiseevich Lesokhin\\nMoshe Carmeli\\nRay Vanstone\\nRichard Askey\\nIossif Vladimirovich Ostrovskii\\nJames Wiegold\\nLudwig Faddeev\\nPaul Cohen\\nPaul-Andr\\u00e9 Meyer\\nWilliam Parry\\nBronius Grigelionis\\nHelge Tverberg\\nHitoshi Kumano-Go\\nJohn Hildebrant\\nJohn Stallings\\nLouise Szmir Hay\\nMarek Kuczma\\nRolando Chuaqui\\nRonald Graham\\nDmitrii Viktorovich Anosov\\nGonzalo P\\u00e9rez Iribarren\\nGraham Allan\\nJohn Howie\\nJoram Lindenstrauss\\nJudita Cofman\\nKi Hang Kim\\nL\\u00e1szl\\u00f3 Kov\\u00e1cs\\nLeone Burton\\nOleksandr Mikolaiovich Sharkovsky\\nPavel Tichy\\nPeter Ladislaw Hammer\\nRichard Schelp\\nRobert May\\nUmirzak Sultangazin\\nBarry Johnson\\nCharles Sims\\nDavid Fowler\\nDavid Hayes\\nEnrique Planchart\\nHorace Mochizuki\\nJohannes Boersma\\nJohn Conway\\nJohn Knopfmacher\\nMosh\\u00e9 Flato\\nRon Book\\nSunday Iyahen\\nVladimir Arnold\\nYuri Ivanovich Manin\\nAlex Craik\\nAnatoly Mykhailovych Samoilenko\\nBella Abramovna Subbotovskaya\\nChidambaram Padmanabhan Ramanujam\\nDaniel Akyeampong\\nDetlef Gromoll\\nDon Carlson\\nFischer Sheffey Black\\nHans Meinhardt\\nHideo Tanaka\\nMarina Ratner\\nAlan Baker\\nBrian Hartley\\nBrian Sleeman\\nCarlo Cercignani\\nHendrika Swart\\nHerbert Pahlings\\nMario Wschebor\\nCora Sadosky\\nDaniel Quillen\\nAlan Day\\nDerek Waller\\nIvor Grattan-Guinness\\nL\\u00e1szl\\u00f3 Filep\\nPeter Stefan\\nAlexandru Lupas\\nDavid Crighton\\nGavin Brown\\nPatrick Keast\\nStephen Hawking\\nSteve Rallis\\nThierry Aubin\\nVitaly Vitalievich Fedorchuk\\nEvelyn Nelson\\nSteven Orszag\\nMargaret Hilary Ashworth Millington\\nMitchell Feigenbaum\\nGeorge Saitoti\\nJohn Coates\\nVijay Patodi\\nWilbur Knorr\\nAnzelm Iwanik\\nBill Thurston\\nJean-Louis Loday\\nNigel Kalton\\nOla Bratteli\\nWelington de Melo\\nAndr\\u00e1s Huhn\\nGeorgia Benkart\\nOvide Arino\\nRobert Edward Bowen\\nUriel Rothblum\\nChandra Kintala\\nGerard Murphy\\nJohn Carr\\nPhilippe Flajolet\\nRicardo Ma\\u00f1\\u00e9\\nDaniel Rudolph\\nFritz Grunewald\\nMartin Harvey\\nAndrei Andreevich Bolibrukh\\nDavid Broomhead\\nViktor Aleksandrovich Gorbunov\"}]}, \"height\": 600, \"title\": \"Distribution of births by 50-year periods\", \"width\": 900, \"$schema\": \"https://vega.github.io/schema/vega-lite/v4.17.0.json\"}, {\"mode\": \"vega-lite\"});\n",
       "</script>"
      ],
      "text/plain": [
       "alt.LayerChart(...)"
      ]
     },
     "execution_count": 17,
     "metadata": {},
     "output_type": "execute_result"
    }
   ],
   "source": [
    "### Ajouter une moyenne glissante\n",
    "# Documentation:\n",
    "#     https://joelostblom.github.io/altair-docs/gallery/bar_with_rolling_mean.html\n",
    "\n",
    "## https://altair-viz.github.io/user_guide/data.html\n",
    "data_trsf = alt.Data(values=data)\n",
    "\n",
    "bar = alt.Chart(data_trsf).mark_bar().encode(\n",
    "    x='per:N',\n",
    "    y='eff:Q',\n",
    "    tooltip=('eff:Q')\n",
    "   \n",
    ")\n",
    "\n",
    "line = alt.Chart(data_trsf).mark_line(color='red').transform_window(\n",
    "    # The field to average\n",
    "    rolling_mean='mean(eff)',\n",
    "    # The number of values before and after the current value to include.\n",
    "    frame=[-9, 0]\n",
    ").encode(\n",
    "    x='per:O',\n",
    "    y='rolling_mean:Q'\n",
    ")\n",
    "\n",
    "(bar + line).properties(height= 600, width=900,  title = f'Distribution of births by {period}-year periods')"
   ]
  },
  {
   "cell_type": "code",
   "execution_count": null,
   "metadata": {},
   "outputs": [],
   "source": []
  },
  {
   "cell_type": "code",
   "execution_count": null,
   "metadata": {},
   "outputs": [],
   "source": []
  },
  {
   "cell_type": "code",
   "execution_count": null,
   "metadata": {},
   "outputs": [],
   "source": []
  },
  {
   "cell_type": "code",
   "execution_count": null,
   "metadata": {},
   "outputs": [],
   "source": []
  },
  {
   "cell_type": "code",
   "execution_count": null,
   "metadata": {},
   "outputs": [],
   "source": []
  }
 ],
 "metadata": {
  "kernelspec": {
   "display_name": "cas_data_wrangling",
   "language": "python",
   "name": "cas_data_wrangling"
  },
  "language_info": {
   "codemirror_mode": {
    "name": "ipython",
    "version": 3
   },
   "file_extension": ".py",
   "mimetype": "text/x-python",
   "name": "python",
   "nbconvert_exporter": "python",
   "pygments_lexer": "ipython3",
   "version": "3.10.9"
  }
 },
 "nbformat": 4,
 "nbformat_minor": 4
}
