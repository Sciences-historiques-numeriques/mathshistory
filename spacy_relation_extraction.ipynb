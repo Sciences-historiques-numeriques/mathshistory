{
 "cells": [
  {
   "cell_type": "code",
   "execution_count": null,
   "id": "ea7c394e-0868-4c1d-8ab4-7870d98aade9",
   "metadata": {},
   "outputs": [],
   "source": []
  },
  {
   "cell_type": "markdown",
   "id": "7e9b3c7a-1556-42d3-a00c-7ae38c396bca",
   "metadata": {
    "tags": []
   },
   "source": [
    "# Spacy relationship extraction\n",
    "\n",
    "Use the pip_spacy Conda environment\n",
    "\n",
    "* Claucy\n",
    "* Concepcy"
   ]
  },
  {
   "cell_type": "markdown",
   "id": "3f4504a7-3dca-4021-9d13-448c20cb8b4d",
   "metadata": {},
   "source": []
  },
  {
   "cell_type": "code",
   "execution_count": 2,
   "id": "c9db5d54-3d1f-4d00-9cb4-51d849ea70c0",
   "metadata": {
    "tags": []
   },
   "outputs": [],
   "source": [
    "import spacy\n",
    "import psycopg2\n",
    "import pandas as pd\n",
    "from spacy.tokens import Span\n",
    "from spacy import displacy\n"
   ]
  },
  {
   "cell_type": "code",
   "execution_count": 3,
   "id": "a0db17c4-54f6-452f-9cbb-22b4d5bc29c8",
   "metadata": {},
   "outputs": [],
   "source": [
    "from itables import init_notebook_mode, show\n",
    "import re\n",
    "from importlib import reload"
   ]
  },
  {
   "cell_type": "code",
   "execution_count": 4,
   "id": "0aa63784-3996-4e17-b716-f5e94c3b3b73",
   "metadata": {},
   "outputs": [],
   "source": [
    "import coreferee"
   ]
  },
  {
   "cell_type": "code",
   "execution_count": 5,
   "id": "35d211c2-2e1d-4cd4-808d-9e24e9da4bc5",
   "metadata": {},
   "outputs": [],
   "source": [
    "import warnings\n",
    "warnings.filterwarnings('ignore')"
   ]
  },
  {
   "cell_type": "code",
   "execution_count": 6,
   "id": "22c5a294-0f54-4f53-abe3-67ba1b3fd85b",
   "metadata": {},
   "outputs": [],
   "source": [
    "import postgresql_functions as pgf\n",
    "import settings as stt"
   ]
  },
  {
   "cell_type": "code",
   "execution_count": 6,
   "id": "938a525c-f015-4c54-9a46-52bf8c0144d5",
   "metadata": {},
   "outputs": [],
   "source": [
    "# reload(pgf)"
   ]
  },
  {
   "cell_type": "code",
   "execution_count": null,
   "id": "a9bdec14-2d4c-4fd7-bef8-25242d4219b1",
   "metadata": {},
   "outputs": [],
   "source": []
  },
  {
   "cell_type": "code",
   "execution_count": 7,
   "id": "cc35bc8c-0d68-4c7a-95e9-990968802314",
   "metadata": {},
   "outputs": [],
   "source": [
    "### connect to the local database\n",
    "conn = psycopg2.connect(host=\"localhost\", port = 5432, database=\"espace_intellectuel\", \n",
    "                        user=\"postgres\", password=stt.dbw)\n",
    "#conn"
   ]
  },
  {
   "cell_type": "code",
   "execution_count": null,
   "id": "2facc53b-f5f9-4483-b0e5-686d59869f6f",
   "metadata": {},
   "outputs": [],
   "source": []
  },
  {
   "cell_type": "code",
   "execution_count": 74,
   "id": "e26bbcaf-e705-4378-9b50-d35bf46dbb9c",
   "metadata": {},
   "outputs": [],
   "source": [
    "q1 = \"\"\"\n",
    "select pk_mathshistory, \"name\", url, dates, length(biography) as eff, coreferenced_txt \n",
    "from mathshistory.mathshistory m \n",
    "where pk_mathshistory in (103, 117, 133, 159, 186);\n",
    "\"\"\""
   ]
  },
  {
   "cell_type": "code",
   "execution_count": 75,
   "id": "5bc50376-4343-433d-bd8f-454800c46ff7",
   "metadata": {},
   "outputs": [],
   "source": [
    "result = pgf.sql_explore(q1, conn)\n",
    "# print(f'Lines count: {len(result[0])}, errors count: {len(result[1])}, \\nFirst lines: {result[0][:5]}')"
   ]
  },
  {
   "cell_type": "code",
   "execution_count": 76,
   "id": "7e725ece-e350-4ab6-9b71-5c08114ed763",
   "metadata": {},
   "outputs": [],
   "source": [
    "textes = pd.DataFrame(result[0])\n",
    "textes.columns = ['id', 'name', 'url', 'dates', 'length_bio', 'texte']"
   ]
  },
  {
   "cell_type": "code",
   "execution_count": 77,
   "id": "25c95e40-bfbe-4693-83a8-baa13221b7bf",
   "metadata": {},
   "outputs": [
    {
     "data": {
      "text/html": [
       "<div>\n",
       "<style scoped>\n",
       "    .dataframe tbody tr th:only-of-type {\n",
       "        vertical-align: middle;\n",
       "    }\n",
       "\n",
       "    .dataframe tbody tr th {\n",
       "        vertical-align: top;\n",
       "    }\n",
       "\n",
       "    .dataframe thead th {\n",
       "        text-align: right;\n",
       "    }\n",
       "</style>\n",
       "<table border=\"1\" class=\"dataframe\">\n",
       "  <thead>\n",
       "    <tr style=\"text-align: right;\">\n",
       "      <th></th>\n",
       "      <th>id</th>\n",
       "      <th>name</th>\n",
       "      <th>url</th>\n",
       "      <th>dates</th>\n",
       "      <th>length_bio</th>\n",
       "      <th>texte</th>\n",
       "    </tr>\n",
       "  </thead>\n",
       "  <tbody>\n",
       "    <tr>\n",
       "      <th>0</th>\n",
       "      <td>103</td>\n",
       "      <td>Christopher Clavius</td>\n",
       "      <td>https://mathshistory.st-andrews.ac.uk/Biograph...</td>\n",
       "      <td>1538-1612</td>\n",
       "      <td>10616</td>\n",
       "      <td>Christopher Clavius was born in a German regio...</td>\n",
       "    </tr>\n",
       "    <tr>\n",
       "      <th>1</th>\n",
       "      <td>117</td>\n",
       "      <td>Michael Mästlin</td>\n",
       "      <td>https://mathshistory.st-andrews.ac.uk/Biograph...</td>\n",
       "      <td>1550-1631</td>\n",
       "      <td>10122</td>\n",
       "      <td>Michael Mästlin was born in Göppingen which wa...</td>\n",
       "    </tr>\n",
       "    <tr>\n",
       "      <th>2</th>\n",
       "      <td>133</td>\n",
       "      <td>Giuseppe Biancani</td>\n",
       "      <td>https://mathshistory.st-andrews.ac.uk/Biograph...</td>\n",
       "      <td>1566-1624</td>\n",
       "      <td>10035</td>\n",
       "      <td>Giuseppe Biancani's name also appears in name ...</td>\n",
       "    </tr>\n",
       "    <tr>\n",
       "      <th>3</th>\n",
       "      <td>159</td>\n",
       "      <td>Wilhelm Schickard</td>\n",
       "      <td>https://mathshistory.st-andrews.ac.uk/Biograph...</td>\n",
       "      <td>1592-1635</td>\n",
       "      <td>10272</td>\n",
       "      <td>Wilhelm Schickard's name is sometimes written ...</td>\n",
       "    </tr>\n",
       "    <tr>\n",
       "      <th>4</th>\n",
       "      <td>186</td>\n",
       "      <td>Johannes Hevelius</td>\n",
       "      <td>https://mathshistory.st-andrews.ac.uk/Biograph...</td>\n",
       "      <td>1611-1687</td>\n",
       "      <td>10856</td>\n",
       "      <td>The first problem that we have to address is t...</td>\n",
       "    </tr>\n",
       "  </tbody>\n",
       "</table>\n",
       "</div>"
      ],
      "text/plain": [
       "    id                 name  \\\n",
       "0  103  Christopher Clavius   \n",
       "1  117      Michael Mästlin   \n",
       "2  133    Giuseppe Biancani   \n",
       "3  159    Wilhelm Schickard   \n",
       "4  186    Johannes Hevelius   \n",
       "\n",
       "                                                 url      dates  length_bio  \\\n",
       "0  https://mathshistory.st-andrews.ac.uk/Biograph...  1538-1612       10616   \n",
       "1  https://mathshistory.st-andrews.ac.uk/Biograph...  1550-1631       10122   \n",
       "2  https://mathshistory.st-andrews.ac.uk/Biograph...  1566-1624       10035   \n",
       "3  https://mathshistory.st-andrews.ac.uk/Biograph...  1592-1635       10272   \n",
       "4  https://mathshistory.st-andrews.ac.uk/Biograph...  1611-1687       10856   \n",
       "\n",
       "                                               texte  \n",
       "0  Christopher Clavius was born in a German regio...  \n",
       "1  Michael Mästlin was born in Göppingen which wa...  \n",
       "2  Giuseppe Biancani's name also appears in name ...  \n",
       "3  Wilhelm Schickard's name is sometimes written ...  \n",
       "4  The first problem that we have to address is t...  "
      ]
     },
     "execution_count": 77,
     "metadata": {},
     "output_type": "execute_result"
    }
   ],
   "source": [
    "textes.head()"
   ]
  },
  {
   "cell_type": "code",
   "execution_count": 78,
   "id": "3799c490-d633-4c56-b44a-18eea9a918a5",
   "metadata": {
    "scrolled": true,
    "tags": []
   },
   "outputs": [
    {
     "name": "stdout",
     "output_type": "stream",
     "text": [
      "Michael Mästlin was born in Göppingen which was a village about 50 km east of Tübingen. Mästlin father, Jakob Mästlin, and Mästlin mother, Dorothea Simon, were both devout Lutherans and Michael was brought up in that faith and remained strongly committed to father throughout Mästlin life. Mästlin was the middle child of the family, having an older sister and a younger brother. Mästlin attended the monastic school in Königsbronn then, after Mästlin studies there, entered Tübingen University in 1568. [3]:-\n",
      "As was the case with many young scholars including Kepler, Mästlin most famous student, [Mästlin ] did Mästlin undergraduate studies at a preparatory school and came to the university to take Mästlin final exams and pick up Mästlin baccalaureate degree.At Tübingen University Mästlin studied mathematics and astronomy for a Master's degree under Philipp Apian who was Peter Apian's son. In 1570, while a student, Mästlin purchased a copy of Copernicus's De revolutionibus from the widow of Victorin Strigel, who had been professor of theology at Leipzig and the author of an astronomy text. Mästlin was awarded a Master 's degree with distinction in 1571. While studying for this degree Mästlin had edited a new edition of the Prutenis Tables which was published in 1571. The Prutenis Tables had been originally compiled by Erasmus Reinhold who had based 1571 on Copernicus's version of the solar system. After graduating, Mästlin spent the following years teaching in Tübingen, and at the same time took [3]:-\n",
      "... the theological programme, because Tübingen University's primary mission was to prepare young men for the Lutheran ministry.Then, in 1576, Mästlin was sent to be a deacon at the Lutheran Church in Backnang, a town about 30 km northwest of Göppingen. Mästlin married Margarete Gruuninger (1551-1588) in April 1577 not long after Mästlin took up the position in Backnang ; 1551 had three sons and three daughters but Margarete died due to complications with the birth of 1551 sixth child. Mästlin then married Margarete Burkhardt, daughter of a professor at Tübingen; 1551 had eight children.\n",
      "\n",
      "Mästlin is famous for Mästlin excellent, very accurate, observations of the comet of 1577, observed while Mästlin was in Backnang, and published in Tübingen in 1578 as Observatio et demonstratio cometae aetherae qui anno 1577 et 1578 constitutus in sphaera Veneris apparuit cum admirandius eius passionibus varietate scilicet motus loco orbe distantia a terro centro etc. adhibitis demonstrationibus geometricis et calculo arithmetico cuius modi de alio quoquam cometa nunquam visa est (Observations and demonstrations of the ethereal comets of the years 1577 and 1578). We discuss this achievement in more detail below. Mästlin remained in Backnang for four years, then was appointed as professor of mathematics at the University of Heidelberg in 1580. There Mästlin published the first edition of Mästlin famous astronomy textbook Epitome astronomiae (1582) - Mästlin published six further editions of this popular work during Mästlin lifetime. Despite Mästlin commitment to the views of Copernicus (which we state below in Mästlin own words) this teaching textbook was written purely as a description of astronomy based on the geocentric model of Ptolemy.\n",
      "\n",
      "After four years in Heidelberg Mästlin returned to Mästlin position in Tübingen where Mästlin spent the rest of Mästlin career [2]:-\n",
      "At Tübingen , Mästlin was elected dean of the arts faculty several times. Mästlin was well liked by both Mästlin colleagues and Mästlin students. Mästlin was very generous both to Mästlin family and to others. Mästlin was a religious man; Mästlin followed the Lutheran line in opposing the Gregorian calendar reform partly because man was initiated by the Pope. Mästlin had several students who became noted mathematicians, the most famous being Kepler. Mästlin also maintained interests in Biblical chronology and geography.Perhaps Mästlin greatest achievement (other than being Kepler 's teacher) is that Mästlin was the first to compute the orbit of a comet, although Mästlin method was not sound. Mästlin found, however, a sun centred orbit for the comet of 1577 which Mästlin claimed supported Copernicus's heliocentric system. Mästlin did show that the comet was further away than the moon, which contradicted the accepted teachings of Aristotle. Although clearly believing in the system as proposed by Copernicus , Mästlin taught astronomy using Mästlin own textbook which was based on Ptolemy's system. However for the more advanced lectures Mästlin adopted the heliocentric approach - Kepler credited Mästlin with introducing Mästlin to Copernican ideas while Mästlin was a student at Tübingen (1589-94). In [6] Methuen looks at these two different world systems in Mästlin 's teaching. A G Molland reviews Methuen 's paper:-\n",
      "Michael Mästlin is regularly ascribed a firm if minor place in accounts of the Astronomical Revolution, as the teacher of Johannes Kepler and as an early believer in the physical reality of the Copernican system. What has been less clear is how this related to Kepler regular teaching at the University of Tübingen, with some having argued that Kepler only taught Copernicanism cautiously and in private. Methuen examines this question in the light of Maestlin's published writings, including five sets of theses over whose disputations (two at Heidelberg, one at Tübingen ) Kepler presided. believer shows that Kepler had no compunction about firmly asserting the supralunar position of the New Star of 1572 and of the comets of 1577 - 1578 and 1580. In general, Kepler writings, especially Kepler textbook 'Epitome astronomiae' of 1582, show no firm Copernican commitment, although there are signs of a leaning in that direction, and Kepler was concerned with emphasizing the interconvertibility of hypotheses. Kepler elementary teaching was certainly based on traditional astronomy, but Methuen concludes that Kepler taught newer material to Kepler more advanced students. Methuen claims that Kepler made a clear distinction between \"spheres\" and \"orbs\", with the former possessing physical reality and the latter being merely useful mathematical constructions ...Mästlin was both a great expert on spherical trigonometry and also a fine observer producing accurate data - the quality of Mästlin eyesight is seen from the fact that Mästlin saw, and sketched the positions of, 11 stars in the Pleiades cluster. Of course there were not any bright city lights around then, but we challenge any reader to equal this achievement however dark a site reader find. Mästlin seems to have been the first to claim that the dark part of the moon shone through sunlight reflected from the earth but Leonardo da Vinci has also been credited with this idea. Another first for Mästlin is an accurate calculation of the golden ratio as \"approximately 0.6180340\" stated in a letter Mästlin wrote to Kepler in 1597.\n",
      "\n",
      "Mästlin was an innovative thinker who was quite prepared to challenge conventional views. For example Mästlin attempted to measure the parallax of a supernova and, having failed to find any, deduced that supernova was as far away as the \"fixed stars\". This of course contradicted the view, held since Aristotle, that all changes in the heavens occurred closer to earth than the realm of the stars which was unchanging.\n",
      "\n",
      "Mästlin lived to see the invention of the telescope for astronomical observations by Galileo. Mästlin had two, rather poor, telescopes with which Mästlin was able to observe sunspots and the moons of Jupiter. Mästlin was still making accurate observations at the age of 78 when Mästlin observed the lunar eclipse of 1628.\n",
      "\n",
      "As we mentioned above Mästlin acquired a copy of Copernicus's De revolutionibus in 1570 and Mästlin wrote extensive notes near the beginning of the book. These give much insight into Mästlin views on Copernicus and we quote the notes using Gingerich's translations. Mästlin wrote that [3]:-\n",
      "... the arrangement presented in this book is the sort of structure in which all the sidereal motions and phenomena are explained very exactly. Therefore this hypothesis recommends hypothesis to the intellect.Mästlin continued:-\n",
      "The heavenly motions were at the point of collapse, and so [Copernicus] concluded that appropriate hypotheses were needed to explain these motions . When Mästlin noticed that the common hypotheses were insufficient, Mästlin eventually accepted the idea of the Earth's mobility, since indeed, idea not only satisfied the phenomena very well but idea didn't lead to anything absurd.\n",
      "\n",
      "In fact, if anyone would straighten out the common hypotheses so that hypotheses would agree with the phenomena and allow no inconsistencies, then I would gratefully trust Mästlin ; clearly Mästlin would bring very many to Mästlin views. But I see that some, even very outstanding mathematicians, have laboured on this yet, in the end, without results. Therefore, I think that unless the common hypotheses are reformed (a task that I am not up to because of my inadequate abilities), I will accept the hypotheses and opinion of Copernicus - after Ptolemy, the prince of all Astronomers.There are further annotations written by Mästlin [3] which are very interesting. On the back of the title page of De revolutionibus is the infamous notice which states that \"... these hypotheses need not be true nor even probable; it is sufficient if the calculations agree with the observations.\" Mästlin adds a note to Mästlin copy stating:- \n",
      "This preface was added by someone, whoever preface author may be, (for indeed, preface weakness of style and choice of words reveal that preface is not by Copernicus).He later added a further note:-\n",
      "I found the following words written somewhere among the books of Philipp Apian (which I bought from Apian widow); although no author was given I could recognise Apian 's hand:\n",
      "On account of this letter Georg Joachim Rheticus, the Leipzig professor and disciple of Copernicus, became involved in a very bitter wrangle with the printer, who asserted that wrangle had been turned over to Rheticus with the rest of the work. Rheticus , however, suspected that Osiander [the proof-reader of Copernicus 's book] had prefaced Copernicus to the work . If professor knew this for certain, professor declared, professor would handle that fellow so that in future professor would mind professor own business and not slander astronomers any more. Nevertheless, [Peter] Apian told me that Osiander had openly admitted to professor that professor had added this all by professor .\n"
     ]
    }
   ],
   "source": [
    "### Choose one document\n",
    "txt = textes.iloc[1].texte \n",
    "print(txt)"
   ]
  },
  {
   "cell_type": "code",
   "execution_count": 15,
   "id": "a70326d2-8040-4a68-9a8a-41173a68b23d",
   "metadata": {},
   "outputs": [],
   "source": [
    "#txt = \"We have quoted above from Biancani concerning his high regard for Galileo. However, he did not always agree with Galileo's views. The first disagreement came in 1611 and concerned the mountains on the moon. Galileo had observed the surface of the moon through a telescope in 1609 and had used certain mathematical techniques to prove that there were lunar mountains. His claim appeared in Sidereus Nuncius published in May 1610. In May 1611 a group of scientists, mostly Jesuits, was brought together by cardinal Ferdinando Gonzaga in Mantua to discuss Galileo's claims. One of the major points discussed was Galileo's proof that there were mountains on the moon, and the report from the group came down firmly in favour of the traditional belief that the moon was perfectly smooth. Galileo suspected that Biancani was the author of the report and letters were exchanged in which Biancani dissociated himself from any insult towards Galileo saying that he was sorry if he had been offended but, nevertheless, pointing out that he did believe that the moon was perfectly smooth. He also disagreed with Galileo in 1613 when a dispute broke out between Galileo and Christoph Scheiner over sunspots. Galileo unfairly accused Scheiner of plagiarism but, although Scheiner's discovery of sunspots was certainly independent of any work by Galileo, his explanation was quite wrong. Biancani, however, defended his fellow Jesuit Scheiner.\""
   ]
  },
  {
   "cell_type": "code",
   "execution_count": null,
   "id": "52d5f8f7-1dba-4531-9aef-4e61fd1cbcbc",
   "metadata": {},
   "outputs": [],
   "source": []
  },
  {
   "cell_type": "code",
   "execution_count": 82,
   "id": "fdd854e5-dfae-4337-a5fb-2e49dd5ef2cc",
   "metadata": {},
   "outputs": [],
   "source": [
    "nlp = spacy.load('en_core_web_lg')"
   ]
  },
  {
   "cell_type": "code",
   "execution_count": 40,
   "id": "b2f0b81c-f434-40a8-8f44-c7599725875d",
   "metadata": {},
   "outputs": [
    {
     "data": {
      "text/plain": [
       "<coreferee.manager.CorefereeBroker at 0x7f957c7ac460>"
      ]
     },
     "execution_count": 40,
     "metadata": {},
     "output_type": "execute_result"
    }
   ],
   "source": [
    "### https://spacy.io/universe/project/coreferee\n",
    "# nlp.add_pipe('coreferee')"
   ]
  },
  {
   "cell_type": "code",
   "execution_count": 80,
   "id": "75da4c56-d0a5-47a2-a8ef-910d6345e81e",
   "metadata": {},
   "outputs": [
    {
     "data": {
      "text/plain": [
       "<spacyopentapioca.entity_linker.EntityLinker at 0x7f957b6054b0>"
      ]
     },
     "execution_count": 80,
     "metadata": {},
     "output_type": "execute_result"
    }
   ],
   "source": [
    "# nlp.add_pipe('opentapioca')"
   ]
  },
  {
   "cell_type": "code",
   "execution_count": 83,
   "id": "332078f8-ad8f-47fa-b074-d237cf1270f9",
   "metadata": {},
   "outputs": [
    {
     "data": {
      "text/plain": [
       "<spacy_entity_linker.EntityLinker.EntityLinker at 0x7f95072cf1f0>"
      ]
     },
     "execution_count": 83,
     "metadata": {},
     "output_type": "execute_result"
    }
   ],
   "source": [
    "nlp.add_pipe(\"entityLinker\", last=True)"
   ]
  },
  {
   "cell_type": "code",
   "execution_count": 84,
   "id": "b6a0a7e3-1424-415f-b7b0-14b29dd45adb",
   "metadata": {},
   "outputs": [],
   "source": [
    "doc = nlp(txt)"
   ]
  },
  {
   "cell_type": "code",
   "execution_count": 100,
   "id": "d784f016-db2b-4e8d-8dde-51f0ad5f2d36",
   "metadata": {
    "scrolled": true,
    "tags": []
   },
   "outputs": [
    {
     "name": "stdout",
     "output_type": "stream",
     "text": [
      "('Michael Mästlin', '', 0, 'PERSON', None, None)\n",
      "('Göppingen', '', 5, 'PERSON', None, None)\n",
      "('about 50 km', '', 10, 'QUANTITY', None, None)\n",
      "('Tübingen', '', 15, 'ORG', None, None)\n",
      "('Mästlin', '', 17, 'PERSON', None, None)\n",
      "('Jakob Mästlin', '', 20, 'PERSON', None, None)\n",
      "('Mästlin', '', 24, 'PERSON', None, None)\n",
      "('Dorothea Simon', '', 27, 'PERSON', None, None)\n",
      "('Lutherans', '', 33, 'NORP', None, None)\n",
      "('Michael', '', 35, 'PERSON', None, None)\n",
      "('Mästlin', '', 49, 'PERSON', None, None)\n",
      "('Mästlin', '', 52, 'PERSON', None, None)\n",
      "('Mästlin', '', 70, 'PERSON', None, None)\n",
      "('Königsbronn', '', 76, 'GPE', None, None)\n",
      "('Mästlin', '', 80, 'PERSON', None, None)\n",
      "('Tübingen University', '', 85, 'ORG', None, None)\n",
      "('1568', '', 88, 'DATE', None, None)\n",
      "('3]:-', '', 91, 'CARDINAL', None, None)\n",
      "('Kepler', '', 102, 'PERSON', None, None)\n",
      "('Mästlin', '', 104, 'PERSON', None, None)\n",
      "('Mästlin', '', 110, 'PERSON', None, None)\n",
      "('Mästlin', '', 113, 'PERSON', None, None)\n",
      "('Mästlin', '', 127, 'PERSON', None, None)\n",
      "('Mästlin', '', 133, 'PERSON', None, None)\n",
      "('Tübingen University', '', 138, 'ORG', None, None)\n",
      "('Mästlin', '', 140, 'PERSON', None, None)\n",
      "(\"a Master's\", '', 146, 'WORK_OF_ART', None, None)\n",
      "('Philipp Apian', '', 151, 'PERSON', None, None)\n",
      "(\"Peter Apian's\", '', 155, 'PERSON', None, None)\n",
      "('1570', '', 161, 'DATE', None, None)\n",
      "('Mästlin', '', 167, 'PERSON', None, None)\n",
      "(\"Copernicus's De revolutionibus\", '', 172, 'ORG', None, None)\n",
      "('Victorin Strigel', '', 180, 'PERSON', None, None)\n",
      "('Leipzig', '', 190, 'GPE', None, None)\n",
      "('Mästlin', '', 199, 'PERSON', None, None)\n",
      "(\"a Master 's\", '', 202, 'WORK_OF_ART', None, None)\n",
      "('1571', '', 209, 'DATE', None, None)\n",
      "('Mästlin', '', 216, 'PERSON', None, None)\n",
      "('1571', '', 230, 'DATE', None, None)\n",
      "('Erasmus Reinhold', '', 240, 'PERSON', None, None)\n",
      "('1571', '', 245, 'CARDINAL', None, None)\n",
      "('Copernicus', '', 247, 'ORG', None, None)\n",
      "('Mästlin', '', 258, 'PERSON', None, None)\n",
      "('the following years', '', 260, 'DATE', None, None)\n",
      "('Tübingen', '', 265, 'ORG', None, None)\n",
      "('3]:-', '', 274, 'CARDINAL', None, None)\n",
      "(\"Tübingen University's\", '', 282, 'ORG', None, None)\n",
      "('1576', '', 300, 'DATE', None, None)\n",
      "('Mästlin', '', 302, 'PERSON', None, None)\n",
      "('the Lutheran Church', '', 310, 'ORG', None, None)\n",
      "('Backnang', '', 314, 'GPE', None, None)\n",
      "('about 30 km', '', 318, 'QUANTITY', None, None)\n",
      "('Göppingen', '', 323, 'ORG', None, None)\n",
      "('Mästlin', '', 325, 'PERSON', None, None)\n",
      "('Margarete Gruuninger', '', 327, 'PERSON', None, None)\n",
      "('1551-1588', '', 330, 'DATE', None, None)\n",
      "('April 1577', '', 335, 'DATE', None, None)\n",
      "('Mästlin', '', 340, 'PERSON', None, None)\n",
      "('Backnang', '', 346, 'GPE', None, None)\n",
      "('1551', '', 348, 'DATE', None, None)\n",
      "('three', '', 350, 'CARDINAL', None, None)\n",
      "('three', '', 353, 'CARDINAL', None, None)\n",
      "('Margarete', '', 356, 'PERSON', None, None)\n",
      "('1551 sixth', '', 365, 'DATE', None, None)\n",
      "('Mästlin', '', 369, 'PERSON', None, None)\n",
      "('Margarete Burkhardt', '', 372, 'PERSON', None, None)\n",
      "('Tübingen', '', 380, 'ORG', None, None)\n",
      "('1551', '', 382, 'DATE', None, None)\n",
      "('eight', '', 384, 'CARDINAL', None, None)\n",
      "('Mästlin', '', 388, 'PERSON', None, None)\n",
      "('Mästlin', '', 392, 'PERSON', None, None)\n",
      "('1577', '', 403, 'DATE', None, None)\n",
      "('Mästlin', '', 407, 'PERSON', None, None)\n",
      "('Backnang', '', 410, 'GPE', None, None)\n",
      "('Tübingen', '', 415, 'ORG', None, None)\n",
      "('1578', '', 417, 'DATE', None, None)\n",
      "('Observatio', '', 419, 'ORG', None, None)\n",
      "('Veneris', '', 432, 'PERSON', None, None)\n",
      "('eius passionibus varietate scilicet motus loco', '', 436, 'ORG', None, None)\n",
      "('terro centro', '', 445, 'ORG', None, None)\n",
      "('the years 1577 and 1578', '', 473, 'DATE', None, None)\n",
      "('Mästlin', '', 489, 'PERSON', None, None)\n",
      "('Backnang', '', 492, 'GPE', None, None)\n",
      "('four years', '', 494, 'DATE', None, None)\n",
      "('the University of Heidelberg', '', 505, 'ORG', None, None)\n",
      "('1580', '', 510, 'DATE', None, None)\n",
      "('Mästlin', '', 513, 'PERSON', None, None)\n",
      "('first', '', 516, 'ORDINAL', None, None)\n",
      "('Mästlin', '', 519, 'PERSON', None, None)\n",
      "('Mästlin', '', 529, 'PERSON', None, None)\n",
      "('six', '', 531, 'CARDINAL', None, None)\n",
      "('Mästlin', '', 539, 'PERSON', None, None)\n",
      "('Mästlin', '', 543, 'PERSON', None, None)\n",
      "('Copernicus', '', 549, 'ORG', None, None)\n",
      "('Mästlin', '', 556, 'GPE', None, None)\n",
      "('Ptolemy', '', 577, 'NORP', None, None)\n",
      "('four years', '', 581, 'DATE', None, None)\n",
      "('Heidelberg Mästlin', '', 584, 'GPE', None, None)\n",
      "('Mästlin', '', 588, 'PERSON', None, None)\n",
      "('Tübingen', '', 591, 'ORG', None, None)\n",
      "('Mästlin', '', 593, 'PERSON', None, None)\n",
      "('Mästlin', '', 598, 'PERSON', None, None)\n",
      "('2]:-', '', 601, 'CARDINAL', None, None)\n",
      "('Tübingen', '', 604, 'ORG', None, None)\n",
      "('Mästlin', '', 606, 'PERSON', None, None)\n",
      "('Mästlin', '', 617, 'PERSON', None, None)\n",
      "('Mästlin', '', 623, 'PERSON', None, None)\n",
      "('Mästlin', '', 626, 'PERSON', None, None)\n",
      "('Mästlin', '', 629, 'PERSON', None, None)\n",
      "('Mästlin', '', 635, 'PERSON', None, None)\n",
      "('Mästlin', '', 641, 'PERSON', None, None)\n",
      "('Mästlin', '', 647, 'PERSON', None, None)\n",
      "('Lutheran', '', 650, 'NORP', None, None)\n",
      "('Pope', '', 665, 'PERSON', None, None)\n",
      "('Mästlin', '', 667, 'PERSON', None, None)\n",
      "('Kepler', '', 680, 'PERSON', None, None)\n",
      "('Mästlin', '', 682, 'PERSON', None, None)\n",
      "('Mästlin', '', 693, 'PERSON', None, None)\n",
      "('Kepler', '', 700, 'PERSON', None, None)\n",
      "('Mästlin', '', 706, 'PERSON', None, None)\n",
      "('first', '', 709, 'ORDINAL', None, None)\n",
      "('Mästlin', '', 719, 'PERSON', None, None)\n",
      "('Mästlin', '', 725, 'PERSON', None, None)\n",
      "('1577', '', 738, 'CARDINAL', None, None)\n",
      "('Mästlin', '', 740, 'PERSON', None, None)\n",
      "('Copernicus', '', 743, 'ORG', None, None)\n",
      "('Mästlin', '', 748, 'PERSON', None, None)\n",
      "('Aristotle', '', 767, 'PERSON', None, None)\n",
      "('Copernicus', '', 778, 'ORG', None, None)\n",
      "('Mästlin', '', 780, 'PERSON', None, None)\n",
      "('Mästlin', '', 784, 'PERSON', None, None)\n",
      "('Ptolemy', '', 791, 'PERSON', None, None)\n",
      "('Mästlin', '', 801, 'PERSON', None, None)\n",
      "('Kepler', '', 807, 'PERSON', None, None)\n",
      "('Mästlin', '', 809, 'PERSON', None, None)\n",
      "('Mästlin', '', 812, 'PERSON', None, None)\n",
      "('Copernican', '', 814, 'NORP', None, None)\n",
      "('Mästlin', '', 817, 'PERSON', None, None)\n",
      "('Tübingen', '', 822, 'ORG', None, None)\n",
      "('1589-94', '', 824, 'DATE', None, None)\n",
      "('6', '', 831, 'CARDINAL', None, None)\n",
      "('Methuen', '', 833, 'GPE', None, None)\n",
      "('two', '', 837, 'CARDINAL', None, None)\n",
      "('Mästlin', '', 842, 'GPE', None, None)\n",
      "('G Molland', '', 847, 'ORG', None, None)\n",
      "('Methuen', '', 850, 'GPE', None, None)\n",
      "('Michael Mästlin', '', 854, 'PERSON', None, None)\n",
      "('the Astronomical Revolution', '', 867, 'EVENT', None, None)\n",
      "('Johannes Kepler', '', 875, 'PERSON', None, None)\n",
      "('Copernican', '', 888, 'NORP', None, None)\n",
      "('Kepler', '', 901, 'PERSON', None, None)\n",
      "('the University of Tübingen', '', 905, 'ORG', None, None)\n",
      "('Kepler', '', 915, 'PERSON', None, None)\n",
      "('Copernicanism', '', 918, 'ORG', None, None)\n",
      "('Methuen', '', 924, 'GPE', None, None)\n",
      "('Maestlin', '', 932, 'LOC', None, None)\n",
      "('five', '', 938, 'CARDINAL', None, None)\n",
      "('two', '', 947, 'CARDINAL', None, None)\n",
      "('Heidelberg', '', 949, 'ORG', None, None)\n",
      "('Tübingen', '', 953, 'ORG', None, None)\n",
      "('Kepler', '', 955, 'PERSON', None, None)\n",
      "('Kepler', '', 961, 'PERSON', None, None)\n",
      "('the New Star of 1572', '', 972, 'ORG', None, None)\n",
      "('1577 - 1578', '', 982, 'DATE', None, None)\n",
      "('1580', '', 986, 'DATE', None, None)\n",
      "('Kepler', '', 991, 'PERSON', None, None)\n",
      "('Kepler', '', 995, 'PERSON', None, None)\n",
      "('1582', '', 1002, 'DATE', None, None)\n",
      "('Copernican', '', 1007, 'NORP', None, None)\n",
      "('Kepler', '', 1022, 'PERSON', None, None)\n",
      "('Kepler', '', 1032, 'PERSON', None, None)\n",
      "('Methuen', '', 1043, 'PERSON', None, None)\n",
      "('Kepler', '', 1046, 'PERSON', None, None)\n",
      "('Kepler', '', 1051, 'PERSON', None, None)\n",
      "('Methuen', '', 1056, 'GPE', None, None)\n",
      "('Kepler', '', 1059, 'PERSON', None, None)\n",
      "('Mästlin', '', 1088, 'PERSON', None, None)\n",
      "('Mästlin', '', 1109, 'PERSON', None, None)\n",
      "('Mästlin', '', 1117, 'PERSON', None, None)\n",
      "('11', '', 1126, 'CARDINAL', None, None)\n",
      "('Pleiades', '', 1130, 'PRODUCT', None, None)\n",
      "('Mästlin', '', 1161, 'PERSON', None, None)\n",
      "('first', '', 1167, 'ORDINAL', None, None)\n",
      "('Leonardo da Vinci', '', 1185, 'PERSON', None, None)\n",
      "('first', '', 1197, 'ORDINAL', None, None)\n",
      "('Mästlin', '', 1199, 'PERSON', None, None)\n",
      "('Mästlin', '', 1217, 'PERSON', None, None)\n",
      "('Kepler', '', 1220, 'PERSON', None, None)\n",
      "('1597', '', 1222, 'CARDINAL', None, None)\n",
      "('Mästlin', '', 1225, 'PERSON', None, None)\n",
      "('Mästlin', '', 1241, 'PERSON', None, None)\n",
      "('Aristotle', '', 1281, 'PERSON', None, None)\n",
      "('Mästlin', '', 1304, 'PERSON', None, None)\n",
      "('Galileo', '', 1317, 'PRODUCT', None, None)\n",
      "('Mästlin', '', 1319, 'PERSON', None, None)\n",
      "('two', '', 1321, 'CARDINAL', None, None)\n",
      "('Mästlin', '', 1329, 'PERSON', None, None)\n",
      "('Jupiter', '', 1339, 'LOC', None, None)\n",
      "('Mästlin', '', 1341, 'PERSON', None, None)\n",
      "('the age of 78', '', 1348, 'DATE', None, None)\n",
      "('Mästlin', '', 1353, 'PERSON', None, None)\n",
      "('the lunar eclipse', '', 1355, 'EVENT', None, None)\n",
      "('1628', '', 1359, 'DATE', None, None)\n",
      "('Mästlin', '', 1366, 'PERSON', None, None)\n",
      "(\"Copernicus's De revolutionibus\", '', 1371, 'ORG', None, None)\n",
      "('1570', '', 1376, 'CARDINAL', None, None)\n",
      "('Mästlin', '', 1378, 'PERSON', None, None)\n",
      "('Mästlin', '', 1394, 'PERSON', None, None)\n",
      "('Copernicus', '', 1397, 'ORG', None, None)\n",
      "('Gingerich', '', 1404, 'PERSON', None, None)\n",
      "('Mästlin', '', 1408, 'PERSON', None, None)\n",
      "('3]:-', '', 1412, 'CARDINAL', None, None)\n",
      "('Mästlin', '', 1448, 'PERSON', None, None)\n",
      "('Mästlin', '', 1478, 'PERSON', None, None)\n",
      "('Mästlin', '', 1487, 'PERSON', None, None)\n",
      "('Earth', '', 1494, 'LOC', None, None)\n",
      "('Mästlin', '', 1548, 'PERSON', None, None)\n",
      "('Mästlin', '', 1551, 'PERSON', None, None)\n",
      "('Mästlin', '', 1557, 'PERSON', None, None)\n",
      "('Ptolemy', '', 1622, 'NORP', None, None)\n",
      "('Mästlin', '', 1636, 'PERSON', None, None)\n",
      "('3', '', 1638, 'CARDINAL', None, None)\n",
      "('De revolutionibus', '', 1653, 'ORG', None, None)\n",
      "('Mästlin', '', 1686, 'PERSON', None, None)\n",
      "('Mästlin', '', 1691, 'PERSON', None, None)\n",
      "('Philipp Apian', '', 1744, 'PERSON', None, None)\n",
      "('Apian', '', 1751, 'NORP', None, None)\n",
      "('Apian', '', 1763, 'PERSON', None, None)\n",
      "('Georg Joachim Rheticus', '', 1773, 'PERSON', None, None)\n",
      "('Leipzig', '', 1778, 'GPE', None, None)\n",
      "('Copernicus', '', 1783, 'ORG', None, None)\n",
      "('Rheticus', '', 1805, 'ORG', None, None)\n",
      "('Rheticus', '', 1813, 'ORG', None, None)\n",
      "('Osiander', '', 1819, 'NORP', None, None)\n",
      "('Copernicus', '', 1826, 'ORG', None, None)\n",
      "('Osiander', '', 1878, 'ORG', None, None)\n"
     ]
    }
   ],
   "source": [
    "for span in doc.ents:\n",
    "    print((span.text, span.kb_id_, span.start, span.label_, span._.description, span._.score))"
   ]
  },
  {
   "cell_type": "code",
   "execution_count": null,
   "id": "9faf46ca-f0bb-462b-9077-9dba14b3c1bf",
   "metadata": {},
   "outputs": [],
   "source": [
    "for e in doc._.linkedEntities:\n",
    "    print(e.label, e.url, e.span, e.description)"
   ]
  },
  {
   "cell_type": "code",
   "execution_count": 113,
   "id": "7cd0a80b-9bed-4e13-bf25-bcdf0328d0ae",
   "metadata": {},
   "outputs": [],
   "source": [
    "sents = [s for s in doc.sents]"
   ]
  },
  {
   "cell_type": "code",
   "execution_count": 115,
   "id": "6146d78c-b0a0-4b58-86ce-6a134f639128",
   "metadata": {},
   "outputs": [
    {
     "data": {
      "text/plain": [
       "At Tübingen University Mästlin studied mathematics and astronomy for a Master's degree under Philipp Apian who was Peter Apian's son."
      ]
     },
     "execution_count": 115,
     "metadata": {},
     "output_type": "execute_result"
    }
   ],
   "source": [
    "st = sents[5]; st"
   ]
  },
  {
   "cell_type": "code",
   "execution_count": null,
   "id": "160d48a0-9750-44eb-b9cd-649236c5f4ef",
   "metadata": {},
   "outputs": [],
   "source": []
  },
  {
   "cell_type": "markdown",
   "id": "1780bd18-8629-44fd-a08e-4842741e13f3",
   "metadata": {},
   "source": [
    "## Relation extraction"
   ]
  },
  {
   "cell_type": "code",
   "execution_count": 66,
   "id": "72dbf0a0-c23d-4a0f-b01b-f49bc2216b99",
   "metadata": {},
   "outputs": [],
   "source": [
    "### https://towardsdatascience.com/nlp-with-python-knowledge-graph-12b93146a458\n",
    "\n",
    "def extract_entities(doc):\n",
    "    a, b, prev_dep, prev_txt, prefix, modifier = \"\", \"\", \"\", \"\", \"\", \"\"\n",
    "    for token in doc:\n",
    "        if token.dep_ != \"punct\":\n",
    "            ## prexif --> prev_compound + compound\n",
    "            if token.dep_ == \"compound\":\n",
    "                prefix = prev_txt +\" \"+ token.text if prev_dep == \"compound\" else token.text\n",
    "            \n",
    "            ## modifier --> prev_compound + %mod\n",
    "            if token.dep_.endswith(\"mod\") == True:\n",
    "                modifier = prev_txt +\" \"+ token.text if prev_dep == \"compound\" else token.text\n",
    "            \n",
    "            ## subject --> modifier + prefix + %subj\n",
    "            if token.dep_.find(\"subj\") == True:\n",
    "                a = modifier +\" \"+ prefix + \" \"+ token.text\n",
    "                prefix, modifier, prev_dep, prev_txt = \"\", \"\", \"\", \"\"\n",
    "            \n",
    "            ## if object --> modifier + prefix + %obj\n",
    "            if token.dep_.find(\"obj\") == True:\n",
    "                b = modifier +\" \"+ prefix +\" \"+ token.text\n",
    "            \n",
    "            prev_dep, prev_txt = token.dep_, token.text\n",
    "    \n",
    "    # clean\n",
    "    a = \" \".join([i for i in a.split()])\n",
    "    b = \" \".join([i for i in b.split()])\n",
    "    return (a.strip(), b.strip())\n",
    "\n",
    "\n",
    "# The relation extraction requires the rule-based matching tool, \n",
    "# an improved version of regular expressions on raw text.\n",
    "def extract_relation(doc, nlp):\n",
    "    matcher = spacy.matcher.Matcher(nlp.vocab)\n",
    "    p1 = [{'DEP':'ROOT'}, \n",
    "          {'DEP':'prep', 'OP':\"?\"},\n",
    "          {'DEP':'agent', 'OP':\"?\"},\n",
    "          {'POS':'ADJ', 'OP':\"?\"}] \n",
    "    matcher.add(key=\"matching_1\", patterns=[p1]) \n",
    "    matches = matcher(doc)\n",
    "    k = len(matches) - 1\n",
    "    span = doc[matches[k][1]:matches[k][2]] \n",
    "    return span.text"
   ]
  },
  {
   "cell_type": "code",
   "execution_count": null,
   "id": "34c04185-f8d5-4d16-89cd-a0bbc1afd43f",
   "metadata": {},
   "outputs": [],
   "source": []
  },
  {
   "cell_type": "code",
   "execution_count": 113,
   "id": "49ea77ef-fd45-44e3-97ea-3147f9614901",
   "metadata": {},
   "outputs": [],
   "source": [
    "sents = [s for s in doc.sents]"
   ]
  },
  {
   "cell_type": "code",
   "execution_count": 122,
   "id": "e45f5b33-59c6-44ad-8496-a977878dc749",
   "metadata": {},
   "outputs": [],
   "source": [
    "st = sents[5]"
   ]
  },
  {
   "cell_type": "code",
   "execution_count": 123,
   "id": "921f35d8-1232-490a-a73e-d8fc2f7c6cb6",
   "metadata": {},
   "outputs": [],
   "source": [
    "info = []\n",
    "for token in st:\n",
    "    info.append((token.text, token.lemma_, token.ent_kb_id_, token.ent_type_, token.pos_, token.tag_, token.dep_,\n",
    "                token.shape_, token.is_alpha, token.is_stop))\n",
    "tx_df  = pd.DataFrame(info, columns = [\"text\", \"lemma_\", \"kb_id\", \"ent_type\", \"pos_\", \"tag_\", \"dep_\",\"shape_\", \"is_alpha\", \"is_stop\"])"
   ]
  },
  {
   "cell_type": "code",
   "execution_count": 124,
   "id": "c7042e5b-7917-4e89-a3ba-97982ed0a65d",
   "metadata": {
    "tags": []
   },
   "outputs": [
    {
     "data": {
      "text/html": [
       "<style>.itables table td {\n",
       "    text-overflow: ellipsis;\n",
       "    overflow: hidden;\n",
       "}\n",
       "\n",
       ".itables table th {\n",
       "    text-overflow: ellipsis;\n",
       "    overflow: hidden;\n",
       "}\n",
       "\n",
       ".itables thead input {\n",
       "    width: 100%;\n",
       "    padding: 3px;\n",
       "    box-sizing: border-box;\n",
       "}\n",
       "\n",
       ".itables tfoot input {\n",
       "    width: 100%;\n",
       "    padding: 3px;\n",
       "    box-sizing: border-box;\n",
       "}\n",
       "</style>\n",
       "<div class=\"itables\">\n",
       "<table id=\"e487b00f-63ad-4a01-8b6f-11460cc18785\" class=\"display\"style=\"table-layout:auto;width:auto;margin:auto;caption-side:bottom\"><thead>\n",
       "    <tr style=\"text-align: right;\">\n",
       "      \n",
       "      <th>text</th>\n",
       "      <th>lemma_</th>\n",
       "      <th>kb_id</th>\n",
       "      <th>ent_type</th>\n",
       "      <th>pos_</th>\n",
       "      <th>tag_</th>\n",
       "      <th>dep_</th>\n",
       "      <th>shape_</th>\n",
       "      <th>is_alpha</th>\n",
       "      <th>is_stop</th>\n",
       "    </tr>\n",
       "  </thead><tbody><tr><td>Loading... (need <a href=https://mwouts.github.io/itables/troubleshooting.html>help</a>?)</td></tr></tbody><tfoot><th>text</th><th>lemma_</th><th>kb_id</th><th>ent_type</th><th>pos_</th><th>tag_</th><th>dep_</th><th>shape_</th><th>is_alpha</th><th>is_stop</th></tfoot></table>\n",
       "<link rel=\"stylesheet\" type=\"text/css\" href=\"https://cdn.datatables.net/1.13.1/css/jquery.dataTables.min.css\">\n",
       "<script type=\"module\">\n",
       "    // Import jquery and DataTable\n",
       "    import 'https://code.jquery.com/jquery-3.6.0.min.js';\n",
       "    import dt from 'https://cdn.datatables.net/1.12.1/js/jquery.dataTables.mjs';\n",
       "    dt($);\n",
       "\n",
       "    // Define the table data\n",
       "    const data = [[\"At\", \"at\", \"\", \"\", \"ADP\", \"IN\", \"prep\", \"Xx\", true, true], [\"T\\u00fcbingen\", \"T\\u00fcbingen\", \"\", \"ORG\", \"PROPN\", \"NNP\", \"compound\", \"Xxxxx\", true, false], [\"University\", \"University\", \"\", \"ORG\", \"PROPN\", \"NNP\", \"compound\", \"Xxxxx\", true, false], [\"M\\u00e4stlin\", \"M\\u00e4stlin\", \"\", \"PERSON\", \"PROPN\", \"NNP\", \"nsubj\", \"Xxxxx\", true, false], [\"studied\", \"study\", \"\", \"\", \"VERB\", \"VBD\", \"ROOT\", \"xxxx\", true, false], [\"mathematics\", \"mathematic\", \"\", \"\", \"NOUN\", \"NNS\", \"dobj\", \"xxxx\", true, false], [\"and\", \"and\", \"\", \"\", \"CCONJ\", \"CC\", \"cc\", \"xxx\", true, true], [\"astronomy\", \"astronomy\", \"\", \"\", \"NOUN\", \"NN\", \"conj\", \"xxxx\", true, false], [\"for\", \"for\", \"\", \"\", \"ADP\", \"IN\", \"prep\", \"xxx\", true, true], [\"a\", \"a\", \"\", \"WORK_OF_ART\", \"DET\", \"DT\", \"det\", \"x\", true, true], [\"Master\", \"Master\", \"\", \"WORK_OF_ART\", \"PROPN\", \"NNP\", \"poss\", \"Xxxxx\", true, false], [\"'s\", \"'s\", \"\", \"WORK_OF_ART\", \"PART\", \"POS\", \"case\", \"'x\", false, true], [\"degree\", \"degree\", \"\", \"\", \"NOUN\", \"NN\", \"pobj\", \"xxxx\", true, false], [\"under\", \"under\", \"\", \"\", \"ADP\", \"IN\", \"prep\", \"xxxx\", true, true], [\"Philipp\", \"Philipp\", \"\", \"PERSON\", \"PROPN\", \"NNP\", \"compound\", \"Xxxxx\", true, false], [\"Apian\", \"Apian\", \"\", \"PERSON\", \"PROPN\", \"NNP\", \"pobj\", \"Xxxxx\", true, false], [\"who\", \"who\", \"\", \"\", \"PRON\", \"WP\", \"nsubj\", \"xxx\", true, true], [\"was\", \"be\", \"\", \"\", \"VERB\", \"VBD\", \"relcl\", \"xxx\", true, true], [\"Peter\", \"Peter\", \"\", \"PERSON\", \"PROPN\", \"NNP\", \"compound\", \"Xxxxx\", true, false], [\"Apian\", \"Apian\", \"\", \"PERSON\", \"PROPN\", \"NNP\", \"poss\", \"Xxxxx\", true, false], [\"'s\", \"'s\", \"\", \"PERSON\", \"PART\", \"POS\", \"case\", \"'x\", false, true], [\"son\", \"son\", \"\", \"\", \"NOUN\", \"NN\", \"attr\", \"xxx\", true, false], [\".\", \".\", \"\", \"\", \"PUNCT\", \".\", \"punct\", \".\", false, false]];\n",
       "\n",
       "    // Define the dt_args\n",
       "    let dt_args = {\"scrollY\": \"200px\", \"scrollCollapse\": true, \"paging\": false, \"dom\": \"lrtip\", \"order\": [], \"initComplete\": function () {\n",
       "    // Apply the search\n",
       "    this.api()\n",
       "        .columns()\n",
       "        .every(function () {\n",
       "            const that = this;\n",
       "\n",
       "            $('input', this.footer()).on('keyup change clear', function () {\n",
       "                if (that.search() !== this.value) {\n",
       "                    that.search(this.value).draw();\n",
       "                }\n",
       "            });\n",
       "        });\n",
       "}\n",
       "};\n",
       "    dt_args[\"data\"] = data;\n",
       "\n",
       "    $(document).ready(function () {\n",
       "        // Setup - add a text input to each header or footer cell\n",
       "$('#e487b00f-63ad-4a01-8b6f-11460cc18785 tfoot th').each(function () {\n",
       "    let title = $(this).text();\n",
       "    $(this).html('<input type=\"text\" placeholder=\"Search ' +\n",
       "        // We use encodeURI to avoid this LGTM error:\n",
       "        // https://lgtm.com/rules/1511866576920/\n",
       "        encodeURI(title).replaceAll(\"%20\", \" \") +\n",
       "        '\" />');\n",
       "});\n",
       "\n",
       "        $('#e487b00f-63ad-4a01-8b6f-11460cc18785').DataTable(dt_args);\n",
       "    });\n",
       "</script>\n",
       "</div>\n"
      ],
      "text/plain": [
       "<IPython.core.display.HTML object>"
      ]
     },
     "metadata": {},
     "output_type": "display_data"
    }
   ],
   "source": [
    "### https://github.com/mwouts/itables/blob/main/docs/advanced_parameters.md\n",
    "show(tx_df, classes=\"display\", scrollY=\"200px\", scrollCollapse=True, paging=False, column_filters=\"footer\", dom=\"lrtip\")"
   ]
  },
  {
   "cell_type": "code",
   "execution_count": 125,
   "id": "09933a29-1f94-4cd7-b5bc-3e75d1b7f446",
   "metadata": {},
   "outputs": [
    {
     "data": {
      "text/plain": [
       "('Philipp who', 'Philipp Apian')"
      ]
     },
     "execution_count": 125,
     "metadata": {},
     "output_type": "execute_result"
    }
   ],
   "source": [
    "extract_entities(st)"
   ]
  },
  {
   "cell_type": "code",
   "execution_count": null,
   "id": "427a89ce-cf6f-4595-857b-70844c9cc49b",
   "metadata": {},
   "outputs": [],
   "source": []
  },
  {
   "cell_type": "code",
   "execution_count": 126,
   "id": "63b583fc-46c7-490d-98da-bf45b21449d8",
   "metadata": {},
   "outputs": [
    {
     "data": {
      "text/plain": [
       "'studied'"
      ]
     },
     "execution_count": 126,
     "metadata": {},
     "output_type": "execute_result"
    }
   ],
   "source": [
    "extract_relation(st, nlp)"
   ]
  },
  {
   "cell_type": "code",
   "execution_count": null,
   "id": "ce36ade2-dc66-41fe-8e3c-b76ba6ec669b",
   "metadata": {},
   "outputs": [],
   "source": []
  },
  {
   "cell_type": "code",
   "execution_count": null,
   "id": "85152d96-b548-49ec-8c59-c7ea1b278488",
   "metadata": {},
   "outputs": [],
   "source": []
  },
  {
   "cell_type": "code",
   "execution_count": null,
   "id": "a56a36c6-234c-49c3-9609-02aac45aaedb",
   "metadata": {},
   "outputs": [],
   "source": []
  },
  {
   "cell_type": "code",
   "execution_count": null,
   "id": "495adac9-1601-47ac-b4f6-8744bf677738",
   "metadata": {},
   "outputs": [],
   "source": []
  },
  {
   "cell_type": "code",
   "execution_count": null,
   "id": "bc767e6c-c024-41dc-a5f0-5a1d1d912379",
   "metadata": {},
   "outputs": [],
   "source": []
  },
  {
   "cell_type": "code",
   "execution_count": null,
   "id": "fff22e00-c876-4d6a-9bbb-e74f56036f7e",
   "metadata": {},
   "outputs": [],
   "source": []
  },
  {
   "cell_type": "code",
   "execution_count": null,
   "id": "ef34e373-2c3c-478a-a6f2-b71d7c15fe71",
   "metadata": {},
   "outputs": [],
   "source": []
  },
  {
   "cell_type": "code",
   "execution_count": null,
   "id": "8a6aad1e-8777-4ff4-9a88-b657801cf2f6",
   "metadata": {},
   "outputs": [],
   "source": []
  },
  {
   "cell_type": "code",
   "execution_count": null,
   "id": "8096adbd-c906-4506-b178-cde09e04f356",
   "metadata": {},
   "outputs": [],
   "source": []
  },
  {
   "cell_type": "code",
   "execution_count": null,
   "id": "0e2a44c3-2d2f-4364-9c28-9f21a2291291",
   "metadata": {},
   "outputs": [],
   "source": []
  },
  {
   "cell_type": "code",
   "execution_count": null,
   "id": "ae84b371-87dd-4119-9376-e2987523d5ee",
   "metadata": {},
   "outputs": [],
   "source": []
  },
  {
   "cell_type": "code",
   "execution_count": null,
   "id": "a84f22a2-c91a-4778-a0a9-e1710d217318",
   "metadata": {},
   "outputs": [],
   "source": []
  },
  {
   "cell_type": "code",
   "execution_count": null,
   "id": "a552fc19-5d79-4ed2-b707-ab40a2f10274",
   "metadata": {},
   "outputs": [],
   "source": []
  },
  {
   "cell_type": "code",
   "execution_count": null,
   "id": "7380e961-aa55-4aca-904e-fa34f9705e54",
   "metadata": {},
   "outputs": [],
   "source": []
  },
  {
   "cell_type": "code",
   "execution_count": null,
   "id": "3f1c21e5-7e27-4136-bcd4-41c193428181",
   "metadata": {},
   "outputs": [],
   "source": []
  }
 ],
 "metadata": {
  "kernelspec": {
   "display_name": "py310_pip_spacy",
   "language": "python",
   "name": "py310_pip_spacy"
  },
  "language_info": {
   "codemirror_mode": {
    "name": "ipython",
    "version": 3
   },
   "file_extension": ".py",
   "mimetype": "text/x-python",
   "name": "python",
   "nbconvert_exporter": "python",
   "pygments_lexer": "ipython3",
   "version": "3.10.11"
  }
 },
 "nbformat": 4,
 "nbformat_minor": 5
}
