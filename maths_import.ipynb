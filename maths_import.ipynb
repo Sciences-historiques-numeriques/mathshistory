{
 "cells": [
  {
   "cell_type": "markdown",
   "metadata": {},
   "source": [
    "# Import HTML texts into a PostgreSQL database and extract new data\n",
    "\n",
    "* scrape the source website and get the textual data\n",
    "* transform the data into XML and extract the text as such\n",
    "\n",
    "\n"
   ]
  },
  {
   "cell_type": "markdown",
   "metadata": {},
   "source": [
    "## Site original\n",
    "\n",
    "\n",
    "For the preparation and exploration of import list, see _explore_ notebook\n",
    "\n",
    "Licence : \n",
    "\n",
    "[Copyright Information](https://mathshistory.st-andrews.ac.uk/Miscellaneous/copyright/) (Original website) -> [Creative Commons License 4.0 BY SA](http://creativecommons.org/licenses/by-sa/4.0/)\n"
   ]
  },
  {
   "cell_type": "code",
   "execution_count": 1,
   "metadata": {},
   "outputs": [],
   "source": [
    "### Importation de modules\n",
    "import requests\n",
    "import psycopg2\n",
    "import lxml.html\n",
    "from lxml import etree\n",
    "from importlib import reload\n",
    "import sqlite3 as sql"
   ]
  },
  {
   "cell_type": "code",
   "execution_count": 2,
   "metadata": {},
   "outputs": [],
   "source": [
    "import urllib3\n",
    "### Avoid disturbing messages while scraping\n",
    "urllib3.disable_warnings(urllib3.exceptions.InsecureRequestWarning)"
   ]
  },
  {
   "cell_type": "code",
   "execution_count": 3,
   "metadata": {},
   "outputs": [],
   "source": [
    "import settings as st"
   ]
  },
  {
   "cell_type": "markdown",
   "metadata": {},
   "source": [
    "## Explore mathematician's list"
   ]
  },
  {
   "cell_type": "code",
   "execution_count": 3,
   "metadata": {},
   "outputs": [
    {
     "data": {
      "text/plain": [
       "<lxml.etree._ElementTree at 0x7f8f0c12e900>"
      ]
     },
     "execution_count": 3,
     "metadata": {},
     "output_type": "execute_result"
    }
   ],
   "source": [
    "# Mathematicians from the year 1000 and onward \n",
    "f = \"html_files/chrono_biogr_index_1000_and_later.html\"\n",
    "a = etree.parse(f)\n",
    "a"
   ]
  },
  {
   "cell_type": "code",
   "execution_count": null,
   "metadata": {},
   "outputs": [],
   "source": []
  },
  {
   "cell_type": "code",
   "execution_count": 4,
   "metadata": {},
   "outputs": [
    {
     "data": {
      "text/plain": [
       "['https://mathshistory.st-andrews.ac.uk/Biographies/Al-Nasawi/',\n",
       " 'https://mathshistory.st-andrews.ac.uk/Biographies/Jia_Xian/']"
      ]
     },
     "execution_count": 4,
     "metadata": {},
     "output_type": "execute_result"
    }
   ],
   "source": [
    "### Test the syntax to extract the URLs\n",
    "a.xpath('//li/a/@href')[0:2]"
   ]
  },
  {
   "cell_type": "code",
   "execution_count": 5,
   "metadata": {},
   "outputs": [
    {
     "name": "stdout",
     "output_type": "stream",
     "text": [
      "3010\n"
     ]
    },
    {
     "data": {
      "text/plain": [
       "3010"
      ]
     },
     "execution_count": 5,
     "metadata": {},
     "output_type": "execute_result"
    }
   ],
   "source": [
    "### Extract all URLs\n",
    "l_url = a.xpath('//li/a/@href')\n",
    "print(len(l_url))\n",
    "### syntax for relative URLs, not needed here\n",
    "# restructured_url = ['https://mathshistory.st-andrews.ac.uk/' + url.replace('../../', '') for url in l_url]\n",
    "urls = [url for url in l_url]\n",
    "len(urls)"
   ]
  },
  {
   "cell_type": "code",
   "execution_count": 6,
   "metadata": {
    "tags": []
   },
   "outputs": [
    {
     "data": {
      "text/plain": [
       "['https://mathshistory.st-andrews.ac.uk/Biographies/Al-Nasawi/',\n",
       " 'https://mathshistory.st-andrews.ac.uk/Biographies/Jia_Xian/']"
      ]
     },
     "execution_count": 6,
     "metadata": {},
     "output_type": "execute_result"
    }
   ],
   "source": [
    "urls[:2]"
   ]
  },
  {
   "cell_type": "code",
   "execution_count": 14,
   "metadata": {},
   "outputs": [],
   "source": [
    "### Prepare the whole list of persons\n",
    "t = a.xpath('//li') #[0:2]"
   ]
  },
  {
   "cell_type": "code",
   "execution_count": 15,
   "metadata": {},
   "outputs": [],
   "source": [
    "### Extract birth/death year, name, URL \n",
    "l_date_nom_url = [[e.xpath('./text()')[0].replace('(', '').replace(')', '').replace(' - ', '-').strip(), \\\n",
    "                   e.xpath('./a/text()')[0], \\\n",
    "                   e.xpath('./a/@href')[0]] \\\n",
    "                   for e in t]"
   ]
  },
  {
   "cell_type": "code",
   "execution_count": 16,
   "metadata": {},
   "outputs": [
    {
     "name": "stdout",
     "output_type": "stream",
     "text": [
      "3010\n"
     ]
    },
    {
     "data": {
      "text/plain": [
       "([['1089-1173',\n",
       "   'Hemchandra',\n",
       "   'https://mathshistory.st-andrews.ac.uk/Biographies/Hemchandra/'],\n",
       "  ['1092-1167',\n",
       "   'Rabbi Ben Ezra',\n",
       "   'https://mathshistory.st-andrews.ac.uk/Biographies/Ezra/'],\n",
       "  ['1100-1160',\n",
       "   'Jabir ibn Aflah',\n",
       "   'https://mathshistory.st-andrews.ac.uk/Biographies/Jabir_ibn_Aflah/']],\n",
       " [['1979-',\n",
       "   'Artur Ávila',\n",
       "   'https://mathshistory.st-andrews.ac.uk/Biographies/Avila/'],\n",
       "  ['1984-',\n",
       "   'Maryna Viazovska',\n",
       "   'https://mathshistory.st-andrews.ac.uk/Biographies/Viazovska/'],\n",
       "  ['1984-',\n",
       "   'Qëndrim Gashi',\n",
       "   'https://mathshistory.st-andrews.ac.uk/Biographies/Gashi/']])"
      ]
     },
     "execution_count": 16,
     "metadata": {},
     "output_type": "execute_result"
    }
   ],
   "source": [
    "print(len(l_date_nom_url))\n",
    "l_date_nom_url[10:13], l_date_nom_url[-3:]"
   ]
  },
  {
   "cell_type": "code",
   "execution_count": null,
   "metadata": {},
   "outputs": [],
   "source": []
  },
  {
   "cell_type": "code",
   "execution_count": null,
   "metadata": {},
   "outputs": [],
   "source": []
  },
  {
   "cell_type": "code",
   "execution_count": null,
   "metadata": {},
   "outputs": [],
   "source": []
  },
  {
   "cell_type": "code",
   "execution_count": null,
   "metadata": {},
   "outputs": [],
   "source": []
  },
  {
   "cell_type": "code",
   "execution_count": null,
   "metadata": {},
   "outputs": [],
   "source": [
    "### POur ne pas demander le password — ou variable d'environnement améliorer\n",
    "# https://www.delftstack.com/howto/python/import-python-file-from-path/#import-a-module-with-a-full-file-path-in-python-35from importlib.machinery import SourceFileLoader\n",
    "\n",
    "MODULE_PATH = \"c:\\\\Users\\\\Rexjohn\\\\Folder-1\\\\addmodule.py\"\n",
    "MODULE_NAME = \"addmodule\"\n",
    "\n",
    "modulevar = SourceFileLoader(MODULE_NAME, MODULE_PATH).load_module()\n",
    "\n",
    "modulevar.printingstatement()\n"
   ]
  },
  {
   "cell_type": "markdown",
   "metadata": {},
   "source": [
    "## PostgreSQL"
   ]
  },
  {
   "cell_type": "markdown",
   "metadata": {
    "tags": []
   },
   "source": [
    "## Documentation\n",
    "\n",
    "* https://www.psycopg.org/docs/usage.html\n",
    "* https://towardsdatascience.com/python-and-postgresql-how-to-access-a-postgresql-database-like-a-data-scientist-b5a9c5a0ea43\n",
    "  * noter toutefois que la connection directe avec psychopg2 et pandas ne marche plus\n",
    "  \n",
    "__NB__ \n",
    "* soit on passe par du SQL pur, et alors on peut utiliser _psycopg2_ comme on utilise sqlite3\n",
    "* soit on utilise Pandas, mais là il faut un objet SQLAlchemy pour accéder à la base de données  \n",
    "  \n",
    "  \n",
    "  "
   ]
  },
  {
   "cell_type": "code",
   "execution_count": 7,
   "metadata": {},
   "outputs": [],
   "source": [
    "conn = psycopg2.connect(host=\"localhost\", port = 5432, database=\"espace_intellectuel\", \n",
    "                        user=\"postgres\", password=st.dbw)"
   ]
  },
  {
   "cell_type": "code",
   "execution_count": 8,
   "metadata": {},
   "outputs": [
    {
     "data": {
      "text/plain": [
       "<connection object at 0x7fd051624f40; dsn: 'user=postgres password=xxx dbname=espace_intellectuel host=localhost port=5432', closed: 0>"
      ]
     },
     "execution_count": 8,
     "metadata": {},
     "output_type": "execute_result"
    }
   ],
   "source": [
    "conn"
   ]
  },
  {
   "cell_type": "code",
   "execution_count": null,
   "metadata": {},
   "outputs": [],
   "source": []
  },
  {
   "cell_type": "code",
   "execution_count": 178,
   "metadata": {},
   "outputs": [],
   "source": [
    "create_table_sql = \"\"\"CREATE TABLE IF NOT EXISTS astronomers.mathshistory (\n",
    "                                        pk_mathshistory serial PRIMARY KEY,\n",
    "                                        name varchar NOT NULL,\n",
    "                                        dates varchar,\n",
    "                                        url varchar,\n",
    "                                        short_name varchar,\n",
    "                                        page_html xml,\n",
    "                                        page_html_txt text,\n",
    "                                        notes text, \n",
    "                                        ts_creation timestamp);\"\"\""
   ]
  },
  {
   "cell_type": "code",
   "execution_count": 58,
   "metadata": {},
   "outputs": [],
   "source": [
    "### Créer la table dans la base de données\n",
    "with conn.cursor() as curs:\n",
    "    # curs.execute(create_table_sql)\n",
    "    # conn.commit()"
   ]
  },
  {
   "cell_type": "code",
   "execution_count": null,
   "metadata": {},
   "outputs": [],
   "source": []
  },
  {
   "cell_type": "markdown",
   "metadata": {},
   "source": [
    "### Exploration page"
   ]
  },
  {
   "cell_type": "code",
   "execution_count": 7,
   "metadata": {},
   "outputs": [],
   "source": [
    "### view-source:https://mathshistory.st-andrews.ac.uk/Biographies/Roberval/\n",
    "url = 'https://mathshistory.st-andrews.ac.uk/Biographies/Roberval/'"
   ]
  },
  {
   "cell_type": "code",
   "execution_count": 8,
   "metadata": {},
   "outputs": [],
   "source": [
    "html = requests.get(url, verify=False, )"
   ]
  },
  {
   "cell_type": "code",
   "execution_count": null,
   "metadata": {
    "scrolled": true,
    "tags": []
   },
   "outputs": [],
   "source": [
    "print(html.content.decode())"
   ]
  },
  {
   "cell_type": "code",
   "execution_count": 22,
   "metadata": {},
   "outputs": [
    {
     "data": {
      "text/plain": [
       "['1602-1675',\n",
       " 'Gilles Roberval',\n",
       " 'https://mathshistory.st-andrews.ac.uk/Biographies/Roberval/']"
      ]
     },
     "execution_count": 22,
     "metadata": {},
     "output_type": "execute_result"
    }
   ],
   "source": [
    "l_date_nom_url[173]"
   ]
  },
  {
   "cell_type": "markdown",
   "metadata": {},
   "source": [
    "## Data import"
   ]
  },
  {
   "cell_type": "code",
   "execution_count": null,
   "metadata": {
    "scrolled": true,
    "tags": []
   },
   "outputs": [],
   "source": [
    "### Production query\n",
    "\n",
    "errors_list = []\n",
    "parser = etree.XMLParser(remove_blank_text=True)\n",
    "# for i in l_date_nom_url[10:12]: [:61] [173:174]\n",
    "for i in l_date_nom_url:\n",
    "    url = i[2]\n",
    "\n",
    "    html = requests.get(url, verify=False, )\n",
    "    ### Use document_fromstring to produce valid XML\n",
    "    ## https://lxml.de/lxmlhtml.html#parsing-html\n",
    "    b = lxml.html.document_fromstring(html.content.decode())\n",
    "    # b = lxml.html.document_fromstring(html.text)\n",
    "    divs_row = b.xpath('//div[@class=\"row\"]')    \n",
    "    \n",
    "    content = '\\n'.join([etree.tostring(e, encoding='utf8').decode() for e in divs_row])\n",
    "    txt = '<root>' + content + '</root>' \n",
    "    #print(txt)\n",
    "    value = ((i[1],i[0],i[2],txt))\n",
    "    \n",
    "    with conn.cursor() as curs:\n",
    "        try:   \n",
    "            ### Décommenter pour nouvelle exécution\n",
    "            # curs.execute(\"\"\"INSERT INTO astronomers.mathshistory (name, dates, url, page_html_txt)\n",
    "              #  VALUES (%s, %s, %s, %s);\"\"\",\n",
    "                value)\n",
    "            # conn.commit()\n",
    "        except Exception as e:\n",
    "            errors_list.append([i[2], e])\n",
    "            print(e)\n",
    "\n",
    "            "
   ]
  },
  {
   "cell_type": "code",
   "execution_count": null,
   "metadata": {},
   "outputs": [],
   "source": []
  },
  {
   "cell_type": "code",
   "execution_count": 10,
   "metadata": {
    "tags": []
   },
   "outputs": [],
   "source": [
    "def sql_explore(q):\n",
    "    errors_list = []\n",
    "    elem = []\n",
    "    with conn.cursor() as curs:\n",
    "        try:   \n",
    "            ### Décommenter pour nouvelle exécution\n",
    "            curs.execute(q)\n",
    "            elem = curs.fetchall()\n",
    "            conn.commit()\n",
    "        except Exception as e:\n",
    "            errors_list.append([i[2], e])\n",
    "            print(e)\n",
    "    return [elem, errors_list]        "
   ]
  },
  {
   "cell_type": "code",
   "execution_count": 11,
   "metadata": {},
   "outputs": [],
   "source": [
    "q1 = \"\"\"\n",
    "SELECT COUNT(*), min(ts_creation), max(ts_creation)\n",
    "FROM astronomers.mathshistory;\n",
    "\"\"\""
   ]
  },
  {
   "cell_type": "code",
   "execution_count": 38,
   "metadata": {},
   "outputs": [],
   "source": [
    "q2 = \"\"\"\n",
    "SELECT pk_mathshistory, \"name\", dates, url FROM astronomers.mathshistory WHERE xml_is_well_formed(page_html_txt) IS FALSE ;\n",
    "\"\"\""
   ]
  },
  {
   "cell_type": "code",
   "execution_count": 17,
   "metadata": {},
   "outputs": [],
   "source": [
    "### Muliple cards per URL ?\n",
    "# No one, empty set\n",
    "q3 = \"\"\"\n",
    "select url, array_agg(pk_mathshistory) \n",
    "from espace_intellectuel.astronomers.mathshistory m\n",
    "group by url \n",
    "having count(*) > 1;\n",
    "\"\"\""
   ]
  },
  {
   "cell_type": "code",
   "execution_count": 19,
   "metadata": {},
   "outputs": [],
   "source": [
    "### Muliple cards per name ?\n",
    "## Result:\n",
    "# Lines count: 4, errors count: 0, \n",
    "# First lines: [('Gustav von Escherich', [894, 895]), ('John Wilson', [875, 396]), ('Lloyd Williams', [1537, 2536]), ('William Thomson', [700, 992])]\n",
    "# Deleted one line: https://mathshistory.st-andrews.ac.uk/Biographies/Esterich/ — see below\n",
    "\n",
    "q4 = \"\"\"\n",
    "select \"name\", array_agg(pk_mathshistory) \n",
    "from espace_intellectuel.astronomers.mathshistory m\n",
    "group by \"name\" \n",
    "having count(*) > 1;\n",
    "\"\"\""
   ]
  },
  {
   "cell_type": "code",
   "execution_count": 21,
   "metadata": {},
   "outputs": [
    {
     "name": "stdout",
     "output_type": "stream",
     "text": [
      "Lines count: 4, errors count: 0, \n",
      "First lines: [('Gustav von Escherich', [894, 895]), ('John Wilson', [875, 396]), ('Lloyd Williams', [1537, 2536]), ('William Thomson', [700, 992])]\n"
     ]
    }
   ],
   "source": [
    "result = sql_explore(q4)\n",
    "print(f'Lines count: {len(result[0])}, errors count: {len(result[1])}, \\nFirst lines: {result[0][:5]}')"
   ]
  },
  {
   "cell_type": "markdown",
   "metadata": {},
   "source": [
    "## Create valid XML in a dedicated field\n",
    "\n",
    "\n",
    "I had to manually clean up some records because of unclean UTF-8 characters\n",
    "\n",
    "Relevant query to find the errors:\n",
    "```SQL\n",
    "SELECT page_html_txt, * FROM astronomers.mathshistory WHERE xml_is_well_formed(page_html_txt) IS FALSE LIMIT 50;\n",
    "```\n",
    "\n"
   ]
  },
  {
   "cell_type": "code",
   "execution_count": 22,
   "metadata": {},
   "outputs": [],
   "source": [
    "qu = \"\"\"UPDATE astronomers.mathshistory SET page_html = page_html_txt::XML\n",
    "WHERE xml_is_well_formed(page_html_txt) IS TRUE ;\"\"\""
   ]
  },
  {
   "cell_type": "code",
   "execution_count": 23,
   "metadata": {},
   "outputs": [],
   "source": [
    "with conn.cursor() as curs:\n",
    "    try:   \n",
    "        ### Décommenter pour nouvelle exécution\n",
    "        curs.execute(qu)\n",
    "        conn.commit()\n",
    "    except Exception as e:\n",
    "        print(e)"
   ]
  },
  {
   "cell_type": "code",
   "execution_count": 24,
   "metadata": {},
   "outputs": [],
   "source": [
    "q = \"\"\"\n",
    "select * from astronomers.mathshistory m where length(page_html::text) = 0;\n",
    "\"\"\""
   ]
  },
  {
   "cell_type": "code",
   "execution_count": 25,
   "metadata": {},
   "outputs": [
    {
     "name": "stdout",
     "output_type": "stream",
     "text": [
      "Lines count: 0, errors count: 0, \n",
      "First lines: []\n"
     ]
    }
   ],
   "source": [
    "result = sql_explore(q)\n",
    "print(f'Lines count: {len(result[0])}, errors count: {len(result[1])}, \\nFirst lines: {result[0][:5]}')"
   ]
  },
  {
   "cell_type": "markdown",
   "metadata": {},
   "source": [
    "## Additional information\n",
    "\n",
    "\n",
    "For some persons there is additional information on other parts of the website\n",
    "\n",
    "For instance:\n",
    "* https://mathshistory.st-andrews.ac.uk/Biographies/Esterich/ (deleted from database, pk_mathshistory = 894)\n",
    "* https://mathshistory.st-andrews.ac.uk/Biographies/Escherich/ (pk_mathshistory = 894)\n",
    "point to:\n",
    "* https://mathshistory.st-andrews.ac.uk/Societies/Austrian/#Escherich\n",
    "\n",
    "\n",
    "To be discussed: extract also this information that is, in this case, related to __organisations__ these persons belong to\n",
    "\n",
    "E.G the [Austrian Mathematical Society](https://mathshistory.st-andrews.ac.uk/Societies/Austrian/) (1903-)\n",
    "\n",
    "### Structure of website HTML\n",
    "\n",
    "```HTML\n",
    "<div class=\"row\">\n",
    "  <div class=\"col-md-12\">\n",
    "    <h3>Biography</h3>\n",
    "    <span class=\"markup\">This short biography is in the <strong>Societies</strong> folder.\n",
    "<br/>\n",
    "\n",
    "<br/>\n",
    "To see it press <a href=\"../../Societies/Austrian/#Escherich\">THIS LINK</a>.</span>\n",
    "  </div>\n",
    "</div>\n",
    "```\n",
    "\n",
    "\n",
    "How many there are in the website ?"
   ]
  },
  {
   "cell_type": "code",
   "execution_count": 30,
   "metadata": {},
   "outputs": [],
   "source": [
    "q = \"\"\"\n",
    "with tw1 as (\n",
    "SELECT pk_mathshistory, name, substr(dates, 1, 4)::INTEGER birth_year,\n",
    "array_to_string(xpath('//div[./h3/text()=\"Biography\"]//a[contains(text(), \"THIS LINK\")]/@href[contains(., \"ocieties\")]', page_html), ',') as links\n",
    "FROM astronomers.mathshistory)\n",
    "select *\n",
    "from tw1\n",
    "where length(links) > 5;\n",
    "\"\"\""
   ]
  },
  {
   "cell_type": "code",
   "execution_count": 31,
   "metadata": {},
   "outputs": [
    {
     "name": "stdout",
     "output_type": "stream",
     "text": [
      "Lines count: 40, errors count: 0, \n",
      "First lines: [(115, 'Henry Savile', 1549, '../../Societies/Savilian,../../Societies/Savilian'), (231, 'Valentin Heins', 1637, '../../Societies/Hamburg/#Heins'), (241, 'Heinrich Meissner', 1644, '../../Societies/Hamburg/#Meissner'), (894, 'Gustav von Escherich', 1849, '../../Societies/Austrian/#Escherich'), (895, 'Gustav von Escherich', 1849, '../../Societies/Austrian/#Escherich')]\n"
     ]
    }
   ],
   "source": [
    "result = sql_explore(q)\n",
    "print(f'Lines count: {len(result[0])}, errors count: {len(result[1])}, \\nFirst lines: {result[0][:5]}')"
   ]
  },
  {
   "cell_type": "code",
   "execution_count": null,
   "metadata": {},
   "outputs": [],
   "source": []
  },
  {
   "cell_type": "code",
   "execution_count": null,
   "metadata": {},
   "outputs": [],
   "source": []
  },
  {
   "cell_type": "code",
   "execution_count": null,
   "metadata": {},
   "outputs": [],
   "source": []
  },
  {
   "cell_type": "markdown",
   "metadata": {},
   "source": [
    "## Explore XML texts\n",
    "\n",
    "\n",
    "\n"
   ]
  },
  {
   "cell_type": "code",
   "execution_count": 34,
   "metadata": {},
   "outputs": [],
   "source": [
    "### Birth-Places\n",
    "q3 = \"\"\"\n",
    "SELECT name, dates, \n",
    "(xpath('//dt[text()=\"Born\"]/following-sibling::dd/a/text()', page_html))[1]::text as lieu_naiss,\n",
    "(xpath('//dt[text()=\"Born\"]/following-sibling::dd/a/@href', page_html))[1]::text as url_lieu_naiss\n",
    "FROM astronomers.mathshistory\n",
    "--WHERE substr(dates, 1, 4)::INTEGER BETWEEN 1601 and 1650;\n",
    "\"\"\""
   ]
  },
  {
   "cell_type": "code",
   "execution_count": 35,
   "metadata": {},
   "outputs": [
    {
     "name": "stdout",
     "output_type": "stream",
     "text": [
      "Lines count: 3010, errors count: 0, \n",
      "First lines: [('John Colson', '1680-1760', ' Lichfield, Staffordshire, England ', '../../Map/#Lichfield'), ('Scott Lang', '1850-1926', ' Edinburgh, Scotland ', '../../Map/#Edinburgh'), ('J A Third', '1865-1948', ' St Nicholas, Aberdeen, Scotland ', '../../Map/#Aberdeen')]\n"
     ]
    }
   ],
   "source": [
    "result = sql_explore(q3)\n",
    "print(f'Lines count: {len(result[0])}, errors count: {len(result[1])}, \\nFirst lines: {result[0][:3]}')"
   ]
  },
  {
   "cell_type": "code",
   "execution_count": null,
   "metadata": {},
   "outputs": [],
   "source": []
  },
  {
   "cell_type": "code",
   "execution_count": null,
   "metadata": {},
   "outputs": [],
   "source": []
  },
  {
   "cell_type": "code",
   "execution_count": 1,
   "metadata": {},
   "outputs": [],
   "source": [
    "q1 = \"\"\"\n",
    "with tw1 as (\n",
    "SELECT pk_mathshistory, name, substr(dates, 1, 4)::INTEGER birth_year, dates, \n",
    "unnest(xpath('//dt[text()=\"Summary\"]/following-sibling::dd/*/descendant-or-self::*/text()', page_html))::text as summary,\n",
    "unnest(xpath('//h3[text()=\"Biography\"]/following-sibling::span/descendant-or-self::*[not(@class=\"translation nonoscript non-italic\")]/text()', page_html))::text as biography,\n",
    "(xpath('//dt[text()=\"Born\"]/following-sibling::dd/a/text()', page_html))[1]::text as lieu_naiss,\n",
    "(xpath('//dt[text()=\"Born\"]/following-sibling::dd/a/@href', page_html))[1]::text as url_lieu_naiss\n",
    "FROM astronomers.mathshistory \n",
    "WHERE substr(dates, 1, 4)::INTEGER BETWEEN 1563 and 1575\n",
    ")\n",
    "SELECT pk_mathshistory, name, birth_year, dates, string_agg(summary, '') as summary, \n",
    "string_agg(regexp_replace(biography, '\\n', ' '), '') as biography, lieu_naiss, url_lieu_naiss\n",
    "FROM tw1\n",
    "GROUP BY pk_mathshistory, name, birth_year, dates, lieu_naiss, url_lieu_naiss\n",
    "ORDER BY birth_year;\n",
    "\"\"\""
   ]
  },
  {
   "cell_type": "code",
   "execution_count": null,
   "metadata": {},
   "outputs": [],
   "source": [
    "errors_list = []\n",
    "elem = []\n",
    "with conn.cursor() as curs:\n",
    "    try:   \n",
    "        ### Décommenter pour nouvelle exécution\n",
    "        curs.execute(q1)\n",
    "        elem = curs.fetchall()\n",
    "        ## conn.commit()\n",
    "    except Exception as e:\n",
    "        print(e)\n",
    "conn.commit()        "
   ]
  },
  {
   "cell_type": "code",
   "execution_count": null,
   "metadata": {},
   "outputs": [],
   "source": [
    "conn.close()"
   ]
  },
  {
   "cell_type": "code",
   "execution_count": null,
   "metadata": {},
   "outputs": [],
   "source": [
    "errors_list"
   ]
  },
  {
   "cell_type": "code",
   "execution_count": null,
   "metadata": {
    "scrolled": true,
    "tags": []
   },
   "outputs": [],
   "source": [
    "len(elem), elem[1]"
   ]
  },
  {
   "cell_type": "code",
   "execution_count": 17,
   "metadata": {
    "scrolled": true,
    "tags": []
   },
   "outputs": [
    {
     "data": {
      "text/plain": [
       "'Giovanni Alfonso Borellis father was Miguel Alonso and his mother was Laura Porrello. The first obvious question must be to ask about the name Borelli. It is a somewhat complicated story, but the subject of this biography was baptised Giovanni Francesco Antonio Alonso. His father, Miguel Alonso, was a Spanish soldier stationed in Naples as part of the Spanish garrison. The city had been captured by the Spanish in 1503 and remained under Spanish control for over 200 years. The Spanish soldiers were stationed in the three forts of Naples, the Castel SantElmo, the Castel dellOvo, and the Castel Nuovo where Miguel Alonso was when Giovanni was born. His mother, Laura Porrello, was a local girl and Giovanni was the eldest of his parents six children; five boys, Giovanni, Domenico Onofrio, Salvatore, Filippo, Diego and one girl, Caterina. We will see below why, later in his life, Giovanni wanted to change his name. Let us just point out at this stage that he dropped his fathers name Alonso as well as his given names of Francesco and Antonio. He adopted Alfonso, as the Italian version of his fathers name Alonso, and the surname Borelli which was a version of his mothers surname Porrello. His brother Filippo (born 9 March 1614) also changed his name to Borelli. Giovannis other brothers and sister did not reach adulthood.   In 1614 Miguel Alonso was moved from the Castel Nuovo to the Castel SantElmo. There he came in contact with Tommaso Campanella (1568-1639), a philosopher and astrologer who had been declared a heretic by the Inquisition and accused of plotting against Spanish rule. Campanella was imprisoned in the Castel SantElmo and this somehow led to Alonso being arrested. After a secret trial he was found guilty and exiled; he went to Rome. However, he appealed against his sentence and was pardoned, returning to the Castel SantElmo in Naples in April 1617. He remained there until his death in 1624 but Borellis mother Laura continued to live at the Castel SantElmo, probably undertaking some type of work for the troops there, until her death in 1640. We do not have any details of Borellis life after his father returned to Naples in 1617. We do know that he became acquainted with Campanella during the following years. In fact, although Campanella remained a prisoner, his life became easier after he was transferred to the Castel Nuovo in May 1618 and he was free to see friends and even to teach students. It is likely that Borelli was one of these students. It is also likely, but not certain, that Borelli attended medical lectures at the University of Naples. No record of his attendance exists, but being a student of Campanella and also attending the university would explain Borellis educational standards when he went to Rome in around 1628 - he was about 20 years of age. We mentioned at the beginning of this article that Borelli changed his name. In fact he did more than that for he also made efforts to hide his place and date of birth. This must have been a wish to avoid being linked to his father, with a criminal record, and also probably with the imprisoned Campanella. He also objected to the Spanish rule in Italy, so hiding his Spanish origins might have been necessary to keep in favour with his like-minded friends.   Campanella had been sent to Rome, still as a prisoner, in 1626 but had been given his freedom in 1628. It must have been around this time that Borelli arrived in Rome and was introduced by Campanella to Benedetto Antonio Castelli who had come to Rome after being professor of mathematics at Pisa. Castelli began teaching at La Sapienza, the university of Rome, giving courses on Euclids Elements and Apolloniuss Conics. There is no direct evidence that Castelli attended these courses, but it must be very probable since we know that he was a pupil of Castelli and also that he became an expert on Euclid and Apollonius. Borelli also got to know another of Castellis students, Evangelista Torricelli, who at this time was acting as a secretary to Castelli. Both Torricelli and Castelli were supporters of Galileo so 1632-33 must have been a difficult time for Borelli seeing the Inquisition banning Galileos works and putting him on trial. Campanella enjoyed five years of freedom in Rome after 1628 before he was again accused of plotting against the Spanish occupiers. He fled to Paris in 1634 accompanied by Filippo Borelli, the brother of the subject of this biography. Giovanni Alfonso Borelli remained in Rome gaining a reputation as an exceptionally good mathematician.   Borelli was appointed as a lecturer in mathematics at the University of Messina in Sicily after being recommended by Castelli. He went to Messina in 1635 to give a lecture which demonstrated his mathematical abilities to the Senate of Messina. Borelli was appointed before 1637, the year in which he climbed Mount Etna, but his name only appears in the university records from 1639 when he was promoted to the chair of mathematics. Certainly Borelli quickly gained a reputation as a leading scholar, although at this stage he still had no publications, and he became a member of the Accademia della Fucina, an academy founded in 1639 in Messina. This academy, which had both scientific and literary interests, had been founded by young intellectuals who were unhappy with Spanish rule. The most famous Sicilian mathematician had been Francesco Maurolico who had died more than 30 years before Borelli was born. Maurolico had worked on a restoration of books V and VI of Apolloniuss Conics but had died in 1575 before he was able to publish the work. Borelli became interested in these unpublished manuscripts left by Maurolico and began to edit them with the intention of having them published. In fact it was many years before this happened, with the work appearing in 1654.   In 1640 Dino Peri (born 1604), the professor of mathematics at Pisa since 1636, died. Galileo, Cavalieri and others would have liked Castelli to succeed Peri but he was forced to remain in Rome. Castelli proposed that Borelli be appointed to the chair in Pisa but the position went to Vincenzo Renieri (1606-1647), a friend and supporter of Galileo. However, the Senate of Messina was delighted to have such an outstanding scholar as Borelli at their university and in late 1641 they sent him on a long trip with the aim of recruiting top class academics for the University of Messina, particularly in law and medicine. The Senate probably had another aim, which was to advertise widely that they were in business for making economic and political agreements. Borelli visited Naples and Rome, where he renewed his acquaintance with his former teacher Castelli. He then went on to Tuscany in the hope of seeing Galileo but learnt that he had died in January 1642. Borelli visited Florence where he met Vincenzo Viviani who had been with Galileo up to the time of his death. He also met Prince Leopold, the youngest brother of Ferdinando II de Medici, the Grand Duke of Tuscany. Prince Leopold, who was particularly interested in science and technology, had been taught by Evangelista Torricelli and was a supporter of Galileo. Leaving Florence, Borelli went on to Bologna where he had useful discussions with the professor of mathematics, Bonaventura Cavalieri. After a visit to Padua, his final destination was Venice, where he spent two months before taking a boat back to Messina. It was while he was in Tuscany that he conceived the idea of writing Euclides restitutus (Euclid restored), although this was not published until 1658.   The trip enhanced Borellis reputation for he had shown great learning in his discussions with the leading academics and princes. Back in Messina he became involved in a dispute between two Sicilian mathematicians. Antonio Santini (1577-1662) had proposed the following problem: construct a triangle given its base, the ratio of its sides, and the bisector of its top. Daniele Spinola and Pietro Emmanuele both gave solutions to the problem and Borelli was asked to judge. Although Borelli was critical of both solutions, he preferred that of Spinola and this led to an argument which became very heated. Borelli published Discorso del Signor Gio: Alfonso Borelli, accademico della Fucina e professore delle scienze matematiche nello Studio della nobile città di Messina, nel quale si manifestano le falsità, e gli errori, contenuti nella difesa del Problema Geometrico, risoluto dal R D Pietro Emmanuele (Discourse of Giovanni Alfonso Borelli, academician of Fucina and professor of mathematical sciences in the study of the noble city of Messina, which shows errors and mistakes contained in solution of a geometric problem by Pietro Emmanuele) (1646). See [21] where, as well as the mathematics, Pietro Nastasi examines how politics influenced the polemic. Borellis next paper was written following an epidemic of a malignant fever which depopulated much of Sicily in 1647-48. The paper Delle cagioni delle febbri maligne di Sicilia negli anni 1647 e 1648 (On the causes of malignant fevers in Sicily in the years 1647 and 1648) (1649) described the progress of the epidemic, its symptoms and the best ways to treat it [5]:- ... in his investigations regarding the cause and the spread of the disease, Borelli travelled to several other Sicilian cities and accumulated quite a few notes from autopsies. As a result of this accumulation of data, authors such as Gustavo Barbensi consider Borelli as the person who introduced the experimental method in the study of living matter, in particular physiology. Bonaventura Cavalieri died in Bologna at the end of November 1647 and [1]:- ... the authorities there wished to fill the post with someone equally able. Accordingly they made inquiries concerning Borelli and received strong endorsements for him as the best mathematician in Italy after Cavalieri. They also learned that Borelli was a trifle capricious and had a leaning toward the \"moderns,\" Copernicus and Galileo. Whether or not this latter was a factor, Borelli was passed over and the chair went to Giovanni Domenico Cassini. Borelli remained in Messina, and he was still there in 1654 when, after many years, he saw Maurolicos Emendatio et restitutio conicorum Apollonii Pergaei (Correction and restoration of Conics by Apollonius of Perga) through the publication process. Borelli had long wanted to leave Sicily and, after the failed attempts we described above, he was eventually successful in February 1656 when he was appointed to the chair of mathematics at the University of Pisa. However, at first he struggled to fit into this role [1]:- He was by no means the usual sort of professor. Nor did he bother to cultivate the finer graces of that calling. His first lectures at Pisa, for instance, were something of a disaster. He lacked any particular eloquence and was long-winded and dull. The students reacted with catcalls and agitation, once forcing him to stop before finishing his lesson. Very quickly, however, he demonstrated his capabilities, and his lack of Tuscan oratorical polish probably became less of a barrier. He had probably almost completed writing Euclides restitutus (Euclid restored) in Messina, and now that he was in Pisa he completed it and published the work in Pisa in 1658. This was an attempt by Borelli to present the material in Euclids Elements in a clearer manner. He also took the opportunity to examine the parallel postulate of Euclid [15]:- This most learned author [Borelli] blames Euclid, because he defines parallel straight lines to be those, which lying in the same plane do not meet on either side, even if produced into the infinite. He offers as ground for his accusation, that such relation is unknown: first, he says, because we are ignorant whether such infinite non-concurrent lines can be found in nature; then also because we cannot perceive the properties of the infinite, and hence a relation of this sort is not clearly cognized. But with reverence for so great a man it may be said: can Euclid be blamed, because he defines a square to be a figure quadrilateral, equilateral, rectangular; when it may be doubted, whether a figure of this sort has place in nature? Another project came Borellis way soon after he arrived in Pisa. He was shown by Ferdinando II de Medici, the Grand Duke of Tuscany, and his brother Prince Leopold (whom Borelli had met on his 1642 trip to Tuscany) an Arabic manuscript, kept in the Laurenziana Library in Florence, which contained a text by Apollonius. Borelli could not read Arabic, but his work with the Maurolico restoration allowed him, from the figures in the text, to realise that the manuscript contained an Arabic translation of books 5, 6 and 7 of the Apolloniuss Conics which up to that time had been lost. In the summer of 1658 the Medici brothers Ferdinando and Leopold encouraged Borelli to go to Rome to discuss the manuscript with the linguist Abraham Ecchellensis (1605-1664). Their collaboration led to the publication Apollonius Pergaeus Conicorum libri v. vi. vii. paraphraste Abalphato Asphahanensi nunc Primum editi. Additus in calce Archimedis assumptorum liber, ex codicibus Arabicis mss. Abrahamus Eccellensi Latinos reddidit; J A Borellus curam in geometricis versioni contulit et notas in universum opus adiecit (Apollonius of Pergas  Conics books V, VII, VIII whose first edition was translated by (the Arabic mathematician) Al-Isfahaní. In addition work of Archimedes appears at the end of the book, Translated into Latin from the copies of Arabic MSS. Abraham Ecchellensis assisted with the Latin and J A Borelli dealt with the geometry) (Florence, 1661).   A comet appeared towards the end of 1664 and Borelli made continuous observations of it. His small publication about the comet Del movimento della cometa apparsa il mese di Dicembre 1664 (On the motion of the comet which appeared in the month of December 1664), written in the form of a letter to Stefano degli Angeli, he argued that his parallax measurements showed that the comet changed its distance from the earth. He also showed convincingly that the comet was further from the earth than the moon - contradicting Ptolemys beliefs which were still the Churchs accepted system at the time. In a letter about the comet to Prince Leopold, he argued that his measurements indicated that it followed a parabolic orbit.   Motivated by his interest in the comet, Borelli established an observatory in the fortress of San Miniato in the summer of 1665. His next contribution was the important Theoricae mediceorum planetarum ex causis physicis deductae (launched Theoricae mediceorum of the planets from the causes of physical) (1666) which he dedicated to his patron Ferdinando II de Medici, the Grand Duke of Tuscany. In this work Borelli attempted to do far more than just describe the four moons of Jupiter; he wanted to understand the physical causes for their motions [19]:- In a display of modesty, Borelli leaves to the grand duke the final judgement as to whether he has succeeded in his task of providing physical causes, claiming in his defence that the truth is so well hidden that, according to Plato, it is known only to the gods, whereas we are allowed to see only its shadows. This work is remarkable in that Borelli suggests that the moons move around Jupiter in elliptical orbits and that they have a tendency to move towards Jupiter in exactly the same way that heavy objects on earth have a tendency to move towards the earth [19]:- Borelli believed that the circular motion of an orbiting body, whether planet or satellite, generates a tendency in the body to recede from the centre. The combination of circular motion and a radial motion due to the imbalance between this outward tendency and the tendency towards the centre generates elliptical trajectories. Besides providing a mathematical account of such curves based on the Conics by Apollonius, Borelli was able to explain some of the actions at play on the basis of ingenious physical, magnetic and mechanical reflections and experiments. The breakthrough that Borelli made here was to take Galileos terrestrial mechanics and extend their principles to astronomy; despite his major contributions to both mechanics and astronomy, Galileo had never thought to combine the two. We know that Newton owned a copy of this work by Borelli and he made several references to it. Of course, although Borelli must have helped Newton in moving towards his theory of gravitation, on the other hand the publication of Newtons Principia twenty years later completely overshadowed Borellis masterpiece.   In this text Borelli says that it will surprise some that he has published an astronomy text when it is well known that for years he has been working on anatomy, particularly studying the motion of animals. He had been interested in anatomy since he had conducted experiments in Messina relating to the epidemic there. After he arrived in Pisa he met Marcello Malpighi (1628-1694) who was appointed to Bologna in 1656. The two were founder members of the Accademia del Cimento in 1657, which was an academy whose members were much involved in experimental work. Influenced by Malpighi, Borelli began making biomechanical experiments. He worked [5]:- ... on the macro and micro mechanical movements of the muscles in animals. He intended to show that the muscles move just as pulleys and levers do, and that the microstructures inside the body cause the contraction of muscles, including the heart.. Although he worked on his treatise on anatomy, De motu animalium (Movement of animals), for many years, he had not completed it when he decided, in 1667, to return to Messina. The Accademia del Cimento, although never formally closed down, ceased to operate when Borelli left Pisa. Others involved in the Academy left around the same time and it is hard now to determine who was influenced by who. On his way to Messina he spent time in Rome and in Naples where he demonstrated many of the experiments he had carried out in the Accademia del Cimento. He filled his old chair of mathematics in Messina from 1668 and, in the following year, made detailed observations of an eruption of Mount Etna. Borelli had always opposed Spanish rule of Sicily and, back in Messina, he became involved in politics. In 1672 the Spanish rulers decided to move against those they knew to be working against them and they sought to arrest Borelli. He quickly left Sicily, going to Rome. There he was supported by the exiled Queen Christina and joined a number of academies of which she was a patron. By 1676 he was complaining that his enemies were making his life difficult and he could not get the peace to complete his works. Things went from bad to worse - he was robbed of all his belongings by a servant and, with no means of support, had to accept an offer of accommodation from priests at the Casa di San Pantaleo. Never one to do nothing, Borelli still made use of his mathematical talents by teaching mathematics at the Scuole Pie di San Pantaleo. He now had no funds to allow him to have his De motu animalium published but, towards the end of 1679, Queen Christina agreed to fund its publication. Borelli dedicated to work to her, but he died of pneumonia before the work was through the press. However, the priest who had offered him accommodation at the Casa di San Pantaleo, undertook to complete the proof-reading. Volume 1 appeared in 1680, with the second volume appearing towards the end of the following year. Many consider this to be Borellis most important work [5]:- Borelli began this text by dismissing the Aristotelian notion that animal spirits flow to the nerve ends and cause the movement of body parts. Instead he proposed that the muscles constitute the machine, or the motor, of the bodys  movements. He classified the mechanics of the muscles according to the different geometrical shapes of the fibres that contract and expand. This allowed Borelli to calculate the movements of the fibres on the basis of Euclidean proportion theory. Euclids second book on geometrical algebra was particularly relevant for Borelli in this study, since, for example, he could articulate geometrically his argument about how tendons and fibres contract according to their shapes. In 1984 the American Society of Biomechanics named its the most prestigious honour the Giovanni Borelli Award. It is awarded for :- ... originality, quality and depth of the research and the relevance of this work to the field of biomechanics.'"
      ]
     },
     "execution_count": 17,
     "metadata": {},
     "output_type": "execute_result"
    }
   ],
   "source": [
    "t = elem[10][5].replace('\\n', '').replace(\"\\'\", '')[:100]\n",
    "t"
   ]
  },
  {
   "cell_type": "code",
   "execution_count": 67,
   "metadata": {},
   "outputs": [],
   "source": [
    "conn.close()"
   ]
  },
  {
   "cell_type": "code",
   "execution_count": null,
   "metadata": {},
   "outputs": [],
   "source": []
  },
  {
   "cell_type": "code",
   "execution_count": null,
   "metadata": {},
   "outputs": [],
   "source": []
  },
  {
   "cell_type": "code",
   "execution_count": null,
   "metadata": {},
   "outputs": [],
   "source": []
  },
  {
   "cell_type": "code",
   "execution_count": null,
   "metadata": {},
   "outputs": [],
   "source": []
  },
  {
   "cell_type": "code",
   "execution_count": 58,
   "metadata": {},
   "outputs": [],
   "source": [
    "db_path = 'data/mathshistory_web.sqlite'"
   ]
  },
  {
   "cell_type": "code",
   "execution_count": 61,
   "metadata": {},
   "outputs": [],
   "source": [
    "conn = sql.connect(db_path)"
   ]
  },
  {
   "cell_type": "code",
   "execution_count": 155,
   "metadata": {},
   "outputs": [],
   "source": [
    "create_table_sql = \"\"\" CREATE TABLE IF NOT EXISTS mathematiciens (\n",
    "                                        id integer PRIMARY KEY,\n",
    "                                        name text NOT NULL,\n",
    "                                        dates text,\n",
    "                                        url text,\n",
    "                                        short_name text,\n",
    "                                        page_html text\n",
    "                                    ); \"\"\""
   ]
  },
  {
   "cell_type": "code",
   "execution_count": 62,
   "metadata": {},
   "outputs": [],
   "source": [
    "c = conn.cursor()\n",
    "### Uncomment if needed\n",
    "### c.execute(create_table_sql)"
   ]
  },
  {
   "cell_type": "code",
   "execution_count": null,
   "metadata": {},
   "outputs": [],
   "source": []
  },
  {
   "cell_type": "code",
   "execution_count": 161,
   "metadata": {},
   "outputs": [],
   "source": [
    "conn = sqlite3.connect(db_path)\n",
    "c = conn.cursor()"
   ]
  },
  {
   "cell_type": "code",
   "execution_count": 162,
   "metadata": {},
   "outputs": [
    {
     "data": {
      "text/plain": [
       "<sqlite3.Cursor at 0x111a20180>"
      ]
     },
     "execution_count": 162,
     "metadata": {},
     "output_type": "execute_result"
    }
   ],
   "source": [
    "# c.executemany('INSERT INTO mathematiciens(name, dates, url, short_name, page_html) VALUES (?,?,?,?,?)', insert_list)"
   ]
  },
  {
   "cell_type": "code",
   "execution_count": null,
   "metadata": {},
   "outputs": [],
   "source": [
    "conn.commit()"
   ]
  },
  {
   "cell_type": "code",
   "execution_count": null,
   "metadata": {},
   "outputs": [],
   "source": []
  },
  {
   "cell_type": "code",
   "execution_count": 63,
   "metadata": {},
   "outputs": [],
   "source": [
    "c = conn.cursor()"
   ]
  },
  {
   "cell_type": "code",
   "execution_count": 64,
   "metadata": {},
   "outputs": [
    {
     "data": {
      "text/plain": [
       "<sqlite3.Cursor at 0x7fd728763ec0>"
      ]
     },
     "execution_count": 64,
     "metadata": {},
     "output_type": "execute_result"
    }
   ],
   "source": [
    "c.execute('SELECT * FROM mathematiciens WHERE CAST(substr(dates, 1, 4) as INTEGER) BETWEEN 1601 and 1650  ')"
   ]
  },
  {
   "cell_type": "code",
   "execution_count": 65,
   "metadata": {},
   "outputs": [],
   "source": [
    "result = []\n",
    "result = c.fetchall()\n",
    "conn.close()"
   ]
  },
  {
   "cell_type": "code",
   "execution_count": 66,
   "metadata": {},
   "outputs": [
    {
     "name": "stdout",
     "output_type": "stream",
     "text": [
      "Florimond de Beaune 1601-1652\n",
      "Pierre Fermat 1601-1665\n",
      "Gilles Roberval 1602-1675\n",
      "Jacques de Billy 1602-1679\n",
      "John Greaves 1602-1652\n"
     ]
    }
   ],
   "source": [
    "for r in result[:5]:\n",
    "    print(r[1],r[2])"
   ]
  },
  {
   "cell_type": "code",
   "execution_count": null,
   "metadata": {},
   "outputs": [],
   "source": []
  },
  {
   "cell_type": "code",
   "execution_count": null,
   "metadata": {},
   "outputs": [],
   "source": []
  },
  {
   "cell_type": "code",
   "execution_count": null,
   "metadata": {},
   "outputs": [],
   "source": [
    "conn.close()"
   ]
  },
  {
   "cell_type": "code",
   "execution_count": null,
   "metadata": {},
   "outputs": [],
   "source": []
  },
  {
   "cell_type": "code",
   "execution_count": null,
   "metadata": {},
   "outputs": [],
   "source": []
  }
 ],
 "metadata": {
  "kernelspec": {
   "display_name": "cas_data_wrangling",
   "language": "python",
   "name": "cas_data_wrangling"
  },
  "language_info": {
   "codemirror_mode": {
    "name": "ipython",
    "version": 3
   },
   "file_extension": ".py",
   "mimetype": "text/x-python",
   "name": "python",
   "nbconvert_exporter": "python",
   "pygments_lexer": "ipython3",
   "version": "3.10.9"
  }
 },
 "nbformat": 4,
 "nbformat_minor": 4
}
