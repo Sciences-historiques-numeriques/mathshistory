{
 "cells": [
  {
   "cell_type": "markdown",
   "id": "d678f171-ce6a-45e4-8dc0-9b0e1aa10e47",
   "metadata": {},
   "source": [
    "## Spacy coref\n",
    "\n",
    "This notebook explores the own Spacy coreference resolver\n",
    "\n",
    "[21 juin 2023]\n",
    "\n",
    "* I wasn't able to get it working, issue with Python dependecies\n",
    "* I decided not to loos more time on that but should be tested at a later moment"
   ]
  },
  {
   "cell_type": "code",
   "execution_count": null,
   "id": "1fe96de4-aaeb-4dec-a10d-8dd83e24732a",
   "metadata": {},
   "outputs": [],
   "source": [
    "from spacy_experimental.coref.coref_component import DEFAULT_COREF_MODEL\n",
    "from spacy_experimental.coref.coref_util import DEFAULT_CLUSTER_PREFIX\n",
    "#from spacy_experimental import coref"
   ]
  },
  {
   "cell_type": "code",
   "execution_count": null,
   "id": "e401a092-72a2-4bd5-a407-d2cd54a5b145",
   "metadata": {},
   "outputs": [],
   "source": [
    "from spacy.tokens import Doc\n",
    "from spacy.training import Example\n",
    "pred_words = [\"Apply\", \"some\", \"sunscreen\"]\n",
    "pred_spaces = [True, True, False]\n",
    "gold_words = [\"Apply\", \"some\", \"sun\", \"screen\"]\n",
    "gold_spaces = [True, True, False, False]\n",
    "gold_tags = [\"VERB\", \"DET\", \"NOUN\", \"NOUN\"]\n",
    "predicted = Doc(nlp.vocab, words=pred_words, spaces=pred_spaces)\n",
    "reference = Doc(nlp.vocab, words=gold_words, spaces=gold_spaces, tags=gold_tags)\n",
    "example = Example(predicted, reference)"
   ]
  },
  {
   "cell_type": "code",
   "execution_count": null,
   "id": "a5d5a0a5-3603-4f6a-99d6-127e16649c77",
   "metadata": {},
   "outputs": [],
   "source": [
    "coref = nlp.add_pipe(\"experimental_coref\")"
   ]
  },
  {
   "cell_type": "code",
   "execution_count": null,
   "id": "dbcf1da5-ba74-429e-93c9-d7a34f7d04a9",
   "metadata": {},
   "outputs": [],
   "source": [
    "coref.initialize(lambda: example, nlp=nlp)"
   ]
  },
  {
   "cell_type": "code",
   "execution_count": null,
   "id": "951ac24d-7109-4653-affa-0afe6a809c9a",
   "metadata": {
    "scrolled": true,
    "tags": []
   },
   "outputs": [],
   "source": [
    "doc = nlp(txt)"
   ]
  },
  {
   "cell_type": "code",
   "execution_count": null,
   "id": "fecabf4e-1740-4157-82b9-256e6281ae4b",
   "metadata": {},
   "outputs": [],
   "source": [
    "# This usually happens under the hood\n",
    "processed = coref(doc)"
   ]
  },
  {
   "cell_type": "code",
   "execution_count": null,
   "id": "49999e5a-3d03-4f1b-b60f-52fa33303052",
   "metadata": {},
   "outputs": [],
   "source": [
    "coref = nlp.add_pipe(\"experimental_coref\")"
   ]
  },
  {
   "cell_type": "code",
   "execution_count": null,
   "id": "142e1120-5f4c-48a4-93fc-d20e5f563be3",
   "metadata": {},
   "outputs": [],
   "source": [
    "doc = nlp(txt)"
   ]
  },
  {
   "cell_type": "code",
   "execution_count": null,
   "id": "0e5d6b0d-545c-4220-820f-8ee3143b4bcc",
   "metadata": {},
   "outputs": [],
   "source": []
  },
  {
   "cell_type": "code",
   "execution_count": null,
   "id": "8f4e2be2-25b5-4f6e-b1ff-de2888c48247",
   "metadata": {},
   "outputs": [],
   "source": []
  },
  {
   "cell_type": "code",
   "execution_count": null,
   "id": "5685474f-339c-48c1-bec2-6a629af42dc0",
   "metadata": {},
   "outputs": [],
   "source": []
  },
  {
   "cell_type": "code",
   "execution_count": null,
   "id": "82522cfd-404b-4ebe-8df1-2181e7736ea1",
   "metadata": {},
   "outputs": [],
   "source": []
  },
  {
   "cell_type": "code",
   "execution_count": null,
   "id": "418782e4-c999-4260-82c4-74771f48e26d",
   "metadata": {},
   "outputs": [],
   "source": []
  },
  {
   "cell_type": "code",
   "execution_count": null,
   "id": "667ad16b-8ee7-4f63-82ad-cb28416580cb",
   "metadata": {},
   "outputs": [],
   "source": []
  }
 ],
 "metadata": {
  "kernelspec": {
   "display_name": "py3_7_spacy_neuralcoref",
   "language": "python",
   "name": "py3_7_spacy_neuralcoref"
  },
  "language_info": {
   "codemirror_mode": {
    "name": "ipython",
    "version": 3
   },
   "file_extension": ".py",
   "mimetype": "text/x-python",
   "name": "python",
   "nbconvert_exporter": "python",
   "pygments_lexer": "ipython3",
   "version": "3.7.12"
  }
 },
 "nbformat": 4,
 "nbformat_minor": 5
}
