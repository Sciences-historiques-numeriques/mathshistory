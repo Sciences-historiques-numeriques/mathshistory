{
 "cells": [
  {
   "cell_type": "markdown",
   "id": "a32f044f-3ac8-4d83-bf08-84c9c31dafb2",
   "metadata": {},
   "source": [
    "# Exploring the Spacy library\n",
    "\n",
    "\n",
    "In this notebook I explore and test different functions and methods in Spacy, applying them to my corpus\n",
    "\n"
   ]
  },
  {
   "cell_type": "code",
   "execution_count": 2,
   "id": "49df5a1c-446b-44a3-8513-aa8afca958e6",
   "metadata": {},
   "outputs": [],
   "source": [
    "import psycopg2\n",
    "import spacy\n",
    "import pandas as pd\n",
    "from spacy import displacy\n",
    "### To activate GPU\n",
    "# https://spacy.io/api/top-level\n",
    "# activated = spacy.prefer_gpu()"
   ]
  },
  {
   "cell_type": "code",
   "execution_count": 3,
   "id": "4855fdcd-d155-48ce-b777-5300756ee9bf",
   "metadata": {},
   "outputs": [],
   "source": [
    "from importlib import reload\n",
    "import textacy\n",
    "import seaborn as sns\n",
    "from matplotlib import pyplot as plt\n",
    "import settings as stt\n",
    "import postgresql_functions as pgf\n",
    "from itables import init_notebook_mode, show\n",
    "import re\n",
    "\n",
    "from time import strftime, gmtime"
   ]
  },
  {
   "cell_type": "code",
   "execution_count": null,
   "id": "3dbd57c8-850d-4697-90b5-a941dde522c9",
   "metadata": {},
   "outputs": [],
   "source": []
  },
  {
   "cell_type": "code",
   "execution_count": 4,
   "id": "d9c09e9c-beac-4366-84f7-b1005e1e236d",
   "metadata": {},
   "outputs": [
    {
     "data": {
      "text/plain": [
       "<module 'postgresql_functions' from '/home/francesco/shared_files/python_notebooks/Early-Modern-Astronomy/mathshistory/postgresql_functions.py'>"
      ]
     },
     "execution_count": 4,
     "metadata": {},
     "output_type": "execute_result"
    }
   ],
   "source": [
    "## reload the module if changes\n",
    "reload(pgf)"
   ]
  },
  {
   "cell_type": "code",
   "execution_count": 5,
   "id": "42293758-5470-4950-9b04-a581e9c73679",
   "metadata": {},
   "outputs": [
    {
     "name": "stdout",
     "output_type": "stream",
     "text": [
      "Help on function sql_explore in module postgresql_functions:\n",
      "\n",
      "sql_explore(q, cnn)\n",
      "    q : the SQL query as text\n",
      "    cnn : the connection parameter\n",
      "\n"
     ]
    }
   ],
   "source": [
    "help(pgf.sql_explore)"
   ]
  },
  {
   "cell_type": "code",
   "execution_count": null,
   "id": "9ecdf77e-3a05-455a-b3af-cc25a6a88ddc",
   "metadata": {},
   "outputs": [],
   "source": []
  },
  {
   "cell_type": "markdown",
   "id": "cba8e3fb-0f11-463f-abae-ea264fb666cd",
   "metadata": {},
   "source": [
    "## Prepare some specimens"
   ]
  },
  {
   "cell_type": "code",
   "execution_count": 6,
   "id": "665a90ba-e193-4801-ad72-6cd9b2f41a9b",
   "metadata": {},
   "outputs": [],
   "source": [
    "### connect to the local database\n",
    "conn = psycopg2.connect(host=\"localhost\", port = 5432, database=\"espace_intellectuel\", \n",
    "                        user=\"postgres\", password=stt.dbw)\n",
    "#conn"
   ]
  },
  {
   "cell_type": "code",
   "execution_count": 7,
   "id": "a1bf36ca-0277-4cd2-9301-618bb8f56237",
   "metadata": {},
   "outputs": [],
   "source": [
    "### Get five specimen texts\n",
    "q1 = \"\"\"\n",
    "select pk_mathshistory, \"name\", url, dates, length(biography) as eff, biography \n",
    "from astronomers.mathshistory m \n",
    "where pk_mathshistory in (103, 117, 133, 159, 186);\n",
    "\"\"\""
   ]
  },
  {
   "cell_type": "code",
   "execution_count": 8,
   "id": "18d4e139-0b19-4471-99c0-a8b950df77f5",
   "metadata": {},
   "outputs": [],
   "source": [
    "### Execute query and get result\n",
    "result = pgf.sql_explore(q1, conn)\n",
    "# print(f'Lines count: {len(result[0])}, errors count: {len(result[1])}, \\nFirst lines: {result[0][:5]}')"
   ]
  },
  {
   "cell_type": "code",
   "execution_count": 9,
   "id": "3fbba46e-70dc-45db-99fa-b584a3a99445",
   "metadata": {},
   "outputs": [],
   "source": [
    "### Create a DataFrame from the result\n",
    "textes = pd.DataFrame(result[0])\n",
    "textes.columns = ['id', 'name', 'url', 'dates', 'length_bio', 'texte']"
   ]
  },
  {
   "cell_type": "code",
   "execution_count": 10,
   "id": "672f0792-58fa-407c-9860-9bece72086c6",
   "metadata": {},
   "outputs": [
    {
     "data": {
      "text/html": [
       "<div>\n",
       "<style scoped>\n",
       "    .dataframe tbody tr th:only-of-type {\n",
       "        vertical-align: middle;\n",
       "    }\n",
       "\n",
       "    .dataframe tbody tr th {\n",
       "        vertical-align: top;\n",
       "    }\n",
       "\n",
       "    .dataframe thead th {\n",
       "        text-align: right;\n",
       "    }\n",
       "</style>\n",
       "<table border=\"1\" class=\"dataframe\">\n",
       "  <thead>\n",
       "    <tr style=\"text-align: right;\">\n",
       "      <th></th>\n",
       "      <th>id</th>\n",
       "      <th>name</th>\n",
       "      <th>url</th>\n",
       "      <th>dates</th>\n",
       "      <th>length_bio</th>\n",
       "      <th>texte</th>\n",
       "    </tr>\n",
       "  </thead>\n",
       "  <tbody>\n",
       "    <tr>\n",
       "      <th>0</th>\n",
       "      <td>103</td>\n",
       "      <td>Christopher Clavius</td>\n",
       "      <td>https://mathshistory.st-andrews.ac.uk/Biograph...</td>\n",
       "      <td>1538-1612</td>\n",
       "      <td>10616</td>\n",
       "      <td>Christopher Clavius was born in a German regio...</td>\n",
       "    </tr>\n",
       "    <tr>\n",
       "      <th>1</th>\n",
       "      <td>117</td>\n",
       "      <td>Michael Mästlin</td>\n",
       "      <td>https://mathshistory.st-andrews.ac.uk/Biograph...</td>\n",
       "      <td>1550-1631</td>\n",
       "      <td>10122</td>\n",
       "      <td>Michael Mästlin was born in Göppingen which wa...</td>\n",
       "    </tr>\n",
       "    <tr>\n",
       "      <th>2</th>\n",
       "      <td>133</td>\n",
       "      <td>Giuseppe Biancani</td>\n",
       "      <td>https://mathshistory.st-andrews.ac.uk/Biograph...</td>\n",
       "      <td>1566-1624</td>\n",
       "      <td>10035</td>\n",
       "      <td>Giuseppe Biancani's name also appears in its L...</td>\n",
       "    </tr>\n",
       "    <tr>\n",
       "      <th>3</th>\n",
       "      <td>159</td>\n",
       "      <td>Wilhelm Schickard</td>\n",
       "      <td>https://mathshistory.st-andrews.ac.uk/Biograph...</td>\n",
       "      <td>1592-1635</td>\n",
       "      <td>10272</td>\n",
       "      <td>Wilhelm Schickard's name is sometimes written ...</td>\n",
       "    </tr>\n",
       "    <tr>\n",
       "      <th>4</th>\n",
       "      <td>186</td>\n",
       "      <td>Johannes Hevelius</td>\n",
       "      <td>https://mathshistory.st-andrews.ac.uk/Biograph...</td>\n",
       "      <td>1611-1687</td>\n",
       "      <td>10856</td>\n",
       "      <td>The first problem that we have to address is t...</td>\n",
       "    </tr>\n",
       "  </tbody>\n",
       "</table>\n",
       "</div>"
      ],
      "text/plain": [
       "    id                 name  \\\n",
       "0  103  Christopher Clavius   \n",
       "1  117      Michael Mästlin   \n",
       "2  133    Giuseppe Biancani   \n",
       "3  159    Wilhelm Schickard   \n",
       "4  186    Johannes Hevelius   \n",
       "\n",
       "                                                 url      dates  length_bio  \\\n",
       "0  https://mathshistory.st-andrews.ac.uk/Biograph...  1538-1612       10616   \n",
       "1  https://mathshistory.st-andrews.ac.uk/Biograph...  1550-1631       10122   \n",
       "2  https://mathshistory.st-andrews.ac.uk/Biograph...  1566-1624       10035   \n",
       "3  https://mathshistory.st-andrews.ac.uk/Biograph...  1592-1635       10272   \n",
       "4  https://mathshistory.st-andrews.ac.uk/Biograph...  1611-1687       10856   \n",
       "\n",
       "                                               texte  \n",
       "0  Christopher Clavius was born in a German regio...  \n",
       "1  Michael Mästlin was born in Göppingen which wa...  \n",
       "2  Giuseppe Biancani's name also appears in its L...  \n",
       "3  Wilhelm Schickard's name is sometimes written ...  \n",
       "4  The first problem that we have to address is t...  "
      ]
     },
     "execution_count": 10,
     "metadata": {},
     "output_type": "execute_result"
    }
   ],
   "source": [
    "textes.head()"
   ]
  },
  {
   "cell_type": "code",
   "execution_count": 11,
   "id": "4809670a-3ee7-4010-ae0e-80e2ec367747",
   "metadata": {
    "scrolled": true,
    "tags": []
   },
   "outputs": [
    {
     "name": "stdout",
     "output_type": "stream",
     "text": [
      "Michael Mästlin was born in Göppingen which was a village about 50 km east of Tübingen. His father, Jakob Mästlin, and his mother, Dorothea Simon, were both devout Lutherans and Michael was brought up in that faith and remained strongly committed to it throughout his life. He was the middle child of the family, having an older sister and a younger brother. He attended the monastic school in Königsbronn then, after his studies there, entered Tübingen University in 1568. [3]:-\n",
      "As was the case with many young scholars including Kepler, his most famous student, [Mästlin] did his undergraduate studies at a preparatory school and came to the university to take his final exams and pick up his baccalaureate degree.At Tübingen University he studied mathematics and astronomy for a Master's degree under Philipp Apian who was Peter Apian's son. In 1570, while a student, he purchased a copy of Copernicus's De revolutionibus from the widow of Victorin Strigel, who had been professor of theology at Leipzig and the author of an astronomy text. Mästlin was awarded a Master's degree with distinction in 1571. While studying for this degree he had edited a new edition of the Prutenis Tables which was published in 1571. The Prutenis Tables had been originally compiled by Erasmus Reinhold who had based them on Copernicus's version of the solar system. After graduating, Mästlin spent the following years teaching in Tübingen, and at the same time took [3]:-\n",
      "... the theological programme, because Tübingen University's primary mission was to prepare young men for the Lutheran ministry.Then, in 1576, he was sent to be a deacon at the Lutheran Church in Backnang, a town about 30 km northwest of Göppingen. He married Margarete Gruuninger (1551-1588) in April 1577 not long after he took up the position in Backnang; they had three sons and three daughters but Margarete died due to complications with the birth of their sixth child. Mästlin then married Margarete Burkhardt, daughter of a professor at Tübingen; they had eight children.\n",
      "\n",
      "Mästlin is famous for his excellent, very accurate, observations of the comet of 1577, observed while he was in Backnang, and published in Tübingen in 1578 as Observatio et demonstratio cometae aetherae qui anno 1577 et 1578 constitutus in sphaera Veneris apparuit cum admirandius eius passionibus varietate scilicet motus loco orbe distantia a terro centro etc. adhibitis demonstrationibus geometricis et calculo arithmetico cuius modi de alio quoquam cometa nunquam visa est (Observations and demonstrations of the ethereal comets of the years 1577 and 1578). We discuss this achievement in more detail below. He remained in Backnang for four years, then was appointed as professor of mathematics at the University of Heidelberg in 1580. There he published the first edition of his famous astronomy textbook Epitome astronomiae (1582) - he published six further editions of this popular work during his lifetime. Despite his commitment to the views of Copernicus (which we state below in his own words) this teaching textbook was written purely as a description of astronomy based on the geocentric model of Ptolemy.\n",
      "\n",
      "After four years in Heidelberg he returned to his position in Tübingen where he spent the rest of his career [2]:-\n",
      "At Tübingen, Mästlin was elected dean of the arts faculty several times. He was well liked by both his colleagues and his students. Mästlin was very generous both to his family and to others. He was a religious man; he followed the Lutheran line in opposing the Gregorian calendar reform partly because it was initiated by the Pope. Mästlin had several students who became noted mathematicians, the most famous being Kepler. Mästlin also maintained interests in Biblical chronology and geography.Perhaps his greatest achievement (other than being Kepler's teacher) is that he was the first to compute the orbit of a comet, although his method was not sound. He found, however, a sun centred orbit for the comet of 1577 which he claimed supported Copernicus's heliocentric system. He did show that the comet was further away than the moon, which contradicted the accepted teachings of Aristotle. Although clearly believing in the system as proposed by Copernicus, he taught astronomy using his own textbook which was based on Ptolemy's system. However for the more advanced lectures he adopted the heliocentric approach - Kepler credited Mästlin with introducing him to Copernican ideas while he was a student at Tübingen (1589-94). In [6] Methuen looks at these two different world systems in Mästlin's teaching. A G Molland reviews Methuen's paper:-\n",
      "Michael Mästlin is regularly ascribed a firm if minor place in accounts of the Astronomical Revolution, as the teacher of Johannes Kepler and as an early believer in the physical reality of the Copernican system. What has been less clear is how this related to his regular teaching at the University of Tübingen, with some having argued that he only taught Copernicanism cautiously and in private. Methuen examines this question in the light of Maestlin's published writings, including five sets of theses over whose disputations (two at Heidelberg, one at Tübingen) he presided. She shows that he had no compunction about firmly asserting the supralunar position of the New Star of 1572 and of the comets of 1577 - 1578 and 1580. In general, his writings, especially his textbook 'Epitome astronomiae' of 1582, show no firm Copernican commitment, although there are signs of a leaning in that direction, and he was concerned with emphasizing the interconvertibility of hypotheses. His elementary teaching was certainly based on traditional astronomy, but Methuen concludes that he taught newer material to his more advanced students. She claims that he made a clear distinction between \"spheres\" and \"orbs\", with the former possessing physical reality and the latter being merely useful mathematical constructions ...Mästlin was both a great expert on spherical trigonometry and also a fine observer producing accurate data - the quality of his eyesight is seen from the fact that he saw, and sketched the positions of, 11 stars in the Pleiades cluster. Of course there were not any bright city lights around then, but we challenge any reader to equal this achievement however dark a site they find. He seems to have been the first to claim that the dark part of the moon shone through sunlight reflected from the earth but Leonardo da Vinci has also been credited with this idea. Another first for Mästlin is an accurate calculation of the golden ratio as \"approximately 0.6180340\" stated in a letter he wrote to Kepler in 1597.\n",
      "\n",
      "He was an innovative thinker who was quite prepared to challenge conventional views. For example he attempted to measure the parallax of a supernova and, having failed to find any, deduced that it was as far away as the \"fixed stars\". This of course contradicted the view, held since Aristotle, that all changes in the heavens occurred closer to earth than the realm of the stars which was unchanging.\n",
      "\n",
      "Mästlin lived to see the invention of the telescope for astronomical observations by Galileo. He had two, rather poor, telescopes with which he was able to observe sunspots and the moons of Jupiter. He was still making accurate observations at the age of 78 when he observed the lunar eclipse of 1628.\n",
      "\n",
      "As we mentioned above Mästlin acquired a copy of Copernicus's De revolutionibus in 1570 and he wrote extensive notes near the beginning of the book. These give much insight into his views on Copernicus and we quote the notes using Gingerich's translations. Mästlin wrote that [3]:-\n",
      "... the arrangement presented in this book is the sort of structure in which all the sidereal motions and phenomena are explained very exactly. Therefore this hypothesis recommends itself to the intellect.Mästlin continued:-\n",
      "The heavenly motions were at the point of collapse, and so [Copernicus] concluded that appropriate hypotheses were needed to explain these motions. When he noticed that the common hypotheses were insufficient, he eventually accepted the idea of the Earth's mobility, since indeed, it not only satisfied the phenomena very well but it didn't lead to anything absurd.\n",
      "\n",
      "In fact, if anyone would straighten out the common hypotheses so that they would agree with the phenomena and allow no inconsistencies, then I would gratefully trust him; clearly he would bring very many to his views. But I see that some, even very outstanding mathematicians, have laboured on this yet, in the end, without results. Therefore, I think that unless the common hypotheses are reformed (a task that I am not up to because of my inadequate abilities), I will accept the hypotheses and opinion of Copernicus - after Ptolemy, the prince of all Astronomers.There are further annotations written by Mästlin [3] which are very interesting. On the back of the title page of De revolutionibus is the infamous notice which states that \"... these hypotheses need not be true nor even probable; it is sufficient if the calculations agree with the observations.\" Mästlin adds a note to his copy stating:- \n",
      "This preface was added by someone, whoever its author may be, (for indeed, its weakness of style and choice of words reveal that it is not by Copernicus).He later added a further note:-\n",
      "I found the following words written somewhere among the books of Philipp Apian (which I bought from his widow); although no author was given I could recognise Apian's hand:\n",
      "On account of this letter Georg Joachim Rheticus, the Leipzig professor and disciple of Copernicus, became involved in a very bitter wrangle with the printer, who asserted that it had been turned over to him with the rest of the work. Rheticus, however, suspected that Osiander [the proof-reader of Copernicus's book] had prefaced it to the work. If he knew this for certain, he declared, he would handle that fellow so that in future he would mind his own business and not slander astronomers any more. Nevertheless, [Peter] Apian told me that Osiander had openly admitted to him that he had added this all by himself.\n"
     ]
    }
   ],
   "source": [
    "### Choose one document\n",
    "tx = textes.iloc[1].texte \n",
    "print(tx)"
   ]
  },
  {
   "cell_type": "code",
   "execution_count": null,
   "id": "0c62f1ff-2ec4-4b7e-abda-4b6b37a81d6e",
   "metadata": {},
   "outputs": [],
   "source": []
  },
  {
   "cell_type": "markdown",
   "id": "54a2bed2-cba1-4955-851c-bb6c9add0340",
   "metadata": {},
   "source": [
    "## Apply standard Spacy pipeline"
   ]
  },
  {
   "cell_type": "code",
   "execution_count": 12,
   "id": "6c62447c-8273-43c1-829d-8415e52a66d7",
   "metadata": {},
   "outputs": [],
   "source": [
    "### Load Spacy language model:\n",
    "# You have to first upload the models into the active\n",
    "# conda environnement\n",
    "\n",
    "# python -m spacy download en_core_web_sm\n",
    "# python -m spacy download en_core_web_trf\n",
    "# python -m spacy download en_core_web_lg\n",
    "\n",
    "nlp = spacy.load(\"en_core_web_lg\")"
   ]
  },
  {
   "cell_type": "code",
   "execution_count": 13,
   "id": "62be7831-c2d0-4ae5-a2cd-4a40d91c8401",
   "metadata": {},
   "outputs": [],
   "source": [
    "### Execute standard pipeline on one document\n",
    "doc = nlp(tx)"
   ]
  },
  {
   "cell_type": "code",
   "execution_count": 14,
   "id": "8d08f57f-bcaa-4f4f-a5b7-90144d768473",
   "metadata": {},
   "outputs": [
    {
     "name": "stdout",
     "output_type": "stream",
     "text": [
      "Michael Mästlin was born in Göppingen which was a village about 50 km east of Tübingen.\n",
      "[Michael Mästlin, Göppingen, which, a village, Tübingen]\n",
      "0\n",
      "['_', '__class__', '__delattr__', '__dir__', '__doc__', '__eq__', '__format__', '__ge__', '__getattribute__', '__getitem__', '__gt__', '__hash__', '__init__', '__init_subclass__', '__iter__', '__le__', '__len__', '__lt__', '__ne__', '__new__', '__pyx_vtable__', '__reduce__', '__reduce_ex__', '__repr__', '__setattr__', '__sizeof__', '__str__', '__subclasshook__', '_fix_dep_copy', '_vector', '_vector_norm', 'as_doc', 'char_span', 'conjuncts', 'doc', 'end', 'end_char', 'ent_id', 'ent_id_', 'ents', 'get_extension', 'get_lca_matrix', 'has_extension', 'has_vector', 'id', 'id_', 'kb_id', 'kb_id_', 'label', 'label_', 'lefts', 'lemma_', 'n_lefts', 'n_rights', 'noun_chunks', 'orth_', 'remove_extension', 'rights', 'root', 'sent', 'sentiment', 'sents', 'set_extension', 'similarity', 'start', 'start_char', 'subtree', 'tensor', 'text', 'text_with_ws', 'to_array', 'vector', 'vector_norm', 'vocab']\n"
     ]
    }
   ],
   "source": [
    "i = 0\n",
    "for s in doc.sents:\n",
    "    if i == 0:\n",
    "        print(s)\n",
    "        print([nc for nc in s.noun_chunks])\n",
    "        print(s.start_char)\n",
    "        print(dir(s))\n",
    "    i += 1    "
   ]
  },
  {
   "cell_type": "code",
   "execution_count": 15,
   "id": "8b9f3a23-e589-42c9-b58b-f68bee033856",
   "metadata": {
    "tags": []
   },
   "outputs": [
    {
     "data": {
      "text/plain": [
       "69"
      ]
     },
     "execution_count": 15,
     "metadata": {},
     "output_type": "execute_result"
    }
   ],
   "source": [
    "### Produce a list of the sentences in the document and add an index to each sentence \n",
    "sents = [[i, s, [nc for nc in s.noun_chunks]]  for i, s in enumerate(doc.sents)]\n",
    "len(sents)"
   ]
  },
  {
   "cell_type": "code",
   "execution_count": 16,
   "id": "aead1dc5-9e9b-4864-afff-82b61575161a",
   "metadata": {
    "tags": []
   },
   "outputs": [
    {
     "name": "stdout",
     "output_type": "stream",
     "text": [
      "----\n",
      " [3, He attended the monastic school in Königsbronn then, after his studies there, entered Tübingen University in 1568., [He, the monastic school, Königsbronn, his studies, Tübingen University]]\n",
      "----\n",
      " [4, [3]:-\n",
      "As was the case with many young scholars including Kepler, his most famous student,, [the case, many young scholars, Kepler, his most famous student]]\n",
      "----\n",
      " [5, [Mästlin] did his undergraduate studies at a preparatory school and came to the university to take his final exams and pick up his baccalaureate degree., [his undergraduate studies, a preparatory school, the university, his final exams, his baccalaureate degree]]\n"
     ]
    }
   ],
   "source": [
    "for sent in sents[3:6]:\n",
    "    print('----\\n',sent)"
   ]
  },
  {
   "cell_type": "code",
   "execution_count": 34,
   "id": "35029ecf-3347-4179-970d-1dbc033c5432",
   "metadata": {},
   "outputs": [
    {
     "data": {
      "text/plain": [
       "(300,)"
      ]
     },
     "execution_count": 34,
     "metadata": {},
     "output_type": "execute_result"
    }
   ],
   "source": [
    "### https://spacy.io/api/vectors/\n",
    "sents[0][1].vector.shape"
   ]
  },
  {
   "cell_type": "markdown",
   "id": "ca32986c-5e6d-4dcb-96bb-81de60239cb6",
   "metadata": {},
   "source": [
    "### Explore Spacy pipeline results regarding tokens"
   ]
  },
  {
   "cell_type": "code",
   "execution_count": 17,
   "id": "bfa184b0-8b83-4b1e-984a-709570c39bae",
   "metadata": {
    "scrolled": true,
    "tags": []
   },
   "outputs": [
    {
     "name": "stdout",
     "output_type": "stream",
     "text": [
      "He he PRON nsubj was True\n",
      "was be AUX ROOT was True\n",
      "the the DET det child True\n",
      "middle middle ADJ amod child False\n",
      "child child NOUN attr was False\n",
      "of of ADP prep child True\n",
      "the the DET det family True\n",
      "family family NOUN pobj of False\n",
      ", , PUNCT punct was False\n",
      "having have VERB advcl was False\n",
      "an an DET det sister True\n",
      "older old ADJ amod sister False\n",
      "sister sister NOUN dobj having False\n",
      "and and CCONJ cc sister True\n",
      "a a DET det brother True\n",
      "younger young ADJ amod brother False\n",
      "brother brother NOUN conj sister False\n",
      ". . PUNCT punct was False\n"
     ]
    }
   ],
   "source": [
    "for token in doc[52:70]:\n",
    "    print(token.text, token.lemma_, token.pos_,  token.dep_,\n",
    "        token.head,  token.is_stop) # token.tag_, token.vector,"
   ]
  },
  {
   "cell_type": "code",
   "execution_count": 18,
   "id": "affe5c14-8e6f-4160-8016-f362d583b631",
   "metadata": {},
   "outputs": [],
   "source": [
    "info = []\n",
    "for token in doc:\n",
    "    info.append((token.idx, token.ent_id_,token.text, token.lemma_, token.pos_, token.tag_, token.dep_,\n",
    "                token.shape_, token.is_alpha, token.is_stop, token.tag_, token.vector[:1]))\n",
    "tx_df  = pd.DataFrame(info, columns = [\"idx\", \"ent_id_\",\"text\", \"lemma_\", \"pos_\", \"tag_\", \"dep_\",\"shape_\", \"is_alpha\", \"is_stop\", \"tag_\", \"vector\"])"
   ]
  },
  {
   "cell_type": "code",
   "execution_count": 29,
   "id": "1e0b8a23-6fba-414e-8072-8214da8dca37",
   "metadata": {
    "tags": []
   },
   "outputs": [
    {
     "data": {
      "text/html": [
       "<style>.itables table td {\n",
       "    text-overflow: ellipsis;\n",
       "    overflow: hidden;\n",
       "}\n",
       "\n",
       ".itables table th {\n",
       "    text-overflow: ellipsis;\n",
       "    overflow: hidden;\n",
       "}\n",
       "\n",
       ".itables thead input {\n",
       "    width: 100%;\n",
       "    padding: 3px;\n",
       "    box-sizing: border-box;\n",
       "}\n",
       "\n",
       ".itables tfoot input {\n",
       "    width: 100%;\n",
       "    padding: 3px;\n",
       "    box-sizing: border-box;\n",
       "}\n",
       "</style>\n",
       "<div class=\"itables\">\n",
       "<table id=\"36d840d3-0682-49c0-a46f-cbe74bbf365d\" class=\"display\"style=\"table-layout:auto;width:auto;margin:auto;caption-side:bottom\"><thead>\n",
       "    <tr style=\"text-align: right;\">\n",
       "      \n",
       "      <th>idx</th>\n",
       "      <th>ent_id_</th>\n",
       "      <th>text</th>\n",
       "      <th>lemma_</th>\n",
       "      <th>pos_</th>\n",
       "      <th>tag_</th>\n",
       "      <th>dep_</th>\n",
       "      <th>shape_</th>\n",
       "      <th>is_alpha</th>\n",
       "      <th>is_stop</th>\n",
       "      <th>tag_</th>\n",
       "      <th>vector</th>\n",
       "    </tr>\n",
       "  </thead><tbody><tr><td>Loading... (need <a href=https://mwouts.github.io/itables/troubleshooting.html>help</a>?)</td></tr></tbody><tfoot><th>idx</th><th>ent_id_</th><th>text</th><th>lemma_</th><th>pos_</th><th>tag_</th><th>dep_</th><th>shape_</th><th>is_alpha</th><th>is_stop</th><th>tag_</th><th>vector</th></tfoot></table>\n",
       "<link rel=\"stylesheet\" type=\"text/css\" href=\"https://cdn.datatables.net/1.13.1/css/jquery.dataTables.min.css\">\n",
       "<script type=\"module\">\n",
       "    // Import jquery and DataTable\n",
       "    import 'https://code.jquery.com/jquery-3.6.0.min.js';\n",
       "    import dt from 'https://cdn.datatables.net/1.12.1/js/jquery.dataTables.mjs';\n",
       "    dt($);\n",
       "\n",
       "    // Define the table data\n",
       "    const data = [[0, \"\", \"Michael\", \"Michael\", \"PROPN\", \"NNP\", \"compound\", \"Xxxxx\", true, false, \"NNP\", \"[-5.5573]\"], [8, \"\", \"M\\u00e4stlin\", \"M\\u00e4stlin\", \"PROPN\", \"NNP\", \"nsubjpass\", \"Xxxxx\", true, false, \"NNP\", \"[0.0]\"], [16, \"\", \"was\", \"be\", \"AUX\", \"VBD\", \"auxpass\", \"xxx\", true, true, \"VBD\", \"[-9.5058]\"], [20, \"\", \"born\", \"bear\", \"VERB\", \"VBN\", \"ROOT\", \"xxxx\", true, false, \"VBN\", \"[-6.082]\"], [25, \"\", \"in\", \"in\", \"ADP\", \"IN\", \"prep\", \"xx\", true, true, \"IN\", \"[-3.7766]\"], [28, \"\", \"G\\u00f6ppingen\", \"G\\u00f6ppingen\", \"PROPN\", \"NNP\", \"pobj\", \"Xxxxx\", true, false, \"NNP\", \"[-2.2553]\"], [38, \"\", \"which\", \"which\", \"PRON\", \"WDT\", \"nsubj\", \"xxxx\", true, true, \"WDT\", \"[-3.2023]\"], [44, \"\", \"was\", \"be\", \"AUX\", \"VBD\", \"relcl\", \"xxx\", true, true, \"VBD\", \"[-9.5058]\"], [48, \"\", \"a\", \"a\", \"DET\", \"DT\", \"det\", \"x\", true, true, \"DT\", \"[-9.3629]\"], [50, \"\", \"village\", \"village\", \"NOUN\", \"NN\", \"attr\", \"xxxx\", true, false, \"NN\", \"[-2.5744]\"], [58, \"\", \"about\", \"about\", \"ADV\", \"RB\", \"advmod\", \"xxxx\", true, true, \"RB\", \"[-1.5398]\"], [64, \"\", \"50\", \"50\", \"NUM\", \"CD\", \"nummod\", \"dd\", false, false, \"CD\", \"[-1.0661]\"], [67, \"\", \"km\", \"km\", \"NOUN\", \"NNS\", \"npadvmod\", \"xx\", true, false, \"NNS\", \"[-11.307]\"], [70, \"\", \"east\", \"east\", \"ADV\", \"RB\", \"advmod\", \"xxxx\", true, false, \"RB\", \"[-4.7035]\"], [75, \"\", \"of\", \"of\", \"ADP\", \"IN\", \"prep\", \"xx\", true, true, \"IN\", \"[-12.667]\"], [78, \"\", \"T\\u00fcbingen\", \"T\\u00fcbingen\", \"PROPN\", \"NNP\", \"pobj\", \"Xxxxx\", true, false, \"NNP\", \"[-1.9794]\"], [86, \"\", \".\", \".\", \"PUNCT\", \".\", \"punct\", \".\", false, false, \".\", \"[-0.076454]\"], [88, \"\", \"His\", \"his\", \"PRON\", \"PRP$\", \"poss\", \"Xxx\", true, true, \"PRP$\", \"[-1.0214]\"], [92, \"\", \"father\", \"father\", \"NOUN\", \"NN\", \"nsubj\", \"xxxx\", true, false, \"NN\", \"[-1.0106]\"], [98, \"\", \",\", \",\", \"PUNCT\", \",\", \"punct\", \",\", false, false, \",\", \"[-3.3899]\"], [100, \"\", \"Jakob\", \"Jakob\", \"PROPN\", \"NNP\", \"compound\", \"Xxxxx\", true, false, \"NNP\", \"[-4.0254]\"], [106, \"\", \"M\\u00e4stlin\", \"M\\u00e4stlin\", \"PROPN\", \"NNP\", \"appos\", \"Xxxxx\", true, false, \"NNP\", \"[0.0]\"], [113, \"\", \",\", \",\", \"PUNCT\", \",\", \"punct\", \",\", false, false, \",\", \"[-3.3899]\"], [115, \"\", \"and\", \"and\", \"CCONJ\", \"CC\", \"cc\", \"xxx\", true, true, \"CC\", \"[-3.3477]\"], [119, \"\", \"his\", \"his\", \"PRON\", \"PRP$\", \"poss\", \"xxx\", true, true, \"PRP$\", \"[-3.2153]\"], [123, \"\", \"mother\", \"mother\", \"NOUN\", \"NN\", \"conj\", \"xxxx\", true, false, \"NN\", \"[1.4643]\"], [129, \"\", \",\", \",\", \"PUNCT\", \",\", \"punct\", \",\", false, false, \",\", \"[-3.3899]\"], [131, \"\", \"Dorothea\", \"Dorothea\", \"PROPN\", \"NNP\", \"compound\", \"Xxxxx\", true, false, \"NNP\", \"[-1.9794]\"], [140, \"\", \"Simon\", \"Simon\", \"PROPN\", \"NNP\", \"appos\", \"Xxxxx\", true, false, \"NNP\", \"[-1.0745]\"], [145, \"\", \",\", \",\", \"PUNCT\", \",\", \"punct\", \",\", false, false, \",\", \"[-3.3899]\"], [147, \"\", \"were\", \"be\", \"AUX\", \"VBD\", \"ROOT\", \"xxxx\", true, true, \"VBD\", \"[-12.704]\"], [152, \"\", \"both\", \"both\", \"PRON\", \"DT\", \"dep\", \"xxxx\", true, true, \"DT\", \"[-5.3161]\"], [157, \"\", \"devout\", \"devout\", \"ADJ\", \"JJ\", \"amod\", \"xxxx\", true, false, \"JJ\", \"[-0.54509]\"], [164, \"\", \"Lutherans\", \"Lutherans\", \"PROPN\", \"NNPS\", \"attr\", \"Xxxxx\", true, false, \"NNPS\", \"[-3.4203]\"], [174, \"\", \"and\", \"and\", \"CCONJ\", \"CC\", \"cc\", \"xxx\", true, true, \"CC\", \"[-3.3477]\"], [178, \"\", \"Michael\", \"Michael\", \"PROPN\", \"NNP\", \"nsubjpass\", \"Xxxxx\", true, false, \"NNP\", \"[-5.5573]\"], [186, \"\", \"was\", \"be\", \"AUX\", \"VBD\", \"auxpass\", \"xxx\", true, true, \"VBD\", \"[-9.5058]\"], [190, \"\", \"brought\", \"bring\", \"VERB\", \"VBN\", \"conj\", \"xxxx\", true, false, \"VBN\", \"[-2.9104]\"], [198, \"\", \"up\", \"up\", \"ADP\", \"RP\", \"prt\", \"xx\", true, true, \"RP\", \"[1.813]\"], [201, \"\", \"in\", \"in\", \"ADP\", \"IN\", \"prep\", \"xx\", true, true, \"IN\", \"[-3.7766]\"], [204, \"\", \"that\", \"that\", \"DET\", \"DT\", \"det\", \"xxxx\", true, true, \"DT\", \"[-1.1026]\"], [209, \"\", \"faith\", \"faith\", \"NOUN\", \"NN\", \"pobj\", \"xxxx\", true, false, \"NN\", \"[1.3758]\"], [215, \"\", \"and\", \"and\", \"CCONJ\", \"CC\", \"cc\", \"xxx\", true, true, \"CC\", \"[-3.3477]\"], [219, \"\", \"remained\", \"remain\", \"VERB\", \"VBD\", \"conj\", \"xxxx\", true, false, \"VBD\", \"[-2.4374]\"], [228, \"\", \"strongly\", \"strongly\", \"ADV\", \"RB\", \"advmod\", \"xxxx\", true, false, \"RB\", \"[-2.4321]\"], [237, \"\", \"committed\", \"committed\", \"ADJ\", \"JJ\", \"acomp\", \"xxxx\", true, false, \"JJ\", \"[-2.2256]\"], [247, \"\", \"to\", \"to\", \"ADP\", \"IN\", \"prep\", \"xx\", true, true, \"IN\", \"[-1.6487]\"], [250, \"\", \"it\", \"it\", \"PRON\", \"PRP\", \"pobj\", \"xx\", true, true, \"PRP\", \"[6.5268]\"], [253, \"\", \"throughout\", \"throughout\", \"ADP\", \"IN\", \"prep\", \"xxxx\", true, true, \"IN\", \"[-0.58007]\"], [264, \"\", \"his\", \"his\", \"PRON\", \"PRP$\", \"poss\", \"xxx\", true, true, \"PRP$\", \"[-3.2153]\"], [268, \"\", \"life\", \"life\", \"NOUN\", \"NN\", \"pobj\", \"xxxx\", true, false, \"NN\", \"[2.5807]\"], [272, \"\", \".\", \".\", \"PUNCT\", \".\", \"punct\", \".\", false, false, \".\", \"[-0.076454]\"], [274, \"\", \"He\", \"he\", \"PRON\", \"PRP\", \"nsubj\", \"Xx\", true, true, \"PRP\", \"[2.5453]\"], [277, \"\", \"was\", \"be\", \"AUX\", \"VBD\", \"ROOT\", \"xxx\", true, true, \"VBD\", \"[-9.5058]\"], [281, \"\", \"the\", \"the\", \"DET\", \"DT\", \"det\", \"xxx\", true, true, \"DT\", \"[-5.1043]\"], [285, \"\", \"middle\", \"middle\", \"ADJ\", \"JJ\", \"amod\", \"xxxx\", true, false, \"JJ\", \"[-0.096549]\"], [292, \"\", \"child\", \"child\", \"NOUN\", \"NN\", \"attr\", \"xxxx\", true, false, \"NN\", \"[1.2786]\"], [298, \"\", \"of\", \"of\", \"ADP\", \"IN\", \"prep\", \"xx\", true, true, \"IN\", \"[-12.667]\"], [301, \"\", \"the\", \"the\", \"DET\", \"DT\", \"det\", \"xxx\", true, true, \"DT\", \"[-5.1043]\"], [305, \"\", \"family\", \"family\", \"NOUN\", \"NN\", \"pobj\", \"xxxx\", true, false, \"NN\", \"[-1.9005]\"], [311, \"\", \",\", \",\", \"PUNCT\", \",\", \"punct\", \",\", false, false, \",\", \"[-3.3899]\"], [313, \"\", \"having\", \"have\", \"VERB\", \"VBG\", \"advcl\", \"xxxx\", true, false, \"VBG\", \"[-2.4028]\"], [320, \"\", \"an\", \"an\", \"DET\", \"DT\", \"det\", \"xx\", true, true, \"DT\", \"[11.492]\"], [323, \"\", \"older\", \"old\", \"ADJ\", \"JJR\", \"amod\", \"xxxx\", true, false, \"JJR\", \"[-4.003]\"], [329, \"\", \"sister\", \"sister\", \"NOUN\", \"NN\", \"dobj\", \"xxxx\", true, false, \"NN\", \"[1.2432]\"], [336, \"\", \"and\", \"and\", \"CCONJ\", \"CC\", \"cc\", \"xxx\", true, true, \"CC\", \"[-3.3477]\"], [340, \"\", \"a\", \"a\", \"DET\", \"DT\", \"det\", \"x\", true, true, \"DT\", \"[-9.3629]\"], [342, \"\", \"younger\", \"young\", \"ADJ\", \"JJR\", \"amod\", \"xxxx\", true, false, \"JJR\", \"[-2.1373]\"], [350, \"\", \"brother\", \"brother\", \"NOUN\", \"NN\", \"conj\", \"xxxx\", true, false, \"NN\", \"[-1.6475]\"], [357, \"\", \".\", \".\", \"PUNCT\", \".\", \"punct\", \".\", false, false, \".\", \"[-0.076454]\"], [359, \"\", \"He\", \"he\", \"PRON\", \"PRP\", \"nsubj\", \"Xx\", true, true, \"PRP\", \"[2.5453]\"], [362, \"\", \"attended\", \"attend\", \"VERB\", \"VBD\", \"ROOT\", \"xxxx\", true, false, \"VBD\", \"[-3.2377]\"], [371, \"\", \"the\", \"the\", \"DET\", \"DT\", \"det\", \"xxx\", true, true, \"DT\", \"[-5.1043]\"], [375, \"\", \"monastic\", \"monastic\", \"ADJ\", \"JJ\", \"amod\", \"xxxx\", true, false, \"JJ\", \"[-1.9041]\"], [384, \"\", \"school\", \"school\", \"NOUN\", \"NN\", \"dobj\", \"xxxx\", true, false, \"NN\", \"[-1.1226]\"], [391, \"\", \"in\", \"in\", \"ADP\", \"IN\", \"prep\", \"xx\", true, true, \"IN\", \"[-3.7766]\"], [394, \"\", \"K\\u00f6nigsbronn\", \"K\\u00f6nigsbronn\", \"PROPN\", \"NNP\", \"pobj\", \"Xxxxx\", true, false, \"NNP\", \"[0.0]\"], [406, \"\", \"then\", \"then\", \"ADV\", \"RB\", \"advmod\", \"xxxx\", true, true, \"RB\", \"[-2.8267]\"], [410, \"\", \",\", \",\", \"PUNCT\", \",\", \"punct\", \",\", false, false, \",\", \"[-3.3899]\"], [412, \"\", \"after\", \"after\", \"ADP\", \"IN\", \"prep\", \"xxxx\", true, true, \"IN\", \"[-5.9886]\"], [418, \"\", \"his\", \"his\", \"PRON\", \"PRP$\", \"poss\", \"xxx\", true, true, \"PRP$\", \"[-3.2153]\"], [422, \"\", \"studies\", \"study\", \"NOUN\", \"NNS\", \"pobj\", \"xxxx\", true, false, \"NNS\", \"[-0.020262]\"], [430, \"\", \"there\", \"there\", \"ADV\", \"RB\", \"advmod\", \"xxxx\", true, true, \"RB\", \"[1.0923]\"], [435, \"\", \",\", \",\", \"PUNCT\", \",\", \"punct\", \",\", false, false, \",\", \"[-3.3899]\"], [437, \"\", \"entered\", \"enter\", \"VERB\", \"VBD\", \"advcl\", \"xxxx\", true, false, \"VBD\", \"[-1.6305]\"], [445, \"\", \"T\\u00fcbingen\", \"T\\u00fcbingen\", \"PROPN\", \"NNP\", \"compound\", \"Xxxxx\", true, false, \"NNP\", \"[-1.9794]\"], [454, \"\", \"University\", \"University\", \"PROPN\", \"NNP\", \"dobj\", \"Xxxxx\", true, false, \"NNP\", \"[-2.7357]\"], [465, \"\", \"in\", \"in\", \"ADP\", \"IN\", \"prep\", \"xx\", true, true, \"IN\", \"[-3.7766]\"], [468, \"\", \"1568\", \"1568\", \"NUM\", \"CD\", \"pobj\", \"dddd\", false, false, \"CD\", \"[-0.50927]\"], [472, \"\", \".\", \".\", \"PUNCT\", \".\", \"punct\", \".\", false, false, \".\", \"[-0.076454]\"], [474, \"\", \"[\", \"[\", \"X\", \"XX\", \"dep\", \"[\", false, false, \"XX\", \"[11.177]\"], [475, \"\", \"3]:-\", \"3]:-\", \"NUM\", \"CD\", \"nsubj\", \"d]:-\", false, false, \"CD\", \"[0.0]\"], [479, \"\", \"\\\\n\", \"\\\\n\", \"SPACE\", \"_SP\", \"dep\", \"\\\\n\", false, false, \"_SP\", \"[0.0]\"], [480, \"\", \"As\", \"as\", \"SCONJ\", \"IN\", \"mark\", \"Xx\", true, true, \"IN\", \"[1.7496]\"], [483, \"\", \"was\", \"be\", \"AUX\", \"VBD\", \"ROOT\", \"xxx\", true, true, \"VBD\", \"[-9.5058]\"], [487, \"\", \"the\", \"the\", \"DET\", \"DT\", \"det\", \"xxx\", true, true, \"DT\", \"[-5.1043]\"], [491, \"\", \"case\", \"case\", \"NOUN\", \"NN\", \"attr\", \"xxxx\", true, false, \"NN\", \"[-0.3132]\"], [496, \"\", \"with\", \"with\", \"ADP\", \"IN\", \"prep\", \"xxxx\", true, true, \"IN\", \"[-7.3029]\"], [501, \"\", \"many\", \"many\", \"ADJ\", \"JJ\", \"amod\", \"xxxx\", true, true, \"JJ\", \"[-1.2656]\"], [506, \"\", \"young\", \"young\", \"ADJ\", \"JJ\", \"amod\", \"xxxx\", true, false, \"JJ\", \"[0.98253]\"], [512, \"\", \"scholars\", \"scholar\", \"NOUN\", \"NNS\", \"pobj\", \"xxxx\", true, false, \"NNS\", \"[-1.8334]\"], [521, \"\", \"including\", \"include\", \"VERB\", \"VBG\", \"prep\", \"xxxx\", true, false, \"VBG\", \"[-2.9074]\"], [531, \"\", \"Kepler\", \"Kepler\", \"PROPN\", \"NNP\", \"pobj\", \"Xxxxx\", true, false, \"NNP\", \"[-1.8619]\"], [537, \"\", \",\", \",\", \"PUNCT\", \",\", \"punct\", \",\", false, false, \",\", \"[-3.3899]\"], [539, \"\", \"his\", \"his\", \"PRON\", \"PRP$\", \"poss\", \"xxx\", true, true, \"PRP$\", \"[-3.2153]\"], [543, \"\", \"most\", \"most\", \"ADV\", \"RBS\", \"advmod\", \"xxxx\", true, true, \"RBS\", \"[-2.7734]\"], [548, \"\", \"famous\", \"famous\", \"ADJ\", \"JJ\", \"amod\", \"xxxx\", true, false, \"JJ\", \"[-0.72326]\"], [555, \"\", \"student\", \"student\", \"NOUN\", \"NN\", \"appos\", \"xxxx\", true, false, \"NN\", \"[2.1085]\"], [562, \"\", \",\", \",\", \"PUNCT\", \",\", \"punct\", \",\", false, false, \",\", \"[-3.3899]\"], [564, \"\", \"[\", \"[\", \"X\", \"XX\", \"dep\", \"[\", false, false, \"XX\", \"[11.177]\"], [565, \"\", \"M\\u00e4stlin\", \"m\\u00e4stlin\", \"X\", \"XX\", \"nsubj\", \"Xxxxx\", true, false, \"XX\", \"[0.0]\"], [572, \"\", \"]\", \"]\", \"PUNCT\", \"-RRB-\", \"punct\", \"]\", false, false, \"-RRB-\", \"[10.212]\"], [574, \"\", \"did\", \"do\", \"VERB\", \"VBD\", \"ROOT\", \"xxx\", true, true, \"VBD\", \"[-0.34305]\"], [578, \"\", \"his\", \"his\", \"PRON\", \"PRP$\", \"poss\", \"xxx\", true, true, \"PRP$\", \"[-3.2153]\"], [582, \"\", \"undergraduate\", \"undergraduate\", \"ADJ\", \"JJ\", \"amod\", \"xxxx\", true, false, \"JJ\", \"[-1.549]\"], [596, \"\", \"studies\", \"study\", \"NOUN\", \"NNS\", \"dobj\", \"xxxx\", true, false, \"NNS\", \"[-0.020262]\"], [604, \"\", \"at\", \"at\", \"ADP\", \"IN\", \"prep\", \"xx\", true, true, \"IN\", \"[3.8102]\"], [607, \"\", \"a\", \"a\", \"DET\", \"DT\", \"det\", \"x\", true, true, \"DT\", \"[-9.3629]\"], [609, \"\", \"preparatory\", \"preparatory\", \"ADJ\", \"JJ\", \"amod\", \"xxxx\", true, false, \"JJ\", \"[-1.3069]\"], [621, \"\", \"school\", \"school\", \"NOUN\", \"NN\", \"pobj\", \"xxxx\", true, false, \"NN\", \"[-1.1226]\"], [628, \"\", \"and\", \"and\", \"CCONJ\", \"CC\", \"cc\", \"xxx\", true, true, \"CC\", \"[-3.3477]\"], [632, \"\", \"came\", \"come\", \"VERB\", \"VBD\", \"conj\", \"xxxx\", true, false, \"VBD\", \"[-2.7407]\"], [637, \"\", \"to\", \"to\", \"ADP\", \"IN\", \"prep\", \"xx\", true, true, \"IN\", \"[-1.6487]\"], [640, \"\", \"the\", \"the\", \"DET\", \"DT\", \"det\", \"xxx\", true, true, \"DT\", \"[-5.1043]\"], [644, \"\", \"university\", \"university\", \"NOUN\", \"NN\", \"pobj\", \"xxxx\", true, false, \"NN\", \"[-1.409]\"], [655, \"\", \"to\", \"to\", \"PART\", \"TO\", \"aux\", \"xx\", true, true, \"TO\", \"[-1.6487]\"], [658, \"\", \"take\", \"take\", \"VERB\", \"VB\", \"advcl\", \"xxxx\", true, true, \"VB\", \"[4.5063]\"], [663, \"\", \"his\", \"his\", \"PRON\", \"PRP$\", \"poss\", \"xxx\", true, true, \"PRP$\", \"[-3.2153]\"], [667, \"\", \"final\", \"final\", \"ADJ\", \"JJ\", \"amod\", \"xxxx\", true, false, \"JJ\", \"[0.44864]\"], [673, \"\", \"exams\", \"exam\", \"NOUN\", \"NNS\", \"dobj\", \"xxxx\", true, false, \"NNS\", \"[-1.1426]\"], [679, \"\", \"and\", \"and\", \"CCONJ\", \"CC\", \"cc\", \"xxx\", true, true, \"CC\", \"[-3.3477]\"], [683, \"\", \"pick\", \"pick\", \"VERB\", \"VB\", \"conj\", \"xxxx\", true, false, \"VB\", \"[-4.0477]\"], [688, \"\", \"up\", \"up\", \"ADP\", \"RP\", \"prt\", \"xx\", true, true, \"RP\", \"[1.813]\"], [691, \"\", \"his\", \"his\", \"PRON\", \"PRP$\", \"poss\", \"xxx\", true, true, \"PRP$\", \"[-3.2153]\"], [695, \"\", \"baccalaureate\", \"baccalaureate\", \"NOUN\", \"NN\", \"compound\", \"xxxx\", true, false, \"NN\", \"[-1.2834]\"], [709, \"\", \"degree\", \"degree\", \"NOUN\", \"NN\", \"dobj\", \"xxxx\", true, false, \"NN\", \"[-3.561]\"], [715, \"\", \".\", \".\", \"PUNCT\", \".\", \"punct\", \".\", false, false, \".\", \"[-0.076454]\"], [716, \"\", \"At\", \"at\", \"ADP\", \"IN\", \"prep\", \"Xx\", true, true, \"IN\", \"[4.9588]\"], [719, \"\", \"T\\u00fcbingen\", \"T\\u00fcbingen\", \"PROPN\", \"NNP\", \"compound\", \"Xxxxx\", true, false, \"NNP\", \"[-1.9794]\"], [728, \"\", \"University\", \"University\", \"PROPN\", \"NNP\", \"pobj\", \"Xxxxx\", true, false, \"NNP\", \"[-2.7357]\"], [739, \"\", \"he\", \"he\", \"PRON\", \"PRP\", \"nsubj\", \"xx\", true, true, \"PRP\", \"[-1.2129]\"], [742, \"\", \"studied\", \"study\", \"VERB\", \"VBD\", \"ROOT\", \"xxxx\", true, false, \"VBD\", \"[-2.1095]\"], [750, \"\", \"mathematics\", \"mathematic\", \"NOUN\", \"NNS\", \"dobj\", \"xxxx\", true, false, \"NNS\", \"[-1.4081]\"], [762, \"\", \"and\", \"and\", \"CCONJ\", \"CC\", \"cc\", \"xxx\", true, true, \"CC\", \"[-3.3477]\"], [766, \"\", \"astronomy\", \"astronomy\", \"NOUN\", \"NN\", \"conj\", \"xxxx\", true, false, \"NN\", \"[-0.48581]\"], [776, \"\", \"for\", \"for\", \"ADP\", \"IN\", \"prep\", \"xxx\", true, true, \"IN\", \"[-7.0781]\"], [780, \"\", \"a\", \"a\", \"DET\", \"DT\", \"det\", \"x\", true, true, \"DT\", \"[-9.3629]\"], [782, \"\", \"Master\", \"Master\", \"PROPN\", \"NNP\", \"poss\", \"Xxxxx\", true, false, \"NNP\", \"[-1.9316]\"], [788, \"\", \"'s\", \"'s\", \"PART\", \"POS\", \"case\", \"'x\", false, true, \"POS\", \"[3.3163]\"], [791, \"\", \"degree\", \"degree\", \"NOUN\", \"NN\", \"pobj\", \"xxxx\", true, false, \"NN\", \"[-3.561]\"], [798, \"\", \"under\", \"under\", \"ADP\", \"IN\", \"prep\", \"xxxx\", true, true, \"IN\", \"[-4.497]\"], [804, \"\", \"Philipp\", \"Philipp\", \"PROPN\", \"NNP\", \"compound\", \"Xxxxx\", true, false, \"NNP\", \"[-4.8271]\"], [812, \"\", \"Apian\", \"Apian\", \"PROPN\", \"NNP\", \"pobj\", \"Xxxxx\", true, false, \"NNP\", \"[0.0]\"], [818, \"\", \"who\", \"who\", \"PRON\", \"WP\", \"nsubj\", \"xxx\", true, true, \"WP\", \"[-6.4863]\"], [822, \"\", \"was\", \"be\", \"AUX\", \"VBD\", \"relcl\", \"xxx\", true, true, \"VBD\", \"[-9.5058]\"], [826, \"\", \"Peter\", \"Peter\", \"PROPN\", \"NNP\", \"compound\", \"Xxxxx\", true, false, \"NNP\", \"[-6.4704]\"], [832, \"\", \"Apian\", \"Apian\", \"PROPN\", \"NNP\", \"poss\", \"Xxxxx\", true, false, \"NNP\", \"[0.0]\"], [837, \"\", \"'s\", \"'s\", \"PART\", \"POS\", \"case\", \"'x\", false, true, \"POS\", \"[3.3163]\"], [840, \"\", \"son\", \"son\", \"NOUN\", \"NN\", \"attr\", \"xxx\", true, false, \"NN\", \"[-1.8598]\"], [843, \"\", \".\", \".\", \"PUNCT\", \".\", \"punct\", \".\", false, false, \".\", \"[-0.076454]\"], [845, \"\", \"In\", \"in\", \"ADP\", \"IN\", \"prep\", \"Xx\", true, true, \"IN\", \"[-9.3107]\"], [848, \"\", \"1570\", \"1570\", \"NUM\", \"CD\", \"pobj\", \"dddd\", false, false, \"CD\", \"[-1.1161]\"], [852, \"\", \",\", \",\", \"PUNCT\", \",\", \"punct\", \",\", false, false, \",\", \"[-3.3899]\"], [854, \"\", \"while\", \"while\", \"SCONJ\", \"IN\", \"prep\", \"xxxx\", true, true, \"IN\", \"[-3.4865]\"], [860, \"\", \"a\", \"a\", \"DET\", \"DT\", \"det\", \"x\", true, true, \"DT\", \"[-9.3629]\"], [862, \"\", \"student\", \"student\", \"NOUN\", \"NN\", \"pobj\", \"xxxx\", true, false, \"NN\", \"[2.1085]\"], [869, \"\", \",\", \",\", \"PUNCT\", \",\", \"punct\", \",\", false, false, \",\", \"[-3.3899]\"], [871, \"\", \"he\", \"he\", \"PRON\", \"PRP\", \"nsubj\", \"xx\", true, true, \"PRP\", \"[-1.2129]\"], [874, \"\", \"purchased\", \"purchase\", \"VERB\", \"VBD\", \"ROOT\", \"xxxx\", true, false, \"VBD\", \"[-6.3162]\"], [884, \"\", \"a\", \"a\", \"DET\", \"DT\", \"det\", \"x\", true, true, \"DT\", \"[-9.3629]\"], [886, \"\", \"copy\", \"copy\", \"NOUN\", \"NN\", \"dobj\", \"xxxx\", true, false, \"NN\", \"[-0.42999]\"], [891, \"\", \"of\", \"of\", \"ADP\", \"IN\", \"prep\", \"xx\", true, true, \"IN\", \"[-12.667]\"], [894, \"\", \"Copernicus\", \"Copernicus\", \"PROPN\", \"NNP\", \"poss\", \"Xxxxx\", true, false, \"NNP\", \"[-0.34364]\"], [904, \"\", \"'s\", \"'s\", \"PART\", \"POS\", \"case\", \"'x\", false, true, \"POS\", \"[3.3163]\"], [907, \"\", \"De\", \"De\", \"PROPN\", \"NNP\", \"compound\", \"Xx\", true, false, \"NNP\", \"[-2.2394]\"], [910, \"\", \"revolutionibus\", \"revolutionibus\", \"NOUN\", \"NN\", \"pobj\", \"xxxx\", true, false, \"NN\", \"[-1.6528]\"], [925, \"\", \"from\", \"from\", \"ADP\", \"IN\", \"prep\", \"xxxx\", true, true, \"IN\", \"[0.45435]\"], [930, \"\", \"the\", \"the\", \"DET\", \"DT\", \"det\", \"xxx\", true, true, \"DT\", \"[-5.1043]\"], [934, \"\", \"widow\", \"widow\", \"NOUN\", \"NN\", \"pobj\", \"xxxx\", true, false, \"NN\", \"[-1.1316]\"], [940, \"\", \"of\", \"of\", \"ADP\", \"IN\", \"prep\", \"xx\", true, true, \"IN\", \"[-12.667]\"], [943, \"\", \"Victorin\", \"Victorin\", \"PROPN\", \"NNP\", \"compound\", \"Xxxxx\", true, false, \"NNP\", \"[-2.3253]\"], [952, \"\", \"Strigel\", \"Strigel\", \"PROPN\", \"NNP\", \"pobj\", \"Xxxxx\", true, false, \"NNP\", \"[0.0]\"], [959, \"\", \",\", \",\", \"PUNCT\", \",\", \"punct\", \",\", false, false, \",\", \"[-3.3899]\"], [961, \"\", \"who\", \"who\", \"PRON\", \"WP\", \"nsubj\", \"xxx\", true, true, \"WP\", \"[-6.4863]\"], [965, \"\", \"had\", \"have\", \"AUX\", \"VBD\", \"aux\", \"xxx\", true, true, \"VBD\", \"[-8.6183]\"], [969, \"\", \"been\", \"be\", \"AUX\", \"VBN\", \"relcl\", \"xxxx\", true, true, \"VBN\", \"[-3.0266]\"], [974, \"\", \"professor\", \"professor\", \"NOUN\", \"NN\", \"attr\", \"xxxx\", true, false, \"NN\", \"[-1.2467]\"], [984, \"\", \"of\", \"of\", \"ADP\", \"IN\", \"prep\", \"xx\", true, true, \"IN\", \"[-12.667]\"], [987, \"\", \"theology\", \"theology\", \"NOUN\", \"NN\", \"pobj\", \"xxxx\", true, false, \"NN\", \"[-1.7495]\"], [996, \"\", \"at\", \"at\", \"ADP\", \"IN\", \"prep\", \"xx\", true, true, \"IN\", \"[3.8102]\"], [999, \"\", \"Leipzig\", \"Leipzig\", \"PROPN\", \"NNP\", \"pobj\", \"Xxxxx\", true, false, \"NNP\", \"[-2.8175]\"], [1007, \"\", \"and\", \"and\", \"CCONJ\", \"CC\", \"cc\", \"xxx\", true, true, \"CC\", \"[-3.3477]\"], [1011, \"\", \"the\", \"the\", \"DET\", \"DT\", \"det\", \"xxx\", true, true, \"DT\", \"[-5.1043]\"], [1015, \"\", \"author\", \"author\", \"NOUN\", \"NN\", \"conj\", \"xxxx\", true, false, \"NN\", \"[-1.7865]\"], [1022, \"\", \"of\", \"of\", \"ADP\", \"IN\", \"prep\", \"xx\", true, true, \"IN\", \"[-12.667]\"], [1025, \"\", \"an\", \"an\", \"DET\", \"DT\", \"det\", \"xx\", true, true, \"DT\", \"[11.492]\"], [1028, \"\", \"astronomy\", \"astronomy\", \"NOUN\", \"NN\", \"compound\", \"xxxx\", true, false, \"NN\", \"[-0.48581]\"], [1038, \"\", \"text\", \"text\", \"NOUN\", \"NN\", \"pobj\", \"xxxx\", true, false, \"NN\", \"[1.8153]\"], [1042, \"\", \".\", \".\", \"PUNCT\", \".\", \"punct\", \".\", false, false, \".\", \"[-0.076454]\"], [1044, \"\", \"M\\u00e4stlin\", \"M\\u00e4stlin\", \"PROPN\", \"NNP\", \"nsubjpass\", \"Xxxxx\", true, false, \"NNP\", \"[0.0]\"], [1052, \"\", \"was\", \"be\", \"AUX\", \"VBD\", \"auxpass\", \"xxx\", true, true, \"VBD\", \"[-9.5058]\"], [1056, \"\", \"awarded\", \"award\", \"VERB\", \"VBN\", \"ROOT\", \"xxxx\", true, false, \"VBN\", \"[-6.1082]\"], [1064, \"\", \"a\", \"a\", \"DET\", \"DT\", \"det\", \"x\", true, true, \"DT\", \"[-9.3629]\"], [1066, \"\", \"Master\", \"Master\", \"PROPN\", \"NNP\", \"poss\", \"Xxxxx\", true, false, \"NNP\", \"[-1.9316]\"], [1072, \"\", \"'s\", \"'s\", \"PART\", \"POS\", \"case\", \"'x\", false, true, \"POS\", \"[3.3163]\"], [1075, \"\", \"degree\", \"degree\", \"NOUN\", \"NN\", \"dobj\", \"xxxx\", true, false, \"NN\", \"[-3.561]\"], [1082, \"\", \"with\", \"with\", \"ADP\", \"IN\", \"prep\", \"xxxx\", true, true, \"IN\", \"[-7.3029]\"], [1087, \"\", \"distinction\", \"distinction\", \"NOUN\", \"NN\", \"pobj\", \"xxxx\", true, false, \"NN\", \"[-5.8236]\"], [1099, \"\", \"in\", \"in\", \"ADP\", \"IN\", \"prep\", \"xx\", true, true, \"IN\", \"[-3.7766]\"], [1102, \"\", \"1571\", \"1571\", \"NUM\", \"CD\", \"pobj\", \"dddd\", false, false, \"CD\", \"[-0.57669]\"], [1106, \"\", \".\", \".\", \"PUNCT\", \".\", \"punct\", \".\", false, false, \".\", \"[-0.076454]\"], [1108, \"\", \"While\", \"while\", \"SCONJ\", \"IN\", \"mark\", \"Xxxxx\", true, true, \"IN\", \"[-1.4509]\"], [1114, \"\", \"studying\", \"study\", \"VERB\", \"VBG\", \"advcl\", \"xxxx\", true, false, \"VBG\", \"[-0.64764]\"], [1123, \"\", \"for\", \"for\", \"ADP\", \"IN\", \"prep\", \"xxx\", true, true, \"IN\", \"[-7.0781]\"], [1127, \"\", \"this\", \"this\", \"DET\", \"DT\", \"det\", \"xxxx\", true, true, \"DT\", \"[2.179]\"], [1132, \"\", \"degree\", \"degree\", \"NOUN\", \"NN\", \"pobj\", \"xxxx\", true, false, \"NN\", \"[-3.561]\"], [1139, \"\", \"he\", \"he\", \"PRON\", \"PRP\", \"nsubj\", \"xx\", true, true, \"PRP\", \"[-1.2129]\"], [1142, \"\", \"had\", \"have\", \"AUX\", \"VBD\", \"aux\", \"xxx\", true, true, \"VBD\", \"[-8.6183]\"], [1146, \"\", \"edited\", \"edit\", \"VERB\", \"VBN\", \"ROOT\", \"xxxx\", true, false, \"VBN\", \"[-4.2699]\"], [1153, \"\", \"a\", \"a\", \"DET\", \"DT\", \"det\", \"x\", true, true, \"DT\", \"[-9.3629]\"], [1155, \"\", \"new\", \"new\", \"ADJ\", \"JJ\", \"amod\", \"xxx\", true, false, \"JJ\", \"[2.593]\"], [1159, \"\", \"edition\", \"edition\", \"NOUN\", \"NN\", \"dobj\", \"xxxx\", true, false, \"NN\", \"[-2.5333]\"], [1167, \"\", \"of\", \"of\", \"ADP\", \"IN\", \"prep\", \"xx\", true, true, \"IN\", \"[-12.667]\"], [1170, \"\", \"the\", \"the\", \"DET\", \"DT\", \"det\", \"xxx\", true, true, \"DT\", \"[-5.1043]\"], [1174, \"\", \"Prutenis\", \"Prutenis\", \"PROPN\", \"NNP\", \"compound\", \"Xxxxx\", true, false, \"NNP\", \"[0.0]\"], [1183, \"\", \"Tables\", \"table\", \"NOUN\", \"NNS\", \"pobj\", \"Xxxxx\", true, false, \"NNS\", \"[-1.093]\"], [1190, \"\", \"which\", \"which\", \"PRON\", \"WDT\", \"nsubjpass\", \"xxxx\", true, true, \"WDT\", \"[-3.2023]\"], [1196, \"\", \"was\", \"be\", \"AUX\", \"VBD\", \"auxpass\", \"xxx\", true, true, \"VBD\", \"[-9.5058]\"], [1200, \"\", \"published\", \"publish\", \"VERB\", \"VBN\", \"relcl\", \"xxxx\", true, false, \"VBN\", \"[-4.1276]\"], [1210, \"\", \"in\", \"in\", \"ADP\", \"IN\", \"prep\", \"xx\", true, true, \"IN\", \"[-3.7766]\"], [1213, \"\", \"1571\", \"1571\", \"NUM\", \"CD\", \"pobj\", \"dddd\", false, false, \"CD\", \"[-0.57669]\"], [1217, \"\", \".\", \".\", \"PUNCT\", \".\", \"punct\", \".\", false, false, \".\", \"[-0.076454]\"], [1219, \"\", \"The\", \"the\", \"DET\", \"DT\", \"det\", \"Xxx\", true, true, \"DT\", \"[-7.2681]\"], [1223, \"\", \"Prutenis\", \"Prutenis\", \"PROPN\", \"NNP\", \"compound\", \"Xxxxx\", true, false, \"NNP\", \"[0.0]\"], [1232, \"\", \"Tables\", \"table\", \"NOUN\", \"NNS\", \"nsubjpass\", \"Xxxxx\", true, false, \"NNS\", \"[-1.093]\"], [1239, \"\", \"had\", \"have\", \"AUX\", \"VBD\", \"aux\", \"xxx\", true, true, \"VBD\", \"[-8.6183]\"], [1243, \"\", \"been\", \"be\", \"AUX\", \"VBN\", \"auxpass\", \"xxxx\", true, true, \"VBN\", \"[-3.0266]\"], [1248, \"\", \"originally\", \"originally\", \"ADV\", \"RB\", \"advmod\", \"xxxx\", true, false, \"RB\", \"[-7.2155]\"], [1259, \"\", \"compiled\", \"compile\", \"VERB\", \"VBN\", \"ROOT\", \"xxxx\", true, false, \"VBN\", \"[-4.3148]\"], [1268, \"\", \"by\", \"by\", \"ADP\", \"IN\", \"agent\", \"xx\", true, true, \"IN\", \"[-13.597]\"], [1271, \"\", \"Erasmus\", \"Erasmus\", \"PROPN\", \"NNP\", \"compound\", \"Xxxxx\", true, false, \"NNP\", \"[-2.4641]\"], [1279, \"\", \"Reinhold\", \"Reinhold\", \"PROPN\", \"NNP\", \"pobj\", \"Xxxxx\", true, false, \"NNP\", \"[-1.4758]\"], [1288, \"\", \"who\", \"who\", \"PRON\", \"WP\", \"nsubj\", \"xxx\", true, true, \"WP\", \"[-6.4863]\"], [1292, \"\", \"had\", \"have\", \"AUX\", \"VBD\", \"aux\", \"xxx\", true, true, \"VBD\", \"[-8.6183]\"], [1296, \"\", \"based\", \"base\", \"VERB\", \"VBN\", \"relcl\", \"xxxx\", true, false, \"VBN\", \"[-4.1368]\"], [1302, \"\", \"them\", \"they\", \"PRON\", \"PRP\", \"dobj\", \"xxxx\", true, true, \"PRP\", \"[-1.9918]\"], [1307, \"\", \"on\", \"on\", \"ADP\", \"IN\", \"prep\", \"xx\", true, true, \"IN\", \"[-5.1644]\"], [1310, \"\", \"Copernicus\", \"Copernicus\", \"PROPN\", \"NNP\", \"poss\", \"Xxxxx\", true, false, \"NNP\", \"[-0.34364]\"], [1320, \"\", \"'s\", \"'s\", \"PART\", \"POS\", \"case\", \"'x\", false, true, \"POS\", \"[3.3163]\"], [1323, \"\", \"version\", \"version\", \"NOUN\", \"NN\", \"pobj\", \"xxxx\", true, false, \"NN\", \"[-1.5914]\"], [1331, \"\", \"of\", \"of\", \"ADP\", \"IN\", \"prep\", \"xx\", true, true, \"IN\", \"[-12.667]\"], [1334, \"\", \"the\", \"the\", \"DET\", \"DT\", \"det\", \"xxx\", true, true, \"DT\", \"[-5.1043]\"], [1338, \"\", \"solar\", \"solar\", \"ADJ\", \"JJ\", \"amod\", \"xxxx\", true, false, \"JJ\", \"[-5.4226]\"], [1344, \"\", \"system\", \"system\", \"NOUN\", \"NN\", \"pobj\", \"xxxx\", true, false, \"NN\", \"[-1.7046]\"], [1350, \"\", \".\", \".\", \"PUNCT\", \".\", \"punct\", \".\", false, false, \".\", \"[-0.076454]\"], [1352, \"\", \"After\", \"after\", \"ADP\", \"IN\", \"prep\", \"Xxxxx\", true, true, \"IN\", \"[-5.3952]\"], [1358, \"\", \"graduating\", \"graduate\", \"VERB\", \"VBG\", \"pcomp\", \"xxxx\", true, false, \"VBG\", \"[-2.0995]\"], [1368, \"\", \",\", \",\", \"PUNCT\", \",\", \"punct\", \",\", false, false, \",\", \"[-3.3899]\"], [1370, \"\", \"M\\u00e4stlin\", \"M\\u00e4stlin\", \"PROPN\", \"NNP\", \"nsubj\", \"Xxxxx\", true, false, \"NNP\", \"[0.0]\"], [1378, \"\", \"spent\", \"spend\", \"VERB\", \"VBD\", \"ROOT\", \"xxxx\", true, false, \"VBD\", \"[-4.5396]\"], [1384, \"\", \"the\", \"the\", \"DET\", \"DT\", \"det\", \"xxx\", true, true, \"DT\", \"[-5.1043]\"], [1388, \"\", \"following\", \"follow\", \"VERB\", \"VBG\", \"amod\", \"xxxx\", true, false, \"VBG\", \"[-2.3847]\"], [1398, \"\", \"years\", \"year\", \"NOUN\", \"NNS\", \"dobj\", \"xxxx\", true, false, \"NNS\", \"[-2.0905]\"], [1404, \"\", \"teaching\", \"teach\", \"VERB\", \"VBG\", \"xcomp\", \"xxxx\", true, false, \"VBG\", \"[-0.75475]\"], [1413, \"\", \"in\", \"in\", \"ADP\", \"IN\", \"prep\", \"xx\", true, true, \"IN\", \"[-3.7766]\"], [1416, \"\", \"T\\u00fcbingen\", \"T\\u00fcbingen\", \"PROPN\", \"NNP\", \"pobj\", \"Xxxxx\", true, false, \"NNP\", \"[-1.9794]\"], [1424, \"\", \",\", \",\", \"PUNCT\", \",\", \"punct\", \",\", false, false, \",\", \"[-3.3899]\"], [1426, \"\", \"and\", \"and\", \"CCONJ\", \"CC\", \"cc\", \"xxx\", true, true, \"CC\", \"[-3.3477]\"], [1430, \"\", \"at\", \"at\", \"ADP\", \"IN\", \"prep\", \"xx\", true, true, \"IN\", \"[3.8102]\"], [1433, \"\", \"the\", \"the\", \"DET\", \"DT\", \"det\", \"xxx\", true, true, \"DT\", \"[-5.1043]\"], [1437, \"\", \"same\", \"same\", \"ADJ\", \"JJ\", \"amod\", \"xxxx\", true, true, \"JJ\", \"[-4.0503]\"], [1442, \"\", \"time\", \"time\", \"NOUN\", \"NN\", \"pobj\", \"xxxx\", true, false, \"NN\", \"[1.3505]\"], [1447, \"\", \"took\", \"take\", \"VERB\", \"VBD\", \"conj\", \"xxxx\", true, false, \"VBD\", \"[3.4158]\"], [1452, \"\", \"[\", \"[\", \"X\", \"XX\", \"dobj\", \"[\", false, false, \"XX\", \"[11.177]\"], [1453, \"\", \"3]:-\", \"3]:-\", \"NUM\", \"CD\", \"dobj\", \"d]:-\", false, false, \"CD\", \"[0.0]\"], [1457, \"\", \"\\\\n\", \"\\\\n\", \"SPACE\", \"_SP\", \"dep\", \"\\\\n\", false, false, \"_SP\", \"[0.0]\"], [1458, \"\", \"...\", \"...\", \"PUNCT\", \":\", \"punct\", \"...\", false, false, \":\", \"[0.57913]\"], [1462, \"\", \"the\", \"the\", \"DET\", \"DT\", \"det\", \"xxx\", true, true, \"DT\", \"[-5.1043]\"], [1466, \"\", \"theological\", \"theological\", \"ADJ\", \"JJ\", \"amod\", \"xxxx\", true, false, \"JJ\", \"[-1.1704]\"], [1478, \"\", \"programme\", \"programme\", \"NOUN\", \"NN\", \"ROOT\", \"xxxx\", true, false, \"NN\", \"[1.2194]\"], [1487, \"\", \",\", \",\", \"PUNCT\", \",\", \"punct\", \",\", false, false, \",\", \"[-3.3899]\"], [1489, \"\", \"because\", \"because\", \"SCONJ\", \"IN\", \"mark\", \"xxxx\", true, true, \"IN\", \"[-2.6093]\"], [1497, \"\", \"T\\u00fcbingen\", \"T\\u00fcbingen\", \"PROPN\", \"NNP\", \"compound\", \"Xxxxx\", true, false, \"NNP\", \"[-1.9794]\"], [1506, \"\", \"University\", \"University\", \"PROPN\", \"NNP\", \"poss\", \"Xxxxx\", true, false, \"NNP\", \"[-2.7357]\"], [1516, \"\", \"'s\", \"'s\", \"PART\", \"POS\", \"case\", \"'x\", false, true, \"POS\", \"[3.3163]\"], [1519, \"\", \"primary\", \"primary\", \"ADJ\", \"JJ\", \"amod\", \"xxxx\", true, false, \"JJ\", \"[-1.7529]\"], [1527, \"\", \"mission\", \"mission\", \"NOUN\", \"NN\", \"nsubj\", \"xxxx\", true, false, \"NN\", \"[2.6321]\"], [1535, \"\", \"was\", \"be\", \"AUX\", \"VBD\", \"advcl\", \"xxx\", true, true, \"VBD\", \"[-9.5058]\"], [1539, \"\", \"to\", \"to\", \"PART\", \"TO\", \"aux\", \"xx\", true, true, \"TO\", \"[-1.6487]\"], [1542, \"\", \"prepare\", \"prepare\", \"VERB\", \"VB\", \"xcomp\", \"xxxx\", true, false, \"VB\", \"[1.6047]\"], [1550, \"\", \"young\", \"young\", \"ADJ\", \"JJ\", \"amod\", \"xxxx\", true, false, \"JJ\", \"[0.98253]\"], [1556, \"\", \"men\", \"man\", \"NOUN\", \"NNS\", \"dobj\", \"xxx\", true, false, \"NNS\", \"[-6.6746]\"], [1560, \"\", \"for\", \"for\", \"ADP\", \"IN\", \"prep\", \"xxx\", true, true, \"IN\", \"[-7.0781]\"], [1564, \"\", \"the\", \"the\", \"DET\", \"DT\", \"det\", \"xxx\", true, true, \"DT\", \"[-5.1043]\"], [1568, \"\", \"Lutheran\", \"Lutheran\", \"PROPN\", \"NNP\", \"compound\", \"Xxxxx\", true, false, \"NNP\", \"[-3.5458]\"], [1577, \"\", \"ministry\", \"ministry\", \"NOUN\", \"NN\", \"pobj\", \"xxxx\", true, false, \"NN\", \"[1.608]\"], [1585, \"\", \".\", \".\", \"PUNCT\", \".\", \"punct\", \".\", false, false, \".\", \"[-0.076454]\"], [1586, \"\", \"Then\", \"then\", \"ADV\", \"RB\", \"advmod\", \"Xxxx\", true, true, \"RB\", \"[1.0985]\"], [1590, \"\", \",\", \",\", \"PUNCT\", \",\", \"punct\", \",\", false, false, \",\", \"[-3.3899]\"], [1592, \"\", \"in\", \"in\", \"ADP\", \"IN\", \"prep\", \"xx\", true, true, \"IN\", \"[-3.7766]\"], [1595, \"\", \"1576\", \"1576\", \"NUM\", \"CD\", \"pobj\", \"dddd\", false, false, \"CD\", \"[-0.39436]\"], [1599, \"\", \",\", \",\", \"PUNCT\", \",\", \"punct\", \",\", false, false, \",\", \"[-3.3899]\"], [1601, \"\", \"he\", \"he\", \"PRON\", \"PRP\", \"nsubjpass\", \"xx\", true, true, \"PRP\", \"[-1.2129]\"], [1604, \"\", \"was\", \"be\", \"AUX\", \"VBD\", \"auxpass\", \"xxx\", true, true, \"VBD\", \"[-9.5058]\"], [1608, \"\", \"sent\", \"send\", \"VERB\", \"VBN\", \"ROOT\", \"xxxx\", true, false, \"VBN\", \"[-2.9594]\"], [1613, \"\", \"to\", \"to\", \"PART\", \"TO\", \"aux\", \"xx\", true, true, \"TO\", \"[-1.6487]\"], [1616, \"\", \"be\", \"be\", \"AUX\", \"VB\", \"advcl\", \"xx\", true, true, \"VB\", \"[-9.3526]\"], [1619, \"\", \"a\", \"a\", \"DET\", \"DT\", \"det\", \"x\", true, true, \"DT\", \"[-9.3629]\"], [1621, \"\", \"deacon\", \"deacon\", \"NOUN\", \"NN\", \"attr\", \"xxxx\", true, false, \"NN\", \"[-1.3357]\"], [1628, \"\", \"at\", \"at\", \"ADP\", \"IN\", \"prep\", \"xx\", true, true, \"IN\", \"[3.8102]\"], [1631, \"\", \"the\", \"the\", \"DET\", \"DT\", \"det\", \"xxx\", true, true, \"DT\", \"[-5.1043]\"], [1635, \"\", \"Lutheran\", \"Lutheran\", \"PROPN\", \"NNP\", \"compound\", \"Xxxxx\", true, false, \"NNP\", \"[-3.5458]\"], [1644, \"\", \"Church\", \"Church\", \"PROPN\", \"NNP\", \"pobj\", \"Xxxxx\", true, false, \"NNP\", \"[-0.98076]\"], [1651, \"\", \"in\", \"in\", \"ADP\", \"IN\", \"prep\", \"xx\", true, true, \"IN\", \"[-3.7766]\"], [1654, \"\", \"Backnang\", \"Backnang\", \"PROPN\", \"NNP\", \"pobj\", \"Xxxxx\", true, false, \"NNP\", \"[-0.2784]\"], [1662, \"\", \",\", \",\", \"PUNCT\", \",\", \"punct\", \",\", false, false, \",\", \"[-3.3899]\"], [1664, \"\", \"a\", \"a\", \"DET\", \"DT\", \"det\", \"x\", true, true, \"DT\", \"[-9.3629]\"], [1666, \"\", \"town\", \"town\", \"NOUN\", \"NN\", \"appos\", \"xxxx\", true, false, \"NN\", \"[-3.9421]\"], [1671, \"\", \"about\", \"about\", \"ADV\", \"RB\", \"advmod\", \"xxxx\", true, true, \"RB\", \"[-1.5398]\"], [1677, \"\", \"30\", \"30\", \"NUM\", \"CD\", \"nummod\", \"dd\", false, false, \"CD\", \"[-1.7977]\"], [1680, \"\", \"km\", \"km\", \"NOUN\", \"NNS\", \"npadvmod\", \"xx\", true, false, \"NNS\", \"[-11.307]\"], [1683, \"\", \"northwest\", \"northwest\", \"ADV\", \"RB\", \"advmod\", \"xxxx\", true, false, \"RB\", \"[-1.8551]\"], [1693, \"\", \"of\", \"of\", \"ADP\", \"IN\", \"prep\", \"xx\", true, true, \"IN\", \"[-12.667]\"], [1696, \"\", \"G\\u00f6ppingen\", \"G\\u00f6ppingen\", \"PROPN\", \"NNP\", \"pobj\", \"Xxxxx\", true, false, \"NNP\", \"[-2.2553]\"], [1705, \"\", \".\", \".\", \"PUNCT\", \".\", \"punct\", \".\", false, false, \".\", \"[-0.076454]\"], [1707, \"\", \"He\", \"he\", \"PRON\", \"PRP\", \"nsubj\", \"Xx\", true, true, \"PRP\", \"[2.5453]\"], [1710, \"\", \"married\", \"marry\", \"VERB\", \"VBD\", \"ccomp\", \"xxxx\", true, false, \"VBD\", \"[-4.2883]\"], [1718, \"\", \"Margarete\", \"Margarete\", \"PROPN\", \"NNP\", \"compound\", \"Xxxxx\", true, false, \"NNP\", \"[-3.6081]\"], [1728, \"\", \"Gruuninger\", \"Gruuninger\", \"PROPN\", \"NNP\", \"dobj\", \"Xxxxx\", true, false, \"NNP\", \"[0.0]\"], [1739, \"\", \"(\", \"(\", \"PUNCT\", \"-LRB-\", \"punct\", \"(\", false, false, \"-LRB-\", \"[-7.8392]\"], [1740, \"\", \"1551\", \"1551\", \"NUM\", \"CD\", \"appos\", \"dddd\", false, false, \"CD\", \"[-0.4767]\"], [1744, \"\", \"-\", \"-\", \"SYM\", \"SYM\", \"punct\", \"-\", false, false, \"SYM\", \"[-5.2115]\"], [1745, \"\", \"1588\", \"1588\", \"NUM\", \"CD\", \"nummod\", \"dddd\", false, false, \"CD\", \"[-0.38574]\"], [1749, \"\", \")\", \")\", \"PUNCT\", \"-RRB-\", \"punct\", \")\", false, false, \"-RRB-\", \"[-7.9729]\"], [1751, \"\", \"in\", \"in\", \"ADP\", \"IN\", \"prep\", \"xx\", true, true, \"IN\", \"[-3.7766]\"], [1754, \"\", \"April\", \"April\", \"PROPN\", \"NNP\", \"pobj\", \"Xxxxx\", true, false, \"NNP\", \"[-5.4181]\"], [1760, \"\", \"1577\", \"1577\", \"NUM\", \"CD\", \"nummod\", \"dddd\", false, false, \"CD\", \"[-0.030498]\"], [1765, \"\", \"not\", \"not\", \"PART\", \"RB\", \"neg\", \"xxx\", true, true, \"RB\", \"[-3.3781]\"], [1769, \"\", \"long\", \"long\", \"ADV\", \"RB\", \"advmod\", \"xxxx\", true, false, \"RB\", \"[0.52571]\"], [1774, \"\", \"after\", \"after\", \"SCONJ\", \"IN\", \"mark\", \"xxxx\", true, true, \"IN\", \"[-5.9886]\"], [1780, \"\", \"he\", \"he\", \"PRON\", \"PRP\", \"nsubj\", \"xx\", true, true, \"PRP\", \"[-1.2129]\"], [1783, \"\", \"took\", \"take\", \"VERB\", \"VBD\", \"advcl\", \"xxxx\", true, false, \"VBD\", \"[3.4158]\"], [1788, \"\", \"up\", \"up\", \"ADP\", \"RP\", \"prt\", \"xx\", true, true, \"RP\", \"[1.813]\"], [1791, \"\", \"the\", \"the\", \"DET\", \"DT\", \"det\", \"xxx\", true, true, \"DT\", \"[-5.1043]\"], [1795, \"\", \"position\", \"position\", \"NOUN\", \"NN\", \"dobj\", \"xxxx\", true, false, \"NN\", \"[-0.76291]\"], [1804, \"\", \"in\", \"in\", \"ADP\", \"IN\", \"prep\", \"xx\", true, true, \"IN\", \"[-3.7766]\"], [1807, \"\", \"Backnang\", \"Backnang\", \"PROPN\", \"NNP\", \"pobj\", \"Xxxxx\", true, false, \"NNP\", \"[-0.2784]\"], [1815, \"\", \";\", \";\", \"PUNCT\", \":\", \"punct\", \";\", false, false, \":\", \"[-6.7372]\"], [1817, \"\", \"they\", \"they\", \"PRON\", \"PRP\", \"nsubj\", \"xxxx\", true, true, \"PRP\", \"[-3.2771]\"], [1822, \"\", \"had\", \"have\", \"VERB\", \"VBD\", \"ROOT\", \"xxx\", true, true, \"VBD\", \"[-8.6183]\"], [1826, \"\", \"three\", \"three\", \"NUM\", \"CD\", \"nummod\", \"xxxx\", true, true, \"CD\", \"[-6.6973]\"], [1832, \"\", \"sons\", \"son\", \"NOUN\", \"NNS\", \"dobj\", \"xxxx\", true, false, \"NNS\", \"[-4.8988]\"], [1837, \"\", \"and\", \"and\", \"CCONJ\", \"CC\", \"cc\", \"xxx\", true, true, \"CC\", \"[-3.3477]\"], [1841, \"\", \"three\", \"three\", \"NUM\", \"CD\", \"nummod\", \"xxxx\", true, true, \"CD\", \"[-6.6973]\"], [1847, \"\", \"daughters\", \"daughter\", \"NOUN\", \"NNS\", \"conj\", \"xxxx\", true, false, \"NNS\", \"[-0.93175]\"], [1857, \"\", \"but\", \"but\", \"CCONJ\", \"CC\", \"cc\", \"xxx\", true, true, \"CC\", \"[-1.2]\"], [1861, \"\", \"Margarete\", \"Margarete\", \"PROPN\", \"NNP\", \"nsubj\", \"Xxxxx\", true, false, \"NNP\", \"[-3.6081]\"], [1871, \"\", \"died\", \"die\", \"VERB\", \"VBD\", \"conj\", \"xxxx\", true, false, \"VBD\", \"[-5.7729]\"], [1876, \"\", \"due\", \"due\", \"ADJ\", \"JJ\", \"prep\", \"xxx\", true, true, \"JJ\", \"[0.1739]\"], [1880, \"\", \"to\", \"to\", \"ADP\", \"IN\", \"pcomp\", \"xx\", true, true, \"IN\", \"[-1.6487]\"], [1883, \"\", \"complications\", \"complication\", \"NOUN\", \"NNS\", \"pobj\", \"xxxx\", true, false, \"NNS\", \"[0.82103]\"], [1897, \"\", \"with\", \"with\", \"ADP\", \"IN\", \"prep\", \"xxxx\", true, true, \"IN\", \"[-7.3029]\"], [1902, \"\", \"the\", \"the\", \"DET\", \"DT\", \"det\", \"xxx\", true, true, \"DT\", \"[-5.1043]\"], [1906, \"\", \"birth\", \"birth\", \"NOUN\", \"NN\", \"pobj\", \"xxxx\", true, false, \"NN\", \"[0.21282]\"], [1912, \"\", \"of\", \"of\", \"ADP\", \"IN\", \"prep\", \"xx\", true, true, \"IN\", \"[-12.667]\"], [1915, \"\", \"their\", \"their\", \"PRON\", \"PRP$\", \"poss\", \"xxxx\", true, true, \"PRP$\", \"[-3.8402]\"], [1921, \"\", \"sixth\", \"sixth\", \"ADJ\", \"JJ\", \"amod\", \"xxxx\", true, false, \"JJ\", \"[-2.587]\"], [1927, \"\", \"child\", \"child\", \"NOUN\", \"NN\", \"pobj\", \"xxxx\", true, false, \"NN\", \"[1.2786]\"], [1932, \"\", \".\", \".\", \"PUNCT\", \".\", \"punct\", \".\", false, false, \".\", \"[-0.076454]\"], [1934, \"\", \"M\\u00e4stlin\", \"M\\u00e4stlin\", \"PROPN\", \"NNP\", \"nsubj\", \"Xxxxx\", true, false, \"NNP\", \"[0.0]\"], [1942, \"\", \"then\", \"then\", \"ADV\", \"RB\", \"advmod\", \"xxxx\", true, true, \"RB\", \"[-2.8267]\"], [1947, \"\", \"married\", \"marry\", \"VERB\", \"VBD\", \"ccomp\", \"xxxx\", true, false, \"VBD\", \"[-4.2883]\"], [1955, \"\", \"Margarete\", \"Margarete\", \"PROPN\", \"NNP\", \"compound\", \"Xxxxx\", true, false, \"NNP\", \"[-3.6081]\"], [1965, \"\", \"Burkhardt\", \"Burkhardt\", \"PROPN\", \"NNP\", \"dobj\", \"Xxxxx\", true, false, \"NNP\", \"[-1.1848]\"], [1974, \"\", \",\", \",\", \"PUNCT\", \",\", \"punct\", \",\", false, false, \",\", \"[-3.3899]\"], [1976, \"\", \"daughter\", \"daughter\", \"NOUN\", \"NN\", \"appos\", \"xxxx\", true, false, \"NN\", \"[0.084459]\"], [1985, \"\", \"of\", \"of\", \"ADP\", \"IN\", \"prep\", \"xx\", true, true, \"IN\", \"[-12.667]\"], [1988, \"\", \"a\", \"a\", \"DET\", \"DT\", \"det\", \"x\", true, true, \"DT\", \"[-9.3629]\"], [1990, \"\", \"professor\", \"professor\", \"NOUN\", \"NN\", \"pobj\", \"xxxx\", true, false, \"NN\", \"[-1.2467]\"], [2000, \"\", \"at\", \"at\", \"ADP\", \"IN\", \"prep\", \"xx\", true, true, \"IN\", \"[3.8102]\"], [2003, \"\", \"T\\u00fcbingen\", \"T\\u00fcbingen\", \"PROPN\", \"NNP\", \"pobj\", \"Xxxxx\", true, false, \"NNP\", \"[-1.9794]\"], [2011, \"\", \";\", \";\", \"PUNCT\", \":\", \"punct\", \";\", false, false, \":\", \"[-6.7372]\"], [2013, \"\", \"they\", \"they\", \"PRON\", \"PRP\", \"nsubj\", \"xxxx\", true, true, \"PRP\", \"[-3.2771]\"], [2018, \"\", \"had\", \"have\", \"VERB\", \"VBD\", \"ROOT\", \"xxx\", true, true, \"VBD\", \"[-8.6183]\"], [2022, \"\", \"eight\", \"eight\", \"NUM\", \"CD\", \"nummod\", \"xxxx\", true, true, \"CD\", \"[-4.8969]\"], [2028, \"\", \"children\", \"child\", \"NOUN\", \"NNS\", \"dobj\", \"xxxx\", true, false, \"NNS\", \"[-0.92249]\"], [2036, \"\", \".\", \".\", \"PUNCT\", \".\", \"punct\", \".\", false, false, \".\", \"[-0.076454]\"], [2037, \"\", \"\\\\n\\\\n\", \"\\\\n\\\\n\", \"SPACE\", \"_SP\", \"dep\", \"\\\\n\\\\n\", false, false, \"_SP\", \"[0.0]\"], [2039, \"\", \"M\\u00e4stlin\", \"M\\u00e4stlin\", \"PROPN\", \"NNP\", \"nsubj\", \"Xxxxx\", true, false, \"NNP\", \"[0.0]\"], [2047, \"\", \"is\", \"be\", \"AUX\", \"VBZ\", \"ccomp\", \"xx\", true, true, \"VBZ\", \"[1.475]\"], [2050, \"\", \"famous\", \"famous\", \"ADJ\", \"JJ\", \"acomp\", \"xxxx\", true, false, \"JJ\", \"[-0.72326]\"], [2057, \"\", \"for\", \"for\", \"ADP\", \"IN\", \"prep\", \"xxx\", true, true, \"IN\", \"[-7.0781]\"], [2061, \"\", \"his\", \"his\", \"PRON\", \"PRP$\", \"poss\", \"xxx\", true, true, \"PRP$\", \"[-3.2153]\"], [2065, \"\", \"excellent\", \"excellent\", \"ADJ\", \"JJ\", \"amod\", \"xxxx\", true, false, \"JJ\", \"[-1.9673]\"], [2074, \"\", \",\", \",\", \"PUNCT\", \",\", \"punct\", \",\", false, false, \",\", \"[-3.3899]\"], [2076, \"\", \"very\", \"very\", \"ADV\", \"RB\", \"advmod\", \"xxxx\", true, true, \"RB\", \"[0.42554]\"], [2081, \"\", \"accurate\", \"accurate\", \"ADJ\", \"JJ\", \"pobj\", \"xxxx\", true, false, \"JJ\", \"[0.52765]\"], [2089, \"\", \",\", \",\", \"PUNCT\", \",\", \"punct\", \",\", false, false, \",\", \"[-3.3899]\"], [2091, \"\", \"observations\", \"observation\", \"NOUN\", \"NNS\", \"nsubj\", \"xxxx\", true, false, \"NNS\", \"[-0.73941]\"], [2104, \"\", \"of\", \"of\", \"ADP\", \"IN\", \"prep\", \"xx\", true, true, \"IN\", \"[-12.667]\"], [8119, \"\", \"Earth\", \"Earth\", \"PROPN\", \"NNP\", \"poss\", \"Xxxxx\", true, false, \"NNP\", \"[-0.76387]\"], [8124, \"\", \"'s\", \"'s\", \"PART\", \"POS\", \"case\", \"'x\", false, true, \"POS\", \"[3.3163]\"], [8127, \"\", \"mobility\", \"mobility\", \"NOUN\", \"NN\", \"pobj\", \"xxxx\", true, false, \"NN\", \"[-0.10837]\"], [8135, \"\", \",\", \",\", \"PUNCT\", \",\", \"punct\", \",\", false, false, \",\", \"[-3.3899]\"], [8137, \"\", \"since\", \"since\", \"SCONJ\", \"IN\", \"prep\", \"xxxx\", true, true, \"IN\", \"[-3.5978]\"], [8143, \"\", \"indeed\", \"indeed\", \"ADV\", \"RB\", \"pcomp\", \"xxxx\", true, true, \"RB\", \"[-0.13902]\"], [8149, \"\", \",\", \",\", \"PUNCT\", \",\", \"punct\", \",\", false, false, \",\", \"[-3.3899]\"], [8151, \"\", \"it\", \"it\", \"PRON\", \"PRP\", \"nsubj\", \"xx\", true, true, \"PRP\", \"[6.5268]\"], [8154, \"\", \"not\", \"not\", \"PART\", \"RB\", \"preconj\", \"xxx\", true, true, \"RB\", \"[-3.3781]\"], [8158, \"\", \"only\", \"only\", \"ADV\", \"RB\", \"advmod\", \"xxxx\", true, true, \"RB\", \"[-3.9003]\"], [8163, \"\", \"satisfied\", \"satisfy\", \"VERB\", \"VBD\", \"ROOT\", \"xxxx\", true, false, \"VBD\", \"[-2.9443]\"], [8173, \"\", \"the\", \"the\", \"DET\", \"DT\", \"det\", \"xxx\", true, true, \"DT\", \"[-5.1043]\"], [8177, \"\", \"phenomena\", \"phenomenon\", \"NOUN\", \"NNS\", \"dobj\", \"xxxx\", true, false, \"NNS\", \"[-0.39815]\"], [8187, \"\", \"very\", \"very\", \"ADV\", \"RB\", \"advmod\", \"xxxx\", true, true, \"RB\", \"[0.42554]\"], [8192, \"\", \"well\", \"well\", \"ADV\", \"RB\", \"advmod\", \"xxxx\", true, true, \"RB\", \"[0.54565]\"], [8197, \"\", \"but\", \"but\", \"CCONJ\", \"CC\", \"cc\", \"xxx\", true, true, \"CC\", \"[-1.2]\"], [8201, \"\", \"it\", \"it\", \"PRON\", \"PRP\", \"nsubj\", \"xx\", true, true, \"PRP\", \"[6.5268]\"], [8204, \"\", \"did\", \"do\", \"AUX\", \"VBD\", \"aux\", \"xxx\", true, true, \"VBD\", \"[-0.34305]\"], [8207, \"\", \"n't\", \"not\", \"PART\", \"RB\", \"neg\", \"x'x\", false, true, \"RB\", \"[-0.99597]\"], [8211, \"\", \"lead\", \"lead\", \"VERB\", \"VB\", \"conj\", \"xxxx\", true, false, \"VB\", \"[1.1973]\"], [8216, \"\", \"to\", \"to\", \"ADP\", \"IN\", \"prep\", \"xx\", true, true, \"IN\", \"[-1.6487]\"], [8219, \"\", \"anything\", \"anything\", \"PRON\", \"NN\", \"pobj\", \"xxxx\", true, true, \"NN\", \"[0.3198]\"], [8228, \"\", \"absurd\", \"absurd\", \"ADJ\", \"JJ\", \"amod\", \"xxxx\", true, false, \"JJ\", \"[1.1789]\"], [8234, \"\", \".\", \".\", \"PUNCT\", \".\", \"punct\", \".\", false, false, \".\", \"[-0.076454]\"], [8235, \"\", \"\\\\n\\\\n\", \"\\\\n\\\\n\", \"SPACE\", \"_SP\", \"dep\", \"\\\\n\\\\n\", false, false, \"_SP\", \"[0.0]\"], [8237, \"\", \"In\", \"in\", \"ADP\", \"IN\", \"prep\", \"Xx\", true, true, \"IN\", \"[-9.3107]\"], [8240, \"\", \"fact\", \"fact\", \"NOUN\", \"NN\", \"pobj\", \"xxxx\", true, false, \"NN\", \"[-0.76915]\"], [8244, \"\", \",\", \",\", \"PUNCT\", \",\", \"punct\", \",\", false, false, \",\", \"[-3.3899]\"], [8246, \"\", \"if\", \"if\", \"SCONJ\", \"IN\", \"mark\", \"xx\", true, true, \"IN\", \"[-2.777]\"], [8249, \"\", \"anyone\", \"anyone\", \"PRON\", \"NN\", \"nsubj\", \"xxxx\", true, true, \"NN\", \"[0.46805]\"], [8256, \"\", \"would\", \"would\", \"AUX\", \"MD\", \"aux\", \"xxxx\", true, true, \"MD\", \"[-2.2396]\"], [8262, \"\", \"straighten\", \"straighten\", \"VERB\", \"VB\", \"advcl\", \"xxxx\", true, false, \"VB\", \"[-1.148]\"], [8273, \"\", \"out\", \"out\", \"ADP\", \"RP\", \"prt\", \"xxx\", true, true, \"RP\", \"[-1.0172]\"], [8277, \"\", \"the\", \"the\", \"DET\", \"DT\", \"det\", \"xxx\", true, true, \"DT\", \"[-5.1043]\"], [8281, \"\", \"common\", \"common\", \"ADJ\", \"JJ\", \"amod\", \"xxxx\", true, false, \"JJ\", \"[-1.8334]\"], [8288, \"\", \"hypotheses\", \"hypothesis\", \"NOUN\", \"NNS\", \"dobj\", \"xxxx\", true, false, \"NNS\", \"[-0.54827]\"], [8299, \"\", \"so\", \"so\", \"SCONJ\", \"IN\", \"mark\", \"xx\", true, true, \"IN\", \"[-1.8443]\"], [8302, \"\", \"that\", \"that\", \"SCONJ\", \"IN\", \"mark\", \"xxxx\", true, true, \"IN\", \"[-1.1026]\"], [8307, \"\", \"they\", \"they\", \"PRON\", \"PRP\", \"nsubj\", \"xxxx\", true, true, \"PRP\", \"[-3.2771]\"], [8312, \"\", \"would\", \"would\", \"AUX\", \"MD\", \"aux\", \"xxxx\", true, true, \"MD\", \"[-2.2396]\"], [8318, \"\", \"agree\", \"agree\", \"VERB\", \"VB\", \"advcl\", \"xxxx\", true, false, \"VB\", \"[2.4612]\"], [8324, \"\", \"with\", \"with\", \"ADP\", \"IN\", \"prep\", \"xxxx\", true, true, \"IN\", \"[-7.3029]\"], [8329, \"\", \"the\", \"the\", \"DET\", \"DT\", \"det\", \"xxx\", true, true, \"DT\", \"[-5.1043]\"], [8333, \"\", \"phenomena\", \"phenomenon\", \"NOUN\", \"NNS\", \"pobj\", \"xxxx\", true, false, \"NNS\", \"[-0.39815]\"], [8343, \"\", \"and\", \"and\", \"CCONJ\", \"CC\", \"cc\", \"xxx\", true, true, \"CC\", \"[-3.3477]\"], [8347, \"\", \"allow\", \"allow\", \"VERB\", \"VB\", \"conj\", \"xxxx\", true, false, \"VB\", \"[1.484]\"], [8353, \"\", \"no\", \"no\", \"DET\", \"DT\", \"det\", \"xx\", true, true, \"DT\", \"[1.4541]\"], [8356, \"\", \"inconsistencies\", \"inconsistency\", \"NOUN\", \"NNS\", \"dobj\", \"xxxx\", true, false, \"NNS\", \"[-1.4237]\"], [8371, \"\", \",\", \",\", \"PUNCT\", \",\", \"punct\", \",\", false, false, \",\", \"[-3.3899]\"], [8373, \"\", \"then\", \"then\", \"ADV\", \"RB\", \"advmod\", \"xxxx\", true, true, \"RB\", \"[-2.8267]\"], [8378, \"\", \"I\", \"I\", \"PRON\", \"PRP\", \"nsubj\", \"X\", true, true, \"PRP\", \"[-1.8607]\"], [8380, \"\", \"would\", \"would\", \"AUX\", \"MD\", \"aux\", \"xxxx\", true, true, \"MD\", \"[-2.2396]\"], [8386, \"\", \"gratefully\", \"gratefully\", \"ADV\", \"RB\", \"advmod\", \"xxxx\", true, false, \"RB\", \"[1.6945]\"], [8397, \"\", \"trust\", \"trust\", \"VERB\", \"VB\", \"ccomp\", \"xxxx\", true, false, \"VB\", \"[-0.36242]\"], [8403, \"\", \"him\", \"he\", \"PRON\", \"PRP\", \"dobj\", \"xxx\", true, true, \"PRP\", \"[-0.99159]\"], [8406, \"\", \";\", \";\", \"PUNCT\", \":\", \"punct\", \";\", false, false, \":\", \"[-6.7372]\"], [8408, \"\", \"clearly\", \"clearly\", \"ADV\", \"RB\", \"advmod\", \"xxxx\", true, false, \"RB\", \"[-0.74373]\"], [8416, \"\", \"he\", \"he\", \"PRON\", \"PRP\", \"nsubj\", \"xx\", true, true, \"PRP\", \"[-1.2129]\"], [8419, \"\", \"would\", \"would\", \"AUX\", \"MD\", \"aux\", \"xxxx\", true, true, \"MD\", \"[-2.2396]\"], [8425, \"\", \"bring\", \"bring\", \"VERB\", \"VB\", \"ROOT\", \"xxxx\", true, false, \"VB\", \"[-2.9841]\"], [8431, \"\", \"very\", \"very\", \"ADV\", \"RB\", \"advmod\", \"xxxx\", true, true, \"RB\", \"[0.42554]\"], [8436, \"\", \"many\", \"many\", \"ADJ\", \"JJ\", \"dobj\", \"xxxx\", true, true, \"JJ\", \"[-1.2656]\"], [8441, \"\", \"to\", \"to\", \"ADP\", \"IN\", \"prep\", \"xx\", true, true, \"IN\", \"[-1.6487]\"], [8444, \"\", \"his\", \"his\", \"PRON\", \"PRP$\", \"poss\", \"xxx\", true, true, \"PRP$\", \"[-3.2153]\"], [8448, \"\", \"views\", \"view\", \"NOUN\", \"NNS\", \"pobj\", \"xxxx\", true, false, \"NNS\", \"[1.1795]\"], [8453, \"\", \".\", \".\", \"PUNCT\", \".\", \"punct\", \".\", false, false, \".\", \"[-0.076454]\"], [8455, \"\", \"But\", \"but\", \"CCONJ\", \"CC\", \"cc\", \"Xxx\", true, true, \"CC\", \"[2.6836]\"], [8459, \"\", \"I\", \"I\", \"PRON\", \"PRP\", \"nsubj\", \"X\", true, true, \"PRP\", \"[-1.8607]\"], [8461, \"\", \"see\", \"see\", \"VERB\", \"VBP\", \"ROOT\", \"xxx\", true, true, \"VBP\", \"[3.359]\"], [8465, \"\", \"that\", \"that\", \"SCONJ\", \"IN\", \"mark\", \"xxxx\", true, true, \"IN\", \"[-1.1026]\"], [8470, \"\", \"some\", \"some\", \"PRON\", \"DT\", \"nsubj\", \"xxxx\", true, true, \"DT\", \"[-0.91138]\"], [8474, \"\", \",\", \",\", \"PUNCT\", \",\", \"punct\", \",\", false, false, \",\", \"[-3.3899]\"], [8476, \"\", \"even\", \"even\", \"ADV\", \"RB\", \"advmod\", \"xxxx\", true, true, \"RB\", \"[-1.0625]\"], [8481, \"\", \"very\", \"very\", \"ADV\", \"RB\", \"advmod\", \"xxxx\", true, true, \"RB\", \"[0.42554]\"], [8486, \"\", \"outstanding\", \"outstanding\", \"ADJ\", \"JJ\", \"amod\", \"xxxx\", true, false, \"JJ\", \"[-1.6609]\"], [8498, \"\", \"mathematicians\", \"mathematician\", \"NOUN\", \"NNS\", \"appos\", \"xxxx\", true, false, \"NNS\", \"[-2.4878]\"], [8512, \"\", \",\", \",\", \"PUNCT\", \",\", \"punct\", \",\", false, false, \",\", \"[-3.3899]\"], [8514, \"\", \"have\", \"have\", \"AUX\", \"VBP\", \"aux\", \"xxxx\", true, true, \"VBP\", \"[-2.2659]\"], [8519, \"\", \"laboured\", \"labour\", \"VERB\", \"VBN\", \"ccomp\", \"xxxx\", true, false, \"VBN\", \"[-2.2504]\"], [8528, \"\", \"on\", \"on\", \"ADP\", \"IN\", \"prep\", \"xx\", true, true, \"IN\", \"[-5.1644]\"], [8531, \"\", \"this\", \"this\", \"PRON\", \"DT\", \"pobj\", \"xxxx\", true, true, \"DT\", \"[2.179]\"], [8536, \"\", \"yet\", \"yet\", \"ADV\", \"RB\", \"advmod\", \"xxx\", true, true, \"RB\", \"[1.7719]\"], [8539, \"\", \",\", \",\", \"PUNCT\", \",\", \"punct\", \",\", false, false, \",\", \"[-3.3899]\"], [8541, \"\", \"in\", \"in\", \"ADP\", \"IN\", \"prep\", \"xx\", true, true, \"IN\", \"[-3.7766]\"], [8544, \"\", \"the\", \"the\", \"DET\", \"DT\", \"det\", \"xxx\", true, true, \"DT\", \"[-5.1043]\"], [8548, \"\", \"end\", \"end\", \"NOUN\", \"NN\", \"pobj\", \"xxx\", true, false, \"NN\", \"[-5.9623]\"], [8551, \"\", \",\", \",\", \"PUNCT\", \",\", \"punct\", \",\", false, false, \",\", \"[-3.3899]\"], [8553, \"\", \"without\", \"without\", \"ADP\", \"IN\", \"prep\", \"xxxx\", true, true, \"IN\", \"[-3.9888]\"], [8561, \"\", \"results\", \"result\", \"NOUN\", \"NNS\", \"pobj\", \"xxxx\", true, false, \"NNS\", \"[2.6504]\"], [8568, \"\", \".\", \".\", \"PUNCT\", \".\", \"punct\", \".\", false, false, \".\", \"[-0.076454]\"], [8570, \"\", \"Therefore\", \"therefore\", \"ADV\", \"RB\", \"advmod\", \"Xxxxx\", true, true, \"RB\", \"[-2.3251]\"], [8579, \"\", \",\", \",\", \"PUNCT\", \",\", \"punct\", \",\", false, false, \",\", \"[-3.3899]\"], [8581, \"\", \"I\", \"I\", \"PRON\", \"PRP\", \"nsubj\", \"X\", true, true, \"PRP\", \"[-1.8607]\"], [8583, \"\", \"think\", \"think\", \"VERB\", \"VBP\", \"ROOT\", \"xxxx\", true, false, \"VBP\", \"[-0.71683]\"], [8589, \"\", \"that\", \"that\", \"SCONJ\", \"IN\", \"mark\", \"xxxx\", true, true, \"IN\", \"[-1.1026]\"], [8594, \"\", \"unless\", \"unless\", \"SCONJ\", \"IN\", \"mark\", \"xxxx\", true, true, \"IN\", \"[-0.15764]\"], [8601, \"\", \"the\", \"the\", \"DET\", \"DT\", \"det\", \"xxx\", true, true, \"DT\", \"[-5.1043]\"], [8605, \"\", \"common\", \"common\", \"ADJ\", \"JJ\", \"amod\", \"xxxx\", true, false, \"JJ\", \"[-1.8334]\"], [8612, \"\", \"hypotheses\", \"hypothesis\", \"NOUN\", \"NNS\", \"nsubjpass\", \"xxxx\", true, false, \"NNS\", \"[-0.54827]\"], [8623, \"\", \"are\", \"be\", \"AUX\", \"VBP\", \"auxpass\", \"xxx\", true, true, \"VBP\", \"[-7.1395]\"], [8627, \"\", \"reformed\", \"reform\", \"VERB\", \"VBN\", \"advcl\", \"xxxx\", true, false, \"VBN\", \"[-4.2668]\"], [8636, \"\", \"(\", \"(\", \"PUNCT\", \"-LRB-\", \"punct\", \"(\", false, false, \"-LRB-\", \"[-7.8392]\"], [8637, \"\", \"a\", \"a\", \"DET\", \"DT\", \"det\", \"x\", true, true, \"DT\", \"[-9.3629]\"], [8639, \"\", \"task\", \"task\", \"NOUN\", \"NN\", \"npadvmod\", \"xxxx\", true, false, \"NN\", \"[1.6347]\"], [8644, \"\", \"that\", \"that\", \"PRON\", \"WDT\", \"pobj\", \"xxxx\", true, true, \"WDT\", \"[-1.1026]\"], [8649, \"\", \"I\", \"I\", \"PRON\", \"PRP\", \"nsubj\", \"X\", true, true, \"PRP\", \"[-1.8607]\"], [8651, \"\", \"am\", \"be\", \"AUX\", \"VBP\", \"relcl\", \"xx\", true, true, \"VBP\", \"[8.3869]\"], [8654, \"\", \"not\", \"not\", \"PART\", \"RB\", \"neg\", \"xxx\", true, true, \"RB\", \"[-3.3781]\"], [8658, \"\", \"up\", \"up\", \"ADP\", \"IN\", \"prep\", \"xx\", true, true, \"IN\", \"[1.813]\"], [8661, \"\", \"to\", \"to\", \"PART\", \"TO\", \"prep\", \"xx\", true, true, \"TO\", \"[-1.6487]\"], [8664, \"\", \"because\", \"because\", \"SCONJ\", \"IN\", \"prep\", \"xxxx\", true, true, \"IN\", \"[-2.6093]\"], [8672, \"\", \"of\", \"of\", \"ADP\", \"IN\", \"pcomp\", \"xx\", true, true, \"IN\", \"[-12.667]\"], [8675, \"\", \"my\", \"my\", \"PRON\", \"PRP$\", \"poss\", \"xx\", true, true, \"PRP$\", \"[7.0139]\"], [8678, \"\", \"inadequate\", \"inadequate\", \"ADJ\", \"JJ\", \"amod\", \"xxxx\", true, false, \"JJ\", \"[0.011354]\"], [8689, \"\", \"abilities\", \"ability\", \"NOUN\", \"NNS\", \"pobj\", \"xxxx\", true, false, \"NNS\", \"[1.7467]\"], [8698, \"\", \")\", \")\", \"PUNCT\", \"-RRB-\", \"punct\", \")\", false, false, \"-RRB-\", \"[-7.9729]\"], [8699, \"\", \",\", \",\", \"PUNCT\", \",\", \"punct\", \",\", false, false, \",\", \"[-3.3899]\"], [8701, \"\", \"I\", \"I\", \"PRON\", \"PRP\", \"nsubj\", \"X\", true, true, \"PRP\", \"[-1.8607]\"], [8703, \"\", \"will\", \"will\", \"AUX\", \"MD\", \"aux\", \"xxxx\", true, true, \"MD\", \"[5.7965]\"], [8708, \"\", \"accept\", \"accept\", \"VERB\", \"VB\", \"ccomp\", \"xxxx\", true, false, \"VB\", \"[-1.2043]\"], [8715, \"\", \"the\", \"the\", \"DET\", \"DT\", \"det\", \"xxx\", true, true, \"DT\", \"[-5.1043]\"], [8719, \"\", \"hypotheses\", \"hypothesis\", \"NOUN\", \"NNS\", \"dobj\", \"xxxx\", true, false, \"NNS\", \"[-0.54827]\"], [8730, \"\", \"and\", \"and\", \"CCONJ\", \"CC\", \"cc\", \"xxx\", true, true, \"CC\", \"[-3.3477]\"], [8734, \"\", \"opinion\", \"opinion\", \"NOUN\", \"NN\", \"conj\", \"xxxx\", true, false, \"NN\", \"[-0.38969]\"], [8742, \"\", \"of\", \"of\", \"ADP\", \"IN\", \"prep\", \"xx\", true, true, \"IN\", \"[-12.667]\"], [8745, \"\", \"Copernicus\", \"Copernicus\", \"PROPN\", \"NNP\", \"pobj\", \"Xxxxx\", true, false, \"NNP\", \"[-0.34364]\"], [8756, \"\", \"-\", \"-\", \"PUNCT\", \"HYPH\", \"punct\", \"-\", false, false, \"HYPH\", \"[-5.2115]\"], [8758, \"\", \"after\", \"after\", \"ADP\", \"IN\", \"prep\", \"xxxx\", true, true, \"IN\", \"[-5.9886]\"], [8764, \"\", \"Ptolemy\", \"Ptolemy\", \"PROPN\", \"NNP\", \"pobj\", \"Xxxxx\", true, false, \"NNP\", \"[-2.4374]\"], [8771, \"\", \",\", \",\", \"PUNCT\", \",\", \"punct\", \",\", false, false, \",\", \"[-3.3899]\"], [8773, \"\", \"the\", \"the\", \"DET\", \"DT\", \"det\", \"xxx\", true, true, \"DT\", \"[-5.1043]\"], [8777, \"\", \"prince\", \"prince\", \"NOUN\", \"NN\", \"appos\", \"xxxx\", true, false, \"NN\", \"[-2.3312]\"], [8784, \"\", \"of\", \"of\", \"ADP\", \"IN\", \"prep\", \"xx\", true, true, \"IN\", \"[-12.667]\"], [8787, \"\", \"all\", \"all\", \"DET\", \"DT\", \"det\", \"xxx\", true, true, \"DT\", \"[-2.0123]\"], [8791, \"\", \"Astronomers\", \"astronomer\", \"NOUN\", \"NNS\", \"pobj\", \"Xxxxx\", true, false, \"NNS\", \"[-2.1195]\"], [8802, \"\", \".\", \".\", \"PUNCT\", \".\", \"punct\", \".\", false, false, \".\", \"[-0.076454]\"], [8803, \"\", \"There\", \"there\", \"PRON\", \"EX\", \"expl\", \"Xxxxx\", true, true, \"EX\", \"[1.4265]\"], [8809, \"\", \"are\", \"be\", \"VERB\", \"VBP\", \"ROOT\", \"xxx\", true, true, \"VBP\", \"[-7.1395]\"], [8813, \"\", \"further\", \"further\", \"ADJ\", \"JJ\", \"amod\", \"xxxx\", true, true, \"JJ\", \"[1.9851]\"], [8821, \"\", \"annotations\", \"annotation\", \"NOUN\", \"NNS\", \"attr\", \"xxxx\", true, false, \"NNS\", \"[-1.6331]\"], [8833, \"\", \"written\", \"write\", \"VERB\", \"VBN\", \"acl\", \"xxxx\", true, false, \"VBN\", \"[-2.9142]\"], [8841, \"\", \"by\", \"by\", \"ADP\", \"IN\", \"agent\", \"xx\", true, true, \"IN\", \"[-13.597]\"], [8844, \"\", \"M\\u00e4stlin\", \"M\\u00e4stlin\", \"PROPN\", \"NNP\", \"pobj\", \"Xxxxx\", true, false, \"NNP\", \"[0.0]\"], [8852, \"\", \"[\", \"[\", \"X\", \"XX\", \"punct\", \"[\", false, false, \"XX\", \"[11.177]\"], [8853, \"\", \"3\", \"3\", \"NUM\", \"CD\", \"appos\", \"d\", false, false, \"CD\", \"[-2.3824]\"], [8854, \"\", \"]\", \"]\", \"PUNCT\", \"-RRB-\", \"punct\", \"]\", false, false, \"-RRB-\", \"[10.212]\"], [8856, \"\", \"which\", \"which\", \"PRON\", \"WDT\", \"nsubj\", \"xxxx\", true, true, \"WDT\", \"[-3.2023]\"], [8862, \"\", \"are\", \"be\", \"AUX\", \"VBP\", \"relcl\", \"xxx\", true, true, \"VBP\", \"[-7.1395]\"], [8866, \"\", \"very\", \"very\", \"ADV\", \"RB\", \"advmod\", \"xxxx\", true, true, \"RB\", \"[0.42554]\"], [8871, \"\", \"interesting\", \"interesting\", \"ADJ\", \"JJ\", \"acomp\", \"xxxx\", true, false, \"JJ\", \"[0.76617]\"], [8882, \"\", \".\", \".\", \"PUNCT\", \".\", \"punct\", \".\", false, false, \".\", \"[-0.076454]\"], [8884, \"\", \"On\", \"on\", \"ADP\", \"IN\", \"prep\", \"Xx\", true, true, \"IN\", \"[-4.0184]\"], [8887, \"\", \"the\", \"the\", \"DET\", \"DT\", \"det\", \"xxx\", true, true, \"DT\", \"[-5.1043]\"], [8891, \"\", \"back\", \"back\", \"NOUN\", \"NN\", \"pobj\", \"xxxx\", true, true, \"NN\", \"[2.2082]\"], [8896, \"\", \"of\", \"of\", \"ADP\", \"IN\", \"prep\", \"xx\", true, true, \"IN\", \"[-12.667]\"], [8899, \"\", \"the\", \"the\", \"DET\", \"DT\", \"det\", \"xxx\", true, true, \"DT\", \"[-5.1043]\"], [8903, \"\", \"title\", \"title\", \"NOUN\", \"NN\", \"compound\", \"xxxx\", true, false, \"NN\", \"[-0.72191]\"], [8909, \"\", \"page\", \"page\", \"NOUN\", \"NN\", \"pobj\", \"xxxx\", true, false, \"NN\", \"[7.1325]\"], [8914, \"\", \"of\", \"of\", \"ADP\", \"IN\", \"prep\", \"xx\", true, true, \"IN\", \"[-12.667]\"], [8917, \"\", \"De\", \"De\", \"PROPN\", \"NNP\", \"compound\", \"Xx\", true, false, \"NNP\", \"[-2.2394]\"], [8920, \"\", \"revolutionibus\", \"revolutionibus\", \"NOUN\", \"NN\", \"pobj\", \"xxxx\", true, false, \"NN\", \"[-1.6528]\"], [8935, \"\", \"is\", \"be\", \"AUX\", \"VBZ\", \"ccomp\", \"xx\", true, true, \"VBZ\", \"[1.475]\"], [8938, \"\", \"the\", \"the\", \"DET\", \"DT\", \"det\", \"xxx\", true, true, \"DT\", \"[-5.1043]\"], [8942, \"\", \"infamous\", \"infamous\", \"ADJ\", \"JJ\", \"amod\", \"xxxx\", true, false, \"JJ\", \"[-1.6263]\"], [8951, \"\", \"notice\", \"notice\", \"NOUN\", \"NN\", \"attr\", \"xxxx\", true, false, \"NN\", \"[0.82918]\"], [8958, \"\", \"which\", \"which\", \"PRON\", \"WDT\", \"nsubj\", \"xxxx\", true, true, \"WDT\", \"[-3.2023]\"], [8964, \"\", \"states\", \"state\", \"VERB\", \"VBZ\", \"relcl\", \"xxxx\", true, false, \"VBZ\", \"[-4.2687]\"], [8971, \"\", \"that\", \"that\", \"SCONJ\", \"IN\", \"mark\", \"xxxx\", true, true, \"IN\", \"[-1.1026]\"], [8976, \"\", \"\\\"\", \"\\\"\", \"PUNCT\", \"``\", \"punct\", \"\\\"\", false, false, \"``\", \"[-0.53216]\"], [8977, \"\", \"...\", \"...\", \"PUNCT\", \":\", \"punct\", \"...\", false, false, \":\", \"[0.57913]\"], [8981, \"\", \"these\", \"these\", \"DET\", \"DT\", \"det\", \"xxxx\", true, true, \"DT\", \"[-2.3913]\"], [8987, \"\", \"hypotheses\", \"hypothesis\", \"NOUN\", \"NNS\", \"nsubj\", \"xxxx\", true, false, \"NNS\", \"[-0.54827]\"], [8998, \"\", \"need\", \"need\", \"AUX\", \"VBP\", \"aux\", \"xxxx\", true, false, \"VBP\", \"[7.7307]\"], [9003, \"\", \"not\", \"not\", \"PART\", \"RB\", \"neg\", \"xxx\", true, true, \"RB\", \"[-3.3781]\"], [9007, \"\", \"be\", \"be\", \"AUX\", \"VB\", \"ccomp\", \"xx\", true, true, \"VB\", \"[-9.3526]\"], [9010, \"\", \"true\", \"true\", \"ADJ\", \"JJ\", \"acomp\", \"xxxx\", true, false, \"JJ\", \"[-0.047425]\"], [9015, \"\", \"nor\", \"nor\", \"CCONJ\", \"CC\", \"cc\", \"xxx\", true, true, \"CC\", \"[-5.6326]\"], [9019, \"\", \"even\", \"even\", \"ADV\", \"RB\", \"advmod\", \"xxxx\", true, true, \"RB\", \"[-1.0625]\"], [9024, \"\", \"probable\", \"probable\", \"ADJ\", \"JJ\", \"conj\", \"xxxx\", true, false, \"JJ\", \"[-1.2984]\"], [9032, \"\", \";\", \";\", \"PUNCT\", \":\", \"punct\", \";\", false, false, \":\", \"[-6.7372]\"], [9034, \"\", \"it\", \"it\", \"PRON\", \"PRP\", \"nsubj\", \"xx\", true, true, \"PRP\", \"[6.5268]\"], [9037, \"\", \"is\", \"be\", \"AUX\", \"VBZ\", \"ROOT\", \"xx\", true, true, \"VBZ\", \"[1.475]\"], [9040, \"\", \"sufficient\", \"sufficient\", \"ADJ\", \"JJ\", \"acomp\", \"xxxx\", true, false, \"JJ\", \"[-0.30338]\"], [9051, \"\", \"if\", \"if\", \"SCONJ\", \"IN\", \"mark\", \"xx\", true, true, \"IN\", \"[-2.777]\"], [9054, \"\", \"the\", \"the\", \"DET\", \"DT\", \"det\", \"xxx\", true, true, \"DT\", \"[-5.1043]\"], [9058, \"\", \"calculations\", \"calculation\", \"NOUN\", \"NNS\", \"nsubj\", \"xxxx\", true, false, \"NNS\", \"[-0.4254]\"], [9071, \"\", \"agree\", \"agree\", \"VERB\", \"VBP\", \"advcl\", \"xxxx\", true, false, \"VBP\", \"[2.4612]\"], [9077, \"\", \"with\", \"with\", \"ADP\", \"IN\", \"prep\", \"xxxx\", true, true, \"IN\", \"[-7.3029]\"], [9082, \"\", \"the\", \"the\", \"DET\", \"DT\", \"det\", \"xxx\", true, true, \"DT\", \"[-5.1043]\"], [9086, \"\", \"observations\", \"observation\", \"NOUN\", \"NNS\", \"pobj\", \"xxxx\", true, false, \"NNS\", \"[-0.73941]\"], [9098, \"\", \".\", \".\", \"PUNCT\", \".\", \"punct\", \".\", false, false, \".\", \"[-0.076454]\"], [9099, \"\", \"\\\"\", \"\\\"\", \"PUNCT\", \"''\", \"punct\", \"\\\"\", false, false, \"''\", \"[-0.53216]\"], [9101, \"\", \"M\\u00e4stlin\", \"M\\u00e4stlin\", \"PROPN\", \"NNP\", \"nsubj\", \"Xxxxx\", true, false, \"NNP\", \"[0.0]\"], [9109, \"\", \"adds\", \"add\", \"VERB\", \"VBZ\", \"ROOT\", \"xxxx\", true, false, \"VBZ\", \"[1.3412]\"], [9114, \"\", \"a\", \"a\", \"DET\", \"DT\", \"det\", \"x\", true, true, \"DT\", \"[-9.3629]\"], [9116, \"\", \"note\", \"note\", \"NOUN\", \"NN\", \"dobj\", \"xxxx\", true, false, \"NN\", \"[0.81796]\"], [9121, \"\", \"to\", \"to\", \"ADP\", \"IN\", \"prep\", \"xx\", true, true, \"IN\", \"[-1.6487]\"], [9124, \"\", \"his\", \"his\", \"PRON\", \"PRP$\", \"poss\", \"xxx\", true, true, \"PRP$\", \"[-3.2153]\"], [9128, \"\", \"copy\", \"copy\", \"NOUN\", \"NN\", \"pobj\", \"xxxx\", true, false, \"NN\", \"[-0.42999]\"], [9133, \"\", \"stating:-\", \"stating:-\", \"PUNCT\", \".\", \"punct\", \"xxxx:-\", false, false, \".\", \"[0.0]\"], [9143, \"\", \"\\\\n\", \"\\\\n\", \"SPACE\", \"_SP\", \"dep\", \"\\\\n\", false, false, \"_SP\", \"[0.0]\"], [9144, \"\", \"This\", \"this\", \"DET\", \"DT\", \"det\", \"Xxxx\", true, true, \"DT\", \"[1.6849]\"], [9149, \"\", \"preface\", \"preface\", \"NOUN\", \"NN\", \"nsubjpass\", \"xxxx\", true, false, \"NN\", \"[-1.0947]\"], [9157, \"\", \"was\", \"be\", \"AUX\", \"VBD\", \"auxpass\", \"xxx\", true, true, \"VBD\", \"[-9.5058]\"], [9161, \"\", \"added\", \"add\", \"VERB\", \"VBN\", \"ccomp\", \"xxxx\", true, false, \"VBN\", \"[-1.4262]\"], [9167, \"\", \"by\", \"by\", \"ADP\", \"IN\", \"agent\", \"xx\", true, true, \"IN\", \"[-13.597]\"], [9170, \"\", \"someone\", \"someone\", \"PRON\", \"NN\", \"pobj\", \"xxxx\", true, true, \"NN\", \"[-0.08259]\"], [9177, \"\", \",\", \",\", \"PUNCT\", \",\", \"punct\", \",\", false, false, \",\", \"[-3.3899]\"], [9179, \"\", \"whoever\", \"whoever\", \"PRON\", \"WP\", \"attr\", \"xxxx\", true, true, \"WP\", \"[-2.3249]\"], [9187, \"\", \"its\", \"its\", \"PRON\", \"PRP$\", \"poss\", \"xxx\", true, true, \"PRP$\", \"[-2.1506]\"], [9191, \"\", \"author\", \"author\", \"NOUN\", \"NN\", \"nsubj\", \"xxxx\", true, false, \"NN\", \"[-1.7865]\"], [9198, \"\", \"may\", \"may\", \"AUX\", \"MD\", \"aux\", \"xxx\", true, true, \"MD\", \"[6.292]\"], [9202, \"\", \"be\", \"be\", \"AUX\", \"VB\", \"relcl\", \"xx\", true, true, \"VB\", \"[-9.3526]\"], [9204, \"\", \",\", \",\", \"PUNCT\", \",\", \"punct\", \",\", false, false, \",\", \"[-3.3899]\"], [9206, \"\", \"(\", \"(\", \"PUNCT\", \"-LRB-\", \"punct\", \"(\", false, false, \"-LRB-\", \"[-7.8392]\"], [9207, \"\", \"for\", \"for\", \"ADP\", \"IN\", \"prep\", \"xxx\", true, true, \"IN\", \"[-7.0781]\"], [9211, \"\", \"indeed\", \"indeed\", \"ADV\", \"RB\", \"pcomp\", \"xxxx\", true, true, \"RB\", \"[-0.13902]\"], [9217, \"\", \",\", \",\", \"PUNCT\", \",\", \"punct\", \",\", false, false, \",\", \"[-3.3899]\"], [9219, \"\", \"its\", \"its\", \"PRON\", \"PRP$\", \"poss\", \"xxx\", true, true, \"PRP$\", \"[-2.1506]\"], [9223, \"\", \"weakness\", \"weakness\", \"NOUN\", \"NN\", \"nsubj\", \"xxxx\", true, false, \"NN\", \"[0.56325]\"], [9232, \"\", \"of\", \"of\", \"ADP\", \"IN\", \"prep\", \"xx\", true, true, \"IN\", \"[-12.667]\"], [9235, \"\", \"style\", \"style\", \"NOUN\", \"NN\", \"pobj\", \"xxxx\", true, false, \"NN\", \"[-3.8279]\"], [9241, \"\", \"and\", \"and\", \"CCONJ\", \"CC\", \"cc\", \"xxx\", true, true, \"CC\", \"[-3.3477]\"], [9245, \"\", \"choice\", \"choice\", \"NOUN\", \"NN\", \"conj\", \"xxxx\", true, false, \"NN\", \"[-3.6356]\"], [9252, \"\", \"of\", \"of\", \"ADP\", \"IN\", \"prep\", \"xx\", true, true, \"IN\", \"[-12.667]\"], [9255, \"\", \"words\", \"word\", \"NOUN\", \"NNS\", \"pobj\", \"xxxx\", true, false, \"NNS\", \"[0.41886]\"], [9261, \"\", \"reveal\", \"reveal\", \"VERB\", \"VBP\", \"ccomp\", \"xxxx\", true, false, \"VBP\", \"[3.4923]\"], [9268, \"\", \"that\", \"that\", \"SCONJ\", \"IN\", \"mark\", \"xxxx\", true, true, \"IN\", \"[-1.1026]\"], [9273, \"\", \"it\", \"it\", \"PRON\", \"PRP\", \"nsubj\", \"xx\", true, true, \"PRP\", \"[6.5268]\"], [9276, \"\", \"is\", \"be\", \"AUX\", \"VBZ\", \"ccomp\", \"xx\", true, true, \"VBZ\", \"[1.475]\"], [9279, \"\", \"not\", \"not\", \"PART\", \"RB\", \"neg\", \"xxx\", true, true, \"RB\", \"[-3.3781]\"], [9283, \"\", \"by\", \"by\", \"ADP\", \"IN\", \"prep\", \"xx\", true, true, \"IN\", \"[-13.597]\"], [9286, \"\", \"Copernicus).He\", \"Copernicus).He\", \"PROPN\", \"NNP\", \"pobj\", \"Xxxxx).Xx\", false, false, \"NNP\", \"[0.0]\"], [9301, \"\", \"later\", \"later\", \"ADV\", \"RB\", \"advmod\", \"xxxx\", true, false, \"RB\", \"[-5.6665]\"], [9307, \"\", \"added\", \"add\", \"VERB\", \"VBD\", \"advcl\", \"xxxx\", true, false, \"VBD\", \"[-1.4262]\"], [9313, \"\", \"a\", \"a\", \"DET\", \"DT\", \"det\", \"x\", true, true, \"DT\", \"[-9.3629]\"], [9315, \"\", \"further\", \"further\", \"ADJ\", \"JJ\", \"amod\", \"xxxx\", true, true, \"JJ\", \"[1.9851]\"], [9323, \"\", \"note:-\", \"note:-\", \"NOUN\", \"NN\", \"dobj\", \"xxxx:-\", false, false, \"NN\", \"[0.0]\"], [9329, \"\", \"\\\\n\", \"\\\\n\", \"SPACE\", \"_SP\", \"dep\", \"\\\\n\", false, false, \"_SP\", \"[0.0]\"], [9330, \"\", \"I\", \"I\", \"PRON\", \"PRP\", \"nsubj\", \"X\", true, true, \"PRP\", \"[-1.8607]\"], [9332, \"\", \"found\", \"find\", \"VERB\", \"VBD\", \"ccomp\", \"xxxx\", true, false, \"VBD\", \"[0.24678]\"], [9338, \"\", \"the\", \"the\", \"DET\", \"DT\", \"det\", \"xxx\", true, true, \"DT\", \"[-5.1043]\"], [9342, \"\", \"following\", \"follow\", \"VERB\", \"VBG\", \"amod\", \"xxxx\", true, false, \"VBG\", \"[-2.3847]\"], [9352, \"\", \"words\", \"word\", \"NOUN\", \"NNS\", \"dobj\", \"xxxx\", true, false, \"NNS\", \"[0.41886]\"], [9358, \"\", \"written\", \"write\", \"VERB\", \"VBN\", \"acl\", \"xxxx\", true, false, \"VBN\", \"[-2.9142]\"], [9366, \"\", \"somewhere\", \"somewhere\", \"ADV\", \"RB\", \"advmod\", \"xxxx\", true, true, \"RB\", \"[-0.90073]\"], [9376, \"\", \"among\", \"among\", \"ADP\", \"IN\", \"prep\", \"xxxx\", true, true, \"IN\", \"[-8.033]\"], [9382, \"\", \"the\", \"the\", \"DET\", \"DT\", \"det\", \"xxx\", true, true, \"DT\", \"[-5.1043]\"], [9386, \"\", \"books\", \"book\", \"NOUN\", \"NNS\", \"pobj\", \"xxxx\", true, false, \"NNS\", \"[-3.589]\"], [9392, \"\", \"of\", \"of\", \"ADP\", \"IN\", \"prep\", \"xx\", true, true, \"IN\", \"[-12.667]\"], [9395, \"\", \"Philipp\", \"Philipp\", \"PROPN\", \"NNP\", \"compound\", \"Xxxxx\", true, false, \"NNP\", \"[-4.8271]\"], [9403, \"\", \"Apian\", \"Apian\", \"PROPN\", \"NNP\", \"pobj\", \"Xxxxx\", true, false, \"NNP\", \"[0.0]\"], [9409, \"\", \"(\", \"(\", \"PUNCT\", \"-LRB-\", \"punct\", \"(\", false, false, \"-LRB-\", \"[-7.8392]\"], [9410, \"\", \"which\", \"which\", \"PRON\", \"WDT\", \"dobj\", \"xxxx\", true, true, \"WDT\", \"[-3.2023]\"], [9416, \"\", \"I\", \"I\", \"PRON\", \"PRP\", \"nsubj\", \"X\", true, true, \"PRP\", \"[-1.8607]\"], [9418, \"\", \"bought\", \"buy\", \"VERB\", \"VBD\", \"relcl\", \"xxxx\", true, false, \"VBD\", \"[-5.9193]\"], [9425, \"\", \"from\", \"from\", \"ADP\", \"IN\", \"prep\", \"xxxx\", true, true, \"IN\", \"[0.45435]\"], [9430, \"\", \"his\", \"his\", \"PRON\", \"PRP$\", \"poss\", \"xxx\", true, true, \"PRP$\", \"[-3.2153]\"], [9434, \"\", \"widow\", \"widow\", \"NOUN\", \"NN\", \"pobj\", \"xxxx\", true, false, \"NN\", \"[-1.1316]\"], [9439, \"\", \")\", \")\", \"PUNCT\", \"-RRB-\", \"punct\", \")\", false, false, \"-RRB-\", \"[-7.9729]\"], [9440, \"\", \";\", \";\", \"PUNCT\", \":\", \"punct\", \";\", false, false, \":\", \"[-6.7372]\"], [9442, \"\", \"although\", \"although\", \"SCONJ\", \"IN\", \"mark\", \"xxxx\", true, true, \"IN\", \"[-3.0935]\"], [9451, \"\", \"no\", \"no\", \"DET\", \"DT\", \"det\", \"xx\", true, true, \"DT\", \"[1.4541]\"], [9454, \"\", \"author\", \"author\", \"NOUN\", \"NN\", \"nsubjpass\", \"xxxx\", true, false, \"NN\", \"[-1.7865]\"], [9461, \"\", \"was\", \"be\", \"AUX\", \"VBD\", \"auxpass\", \"xxx\", true, true, \"VBD\", \"[-9.5058]\"], [9465, \"\", \"given\", \"give\", \"VERB\", \"VBN\", \"advcl\", \"xxxx\", true, false, \"VBN\", \"[-3.8265]\"], [9471, \"\", \"I\", \"I\", \"PRON\", \"PRP\", \"nsubj\", \"X\", true, true, \"PRP\", \"[-1.8607]\"], [9473, \"\", \"could\", \"could\", \"AUX\", \"MD\", \"aux\", \"xxxx\", true, true, \"MD\", \"[1.8611]\"], [9479, \"\", \"recognise\", \"recognise\", \"VERB\", \"VB\", \"ROOT\", \"xxxx\", true, false, \"VB\", \"[-1.0038]\"], [9489, \"\", \"Apian\", \"Apian\", \"PROPN\", \"NNP\", \"poss\", \"Xxxxx\", true, false, \"NNP\", \"[0.0]\"], [9494, \"\", \"'s\", \"'s\", \"PART\", \"POS\", \"case\", \"'x\", false, true, \"POS\", \"[3.3163]\"], [9497, \"\", \"hand\", \"hand\", \"NOUN\", \"NN\", \"dobj\", \"xxxx\", true, false, \"NN\", \"[-2.5309]\"], [9501, \"\", \":\", \":\", \"PUNCT\", \":\", \"punct\", \":\", false, false, \":\", \"[1.9413]\"], [9502, \"\", \"\\\\n\", \"\\\\n\", \"SPACE\", \"_SP\", \"dep\", \"\\\\n\", false, false, \"_SP\", \"[0.0]\"], [9503, \"\", \"On\", \"on\", \"ADP\", \"IN\", \"prep\", \"Xx\", true, true, \"IN\", \"[-4.0184]\"], [9506, \"\", \"account\", \"account\", \"NOUN\", \"NN\", \"pobj\", \"xxxx\", true, false, \"NN\", \"[-0.61408]\"], [9514, \"\", \"of\", \"of\", \"ADP\", \"IN\", \"prep\", \"xx\", true, true, \"IN\", \"[-12.667]\"], [9517, \"\", \"this\", \"this\", \"DET\", \"DT\", \"det\", \"xxxx\", true, true, \"DT\", \"[2.179]\"], [9522, \"\", \"letter\", \"letter\", \"NOUN\", \"NN\", \"pobj\", \"xxxx\", true, false, \"NN\", \"[-0.53725]\"], [9529, \"\", \"Georg\", \"Georg\", \"PROPN\", \"NNP\", \"compound\", \"Xxxxx\", true, false, \"NNP\", \"[-7.3207]\"], [9535, \"\", \"Joachim\", \"Joachim\", \"PROPN\", \"NNP\", \"compound\", \"Xxxxx\", true, false, \"NNP\", \"[-3.7758]\"], [9543, \"\", \"Rheticus\", \"Rheticus\", \"PROPN\", \"NNP\", \"nsubj\", \"Xxxxx\", true, false, \"NNP\", \"[-1.4393]\"], [9551, \"\", \",\", \",\", \"PUNCT\", \",\", \"punct\", \",\", false, false, \",\", \"[-3.3899]\"], [9553, \"\", \"the\", \"the\", \"DET\", \"DT\", \"det\", \"xxx\", true, true, \"DT\", \"[-5.1043]\"], [9557, \"\", \"Leipzig\", \"Leipzig\", \"PROPN\", \"NNP\", \"compound\", \"Xxxxx\", true, false, \"NNP\", \"[-2.8175]\"], [9565, \"\", \"professor\", \"professor\", \"NOUN\", \"NN\", \"appos\", \"xxxx\", true, false, \"NN\", \"[-1.2467]\"], [9575, \"\", \"and\", \"and\", \"CCONJ\", \"CC\", \"cc\", \"xxx\", true, true, \"CC\", \"[-3.3477]\"], [9579, \"\", \"disciple\", \"disciple\", \"NOUN\", \"NN\", \"conj\", \"xxxx\", true, false, \"NN\", \"[-1.5765]\"], [9588, \"\", \"of\", \"of\", \"ADP\", \"IN\", \"prep\", \"xx\", true, true, \"IN\", \"[-12.667]\"], [9591, \"\", \"Copernicus\", \"Copernicus\", \"PROPN\", \"NNP\", \"pobj\", \"Xxxxx\", true, false, \"NNP\", \"[-0.34364]\"], [9601, \"\", \",\", \",\", \"PUNCT\", \",\", \"punct\", \",\", false, false, \",\", \"[-3.3899]\"], [9603, \"\", \"became\", \"become\", \"VERB\", \"VBD\", \"ccomp\", \"xxxx\", true, true, \"VBD\", \"[-6.7967]\"], [9610, \"\", \"involved\", \"involved\", \"ADJ\", \"JJ\", \"acomp\", \"xxxx\", true, false, \"JJ\", \"[-0.056724]\"], [9619, \"\", \"in\", \"in\", \"ADP\", \"IN\", \"prep\", \"xx\", true, true, \"IN\", \"[-3.7766]\"], [9622, \"\", \"a\", \"a\", \"DET\", \"DT\", \"det\", \"x\", true, true, \"DT\", \"[-9.3629]\"], [9624, \"\", \"very\", \"very\", \"ADV\", \"RB\", \"advmod\", \"xxxx\", true, true, \"RB\", \"[0.42554]\"], [9629, \"\", \"bitter\", \"bitter\", \"ADJ\", \"JJ\", \"amod\", \"xxxx\", true, false, \"JJ\", \"[1.6502]\"], [9636, \"\", \"wrangle\", \"wrangle\", \"NOUN\", \"NN\", \"pobj\", \"xxxx\", true, false, \"NN\", \"[-0.69706]\"], [9644, \"\", \"with\", \"with\", \"ADP\", \"IN\", \"prep\", \"xxxx\", true, true, \"IN\", \"[-7.3029]\"], [9649, \"\", \"the\", \"the\", \"DET\", \"DT\", \"det\", \"xxx\", true, true, \"DT\", \"[-5.1043]\"], [9653, \"\", \"printer\", \"printer\", \"NOUN\", \"NN\", \"pobj\", \"xxxx\", true, false, \"NN\", \"[-6.2116]\"], [9660, \"\", \",\", \",\", \"PUNCT\", \",\", \"punct\", \",\", false, false, \",\", \"[-3.3899]\"], [9662, \"\", \"who\", \"who\", \"PRON\", \"WP\", \"nsubj\", \"xxx\", true, true, \"WP\", \"[-6.4863]\"], [9666, \"\", \"asserted\", \"assert\", \"VERB\", \"VBD\", \"relcl\", \"xxxx\", true, false, \"VBD\", \"[-3.3386]\"], [9675, \"\", \"that\", \"that\", \"SCONJ\", \"IN\", \"mark\", \"xxxx\", true, true, \"IN\", \"[-1.1026]\"], [9680, \"\", \"it\", \"it\", \"PRON\", \"PRP\", \"nsubjpass\", \"xx\", true, true, \"PRP\", \"[6.5268]\"], [9683, \"\", \"had\", \"have\", \"AUX\", \"VBD\", \"aux\", \"xxx\", true, true, \"VBD\", \"[-8.6183]\"], [9687, \"\", \"been\", \"be\", \"AUX\", \"VBN\", \"auxpass\", \"xxxx\", true, true, \"VBN\", \"[-3.0266]\"], [9692, \"\", \"turned\", \"turn\", \"VERB\", \"VBN\", \"ccomp\", \"xxxx\", true, false, \"VBN\", \"[-2.9349]\"], [9699, \"\", \"over\", \"over\", \"ADP\", \"RP\", \"prt\", \"xxxx\", true, true, \"RP\", \"[-1.1864]\"], [9704, \"\", \"to\", \"to\", \"ADP\", \"IN\", \"prep\", \"xx\", true, true, \"IN\", \"[-1.6487]\"], [9707, \"\", \"him\", \"he\", \"PRON\", \"PRP\", \"pobj\", \"xxx\", true, true, \"PRP\", \"[-0.99159]\"], [9711, \"\", \"with\", \"with\", \"ADP\", \"IN\", \"prep\", \"xxxx\", true, true, \"IN\", \"[-7.3029]\"], [9716, \"\", \"the\", \"the\", \"DET\", \"DT\", \"det\", \"xxx\", true, true, \"DT\", \"[-5.1043]\"], [9720, \"\", \"rest\", \"rest\", \"NOUN\", \"NN\", \"pobj\", \"xxxx\", true, false, \"NN\", \"[-1.1696]\"], [9725, \"\", \"of\", \"of\", \"ADP\", \"IN\", \"prep\", \"xx\", true, true, \"IN\", \"[-12.667]\"], [9728, \"\", \"the\", \"the\", \"DET\", \"DT\", \"det\", \"xxx\", true, true, \"DT\", \"[-5.1043]\"], [9732, \"\", \"work\", \"work\", \"NOUN\", \"NN\", \"pobj\", \"xxxx\", true, false, \"NN\", \"[-0.96372]\"], [9736, \"\", \".\", \".\", \"PUNCT\", \".\", \"punct\", \".\", false, false, \".\", \"[-0.076454]\"], [9738, \"\", \"Rheticus\", \"Rheticus\", \"PROPN\", \"NNP\", \"nsubj\", \"Xxxxx\", true, false, \"NNP\", \"[-1.4393]\"], [9746, \"\", \",\", \",\", \"PUNCT\", \",\", \"punct\", \",\", false, false, \",\", \"[-3.3899]\"], [9748, \"\", \"however\", \"however\", \"ADV\", \"RB\", \"advmod\", \"xxxx\", true, true, \"RB\", \"[-2.2293]\"], [9755, \"\", \",\", \",\", \"PUNCT\", \",\", \"punct\", \",\", false, false, \",\", \"[-3.3899]\"], [9757, \"\", \"suspected\", \"suspect\", \"VERB\", \"VBN\", \"ROOT\", \"xxxx\", true, false, \"VBN\", \"[-2.8422]\"], [9767, \"\", \"that\", \"that\", \"SCONJ\", \"IN\", \"dobj\", \"xxxx\", true, true, \"IN\", \"[-1.1026]\"], [9772, \"\", \"Osiander\", \"Osiander\", \"PROPN\", \"NNP\", \"dep\", \"Xxxxx\", true, false, \"NNP\", \"[-1.1931]\"], [9781, \"\", \"[\", \"[\", \"X\", \"XX\", \"nsubj\", \"[\", false, false, \"XX\", \"[11.177]\"], [9782, \"\", \"the\", \"the\", \"DET\", \"DT\", \"det\", \"xxx\", true, true, \"DT\", \"[-5.1043]\"], [9786, \"\", \"proof\", \"proof\", \"NOUN\", \"NN\", \"compound\", \"xxxx\", true, false, \"NN\", \"[-2.4111]\"], [9791, \"\", \"-\", \"-\", \"PUNCT\", \"HYPH\", \"punct\", \"-\", false, false, \"HYPH\", \"[-5.2115]\"], [9792, \"\", \"reader\", \"reader\", \"NOUN\", \"NN\", \"pobj\", \"xxxx\", true, false, \"NN\", \"[4.1614]\"], [9799, \"\", \"of\", \"of\", \"ADP\", \"IN\", \"prep\", \"xx\", true, true, \"IN\", \"[-12.667]\"], [9802, \"\", \"Copernicus\", \"Copernicus\", \"PROPN\", \"NNP\", \"poss\", \"Xxxxx\", true, false, \"NNP\", \"[-0.34364]\"], [9812, \"\", \"'s\", \"'s\", \"PART\", \"POS\", \"case\", \"'x\", false, true, \"POS\", \"[3.3163]\"], [9815, \"\", \"book\", \"book\", \"NOUN\", \"NN\", \"pobj\", \"xxxx\", true, false, \"NN\", \"[-0.68309]\"], [9819, \"\", \"]\", \"]\", \"PUNCT\", \"-RRB-\", \"punct\", \"]\", false, false, \"-RRB-\", \"[10.212]\"], [9821, \"\", \"had\", \"have\", \"AUX\", \"VBD\", \"aux\", \"xxx\", true, true, \"VBD\", \"[-8.6183]\"], [9825, \"\", \"prefaced\", \"preface\", \"VERB\", \"VBN\", \"ROOT\", \"xxxx\", true, false, \"VBN\", \"[-2.1101]\"], [9834, \"\", \"it\", \"it\", \"PRON\", \"PRP\", \"dobj\", \"xx\", true, true, \"PRP\", \"[6.5268]\"], [9837, \"\", \"to\", \"to\", \"ADP\", \"IN\", \"prep\", \"xx\", true, true, \"IN\", \"[-1.6487]\"], [9840, \"\", \"the\", \"the\", \"DET\", \"DT\", \"det\", \"xxx\", true, true, \"DT\", \"[-5.1043]\"], [9844, \"\", \"work\", \"work\", \"NOUN\", \"NN\", \"pobj\", \"xxxx\", true, false, \"NN\", \"[-0.96372]\"], [9848, \"\", \".\", \".\", \"PUNCT\", \".\", \"punct\", \".\", false, false, \".\", \"[-0.076454]\"], [9850, \"\", \"If\", \"if\", \"SCONJ\", \"IN\", \"mark\", \"Xx\", true, true, \"IN\", \"[-3.0155]\"], [9853, \"\", \"he\", \"he\", \"PRON\", \"PRP\", \"nsubj\", \"xx\", true, true, \"PRP\", \"[-1.2129]\"], [9856, \"\", \"knew\", \"know\", \"VERB\", \"VBD\", \"advcl\", \"xxxx\", true, false, \"VBD\", \"[-3.6425]\"], [9861, \"\", \"this\", \"this\", \"PRON\", \"DT\", \"dobj\", \"xxxx\", true, true, \"DT\", \"[2.179]\"], [9866, \"\", \"for\", \"for\", \"ADP\", \"IN\", \"prep\", \"xxx\", true, true, \"IN\", \"[-7.0781]\"], [9870, \"\", \"certain\", \"certain\", \"ADJ\", \"JJ\", \"amod\", \"xxxx\", true, false, \"JJ\", \"[-1.1074]\"], [9877, \"\", \",\", \",\", \"PUNCT\", \",\", \"punct\", \",\", false, false, \",\", \"[-3.3899]\"], [9879, \"\", \"he\", \"he\", \"PRON\", \"PRP\", \"nsubj\", \"xx\", true, true, \"PRP\", \"[-1.2129]\"], [9882, \"\", \"declared\", \"declare\", \"VERB\", \"VBD\", \"parataxis\", \"xxxx\", true, false, \"VBD\", \"[-3.4293]\"], [9890, \"\", \",\", \",\", \"PUNCT\", \",\", \"punct\", \",\", false, false, \",\", \"[-3.3899]\"], [9892, \"\", \"he\", \"he\", \"PRON\", \"PRP\", \"nsubj\", \"xx\", true, true, \"PRP\", \"[-1.2129]\"], [9895, \"\", \"would\", \"would\", \"AUX\", \"MD\", \"aux\", \"xxxx\", true, true, \"MD\", \"[-2.2396]\"], [9901, \"\", \"handle\", \"handle\", \"VERB\", \"VB\", \"ROOT\", \"xxxx\", true, false, \"VB\", \"[-0.37845]\"], [9908, \"\", \"that\", \"that\", \"DET\", \"DT\", \"det\", \"xxxx\", true, true, \"DT\", \"[-1.1026]\"], [9913, \"\", \"fellow\", \"fellow\", \"NOUN\", \"NN\", \"dobj\", \"xxxx\", true, false, \"NN\", \"[-2.3922]\"], [9920, \"\", \"so\", \"so\", \"SCONJ\", \"IN\", \"mark\", \"xx\", true, true, \"IN\", \"[-1.8443]\"], [9923, \"\", \"that\", \"that\", \"SCONJ\", \"IN\", \"mark\", \"xxxx\", true, true, \"IN\", \"[-1.1026]\"], [9928, \"\", \"in\", \"in\", \"ADP\", \"IN\", \"prep\", \"xx\", true, true, \"IN\", \"[-3.7766]\"], [9931, \"\", \"future\", \"future\", \"NOUN\", \"NN\", \"pobj\", \"xxxx\", true, false, \"NN\", \"[1.7561]\"], [9938, \"\", \"he\", \"he\", \"PRON\", \"PRP\", \"nsubj\", \"xx\", true, true, \"PRP\", \"[-1.2129]\"], [9941, \"\", \"would\", \"would\", \"AUX\", \"MD\", \"aux\", \"xxxx\", true, true, \"MD\", \"[-2.2396]\"], [9947, \"\", \"mind\", \"mind\", \"VERB\", \"VB\", \"advcl\", \"xxxx\", true, false, \"VB\", \"[3.5973]\"], [9952, \"\", \"his\", \"his\", \"PRON\", \"PRP$\", \"poss\", \"xxx\", true, true, \"PRP$\", \"[-3.2153]\"], [9956, \"\", \"own\", \"own\", \"ADJ\", \"JJ\", \"amod\", \"xxx\", true, true, \"JJ\", \"[0.64001]\"], [9960, \"\", \"business\", \"business\", \"NOUN\", \"NN\", \"dobj\", \"xxxx\", true, false, \"NN\", \"[-0.58242]\"], [9969, \"\", \"and\", \"and\", \"CCONJ\", \"CC\", \"cc\", \"xxx\", true, true, \"CC\", \"[-3.3477]\"], [9973, \"\", \"not\", \"not\", \"PART\", \"RB\", \"neg\", \"xxx\", true, true, \"RB\", \"[-3.3781]\"], [9977, \"\", \"slander\", \"slander\", \"VERB\", \"VB\", \"conj\", \"xxxx\", true, false, \"VB\", \"[-4.1042]\"], [9985, \"\", \"astronomers\", \"astronomer\", \"NOUN\", \"NNS\", \"dobj\", \"xxxx\", true, false, \"NNS\", \"[-2.1115]\"], [9997, \"\", \"any\", \"any\", \"PRON\", \"DT\", \"advmod\", \"xxx\", true, true, \"DT\", \"[-0.96335]\"], [10001, \"\", \"more\", \"more\", \"ADV\", \"RBR\", \"advmod\", \"xxxx\", true, true, \"RBR\", \"[-2.2444]\"], [10005, \"\", \".\", \".\", \"PUNCT\", \".\", \"punct\", \".\", false, false, \".\", \"[-0.076454]\"], [10007, \"\", \"Nevertheless\", \"nevertheless\", \"ADV\", \"RB\", \"advmod\", \"Xxxxx\", true, true, \"RB\", \"[-1.4254]\"], [10019, \"\", \",\", \",\", \"PUNCT\", \",\", \"punct\", \",\", false, false, \",\", \"[-3.3899]\"], [10021, \"\", \"[\", \"[\", \"X\", \"XX\", \"dep\", \"[\", false, false, \"XX\", \"[11.177]\"], [10022, \"\", \"Peter\", \"peter\", \"X\", \"XX\", \"dep\", \"Xxxxx\", true, false, \"XX\", \"[-6.4704]\"], [10027, \"\", \"]\", \"]\", \"PUNCT\", \"-RRB-\", \"punct\", \"]\", false, false, \"-RRB-\", \"[10.212]\"], [10029, \"\", \"Apian\", \"Apian\", \"PROPN\", \"NNP\", \"nsubj\", \"Xxxxx\", true, false, \"NNP\", \"[0.0]\"], [10035, \"\", \"told\", \"tell\", \"VERB\", \"VBD\", \"ROOT\", \"xxxx\", true, false, \"VBD\", \"[2.5471]\"], [10040, \"\", \"me\", \"I\", \"PRON\", \"PRP\", \"dobj\", \"xx\", true, true, \"PRP\", \"[3.2542]\"], [10043, \"\", \"that\", \"that\", \"SCONJ\", \"IN\", \"mark\", \"xxxx\", true, true, \"IN\", \"[-1.1026]\"], [10048, \"\", \"Osiander\", \"Osiander\", \"PROPN\", \"NNP\", \"nsubj\", \"Xxxxx\", true, false, \"NNP\", \"[-1.1931]\"], [10057, \"\", \"had\", \"have\", \"AUX\", \"VBD\", \"aux\", \"xxx\", true, true, \"VBD\", \"[-8.6183]\"], [10061, \"\", \"openly\", \"openly\", \"ADV\", \"RB\", \"advmod\", \"xxxx\", true, false, \"RB\", \"[-0.98901]\"], [10068, \"\", \"admitted\", \"admit\", \"VERB\", \"VBN\", \"ccomp\", \"xxxx\", true, false, \"VBN\", \"[-2.1051]\"], [10077, \"\", \"to\", \"to\", \"ADP\", \"IN\", \"prep\", \"xx\", true, true, \"IN\", \"[-1.6487]\"], [10080, \"\", \"him\", \"he\", \"PRON\", \"PRP\", \"pobj\", \"xxx\", true, true, \"PRP\", \"[-0.99159]\"], [10084, \"\", \"that\", \"that\", \"SCONJ\", \"IN\", \"mark\", \"xxxx\", true, true, \"IN\", \"[-1.1026]\"], [10089, \"\", \"he\", \"he\", \"PRON\", \"PRP\", \"nsubj\", \"xx\", true, true, \"PRP\", \"[-1.2129]\"], [10092, \"\", \"had\", \"have\", \"AUX\", \"VBD\", \"aux\", \"xxx\", true, true, \"VBD\", \"[-8.6183]\"], [10096, \"\", \"added\", \"add\", \"VERB\", \"VBN\", \"ccomp\", \"xxxx\", true, false, \"VBN\", \"[-1.4262]\"], [10102, \"\", \"this\", \"this\", \"PRON\", \"DT\", \"dobj\", \"xxxx\", true, true, \"DT\", \"[2.179]\"], [10107, \"\", \"all\", \"all\", \"PRON\", \"DT\", \"appos\", \"xxx\", true, true, \"DT\", \"[-2.0123]\"], [10111, \"\", \"by\", \"by\", \"ADP\", \"IN\", \"prep\", \"xx\", true, true, \"IN\", \"[-13.597]\"], [10114, \"\", \"himself\", \"himself\", \"PRON\", \"PRP\", \"pobj\", \"xxxx\", true, true, \"PRP\", \"[-1.6232]\"], [10121, \"\", \".\", \".\", \"PUNCT\", \".\", \"punct\", \".\", false, false, \".\", \"[-0.076454]\"]];\n",
       "\n",
       "    // Define the dt_args\n",
       "    let dt_args = {\"scrollY\": \"400px\", \"scrollCollapse\": true, \"paging\": false, \"dom\": \"lrtip\", \"order\": [], \"fnInfoCallback\": function (oSettings, iStart, iEnd, iMax, iTotal, sPre) { return sPre + ' (<a href=\"https://mwouts.github.io/itables/downsampling.html\">downsampled</a> from 1,892x12 to 799x12 as maxBytes=65536)'; }, \"initComplete\": function () {\n",
       "    // Apply the search\n",
       "    this.api()\n",
       "        .columns()\n",
       "        .every(function () {\n",
       "            const that = this;\n",
       "\n",
       "            $('input', this.footer()).on('keyup change clear', function () {\n",
       "                if (that.search() !== this.value) {\n",
       "                    that.search(this.value).draw();\n",
       "                }\n",
       "            });\n",
       "        });\n",
       "}\n",
       "};\n",
       "    dt_args[\"data\"] = data;\n",
       "\n",
       "    $(document).ready(function () {\n",
       "        // Setup - add a text input to each header or footer cell\n",
       "$('#36d840d3-0682-49c0-a46f-cbe74bbf365d tfoot th').each(function () {\n",
       "    let title = $(this).text();\n",
       "    $(this).html('<input type=\"text\" placeholder=\"Search ' +\n",
       "        // We use encodeURI to avoid this LGTM error:\n",
       "        // https://lgtm.com/rules/1511866576920/\n",
       "        encodeURI(title).replaceAll(\"%20\", \" \") +\n",
       "        '\" />');\n",
       "});\n",
       "\n",
       "        $('#36d840d3-0682-49c0-a46f-cbe74bbf365d').DataTable(dt_args);\n",
       "    });\n",
       "</script>\n",
       "</div>\n"
      ],
      "text/plain": [
       "<IPython.core.display.HTML object>"
      ]
     },
     "metadata": {},
     "output_type": "display_data"
    }
   ],
   "source": [
    "### https://github.com/mwouts/itables/blob/main/docs/advanced_parameters.md\n",
    "show(tx_df[tx_df.idx >= 0], classes=\"display\", scrollY=\"400px\", scrollCollapse=True, paging=False, column_filters=\"footer\", dom=\"lrtip\")"
   ]
  },
  {
   "cell_type": "code",
   "execution_count": 20,
   "id": "cc049fe9-544d-42cd-a4d4-52e881228aca",
   "metadata": {},
   "outputs": [],
   "source": [
    "s = sents[0][1]"
   ]
  },
  {
   "cell_type": "code",
   "execution_count": 21,
   "id": "94aa4d6c-44b8-4c55-a907-0c02c4bf30ff",
   "metadata": {},
   "outputs": [
    {
     "name": "stdout",
     "output_type": "stream",
     "text": [
      "Michael compound Mästlin PROPN NNP []\n",
      "Mästlin nsubjpass born VERB NNP [Michael, was]\n",
      "was auxpass born VERB VBD []\n",
      "born ROOT born VERB VBN [Mästlin, was, in, .]\n",
      "in prep born VERB IN [Göppingen]\n",
      "Göppingen pobj in ADP NNP []\n",
      "which nsubj was AUX WDT []\n",
      "was relcl Mästlin PROPN VBD [which, village]\n",
      "a det village NOUN DT []\n",
      "village attr was AUX NN [a, east]\n",
      "about advmod 50 NUM RB []\n",
      "50 nummod km NOUN CD [about]\n",
      "km npadvmod east ADV NNS [50]\n",
      "east advmod village NOUN RB [km, of]\n",
      "of prep east ADV IN [Tübingen]\n",
      "Tübingen pobj of ADP NNP []\n",
      ". punct born VERB . []\n"
     ]
    }
   ],
   "source": [
    "for token in s:\n",
    "    print(token.text, token.dep_, token.head.text, token.head.pos_, token.tag_,\n",
    "            [child for child in token.children])"
   ]
  },
  {
   "cell_type": "code",
   "execution_count": 22,
   "id": "6198da3a-c8eb-4833-ae5e-ce65d932d656",
   "metadata": {},
   "outputs": [
    {
     "name": "stdout",
     "output_type": "stream",
     "text": [
      "Michael Mästlin 0 15 Mästlin nsubjpass born [born] [-2.77865 -1.65305 -0.15149]\n",
      "Göppingen 28 37 Göppingen pobj in [in, born] [-2.2553  -1.9444   0.10191]\n",
      "which 38 43 which nsubj was [was, Mästlin, born] [-3.2023  -3.031    0.08376]\n",
      "a village 48 57 village attr was [was, Mästlin, born] [-5.96865    4.7177052 -4.02923  ]\n",
      "Tübingen 78 86 Tübingen pobj of [of, east, village, was, Mästlin, born] [-1.9794  -2.3969   0.50692]\n"
     ]
    }
   ],
   "source": [
    "for chunk in s.noun_chunks:\n",
    "    print(chunk.text, chunk.start_char, chunk.end_char,\n",
    "          chunk.root.text, chunk.root.dep_,\n",
    "            chunk.root.head.text, [c for c in chunk.root.ancestors], chunk.vector[:3])"
   ]
  },
  {
   "cell_type": "markdown",
   "id": "aac9ce3b-23ba-4413-91fe-4a8ffc5bc6c7",
   "metadata": {},
   "source": [
    "## Test vector addition and cosinus similarity "
   ]
  },
  {
   "cell_type": "code",
   "execution_count": 23,
   "id": "e8f38d75-8de3-4c75-b9b5-bb232bfb7754",
   "metadata": {},
   "outputs": [],
   "source": [
    "from numpy import dot\n",
    "from numpy.linalg import norm"
   ]
  },
  {
   "cell_type": "code",
   "execution_count": 24,
   "id": "6aa1e000-119e-4940-aba1-7898076d1184",
   "metadata": {},
   "outputs": [
    {
     "data": {
      "text/plain": [
       "(32.236862,\n",
       " array([-5.0095096 , -0.77976847, -2.3805912 , -1.222302  ,  4.1728654 ],\n",
       "       dtype=float32))"
      ]
     },
     "execution_count": 24,
     "metadata": {},
     "output_type": "execute_result"
    }
   ],
   "source": [
    "s.vector_norm, s.vector[:5]"
   ]
  },
  {
   "cell_type": "code",
   "execution_count": 25,
   "id": "e50f2f64-f359-4fd9-845d-78e431b7d2ac",
   "metadata": {},
   "outputs": [
    {
     "data": {
      "text/plain": [
       "('Michael', 'Mästlin')"
      ]
     },
     "execution_count": 25,
     "metadata": {},
     "output_type": "execute_result"
    }
   ],
   "source": [
    "s[0].text, s[1].text"
   ]
  },
  {
   "cell_type": "code",
   "execution_count": 26,
   "id": "9c136bae-e268-42bc-b42c-941577c02570",
   "metadata": {},
   "outputs": [
    {
     "data": {
      "text/plain": [
       "numpy.ndarray"
      ]
     },
     "execution_count": 26,
     "metadata": {},
     "output_type": "execute_result"
    }
   ],
   "source": [
    "vn = s[0].vector + s[1].vector\n",
    "type(vn)"
   ]
  },
  {
   "cell_type": "code",
   "execution_count": 28,
   "id": "67d30416-ec23-4975-8044-692c79493302",
   "metadata": {},
   "outputs": [
    {
     "data": {
      "text/plain": [
       "(300, (300,))"
      ]
     },
     "execution_count": 28,
     "metadata": {},
     "output_type": "execute_result"
    }
   ],
   "source": [
    "len(vn), vn.shape"
   ]
  },
  {
   "cell_type": "code",
   "execution_count": 45,
   "id": "76dde2b7-c183-4264-8566-4c347c73fef6",
   "metadata": {},
   "outputs": [
    {
     "data": {
      "text/plain": [
       "Michael Mästlin"
      ]
     },
     "execution_count": 45,
     "metadata": {},
     "output_type": "execute_result"
    }
   ],
   "source": [
    "nc = [nc for nc in s.noun_chunks]\n",
    "nc[0]"
   ]
  },
  {
   "cell_type": "code",
   "execution_count": 49,
   "id": "9f84bd2a-69e3-4d13-b27a-771dc8f5023e",
   "metadata": {},
   "outputs": [],
   "source": [
    "ncv = nc[0].vector"
   ]
  },
  {
   "cell_type": "code",
   "execution_count": 50,
   "id": "2dba3df9-1627-4470-960b-be5b4bbab204",
   "metadata": {},
   "outputs": [
    {
     "data": {
      "text/plain": [
       "(Göppingen, Tübingen)"
      ]
     },
     "execution_count": 50,
     "metadata": {},
     "output_type": "execute_result"
    }
   ],
   "source": [
    "nc[1], nc[4]"
   ]
  },
  {
   "cell_type": "code",
   "execution_count": 51,
   "id": "64d2fcd1-ed39-4586-9850-743f762ad309",
   "metadata": {},
   "outputs": [],
   "source": [
    "ncv1 = nc[1].vector\n",
    "ncv4 = nc[4].vector"
   ]
  },
  {
   "cell_type": "code",
   "execution_count": 43,
   "id": "888b3717-c1c8-4ef0-ada3-7277e2b49bcc",
   "metadata": {},
   "outputs": [
    {
     "data": {
      "text/plain": [
       "1.0"
      ]
     },
     "execution_count": 43,
     "metadata": {},
     "output_type": "execute_result"
    }
   ],
   "source": [
    "### calculate Cosine Similarity\n",
    "# https://www.statology.org/cosine-similarity-python/\n",
    "cos_sim = dot(ncv, vn)/(norm(ncv)*norm(vn))\n",
    "\n",
    "cos_sim"
   ]
  },
  {
   "cell_type": "code",
   "execution_count": null,
   "id": "99af2c77-5113-4844-8cb2-5f416ac12a22",
   "metadata": {},
   "outputs": [],
   "source": []
  },
  {
   "cell_type": "code",
   "execution_count": 43,
   "id": "720a17fe-ec64-4e1e-839d-92f37f23866d",
   "metadata": {},
   "outputs": [
    {
     "data": {
      "text/plain": [
       "1.0"
      ]
     },
     "execution_count": 43,
     "metadata": {},
     "output_type": "execute_result"
    }
   ],
   "source": [
    "### calculate Cosine Similarity\n",
    "# https://www.statology.org/cosine-similarity-python/\n",
    "cos_sim = dot(ncv, vn)/(norm(ncv)*norm(vn))\n",
    "\n",
    "cos_sim"
   ]
  },
  {
   "cell_type": "code",
   "execution_count": 52,
   "id": "a2a12ba4-e0a8-405a-85c6-dd73be5a6f55",
   "metadata": {},
   "outputs": [
    {
     "data": {
      "text/plain": [
       "0.83159846"
      ]
     },
     "execution_count": 52,
     "metadata": {},
     "output_type": "execute_result"
    }
   ],
   "source": [
    "### Compare two places\n",
    "cos_sim = dot(ncv1, ncv4)/(norm(ncv1)*norm(ncv4))\n",
    "\n",
    "cos_sim"
   ]
  },
  {
   "cell_type": "code",
   "execution_count": 55,
   "id": "f0486d66-e14d-429e-a9ed-2a560b4356c5",
   "metadata": {},
   "outputs": [
    {
     "data": {
      "text/plain": [
       "0.10954975"
      ]
     },
     "execution_count": 55,
     "metadata": {},
     "output_type": "execute_result"
    }
   ],
   "source": [
    "### Compare a person and a place\n",
    "cos_sim = dot(ncv, ncv4)/(norm(ncv)*norm(ncv4))\n",
    "\n",
    "cos_sim"
   ]
  },
  {
   "cell_type": "code",
   "execution_count": null,
   "id": "349c0911-9300-4d0d-a417-3b0481036a25",
   "metadata": {},
   "outputs": [],
   "source": []
  },
  {
   "cell_type": "markdown",
   "id": "b2bdcd1c-d65a-44c9-9dfa-63055c9ce6dc",
   "metadata": {},
   "source": [
    "## Displacy"
   ]
  },
  {
   "cell_type": "code",
   "execution_count": 23,
   "id": "ae45c80e-d79f-4006-8082-217680f4988c",
   "metadata": {},
   "outputs": [],
   "source": [
    "s = sents[3][1]"
   ]
  },
  {
   "cell_type": "code",
   "execution_count": 24,
   "id": "d1d86614-8bd6-47c5-ab8c-e6ccbab9aedb",
   "metadata": {},
   "outputs": [
    {
     "name": "stdout",
     "output_type": "stream",
     "text": [
      "He 359 361 He nsubj attended [attended] [ 2.5453  2.2064 -0.913 ]\n",
      "the monastic school 371 390 school dobj attended [attended] [-2.710333   0.7176333  1.0765667]\n",
      "Königsbronn 394 405 Königsbronn pobj in [in, school, attended] [0. 0. 0.]\n",
      "his studies 418 429 studies pobj after [after, entered, attended] [-1.617781  3.6808   -1.3355  ]\n",
      "Tübingen University 445 464 University dobj entered [entered, attended] [-2.35755 -2.19745  2.18836]\n"
     ]
    }
   ],
   "source": [
    "for chunk in s.noun_chunks:\n",
    "    print(chunk.text, chunk.start_char, chunk.end_char,\n",
    "          chunk.root.text, chunk.root.dep_,\n",
    "            chunk.root.head.text, [c for c in chunk.root.ancestors], chunk.vector[:3])"
   ]
  },
  {
   "cell_type": "code",
   "execution_count": 25,
   "id": "e1d338b2-5796-4210-8e10-98c2e4290f7e",
   "metadata": {},
   "outputs": [
    {
     "data": {
      "text/html": [
       "<span class=\"tex2jax_ignore\"><svg xmlns=\"http://www.w3.org/2000/svg\" xmlns:xlink=\"http://www.w3.org/1999/xlink\" xml:lang=\"en\" id=\"8d1828c777c94ba6a33d173620777385-0\" class=\"displacy\" width=\"2325\" height=\"399.5\" direction=\"ltr\" style=\"max-width: none; height: 399.5px; color: #000000; background: #ffffff; font-family: Arial; direction: ltr\">\n",
       "<text class=\"displacy-token\" fill=\"currentColor\" text-anchor=\"middle\" y=\"309.5\">\n",
       "    <tspan class=\"displacy-word\" fill=\"currentColor\" x=\"50\">He</tspan>\n",
       "    <tspan class=\"displacy-tag\" dy=\"2em\" fill=\"currentColor\" x=\"50\">PRON</tspan>\n",
       "</text>\n",
       "\n",
       "<text class=\"displacy-token\" fill=\"currentColor\" text-anchor=\"middle\" y=\"309.5\">\n",
       "    <tspan class=\"displacy-word\" fill=\"currentColor\" x=\"225\">attended</tspan>\n",
       "    <tspan class=\"displacy-tag\" dy=\"2em\" fill=\"currentColor\" x=\"225\">VERB</tspan>\n",
       "</text>\n",
       "\n",
       "<text class=\"displacy-token\" fill=\"currentColor\" text-anchor=\"middle\" y=\"309.5\">\n",
       "    <tspan class=\"displacy-word\" fill=\"currentColor\" x=\"400\">the monastic school</tspan>\n",
       "    <tspan class=\"displacy-tag\" dy=\"2em\" fill=\"currentColor\" x=\"400\">NOUN</tspan>\n",
       "</text>\n",
       "\n",
       "<text class=\"displacy-token\" fill=\"currentColor\" text-anchor=\"middle\" y=\"309.5\">\n",
       "    <tspan class=\"displacy-word\" fill=\"currentColor\" x=\"575\">in</tspan>\n",
       "    <tspan class=\"displacy-tag\" dy=\"2em\" fill=\"currentColor\" x=\"575\">ADP</tspan>\n",
       "</text>\n",
       "\n",
       "<text class=\"displacy-token\" fill=\"currentColor\" text-anchor=\"middle\" y=\"309.5\">\n",
       "    <tspan class=\"displacy-word\" fill=\"currentColor\" x=\"750\">Königsbronn</tspan>\n",
       "    <tspan class=\"displacy-tag\" dy=\"2em\" fill=\"currentColor\" x=\"750\">PROPN</tspan>\n",
       "</text>\n",
       "\n",
       "<text class=\"displacy-token\" fill=\"currentColor\" text-anchor=\"middle\" y=\"309.5\">\n",
       "    <tspan class=\"displacy-word\" fill=\"currentColor\" x=\"925\">then,</tspan>\n",
       "    <tspan class=\"displacy-tag\" dy=\"2em\" fill=\"currentColor\" x=\"925\">ADV</tspan>\n",
       "</text>\n",
       "\n",
       "<text class=\"displacy-token\" fill=\"currentColor\" text-anchor=\"middle\" y=\"309.5\">\n",
       "    <tspan class=\"displacy-word\" fill=\"currentColor\" x=\"1100\">after</tspan>\n",
       "    <tspan class=\"displacy-tag\" dy=\"2em\" fill=\"currentColor\" x=\"1100\">ADP</tspan>\n",
       "</text>\n",
       "\n",
       "<text class=\"displacy-token\" fill=\"currentColor\" text-anchor=\"middle\" y=\"309.5\">\n",
       "    <tspan class=\"displacy-word\" fill=\"currentColor\" x=\"1275\">his studies</tspan>\n",
       "    <tspan class=\"displacy-tag\" dy=\"2em\" fill=\"currentColor\" x=\"1275\">NOUN</tspan>\n",
       "</text>\n",
       "\n",
       "<text class=\"displacy-token\" fill=\"currentColor\" text-anchor=\"middle\" y=\"309.5\">\n",
       "    <tspan class=\"displacy-word\" fill=\"currentColor\" x=\"1450\">there,</tspan>\n",
       "    <tspan class=\"displacy-tag\" dy=\"2em\" fill=\"currentColor\" x=\"1450\">ADV</tspan>\n",
       "</text>\n",
       "\n",
       "<text class=\"displacy-token\" fill=\"currentColor\" text-anchor=\"middle\" y=\"309.5\">\n",
       "    <tspan class=\"displacy-word\" fill=\"currentColor\" x=\"1625\">entered</tspan>\n",
       "    <tspan class=\"displacy-tag\" dy=\"2em\" fill=\"currentColor\" x=\"1625\">VERB</tspan>\n",
       "</text>\n",
       "\n",
       "<text class=\"displacy-token\" fill=\"currentColor\" text-anchor=\"middle\" y=\"309.5\">\n",
       "    <tspan class=\"displacy-word\" fill=\"currentColor\" x=\"1800\">Tübingen University</tspan>\n",
       "    <tspan class=\"displacy-tag\" dy=\"2em\" fill=\"currentColor\" x=\"1800\">PROPN</tspan>\n",
       "</text>\n",
       "\n",
       "<text class=\"displacy-token\" fill=\"currentColor\" text-anchor=\"middle\" y=\"309.5\">\n",
       "    <tspan class=\"displacy-word\" fill=\"currentColor\" x=\"1975\">in</tspan>\n",
       "    <tspan class=\"displacy-tag\" dy=\"2em\" fill=\"currentColor\" x=\"1975\">ADP</tspan>\n",
       "</text>\n",
       "\n",
       "<text class=\"displacy-token\" fill=\"currentColor\" text-anchor=\"middle\" y=\"309.5\">\n",
       "    <tspan class=\"displacy-word\" fill=\"currentColor\" x=\"2150\">1568.</tspan>\n",
       "    <tspan class=\"displacy-tag\" dy=\"2em\" fill=\"currentColor\" x=\"2150\">NUM</tspan>\n",
       "</text>\n",
       "\n",
       "<g class=\"displacy-arrow\">\n",
       "    <path class=\"displacy-arc\" id=\"arrow-8d1828c777c94ba6a33d173620777385-0-0\" stroke-width=\"2px\" d=\"M70,264.5 C70,177.0 215.0,177.0 215.0,264.5\" fill=\"none\" stroke=\"currentColor\"/>\n",
       "    <text dy=\"1.25em\" style=\"font-size: 0.8em; letter-spacing: 1px\">\n",
       "        <textPath xlink:href=\"#arrow-8d1828c777c94ba6a33d173620777385-0-0\" class=\"displacy-label\" startOffset=\"50%\" side=\"left\" fill=\"currentColor\" text-anchor=\"middle\">nsubj</textPath>\n",
       "    </text>\n",
       "    <path class=\"displacy-arrowhead\" d=\"M70,266.5 L62,254.5 78,254.5\" fill=\"currentColor\"/>\n",
       "</g>\n",
       "\n",
       "<g class=\"displacy-arrow\">\n",
       "    <path class=\"displacy-arc\" id=\"arrow-8d1828c777c94ba6a33d173620777385-0-1\" stroke-width=\"2px\" d=\"M245,264.5 C245,177.0 390.0,177.0 390.0,264.5\" fill=\"none\" stroke=\"currentColor\"/>\n",
       "    <text dy=\"1.25em\" style=\"font-size: 0.8em; letter-spacing: 1px\">\n",
       "        <textPath xlink:href=\"#arrow-8d1828c777c94ba6a33d173620777385-0-1\" class=\"displacy-label\" startOffset=\"50%\" side=\"left\" fill=\"currentColor\" text-anchor=\"middle\">dobj</textPath>\n",
       "    </text>\n",
       "    <path class=\"displacy-arrowhead\" d=\"M390.0,266.5 L398.0,254.5 382.0,254.5\" fill=\"currentColor\"/>\n",
       "</g>\n",
       "\n",
       "<g class=\"displacy-arrow\">\n",
       "    <path class=\"displacy-arc\" id=\"arrow-8d1828c777c94ba6a33d173620777385-0-2\" stroke-width=\"2px\" d=\"M420,264.5 C420,177.0 565.0,177.0 565.0,264.5\" fill=\"none\" stroke=\"currentColor\"/>\n",
       "    <text dy=\"1.25em\" style=\"font-size: 0.8em; letter-spacing: 1px\">\n",
       "        <textPath xlink:href=\"#arrow-8d1828c777c94ba6a33d173620777385-0-2\" class=\"displacy-label\" startOffset=\"50%\" side=\"left\" fill=\"currentColor\" text-anchor=\"middle\">prep</textPath>\n",
       "    </text>\n",
       "    <path class=\"displacy-arrowhead\" d=\"M565.0,266.5 L573.0,254.5 557.0,254.5\" fill=\"currentColor\"/>\n",
       "</g>\n",
       "\n",
       "<g class=\"displacy-arrow\">\n",
       "    <path class=\"displacy-arc\" id=\"arrow-8d1828c777c94ba6a33d173620777385-0-3\" stroke-width=\"2px\" d=\"M595,264.5 C595,177.0 740.0,177.0 740.0,264.5\" fill=\"none\" stroke=\"currentColor\"/>\n",
       "    <text dy=\"1.25em\" style=\"font-size: 0.8em; letter-spacing: 1px\">\n",
       "        <textPath xlink:href=\"#arrow-8d1828c777c94ba6a33d173620777385-0-3\" class=\"displacy-label\" startOffset=\"50%\" side=\"left\" fill=\"currentColor\" text-anchor=\"middle\">pobj</textPath>\n",
       "    </text>\n",
       "    <path class=\"displacy-arrowhead\" d=\"M740.0,266.5 L748.0,254.5 732.0,254.5\" fill=\"currentColor\"/>\n",
       "</g>\n",
       "\n",
       "<g class=\"displacy-arrow\">\n",
       "    <path class=\"displacy-arc\" id=\"arrow-8d1828c777c94ba6a33d173620777385-0-4\" stroke-width=\"2px\" d=\"M245,264.5 C245,89.5 920.0,89.5 920.0,264.5\" fill=\"none\" stroke=\"currentColor\"/>\n",
       "    <text dy=\"1.25em\" style=\"font-size: 0.8em; letter-spacing: 1px\">\n",
       "        <textPath xlink:href=\"#arrow-8d1828c777c94ba6a33d173620777385-0-4\" class=\"displacy-label\" startOffset=\"50%\" side=\"left\" fill=\"currentColor\" text-anchor=\"middle\">advmod</textPath>\n",
       "    </text>\n",
       "    <path class=\"displacy-arrowhead\" d=\"M920.0,266.5 L928.0,254.5 912.0,254.5\" fill=\"currentColor\"/>\n",
       "</g>\n",
       "\n",
       "<g class=\"displacy-arrow\">\n",
       "    <path class=\"displacy-arc\" id=\"arrow-8d1828c777c94ba6a33d173620777385-0-5\" stroke-width=\"2px\" d=\"M1120,264.5 C1120,89.5 1620.0,89.5 1620.0,264.5\" fill=\"none\" stroke=\"currentColor\"/>\n",
       "    <text dy=\"1.25em\" style=\"font-size: 0.8em; letter-spacing: 1px\">\n",
       "        <textPath xlink:href=\"#arrow-8d1828c777c94ba6a33d173620777385-0-5\" class=\"displacy-label\" startOffset=\"50%\" side=\"left\" fill=\"currentColor\" text-anchor=\"middle\">prep</textPath>\n",
       "    </text>\n",
       "    <path class=\"displacy-arrowhead\" d=\"M1120,266.5 L1112,254.5 1128,254.5\" fill=\"currentColor\"/>\n",
       "</g>\n",
       "\n",
       "<g class=\"displacy-arrow\">\n",
       "    <path class=\"displacy-arc\" id=\"arrow-8d1828c777c94ba6a33d173620777385-0-6\" stroke-width=\"2px\" d=\"M1120,264.5 C1120,177.0 1265.0,177.0 1265.0,264.5\" fill=\"none\" stroke=\"currentColor\"/>\n",
       "    <text dy=\"1.25em\" style=\"font-size: 0.8em; letter-spacing: 1px\">\n",
       "        <textPath xlink:href=\"#arrow-8d1828c777c94ba6a33d173620777385-0-6\" class=\"displacy-label\" startOffset=\"50%\" side=\"left\" fill=\"currentColor\" text-anchor=\"middle\">pobj</textPath>\n",
       "    </text>\n",
       "    <path class=\"displacy-arrowhead\" d=\"M1265.0,266.5 L1273.0,254.5 1257.0,254.5\" fill=\"currentColor\"/>\n",
       "</g>\n",
       "\n",
       "<g class=\"displacy-arrow\">\n",
       "    <path class=\"displacy-arc\" id=\"arrow-8d1828c777c94ba6a33d173620777385-0-7\" stroke-width=\"2px\" d=\"M1295,264.5 C1295,177.0 1440.0,177.0 1440.0,264.5\" fill=\"none\" stroke=\"currentColor\"/>\n",
       "    <text dy=\"1.25em\" style=\"font-size: 0.8em; letter-spacing: 1px\">\n",
       "        <textPath xlink:href=\"#arrow-8d1828c777c94ba6a33d173620777385-0-7\" class=\"displacy-label\" startOffset=\"50%\" side=\"left\" fill=\"currentColor\" text-anchor=\"middle\">advmod</textPath>\n",
       "    </text>\n",
       "    <path class=\"displacy-arrowhead\" d=\"M1440.0,266.5 L1448.0,254.5 1432.0,254.5\" fill=\"currentColor\"/>\n",
       "</g>\n",
       "\n",
       "<g class=\"displacy-arrow\">\n",
       "    <path class=\"displacy-arc\" id=\"arrow-8d1828c777c94ba6a33d173620777385-0-8\" stroke-width=\"2px\" d=\"M245,264.5 C245,2.0 1625.0,2.0 1625.0,264.5\" fill=\"none\" stroke=\"currentColor\"/>\n",
       "    <text dy=\"1.25em\" style=\"font-size: 0.8em; letter-spacing: 1px\">\n",
       "        <textPath xlink:href=\"#arrow-8d1828c777c94ba6a33d173620777385-0-8\" class=\"displacy-label\" startOffset=\"50%\" side=\"left\" fill=\"currentColor\" text-anchor=\"middle\">advcl</textPath>\n",
       "    </text>\n",
       "    <path class=\"displacy-arrowhead\" d=\"M1625.0,266.5 L1633.0,254.5 1617.0,254.5\" fill=\"currentColor\"/>\n",
       "</g>\n",
       "\n",
       "<g class=\"displacy-arrow\">\n",
       "    <path class=\"displacy-arc\" id=\"arrow-8d1828c777c94ba6a33d173620777385-0-9\" stroke-width=\"2px\" d=\"M1645,264.5 C1645,177.0 1790.0,177.0 1790.0,264.5\" fill=\"none\" stroke=\"currentColor\"/>\n",
       "    <text dy=\"1.25em\" style=\"font-size: 0.8em; letter-spacing: 1px\">\n",
       "        <textPath xlink:href=\"#arrow-8d1828c777c94ba6a33d173620777385-0-9\" class=\"displacy-label\" startOffset=\"50%\" side=\"left\" fill=\"currentColor\" text-anchor=\"middle\">dobj</textPath>\n",
       "    </text>\n",
       "    <path class=\"displacy-arrowhead\" d=\"M1790.0,266.5 L1798.0,254.5 1782.0,254.5\" fill=\"currentColor\"/>\n",
       "</g>\n",
       "\n",
       "<g class=\"displacy-arrow\">\n",
       "    <path class=\"displacy-arc\" id=\"arrow-8d1828c777c94ba6a33d173620777385-0-10\" stroke-width=\"2px\" d=\"M1645,264.5 C1645,89.5 1970.0,89.5 1970.0,264.5\" fill=\"none\" stroke=\"currentColor\"/>\n",
       "    <text dy=\"1.25em\" style=\"font-size: 0.8em; letter-spacing: 1px\">\n",
       "        <textPath xlink:href=\"#arrow-8d1828c777c94ba6a33d173620777385-0-10\" class=\"displacy-label\" startOffset=\"50%\" side=\"left\" fill=\"currentColor\" text-anchor=\"middle\">prep</textPath>\n",
       "    </text>\n",
       "    <path class=\"displacy-arrowhead\" d=\"M1970.0,266.5 L1978.0,254.5 1962.0,254.5\" fill=\"currentColor\"/>\n",
       "</g>\n",
       "\n",
       "<g class=\"displacy-arrow\">\n",
       "    <path class=\"displacy-arc\" id=\"arrow-8d1828c777c94ba6a33d173620777385-0-11\" stroke-width=\"2px\" d=\"M1995,264.5 C1995,177.0 2140.0,177.0 2140.0,264.5\" fill=\"none\" stroke=\"currentColor\"/>\n",
       "    <text dy=\"1.25em\" style=\"font-size: 0.8em; letter-spacing: 1px\">\n",
       "        <textPath xlink:href=\"#arrow-8d1828c777c94ba6a33d173620777385-0-11\" class=\"displacy-label\" startOffset=\"50%\" side=\"left\" fill=\"currentColor\" text-anchor=\"middle\">pobj</textPath>\n",
       "    </text>\n",
       "    <path class=\"displacy-arrowhead\" d=\"M2140.0,266.5 L2148.0,254.5 2132.0,254.5\" fill=\"currentColor\"/>\n",
       "</g>\n",
       "</svg></span>"
      ],
      "text/plain": [
       "<IPython.core.display.HTML object>"
      ]
     },
     "metadata": {},
     "output_type": "display_data"
    }
   ],
   "source": [
    "options= {\"collapse_phrases\":True}\n",
    "displacy.render(s, style=\"dep\", options= options )"
   ]
  },
  {
   "cell_type": "markdown",
   "id": "e4014bdf-5485-4500-903e-19a873f9d591",
   "metadata": {
    "tags": []
   },
   "source": [
    "## Named entities\n",
    "\n",
    "* Résultats pas parfaits mais intéressants\n",
    "* Peut on améliorer par entraînement ?\n",
    "\n"
   ]
  },
  {
   "cell_type": "code",
   "execution_count": 26,
   "id": "032c08e7-b8ea-4735-ae2d-d70ab9a3355f",
   "metadata": {},
   "outputs": [
    {
     "name": "stdout",
     "output_type": "stream",
     "text": [
      "GPE Königsbronn [Königsbronn] \n",
      "ORG Tübingen University [Tübingen University] \n",
      "DATE 1568 [] \n"
     ]
    }
   ],
   "source": [
    "for e in s.ents:\n",
    "    print(e.label_,e.text, list(e.noun_chunks), e.ent_id_)"
   ]
  },
  {
   "cell_type": "code",
   "execution_count": 27,
   "id": "6ef37bd8-18b3-482d-891f-b990771587de",
   "metadata": {},
   "outputs": [
    {
     "data": {
      "text/html": [
       "<span class=\"tex2jax_ignore\"><div class=\"entities\" style=\"line-height: 2.5; direction: ltr\">He attended the monastic school in \n",
       "<mark class=\"entity\" style=\"background: #feca74; padding: 0.45em 0.6em; margin: 0 0.25em; line-height: 1; border-radius: 0.35em;\">\n",
       "    Königsbronn\n",
       "    <span style=\"font-size: 0.8em; font-weight: bold; line-height: 1; border-radius: 0.35em; vertical-align: middle; margin-left: 0.5rem\">GPE</span>\n",
       "</mark>\n",
       " then, after his studies there, entered \n",
       "<mark class=\"entity\" style=\"background: #7aecec; padding: 0.45em 0.6em; margin: 0 0.25em; line-height: 1; border-radius: 0.35em;\">\n",
       "    Tübingen University\n",
       "    <span style=\"font-size: 0.8em; font-weight: bold; line-height: 1; border-radius: 0.35em; vertical-align: middle; margin-left: 0.5rem\">ORG</span>\n",
       "</mark>\n",
       " in \n",
       "<mark class=\"entity\" style=\"background: #bfe1d9; padding: 0.45em 0.6em; margin: 0 0.25em; line-height: 1; border-radius: 0.35em;\">\n",
       "    1568\n",
       "    <span style=\"font-size: 0.8em; font-weight: bold; line-height: 1; border-radius: 0.35em; vertical-align: middle; margin-left: 0.5rem\">DATE</span>\n",
       "</mark>\n",
       ". </div></span>"
      ],
      "text/plain": [
       "<IPython.core.display.HTML object>"
      ]
     },
     "metadata": {},
     "output_type": "display_data"
    }
   ],
   "source": [
    "options= {\"collapse_phrases\":True}\n",
    "displacy.render(s, style=\"ent\", options= options )"
   ]
  },
  {
   "cell_type": "code",
   "execution_count": 28,
   "id": "7b8803de-0ded-47ff-8f0e-9fca685945b2",
   "metadata": {},
   "outputs": [],
   "source": [
    "ents = doc.ents\n",
    "df_ents = pd.DataFrame([[e.label_,e.text, list(e.noun_chunks), e.vector[:2]] for e in ents])\n",
    "df_ents.columns= ['type', 'label','chunks', \"vector\"]"
   ]
  },
  {
   "cell_type": "code",
   "execution_count": 29,
   "id": "0cc8319f-f5e4-4d07-93e6-487bbfc963fd",
   "metadata": {},
   "outputs": [
    {
     "data": {
      "text/plain": [
       "(170,\n",
       "        type            label                chunks                    vector\n",
       " 0    PERSON  Michael Mästlin  [(Michael, Mästlin)]      [-2.77865, -1.65305]\n",
       " 1       GPE        Göppingen         [(Göppingen)]        [-2.2553, -1.9444]\n",
       " 2  QUANTITY      about 50 km                    []  [-4.6376333, -0.7857833]\n",
       " 3       GPE         Tübingen          [(Tübingen)]        [-1.9794, -2.3969]\n",
       " 4    PERSON    Jakob Mästlin    [(Jakob, Mästlin)]       [-2.0127, -1.22875])"
      ]
     },
     "execution_count": 29,
     "metadata": {},
     "output_type": "execute_result"
    }
   ],
   "source": [
    "len(df_ents), df_ents.head()"
   ]
  },
  {
   "cell_type": "code",
   "execution_count": 30,
   "id": "b7c64d0f-be22-4fbe-baf1-46c002012b28",
   "metadata": {
    "scrolled": true,
    "tags": []
   },
   "outputs": [
    {
     "data": {
      "text/plain": [
       "[['Mästlin', 17],\n",
       " ['Copernicus', 10],\n",
       " ['Tübingen', 8],\n",
       " ['Kepler', 5],\n",
       " ['Backnang', 4],\n",
       " ['Methuen', 4],\n",
       " ['first', 4],\n",
       " ['3]:-', 3],\n",
       " ['Ptolemy', 3],\n",
       " ['1577', 3],\n",
       " ['De', 3],\n",
       " ['two', 3],\n",
       " ['Copernican', 3],\n",
       " ['Tübingen University', 2],\n",
       " ['Heidelberg', 2],\n",
       " ['Leipzig', 2],\n",
       " ['Aristotle', 2],\n",
       " ['Göppingen', 2],\n",
       " ['four years', 2],\n",
       " ['Lutheran', 2],\n",
       " ['three', 2],\n",
       " ['Philipp Apian', 2],\n",
       " ['1580', 2],\n",
       " ['1578', 2],\n",
       " ['Michael Mästlin', 2],\n",
       " ['1571', 2],\n",
       " ['1570', 2],\n",
       " ['Observatio', 1],\n",
       " ['Victorin Strigel', 1],\n",
       " ['Veneris apparuit', 1],\n",
       " [\"Tübingen University's\", 1],\n",
       " [\"Peter Apian's\", 1],\n",
       " ['Peter] Apian', 1],\n",
       " ['Pleiades', 1],\n",
       " ['Rheticus', 1],\n",
       " ['about 50 km', 1],\n",
       " ['about 30 km', 1],\n",
       " ['the years 1577 and', 1],\n",
       " ['the following years', 1],\n",
       " ['the age of 78', 1],\n",
       " ['the University of Tübingen', 1],\n",
       " ['the University of Heidelberg', 1],\n",
       " ['the New Star', 1],\n",
       " ['the Lutheran Church', 1],\n",
       " ['the Astronomical Revolution', 1],\n",
       " ['sixth', 1],\n",
       " ['six', 1],\n",
       " ['Osiander', 1],\n",
       " ['geometricis et calculo', 1],\n",
       " ['five', 1],\n",
       " ['eight', 1],\n",
       " ['demonstrationibus', 1],\n",
       " ['demonstratio cometae aetherae qui anno', 1],\n",
       " ['de alio quoquam cometa nunquam visa est', 1],\n",
       " ['constitutus', 1],\n",
       " ['arithmetico cuius modi', 1],\n",
       " ['approximately 0.6180340', 1],\n",
       " ['admirandius eius passionibus', 1],\n",
       " ['orbe distantia', 1],\n",
       " ['Dorothea Simon', 1],\n",
       " ['Copernicanism', 1],\n",
       " ['Biblical', 1],\n",
       " ['Astronomers', 1],\n",
       " ['April 1577', 1],\n",
       " ['Apian', 1],\n",
       " ['6', 1],\n",
       " ['3', 1],\n",
       " ['2]:-', 1],\n",
       " ['Maestlin', 1],\n",
       " ['1597', 1],\n",
       " ['1589-94', 1],\n",
       " ['1582', 1],\n",
       " ['1577 - 1578', 1],\n",
       " ['1576', 1],\n",
       " ['1572', 1],\n",
       " ['1568', 1],\n",
       " ['1551-1588', 1],\n",
       " ['11', 1],\n",
       " ['1628', 1],\n",
       " ['Mästlin continued:-', 1],\n",
       " ['Michael', 1],\n",
       " ['Margarete Gruuninger', 1],\n",
       " ['Margarete Burkhardt', 1],\n",
       " ['Margarete', 1],\n",
       " ['varietate scilicet motus', 1],\n",
       " ['Lutherans', 1],\n",
       " ['Leonardo da Vinci', 1],\n",
       " ['Königsbronn', 1],\n",
       " ['Earth', 1],\n",
       " ['Johannes Kepler', 1],\n",
       " ['Jakob Mästlin', 1],\n",
       " ['Gregorian', 1],\n",
       " ['Gingerich', 1],\n",
       " ['Georg Joachim Rheticus', 1],\n",
       " ['Galileo', 1],\n",
       " ['G Molland', 1],\n",
       " ['Erasmus Reinhold', 1],\n",
       " ['Epitome astronomiae', 1],\n",
       " ['Jupiter', 1]]"
      ]
     },
     "execution_count": 30,
     "metadata": {},
     "output_type": "execute_result"
    }
   ],
   "source": [
    "ldf = pd.DataFrame(df_ents.groupby(by='label').size().sort_values(ascending=False))\n",
    "ldf= ldf.reset_index()\n",
    "ldf.columns=['label','effectif']\n",
    "ldf.values.tolist()"
   ]
  },
  {
   "cell_type": "code",
   "execution_count": null,
   "id": "59c866fc-9590-4446-832a-fb6c6cafa0be",
   "metadata": {},
   "outputs": [],
   "source": []
  },
  {
   "cell_type": "markdown",
   "id": "9c62b96a-d962-445e-b0fe-b0f292ed7599",
   "metadata": {},
   "source": [
    "## Explore some aspects of the pipeline with a coreferenced text"
   ]
  },
  {
   "cell_type": "code",
   "execution_count": 31,
   "id": "3cfde685-9bbe-46a5-b918-5efd98fd0910",
   "metadata": {},
   "outputs": [],
   "source": [
    "tx1 = \"\"\"Michael Mästlin was born in Göppingen which was a village about 50 km east of Tübingen. Mästlin father, Jakob Mästlin, and Mästlin mother, Dorothea Simon, were both devout Lutherans and Michael was brought up in that faith and remained strongly committed to father throughout Mästlin life. Mästlin was the middle child of the family, having an older sister and a younger brother. Mästlin attended the monastic school in Königsbronn then, after Mästlin studies there, entered Tübingen University in 1568. [3]:-\n",
    "As was the case with many young scholars including Kepler, Mästlin most famous student, [Mästlin ] did Mästlin undergraduate studies at a preparatory school and came to the university to take Mästlin final exams and pick up Mästlin baccalaureate degree.At Tübingen University Mästlin studied mathematics and astronomy for a Master's degree under Philipp Apian who was Peter Apian's son. In 1570, while a student, Mästlin purchased a copy of Copernicus's De revolutionibus from the widow of Victorin Strigel, who had been professor of theology at Leipzig and the author of an astronomy text. Mästlin was awarded a Master 's degree with distinction in 1571. While studying for this degree Mästlin had edited a new edition of the Prutenis Tables which was published in 1571. The Prutenis Tables had been originally compiled by Erasmus Reinhold who had based 1571 on Copernicus's version of the solar system. After graduating, Mästlin spent the following years teaching in Tübingen, and at the same time took [3]:-\n",
    "... the theological programme, because Tübingen University's primary mission was to prepare young men for the Lutheran ministry.Then, in 1576, Mästlin was sent to be a deacon at the Lutheran Church in Backnang, a town about 30 km northwest of Göppingen. Mästlin married Margarete Gruuninger (1551-1588) in April 1577 not long after Mästlin took up the position in Backnang ; 1551 had three sons and three daughters but Margarete died due to complications with the birth of 1551 sixth child. Mästlin then married Margarete Burkhardt, daughter of a professor at Tübingen; 1551 had eight children.\n",
    "\n",
    "Mästlin is famous for Mästlin excellent, very accurate, observations of the comet of 1577, observed while Mästlin was in Backnang, and published in Tübingen in 1578 as Observatio et demonstratio cometae aetherae qui anno 1577 et 1578 constitutus in sphaera Veneris apparuit cum admirandius eius passionibus varietate scilicet motus loco orbe distantia a terro centro etc. adhibitis demonstrationibus geometricis et calculo arithmetico cuius modi de alio quoquam cometa nunquam visa est (Observations and demonstrations of the ethereal comets of the years 1577 and 1578). We discuss this achievement in more detail below. Mästlin remained in Backnang for four years, then was appointed as professor of mathematics at the University of Heidelberg in 1580. There Mästlin published the first edition of Mästlin famous astronomy textbook Epitome astronomiae (1582) - Mästlin published six further editions of this popular work during Mästlin lifetime. Despite Mästlin commitment to the views of Copernicus (which we state below in Mästlin own words) this teaching textbook was written purely as a description of astronomy based on the geocentric model of Ptolemy.\n",
    "\n",
    "After four years in Heidelberg Mästlin returned to Mästlin position in Tübingen where Mästlin spent the rest of Mästlin career [2]:-\n",
    "At Tübingen , Mästlin was elected dean of the arts faculty several times. Mästlin was well liked by both Mästlin colleagues and Mästlin students. Mästlin was very generous both to Mästlin family and to others. Mästlin was a religious man; Mästlin followed the Lutheran line in opposing the Gregorian calendar reform partly because man was initiated by the Pope. Mästlin had several students who became noted mathematicians, the most famous being Kepler. Mästlin also maintained interests in Biblical chronology and geography.Perhaps Mästlin greatest achievement (other than being Kepler 's teacher) is that Mästlin was the first to compute the orbit of a comet, although Mästlin method was not sound. Mästlin found, however, a sun centred orbit for the comet of 1577 which Mästlin claimed supported Copernicus's heliocentric system. Mästlin did show that the comet was further away than the moon, which contradicted the accepted teachings of Aristotle. Although clearly believing in the system as proposed by Copernicus , Mästlin taught astronomy using Mästlin own textbook which was based on Ptolemy's system. However for the more advanced lectures Mästlin adopted the heliocentric approach - Kepler credited Mästlin with introducing Mästlin to Copernican ideas while Mästlin was a student at Tübingen (1589-94). In [6] Methuen looks at these two different world systems in Mästlin 's teaching. A G Molland reviews Methuen 's paper:-\n",
    "Michael Mästlin is regularly ascribed a firm if minor place in accounts of the Astronomical Revolution, as the teacher of Johannes Kepler and as an early believer in the physical reality of the Copernican system. What has been less clear is how this related to Kepler regular teaching at the University of Tübingen, with some having argued that Kepler only taught Copernicanism cautiously and in private. Methuen examines this question in the light of Maestlin's published writings, including five sets of theses over whose disputations (two at Heidelberg, one at Tübingen ) Kepler presided. believer shows that Kepler had no compunction about firmly asserting the supralunar position of the New Star of 1572 and of the comets of 1577 - 1578 and 1580. In general, Kepler writings, especially Kepler textbook 'Epitome astronomiae' of 1582, show no firm Copernican commitment, although there are signs of a leaning in that direction, and Kepler was concerned with emphasizing the interconvertibility of hypotheses. Kepler elementary teaching was certainly based on traditional astronomy, but Methuen concludes that Kepler taught newer material to Kepler more advanced students. Methuen claims that Kepler made a clear distinction between \"spheres\" and \"orbs\", with the former possessing physical reality and the latter being merely useful mathematical constructions ...Mästlin was both a great expert on spherical trigonometry and also a fine observer producing accurate data - the quality of Mästlin eyesight is seen from the fact that Mästlin saw, and sketched the positions of, 11 stars in the Pleiades cluster. Of course there were not any bright city lights around then, but we challenge any reader to equal this achievement however dark a site reader find. Mästlin seems to have been the first to claim that the dark part of the moon shone through sunlight reflected from the earth but Leonardo da Vinci has also been credited with this idea. Another first for Mästlin is an accurate calculation of the golden ratio as \"approximately 0.6180340\" stated in a letter Mästlin wrote to Kepler in 1597.\n",
    "\n",
    "Mästlin was an innovative thinker who was quite prepared to challenge conventional views. For example Mästlin attempted to measure the parallax of a supernova and, having failed to find any, deduced that supernova was as far away as the \"fixed stars\". This of course contradicted the view, held since Aristotle, that all changes in the heavens occurred closer to earth than the realm of the stars which was unchanging.\n",
    "\n",
    "Mästlin lived to see the invention of the telescope for astronomical observations by Galileo. Mästlin had two, rather poor, telescopes with which Mästlin was able to observe sunspots and the moons of Jupiter. Mästlin was still making accurate observations at the age of 78 when Mästlin observed the lunar eclipse of 1628.\n",
    "\n",
    "As we mentioned above Mästlin acquired a copy of Copernicus's De revolutionibus in 1570 and Mästlin wrote extensive notes near the beginning of the book. These give much insight into Mästlin views on Copernicus and we quote the notes using Gingerich's translations. Mästlin wrote that [3]:-\n",
    "... the arrangement presented in this book is the sort of structure in which all the sidereal motions and phenomena are explained very exactly. Therefore this hypothesis recommends hypothesis to the intellect.Mästlin continued:-\n",
    "The heavenly motions were at the point of collapse, and so [Copernicus] concluded that appropriate hypotheses were needed to explain these motions . When Mästlin noticed that the common hypotheses were insufficient, Mästlin eventually accepted the idea of the Earth's mobility, since indeed, idea not only satisfied the phenomena very well but idea didn't lead to anything absurd.\n",
    "\n",
    "In fact, if anyone would straighten out the common hypotheses so that hypotheses would agree with the phenomena and allow no inconsistencies, then I would gratefully trust Mästlin ; clearly Mästlin would bring very many to Mästlin views. But I see that some, even very outstanding mathematicians, have laboured on this yet, in the end, without results. Therefore, I think that unless the common hypotheses are reformed (a task that I am not up to because of my inadequate abilities), I will accept the hypotheses and opinion of Copernicus - after Ptolemy, the prince of all Astronomers.There are further annotations written by Mästlin [3] which are very interesting. On the back of the title page of De revolutionibus is the infamous notice which states that \"... these hypotheses need not be true nor even probable; it is sufficient if the calculations agree with the observations.\" Mästlin adds a note to Mästlin copy stating:- \n",
    "This preface was added by someone, whoever preface author may be, (for indeed, preface weakness of style and choice of words reveal that preface is not by Copernicus).He later added a further note:-\n",
    "I found the following words written somewhere among the books of Philipp Apian (which I bought from Apian widow); although no author was given I could recognise Apian 's hand:\n",
    "On account of this letter Georg Joachim Rheticus, the Leipzig professor and disciple of Copernicus, became involved in a very bitter wrangle with the printer, who asserted that wrangle had been turned over to Rheticus with the rest of the work. Rheticus , however, suspected that Osiander [the proof-reader of Copernicus 's book] had prefaced Copernicus to the work . If professor knew this for certain, professor declared, professor would handle that fellow so that in future professor would mind professor own business and not slander astronomers any more. Nevertheless, [Peter] Apian told me that Osiander had openly admitted to professor that professor had added this all by professor .\"\"\""
   ]
  },
  {
   "cell_type": "code",
   "execution_count": 32,
   "id": "2720db4d-93e4-4033-9ba9-eaaa2d460920",
   "metadata": {},
   "outputs": [],
   "source": [
    "### Execute standard pipeline on one document\n",
    "doc1 = nlp(tx1)"
   ]
  },
  {
   "cell_type": "code",
   "execution_count": 33,
   "id": "0cffa8ca-f318-41bd-ba78-72ee803c867e",
   "metadata": {
    "tags": []
   },
   "outputs": [
    {
     "data": {
      "text/plain": [
       "70"
      ]
     },
     "execution_count": 33,
     "metadata": {},
     "output_type": "execute_result"
    }
   ],
   "source": [
    "### Produce a list of the sentences in the document and add an index to each sentence \n",
    "sents1 = [[i, s, [nc for nc in s.noun_chunks]]  for i, s in enumerate(doc1.sents)]\n",
    "len(sents1)"
   ]
  },
  {
   "cell_type": "code",
   "execution_count": 35,
   "id": "06d1f002-9aff-4013-a3b7-3c3f7e1ed72a",
   "metadata": {
    "tags": []
   },
   "outputs": [
    {
     "name": "stdout",
     "output_type": "stream",
     "text": [
      "----\n",
      " [3, Mästlin attended the monastic school in Königsbronn then, after Mästlin studies there, entered Tübingen University in 1568., [Mästlin, the monastic school, Königsbronn, Mästlin studies, Tübingen University]]\n",
      "----\n",
      " [4, [3]:-\n",
      "As was the case with many young scholars including Kepler, Mästlin most famous student, [Mästlin ] did Mästlin undergraduate studies at a preparatory school and came to the university to take Mästlin final exams and pick up Mästlin baccalaureate degree., [the case, many young scholars, Kepler, Mästlin most famous student, Mästlin, Mästlin undergraduate studies, a preparatory school, the university, Mästlin final exams, Mästlin baccalaureate degree]]\n",
      "----\n",
      " [5, At Tübingen University Mästlin studied mathematics and astronomy for a Master's degree under Philipp Apian who was Peter Apian's son., [Tübingen, University Mästlin, mathematics, astronomy, a Master's degree, Philipp Apian, who, Peter Apian's son]]\n"
     ]
    }
   ],
   "source": [
    "for sent in sents1[3:6]:\n",
    "    print('----\\n',sent)"
   ]
  },
  {
   "cell_type": "markdown",
   "id": "278a3926-4e8c-4f70-934b-a7011e50ae2c",
   "metadata": {},
   "source": [
    "### Explore Spacy pipeline results regarding tokens"
   ]
  },
  {
   "cell_type": "code",
   "execution_count": 38,
   "id": "d1454ceb-8d6c-475c-a932-524b67ab1cc4",
   "metadata": {},
   "outputs": [],
   "source": [
    "info = []\n",
    "for token in doc1:\n",
    "    info.append((token.idx, token.ent_id_,token.text, token.lemma_, token.pos_, token.tag_, token.dep_,\n",
    "                 token.head,\n",
    "                token.shape_, token.is_alpha, token.is_stop, token.tag_, token.vector[:1]))\n",
    "tx_df  = pd.DataFrame(info, columns = [\"idx\", \"ent_id_\",\"text\", \"lemma_\", \"pos_\", \"tag_\", \"dep_\",\"head\", \"shape_\", \"is_alpha\", \"is_stop\", \"tag_\", \"vector\"])"
   ]
  },
  {
   "cell_type": "code",
   "execution_count": 39,
   "id": "42f2035e-2a0a-4b55-b21a-299ff303b436",
   "metadata": {
    "tags": []
   },
   "outputs": [
    {
     "data": {
      "text/html": [
       "<style>.itables table td {\n",
       "    text-overflow: ellipsis;\n",
       "    overflow: hidden;\n",
       "}\n",
       "\n",
       ".itables table th {\n",
       "    text-overflow: ellipsis;\n",
       "    overflow: hidden;\n",
       "}\n",
       "\n",
       ".itables thead input {\n",
       "    width: 100%;\n",
       "    padding: 3px;\n",
       "    box-sizing: border-box;\n",
       "}\n",
       "\n",
       ".itables tfoot input {\n",
       "    width: 100%;\n",
       "    padding: 3px;\n",
       "    box-sizing: border-box;\n",
       "}\n",
       "</style>\n",
       "<div class=\"itables\">\n",
       "<table id=\"6b895a07-2dc3-4e47-9681-02334dcaf77a\" class=\"display\"style=\"table-layout:auto;width:auto;margin:auto;caption-side:bottom\"><thead>\n",
       "    <tr style=\"text-align: right;\">\n",
       "      \n",
       "      <th>idx</th>\n",
       "      <th>ent_id_</th>\n",
       "      <th>text</th>\n",
       "      <th>lemma_</th>\n",
       "      <th>pos_</th>\n",
       "      <th>tag_</th>\n",
       "      <th>dep_</th>\n",
       "      <th>head</th>\n",
       "      <th>shape_</th>\n",
       "      <th>is_alpha</th>\n",
       "      <th>is_stop</th>\n",
       "      <th>tag_</th>\n",
       "      <th>vector</th>\n",
       "    </tr>\n",
       "  </thead><tbody><tr><td>Loading... (need <a href=https://mwouts.github.io/itables/troubleshooting.html>help</a>?)</td></tr></tbody><tfoot><th>idx</th><th>ent_id_</th><th>text</th><th>lemma_</th><th>pos_</th><th>tag_</th><th>dep_</th><th>head</th><th>shape_</th><th>is_alpha</th><th>is_stop</th><th>tag_</th><th>vector</th></tfoot></table>\n",
       "<link rel=\"stylesheet\" type=\"text/css\" href=\"https://cdn.datatables.net/1.13.1/css/jquery.dataTables.min.css\">\n",
       "<script type=\"module\">\n",
       "    // Import jquery and DataTable\n",
       "    import 'https://code.jquery.com/jquery-3.6.0.min.js';\n",
       "    import dt from 'https://cdn.datatables.net/1.12.1/js/jquery.dataTables.mjs';\n",
       "    dt($);\n",
       "\n",
       "    // Define the table data\n",
       "    const data = [[0, \"\", \"Michael\", \"Michael\", \"PROPN\", \"NNP\", \"compound\", \"M\\u00e4stlin\", \"Xxxxx\", true, false, \"NNP\", \"[-5.5573]\"], [8, \"\", \"M\\u00e4stlin\", \"M\\u00e4stlin\", \"PROPN\", \"NNP\", \"nsubjpass\", \"born\", \"Xxxxx\", true, false, \"NNP\", \"[0.0]\"], [16, \"\", \"was\", \"be\", \"AUX\", \"VBD\", \"auxpass\", \"born\", \"xxx\", true, true, \"VBD\", \"[-9.5058]\"], [20, \"\", \"born\", \"bear\", \"VERB\", \"VBN\", \"ROOT\", \"born\", \"xxxx\", true, false, \"VBN\", \"[-6.082]\"], [25, \"\", \"in\", \"in\", \"ADP\", \"IN\", \"prep\", \"born\", \"xx\", true, true, \"IN\", \"[-3.7766]\"], [28, \"\", \"G\\u00f6ppingen\", \"G\\u00f6ppingen\", \"PROPN\", \"NNP\", \"pobj\", \"in\", \"Xxxxx\", true, false, \"NNP\", \"[-2.2553]\"], [38, \"\", \"which\", \"which\", \"PRON\", \"WDT\", \"nsubj\", \"was\", \"xxxx\", true, true, \"WDT\", \"[-3.2023]\"], [44, \"\", \"was\", \"be\", \"AUX\", \"VBD\", \"relcl\", \"M\\u00e4stlin\", \"xxx\", true, true, \"VBD\", \"[-9.5058]\"], [48, \"\", \"a\", \"a\", \"DET\", \"DT\", \"det\", \"village\", \"x\", true, true, \"DT\", \"[-9.3629]\"], [50, \"\", \"village\", \"village\", \"NOUN\", \"NN\", \"attr\", \"was\", \"xxxx\", true, false, \"NN\", \"[-2.5744]\"], [58, \"\", \"about\", \"about\", \"ADV\", \"RB\", \"advmod\", \"50\", \"xxxx\", true, true, \"RB\", \"[-1.5398]\"], [64, \"\", \"50\", \"50\", \"NUM\", \"CD\", \"nummod\", \"km\", \"dd\", false, false, \"CD\", \"[-1.0661]\"], [67, \"\", \"km\", \"km\", \"NOUN\", \"NNS\", \"npadvmod\", \"east\", \"xx\", true, false, \"NNS\", \"[-11.307]\"], [70, \"\", \"east\", \"east\", \"ADV\", \"RB\", \"advmod\", \"village\", \"xxxx\", true, false, \"RB\", \"[-4.7035]\"], [75, \"\", \"of\", \"of\", \"ADP\", \"IN\", \"prep\", \"east\", \"xx\", true, true, \"IN\", \"[-12.667]\"], [78, \"\", \"T\\u00fcbingen\", \"T\\u00fcbingen\", \"PROPN\", \"NNP\", \"pobj\", \"of\", \"Xxxxx\", true, false, \"NNP\", \"[-1.9794]\"], [86, \"\", \".\", \".\", \"PUNCT\", \".\", \"punct\", \"born\", \".\", false, false, \".\", \"[-0.076454]\"], [88, \"\", \"M\\u00e4stlin\", \"M\\u00e4stlin\", \"PROPN\", \"NNP\", \"compound\", \"father\", \"Xxxxx\", true, false, \"NNP\", \"[0.0]\"], [96, \"\", \"father\", \"father\", \"NOUN\", \"NN\", \"nsubj\", \"were\", \"xxxx\", true, false, \"NN\", \"[-1.0106]\"], [102, \"\", \",\", \",\", \"PUNCT\", \",\", \"punct\", \"father\", \",\", false, false, \",\", \"[-3.3899]\"], [104, \"\", \"Jakob\", \"Jakob\", \"PROPN\", \"NNP\", \"compound\", \"M\\u00e4stlin\", \"Xxxxx\", true, false, \"NNP\", \"[-4.0254]\"], [110, \"\", \"M\\u00e4stlin\", \"M\\u00e4stlin\", \"PROPN\", \"NNP\", \"appos\", \"father\", \"Xxxxx\", true, false, \"NNP\", \"[0.0]\"], [117, \"\", \",\", \",\", \"PUNCT\", \",\", \"punct\", \"father\", \",\", false, false, \",\", \"[-3.3899]\"], [119, \"\", \"and\", \"and\", \"CCONJ\", \"CC\", \"cc\", \"father\", \"xxx\", true, true, \"CC\", \"[-3.3477]\"], [123, \"\", \"M\\u00e4stlin\", \"M\\u00e4stlin\", \"PROPN\", \"NNP\", \"compound\", \"mother\", \"Xxxxx\", true, false, \"NNP\", \"[0.0]\"], [131, \"\", \"mother\", \"mother\", \"NOUN\", \"NN\", \"conj\", \"father\", \"xxxx\", true, false, \"NN\", \"[1.4643]\"], [137, \"\", \",\", \",\", \"PUNCT\", \",\", \"punct\", \"mother\", \",\", false, false, \",\", \"[-3.3899]\"], [139, \"\", \"Dorothea\", \"Dorothea\", \"PROPN\", \"NNP\", \"compound\", \"Simon\", \"Xxxxx\", true, false, \"NNP\", \"[-1.9794]\"], [148, \"\", \"Simon\", \"Simon\", \"PROPN\", \"NNP\", \"appos\", \"mother\", \"Xxxxx\", true, false, \"NNP\", \"[-1.0745]\"], [153, \"\", \",\", \",\", \"PUNCT\", \",\", \"punct\", \"mother\", \",\", false, false, \",\", \"[-3.3899]\"], [155, \"\", \"were\", \"be\", \"AUX\", \"VBD\", \"ROOT\", \"were\", \"xxxx\", true, true, \"VBD\", \"[-12.704]\"], [160, \"\", \"both\", \"both\", \"PRON\", \"DT\", \"dep\", \"were\", \"xxxx\", true, true, \"DT\", \"[-5.3161]\"], [165, \"\", \"devout\", \"devout\", \"ADJ\", \"JJ\", \"amod\", \"Lutherans\", \"xxxx\", true, false, \"JJ\", \"[-0.54509]\"], [172, \"\", \"Lutherans\", \"Lutherans\", \"PROPN\", \"NNPS\", \"attr\", \"were\", \"Xxxxx\", true, false, \"NNPS\", \"[-3.4203]\"], [182, \"\", \"and\", \"and\", \"CCONJ\", \"CC\", \"cc\", \"were\", \"xxx\", true, true, \"CC\", \"[-3.3477]\"], [186, \"\", \"Michael\", \"Michael\", \"PROPN\", \"NNP\", \"nsubjpass\", \"brought\", \"Xxxxx\", true, false, \"NNP\", \"[-5.5573]\"], [194, \"\", \"was\", \"be\", \"AUX\", \"VBD\", \"auxpass\", \"brought\", \"xxx\", true, true, \"VBD\", \"[-9.5058]\"], [198, \"\", \"brought\", \"bring\", \"VERB\", \"VBN\", \"conj\", \"were\", \"xxxx\", true, false, \"VBN\", \"[-2.9104]\"], [206, \"\", \"up\", \"up\", \"ADP\", \"RP\", \"prt\", \"brought\", \"xx\", true, true, \"RP\", \"[1.813]\"], [209, \"\", \"in\", \"in\", \"ADP\", \"IN\", \"prep\", \"brought\", \"xx\", true, true, \"IN\", \"[-3.7766]\"], [212, \"\", \"that\", \"that\", \"DET\", \"DT\", \"det\", \"faith\", \"xxxx\", true, true, \"DT\", \"[-1.1026]\"], [217, \"\", \"faith\", \"faith\", \"NOUN\", \"NN\", \"pobj\", \"in\", \"xxxx\", true, false, \"NN\", \"[1.3758]\"], [223, \"\", \"and\", \"and\", \"CCONJ\", \"CC\", \"cc\", \"brought\", \"xxx\", true, true, \"CC\", \"[-3.3477]\"], [227, \"\", \"remained\", \"remain\", \"VERB\", \"VBD\", \"conj\", \"brought\", \"xxxx\", true, false, \"VBD\", \"[-2.4374]\"], [236, \"\", \"strongly\", \"strongly\", \"ADV\", \"RB\", \"advmod\", \"committed\", \"xxxx\", true, false, \"RB\", \"[-2.4321]\"], [245, \"\", \"committed\", \"committed\", \"ADJ\", \"JJ\", \"acomp\", \"remained\", \"xxxx\", true, false, \"JJ\", \"[-2.2256]\"], [255, \"\", \"to\", \"to\", \"ADP\", \"IN\", \"prep\", \"committed\", \"xx\", true, true, \"IN\", \"[-1.6487]\"], [258, \"\", \"father\", \"father\", \"NOUN\", \"NN\", \"pobj\", \"to\", \"xxxx\", true, false, \"NN\", \"[-1.0106]\"], [265, \"\", \"throughout\", \"throughout\", \"ADP\", \"IN\", \"prep\", \"remained\", \"xxxx\", true, true, \"IN\", \"[-0.58007]\"], [276, \"\", \"M\\u00e4stlin\", \"M\\u00e4stlin\", \"PROPN\", \"NNP\", \"compound\", \"life\", \"Xxxxx\", true, false, \"NNP\", \"[0.0]\"], [284, \"\", \"life\", \"life\", \"NOUN\", \"NN\", \"pobj\", \"throughout\", \"xxxx\", true, false, \"NN\", \"[2.5807]\"], [288, \"\", \".\", \".\", \"PUNCT\", \".\", \"punct\", \"brought\", \".\", false, false, \".\", \"[-0.076454]\"], [290, \"\", \"M\\u00e4stlin\", \"M\\u00e4stlin\", \"PROPN\", \"NNP\", \"nsubj\", \"was\", \"Xxxxx\", true, false, \"NNP\", \"[0.0]\"], [298, \"\", \"was\", \"be\", \"AUX\", \"VBD\", \"ROOT\", \"was\", \"xxx\", true, true, \"VBD\", \"[-9.5058]\"], [302, \"\", \"the\", \"the\", \"DET\", \"DT\", \"det\", \"child\", \"xxx\", true, true, \"DT\", \"[-5.1043]\"], [306, \"\", \"middle\", \"middle\", \"ADJ\", \"JJ\", \"amod\", \"child\", \"xxxx\", true, false, \"JJ\", \"[-0.096549]\"], [313, \"\", \"child\", \"child\", \"NOUN\", \"NN\", \"attr\", \"was\", \"xxxx\", true, false, \"NN\", \"[1.2786]\"], [319, \"\", \"of\", \"of\", \"ADP\", \"IN\", \"prep\", \"child\", \"xx\", true, true, \"IN\", \"[-12.667]\"], [322, \"\", \"the\", \"the\", \"DET\", \"DT\", \"det\", \"family\", \"xxx\", true, true, \"DT\", \"[-5.1043]\"], [326, \"\", \"family\", \"family\", \"NOUN\", \"NN\", \"pobj\", \"of\", \"xxxx\", true, false, \"NN\", \"[-1.9005]\"], [332, \"\", \",\", \",\", \"PUNCT\", \",\", \"punct\", \"was\", \",\", false, false, \",\", \"[-3.3899]\"], [334, \"\", \"having\", \"have\", \"VERB\", \"VBG\", \"advcl\", \"was\", \"xxxx\", true, false, \"VBG\", \"[-2.4028]\"], [341, \"\", \"an\", \"an\", \"DET\", \"DT\", \"det\", \"sister\", \"xx\", true, true, \"DT\", \"[11.492]\"], [344, \"\", \"older\", \"old\", \"ADJ\", \"JJR\", \"amod\", \"sister\", \"xxxx\", true, false, \"JJR\", \"[-4.003]\"], [350, \"\", \"sister\", \"sister\", \"NOUN\", \"NN\", \"dobj\", \"having\", \"xxxx\", true, false, \"NN\", \"[1.2432]\"], [357, \"\", \"and\", \"and\", \"CCONJ\", \"CC\", \"cc\", \"sister\", \"xxx\", true, true, \"CC\", \"[-3.3477]\"], [361, \"\", \"a\", \"a\", \"DET\", \"DT\", \"det\", \"brother\", \"x\", true, true, \"DT\", \"[-9.3629]\"], [363, \"\", \"younger\", \"young\", \"ADJ\", \"JJR\", \"amod\", \"brother\", \"xxxx\", true, false, \"JJR\", \"[-2.1373]\"], [371, \"\", \"brother\", \"brother\", \"NOUN\", \"NN\", \"conj\", \"sister\", \"xxxx\", true, false, \"NN\", \"[-1.6475]\"], [378, \"\", \".\", \".\", \"PUNCT\", \".\", \"punct\", \"was\", \".\", false, false, \".\", \"[-0.076454]\"], [380, \"\", \"M\\u00e4stlin\", \"M\\u00e4stlin\", \"PROPN\", \"NNP\", \"nsubj\", \"attended\", \"Xxxxx\", true, false, \"NNP\", \"[0.0]\"], [388, \"\", \"attended\", \"attend\", \"VERB\", \"VBD\", \"ROOT\", \"attended\", \"xxxx\", true, false, \"VBD\", \"[-3.2377]\"], [397, \"\", \"the\", \"the\", \"DET\", \"DT\", \"det\", \"school\", \"xxx\", true, true, \"DT\", \"[-5.1043]\"], [401, \"\", \"monastic\", \"monastic\", \"ADJ\", \"JJ\", \"amod\", \"school\", \"xxxx\", true, false, \"JJ\", \"[-1.9041]\"], [410, \"\", \"school\", \"school\", \"NOUN\", \"NN\", \"dobj\", \"attended\", \"xxxx\", true, false, \"NN\", \"[-1.1226]\"], [417, \"\", \"in\", \"in\", \"ADP\", \"IN\", \"prep\", \"school\", \"xx\", true, true, \"IN\", \"[-3.7766]\"], [420, \"\", \"K\\u00f6nigsbronn\", \"K\\u00f6nigsbronn\", \"PROPN\", \"NNP\", \"pobj\", \"in\", \"Xxxxx\", true, false, \"NNP\", \"[0.0]\"], [432, \"\", \"then\", \"then\", \"ADV\", \"RB\", \"advmod\", \"attended\", \"xxxx\", true, true, \"RB\", \"[-2.8267]\"], [436, \"\", \",\", \",\", \"PUNCT\", \",\", \"punct\", \"attended\", \",\", false, false, \",\", \"[-3.3899]\"], [438, \"\", \"after\", \"after\", \"ADP\", \"IN\", \"prep\", \"entered\", \"xxxx\", true, true, \"IN\", \"[-5.9886]\"], [444, \"\", \"M\\u00e4stlin\", \"M\\u00e4stlin\", \"PROPN\", \"NNP\", \"compound\", \"studies\", \"Xxxxx\", true, false, \"NNP\", \"[0.0]\"], [452, \"\", \"studies\", \"study\", \"NOUN\", \"NNS\", \"pobj\", \"after\", \"xxxx\", true, false, \"NNS\", \"[-0.020262]\"], [460, \"\", \"there\", \"there\", \"ADV\", \"RB\", \"advmod\", \"studies\", \"xxxx\", true, true, \"RB\", \"[1.0923]\"], [465, \"\", \",\", \",\", \"PUNCT\", \",\", \"punct\", \"entered\", \",\", false, false, \",\", \"[-3.3899]\"], [467, \"\", \"entered\", \"enter\", \"VERB\", \"VBD\", \"advcl\", \"attended\", \"xxxx\", true, false, \"VBD\", \"[-1.6305]\"], [475, \"\", \"T\\u00fcbingen\", \"T\\u00fcbingen\", \"PROPN\", \"NNP\", \"compound\", \"University\", \"Xxxxx\", true, false, \"NNP\", \"[-1.9794]\"], [484, \"\", \"University\", \"University\", \"PROPN\", \"NNP\", \"dobj\", \"entered\", \"Xxxxx\", true, false, \"NNP\", \"[-2.7357]\"], [495, \"\", \"in\", \"in\", \"ADP\", \"IN\", \"prep\", \"entered\", \"xx\", true, true, \"IN\", \"[-3.7766]\"], [498, \"\", \"1568\", \"1568\", \"NUM\", \"CD\", \"pobj\", \"in\", \"dddd\", false, false, \"CD\", \"[-0.50927]\"], [502, \"\", \".\", \".\", \"PUNCT\", \".\", \"punct\", \"attended\", \".\", false, false, \".\", \"[-0.076454]\"], [504, \"\", \"[\", \"[\", \"X\", \"XX\", \"dep\", \"was\", \"[\", false, false, \"XX\", \"[11.177]\"], [505, \"\", \"3]:-\", \"3]:-\", \"NUM\", \"CD\", \"nsubj\", \"was\", \"d]:-\", false, false, \"CD\", \"[0.0]\"], [509, \"\", \"\\\\n\", \"\\\\n\", \"SPACE\", \"_SP\", \"dep\", \"3]:-\", \"\\\\n\", false, false, \"_SP\", \"[0.0]\"], [510, \"\", \"As\", \"as\", \"SCONJ\", \"IN\", \"mark\", \"was\", \"Xx\", true, true, \"IN\", \"[1.7496]\"], [513, \"\", \"was\", \"be\", \"AUX\", \"VBD\", \"ccomp\", \"did\", \"xxx\", true, true, \"VBD\", \"[-9.5058]\"], [517, \"\", \"the\", \"the\", \"DET\", \"DT\", \"det\", \"case\", \"xxx\", true, true, \"DT\", \"[-5.1043]\"], [521, \"\", \"case\", \"case\", \"NOUN\", \"NN\", \"attr\", \"was\", \"xxxx\", true, false, \"NN\", \"[-0.3132]\"], [526, \"\", \"with\", \"with\", \"ADP\", \"IN\", \"prep\", \"case\", \"xxxx\", true, true, \"IN\", \"[-7.3029]\"], [531, \"\", \"many\", \"many\", \"ADJ\", \"JJ\", \"amod\", \"scholars\", \"xxxx\", true, true, \"JJ\", \"[-1.2656]\"], [536, \"\", \"young\", \"young\", \"ADJ\", \"JJ\", \"amod\", \"scholars\", \"xxxx\", true, false, \"JJ\", \"[0.98253]\"], [542, \"\", \"scholars\", \"scholar\", \"NOUN\", \"NNS\", \"pobj\", \"with\", \"xxxx\", true, false, \"NNS\", \"[-1.8334]\"], [551, \"\", \"including\", \"include\", \"VERB\", \"VBG\", \"prep\", \"scholars\", \"xxxx\", true, false, \"VBG\", \"[-2.9074]\"], [561, \"\", \"Kepler\", \"Kepler\", \"PROPN\", \"NNP\", \"pobj\", \"including\", \"Xxxxx\", true, false, \"NNP\", \"[-1.8619]\"], [567, \"\", \",\", \",\", \"PUNCT\", \",\", \"punct\", \"Kepler\", \",\", false, false, \",\", \"[-3.3899]\"], [569, \"\", \"M\\u00e4stlin\", \"M\\u00e4stlin\", \"PROPN\", \"NNP\", \"nmod\", \"student\", \"Xxxxx\", true, false, \"NNP\", \"[0.0]\"], [577, \"\", \"most\", \"most\", \"ADV\", \"RBS\", \"advmod\", \"famous\", \"xxxx\", true, true, \"RBS\", \"[-2.7734]\"], [582, \"\", \"famous\", \"famous\", \"ADJ\", \"JJ\", \"amod\", \"student\", \"xxxx\", true, false, \"JJ\", \"[-0.72326]\"], [589, \"\", \"student\", \"student\", \"NOUN\", \"NN\", \"appos\", \"Kepler\", \"xxxx\", true, false, \"NN\", \"[2.1085]\"], [596, \"\", \",\", \",\", \"PUNCT\", \",\", \"punct\", \"was\", \",\", false, false, \",\", \"[-3.3899]\"], [598, \"\", \"[\", \"[\", \"X\", \"XX\", \"dep\", \"did\", \"[\", false, false, \"XX\", \"[11.177]\"], [599, \"\", \"M\\u00e4stlin\", \"M\\u00e4stlin\", \"PROPN\", \"NNP\", \"nsubj\", \"did\", \"Xxxxx\", true, false, \"NNP\", \"[0.0]\"], [607, \"\", \"]\", \"]\", \"PUNCT\", \"-RRB-\", \"punct\", \"M\\u00e4stlin\", \"]\", false, false, \"-RRB-\", \"[10.212]\"], [609, \"\", \"did\", \"do\", \"VERB\", \"VBD\", \"ROOT\", \"did\", \"xxx\", true, true, \"VBD\", \"[-0.34305]\"], [613, \"\", \"M\\u00e4stlin\", \"M\\u00e4stlin\", \"PROPN\", \"NNP\", \"nmod\", \"studies\", \"Xxxxx\", true, false, \"NNP\", \"[0.0]\"], [621, \"\", \"undergraduate\", \"undergraduate\", \"ADJ\", \"JJ\", \"amod\", \"studies\", \"xxxx\", true, false, \"JJ\", \"[-1.549]\"], [635, \"\", \"studies\", \"study\", \"NOUN\", \"NNS\", \"nsubj\", \"did\", \"xxxx\", true, false, \"NNS\", \"[-0.020262]\"], [643, \"\", \"at\", \"at\", \"ADP\", \"IN\", \"prep\", \"did\", \"xx\", true, true, \"IN\", \"[3.8102]\"], [646, \"\", \"a\", \"a\", \"DET\", \"DT\", \"det\", \"school\", \"x\", true, true, \"DT\", \"[-9.3629]\"], [648, \"\", \"preparatory\", \"preparatory\", \"ADJ\", \"JJ\", \"amod\", \"school\", \"xxxx\", true, false, \"JJ\", \"[-1.3069]\"], [660, \"\", \"school\", \"school\", \"NOUN\", \"NN\", \"pobj\", \"at\", \"xxxx\", true, false, \"NN\", \"[-1.1226]\"], [667, \"\", \"and\", \"and\", \"CCONJ\", \"CC\", \"cc\", \"did\", \"xxx\", true, true, \"CC\", \"[-3.3477]\"], [671, \"\", \"came\", \"come\", \"VERB\", \"VBD\", \"conj\", \"did\", \"xxxx\", true, false, \"VBD\", \"[-2.7407]\"], [676, \"\", \"to\", \"to\", \"ADP\", \"IN\", \"prep\", \"came\", \"xx\", true, true, \"IN\", \"[-1.6487]\"], [679, \"\", \"the\", \"the\", \"DET\", \"DT\", \"det\", \"university\", \"xxx\", true, true, \"DT\", \"[-5.1043]\"], [683, \"\", \"university\", \"university\", \"NOUN\", \"NN\", \"pobj\", \"to\", \"xxxx\", true, false, \"NN\", \"[-1.409]\"], [694, \"\", \"to\", \"to\", \"PART\", \"TO\", \"aux\", \"take\", \"xx\", true, true, \"TO\", \"[-1.6487]\"], [697, \"\", \"take\", \"take\", \"VERB\", \"VB\", \"advcl\", \"came\", \"xxxx\", true, true, \"VB\", \"[4.5063]\"], [702, \"\", \"M\\u00e4stlin\", \"M\\u00e4stlin\", \"PROPN\", \"NNP\", \"nmod\", \"exams\", \"Xxxxx\", true, false, \"NNP\", \"[0.0]\"], [710, \"\", \"final\", \"final\", \"ADJ\", \"JJ\", \"amod\", \"exams\", \"xxxx\", true, false, \"JJ\", \"[0.44864]\"], [716, \"\", \"exams\", \"exam\", \"NOUN\", \"NNS\", \"dobj\", \"take\", \"xxxx\", true, false, \"NNS\", \"[-1.1426]\"], [722, \"\", \"and\", \"and\", \"CCONJ\", \"CC\", \"cc\", \"take\", \"xxx\", true, true, \"CC\", \"[-3.3477]\"], [726, \"\", \"pick\", \"pick\", \"VERB\", \"VB\", \"conj\", \"take\", \"xxxx\", true, false, \"VB\", \"[-4.0477]\"], [731, \"\", \"up\", \"up\", \"ADP\", \"RP\", \"prt\", \"pick\", \"xx\", true, true, \"RP\", \"[1.813]\"], [734, \"\", \"M\\u00e4stlin\", \"M\\u00e4stlin\", \"PROPN\", \"NNP\", \"compound\", \"degree\", \"Xxxxx\", true, false, \"NNP\", \"[0.0]\"], [742, \"\", \"baccalaureate\", \"baccalaureate\", \"NOUN\", \"NN\", \"compound\", \"degree\", \"xxxx\", true, false, \"NN\", \"[-1.2834]\"], [756, \"\", \"degree\", \"degree\", \"NOUN\", \"NN\", \"dobj\", \"pick\", \"xxxx\", true, false, \"NN\", \"[-3.561]\"], [762, \"\", \".\", \".\", \"PUNCT\", \".\", \"punct\", \"did\", \".\", false, false, \".\", \"[-0.076454]\"], [763, \"\", \"At\", \"at\", \"ADP\", \"IN\", \"prep\", \"studied\", \"Xx\", true, true, \"IN\", \"[4.9588]\"], [766, \"\", \"T\\u00fcbingen\", \"T\\u00fcbingen\", \"PROPN\", \"NNP\", \"pobj\", \"At\", \"Xxxxx\", true, false, \"NNP\", \"[-1.9794]\"], [775, \"\", \"University\", \"University\", \"PROPN\", \"NNP\", \"compound\", \"M\\u00e4stlin\", \"Xxxxx\", true, false, \"NNP\", \"[-2.7357]\"], [786, \"\", \"M\\u00e4stlin\", \"M\\u00e4stlin\", \"PROPN\", \"NNP\", \"nsubj\", \"studied\", \"Xxxxx\", true, false, \"NNP\", \"[0.0]\"], [794, \"\", \"studied\", \"study\", \"VERB\", \"VBD\", \"ROOT\", \"studied\", \"xxxx\", true, false, \"VBD\", \"[-2.1095]\"], [802, \"\", \"mathematics\", \"mathematic\", \"NOUN\", \"NNS\", \"dobj\", \"studied\", \"xxxx\", true, false, \"NNS\", \"[-1.4081]\"], [814, \"\", \"and\", \"and\", \"CCONJ\", \"CC\", \"cc\", \"mathematics\", \"xxx\", true, true, \"CC\", \"[-3.3477]\"], [818, \"\", \"astronomy\", \"astronomy\", \"NOUN\", \"NN\", \"conj\", \"mathematics\", \"xxxx\", true, false, \"NN\", \"[-0.48581]\"], [828, \"\", \"for\", \"for\", \"ADP\", \"IN\", \"prep\", \"studied\", \"xxx\", true, true, \"IN\", \"[-7.0781]\"], [832, \"\", \"a\", \"a\", \"DET\", \"DT\", \"det\", \"Master\", \"x\", true, true, \"DT\", \"[-9.3629]\"], [834, \"\", \"Master\", \"Master\", \"PROPN\", \"NNP\", \"poss\", \"degree\", \"Xxxxx\", true, false, \"NNP\", \"[-1.9316]\"], [840, \"\", \"'s\", \"'s\", \"PART\", \"POS\", \"case\", \"Master\", \"'x\", false, true, \"POS\", \"[3.3163]\"], [843, \"\", \"degree\", \"degree\", \"NOUN\", \"NN\", \"pobj\", \"for\", \"xxxx\", true, false, \"NN\", \"[-3.561]\"], [850, \"\", \"under\", \"under\", \"ADP\", \"IN\", \"prep\", \"degree\", \"xxxx\", true, true, \"IN\", \"[-4.497]\"], [856, \"\", \"Philipp\", \"Philipp\", \"PROPN\", \"NNP\", \"compound\", \"Apian\", \"Xxxxx\", true, false, \"NNP\", \"[-4.8271]\"], [864, \"\", \"Apian\", \"Apian\", \"PROPN\", \"NNP\", \"pobj\", \"under\", \"Xxxxx\", true, false, \"NNP\", \"[0.0]\"], [870, \"\", \"who\", \"who\", \"PRON\", \"WP\", \"nsubj\", \"was\", \"xxx\", true, true, \"WP\", \"[-6.4863]\"], [874, \"\", \"was\", \"be\", \"AUX\", \"VBD\", \"relcl\", \"Apian\", \"xxx\", true, true, \"VBD\", \"[-9.5058]\"], [878, \"\", \"Peter\", \"Peter\", \"PROPN\", \"NNP\", \"compound\", \"Apian\", \"Xxxxx\", true, false, \"NNP\", \"[-6.4704]\"], [884, \"\", \"Apian\", \"Apian\", \"PROPN\", \"NNP\", \"poss\", \"son\", \"Xxxxx\", true, false, \"NNP\", \"[0.0]\"], [889, \"\", \"'s\", \"'s\", \"PART\", \"POS\", \"case\", \"Apian\", \"'x\", false, true, \"POS\", \"[3.3163]\"], [892, \"\", \"son\", \"son\", \"NOUN\", \"NN\", \"attr\", \"was\", \"xxx\", true, false, \"NN\", \"[-1.8598]\"], [895, \"\", \".\", \".\", \"PUNCT\", \".\", \"punct\", \"studied\", \".\", false, false, \".\", \"[-0.076454]\"], [897, \"\", \"In\", \"in\", \"ADP\", \"IN\", \"prep\", \"purchased\", \"Xx\", true, true, \"IN\", \"[-9.3107]\"], [900, \"\", \"1570\", \"1570\", \"NUM\", \"CD\", \"pobj\", \"In\", \"dddd\", false, false, \"CD\", \"[-1.1161]\"], [904, \"\", \",\", \",\", \"PUNCT\", \",\", \"punct\", \"purchased\", \",\", false, false, \",\", \"[-3.3899]\"], [906, \"\", \"while\", \"while\", \"SCONJ\", \"IN\", \"prep\", \"purchased\", \"xxxx\", true, true, \"IN\", \"[-3.4865]\"], [912, \"\", \"a\", \"a\", \"DET\", \"DT\", \"det\", \"student\", \"x\", true, true, \"DT\", \"[-9.3629]\"], [914, \"\", \"student\", \"student\", \"NOUN\", \"NN\", \"pobj\", \"while\", \"xxxx\", true, false, \"NN\", \"[2.1085]\"], [921, \"\", \",\", \",\", \"PUNCT\", \",\", \"punct\", \"purchased\", \",\", false, false, \",\", \"[-3.3899]\"], [923, \"\", \"M\\u00e4stlin\", \"M\\u00e4stlin\", \"PROPN\", \"NNP\", \"nsubj\", \"purchased\", \"Xxxxx\", true, false, \"NNP\", \"[0.0]\"], [931, \"\", \"purchased\", \"purchase\", \"VERB\", \"VBD\", \"ROOT\", \"purchased\", \"xxxx\", true, false, \"VBD\", \"[-6.3162]\"], [941, \"\", \"a\", \"a\", \"DET\", \"DT\", \"det\", \"copy\", \"x\", true, true, \"DT\", \"[-9.3629]\"], [943, \"\", \"copy\", \"copy\", \"NOUN\", \"NN\", \"dobj\", \"purchased\", \"xxxx\", true, false, \"NN\", \"[-0.42999]\"], [948, \"\", \"of\", \"of\", \"ADP\", \"IN\", \"prep\", \"copy\", \"xx\", true, true, \"IN\", \"[-12.667]\"], [951, \"\", \"Copernicus\", \"Copernicus\", \"PROPN\", \"NNP\", \"poss\", \"revolutionibus\", \"Xxxxx\", true, false, \"NNP\", \"[-0.34364]\"], [961, \"\", \"'s\", \"'s\", \"PART\", \"POS\", \"case\", \"Copernicus\", \"'x\", false, true, \"POS\", \"[3.3163]\"], [964, \"\", \"De\", \"De\", \"PROPN\", \"NNP\", \"compound\", \"revolutionibus\", \"Xx\", true, false, \"NNP\", \"[-2.2394]\"], [967, \"\", \"revolutionibus\", \"revolutionibus\", \"NOUN\", \"NN\", \"pobj\", \"of\", \"xxxx\", true, false, \"NN\", \"[-1.6528]\"], [982, \"\", \"from\", \"from\", \"ADP\", \"IN\", \"prep\", \"purchased\", \"xxxx\", true, true, \"IN\", \"[0.45435]\"], [987, \"\", \"the\", \"the\", \"DET\", \"DT\", \"det\", \"widow\", \"xxx\", true, true, \"DT\", \"[-5.1043]\"], [991, \"\", \"widow\", \"widow\", \"NOUN\", \"NN\", \"pobj\", \"from\", \"xxxx\", true, false, \"NN\", \"[-1.1316]\"], [997, \"\", \"of\", \"of\", \"ADP\", \"IN\", \"prep\", \"widow\", \"xx\", true, true, \"IN\", \"[-12.667]\"], [1000, \"\", \"Victorin\", \"Victorin\", \"PROPN\", \"NNP\", \"compound\", \"Strigel\", \"Xxxxx\", true, false, \"NNP\", \"[-2.3253]\"], [1009, \"\", \"Strigel\", \"Strigel\", \"PROPN\", \"NNP\", \"pobj\", \"of\", \"Xxxxx\", true, false, \"NNP\", \"[0.0]\"], [1016, \"\", \",\", \",\", \"PUNCT\", \",\", \"punct\", \"Strigel\", \",\", false, false, \",\", \"[-3.3899]\"], [1018, \"\", \"who\", \"who\", \"PRON\", \"WP\", \"nsubj\", \"been\", \"xxx\", true, true, \"WP\", \"[-6.4863]\"], [1022, \"\", \"had\", \"have\", \"AUX\", \"VBD\", \"aux\", \"been\", \"xxx\", true, true, \"VBD\", \"[-8.6183]\"], [1026, \"\", \"been\", \"be\", \"AUX\", \"VBN\", \"relcl\", \"Strigel\", \"xxxx\", true, true, \"VBN\", \"[-3.0266]\"], [1031, \"\", \"professor\", \"professor\", \"NOUN\", \"NN\", \"attr\", \"been\", \"xxxx\", true, false, \"NN\", \"[-1.2467]\"], [1041, \"\", \"of\", \"of\", \"ADP\", \"IN\", \"prep\", \"professor\", \"xx\", true, true, \"IN\", \"[-12.667]\"], [1044, \"\", \"theology\", \"theology\", \"NOUN\", \"NN\", \"pobj\", \"of\", \"xxxx\", true, false, \"NN\", \"[-1.7495]\"], [1053, \"\", \"at\", \"at\", \"ADP\", \"IN\", \"prep\", \"professor\", \"xx\", true, true, \"IN\", \"[3.8102]\"], [1056, \"\", \"Leipzig\", \"Leipzig\", \"PROPN\", \"NNP\", \"pobj\", \"at\", \"Xxxxx\", true, false, \"NNP\", \"[-2.8175]\"], [1064, \"\", \"and\", \"and\", \"CCONJ\", \"CC\", \"cc\", \"been\", \"xxx\", true, true, \"CC\", \"[-3.3477]\"], [1068, \"\", \"the\", \"the\", \"DET\", \"DT\", \"det\", \"author\", \"xxx\", true, true, \"DT\", \"[-5.1043]\"], [1072, \"\", \"author\", \"author\", \"NOUN\", \"NN\", \"conj\", \"been\", \"xxxx\", true, false, \"NN\", \"[-1.7865]\"], [1079, \"\", \"of\", \"of\", \"ADP\", \"IN\", \"prep\", \"author\", \"xx\", true, true, \"IN\", \"[-12.667]\"], [1082, \"\", \"an\", \"an\", \"DET\", \"DT\", \"det\", \"text\", \"xx\", true, true, \"DT\", \"[11.492]\"], [1085, \"\", \"astronomy\", \"astronomy\", \"NOUN\", \"NN\", \"compound\", \"text\", \"xxxx\", true, false, \"NN\", \"[-0.48581]\"], [1095, \"\", \"text\", \"text\", \"NOUN\", \"NN\", \"pobj\", \"of\", \"xxxx\", true, false, \"NN\", \"[1.8153]\"], [1099, \"\", \".\", \".\", \"PUNCT\", \".\", \"punct\", \"purchased\", \".\", false, false, \".\", \"[-0.076454]\"], [1101, \"\", \"M\\u00e4stlin\", \"M\\u00e4stlin\", \"PROPN\", \"NNP\", \"nsubjpass\", \"awarded\", \"Xxxxx\", true, false, \"NNP\", \"[0.0]\"], [1109, \"\", \"was\", \"be\", \"AUX\", \"VBD\", \"auxpass\", \"awarded\", \"xxx\", true, true, \"VBD\", \"[-9.5058]\"], [1113, \"\", \"awarded\", \"award\", \"VERB\", \"VBN\", \"ROOT\", \"awarded\", \"xxxx\", true, false, \"VBN\", \"[-6.1082]\"], [1121, \"\", \"a\", \"a\", \"DET\", \"DT\", \"det\", \"Master\", \"x\", true, true, \"DT\", \"[-9.3629]\"], [1123, \"\", \"Master\", \"Master\", \"PROPN\", \"NNP\", \"poss\", \"degree\", \"Xxxxx\", true, false, \"NNP\", \"[-1.9316]\"], [1130, \"\", \"'s\", \"'s\", \"PART\", \"POS\", \"case\", \"Master\", \"'x\", false, true, \"POS\", \"[3.3163]\"], [1133, \"\", \"degree\", \"degree\", \"NOUN\", \"NN\", \"dobj\", \"awarded\", \"xxxx\", true, false, \"NN\", \"[-3.561]\"], [1140, \"\", \"with\", \"with\", \"ADP\", \"IN\", \"prep\", \"awarded\", \"xxxx\", true, true, \"IN\", \"[-7.3029]\"], [1145, \"\", \"distinction\", \"distinction\", \"NOUN\", \"NN\", \"pobj\", \"with\", \"xxxx\", true, false, \"NN\", \"[-5.8236]\"], [1157, \"\", \"in\", \"in\", \"ADP\", \"IN\", \"prep\", \"awarded\", \"xx\", true, true, \"IN\", \"[-3.7766]\"], [1160, \"\", \"1571\", \"1571\", \"NUM\", \"CD\", \"pobj\", \"in\", \"dddd\", false, false, \"CD\", \"[-0.57669]\"], [1164, \"\", \".\", \".\", \"PUNCT\", \".\", \"punct\", \"awarded\", \".\", false, false, \".\", \"[-0.076454]\"], [1166, \"\", \"While\", \"while\", \"SCONJ\", \"IN\", \"mark\", \"studying\", \"Xxxxx\", true, true, \"IN\", \"[-1.4509]\"], [1172, \"\", \"studying\", \"study\", \"VERB\", \"VBG\", \"advcl\", \"edited\", \"xxxx\", true, false, \"VBG\", \"[-0.64764]\"], [1181, \"\", \"for\", \"for\", \"ADP\", \"IN\", \"prep\", \"studying\", \"xxx\", true, true, \"IN\", \"[-7.0781]\"], [1185, \"\", \"this\", \"this\", \"DET\", \"DT\", \"det\", \"degree\", \"xxxx\", true, true, \"DT\", \"[2.179]\"], [1190, \"\", \"degree\", \"degree\", \"NOUN\", \"NN\", \"pobj\", \"for\", \"xxxx\", true, false, \"NN\", \"[-3.561]\"], [1197, \"\", \"M\\u00e4stlin\", \"M\\u00e4stlin\", \"PROPN\", \"NNP\", \"nsubj\", \"edited\", \"Xxxxx\", true, false, \"NNP\", \"[0.0]\"], [1205, \"\", \"had\", \"have\", \"AUX\", \"VBD\", \"aux\", \"edited\", \"xxx\", true, true, \"VBD\", \"[-8.6183]\"], [1209, \"\", \"edited\", \"edit\", \"VERB\", \"VBN\", \"ROOT\", \"edited\", \"xxxx\", true, false, \"VBN\", \"[-4.2699]\"], [1216, \"\", \"a\", \"a\", \"DET\", \"DT\", \"det\", \"edition\", \"x\", true, true, \"DT\", \"[-9.3629]\"], [1218, \"\", \"new\", \"new\", \"ADJ\", \"JJ\", \"amod\", \"edition\", \"xxx\", true, false, \"JJ\", \"[2.593]\"], [1222, \"\", \"edition\", \"edition\", \"NOUN\", \"NN\", \"dobj\", \"edited\", \"xxxx\", true, false, \"NN\", \"[-2.5333]\"], [1230, \"\", \"of\", \"of\", \"ADP\", \"IN\", \"prep\", \"edition\", \"xx\", true, true, \"IN\", \"[-12.667]\"], [1233, \"\", \"the\", \"the\", \"DET\", \"DT\", \"det\", \"Tables\", \"xxx\", true, true, \"DT\", \"[-5.1043]\"], [1237, \"\", \"Prutenis\", \"Prutenis\", \"PROPN\", \"NNP\", \"compound\", \"Tables\", \"Xxxxx\", true, false, \"NNP\", \"[0.0]\"], [1246, \"\", \"Tables\", \"table\", \"NOUN\", \"NNS\", \"pobj\", \"of\", \"Xxxxx\", true, false, \"NNS\", \"[-1.093]\"], [1253, \"\", \"which\", \"which\", \"PRON\", \"WDT\", \"nsubjpass\", \"published\", \"xxxx\", true, true, \"WDT\", \"[-3.2023]\"], [1259, \"\", \"was\", \"be\", \"AUX\", \"VBD\", \"auxpass\", \"published\", \"xxx\", true, true, \"VBD\", \"[-9.5058]\"], [1263, \"\", \"published\", \"publish\", \"VERB\", \"VBN\", \"relcl\", \"Tables\", \"xxxx\", true, false, \"VBN\", \"[-4.1276]\"], [1273, \"\", \"in\", \"in\", \"ADP\", \"IN\", \"prep\", \"published\", \"xx\", true, true, \"IN\", \"[-3.7766]\"], [1276, \"\", \"1571\", \"1571\", \"NUM\", \"CD\", \"pobj\", \"in\", \"dddd\", false, false, \"CD\", \"[-0.57669]\"], [1280, \"\", \".\", \".\", \"PUNCT\", \".\", \"punct\", \"edited\", \".\", false, false, \".\", \"[-0.076454]\"], [1282, \"\", \"The\", \"the\", \"DET\", \"DT\", \"det\", \"Tables\", \"Xxx\", true, true, \"DT\", \"[-7.2681]\"], [1286, \"\", \"Prutenis\", \"Prutenis\", \"PROPN\", \"NNP\", \"compound\", \"Tables\", \"Xxxxx\", true, false, \"NNP\", \"[0.0]\"], [1295, \"\", \"Tables\", \"table\", \"NOUN\", \"NNS\", \"nsubjpass\", \"compiled\", \"Xxxxx\", true, false, \"NNS\", \"[-1.093]\"], [1302, \"\", \"had\", \"have\", \"AUX\", \"VBD\", \"aux\", \"compiled\", \"xxx\", true, true, \"VBD\", \"[-8.6183]\"], [1306, \"\", \"been\", \"be\", \"AUX\", \"VBN\", \"auxpass\", \"compiled\", \"xxxx\", true, true, \"VBN\", \"[-3.0266]\"], [1311, \"\", \"originally\", \"originally\", \"ADV\", \"RB\", \"advmod\", \"compiled\", \"xxxx\", true, false, \"RB\", \"[-7.2155]\"], [1322, \"\", \"compiled\", \"compile\", \"VERB\", \"VBN\", \"ROOT\", \"compiled\", \"xxxx\", true, false, \"VBN\", \"[-4.3148]\"], [1331, \"\", \"by\", \"by\", \"ADP\", \"IN\", \"agent\", \"compiled\", \"xx\", true, true, \"IN\", \"[-13.597]\"], [1334, \"\", \"Erasmus\", \"Erasmus\", \"PROPN\", \"NNP\", \"compound\", \"Reinhold\", \"Xxxxx\", true, false, \"NNP\", \"[-2.4641]\"], [1342, \"\", \"Reinhold\", \"Reinhold\", \"PROPN\", \"NNP\", \"pobj\", \"by\", \"Xxxxx\", true, false, \"NNP\", \"[-1.4758]\"], [1351, \"\", \"who\", \"who\", \"PRON\", \"WP\", \"nsubj\", \"based\", \"xxx\", true, true, \"WP\", \"[-6.4863]\"], [1355, \"\", \"had\", \"have\", \"AUX\", \"VBD\", \"aux\", \"based\", \"xxx\", true, true, \"VBD\", \"[-8.6183]\"], [1359, \"\", \"based\", \"base\", \"VERB\", \"VBN\", \"relcl\", \"Reinhold\", \"xxxx\", true, false, \"VBN\", \"[-4.1368]\"], [1365, \"\", \"1571\", \"1571\", \"NUM\", \"CD\", \"dobj\", \"based\", \"dddd\", false, false, \"CD\", \"[-0.57669]\"], [1370, \"\", \"on\", \"on\", \"ADP\", \"IN\", \"prep\", \"based\", \"xx\", true, true, \"IN\", \"[-5.1644]\"], [1373, \"\", \"Copernicus\", \"Copernicus\", \"PROPN\", \"NNP\", \"poss\", \"version\", \"Xxxxx\", true, false, \"NNP\", \"[-0.34364]\"], [1383, \"\", \"'s\", \"'s\", \"PART\", \"POS\", \"case\", \"Copernicus\", \"'x\", false, true, \"POS\", \"[3.3163]\"], [1386, \"\", \"version\", \"version\", \"NOUN\", \"NN\", \"pobj\", \"on\", \"xxxx\", true, false, \"NN\", \"[-1.5914]\"], [1394, \"\", \"of\", \"of\", \"ADP\", \"IN\", \"prep\", \"version\", \"xx\", true, true, \"IN\", \"[-12.667]\"], [1397, \"\", \"the\", \"the\", \"DET\", \"DT\", \"det\", \"system\", \"xxx\", true, true, \"DT\", \"[-5.1043]\"], [1401, \"\", \"solar\", \"solar\", \"ADJ\", \"JJ\", \"amod\", \"system\", \"xxxx\", true, false, \"JJ\", \"[-5.4226]\"], [1407, \"\", \"system\", \"system\", \"NOUN\", \"NN\", \"pobj\", \"of\", \"xxxx\", true, false, \"NN\", \"[-1.7046]\"], [1413, \"\", \".\", \".\", \"PUNCT\", \".\", \"punct\", \"compiled\", \".\", false, false, \".\", \"[-0.076454]\"], [1415, \"\", \"After\", \"after\", \"ADP\", \"IN\", \"prep\", \"spent\", \"Xxxxx\", true, true, \"IN\", \"[-5.3952]\"], [1421, \"\", \"graduating\", \"graduate\", \"VERB\", \"VBG\", \"pcomp\", \"After\", \"xxxx\", true, false, \"VBG\", \"[-2.0995]\"], [1431, \"\", \",\", \",\", \"PUNCT\", \",\", \"punct\", \"spent\", \",\", false, false, \",\", \"[-3.3899]\"], [1433, \"\", \"M\\u00e4stlin\", \"M\\u00e4stlin\", \"PROPN\", \"NNP\", \"nsubj\", \"spent\", \"Xxxxx\", true, false, \"NNP\", \"[0.0]\"], [1441, \"\", \"spent\", \"spend\", \"VERB\", \"VBD\", \"ROOT\", \"spent\", \"xxxx\", true, false, \"VBD\", \"[-4.5396]\"], [1447, \"\", \"the\", \"the\", \"DET\", \"DT\", \"det\", \"years\", \"xxx\", true, true, \"DT\", \"[-5.1043]\"], [1451, \"\", \"following\", \"follow\", \"VERB\", \"VBG\", \"amod\", \"years\", \"xxxx\", true, false, \"VBG\", \"[-2.3847]\"], [1461, \"\", \"years\", \"year\", \"NOUN\", \"NNS\", \"dobj\", \"spent\", \"xxxx\", true, false, \"NNS\", \"[-2.0905]\"], [1467, \"\", \"teaching\", \"teach\", \"VERB\", \"VBG\", \"xcomp\", \"spent\", \"xxxx\", true, false, \"VBG\", \"[-0.75475]\"], [1476, \"\", \"in\", \"in\", \"ADP\", \"IN\", \"prep\", \"teaching\", \"xx\", true, true, \"IN\", \"[-3.7766]\"], [1479, \"\", \"T\\u00fcbingen\", \"T\\u00fcbingen\", \"PROPN\", \"NNP\", \"pobj\", \"in\", \"Xxxxx\", true, false, \"NNP\", \"[-1.9794]\"], [1487, \"\", \",\", \",\", \"PUNCT\", \",\", \"punct\", \"spent\", \",\", false, false, \",\", \"[-3.3899]\"], [1489, \"\", \"and\", \"and\", \"CCONJ\", \"CC\", \"cc\", \"spent\", \"xxx\", true, true, \"CC\", \"[-3.3477]\"], [1493, \"\", \"at\", \"at\", \"ADP\", \"IN\", \"prep\", \"took\", \"xx\", true, true, \"IN\", \"[3.8102]\"], [1496, \"\", \"the\", \"the\", \"DET\", \"DT\", \"det\", \"time\", \"xxx\", true, true, \"DT\", \"[-5.1043]\"], [1500, \"\", \"same\", \"same\", \"ADJ\", \"JJ\", \"amod\", \"time\", \"xxxx\", true, true, \"JJ\", \"[-4.0503]\"], [1505, \"\", \"time\", \"time\", \"NOUN\", \"NN\", \"pobj\", \"at\", \"xxxx\", true, false, \"NN\", \"[1.3505]\"], [1510, \"\", \"took\", \"take\", \"VERB\", \"VBD\", \"conj\", \"spent\", \"xxxx\", true, false, \"VBD\", \"[3.4158]\"], [1515, \"\", \"[\", \"[\", \"X\", \"XX\", \"dobj\", \"took\", \"[\", false, false, \"XX\", \"[11.177]\"], [1516, \"\", \"3]:-\", \"3]:-\", \"NUM\", \"CD\", \"dobj\", \"took\", \"d]:-\", false, false, \"CD\", \"[0.0]\"], [1520, \"\", \"\\\\n\", \"\\\\n\", \"SPACE\", \"_SP\", \"dep\", \"3]:-\", \"\\\\n\", false, false, \"_SP\", \"[0.0]\"], [1521, \"\", \"...\", \"...\", \"PUNCT\", \":\", \"punct\", \"took\", \"...\", false, false, \":\", \"[0.57913]\"], [1525, \"\", \"the\", \"the\", \"DET\", \"DT\", \"det\", \"programme\", \"xxx\", true, true, \"DT\", \"[-5.1043]\"], [1529, \"\", \"theological\", \"theological\", \"ADJ\", \"JJ\", \"amod\", \"programme\", \"xxxx\", true, false, \"JJ\", \"[-1.1704]\"], [1541, \"\", \"programme\", \"programme\", \"NOUN\", \"NN\", \"ROOT\", \"programme\", \"xxxx\", true, false, \"NN\", \"[1.2194]\"], [1550, \"\", \",\", \",\", \"PUNCT\", \",\", \"punct\", \"programme\", \",\", false, false, \",\", \"[-3.3899]\"], [1552, \"\", \"because\", \"because\", \"SCONJ\", \"IN\", \"mark\", \"was\", \"xxxx\", true, true, \"IN\", \"[-2.6093]\"], [1560, \"\", \"T\\u00fcbingen\", \"T\\u00fcbingen\", \"PROPN\", \"NNP\", \"compound\", \"University\", \"Xxxxx\", true, false, \"NNP\", \"[-1.9794]\"], [1569, \"\", \"University\", \"University\", \"PROPN\", \"NNP\", \"poss\", \"mission\", \"Xxxxx\", true, false, \"NNP\", \"[-2.7357]\"], [1579, \"\", \"'s\", \"'s\", \"PART\", \"POS\", \"case\", \"University\", \"'x\", false, true, \"POS\", \"[3.3163]\"], [1582, \"\", \"primary\", \"primary\", \"ADJ\", \"JJ\", \"amod\", \"mission\", \"xxxx\", true, false, \"JJ\", \"[-1.7529]\"], [1590, \"\", \"mission\", \"mission\", \"NOUN\", \"NN\", \"nsubj\", \"was\", \"xxxx\", true, false, \"NN\", \"[2.6321]\"], [1598, \"\", \"was\", \"be\", \"AUX\", \"VBD\", \"advcl\", \"programme\", \"xxx\", true, true, \"VBD\", \"[-9.5058]\"], [1602, \"\", \"to\", \"to\", \"PART\", \"TO\", \"aux\", \"prepare\", \"xx\", true, true, \"TO\", \"[-1.6487]\"], [1605, \"\", \"prepare\", \"prepare\", \"VERB\", \"VB\", \"xcomp\", \"was\", \"xxxx\", true, false, \"VB\", \"[1.6047]\"], [1613, \"\", \"young\", \"young\", \"ADJ\", \"JJ\", \"amod\", \"men\", \"xxxx\", true, false, \"JJ\", \"[0.98253]\"], [1619, \"\", \"men\", \"man\", \"NOUN\", \"NNS\", \"dobj\", \"prepare\", \"xxx\", true, false, \"NNS\", \"[-6.6746]\"], [1623, \"\", \"for\", \"for\", \"ADP\", \"IN\", \"prep\", \"men\", \"xxx\", true, true, \"IN\", \"[-7.0781]\"], [1627, \"\", \"the\", \"the\", \"DET\", \"DT\", \"det\", \"ministry\", \"xxx\", true, true, \"DT\", \"[-5.1043]\"], [1631, \"\", \"Lutheran\", \"Lutheran\", \"PROPN\", \"NNP\", \"compound\", \"ministry\", \"Xxxxx\", true, false, \"NNP\", \"[-3.5458]\"], [1640, \"\", \"ministry\", \"ministry\", \"NOUN\", \"NN\", \"pobj\", \"for\", \"xxxx\", true, false, \"NN\", \"[1.608]\"], [1648, \"\", \".\", \".\", \"PUNCT\", \".\", \"punct\", \"programme\", \".\", false, false, \".\", \"[-0.076454]\"], [1649, \"\", \"Then\", \"then\", \"ADV\", \"RB\", \"advmod\", \"sent\", \"Xxxx\", true, true, \"RB\", \"[1.0985]\"], [1653, \"\", \",\", \",\", \"PUNCT\", \",\", \"punct\", \"sent\", \",\", false, false, \",\", \"[-3.3899]\"], [1655, \"\", \"in\", \"in\", \"ADP\", \"IN\", \"prep\", \"sent\", \"xx\", true, true, \"IN\", \"[-3.7766]\"], [1658, \"\", \"1576\", \"1576\", \"NUM\", \"CD\", \"pobj\", \"in\", \"dddd\", false, false, \"CD\", \"[-0.39436]\"], [1662, \"\", \",\", \",\", \"PUNCT\", \",\", \"punct\", \"sent\", \",\", false, false, \",\", \"[-3.3899]\"], [1664, \"\", \"M\\u00e4stlin\", \"M\\u00e4stlin\", \"PROPN\", \"NNP\", \"nsubjpass\", \"sent\", \"Xxxxx\", true, false, \"NNP\", \"[0.0]\"], [1672, \"\", \"was\", \"be\", \"AUX\", \"VBD\", \"auxpass\", \"sent\", \"xxx\", true, true, \"VBD\", \"[-9.5058]\"], [1676, \"\", \"sent\", \"send\", \"VERB\", \"VBN\", \"ROOT\", \"sent\", \"xxxx\", true, false, \"VBN\", \"[-2.9594]\"], [1681, \"\", \"to\", \"to\", \"PART\", \"TO\", \"aux\", \"be\", \"xx\", true, true, \"TO\", \"[-1.6487]\"], [1684, \"\", \"be\", \"be\", \"AUX\", \"VB\", \"advcl\", \"sent\", \"xx\", true, true, \"VB\", \"[-9.3526]\"], [1687, \"\", \"a\", \"a\", \"DET\", \"DT\", \"det\", \"deacon\", \"x\", true, true, \"DT\", \"[-9.3629]\"], [1689, \"\", \"deacon\", \"deacon\", \"NOUN\", \"NN\", \"attr\", \"be\", \"xxxx\", true, false, \"NN\", \"[-1.3357]\"], [1696, \"\", \"at\", \"at\", \"ADP\", \"IN\", \"prep\", \"deacon\", \"xx\", true, true, \"IN\", \"[3.8102]\"], [1699, \"\", \"the\", \"the\", \"DET\", \"DT\", \"det\", \"Church\", \"xxx\", true, true, \"DT\", \"[-5.1043]\"], [1703, \"\", \"Lutheran\", \"Lutheran\", \"PROPN\", \"NNP\", \"compound\", \"Church\", \"Xxxxx\", true, false, \"NNP\", \"[-3.5458]\"], [1712, \"\", \"Church\", \"Church\", \"PROPN\", \"NNP\", \"pobj\", \"at\", \"Xxxxx\", true, false, \"NNP\", \"[-0.98076]\"], [1719, \"\", \"in\", \"in\", \"ADP\", \"IN\", \"prep\", \"Church\", \"xx\", true, true, \"IN\", \"[-3.7766]\"], [1722, \"\", \"Backnang\", \"Backnang\", \"PROPN\", \"NNP\", \"pobj\", \"in\", \"Xxxxx\", true, false, \"NNP\", \"[-0.2784]\"], [1730, \"\", \",\", \",\", \"PUNCT\", \",\", \"punct\", \"Backnang\", \",\", false, false, \",\", \"[-3.3899]\"], [1732, \"\", \"a\", \"a\", \"DET\", \"DT\", \"det\", \"town\", \"x\", true, true, \"DT\", \"[-9.3629]\"], [1734, \"\", \"town\", \"town\", \"NOUN\", \"NN\", \"appos\", \"Backnang\", \"xxxx\", true, false, \"NN\", \"[-3.9421]\"], [1739, \"\", \"about\", \"about\", \"ADV\", \"RB\", \"advmod\", \"30\", \"xxxx\", true, true, \"RB\", \"[-1.5398]\"], [1745, \"\", \"30\", \"30\", \"NUM\", \"CD\", \"nummod\", \"km\", \"dd\", false, false, \"CD\", \"[-1.7977]\"], [1748, \"\", \"km\", \"km\", \"NOUN\", \"NNS\", \"npadvmod\", \"northwest\", \"xx\", true, false, \"NNS\", \"[-11.307]\"], [1751, \"\", \"northwest\", \"northwest\", \"ADV\", \"RB\", \"advmod\", \"town\", \"xxxx\", true, false, \"RB\", \"[-1.8551]\"], [1761, \"\", \"of\", \"of\", \"ADP\", \"IN\", \"prep\", \"northwest\", \"xx\", true, true, \"IN\", \"[-12.667]\"], [1764, \"\", \"G\\u00f6ppingen\", \"G\\u00f6ppingen\", \"PROPN\", \"NNP\", \"pobj\", \"of\", \"Xxxxx\", true, false, \"NNP\", \"[-2.2553]\"], [1773, \"\", \".\", \".\", \"PUNCT\", \".\", \"punct\", \"sent\", \".\", false, false, \".\", \"[-0.076454]\"], [1775, \"\", \"M\\u00e4stlin\", \"M\\u00e4stlin\", \"PROPN\", \"NNP\", \"nsubj\", \"married\", \"Xxxxx\", true, false, \"NNP\", \"[0.0]\"], [1783, \"\", \"married\", \"marry\", \"VERB\", \"VBD\", \"ccomp\", \"had\", \"xxxx\", true, false, \"VBD\", \"[-4.2883]\"], [1791, \"\", \"Margarete\", \"Margarete\", \"PROPN\", \"NNP\", \"compound\", \"Gruuninger\", \"Xxxxx\", true, false, \"NNP\", \"[-3.6081]\"], [1801, \"\", \"Gruuninger\", \"Gruuninger\", \"PROPN\", \"NNP\", \"dobj\", \"married\", \"Xxxxx\", true, false, \"NNP\", \"[0.0]\"], [1812, \"\", \"(\", \"(\", \"PUNCT\", \"-LRB-\", \"punct\", \"Gruuninger\", \"(\", false, false, \"-LRB-\", \"[-7.8392]\"], [1813, \"\", \"1551\", \"1551\", \"NUM\", \"CD\", \"appos\", \"Gruuninger\", \"dddd\", false, false, \"CD\", \"[-0.4767]\"], [1817, \"\", \"-\", \"-\", \"SYM\", \"SYM\", \"punct\", \"1551\", \"-\", false, false, \"SYM\", \"[-5.2115]\"], [1818, \"\", \"1588\", \"1588\", \"NUM\", \"CD\", \"nummod\", \"1551\", \"dddd\", false, false, \"CD\", \"[-0.38574]\"], [1822, \"\", \")\", \")\", \"PUNCT\", \"-RRB-\", \"punct\", \"Gruuninger\", \")\", false, false, \"-RRB-\", \"[-7.9729]\"], [1824, \"\", \"in\", \"in\", \"ADP\", \"IN\", \"prep\", \"married\", \"xx\", true, true, \"IN\", \"[-3.7766]\"], [1827, \"\", \"April\", \"April\", \"PROPN\", \"NNP\", \"pobj\", \"in\", \"Xxxxx\", true, false, \"NNP\", \"[-5.4181]\"], [1833, \"\", \"1577\", \"1577\", \"NUM\", \"CD\", \"nummod\", \"April\", \"dddd\", false, false, \"CD\", \"[-0.030498]\"], [1838, \"\", \"not\", \"not\", \"PART\", \"RB\", \"neg\", \"long\", \"xxx\", true, true, \"RB\", \"[-3.3781]\"], [1842, \"\", \"long\", \"long\", \"ADV\", \"RB\", \"advmod\", \"took\", \"xxxx\", true, false, \"RB\", \"[0.52571]\"], [1847, \"\", \"after\", \"after\", \"SCONJ\", \"IN\", \"mark\", \"took\", \"xxxx\", true, true, \"IN\", \"[-5.9886]\"], [1853, \"\", \"M\\u00e4stlin\", \"M\\u00e4stlin\", \"PROPN\", \"NNP\", \"nsubj\", \"took\", \"Xxxxx\", true, false, \"NNP\", \"[0.0]\"], [1861, \"\", \"took\", \"take\", \"VERB\", \"VBD\", \"advcl\", \"married\", \"xxxx\", true, false, \"VBD\", \"[3.4158]\"], [1866, \"\", \"up\", \"up\", \"ADP\", \"RP\", \"prt\", \"took\", \"xx\", true, true, \"RP\", \"[1.813]\"], [1869, \"\", \"the\", \"the\", \"DET\", \"DT\", \"det\", \"position\", \"xxx\", true, true, \"DT\", \"[-5.1043]\"], [1873, \"\", \"position\", \"position\", \"NOUN\", \"NN\", \"dobj\", \"took\", \"xxxx\", true, false, \"NN\", \"[-0.76291]\"], [1882, \"\", \"in\", \"in\", \"ADP\", \"IN\", \"prep\", \"position\", \"xx\", true, true, \"IN\", \"[-3.7766]\"], [1885, \"\", \"Backnang\", \"Backnang\", \"PROPN\", \"NNP\", \"pobj\", \"in\", \"Xxxxx\", true, false, \"NNP\", \"[-0.2784]\"], [1894, \"\", \";\", \";\", \"PUNCT\", \":\", \"punct\", \"had\", \";\", false, false, \":\", \"[-6.7372]\"], [1896, \"\", \"1551\", \"1551\", \"NUM\", \"CD\", \"nsubj\", \"had\", \"dddd\", false, false, \"CD\", \"[-0.4767]\"], [1901, \"\", \"had\", \"have\", \"VERB\", \"VBD\", \"ROOT\", \"had\", \"xxx\", true, true, \"VBD\", \"[-8.6183]\"], [1905, \"\", \"three\", \"three\", \"NUM\", \"CD\", \"nummod\", \"sons\", \"xxxx\", true, true, \"CD\", \"[-6.6973]\"], [1911, \"\", \"sons\", \"son\", \"NOUN\", \"NNS\", \"dobj\", \"had\", \"xxxx\", true, false, \"NNS\", \"[-4.8988]\"], [1916, \"\", \"and\", \"and\", \"CCONJ\", \"CC\", \"cc\", \"sons\", \"xxx\", true, true, \"CC\", \"[-3.3477]\"], [1920, \"\", \"three\", \"three\", \"NUM\", \"CD\", \"nummod\", \"daughters\", \"xxxx\", true, true, \"CD\", \"[-6.6973]\"], [1926, \"\", \"daughters\", \"daughter\", \"NOUN\", \"NNS\", \"conj\", \"sons\", \"xxxx\", true, false, \"NNS\", \"[-0.93175]\"], [1936, \"\", \"but\", \"but\", \"CCONJ\", \"CC\", \"cc\", \"had\", \"xxx\", true, true, \"CC\", \"[-1.2]\"], [1940, \"\", \"Margarete\", \"Margarete\", \"PROPN\", \"NNP\", \"nsubj\", \"died\", \"Xxxxx\", true, false, \"NNP\", \"[-3.6081]\"], [1950, \"\", \"died\", \"die\", \"VERB\", \"VBD\", \"conj\", \"had\", \"xxxx\", true, false, \"VBD\", \"[-5.7729]\"], [1955, \"\", \"due\", \"due\", \"ADJ\", \"JJ\", \"prep\", \"died\", \"xxx\", true, true, \"JJ\", \"[0.1739]\"], [1959, \"\", \"to\", \"to\", \"ADP\", \"IN\", \"pcomp\", \"due\", \"xx\", true, true, \"IN\", \"[-1.6487]\"], [1962, \"\", \"complications\", \"complication\", \"NOUN\", \"NNS\", \"pobj\", \"to\", \"xxxx\", true, false, \"NNS\", \"[0.82103]\"], [1976, \"\", \"with\", \"with\", \"ADP\", \"IN\", \"prep\", \"complications\", \"xxxx\", true, true, \"IN\", \"[-7.3029]\"], [1981, \"\", \"the\", \"the\", \"DET\", \"DT\", \"det\", \"birth\", \"xxx\", true, true, \"DT\", \"[-5.1043]\"], [1985, \"\", \"birth\", \"birth\", \"NOUN\", \"NN\", \"pobj\", \"with\", \"xxxx\", true, false, \"NN\", \"[0.21282]\"], [8643, \"\", \"hypotheses\", \"hypothesis\", \"NOUN\", \"NNS\", \"dobj\", \"straighten\", \"xxxx\", true, false, \"NNS\", \"[-0.54827]\"], [8654, \"\", \"so\", \"so\", \"SCONJ\", \"IN\", \"mark\", \"agree\", \"xx\", true, true, \"IN\", \"[-1.8443]\"], [8657, \"\", \"that\", \"that\", \"SCONJ\", \"IN\", \"mark\", \"agree\", \"xxxx\", true, true, \"IN\", \"[-1.1026]\"], [8662, \"\", \"hypotheses\", \"hypothesis\", \"NOUN\", \"NNS\", \"nsubj\", \"agree\", \"xxxx\", true, false, \"NNS\", \"[-0.54827]\"], [8673, \"\", \"would\", \"would\", \"AUX\", \"MD\", \"aux\", \"agree\", \"xxxx\", true, true, \"MD\", \"[-2.2396]\"], [8679, \"\", \"agree\", \"agree\", \"VERB\", \"VB\", \"advcl\", \"straighten\", \"xxxx\", true, false, \"VB\", \"[2.4612]\"], [8685, \"\", \"with\", \"with\", \"ADP\", \"IN\", \"prep\", \"agree\", \"xxxx\", true, true, \"IN\", \"[-7.3029]\"], [8690, \"\", \"the\", \"the\", \"DET\", \"DT\", \"det\", \"phenomena\", \"xxx\", true, true, \"DT\", \"[-5.1043]\"], [8694, \"\", \"phenomena\", \"phenomenon\", \"NOUN\", \"NNS\", \"pobj\", \"with\", \"xxxx\", true, false, \"NNS\", \"[-0.39815]\"], [8704, \"\", \"and\", \"and\", \"CCONJ\", \"CC\", \"cc\", \"agree\", \"xxx\", true, true, \"CC\", \"[-3.3477]\"], [8708, \"\", \"allow\", \"allow\", \"VERB\", \"VB\", \"conj\", \"agree\", \"xxxx\", true, false, \"VB\", \"[1.484]\"], [8714, \"\", \"no\", \"no\", \"DET\", \"DT\", \"det\", \"inconsistencies\", \"xx\", true, true, \"DT\", \"[1.4541]\"], [8717, \"\", \"inconsistencies\", \"inconsistency\", \"NOUN\", \"NNS\", \"dobj\", \"allow\", \"xxxx\", true, false, \"NNS\", \"[-1.4237]\"], [8732, \"\", \",\", \",\", \"PUNCT\", \",\", \"punct\", \"trust\", \",\", false, false, \",\", \"[-3.3899]\"], [8734, \"\", \"then\", \"then\", \"ADV\", \"RB\", \"advmod\", \"trust\", \"xxxx\", true, true, \"RB\", \"[-2.8267]\"], [8739, \"\", \"I\", \"I\", \"PRON\", \"PRP\", \"nsubj\", \"trust\", \"X\", true, true, \"PRP\", \"[-1.8607]\"], [8741, \"\", \"would\", \"would\", \"AUX\", \"MD\", \"aux\", \"trust\", \"xxxx\", true, true, \"MD\", \"[-2.2396]\"], [8747, \"\", \"gratefully\", \"gratefully\", \"ADV\", \"RB\", \"advmod\", \"trust\", \"xxxx\", true, false, \"RB\", \"[1.6945]\"], [8758, \"\", \"trust\", \"trust\", \"VERB\", \"VB\", \"ccomp\", \"bring\", \"xxxx\", true, false, \"VB\", \"[-0.36242]\"], [8764, \"\", \"M\\u00e4stlin\", \"M\\u00e4stlin\", \"PROPN\", \"NNP\", \"dobj\", \"trust\", \"Xxxxx\", true, false, \"NNP\", \"[0.0]\"], [8772, \"\", \";\", \";\", \"PUNCT\", \":\", \"punct\", \"bring\", \";\", false, false, \":\", \"[-6.7372]\"], [8774, \"\", \"clearly\", \"clearly\", \"ADV\", \"RB\", \"advmod\", \"bring\", \"xxxx\", true, false, \"RB\", \"[-0.74373]\"], [8782, \"\", \"M\\u00e4stlin\", \"M\\u00e4stlin\", \"PROPN\", \"NNP\", \"nsubj\", \"bring\", \"Xxxxx\", true, false, \"NNP\", \"[0.0]\"], [8790, \"\", \"would\", \"would\", \"AUX\", \"MD\", \"aux\", \"bring\", \"xxxx\", true, true, \"MD\", \"[-2.2396]\"], [8796, \"\", \"bring\", \"bring\", \"VERB\", \"VB\", \"ROOT\", \"bring\", \"xxxx\", true, false, \"VB\", \"[-2.9841]\"], [8802, \"\", \"very\", \"very\", \"ADV\", \"RB\", \"advmod\", \"many\", \"xxxx\", true, true, \"RB\", \"[0.42554]\"], [8807, \"\", \"many\", \"many\", \"ADJ\", \"JJ\", \"dobj\", \"bring\", \"xxxx\", true, true, \"JJ\", \"[-1.2656]\"], [8812, \"\", \"to\", \"to\", \"ADP\", \"IN\", \"prep\", \"bring\", \"xx\", true, true, \"IN\", \"[-1.6487]\"], [8815, \"\", \"M\\u00e4stlin\", \"M\\u00e4stlin\", \"PROPN\", \"NNP\", \"compound\", \"views\", \"Xxxxx\", true, false, \"NNP\", \"[0.0]\"], [8823, \"\", \"views\", \"view\", \"NOUN\", \"NNS\", \"pobj\", \"to\", \"xxxx\", true, false, \"NNS\", \"[1.1795]\"], [8828, \"\", \".\", \".\", \"PUNCT\", \".\", \"punct\", \"bring\", \".\", false, false, \".\", \"[-0.076454]\"], [8830, \"\", \"But\", \"but\", \"CCONJ\", \"CC\", \"cc\", \"see\", \"Xxx\", true, true, \"CC\", \"[2.6836]\"], [8834, \"\", \"I\", \"I\", \"PRON\", \"PRP\", \"nsubj\", \"see\", \"X\", true, true, \"PRP\", \"[-1.8607]\"], [8836, \"\", \"see\", \"see\", \"VERB\", \"VBP\", \"ROOT\", \"see\", \"xxx\", true, true, \"VBP\", \"[3.359]\"], [8840, \"\", \"that\", \"that\", \"SCONJ\", \"IN\", \"mark\", \"laboured\", \"xxxx\", true, true, \"IN\", \"[-1.1026]\"], [8845, \"\", \"some\", \"some\", \"PRON\", \"DT\", \"nsubj\", \"laboured\", \"xxxx\", true, true, \"DT\", \"[-0.91138]\"], [8849, \"\", \",\", \",\", \"PUNCT\", \",\", \"punct\", \"some\", \",\", false, false, \",\", \"[-3.3899]\"], [8851, \"\", \"even\", \"even\", \"ADV\", \"RB\", \"advmod\", \"mathematicians\", \"xxxx\", true, true, \"RB\", \"[-1.0625]\"], [8856, \"\", \"very\", \"very\", \"ADV\", \"RB\", \"advmod\", \"outstanding\", \"xxxx\", true, true, \"RB\", \"[0.42554]\"], [8861, \"\", \"outstanding\", \"outstanding\", \"ADJ\", \"JJ\", \"amod\", \"mathematicians\", \"xxxx\", true, false, \"JJ\", \"[-1.6609]\"], [8873, \"\", \"mathematicians\", \"mathematician\", \"NOUN\", \"NNS\", \"appos\", \"some\", \"xxxx\", true, false, \"NNS\", \"[-2.4878]\"], [8887, \"\", \",\", \",\", \"PUNCT\", \",\", \"punct\", \"some\", \",\", false, false, \",\", \"[-3.3899]\"], [8889, \"\", \"have\", \"have\", \"AUX\", \"VBP\", \"aux\", \"laboured\", \"xxxx\", true, true, \"VBP\", \"[-2.2659]\"], [8894, \"\", \"laboured\", \"labour\", \"VERB\", \"VBN\", \"ccomp\", \"see\", \"xxxx\", true, false, \"VBN\", \"[-2.2504]\"], [8903, \"\", \"on\", \"on\", \"ADP\", \"IN\", \"prep\", \"laboured\", \"xx\", true, true, \"IN\", \"[-5.1644]\"], [8906, \"\", \"this\", \"this\", \"PRON\", \"DT\", \"pobj\", \"on\", \"xxxx\", true, true, \"DT\", \"[2.179]\"], [8911, \"\", \"yet\", \"yet\", \"ADV\", \"RB\", \"advmod\", \"laboured\", \"xxx\", true, true, \"RB\", \"[1.7719]\"], [8914, \"\", \",\", \",\", \"PUNCT\", \",\", \"punct\", \"laboured\", \",\", false, false, \",\", \"[-3.3899]\"], [8916, \"\", \"in\", \"in\", \"ADP\", \"IN\", \"prep\", \"laboured\", \"xx\", true, true, \"IN\", \"[-3.7766]\"], [8919, \"\", \"the\", \"the\", \"DET\", \"DT\", \"det\", \"end\", \"xxx\", true, true, \"DT\", \"[-5.1043]\"], [8923, \"\", \"end\", \"end\", \"NOUN\", \"NN\", \"pobj\", \"in\", \"xxx\", true, false, \"NN\", \"[-5.9623]\"], [8926, \"\", \",\", \",\", \"PUNCT\", \",\", \"punct\", \"laboured\", \",\", false, false, \",\", \"[-3.3899]\"], [8928, \"\", \"without\", \"without\", \"ADP\", \"IN\", \"prep\", \"laboured\", \"xxxx\", true, true, \"IN\", \"[-3.9888]\"], [8936, \"\", \"results\", \"result\", \"NOUN\", \"NNS\", \"pobj\", \"without\", \"xxxx\", true, false, \"NNS\", \"[2.6504]\"], [8943, \"\", \".\", \".\", \"PUNCT\", \".\", \"punct\", \"see\", \".\", false, false, \".\", \"[-0.076454]\"], [8945, \"\", \"Therefore\", \"therefore\", \"ADV\", \"RB\", \"advmod\", \"think\", \"Xxxxx\", true, true, \"RB\", \"[-2.3251]\"], [8954, \"\", \",\", \",\", \"PUNCT\", \",\", \"punct\", \"think\", \",\", false, false, \",\", \"[-3.3899]\"], [8956, \"\", \"I\", \"I\", \"PRON\", \"PRP\", \"nsubj\", \"think\", \"X\", true, true, \"PRP\", \"[-1.8607]\"], [8958, \"\", \"think\", \"think\", \"VERB\", \"VBP\", \"ROOT\", \"think\", \"xxxx\", true, false, \"VBP\", \"[-0.71683]\"], [8964, \"\", \"that\", \"that\", \"SCONJ\", \"IN\", \"mark\", \"accept\", \"xxxx\", true, true, \"IN\", \"[-1.1026]\"], [8969, \"\", \"unless\", \"unless\", \"SCONJ\", \"IN\", \"mark\", \"reformed\", \"xxxx\", true, true, \"IN\", \"[-0.15764]\"], [8976, \"\", \"the\", \"the\", \"DET\", \"DT\", \"det\", \"hypotheses\", \"xxx\", true, true, \"DT\", \"[-5.1043]\"], [8980, \"\", \"common\", \"common\", \"ADJ\", \"JJ\", \"amod\", \"hypotheses\", \"xxxx\", true, false, \"JJ\", \"[-1.8334]\"], [8987, \"\", \"hypotheses\", \"hypothesis\", \"NOUN\", \"NNS\", \"nsubjpass\", \"reformed\", \"xxxx\", true, false, \"NNS\", \"[-0.54827]\"], [8998, \"\", \"are\", \"be\", \"AUX\", \"VBP\", \"auxpass\", \"reformed\", \"xxx\", true, true, \"VBP\", \"[-7.1395]\"], [9002, \"\", \"reformed\", \"reform\", \"VERB\", \"VBN\", \"advcl\", \"accept\", \"xxxx\", true, false, \"VBN\", \"[-4.2668]\"], [9011, \"\", \"(\", \"(\", \"PUNCT\", \"-LRB-\", \"punct\", \"reformed\", \"(\", false, false, \"-LRB-\", \"[-7.8392]\"], [9012, \"\", \"a\", \"a\", \"DET\", \"DT\", \"det\", \"task\", \"x\", true, true, \"DT\", \"[-9.3629]\"], [9014, \"\", \"task\", \"task\", \"NOUN\", \"NN\", \"npadvmod\", \"reformed\", \"xxxx\", true, false, \"NN\", \"[1.6347]\"], [9019, \"\", \"that\", \"that\", \"PRON\", \"WDT\", \"pobj\", \"up\", \"xxxx\", true, true, \"WDT\", \"[-1.1026]\"], [9024, \"\", \"I\", \"I\", \"PRON\", \"PRP\", \"nsubj\", \"am\", \"X\", true, true, \"PRP\", \"[-1.8607]\"], [9026, \"\", \"am\", \"be\", \"AUX\", \"VBP\", \"relcl\", \"task\", \"xx\", true, true, \"VBP\", \"[8.3869]\"], [9029, \"\", \"not\", \"not\", \"PART\", \"RB\", \"neg\", \"am\", \"xxx\", true, true, \"RB\", \"[-3.3781]\"], [9033, \"\", \"up\", \"up\", \"ADP\", \"IN\", \"prep\", \"am\", \"xx\", true, true, \"IN\", \"[1.813]\"], [9036, \"\", \"to\", \"to\", \"PART\", \"TO\", \"prep\", \"up\", \"xx\", true, true, \"TO\", \"[-1.6487]\"], [9039, \"\", \"because\", \"because\", \"SCONJ\", \"IN\", \"prep\", \"am\", \"xxxx\", true, true, \"IN\", \"[-2.6093]\"], [9047, \"\", \"of\", \"of\", \"ADP\", \"IN\", \"pcomp\", \"because\", \"xx\", true, true, \"IN\", \"[-12.667]\"], [9050, \"\", \"my\", \"my\", \"PRON\", \"PRP$\", \"poss\", \"abilities\", \"xx\", true, true, \"PRP$\", \"[7.0139]\"], [9053, \"\", \"inadequate\", \"inadequate\", \"ADJ\", \"JJ\", \"amod\", \"abilities\", \"xxxx\", true, false, \"JJ\", \"[0.011354]\"], [9064, \"\", \"abilities\", \"ability\", \"NOUN\", \"NNS\", \"pobj\", \"because\", \"xxxx\", true, false, \"NNS\", \"[1.7467]\"], [9073, \"\", \")\", \")\", \"PUNCT\", \"-RRB-\", \"punct\", \"reformed\", \")\", false, false, \"-RRB-\", \"[-7.9729]\"], [9074, \"\", \",\", \",\", \"PUNCT\", \",\", \"punct\", \"accept\", \",\", false, false, \",\", \"[-3.3899]\"], [9076, \"\", \"I\", \"I\", \"PRON\", \"PRP\", \"nsubj\", \"accept\", \"X\", true, true, \"PRP\", \"[-1.8607]\"], [9078, \"\", \"will\", \"will\", \"AUX\", \"MD\", \"aux\", \"accept\", \"xxxx\", true, true, \"MD\", \"[5.7965]\"], [9083, \"\", \"accept\", \"accept\", \"VERB\", \"VB\", \"ccomp\", \"think\", \"xxxx\", true, false, \"VB\", \"[-1.2043]\"], [9090, \"\", \"the\", \"the\", \"DET\", \"DT\", \"det\", \"hypotheses\", \"xxx\", true, true, \"DT\", \"[-5.1043]\"], [9094, \"\", \"hypotheses\", \"hypothesis\", \"NOUN\", \"NNS\", \"dobj\", \"accept\", \"xxxx\", true, false, \"NNS\", \"[-0.54827]\"], [9105, \"\", \"and\", \"and\", \"CCONJ\", \"CC\", \"cc\", \"hypotheses\", \"xxx\", true, true, \"CC\", \"[-3.3477]\"], [9109, \"\", \"opinion\", \"opinion\", \"NOUN\", \"NN\", \"conj\", \"hypotheses\", \"xxxx\", true, false, \"NN\", \"[-0.38969]\"], [9117, \"\", \"of\", \"of\", \"ADP\", \"IN\", \"prep\", \"hypotheses\", \"xx\", true, true, \"IN\", \"[-12.667]\"], [9120, \"\", \"Copernicus\", \"Copernicus\", \"PROPN\", \"NNP\", \"pobj\", \"of\", \"Xxxxx\", true, false, \"NNP\", \"[-0.34364]\"], [9131, \"\", \"-\", \"-\", \"PUNCT\", \"HYPH\", \"punct\", \"accept\", \"-\", false, false, \"HYPH\", \"[-5.2115]\"], [9133, \"\", \"after\", \"after\", \"ADP\", \"IN\", \"prep\", \"accept\", \"xxxx\", true, true, \"IN\", \"[-5.9886]\"], [9139, \"\", \"Ptolemy\", \"Ptolemy\", \"PROPN\", \"NNP\", \"pobj\", \"after\", \"Xxxxx\", true, false, \"NNP\", \"[-2.4374]\"], [9146, \"\", \",\", \",\", \"PUNCT\", \",\", \"punct\", \"Ptolemy\", \",\", false, false, \",\", \"[-3.3899]\"], [9148, \"\", \"the\", \"the\", \"DET\", \"DT\", \"det\", \"prince\", \"xxx\", true, true, \"DT\", \"[-5.1043]\"], [9152, \"\", \"prince\", \"prince\", \"NOUN\", \"NN\", \"appos\", \"Ptolemy\", \"xxxx\", true, false, \"NN\", \"[-2.3312]\"], [9159, \"\", \"of\", \"of\", \"ADP\", \"IN\", \"prep\", \"prince\", \"xx\", true, true, \"IN\", \"[-12.667]\"], [9162, \"\", \"all\", \"all\", \"DET\", \"DT\", \"det\", \"Astronomers\", \"xxx\", true, true, \"DT\", \"[-2.0123]\"], [9166, \"\", \"Astronomers\", \"astronomer\", \"NOUN\", \"NNS\", \"pobj\", \"of\", \"Xxxxx\", true, false, \"NNS\", \"[-2.1195]\"], [9177, \"\", \".\", \".\", \"PUNCT\", \".\", \"punct\", \"think\", \".\", false, false, \".\", \"[-0.076454]\"], [9178, \"\", \"There\", \"there\", \"PRON\", \"EX\", \"expl\", \"are\", \"Xxxxx\", true, true, \"EX\", \"[1.4265]\"], [9184, \"\", \"are\", \"be\", \"VERB\", \"VBP\", \"ROOT\", \"are\", \"xxx\", true, true, \"VBP\", \"[-7.1395]\"], [9188, \"\", \"further\", \"further\", \"ADJ\", \"JJ\", \"amod\", \"annotations\", \"xxxx\", true, true, \"JJ\", \"[1.9851]\"], [9196, \"\", \"annotations\", \"annotation\", \"NOUN\", \"NNS\", \"attr\", \"are\", \"xxxx\", true, false, \"NNS\", \"[-1.6331]\"], [9208, \"\", \"written\", \"write\", \"VERB\", \"VBN\", \"acl\", \"annotations\", \"xxxx\", true, false, \"VBN\", \"[-2.9142]\"], [9216, \"\", \"by\", \"by\", \"ADP\", \"IN\", \"agent\", \"written\", \"xx\", true, true, \"IN\", \"[-13.597]\"], [9219, \"\", \"M\\u00e4stlin\", \"M\\u00e4stlin\", \"PROPN\", \"NNP\", \"pobj\", \"by\", \"Xxxxx\", true, false, \"NNP\", \"[0.0]\"], [9227, \"\", \"[\", \"[\", \"X\", \"XX\", \"punct\", \"annotations\", \"[\", false, false, \"XX\", \"[11.177]\"], [9228, \"\", \"3\", \"3\", \"NUM\", \"CD\", \"appos\", \"annotations\", \"d\", false, false, \"CD\", \"[-2.3824]\"], [9229, \"\", \"]\", \"]\", \"PUNCT\", \"-RRB-\", \"punct\", \"annotations\", \"]\", false, false, \"-RRB-\", \"[10.212]\"], [9231, \"\", \"which\", \"which\", \"PRON\", \"WDT\", \"nsubj\", \"are\", \"xxxx\", true, true, \"WDT\", \"[-3.2023]\"], [9237, \"\", \"are\", \"be\", \"AUX\", \"VBP\", \"relcl\", \"annotations\", \"xxx\", true, true, \"VBP\", \"[-7.1395]\"], [9241, \"\", \"very\", \"very\", \"ADV\", \"RB\", \"advmod\", \"interesting\", \"xxxx\", true, true, \"RB\", \"[0.42554]\"], [9246, \"\", \"interesting\", \"interesting\", \"ADJ\", \"JJ\", \"acomp\", \"are\", \"xxxx\", true, false, \"JJ\", \"[0.76617]\"], [9257, \"\", \".\", \".\", \"PUNCT\", \".\", \"punct\", \"are\", \".\", false, false, \".\", \"[-0.076454]\"], [9259, \"\", \"On\", \"on\", \"ADP\", \"IN\", \"prep\", \"is\", \"Xx\", true, true, \"IN\", \"[-4.0184]\"], [9262, \"\", \"the\", \"the\", \"DET\", \"DT\", \"det\", \"back\", \"xxx\", true, true, \"DT\", \"[-5.1043]\"], [9266, \"\", \"back\", \"back\", \"NOUN\", \"NN\", \"pobj\", \"On\", \"xxxx\", true, true, \"NN\", \"[2.2082]\"], [9271, \"\", \"of\", \"of\", \"ADP\", \"IN\", \"prep\", \"back\", \"xx\", true, true, \"IN\", \"[-12.667]\"], [9274, \"\", \"the\", \"the\", \"DET\", \"DT\", \"det\", \"page\", \"xxx\", true, true, \"DT\", \"[-5.1043]\"], [9278, \"\", \"title\", \"title\", \"NOUN\", \"NN\", \"compound\", \"page\", \"xxxx\", true, false, \"NN\", \"[-0.72191]\"], [9284, \"\", \"page\", \"page\", \"NOUN\", \"NN\", \"pobj\", \"of\", \"xxxx\", true, false, \"NN\", \"[7.1325]\"], [9289, \"\", \"of\", \"of\", \"ADP\", \"IN\", \"prep\", \"page\", \"xx\", true, true, \"IN\", \"[-12.667]\"], [9292, \"\", \"De\", \"De\", \"PROPN\", \"NNP\", \"compound\", \"revolutionibus\", \"Xx\", true, false, \"NNP\", \"[-2.2394]\"], [9295, \"\", \"revolutionibus\", \"revolutionibus\", \"NOUN\", \"NN\", \"pobj\", \"of\", \"xxxx\", true, false, \"NN\", \"[-1.6528]\"], [9310, \"\", \"is\", \"be\", \"AUX\", \"VBZ\", \"ccomp\", \"is\", \"xx\", true, true, \"VBZ\", \"[1.475]\"], [9313, \"\", \"the\", \"the\", \"DET\", \"DT\", \"det\", \"notice\", \"xxx\", true, true, \"DT\", \"[-5.1043]\"], [9317, \"\", \"infamous\", \"infamous\", \"ADJ\", \"JJ\", \"amod\", \"notice\", \"xxxx\", true, false, \"JJ\", \"[-1.6263]\"], [9326, \"\", \"notice\", \"notice\", \"NOUN\", \"NN\", \"attr\", \"is\", \"xxxx\", true, false, \"NN\", \"[0.82918]\"], [9333, \"\", \"which\", \"which\", \"PRON\", \"WDT\", \"nsubj\", \"states\", \"xxxx\", true, true, \"WDT\", \"[-3.2023]\"], [9339, \"\", \"states\", \"state\", \"VERB\", \"VBZ\", \"relcl\", \"notice\", \"xxxx\", true, false, \"VBZ\", \"[-4.2687]\"], [9346, \"\", \"that\", \"that\", \"SCONJ\", \"IN\", \"mark\", \"be\", \"xxxx\", true, true, \"IN\", \"[-1.1026]\"], [9351, \"\", \"\\\"\", \"\\\"\", \"PUNCT\", \"``\", \"punct\", \"be\", \"\\\"\", false, false, \"``\", \"[-0.53216]\"], [9352, \"\", \"...\", \"...\", \"PUNCT\", \":\", \"punct\", \"be\", \"...\", false, false, \":\", \"[0.57913]\"], [9356, \"\", \"these\", \"these\", \"DET\", \"DT\", \"det\", \"hypotheses\", \"xxxx\", true, true, \"DT\", \"[-2.3913]\"], [9362, \"\", \"hypotheses\", \"hypothesis\", \"NOUN\", \"NNS\", \"nsubj\", \"be\", \"xxxx\", true, false, \"NNS\", \"[-0.54827]\"], [9373, \"\", \"need\", \"need\", \"AUX\", \"VBP\", \"aux\", \"be\", \"xxxx\", true, false, \"VBP\", \"[7.7307]\"], [9378, \"\", \"not\", \"not\", \"PART\", \"RB\", \"neg\", \"be\", \"xxx\", true, true, \"RB\", \"[-3.3781]\"], [9382, \"\", \"be\", \"be\", \"AUX\", \"VB\", \"ccomp\", \"states\", \"xx\", true, true, \"VB\", \"[-9.3526]\"], [9385, \"\", \"true\", \"true\", \"ADJ\", \"JJ\", \"acomp\", \"be\", \"xxxx\", true, false, \"JJ\", \"[-0.047425]\"], [9390, \"\", \"nor\", \"nor\", \"CCONJ\", \"CC\", \"cc\", \"true\", \"xxx\", true, true, \"CC\", \"[-5.6326]\"], [9394, \"\", \"even\", \"even\", \"ADV\", \"RB\", \"advmod\", \"probable\", \"xxxx\", true, true, \"RB\", \"[-1.0625]\"], [9399, \"\", \"probable\", \"probable\", \"ADJ\", \"JJ\", \"conj\", \"true\", \"xxxx\", true, false, \"JJ\", \"[-1.2984]\"], [9407, \"\", \";\", \";\", \"PUNCT\", \":\", \"punct\", \"is\", \";\", false, false, \":\", \"[-6.7372]\"], [9409, \"\", \"it\", \"it\", \"PRON\", \"PRP\", \"nsubj\", \"is\", \"xx\", true, true, \"PRP\", \"[6.5268]\"], [9412, \"\", \"is\", \"be\", \"AUX\", \"VBZ\", \"ROOT\", \"is\", \"xx\", true, true, \"VBZ\", \"[1.475]\"], [9415, \"\", \"sufficient\", \"sufficient\", \"ADJ\", \"JJ\", \"acomp\", \"is\", \"xxxx\", true, false, \"JJ\", \"[-0.30338]\"], [9426, \"\", \"if\", \"if\", \"SCONJ\", \"IN\", \"mark\", \"agree\", \"xx\", true, true, \"IN\", \"[-2.777]\"], [9429, \"\", \"the\", \"the\", \"DET\", \"DT\", \"det\", \"calculations\", \"xxx\", true, true, \"DT\", \"[-5.1043]\"], [9433, \"\", \"calculations\", \"calculation\", \"NOUN\", \"NNS\", \"nsubj\", \"agree\", \"xxxx\", true, false, \"NNS\", \"[-0.4254]\"], [9446, \"\", \"agree\", \"agree\", \"VERB\", \"VBP\", \"advcl\", \"is\", \"xxxx\", true, false, \"VBP\", \"[2.4612]\"], [9452, \"\", \"with\", \"with\", \"ADP\", \"IN\", \"prep\", \"agree\", \"xxxx\", true, true, \"IN\", \"[-7.3029]\"], [9457, \"\", \"the\", \"the\", \"DET\", \"DT\", \"det\", \"observations\", \"xxx\", true, true, \"DT\", \"[-5.1043]\"], [9461, \"\", \"observations\", \"observation\", \"NOUN\", \"NNS\", \"pobj\", \"with\", \"xxxx\", true, false, \"NNS\", \"[-0.73941]\"], [9473, \"\", \".\", \".\", \"PUNCT\", \".\", \"punct\", \"is\", \".\", false, false, \".\", \"[-0.076454]\"], [9474, \"\", \"\\\"\", \"\\\"\", \"PUNCT\", \"''\", \"punct\", \"is\", \"\\\"\", false, false, \"''\", \"[-0.53216]\"], [9476, \"\", \"M\\u00e4stlin\", \"M\\u00e4stlin\", \"PROPN\", \"NNP\", \"nsubj\", \"adds\", \"Xxxxx\", true, false, \"NNP\", \"[0.0]\"], [9484, \"\", \"adds\", \"add\", \"VERB\", \"VBZ\", \"ROOT\", \"adds\", \"xxxx\", true, false, \"VBZ\", \"[1.3412]\"], [9489, \"\", \"a\", \"a\", \"DET\", \"DT\", \"det\", \"note\", \"x\", true, true, \"DT\", \"[-9.3629]\"], [9491, \"\", \"note\", \"note\", \"NOUN\", \"NN\", \"dobj\", \"adds\", \"xxxx\", true, false, \"NN\", \"[0.81796]\"], [9496, \"\", \"to\", \"to\", \"ADP\", \"IN\", \"prep\", \"adds\", \"xx\", true, true, \"IN\", \"[-1.6487]\"], [9499, \"\", \"M\\u00e4stlin\", \"M\\u00e4stlin\", \"PROPN\", \"NNP\", \"compound\", \"copy\", \"Xxxxx\", true, false, \"NNP\", \"[0.0]\"], [9507, \"\", \"copy\", \"copy\", \"NOUN\", \"NN\", \"pobj\", \"to\", \"xxxx\", true, false, \"NN\", \"[-0.42999]\"], [9512, \"\", \"stating:-\", \"stating:-\", \"PUNCT\", \".\", \"punct\", \"adds\", \"xxxx:-\", false, false, \".\", \"[0.0]\"], [9522, \"\", \"\\\\n\", \"\\\\n\", \"SPACE\", \"_SP\", \"dep\", \"stating:-\", \"\\\\n\", false, false, \"_SP\", \"[0.0]\"], [9523, \"\", \"This\", \"this\", \"DET\", \"DT\", \"det\", \"preface\", \"Xxxx\", true, true, \"DT\", \"[1.6849]\"], [9528, \"\", \"preface\", \"preface\", \"NOUN\", \"NN\", \"nsubjpass\", \"added\", \"xxxx\", true, false, \"NN\", \"[-1.0947]\"], [9536, \"\", \"was\", \"be\", \"AUX\", \"VBD\", \"auxpass\", \"added\", \"xxx\", true, true, \"VBD\", \"[-9.5058]\"], [9540, \"\", \"added\", \"add\", \"VERB\", \"VBN\", \"ccomp\", \"reveal\", \"xxxx\", true, false, \"VBN\", \"[-1.4262]\"], [9546, \"\", \"by\", \"by\", \"ADP\", \"IN\", \"agent\", \"added\", \"xx\", true, true, \"IN\", \"[-13.597]\"], [9549, \"\", \"someone\", \"someone\", \"PRON\", \"NN\", \"pobj\", \"by\", \"xxxx\", true, true, \"NN\", \"[-0.08259]\"], [9556, \"\", \",\", \",\", \"PUNCT\", \",\", \"punct\", \"someone\", \",\", false, false, \",\", \"[-3.3899]\"], [9558, \"\", \"whoever\", \"whoever\", \"PRON\", \"WP\", \"poss\", \"author\", \"xxxx\", true, true, \"WP\", \"[-2.3249]\"], [9566, \"\", \"preface\", \"preface\", \"NOUN\", \"NN\", \"compound\", \"author\", \"xxxx\", true, false, \"NN\", \"[-1.0947]\"], [9574, \"\", \"author\", \"author\", \"NOUN\", \"NN\", \"nsubj\", \"be\", \"xxxx\", true, false, \"NN\", \"[-1.7865]\"], [9581, \"\", \"may\", \"may\", \"AUX\", \"MD\", \"aux\", \"be\", \"xxx\", true, true, \"MD\", \"[6.292]\"], [9585, \"\", \"be\", \"be\", \"AUX\", \"VB\", \"relcl\", \"someone\", \"xx\", true, true, \"VB\", \"[-9.3526]\"], [9587, \"\", \",\", \",\", \"PUNCT\", \",\", \"punct\", \"someone\", \",\", false, false, \",\", \"[-3.3899]\"], [9589, \"\", \"(\", \"(\", \"PUNCT\", \"-LRB-\", \"punct\", \"someone\", \"(\", false, false, \"-LRB-\", \"[-7.8392]\"], [9590, \"\", \"for\", \"for\", \"ADP\", \"IN\", \"prep\", \"preface\", \"xxx\", true, true, \"IN\", \"[-7.0781]\"], [9594, \"\", \"indeed\", \"indeed\", \"ADV\", \"RB\", \"pcomp\", \"for\", \"xxxx\", true, true, \"RB\", \"[-0.13902]\"], [9600, \"\", \",\", \",\", \"PUNCT\", \",\", \"punct\", \"for\", \",\", false, false, \",\", \"[-3.3899]\"], [9602, \"\", \"preface\", \"preface\", \"VERB\", \"VBP\", \"nsubj\", \"reveal\", \"xxxx\", true, false, \"VBP\", \"[-1.0947]\"], [9610, \"\", \"weakness\", \"weakness\", \"NOUN\", \"NN\", \"dobj\", \"preface\", \"xxxx\", true, false, \"NN\", \"[0.56325]\"], [9619, \"\", \"of\", \"of\", \"ADP\", \"IN\", \"prep\", \"weakness\", \"xx\", true, true, \"IN\", \"[-12.667]\"], [9622, \"\", \"style\", \"style\", \"NOUN\", \"NN\", \"pobj\", \"of\", \"xxxx\", true, false, \"NN\", \"[-3.8279]\"], [9628, \"\", \"and\", \"and\", \"CCONJ\", \"CC\", \"cc\", \"style\", \"xxx\", true, true, \"CC\", \"[-3.3477]\"], [9632, \"\", \"choice\", \"choice\", \"NOUN\", \"NN\", \"conj\", \"style\", \"xxxx\", true, false, \"NN\", \"[-3.6356]\"], [9639, \"\", \"of\", \"of\", \"ADP\", \"IN\", \"prep\", \"style\", \"xx\", true, true, \"IN\", \"[-12.667]\"], [9642, \"\", \"words\", \"word\", \"NOUN\", \"NNS\", \"pobj\", \"of\", \"xxxx\", true, false, \"NNS\", \"[0.41886]\"], [9648, \"\", \"reveal\", \"reveal\", \"VERB\", \"VBP\", \"ccomp\", \"recognise\", \"xxxx\", true, false, \"VBP\", \"[3.4923]\"], [9655, \"\", \"that\", \"that\", \"SCONJ\", \"IN\", \"mark\", \"is\", \"xxxx\", true, true, \"IN\", \"[-1.1026]\"], [9660, \"\", \"preface\", \"preface\", \"NOUN\", \"NN\", \"nsubj\", \"is\", \"xxxx\", true, false, \"NN\", \"[-1.0947]\"], [9668, \"\", \"is\", \"be\", \"AUX\", \"VBZ\", \"ccomp\", \"reveal\", \"xx\", true, true, \"VBZ\", \"[1.475]\"], [9671, \"\", \"not\", \"not\", \"PART\", \"RB\", \"neg\", \"is\", \"xxx\", true, true, \"RB\", \"[-3.3781]\"], [9675, \"\", \"by\", \"by\", \"ADP\", \"IN\", \"prep\", \"is\", \"xx\", true, true, \"IN\", \"[-13.597]\"], [9678, \"\", \"Copernicus).He\", \"Copernicus).He\", \"PROPN\", \"NNP\", \"pobj\", \"by\", \"Xxxxx).Xx\", false, false, \"NNP\", \"[0.0]\"], [9693, \"\", \"later\", \"later\", \"ADV\", \"RB\", \"advmod\", \"added\", \"xxxx\", true, false, \"RB\", \"[-5.6665]\"], [9699, \"\", \"added\", \"add\", \"VERB\", \"VBD\", \"ccomp\", \"reveal\", \"xxxx\", true, false, \"VBD\", \"[-1.4262]\"], [9705, \"\", \"a\", \"a\", \"DET\", \"DT\", \"det\", \"note:-\", \"x\", true, true, \"DT\", \"[-9.3629]\"], [9707, \"\", \"further\", \"further\", \"ADJ\", \"JJ\", \"amod\", \"note:-\", \"xxxx\", true, true, \"JJ\", \"[1.9851]\"], [9715, \"\", \"note:-\", \"note:-\", \"NOUN\", \"NN\", \"dobj\", \"added\", \"xxxx:-\", false, false, \"NN\", \"[0.0]\"], [9721, \"\", \"\\\\n\", \"\\\\n\", \"SPACE\", \"_SP\", \"dep\", \"note:-\", \"\\\\n\", false, false, \"_SP\", \"[0.0]\"], [9722, \"\", \"I\", \"I\", \"PRON\", \"PRP\", \"nsubj\", \"found\", \"X\", true, true, \"PRP\", \"[-1.8607]\"], [9724, \"\", \"found\", \"find\", \"VERB\", \"VBD\", \"ccomp\", \"added\", \"xxxx\", true, false, \"VBD\", \"[0.24678]\"], [9730, \"\", \"the\", \"the\", \"DET\", \"DT\", \"det\", \"words\", \"xxx\", true, true, \"DT\", \"[-5.1043]\"], [9734, \"\", \"following\", \"follow\", \"VERB\", \"VBG\", \"amod\", \"words\", \"xxxx\", true, false, \"VBG\", \"[-2.3847]\"], [9744, \"\", \"words\", \"word\", \"NOUN\", \"NNS\", \"dobj\", \"found\", \"xxxx\", true, false, \"NNS\", \"[0.41886]\"], [9750, \"\", \"written\", \"write\", \"VERB\", \"VBN\", \"acl\", \"words\", \"xxxx\", true, false, \"VBN\", \"[-2.9142]\"], [9758, \"\", \"somewhere\", \"somewhere\", \"ADV\", \"RB\", \"advmod\", \"written\", \"xxxx\", true, true, \"RB\", \"[-0.90073]\"], [9768, \"\", \"among\", \"among\", \"ADP\", \"IN\", \"prep\", \"written\", \"xxxx\", true, true, \"IN\", \"[-8.033]\"], [9774, \"\", \"the\", \"the\", \"DET\", \"DT\", \"det\", \"books\", \"xxx\", true, true, \"DT\", \"[-5.1043]\"], [9778, \"\", \"books\", \"book\", \"NOUN\", \"NNS\", \"pobj\", \"among\", \"xxxx\", true, false, \"NNS\", \"[-3.589]\"], [9784, \"\", \"of\", \"of\", \"ADP\", \"IN\", \"prep\", \"books\", \"xx\", true, true, \"IN\", \"[-12.667]\"], [9787, \"\", \"Philipp\", \"Philipp\", \"PROPN\", \"NNP\", \"compound\", \"Apian\", \"Xxxxx\", true, false, \"NNP\", \"[-4.8271]\"], [9795, \"\", \"Apian\", \"Apian\", \"PROPN\", \"NNP\", \"pobj\", \"of\", \"Xxxxx\", true, false, \"NNP\", \"[0.0]\"], [9801, \"\", \"(\", \"(\", \"PUNCT\", \"-LRB-\", \"punct\", \"Apian\", \"(\", false, false, \"-LRB-\", \"[-7.8392]\"], [9802, \"\", \"which\", \"which\", \"PRON\", \"WDT\", \"dobj\", \"bought\", \"xxxx\", true, true, \"WDT\", \"[-3.2023]\"], [9808, \"\", \"I\", \"I\", \"PRON\", \"PRP\", \"nsubj\", \"bought\", \"X\", true, true, \"PRP\", \"[-1.8607]\"], [9810, \"\", \"bought\", \"buy\", \"VERB\", \"VBD\", \"relcl\", \"Apian\", \"xxxx\", true, false, \"VBD\", \"[-5.9193]\"], [9817, \"\", \"from\", \"from\", \"ADP\", \"IN\", \"prep\", \"bought\", \"xxxx\", true, true, \"IN\", \"[0.45435]\"], [9822, \"\", \"Apian\", \"apian\", \"ADJ\", \"JJ\", \"amod\", \"widow\", \"Xxxxx\", true, false, \"JJ\", \"[0.0]\"], [9828, \"\", \"widow\", \"widow\", \"NOUN\", \"NN\", \"pobj\", \"from\", \"xxxx\", true, false, \"NN\", \"[-1.1316]\"], [9833, \"\", \")\", \")\", \"PUNCT\", \"-RRB-\", \"punct\", \"found\", \")\", false, false, \"-RRB-\", \"[-7.9729]\"], [9834, \"\", \";\", \";\", \"PUNCT\", \":\", \"punct\", \"recognise\", \";\", false, false, \":\", \"[-6.7372]\"], [9836, \"\", \"although\", \"although\", \"SCONJ\", \"IN\", \"mark\", \"given\", \"xxxx\", true, true, \"IN\", \"[-3.0935]\"], [9845, \"\", \"no\", \"no\", \"DET\", \"DT\", \"det\", \"author\", \"xx\", true, true, \"DT\", \"[1.4541]\"], [9848, \"\", \"author\", \"author\", \"NOUN\", \"NN\", \"nsubjpass\", \"given\", \"xxxx\", true, false, \"NN\", \"[-1.7865]\"], [9855, \"\", \"was\", \"be\", \"AUX\", \"VBD\", \"auxpass\", \"given\", \"xxx\", true, true, \"VBD\", \"[-9.5058]\"], [9859, \"\", \"given\", \"give\", \"VERB\", \"VBN\", \"advcl\", \"recognise\", \"xxxx\", true, false, \"VBN\", \"[-3.8265]\"], [9865, \"\", \"I\", \"I\", \"PRON\", \"PRP\", \"nsubj\", \"recognise\", \"X\", true, true, \"PRP\", \"[-1.8607]\"], [9867, \"\", \"could\", \"could\", \"AUX\", \"MD\", \"aux\", \"recognise\", \"xxxx\", true, true, \"MD\", \"[1.8611]\"], [9873, \"\", \"recognise\", \"recognise\", \"VERB\", \"VB\", \"ccomp\", \"became\", \"xxxx\", true, false, \"VB\", \"[-1.0038]\"], [9883, \"\", \"Apian\", \"Apian\", \"PROPN\", \"NNP\", \"poss\", \"hand\", \"Xxxxx\", true, false, \"NNP\", \"[0.0]\"], [9889, \"\", \"'s\", \"'s\", \"PART\", \"POS\", \"case\", \"Apian\", \"'x\", false, true, \"POS\", \"[3.3163]\"], [9892, \"\", \"hand\", \"hand\", \"NOUN\", \"NN\", \"dobj\", \"recognise\", \"xxxx\", true, false, \"NN\", \"[-2.5309]\"], [9896, \"\", \":\", \":\", \"PUNCT\", \":\", \"punct\", \"recognise\", \":\", false, false, \":\", \"[1.9413]\"], [9897, \"\", \"\\\\n\", \"\\\\n\", \"SPACE\", \"_SP\", \"dep\", \":\", \"\\\\n\", false, false, \"_SP\", \"[0.0]\"], [9898, \"\", \"On\", \"on\", \"ADP\", \"IN\", \"prep\", \"became\", \"Xx\", true, true, \"IN\", \"[-4.0184]\"], [9901, \"\", \"account\", \"account\", \"NOUN\", \"NN\", \"pobj\", \"On\", \"xxxx\", true, false, \"NN\", \"[-0.61408]\"], [9909, \"\", \"of\", \"of\", \"ADP\", \"IN\", \"prep\", \"account\", \"xx\", true, true, \"IN\", \"[-12.667]\"], [9912, \"\", \"this\", \"this\", \"DET\", \"DT\", \"det\", \"letter\", \"xxxx\", true, true, \"DT\", \"[2.179]\"], [9917, \"\", \"letter\", \"letter\", \"NOUN\", \"NN\", \"pobj\", \"of\", \"xxxx\", true, false, \"NN\", \"[-0.53725]\"], [9924, \"\", \"Georg\", \"Georg\", \"PROPN\", \"NNP\", \"compound\", \"Rheticus\", \"Xxxxx\", true, false, \"NNP\", \"[-7.3207]\"], [9930, \"\", \"Joachim\", \"Joachim\", \"PROPN\", \"NNP\", \"compound\", \"Rheticus\", \"Xxxxx\", true, false, \"NNP\", \"[-3.7758]\"], [9938, \"\", \"Rheticus\", \"Rheticus\", \"PROPN\", \"NNP\", \"nsubj\", \"became\", \"Xxxxx\", true, false, \"NNP\", \"[-1.4393]\"], [9946, \"\", \",\", \",\", \"PUNCT\", \",\", \"punct\", \"Rheticus\", \",\", false, false, \",\", \"[-3.3899]\"], [9948, \"\", \"the\", \"the\", \"DET\", \"DT\", \"det\", \"professor\", \"xxx\", true, true, \"DT\", \"[-5.1043]\"], [9952, \"\", \"Leipzig\", \"Leipzig\", \"PROPN\", \"NNP\", \"compound\", \"professor\", \"Xxxxx\", true, false, \"NNP\", \"[-2.8175]\"], [9960, \"\", \"professor\", \"professor\", \"NOUN\", \"NN\", \"appos\", \"Rheticus\", \"xxxx\", true, false, \"NN\", \"[-1.2467]\"], [9970, \"\", \"and\", \"and\", \"CCONJ\", \"CC\", \"cc\", \"professor\", \"xxx\", true, true, \"CC\", \"[-3.3477]\"], [9974, \"\", \"disciple\", \"disciple\", \"NOUN\", \"NN\", \"conj\", \"professor\", \"xxxx\", true, false, \"NN\", \"[-1.5765]\"], [9983, \"\", \"of\", \"of\", \"ADP\", \"IN\", \"prep\", \"professor\", \"xx\", true, true, \"IN\", \"[-12.667]\"], [9986, \"\", \"Copernicus\", \"Copernicus\", \"PROPN\", \"NNP\", \"pobj\", \"of\", \"Xxxxx\", true, false, \"NNP\", \"[-0.34364]\"], [9996, \"\", \",\", \",\", \"PUNCT\", \",\", \"punct\", \"Rheticus\", \",\", false, false, \",\", \"[-3.3899]\"], [9998, \"\", \"became\", \"become\", \"VERB\", \"VBD\", \"ROOT\", \"became\", \"xxxx\", true, true, \"VBD\", \"[-6.7967]\"], [10005, \"\", \"involved\", \"involved\", \"ADJ\", \"JJ\", \"acomp\", \"became\", \"xxxx\", true, false, \"JJ\", \"[-0.056724]\"], [10014, \"\", \"in\", \"in\", \"ADP\", \"IN\", \"prep\", \"involved\", \"xx\", true, true, \"IN\", \"[-3.7766]\"], [10017, \"\", \"a\", \"a\", \"DET\", \"DT\", \"det\", \"wrangle\", \"x\", true, true, \"DT\", \"[-9.3629]\"], [10019, \"\", \"very\", \"very\", \"ADV\", \"RB\", \"advmod\", \"bitter\", \"xxxx\", true, true, \"RB\", \"[0.42554]\"], [10024, \"\", \"bitter\", \"bitter\", \"ADJ\", \"JJ\", \"amod\", \"wrangle\", \"xxxx\", true, false, \"JJ\", \"[1.6502]\"], [10031, \"\", \"wrangle\", \"wrangle\", \"NOUN\", \"NN\", \"pobj\", \"in\", \"xxxx\", true, false, \"NN\", \"[-0.69706]\"], [10039, \"\", \"with\", \"with\", \"ADP\", \"IN\", \"prep\", \"wrangle\", \"xxxx\", true, true, \"IN\", \"[-7.3029]\"], [10044, \"\", \"the\", \"the\", \"DET\", \"DT\", \"det\", \"printer\", \"xxx\", true, true, \"DT\", \"[-5.1043]\"], [10048, \"\", \"printer\", \"printer\", \"NOUN\", \"NN\", \"pobj\", \"with\", \"xxxx\", true, false, \"NN\", \"[-6.2116]\"], [10055, \"\", \",\", \",\", \"PUNCT\", \",\", \"punct\", \"printer\", \",\", false, false, \",\", \"[-3.3899]\"], [10057, \"\", \"who\", \"who\", \"PRON\", \"WP\", \"nsubj\", \"asserted\", \"xxx\", true, true, \"WP\", \"[-6.4863]\"], [10061, \"\", \"asserted\", \"assert\", \"VERB\", \"VBD\", \"relcl\", \"printer\", \"xxxx\", true, false, \"VBD\", \"[-3.3386]\"], [10070, \"\", \"that\", \"that\", \"SCONJ\", \"IN\", \"mark\", \"turned\", \"xxxx\", true, true, \"IN\", \"[-1.1026]\"], [10075, \"\", \"wrangle\", \"wrangle\", \"NOUN\", \"NN\", \"nsubjpass\", \"turned\", \"xxxx\", true, false, \"NN\", \"[-0.69706]\"], [10083, \"\", \"had\", \"have\", \"AUX\", \"VBD\", \"aux\", \"turned\", \"xxx\", true, true, \"VBD\", \"[-8.6183]\"], [10087, \"\", \"been\", \"be\", \"AUX\", \"VBN\", \"auxpass\", \"turned\", \"xxxx\", true, true, \"VBN\", \"[-3.0266]\"], [10092, \"\", \"turned\", \"turn\", \"VERB\", \"VBN\", \"ccomp\", \"asserted\", \"xxxx\", true, false, \"VBN\", \"[-2.9349]\"], [10099, \"\", \"over\", \"over\", \"ADP\", \"RP\", \"prt\", \"turned\", \"xxxx\", true, true, \"RP\", \"[-1.1864]\"], [10104, \"\", \"to\", \"to\", \"ADP\", \"IN\", \"prep\", \"turned\", \"xx\", true, true, \"IN\", \"[-1.6487]\"], [10107, \"\", \"Rheticus\", \"Rheticus\", \"PROPN\", \"NNP\", \"pobj\", \"to\", \"Xxxxx\", true, false, \"NNP\", \"[-1.4393]\"], [10116, \"\", \"with\", \"with\", \"ADP\", \"IN\", \"prep\", \"turned\", \"xxxx\", true, true, \"IN\", \"[-7.3029]\"], [10121, \"\", \"the\", \"the\", \"DET\", \"DT\", \"det\", \"rest\", \"xxx\", true, true, \"DT\", \"[-5.1043]\"], [10125, \"\", \"rest\", \"rest\", \"NOUN\", \"NN\", \"pobj\", \"with\", \"xxxx\", true, false, \"NN\", \"[-1.1696]\"], [10130, \"\", \"of\", \"of\", \"ADP\", \"IN\", \"prep\", \"rest\", \"xx\", true, true, \"IN\", \"[-12.667]\"], [10133, \"\", \"the\", \"the\", \"DET\", \"DT\", \"det\", \"work\", \"xxx\", true, true, \"DT\", \"[-5.1043]\"], [10137, \"\", \"work\", \"work\", \"NOUN\", \"NN\", \"pobj\", \"of\", \"xxxx\", true, false, \"NN\", \"[-0.96372]\"], [10141, \"\", \".\", \".\", \"PUNCT\", \".\", \"punct\", \"became\", \".\", false, false, \".\", \"[-0.076454]\"], [10143, \"\", \"Rheticus\", \"Rheticus\", \"PROPN\", \"NNP\", \"npadvmod\", \"suspected\", \"Xxxxx\", true, false, \"NNP\", \"[-1.4393]\"], [10152, \"\", \",\", \",\", \"PUNCT\", \",\", \"punct\", \"suspected\", \",\", false, false, \",\", \"[-3.3899]\"], [10154, \"\", \"however\", \"however\", \"ADV\", \"RB\", \"advmod\", \"suspected\", \"xxxx\", true, true, \"RB\", \"[-2.2293]\"], [10161, \"\", \",\", \",\", \"PUNCT\", \",\", \"punct\", \"suspected\", \",\", false, false, \",\", \"[-3.3899]\"], [10163, \"\", \"suspected\", \"suspect\", \"VERB\", \"VBN\", \"ROOT\", \"suspected\", \"xxxx\", true, false, \"VBN\", \"[-2.8422]\"], [10173, \"\", \"that\", \"that\", \"SCONJ\", \"IN\", \"dobj\", \"suspected\", \"xxxx\", true, true, \"IN\", \"[-1.1026]\"], [10178, \"\", \"Osiander\", \"Osiander\", \"PROPN\", \"NNP\", \"dep\", \"suspected\", \"Xxxxx\", true, false, \"NNP\", \"[-1.1931]\"], [10187, \"\", \"[\", \"[\", \"X\", \"XX\", \"nsubj\", \"prefaced\", \"[\", false, false, \"XX\", \"[11.177]\"], [10188, \"\", \"the\", \"the\", \"DET\", \"DT\", \"det\", \"reader\", \"xxx\", true, true, \"DT\", \"[-5.1043]\"], [10192, \"\", \"proof\", \"proof\", \"NOUN\", \"NN\", \"compound\", \"reader\", \"xxxx\", true, false, \"NN\", \"[-2.4111]\"], [10197, \"\", \"-\", \"-\", \"PUNCT\", \"HYPH\", \"punct\", \"reader\", \"-\", false, false, \"HYPH\", \"[-5.2115]\"], [10198, \"\", \"reader\", \"reader\", \"NOUN\", \"NN\", \"pobj\", \"[\", \"xxxx\", true, false, \"NN\", \"[4.1614]\"], [10205, \"\", \"of\", \"of\", \"ADP\", \"IN\", \"prep\", \"reader\", \"xx\", true, true, \"IN\", \"[-12.667]\"], [10208, \"\", \"Copernicus\", \"Copernicus\", \"PROPN\", \"NNP\", \"poss\", \"book\", \"Xxxxx\", true, false, \"NNP\", \"[-0.34364]\"], [10219, \"\", \"'s\", \"'s\", \"PART\", \"POS\", \"case\", \"Copernicus\", \"'x\", false, true, \"POS\", \"[3.3163]\"], [10222, \"\", \"book\", \"book\", \"NOUN\", \"NN\", \"pobj\", \"of\", \"xxxx\", true, false, \"NN\", \"[-0.68309]\"], [10226, \"\", \"]\", \"]\", \"PUNCT\", \"-RRB-\", \"punct\", \"prefaced\", \"]\", false, false, \"-RRB-\", \"[10.212]\"], [10228, \"\", \"had\", \"have\", \"AUX\", \"VBD\", \"aux\", \"prefaced\", \"xxx\", true, true, \"VBD\", \"[-8.6183]\"], [10232, \"\", \"prefaced\", \"preface\", \"VERB\", \"VBN\", \"ROOT\", \"prefaced\", \"xxxx\", true, false, \"VBN\", \"[-2.1101]\"], [10241, \"\", \"Copernicus\", \"Copernicus\", \"PROPN\", \"NNP\", \"dobj\", \"prefaced\", \"Xxxxx\", true, false, \"NNP\", \"[-0.34364]\"], [10252, \"\", \"to\", \"to\", \"ADP\", \"IN\", \"prep\", \"prefaced\", \"xx\", true, true, \"IN\", \"[-1.6487]\"], [10255, \"\", \"the\", \"the\", \"DET\", \"DT\", \"det\", \"work\", \"xxx\", true, true, \"DT\", \"[-5.1043]\"], [10259, \"\", \"work\", \"work\", \"NOUN\", \"NN\", \"pobj\", \"to\", \"xxxx\", true, false, \"NN\", \"[-0.96372]\"], [10264, \"\", \".\", \".\", \"PUNCT\", \".\", \"punct\", \"prefaced\", \".\", false, false, \".\", \"[-0.076454]\"], [10266, \"\", \"If\", \"if\", \"SCONJ\", \"IN\", \"mark\", \"knew\", \"Xx\", true, true, \"IN\", \"[-3.0155]\"], [10269, \"\", \"professor\", \"professor\", \"NOUN\", \"NN\", \"nsubj\", \"knew\", \"xxxx\", true, false, \"NN\", \"[-1.2467]\"], [10279, \"\", \"knew\", \"know\", \"VERB\", \"VBD\", \"advcl\", \"handle\", \"xxxx\", true, false, \"VBD\", \"[-3.6425]\"], [10284, \"\", \"this\", \"this\", \"PRON\", \"DT\", \"dobj\", \"knew\", \"xxxx\", true, true, \"DT\", \"[2.179]\"], [10289, \"\", \"for\", \"for\", \"ADP\", \"IN\", \"prep\", \"knew\", \"xxx\", true, true, \"IN\", \"[-7.0781]\"], [10293, \"\", \"certain\", \"certain\", \"ADJ\", \"JJ\", \"amod\", \"for\", \"xxxx\", true, false, \"JJ\", \"[-1.1074]\"], [10300, \"\", \",\", \",\", \"PUNCT\", \",\", \"punct\", \"declared\", \",\", false, false, \",\", \"[-3.3899]\"], [10302, \"\", \"professor\", \"professor\", \"NOUN\", \"NN\", \"nsubj\", \"declared\", \"xxxx\", true, false, \"NN\", \"[-1.2467]\"], [10312, \"\", \"declared\", \"declare\", \"VERB\", \"VBD\", \"parataxis\", \"handle\", \"xxxx\", true, false, \"VBD\", \"[-3.4293]\"], [10320, \"\", \",\", \",\", \"PUNCT\", \",\", \"punct\", \"declared\", \",\", false, false, \",\", \"[-3.3899]\"], [10322, \"\", \"professor\", \"professor\", \"NOUN\", \"NN\", \"nsubj\", \"handle\", \"xxxx\", true, false, \"NN\", \"[-1.2467]\"], [10332, \"\", \"would\", \"would\", \"AUX\", \"MD\", \"aux\", \"handle\", \"xxxx\", true, true, \"MD\", \"[-2.2396]\"], [10338, \"\", \"handle\", \"handle\", \"VERB\", \"VB\", \"ROOT\", \"handle\", \"xxxx\", true, false, \"VB\", \"[-0.37845]\"], [10345, \"\", \"that\", \"that\", \"DET\", \"DT\", \"det\", \"fellow\", \"xxxx\", true, true, \"DT\", \"[-1.1026]\"], [10350, \"\", \"fellow\", \"fellow\", \"NOUN\", \"NN\", \"dobj\", \"handle\", \"xxxx\", true, false, \"NN\", \"[-2.3922]\"], [10357, \"\", \"so\", \"so\", \"SCONJ\", \"IN\", \"mark\", \"mind\", \"xx\", true, true, \"IN\", \"[-1.8443]\"], [10360, \"\", \"that\", \"that\", \"SCONJ\", \"IN\", \"mark\", \"mind\", \"xxxx\", true, true, \"IN\", \"[-1.1026]\"], [10365, \"\", \"in\", \"in\", \"ADP\", \"IN\", \"prep\", \"mind\", \"xx\", true, true, \"IN\", \"[-3.7766]\"], [10368, \"\", \"future\", \"future\", \"ADJ\", \"JJ\", \"amod\", \"professor\", \"xxxx\", true, false, \"JJ\", \"[1.7561]\"], [10375, \"\", \"professor\", \"professor\", \"NOUN\", \"NN\", \"pobj\", \"in\", \"xxxx\", true, false, \"NN\", \"[-1.2467]\"], [10385, \"\", \"would\", \"would\", \"AUX\", \"MD\", \"aux\", \"mind\", \"xxxx\", true, true, \"MD\", \"[-2.2396]\"], [10391, \"\", \"mind\", \"mind\", \"VERB\", \"VB\", \"advcl\", \"handle\", \"xxxx\", true, false, \"VB\", \"[3.5973]\"], [10396, \"\", \"professor\", \"professor\", \"NOUN\", \"NN\", \"nmod\", \"business\", \"xxxx\", true, false, \"NN\", \"[-1.2467]\"], [10406, \"\", \"own\", \"own\", \"ADJ\", \"JJ\", \"amod\", \"business\", \"xxx\", true, true, \"JJ\", \"[0.64001]\"], [10410, \"\", \"business\", \"business\", \"NOUN\", \"NN\", \"dobj\", \"mind\", \"xxxx\", true, false, \"NN\", \"[-0.58242]\"], [10419, \"\", \"and\", \"and\", \"CCONJ\", \"CC\", \"cc\", \"mind\", \"xxx\", true, true, \"CC\", \"[-3.3477]\"], [10423, \"\", \"not\", \"not\", \"PART\", \"RB\", \"neg\", \"slander\", \"xxx\", true, true, \"RB\", \"[-3.3781]\"], [10427, \"\", \"slander\", \"slander\", \"VERB\", \"VB\", \"conj\", \"mind\", \"xxxx\", true, false, \"VB\", \"[-4.1042]\"], [10435, \"\", \"astronomers\", \"astronomer\", \"NOUN\", \"NNS\", \"dobj\", \"slander\", \"xxxx\", true, false, \"NNS\", \"[-2.1115]\"], [10447, \"\", \"any\", \"any\", \"PRON\", \"DT\", \"advmod\", \"more\", \"xxx\", true, true, \"DT\", \"[-0.96335]\"], [10451, \"\", \"more\", \"more\", \"ADV\", \"RBR\", \"advmod\", \"slander\", \"xxxx\", true, true, \"RBR\", \"[-2.2444]\"], [10455, \"\", \".\", \".\", \"PUNCT\", \".\", \"punct\", \"handle\", \".\", false, false, \".\", \"[-0.076454]\"], [10457, \"\", \"Nevertheless\", \"nevertheless\", \"ADV\", \"RB\", \"advmod\", \"told\", \"Xxxxx\", true, true, \"RB\", \"[-1.4254]\"], [10469, \"\", \",\", \",\", \"PUNCT\", \",\", \"punct\", \"told\", \",\", false, false, \",\", \"[-3.3899]\"], [10471, \"\", \"[\", \"[\", \"X\", \"XX\", \"dep\", \"told\", \"[\", false, false, \"XX\", \"[11.177]\"], [10472, \"\", \"Peter\", \"peter\", \"X\", \"XX\", \"dep\", \"told\", \"Xxxxx\", true, false, \"XX\", \"[-6.4704]\"], [10477, \"\", \"]\", \"]\", \"PUNCT\", \"-RRB-\", \"punct\", \"told\", \"]\", false, false, \"-RRB-\", \"[10.212]\"], [10479, \"\", \"Apian\", \"Apian\", \"PROPN\", \"NNP\", \"nsubj\", \"told\", \"Xxxxx\", true, false, \"NNP\", \"[0.0]\"], [10485, \"\", \"told\", \"tell\", \"VERB\", \"VBD\", \"ROOT\", \"told\", \"xxxx\", true, false, \"VBD\", \"[2.5471]\"], [10490, \"\", \"me\", \"I\", \"PRON\", \"PRP\", \"dobj\", \"told\", \"xx\", true, true, \"PRP\", \"[3.2542]\"], [10493, \"\", \"that\", \"that\", \"SCONJ\", \"IN\", \"mark\", \"admitted\", \"xxxx\", true, true, \"IN\", \"[-1.1026]\"], [10498, \"\", \"Osiander\", \"Osiander\", \"PROPN\", \"NNP\", \"nsubj\", \"admitted\", \"Xxxxx\", true, false, \"NNP\", \"[-1.1931]\"], [10507, \"\", \"had\", \"have\", \"AUX\", \"VBD\", \"aux\", \"admitted\", \"xxx\", true, true, \"VBD\", \"[-8.6183]\"], [10511, \"\", \"openly\", \"openly\", \"ADV\", \"RB\", \"advmod\", \"admitted\", \"xxxx\", true, false, \"RB\", \"[-0.98901]\"], [10518, \"\", \"admitted\", \"admit\", \"VERB\", \"VBN\", \"ccomp\", \"told\", \"xxxx\", true, false, \"VBN\", \"[-2.1051]\"], [10527, \"\", \"to\", \"to\", \"ADP\", \"IN\", \"prep\", \"admitted\", \"xx\", true, true, \"IN\", \"[-1.6487]\"], [10530, \"\", \"professor\", \"professor\", \"NOUN\", \"NN\", \"pobj\", \"to\", \"xxxx\", true, false, \"NN\", \"[-1.2467]\"], [10540, \"\", \"that\", \"that\", \"DET\", \"DT\", \"det\", \"professor\", \"xxxx\", true, true, \"DT\", \"[-1.1026]\"], [10545, \"\", \"professor\", \"professor\", \"NOUN\", \"NN\", \"nsubj\", \"added\", \"xxxx\", true, false, \"NN\", \"[-1.2467]\"], [10555, \"\", \"had\", \"have\", \"AUX\", \"VBD\", \"aux\", \"added\", \"xxx\", true, true, \"VBD\", \"[-8.6183]\"], [10559, \"\", \"added\", \"add\", \"VERB\", \"VBN\", \"ccomp\", \"admitted\", \"xxxx\", true, false, \"VBN\", \"[-1.4262]\"], [10565, \"\", \"this\", \"this\", \"PRON\", \"DT\", \"dobj\", \"added\", \"xxxx\", true, true, \"DT\", \"[2.179]\"], [10570, \"\", \"all\", \"all\", \"ADV\", \"RB\", \"advmod\", \"added\", \"xxx\", true, true, \"RB\", \"[-2.0123]\"], [10574, \"\", \"by\", \"by\", \"ADP\", \"IN\", \"prep\", \"added\", \"xx\", true, true, \"IN\", \"[-13.597]\"], [10577, \"\", \"professor\", \"professor\", \"NOUN\", \"NN\", \"pobj\", \"by\", \"xxxx\", true, false, \"NN\", \"[-1.2467]\"], [10587, \"\", \".\", \".\", \"PUNCT\", \".\", \"punct\", \"told\", \".\", false, false, \".\", \"[-0.076454]\"]];\n",
       "\n",
       "    // Define the dt_args\n",
       "    let dt_args = {\"scrollY\": \"400px\", \"scrollCollapse\": true, \"paging\": false, \"dom\": \"lrtip\", \"order\": [], \"fnInfoCallback\": function (oSettings, iStart, iEnd, iMax, iTotal, sPre) { return sPre + ' (<a href=\"https://mwouts.github.io/itables/downsampling.html\">downsampled</a> from 1,892x13 to 728x13 as maxBytes=65536)'; }, \"initComplete\": function () {\n",
       "    // Apply the search\n",
       "    this.api()\n",
       "        .columns()\n",
       "        .every(function () {\n",
       "            const that = this;\n",
       "\n",
       "            $('input', this.footer()).on('keyup change clear', function () {\n",
       "                if (that.search() !== this.value) {\n",
       "                    that.search(this.value).draw();\n",
       "                }\n",
       "            });\n",
       "        });\n",
       "}\n",
       "};\n",
       "    dt_args[\"data\"] = data;\n",
       "\n",
       "    $(document).ready(function () {\n",
       "        // Setup - add a text input to each header or footer cell\n",
       "$('#6b895a07-2dc3-4e47-9681-02334dcaf77a tfoot th').each(function () {\n",
       "    let title = $(this).text();\n",
       "    $(this).html('<input type=\"text\" placeholder=\"Search ' +\n",
       "        // We use encodeURI to avoid this LGTM error:\n",
       "        // https://lgtm.com/rules/1511866576920/\n",
       "        encodeURI(title).replaceAll(\"%20\", \" \") +\n",
       "        '\" />');\n",
       "});\n",
       "\n",
       "        $('#6b895a07-2dc3-4e47-9681-02334dcaf77a').DataTable(dt_args);\n",
       "    });\n",
       "</script>\n",
       "</div>\n"
      ],
      "text/plain": [
       "<IPython.core.display.HTML object>"
      ]
     },
     "metadata": {},
     "output_type": "display_data"
    }
   ],
   "source": [
    "### https://github.com/mwouts/itables/blob/main/docs/advanced_parameters.md\n",
    "show(tx_df[tx_df.idx >= 0], classes=\"display\", scrollY=\"400px\", scrollCollapse=True, paging=False, column_filters=\"footer\", dom=\"lrtip\")"
   ]
  },
  {
   "cell_type": "markdown",
   "id": "b351bfff-95ef-4d32-b843-b1e22d8e3505",
   "metadata": {
    "tags": []
   },
   "source": [
    "### Named entities"
   ]
  },
  {
   "cell_type": "code",
   "execution_count": 40,
   "id": "c87c1e90-cb48-4c19-b018-ac3ca4c20ef8",
   "metadata": {},
   "outputs": [],
   "source": [
    "s = sents1[3][1]"
   ]
  },
  {
   "cell_type": "code",
   "execution_count": 41,
   "id": "e9524065-8c17-4e6c-ba81-a564cd95f051",
   "metadata": {},
   "outputs": [
    {
     "name": "stdout",
     "output_type": "stream",
     "text": [
      "Mästlin 380 387 Mästlin nsubj attended [attended] [0. 0. 0.]\n",
      "the monastic school 397 416 school dobj attended [attended] [-2.710333   0.7176333  1.0765667]\n",
      "Königsbronn 420 431 Königsbronn pobj in [in, school, attended] [0. 0. 0.]\n",
      "Mästlin studies 444 459 studies pobj after [after, entered, attended] [-0.010131  1.03305   0.57765 ]\n",
      "Tübingen University 475 494 University dobj entered [entered, attended] [-2.35755 -2.19745  2.18836]\n"
     ]
    }
   ],
   "source": [
    "for chunk in s.noun_chunks:\n",
    "    print(chunk.text, chunk.start_char, chunk.end_char,\n",
    "          chunk.root.text, chunk.root.dep_,\n",
    "            chunk.root.head.text, [c for c in chunk.root.ancestors], chunk.vector[:3])"
   ]
  },
  {
   "cell_type": "code",
   "execution_count": 42,
   "id": "2837e240-a1c2-42dc-9502-da800fdaaa6f",
   "metadata": {},
   "outputs": [
    {
     "data": {
      "text/html": [
       "<span class=\"tex2jax_ignore\"><svg xmlns=\"http://www.w3.org/2000/svg\" xmlns:xlink=\"http://www.w3.org/1999/xlink\" xml:lang=\"en\" id=\"90287947e7c446daad7e6d16764e9c33-0\" class=\"displacy\" width=\"2325\" height=\"399.5\" direction=\"ltr\" style=\"max-width: none; height: 399.5px; color: #000000; background: #ffffff; font-family: Arial; direction: ltr\">\n",
       "<text class=\"displacy-token\" fill=\"currentColor\" text-anchor=\"middle\" y=\"309.5\">\n",
       "    <tspan class=\"displacy-word\" fill=\"currentColor\" x=\"50\">Mästlin</tspan>\n",
       "    <tspan class=\"displacy-tag\" dy=\"2em\" fill=\"currentColor\" x=\"50\">PROPN</tspan>\n",
       "</text>\n",
       "\n",
       "<text class=\"displacy-token\" fill=\"currentColor\" text-anchor=\"middle\" y=\"309.5\">\n",
       "    <tspan class=\"displacy-word\" fill=\"currentColor\" x=\"225\">attended</tspan>\n",
       "    <tspan class=\"displacy-tag\" dy=\"2em\" fill=\"currentColor\" x=\"225\">VERB</tspan>\n",
       "</text>\n",
       "\n",
       "<text class=\"displacy-token\" fill=\"currentColor\" text-anchor=\"middle\" y=\"309.5\">\n",
       "    <tspan class=\"displacy-word\" fill=\"currentColor\" x=\"400\">the monastic school</tspan>\n",
       "    <tspan class=\"displacy-tag\" dy=\"2em\" fill=\"currentColor\" x=\"400\">NOUN</tspan>\n",
       "</text>\n",
       "\n",
       "<text class=\"displacy-token\" fill=\"currentColor\" text-anchor=\"middle\" y=\"309.5\">\n",
       "    <tspan class=\"displacy-word\" fill=\"currentColor\" x=\"575\">in</tspan>\n",
       "    <tspan class=\"displacy-tag\" dy=\"2em\" fill=\"currentColor\" x=\"575\">ADP</tspan>\n",
       "</text>\n",
       "\n",
       "<text class=\"displacy-token\" fill=\"currentColor\" text-anchor=\"middle\" y=\"309.5\">\n",
       "    <tspan class=\"displacy-word\" fill=\"currentColor\" x=\"750\">Königsbronn</tspan>\n",
       "    <tspan class=\"displacy-tag\" dy=\"2em\" fill=\"currentColor\" x=\"750\">PROPN</tspan>\n",
       "</text>\n",
       "\n",
       "<text class=\"displacy-token\" fill=\"currentColor\" text-anchor=\"middle\" y=\"309.5\">\n",
       "    <tspan class=\"displacy-word\" fill=\"currentColor\" x=\"925\">then,</tspan>\n",
       "    <tspan class=\"displacy-tag\" dy=\"2em\" fill=\"currentColor\" x=\"925\">ADV</tspan>\n",
       "</text>\n",
       "\n",
       "<text class=\"displacy-token\" fill=\"currentColor\" text-anchor=\"middle\" y=\"309.5\">\n",
       "    <tspan class=\"displacy-word\" fill=\"currentColor\" x=\"1100\">after</tspan>\n",
       "    <tspan class=\"displacy-tag\" dy=\"2em\" fill=\"currentColor\" x=\"1100\">ADP</tspan>\n",
       "</text>\n",
       "\n",
       "<text class=\"displacy-token\" fill=\"currentColor\" text-anchor=\"middle\" y=\"309.5\">\n",
       "    <tspan class=\"displacy-word\" fill=\"currentColor\" x=\"1275\">Mästlin studies</tspan>\n",
       "    <tspan class=\"displacy-tag\" dy=\"2em\" fill=\"currentColor\" x=\"1275\">NOUN</tspan>\n",
       "</text>\n",
       "\n",
       "<text class=\"displacy-token\" fill=\"currentColor\" text-anchor=\"middle\" y=\"309.5\">\n",
       "    <tspan class=\"displacy-word\" fill=\"currentColor\" x=\"1450\">there,</tspan>\n",
       "    <tspan class=\"displacy-tag\" dy=\"2em\" fill=\"currentColor\" x=\"1450\">ADV</tspan>\n",
       "</text>\n",
       "\n",
       "<text class=\"displacy-token\" fill=\"currentColor\" text-anchor=\"middle\" y=\"309.5\">\n",
       "    <tspan class=\"displacy-word\" fill=\"currentColor\" x=\"1625\">entered</tspan>\n",
       "    <tspan class=\"displacy-tag\" dy=\"2em\" fill=\"currentColor\" x=\"1625\">VERB</tspan>\n",
       "</text>\n",
       "\n",
       "<text class=\"displacy-token\" fill=\"currentColor\" text-anchor=\"middle\" y=\"309.5\">\n",
       "    <tspan class=\"displacy-word\" fill=\"currentColor\" x=\"1800\">Tübingen University</tspan>\n",
       "    <tspan class=\"displacy-tag\" dy=\"2em\" fill=\"currentColor\" x=\"1800\">PROPN</tspan>\n",
       "</text>\n",
       "\n",
       "<text class=\"displacy-token\" fill=\"currentColor\" text-anchor=\"middle\" y=\"309.5\">\n",
       "    <tspan class=\"displacy-word\" fill=\"currentColor\" x=\"1975\">in</tspan>\n",
       "    <tspan class=\"displacy-tag\" dy=\"2em\" fill=\"currentColor\" x=\"1975\">ADP</tspan>\n",
       "</text>\n",
       "\n",
       "<text class=\"displacy-token\" fill=\"currentColor\" text-anchor=\"middle\" y=\"309.5\">\n",
       "    <tspan class=\"displacy-word\" fill=\"currentColor\" x=\"2150\">1568.</tspan>\n",
       "    <tspan class=\"displacy-tag\" dy=\"2em\" fill=\"currentColor\" x=\"2150\">NUM</tspan>\n",
       "</text>\n",
       "\n",
       "<g class=\"displacy-arrow\">\n",
       "    <path class=\"displacy-arc\" id=\"arrow-90287947e7c446daad7e6d16764e9c33-0-0\" stroke-width=\"2px\" d=\"M70,264.5 C70,177.0 215.0,177.0 215.0,264.5\" fill=\"none\" stroke=\"currentColor\"/>\n",
       "    <text dy=\"1.25em\" style=\"font-size: 0.8em; letter-spacing: 1px\">\n",
       "        <textPath xlink:href=\"#arrow-90287947e7c446daad7e6d16764e9c33-0-0\" class=\"displacy-label\" startOffset=\"50%\" side=\"left\" fill=\"currentColor\" text-anchor=\"middle\">nsubj</textPath>\n",
       "    </text>\n",
       "    <path class=\"displacy-arrowhead\" d=\"M70,266.5 L62,254.5 78,254.5\" fill=\"currentColor\"/>\n",
       "</g>\n",
       "\n",
       "<g class=\"displacy-arrow\">\n",
       "    <path class=\"displacy-arc\" id=\"arrow-90287947e7c446daad7e6d16764e9c33-0-1\" stroke-width=\"2px\" d=\"M245,264.5 C245,177.0 390.0,177.0 390.0,264.5\" fill=\"none\" stroke=\"currentColor\"/>\n",
       "    <text dy=\"1.25em\" style=\"font-size: 0.8em; letter-spacing: 1px\">\n",
       "        <textPath xlink:href=\"#arrow-90287947e7c446daad7e6d16764e9c33-0-1\" class=\"displacy-label\" startOffset=\"50%\" side=\"left\" fill=\"currentColor\" text-anchor=\"middle\">dobj</textPath>\n",
       "    </text>\n",
       "    <path class=\"displacy-arrowhead\" d=\"M390.0,266.5 L398.0,254.5 382.0,254.5\" fill=\"currentColor\"/>\n",
       "</g>\n",
       "\n",
       "<g class=\"displacy-arrow\">\n",
       "    <path class=\"displacy-arc\" id=\"arrow-90287947e7c446daad7e6d16764e9c33-0-2\" stroke-width=\"2px\" d=\"M420,264.5 C420,177.0 565.0,177.0 565.0,264.5\" fill=\"none\" stroke=\"currentColor\"/>\n",
       "    <text dy=\"1.25em\" style=\"font-size: 0.8em; letter-spacing: 1px\">\n",
       "        <textPath xlink:href=\"#arrow-90287947e7c446daad7e6d16764e9c33-0-2\" class=\"displacy-label\" startOffset=\"50%\" side=\"left\" fill=\"currentColor\" text-anchor=\"middle\">prep</textPath>\n",
       "    </text>\n",
       "    <path class=\"displacy-arrowhead\" d=\"M565.0,266.5 L573.0,254.5 557.0,254.5\" fill=\"currentColor\"/>\n",
       "</g>\n",
       "\n",
       "<g class=\"displacy-arrow\">\n",
       "    <path class=\"displacy-arc\" id=\"arrow-90287947e7c446daad7e6d16764e9c33-0-3\" stroke-width=\"2px\" d=\"M595,264.5 C595,177.0 740.0,177.0 740.0,264.5\" fill=\"none\" stroke=\"currentColor\"/>\n",
       "    <text dy=\"1.25em\" style=\"font-size: 0.8em; letter-spacing: 1px\">\n",
       "        <textPath xlink:href=\"#arrow-90287947e7c446daad7e6d16764e9c33-0-3\" class=\"displacy-label\" startOffset=\"50%\" side=\"left\" fill=\"currentColor\" text-anchor=\"middle\">pobj</textPath>\n",
       "    </text>\n",
       "    <path class=\"displacy-arrowhead\" d=\"M740.0,266.5 L748.0,254.5 732.0,254.5\" fill=\"currentColor\"/>\n",
       "</g>\n",
       "\n",
       "<g class=\"displacy-arrow\">\n",
       "    <path class=\"displacy-arc\" id=\"arrow-90287947e7c446daad7e6d16764e9c33-0-4\" stroke-width=\"2px\" d=\"M245,264.5 C245,89.5 920.0,89.5 920.0,264.5\" fill=\"none\" stroke=\"currentColor\"/>\n",
       "    <text dy=\"1.25em\" style=\"font-size: 0.8em; letter-spacing: 1px\">\n",
       "        <textPath xlink:href=\"#arrow-90287947e7c446daad7e6d16764e9c33-0-4\" class=\"displacy-label\" startOffset=\"50%\" side=\"left\" fill=\"currentColor\" text-anchor=\"middle\">advmod</textPath>\n",
       "    </text>\n",
       "    <path class=\"displacy-arrowhead\" d=\"M920.0,266.5 L928.0,254.5 912.0,254.5\" fill=\"currentColor\"/>\n",
       "</g>\n",
       "\n",
       "<g class=\"displacy-arrow\">\n",
       "    <path class=\"displacy-arc\" id=\"arrow-90287947e7c446daad7e6d16764e9c33-0-5\" stroke-width=\"2px\" d=\"M1120,264.5 C1120,89.5 1620.0,89.5 1620.0,264.5\" fill=\"none\" stroke=\"currentColor\"/>\n",
       "    <text dy=\"1.25em\" style=\"font-size: 0.8em; letter-spacing: 1px\">\n",
       "        <textPath xlink:href=\"#arrow-90287947e7c446daad7e6d16764e9c33-0-5\" class=\"displacy-label\" startOffset=\"50%\" side=\"left\" fill=\"currentColor\" text-anchor=\"middle\">prep</textPath>\n",
       "    </text>\n",
       "    <path class=\"displacy-arrowhead\" d=\"M1120,266.5 L1112,254.5 1128,254.5\" fill=\"currentColor\"/>\n",
       "</g>\n",
       "\n",
       "<g class=\"displacy-arrow\">\n",
       "    <path class=\"displacy-arc\" id=\"arrow-90287947e7c446daad7e6d16764e9c33-0-6\" stroke-width=\"2px\" d=\"M1120,264.5 C1120,177.0 1265.0,177.0 1265.0,264.5\" fill=\"none\" stroke=\"currentColor\"/>\n",
       "    <text dy=\"1.25em\" style=\"font-size: 0.8em; letter-spacing: 1px\">\n",
       "        <textPath xlink:href=\"#arrow-90287947e7c446daad7e6d16764e9c33-0-6\" class=\"displacy-label\" startOffset=\"50%\" side=\"left\" fill=\"currentColor\" text-anchor=\"middle\">pobj</textPath>\n",
       "    </text>\n",
       "    <path class=\"displacy-arrowhead\" d=\"M1265.0,266.5 L1273.0,254.5 1257.0,254.5\" fill=\"currentColor\"/>\n",
       "</g>\n",
       "\n",
       "<g class=\"displacy-arrow\">\n",
       "    <path class=\"displacy-arc\" id=\"arrow-90287947e7c446daad7e6d16764e9c33-0-7\" stroke-width=\"2px\" d=\"M1295,264.5 C1295,177.0 1440.0,177.0 1440.0,264.5\" fill=\"none\" stroke=\"currentColor\"/>\n",
       "    <text dy=\"1.25em\" style=\"font-size: 0.8em; letter-spacing: 1px\">\n",
       "        <textPath xlink:href=\"#arrow-90287947e7c446daad7e6d16764e9c33-0-7\" class=\"displacy-label\" startOffset=\"50%\" side=\"left\" fill=\"currentColor\" text-anchor=\"middle\">advmod</textPath>\n",
       "    </text>\n",
       "    <path class=\"displacy-arrowhead\" d=\"M1440.0,266.5 L1448.0,254.5 1432.0,254.5\" fill=\"currentColor\"/>\n",
       "</g>\n",
       "\n",
       "<g class=\"displacy-arrow\">\n",
       "    <path class=\"displacy-arc\" id=\"arrow-90287947e7c446daad7e6d16764e9c33-0-8\" stroke-width=\"2px\" d=\"M245,264.5 C245,2.0 1625.0,2.0 1625.0,264.5\" fill=\"none\" stroke=\"currentColor\"/>\n",
       "    <text dy=\"1.25em\" style=\"font-size: 0.8em; letter-spacing: 1px\">\n",
       "        <textPath xlink:href=\"#arrow-90287947e7c446daad7e6d16764e9c33-0-8\" class=\"displacy-label\" startOffset=\"50%\" side=\"left\" fill=\"currentColor\" text-anchor=\"middle\">advcl</textPath>\n",
       "    </text>\n",
       "    <path class=\"displacy-arrowhead\" d=\"M1625.0,266.5 L1633.0,254.5 1617.0,254.5\" fill=\"currentColor\"/>\n",
       "</g>\n",
       "\n",
       "<g class=\"displacy-arrow\">\n",
       "    <path class=\"displacy-arc\" id=\"arrow-90287947e7c446daad7e6d16764e9c33-0-9\" stroke-width=\"2px\" d=\"M1645,264.5 C1645,177.0 1790.0,177.0 1790.0,264.5\" fill=\"none\" stroke=\"currentColor\"/>\n",
       "    <text dy=\"1.25em\" style=\"font-size: 0.8em; letter-spacing: 1px\">\n",
       "        <textPath xlink:href=\"#arrow-90287947e7c446daad7e6d16764e9c33-0-9\" class=\"displacy-label\" startOffset=\"50%\" side=\"left\" fill=\"currentColor\" text-anchor=\"middle\">dobj</textPath>\n",
       "    </text>\n",
       "    <path class=\"displacy-arrowhead\" d=\"M1790.0,266.5 L1798.0,254.5 1782.0,254.5\" fill=\"currentColor\"/>\n",
       "</g>\n",
       "\n",
       "<g class=\"displacy-arrow\">\n",
       "    <path class=\"displacy-arc\" id=\"arrow-90287947e7c446daad7e6d16764e9c33-0-10\" stroke-width=\"2px\" d=\"M1645,264.5 C1645,89.5 1970.0,89.5 1970.0,264.5\" fill=\"none\" stroke=\"currentColor\"/>\n",
       "    <text dy=\"1.25em\" style=\"font-size: 0.8em; letter-spacing: 1px\">\n",
       "        <textPath xlink:href=\"#arrow-90287947e7c446daad7e6d16764e9c33-0-10\" class=\"displacy-label\" startOffset=\"50%\" side=\"left\" fill=\"currentColor\" text-anchor=\"middle\">prep</textPath>\n",
       "    </text>\n",
       "    <path class=\"displacy-arrowhead\" d=\"M1970.0,266.5 L1978.0,254.5 1962.0,254.5\" fill=\"currentColor\"/>\n",
       "</g>\n",
       "\n",
       "<g class=\"displacy-arrow\">\n",
       "    <path class=\"displacy-arc\" id=\"arrow-90287947e7c446daad7e6d16764e9c33-0-11\" stroke-width=\"2px\" d=\"M1995,264.5 C1995,177.0 2140.0,177.0 2140.0,264.5\" fill=\"none\" stroke=\"currentColor\"/>\n",
       "    <text dy=\"1.25em\" style=\"font-size: 0.8em; letter-spacing: 1px\">\n",
       "        <textPath xlink:href=\"#arrow-90287947e7c446daad7e6d16764e9c33-0-11\" class=\"displacy-label\" startOffset=\"50%\" side=\"left\" fill=\"currentColor\" text-anchor=\"middle\">pobj</textPath>\n",
       "    </text>\n",
       "    <path class=\"displacy-arrowhead\" d=\"M2140.0,266.5 L2148.0,254.5 2132.0,254.5\" fill=\"currentColor\"/>\n",
       "</g>\n",
       "</svg></span>"
      ],
      "text/plain": [
       "<IPython.core.display.HTML object>"
      ]
     },
     "metadata": {},
     "output_type": "display_data"
    }
   ],
   "source": [
    "options= {\"collapse_phrases\":True}\n",
    "displacy.render(s, style=\"dep\", options= options )"
   ]
  },
  {
   "cell_type": "code",
   "execution_count": null,
   "id": "1dce99ed-b8fd-4660-be1a-6345db28610f",
   "metadata": {},
   "outputs": [],
   "source": []
  },
  {
   "cell_type": "code",
   "execution_count": 43,
   "id": "1cc151ed-4310-4eed-b7ad-a3f49f070f02",
   "metadata": {},
   "outputs": [
    {
     "name": "stdout",
     "output_type": "stream",
     "text": [
      "PERSON Mästlin [Mästlin] \n",
      "GPE Königsbronn [Königsbronn] \n",
      "ORG Mästlin [] \n",
      "ORG Tübingen University [Tübingen University] \n",
      "DATE 1568 [] \n"
     ]
    }
   ],
   "source": [
    "for e in s.ents:\n",
    "    print(e.label_,e.text, list(e.noun_chunks), e.ent_id_)"
   ]
  },
  {
   "cell_type": "code",
   "execution_count": 44,
   "id": "137c8921-4adf-43bf-b4f4-49afaefe9860",
   "metadata": {},
   "outputs": [
    {
     "data": {
      "text/html": [
       "<span class=\"tex2jax_ignore\"><div class=\"entities\" style=\"line-height: 2.5; direction: ltr\">\n",
       "<mark class=\"entity\" style=\"background: #aa9cfc; padding: 0.45em 0.6em; margin: 0 0.25em; line-height: 1; border-radius: 0.35em;\">\n",
       "    Mästlin\n",
       "    <span style=\"font-size: 0.8em; font-weight: bold; line-height: 1; border-radius: 0.35em; vertical-align: middle; margin-left: 0.5rem\">PERSON</span>\n",
       "</mark>\n",
       " attended the monastic school in \n",
       "<mark class=\"entity\" style=\"background: #feca74; padding: 0.45em 0.6em; margin: 0 0.25em; line-height: 1; border-radius: 0.35em;\">\n",
       "    Königsbronn\n",
       "    <span style=\"font-size: 0.8em; font-weight: bold; line-height: 1; border-radius: 0.35em; vertical-align: middle; margin-left: 0.5rem\">GPE</span>\n",
       "</mark>\n",
       " then, after \n",
       "<mark class=\"entity\" style=\"background: #7aecec; padding: 0.45em 0.6em; margin: 0 0.25em; line-height: 1; border-radius: 0.35em;\">\n",
       "    Mästlin\n",
       "    <span style=\"font-size: 0.8em; font-weight: bold; line-height: 1; border-radius: 0.35em; vertical-align: middle; margin-left: 0.5rem\">ORG</span>\n",
       "</mark>\n",
       " studies there, entered \n",
       "<mark class=\"entity\" style=\"background: #7aecec; padding: 0.45em 0.6em; margin: 0 0.25em; line-height: 1; border-radius: 0.35em;\">\n",
       "    Tübingen University\n",
       "    <span style=\"font-size: 0.8em; font-weight: bold; line-height: 1; border-radius: 0.35em; vertical-align: middle; margin-left: 0.5rem\">ORG</span>\n",
       "</mark>\n",
       " in \n",
       "<mark class=\"entity\" style=\"background: #bfe1d9; padding: 0.45em 0.6em; margin: 0 0.25em; line-height: 1; border-radius: 0.35em;\">\n",
       "    1568\n",
       "    <span style=\"font-size: 0.8em; font-weight: bold; line-height: 1; border-radius: 0.35em; vertical-align: middle; margin-left: 0.5rem\">DATE</span>\n",
       "</mark>\n",
       ". </div></span>"
      ],
      "text/plain": [
       "<IPython.core.display.HTML object>"
      ]
     },
     "metadata": {},
     "output_type": "display_data"
    }
   ],
   "source": [
    "options= {\"collapse_phrases\":True}\n",
    "displacy.render(s, style=\"ent\", options= options )"
   ]
  },
  {
   "cell_type": "code",
   "execution_count": 48,
   "id": "ce86513d-3c8a-4880-a5c0-bbd1dab0e037",
   "metadata": {},
   "outputs": [],
   "source": [
    "ents1 = doc1.ents\n",
    "df_ents1 = pd.DataFrame([[e.label_,e.text, list(e.noun_chunks), e.vector[:2]] for e in ents1])\n",
    "df_ents1.columns= ['type', 'label','chunks', \"vector\"]"
   ]
  },
  {
   "cell_type": "code",
   "execution_count": 49,
   "id": "546e9198-4753-4e05-b720-bf40edf08ad9",
   "metadata": {},
   "outputs": [
    {
     "data": {
      "text/plain": [
       "(255,\n",
       "        type            label                chunks                    vector\n",
       " 0    PERSON  Michael Mästlin  [(Michael, Mästlin)]      [-2.77865, -1.65305]\n",
       " 1       GPE        Göppingen         [(Göppingen)]        [-2.2553, -1.9444]\n",
       " 2  QUANTITY      about 50 km                    []  [-4.6376333, -0.7857833]\n",
       " 3       GPE         Tübingen          [(Tübingen)]        [-1.9794, -2.3969]\n",
       " 4    PERSON          Mästlin                    []                [0.0, 0.0])"
      ]
     },
     "execution_count": 49,
     "metadata": {},
     "output_type": "execute_result"
    }
   ],
   "source": [
    "len(df_ents1), df_ents1.head()"
   ]
  },
  {
   "cell_type": "code",
   "execution_count": 51,
   "id": "7855020c-2342-46dd-b6dd-0a7c012bcac2",
   "metadata": {
    "scrolled": true,
    "tags": []
   },
   "outputs": [
    {
     "data": {
      "text/plain": [
       "[['Mästlin', 81],\n",
       " ['Kepler', 16],\n",
       " ['Copernicus', 11],\n",
       " ['Tübingen', 8],\n",
       " ['Methuen', 5],\n",
       " ['first', 4],\n",
       " ['Backnang', 4],\n",
       " ['3]:-', 3],\n",
       " ['1571', 3],\n",
       " ['Ptolemy', 3],\n",
       " ['1577', 3],\n",
       " ['Copernican', 3],\n",
       " ['1551', 3],\n",
       " ['two', 3],\n",
       " ['De', 3],\n",
       " ['Tübingen University', 2],\n",
       " ['four years', 2],\n",
       " ['Aristotle', 2],\n",
       " ['Leipzig', 2],\n",
       " ['Apian', 2],\n",
       " ['Lutheran', 2],\n",
       " ['1570', 2],\n",
       " ['Heidelberg', 2],\n",
       " ['1580', 2],\n",
       " ['1578', 2],\n",
       " ['Philipp Apian', 2],\n",
       " ['Göppingen', 2],\n",
       " ['Michael Mästlin', 2],\n",
       " ['three', 2],\n",
       " ['Rheticus', 2],\n",
       " ['Veneris apparuit', 1],\n",
       " ['about 50 km', 1],\n",
       " ['Victorin Strigel', 1],\n",
       " [\"Tübingen University's\", 1],\n",
       " ['Pleiades', 1],\n",
       " ['Peter] Apian', 1],\n",
       " [\"Peter Apian's\", 1],\n",
       " ['about 30 km', 1],\n",
       " ['varietate scilicet motus', 1],\n",
       " ['the years 1577 and', 1],\n",
       " ['the following years', 1],\n",
       " ['the age of 78', 1],\n",
       " ['the University of Tübingen', 1],\n",
       " ['1568', 1],\n",
       " ['the New Star', 1],\n",
       " ['the Lutheran Church', 1],\n",
       " ['the Astronomical Revolution', 1],\n",
       " ['sixth', 1],\n",
       " ['eight', 1],\n",
       " ['orbe distantia', 1],\n",
       " ['geometricis et calculo', 1],\n",
       " ['five', 1],\n",
       " ['Osiander', 1],\n",
       " ['demonstrationibus', 1],\n",
       " ['demonstratio cometae aetherae qui anno', 1],\n",
       " ['de alio quoquam cometa nunquam visa est', 1],\n",
       " ['constitutus', 1],\n",
       " ['arithmetico cuius modi', 1],\n",
       " ['approximately 0.6180340', 1],\n",
       " ['admirandius eius passionibus', 1],\n",
       " ['six', 1],\n",
       " ['Dorothea Simon', 1],\n",
       " ['Copernicanism', 1],\n",
       " ['Biblical', 1],\n",
       " ['Astronomers', 1],\n",
       " ['April 1577', 1],\n",
       " ['6', 1],\n",
       " ['3', 1],\n",
       " ['2]:-', 1],\n",
       " ['1628', 1],\n",
       " ['Lutherans', 1],\n",
       " ['1582', 1],\n",
       " ['1577 - 1578', 1],\n",
       " ['1576', 1],\n",
       " ['1572', 1],\n",
       " ['1551-1588', 1],\n",
       " ['11', 1],\n",
       " ['wrangle', 1],\n",
       " ['1589-94', 1],\n",
       " ['the University of Heidelberg', 1],\n",
       " ['1597', 1],\n",
       " ['Observatio', 1],\n",
       " ['Mästlin continued:-', 1],\n",
       " ['Michael', 1],\n",
       " ['Margarete Gruuninger', 1],\n",
       " ['Margarete Burkhardt', 1],\n",
       " ['Margarete', 1],\n",
       " ['Maestlin', 1],\n",
       " ['Leonardo da Vinci', 1],\n",
       " ['Königsbronn', 1],\n",
       " ['Earth', 1],\n",
       " ['Johannes Kepler', 1],\n",
       " ['Jakob Mästlin', 1],\n",
       " ['Gregorian', 1],\n",
       " ['Gingerich', 1],\n",
       " ['Georg Joachim Rheticus', 1],\n",
       " ['Galileo', 1],\n",
       " ['G Molland', 1],\n",
       " ['Erasmus Reinhold', 1],\n",
       " [\"Epitome astronomiae'\", 1],\n",
       " ['Epitome astronomiae', 1],\n",
       " ['Jupiter', 1]]"
      ]
     },
     "execution_count": 51,
     "metadata": {},
     "output_type": "execute_result"
    }
   ],
   "source": [
    "ldf1 = pd.DataFrame(df_ents1.groupby(by='label').size().sort_values(ascending=False))\n",
    "ldf1= ldf1.reset_index()\n",
    "ldf1.columns=['label','effectif']\n",
    "ldf1.values.tolist()"
   ]
  },
  {
   "cell_type": "code",
   "execution_count": null,
   "id": "9a56d802-9aa2-4407-b80c-bbc094da210a",
   "metadata": {},
   "outputs": [],
   "source": []
  },
  {
   "cell_type": "code",
   "execution_count": null,
   "id": "b7994340-edca-469c-a44a-079661c1bef2",
   "metadata": {},
   "outputs": [],
   "source": []
  },
  {
   "cell_type": "code",
   "execution_count": null,
   "id": "3bbcc4d8-9aa3-434a-91e1-a6f4b2c5c3a3",
   "metadata": {},
   "outputs": [],
   "source": []
  },
  {
   "cell_type": "code",
   "execution_count": null,
   "id": "75501c00-fd13-4ff9-a94a-f46429a46b70",
   "metadata": {},
   "outputs": [],
   "source": []
  },
  {
   "cell_type": "markdown",
   "id": "7528cf00-c7ab-4a5a-8ed5-198a58fcdb5b",
   "metadata": {
    "tags": []
   },
   "source": [
    "## Dependencies\n",
    "\n",
    "Eccellente intro:\n",
    "* https://towardsdatascience.com/nlp-with-python-knowledge-graph-12b93146a458 \n",
    "\n"
   ]
  },
  {
   "cell_type": "code",
   "execution_count": 88,
   "id": "02d95c5e-c0ab-4986-8993-a0133a1207d0",
   "metadata": {},
   "outputs": [],
   "source": [
    "stcs = [] \n",
    "for sent in doc.sents:\n",
    "    stcs.append(sent)"
   ]
  },
  {
   "cell_type": "code",
   "execution_count": 89,
   "id": "362f29ec-5f77-4ecc-9fd2-9069a9d8d1e0",
   "metadata": {},
   "outputs": [
    {
     "data": {
      "text/plain": [
       "The Prutenis Tables had been originally compiled by Erasmus Reinhold who had based them on Copernicus's version of the solar system."
      ]
     },
     "execution_count": 89,
     "metadata": {},
     "output_type": "execute_result"
    }
   ],
   "source": [
    "stcs[10]"
   ]
  },
  {
   "cell_type": "code",
   "execution_count": null,
   "id": "cc072c0c-7293-4d60-bd02-cb7b323881b5",
   "metadata": {},
   "outputs": [],
   "source": [
    "sent = stcs[10][2]\n",
    "for token in sent:\n",
    "    print(token.text, \"-->\", \"pos: \"+token.pos_, \"|\", \"dep: \"+token.dep_, \"\")"
   ]
  },
  {
   "cell_type": "code",
   "execution_count": null,
   "id": "2df53018-8e27-4a32-87dd-4517b7516c26",
   "metadata": {
    "tags": []
   },
   "outputs": [],
   "source": [
    "displacy.render(stcs[10], style=\"dep\", options={\"distance\":100})"
   ]
  },
  {
   "cell_type": "code",
   "execution_count": null,
   "id": "e806d88d-a495-48a4-99e6-e842c47ac203",
   "metadata": {},
   "outputs": [],
   "source": [
    "for s in stcs[:11]:\n",
    "    displacy.render(s, style=\"ent\")"
   ]
  },
  {
   "cell_type": "code",
   "execution_count": null,
   "id": "dd8b1b82-beaf-4b48-9f30-187d3402efed",
   "metadata": {},
   "outputs": [],
   "source": []
  },
  {
   "cell_type": "code",
   "execution_count": null,
   "id": "83eab6b5-71f1-40b9-b1a1-47fea969391c",
   "metadata": {},
   "outputs": [],
   "source": [
    "## extract entities and relations\n",
    "dic = {\"id\":[], \"text\":[], \"entity\":[], \"relation\":[], \"object\":[]}\n",
    "\n",
    "for n,sentence in enumerate(stcs):\n",
    "    lst_generators = list(textacy.extract.subject_verb_object_triples(sentence))  \n",
    "    for sent in lst_generators:\n",
    "        subj = \"_\".join(map(str, sent.subject))\n",
    "        obj  = \"_\".join(map(str, sent.object))\n",
    "        relation = \"_\".join(map(str, sent.verb))\n",
    "        dic[\"id\"].append(n)\n",
    "        dic[\"text\"].append(sentence.text)\n",
    "        dic[\"entity\"].append(subj)\n",
    "        dic[\"object\"].append(obj)\n",
    "        dic[\"relation\"].append(relation)\n",
    "\n",
    "\n",
    "## create dataframe\n",
    "dtf = pd.DataFrame(dic)\n",
    "\n",
    "dtf.head()"
   ]
  },
  {
   "cell_type": "code",
   "execution_count": null,
   "id": "6a404293-48bb-4877-8413-280a1b8ef011",
   "metadata": {},
   "outputs": [],
   "source": [
    "\n",
    "dtf.groupby('id').size().sort_values(ascending=False)"
   ]
  },
  {
   "cell_type": "code",
   "execution_count": null,
   "id": "12339123-068e-46c1-a296-16aa65618d24",
   "metadata": {},
   "outputs": [],
   "source": [
    "dtf[dtf['id'] == 84]"
   ]
  },
  {
   "cell_type": "code",
   "execution_count": null,
   "id": "0c66a244-6fdc-4517-a9f2-f38b9607f918",
   "metadata": {},
   "outputs": [],
   "source": [
    "print(list(dtf[dtf['id'] == 84]['text'])[0])"
   ]
  },
  {
   "cell_type": "code",
   "execution_count": null,
   "id": "c257adc3-3f16-406f-b583-e7eaa65c5441",
   "metadata": {},
   "outputs": [],
   "source": []
  },
  {
   "cell_type": "code",
   "execution_count": null,
   "id": "078aa763-6e96-4e74-a6d6-dcfc9a7e1597",
   "metadata": {},
   "outputs": [],
   "source": []
  },
  {
   "cell_type": "code",
   "execution_count": null,
   "id": "478dd0ee-3d30-408b-9ee3-946088b5e1f7",
   "metadata": {},
   "outputs": [],
   "source": []
  },
  {
   "cell_type": "code",
   "execution_count": null,
   "id": "de5fa652-7979-40da-a9b5-0121d976d50e",
   "metadata": {},
   "outputs": [],
   "source": []
  },
  {
   "cell_type": "code",
   "execution_count": null,
   "id": "f67e1898-41f8-4800-a91d-470f6517cbca",
   "metadata": {},
   "outputs": [],
   "source": []
  },
  {
   "cell_type": "code",
   "execution_count": null,
   "id": "ec068625-65d0-4c78-9d3e-64cafb9421e0",
   "metadata": {},
   "outputs": [],
   "source": []
  },
  {
   "cell_type": "code",
   "execution_count": null,
   "id": "be1951b1-9aee-4eb8-a814-f508730afb4d",
   "metadata": {},
   "outputs": [],
   "source": []
  },
  {
   "cell_type": "code",
   "execution_count": null,
   "id": "7c4faeb7-4ed6-414d-836a-9f0a731d6592",
   "metadata": {},
   "outputs": [],
   "source": []
  },
  {
   "cell_type": "code",
   "execution_count": null,
   "id": "3e55975c-9fde-4a24-96a6-56832d922b71",
   "metadata": {},
   "outputs": [],
   "source": []
  },
  {
   "cell_type": "code",
   "execution_count": null,
   "id": "9293f255-3f05-4724-adc5-8fba117a2cd1",
   "metadata": {},
   "outputs": [],
   "source": []
  },
  {
   "cell_type": "code",
   "execution_count": null,
   "id": "4b1fc01b-8017-4ffc-b01b-7dd54fb5dbf0",
   "metadata": {},
   "outputs": [],
   "source": []
  },
  {
   "cell_type": "code",
   "execution_count": null,
   "id": "ad03fa2a-f6a9-450e-af7d-d0194cd0fa38",
   "metadata": {},
   "outputs": [],
   "source": []
  }
 ],
 "metadata": {
  "kernelspec": {
   "display_name": "py310_nlp",
   "language": "python",
   "name": "py310_nlp"
  },
  "language_info": {
   "codemirror_mode": {
    "name": "ipython",
    "version": 3
   },
   "file_extension": ".py",
   "mimetype": "text/x-python",
   "name": "python",
   "nbconvert_exporter": "python",
   "pygments_lexer": "ipython3",
   "version": "3.10.11"
  }
 },
 "nbformat": 4,
 "nbformat_minor": 5
}
