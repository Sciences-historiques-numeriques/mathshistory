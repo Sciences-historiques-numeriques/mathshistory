{
 "cells": [
  {
   "cell_type": "markdown",
   "id": "422e4ec0-c035-4e91-9ee5-80beeeaefd99",
   "metadata": {
    "tags": []
   },
   "source": [
    "# Relation extraction : prototype of a pipeline using the OpenAI API and Spacy \n",
    "\n",
    "Use pip environment : cf. instructions.md\n",
    "\n"
   ]
  },
  {
   "cell_type": "code",
   "execution_count": 1,
   "id": "7c8d034d-7548-490c-a349-ca54d7cb6d31",
   "metadata": {
    "tags": []
   },
   "outputs": [],
   "source": [
    "import spacy\n",
    "import psycopg2\n",
    "import pandas as pd\n",
    "from spacy.tokens import Span\n",
    "from spacy import displacy\n",
    "from time import strftime, gmtime"
   ]
  },
  {
   "cell_type": "code",
   "execution_count": 2,
   "id": "4b20b0e4-26b3-40bc-9057-c06be622a4b4",
   "metadata": {},
   "outputs": [],
   "source": [
    "from itables import init_notebook_mode, show\n",
    "import re\n",
    "from importlib import reload\n",
    "import json, csv, time"
   ]
  },
  {
   "cell_type": "code",
   "execution_count": 3,
   "id": "a7b87dc0-1670-4110-ba90-3b6ec7c5ce1c",
   "metadata": {},
   "outputs": [],
   "source": [
    "import openai"
   ]
  },
  {
   "cell_type": "code",
   "execution_count": 4,
   "id": "468d85c1-0135-40d7-a92a-131ccbb84d20",
   "metadata": {},
   "outputs": [],
   "source": [
    "import warnings\n",
    "warnings.filterwarnings('ignore')"
   ]
  },
  {
   "cell_type": "code",
   "execution_count": null,
   "id": "8229565f-1268-45bf-a003-2559ec6c93c8",
   "metadata": {},
   "outputs": [],
   "source": [
    "import postgresql_functions as pgf\n",
    "import settings as stt"
   ]
  },
  {
   "cell_type": "code",
   "execution_count": 35,
   "id": "bb82f6f1-7ed7-4546-92c0-b46f3de43714",
   "metadata": {},
   "outputs": [],
   "source": [
    "import IPython"
   ]
  },
  {
   "cell_type": "code",
   "execution_count": null,
   "id": "576415aa-fc26-444a-a319-cdbd14a6f53d",
   "metadata": {},
   "outputs": [],
   "source": [
    "openai.api_key = \"\""
   ]
  },
  {
   "cell_type": "code",
   "execution_count": 5,
   "id": "002be2ec-3570-4316-9453-b4838f70b27f",
   "metadata": {},
   "outputs": [],
   "source": [
    "# reload(pgf)"
   ]
  },
  {
   "cell_type": "code",
   "execution_count": 21,
   "id": "ef5967cc-77ee-4bb1-a494-ea4ee38f4e4d",
   "metadata": {},
   "outputs": [],
   "source": []
  },
  {
   "cell_type": "code",
   "execution_count": 7,
   "id": "d191323e-a442-4b37-8887-e7f66ee861ef",
   "metadata": {},
   "outputs": [],
   "source": [
    "### connect to the local database\n",
    "conn = psycopg2.connect(host=\"localhost\", port = 5432, database=\"espace_intellectuel\", \n",
    "                        user=\"postgres\", password=stt.dbw)\n",
    "#conn"
   ]
  },
  {
   "cell_type": "code",
   "execution_count": 7,
   "id": "5e3f13e6-3647-403a-b5f9-8f59cb5ee1fd",
   "metadata": {},
   "outputs": [],
   "source": [
    "#conn.close()"
   ]
  },
  {
   "cell_type": "code",
   "execution_count": null,
   "id": "197bfe09-8d28-4831-bb10-f9d5f08a61d5",
   "metadata": {},
   "outputs": [],
   "source": []
  },
  {
   "cell_type": "code",
   "execution_count": 178,
   "id": "0a4bbd66-89f0-49c3-8e6e-cbb4482aee58",
   "metadata": {},
   "outputs": [],
   "source": [
    "q1 = \"\"\"\n",
    "select pk_mathshistory, \"name\", url, dates, length(biography) as eff, coreferenced_txt, biography \n",
    "from mathshistory.mathshistory m \n",
    "where biography ~*  'University'\n",
    "and pk_mathshistory > 121\n",
    "order by pk_mathshistory\n",
    "limit 20;\n",
    "\n",
    "\n",
    "---where pk_mathshistory < 570\n",
    "---and pk_mathshistory > 117\n",
    "--where pk_mathshistory in (81, 82, 103, 117, 129, 133, 143, 146, 159, 186);\n",
    "\"\"\""
   ]
  },
  {
   "cell_type": "code",
   "execution_count": 179,
   "id": "717392a7-32bc-48f8-9ac5-8c0a964eefe9",
   "metadata": {},
   "outputs": [],
   "source": [
    "result = pgf.sql_explore(q1, conn)\n",
    "# print(f'Lines count: {len(result[0])}, errors count: {len(result[1])}, \\nFirst lines: {result[0][:5]}')"
   ]
  },
  {
   "cell_type": "code",
   "execution_count": 180,
   "id": "98f3d1d9-29b3-40c5-abc8-06dd5484d8bb",
   "metadata": {},
   "outputs": [],
   "source": [
    "textes = pd.DataFrame(result[0])\n",
    "textes.columns = ['id', 'name', 'url', 'dates', 'length_bio', 'coref_texte', 'biog']"
   ]
  },
  {
   "cell_type": "code",
   "execution_count": 204,
   "id": "f5ecf805-aa2d-4c48-96a0-74ff5a96af33",
   "metadata": {},
   "outputs": [
    {
     "data": {
      "text/html": [
       "<div>\n",
       "<style scoped>\n",
       "    .dataframe tbody tr th:only-of-type {\n",
       "        vertical-align: middle;\n",
       "    }\n",
       "\n",
       "    .dataframe tbody tr th {\n",
       "        vertical-align: top;\n",
       "    }\n",
       "\n",
       "    .dataframe thead th {\n",
       "        text-align: right;\n",
       "    }\n",
       "</style>\n",
       "<table border=\"1\" class=\"dataframe\">\n",
       "  <thead>\n",
       "    <tr style=\"text-align: right;\">\n",
       "      <th></th>\n",
       "      <th>id</th>\n",
       "      <th>name</th>\n",
       "      <th>url</th>\n",
       "      <th>dates</th>\n",
       "      <th>length_bio</th>\n",
       "      <th>coref_texte</th>\n",
       "      <th>biog</th>\n",
       "    </tr>\n",
       "  </thead>\n",
       "  <tbody>\n",
       "    <tr>\n",
       "      <th>0</th>\n",
       "      <td>122</td>\n",
       "      <td>Giovanni Magini</td>\n",
       "      <td>https://mathshistory.st-andrews.ac.uk/Biograph...</td>\n",
       "      <td>1555-1617</td>\n",
       "      <td>11224</td>\n",
       "      <td>Giovanni Magini's father, Pasquale Magini, was...</td>\n",
       "      <td>Giovanni Magini's father, Pasquale Magini, was...</td>\n",
       "    </tr>\n",
       "    <tr>\n",
       "      <th>1</th>\n",
       "      <td>124</td>\n",
       "      <td>Thomas Harriot</td>\n",
       "      <td>https://mathshistory.st-andrews.ac.uk/Biograph...</td>\n",
       "      <td>1560-1621</td>\n",
       "      <td>19509</td>\n",
       "      <td>Thomas Harriot was a mathematician and astrono...</td>\n",
       "      <td>Thomas Harriot was a mathematician and astrono...</td>\n",
       "    </tr>\n",
       "    <tr>\n",
       "      <th>2</th>\n",
       "      <td>125</td>\n",
       "      <td>Adriaan van Roomen</td>\n",
       "      <td>https://mathshistory.st-andrews.ac.uk/Biograph...</td>\n",
       "      <td>1561-1615</td>\n",
       "      <td>13588</td>\n",
       "      <td>Adriaan van Roomen is often known by Roomen La...</td>\n",
       "      <td>Adriaan van Roomen is often known by his Latin...</td>\n",
       "    </tr>\n",
       "    <tr>\n",
       "      <th>3</th>\n",
       "      <td>126</td>\n",
       "      <td>Bartholomeo Pitiscus</td>\n",
       "      <td>https://mathshistory.st-andrews.ac.uk/Biograph...</td>\n",
       "      <td>1561-1613</td>\n",
       "      <td>5507</td>\n",
       "      <td>Bartholomeo Pitiscus was born into a poor fami...</td>\n",
       "      <td>Bartholomeo Pitiscus was born into a poor fami...</td>\n",
       "    </tr>\n",
       "    <tr>\n",
       "      <th>4</th>\n",
       "      <td>127</td>\n",
       "      <td>Duncan Liddel</td>\n",
       "      <td>https://mathshistory.st-andrews.ac.uk/Biograph...</td>\n",
       "      <td>1561-1613</td>\n",
       "      <td>12492</td>\n",
       "      <td>Duncan Liddel was the son of John Liddel who i...</td>\n",
       "      <td>Duncan Liddel was the son of John Liddel who i...</td>\n",
       "    </tr>\n",
       "    <tr>\n",
       "      <th>5</th>\n",
       "      <td>128</td>\n",
       "      <td>Henry Briggs</td>\n",
       "      <td>https://mathshistory.st-andrews.ac.uk/Biograph...</td>\n",
       "      <td>1561-1630</td>\n",
       "      <td>12752</td>\n",
       "      <td>Henry Briggs was the Briggs most responsible f...</td>\n",
       "      <td>Henry Briggs was the man most responsible for ...</td>\n",
       "    </tr>\n",
       "    <tr>\n",
       "      <th>6</th>\n",
       "      <td>129</td>\n",
       "      <td>Philip van Lansberge</td>\n",
       "      <td>https://mathshistory.st-andrews.ac.uk/Biograph...</td>\n",
       "      <td>1561-1632</td>\n",
       "      <td>16365</td>\n",
       "      <td>Philip van Lansberge's name is given in many d...</td>\n",
       "      <td>Philip van Lansberge's name is given in many d...</td>\n",
       "    </tr>\n",
       "    <tr>\n",
       "      <th>7</th>\n",
       "      <td>130</td>\n",
       "      <td>Thomas Fincke</td>\n",
       "      <td>https://mathshistory.st-andrews.ac.uk/Biograph...</td>\n",
       "      <td>1561-1656</td>\n",
       "      <td>12105</td>\n",
       "      <td>Thomas Fincke's name appears with a variety of...</td>\n",
       "      <td>Thomas Fincke's name appears with a variety of...</td>\n",
       "    </tr>\n",
       "    <tr>\n",
       "      <th>8</th>\n",
       "      <td>132</td>\n",
       "      <td>Galileo Galilei</td>\n",
       "      <td>https://mathshistory.st-andrews.ac.uk/Biograph...</td>\n",
       "      <td>1564-1642</td>\n",
       "      <td>25070</td>\n",
       "      <td>Galileo Galilei's parents were Vincenzo Galile...</td>\n",
       "      <td>Galileo Galilei's parents were Vincenzo Galile...</td>\n",
       "    </tr>\n",
       "    <tr>\n",
       "      <th>9</th>\n",
       "      <td>133</td>\n",
       "      <td>Giuseppe Biancani</td>\n",
       "      <td>https://mathshistory.st-andrews.ac.uk/Biograph...</td>\n",
       "      <td>1566-1624</td>\n",
       "      <td>10035</td>\n",
       "      <td>Giuseppe Biancani's name also appears in name ...</td>\n",
       "      <td>Giuseppe Biancani's name also appears in its L...</td>\n",
       "    </tr>\n",
       "    <tr>\n",
       "      <th>10</th>\n",
       "      <td>135</td>\n",
       "      <td>Johannes Kepler</td>\n",
       "      <td>https://mathshistory.st-andrews.ac.uk/Biograph...</td>\n",
       "      <td>1571-1630</td>\n",
       "      <td>22613</td>\n",
       "      <td>Johannes Kepler is now chiefly remembered for ...</td>\n",
       "      <td>Johannes Kepler is now chiefly remembered for ...</td>\n",
       "    </tr>\n",
       "    <tr>\n",
       "      <th>11</th>\n",
       "      <td>136</td>\n",
       "      <td>Christoph Scheiner</td>\n",
       "      <td>https://mathshistory.st-andrews.ac.uk/Biograph...</td>\n",
       "      <td>1573-1650</td>\n",
       "      <td>16852</td>\n",
       "      <td>Christoph Scheiner's day of birth is certain, ...</td>\n",
       "      <td>Christoph Scheiner's day of birth is certain, ...</td>\n",
       "    </tr>\n",
       "    <tr>\n",
       "      <th>12</th>\n",
       "      <td>137</td>\n",
       "      <td>Simon Mayr</td>\n",
       "      <td>https://mathshistory.st-andrews.ac.uk/Biograph...</td>\n",
       "      <td>1573-1624</td>\n",
       "      <td>8476</td>\n",
       "      <td>Simon Mayr is also known as Marius or Mayer bu...</td>\n",
       "      <td>Simon Mayr is also known as Marius or Mayer bu...</td>\n",
       "    </tr>\n",
       "    <tr>\n",
       "      <th>13</th>\n",
       "      <td>138</td>\n",
       "      <td>William Oughtred</td>\n",
       "      <td>https://mathshistory.st-andrews.ac.uk/Biograph...</td>\n",
       "      <td>1574-1660</td>\n",
       "      <td>19016</td>\n",
       "      <td>William Oughtred's father was the Rev Benjamin...</td>\n",
       "      <td>William Oughtred's father was the Rev Benjamin...</td>\n",
       "    </tr>\n",
       "    <tr>\n",
       "      <th>14</th>\n",
       "      <td>139</td>\n",
       "      <td>Paul Guldin</td>\n",
       "      <td>https://mathshistory.st-andrews.ac.uk/Biograph...</td>\n",
       "      <td>1577-1643</td>\n",
       "      <td>14363</td>\n",
       "      <td>Paul Guldin was named Habakkuk Guldin by Guldi...</td>\n",
       "      <td>Paul Guldin was named Habakkuk Guldin by his p...</td>\n",
       "    </tr>\n",
       "    <tr>\n",
       "      <th>15</th>\n",
       "      <td>140</td>\n",
       "      <td>Benedetto Castelli</td>\n",
       "      <td>https://mathshistory.st-andrews.ac.uk/Biograph...</td>\n",
       "      <td>1578-1643</td>\n",
       "      <td>17362</td>\n",
       "      <td>Benedetto Castelli's parents were Annibale Cas...</td>\n",
       "      <td>Benedetto Castelli's parents were Annibale Cas...</td>\n",
       "    </tr>\n",
       "    <tr>\n",
       "      <th>16</th>\n",
       "      <td>141</td>\n",
       "      <td>Johann Faulhaber</td>\n",
       "      <td>https://mathshistory.st-andrews.ac.uk/Biograph...</td>\n",
       "      <td>1580-1635</td>\n",
       "      <td>3426</td>\n",
       "      <td>Johann Faulhaber was trained as a weaver. Howe...</td>\n",
       "      <td>Johann Faulhaber was trained as a weaver. Howe...</td>\n",
       "    </tr>\n",
       "    <tr>\n",
       "      <th>17</th>\n",
       "      <td>143</td>\n",
       "      <td>Willebrord Snell</td>\n",
       "      <td>https://mathshistory.st-andrews.ac.uk/Biograph...</td>\n",
       "      <td>1580-1626</td>\n",
       "      <td>13590</td>\n",
       "      <td>Willebrord Snell's name appears as Snel or Sne...</td>\n",
       "      <td>Willebrord Snell's name appears as Snel or Sne...</td>\n",
       "    </tr>\n",
       "    <tr>\n",
       "      <th>18</th>\n",
       "      <td>145</td>\n",
       "      <td>Edmund Gunter</td>\n",
       "      <td>https://mathshistory.st-andrews.ac.uk/Biograph...</td>\n",
       "      <td>1581-1626</td>\n",
       "      <td>10746</td>\n",
       "      <td>Edmund Gunter's father was Welsh, coming from ...</td>\n",
       "      <td>Edmund Gunter's father was Welsh, coming from ...</td>\n",
       "    </tr>\n",
       "    <tr>\n",
       "      <th>19</th>\n",
       "      <td>150</td>\n",
       "      <td>Peter Turner</td>\n",
       "      <td>https://mathshistory.st-andrews.ac.uk/Biograph...</td>\n",
       "      <td>1586-1652</td>\n",
       "      <td>4177</td>\n",
       "      <td>Peter Turner's parents were Pascha Parry and P...</td>\n",
       "      <td>Peter Turner's parents were Pascha Parry and P...</td>\n",
       "    </tr>\n",
       "  </tbody>\n",
       "</table>\n",
       "</div>"
      ],
      "text/plain": [
       "     id                  name  \\\n",
       "0   122       Giovanni Magini   \n",
       "1   124        Thomas Harriot   \n",
       "2   125    Adriaan van Roomen   \n",
       "3   126  Bartholomeo Pitiscus   \n",
       "4   127         Duncan Liddel   \n",
       "5   128          Henry Briggs   \n",
       "6   129  Philip van Lansberge   \n",
       "7   130         Thomas Fincke   \n",
       "8   132       Galileo Galilei   \n",
       "9   133     Giuseppe Biancani   \n",
       "10  135       Johannes Kepler   \n",
       "11  136    Christoph Scheiner   \n",
       "12  137            Simon Mayr   \n",
       "13  138      William Oughtred   \n",
       "14  139           Paul Guldin   \n",
       "15  140    Benedetto Castelli   \n",
       "16  141      Johann Faulhaber   \n",
       "17  143      Willebrord Snell   \n",
       "18  145         Edmund Gunter   \n",
       "19  150          Peter Turner   \n",
       "\n",
       "                                                  url      dates  length_bio  \\\n",
       "0   https://mathshistory.st-andrews.ac.uk/Biograph...  1555-1617       11224   \n",
       "1   https://mathshistory.st-andrews.ac.uk/Biograph...  1560-1621       19509   \n",
       "2   https://mathshistory.st-andrews.ac.uk/Biograph...  1561-1615       13588   \n",
       "3   https://mathshistory.st-andrews.ac.uk/Biograph...  1561-1613        5507   \n",
       "4   https://mathshistory.st-andrews.ac.uk/Biograph...  1561-1613       12492   \n",
       "5   https://mathshistory.st-andrews.ac.uk/Biograph...  1561-1630       12752   \n",
       "6   https://mathshistory.st-andrews.ac.uk/Biograph...  1561-1632       16365   \n",
       "7   https://mathshistory.st-andrews.ac.uk/Biograph...  1561-1656       12105   \n",
       "8   https://mathshistory.st-andrews.ac.uk/Biograph...  1564-1642       25070   \n",
       "9   https://mathshistory.st-andrews.ac.uk/Biograph...  1566-1624       10035   \n",
       "10  https://mathshistory.st-andrews.ac.uk/Biograph...  1571-1630       22613   \n",
       "11  https://mathshistory.st-andrews.ac.uk/Biograph...  1573-1650       16852   \n",
       "12  https://mathshistory.st-andrews.ac.uk/Biograph...  1573-1624        8476   \n",
       "13  https://mathshistory.st-andrews.ac.uk/Biograph...  1574-1660       19016   \n",
       "14  https://mathshistory.st-andrews.ac.uk/Biograph...  1577-1643       14363   \n",
       "15  https://mathshistory.st-andrews.ac.uk/Biograph...  1578-1643       17362   \n",
       "16  https://mathshistory.st-andrews.ac.uk/Biograph...  1580-1635        3426   \n",
       "17  https://mathshistory.st-andrews.ac.uk/Biograph...  1580-1626       13590   \n",
       "18  https://mathshistory.st-andrews.ac.uk/Biograph...  1581-1626       10746   \n",
       "19  https://mathshistory.st-andrews.ac.uk/Biograph...  1586-1652        4177   \n",
       "\n",
       "                                          coref_texte  \\\n",
       "0   Giovanni Magini's father, Pasquale Magini, was...   \n",
       "1   Thomas Harriot was a mathematician and astrono...   \n",
       "2   Adriaan van Roomen is often known by Roomen La...   \n",
       "3   Bartholomeo Pitiscus was born into a poor fami...   \n",
       "4   Duncan Liddel was the son of John Liddel who i...   \n",
       "5   Henry Briggs was the Briggs most responsible f...   \n",
       "6   Philip van Lansberge's name is given in many d...   \n",
       "7   Thomas Fincke's name appears with a variety of...   \n",
       "8   Galileo Galilei's parents were Vincenzo Galile...   \n",
       "9   Giuseppe Biancani's name also appears in name ...   \n",
       "10  Johannes Kepler is now chiefly remembered for ...   \n",
       "11  Christoph Scheiner's day of birth is certain, ...   \n",
       "12  Simon Mayr is also known as Marius or Mayer bu...   \n",
       "13  William Oughtred's father was the Rev Benjamin...   \n",
       "14  Paul Guldin was named Habakkuk Guldin by Guldi...   \n",
       "15  Benedetto Castelli's parents were Annibale Cas...   \n",
       "16  Johann Faulhaber was trained as a weaver. Howe...   \n",
       "17  Willebrord Snell's name appears as Snel or Sne...   \n",
       "18  Edmund Gunter's father was Welsh, coming from ...   \n",
       "19  Peter Turner's parents were Pascha Parry and P...   \n",
       "\n",
       "                                                 biog  \n",
       "0   Giovanni Magini's father, Pasquale Magini, was...  \n",
       "1   Thomas Harriot was a mathematician and astrono...  \n",
       "2   Adriaan van Roomen is often known by his Latin...  \n",
       "3   Bartholomeo Pitiscus was born into a poor fami...  \n",
       "4   Duncan Liddel was the son of John Liddel who i...  \n",
       "5   Henry Briggs was the man most responsible for ...  \n",
       "6   Philip van Lansberge's name is given in many d...  \n",
       "7   Thomas Fincke's name appears with a variety of...  \n",
       "8   Galileo Galilei's parents were Vincenzo Galile...  \n",
       "9   Giuseppe Biancani's name also appears in its L...  \n",
       "10  Johannes Kepler is now chiefly remembered for ...  \n",
       "11  Christoph Scheiner's day of birth is certain, ...  \n",
       "12  Simon Mayr is also known as Marius or Mayer bu...  \n",
       "13  William Oughtred's father was the Rev Benjamin...  \n",
       "14  Paul Guldin was named Habakkuk Guldin by his p...  \n",
       "15  Benedetto Castelli's parents were Annibale Cas...  \n",
       "16  Johann Faulhaber was trained as a weaver. Howe...  \n",
       "17  Willebrord Snell's name appears as Snel or Sne...  \n",
       "18  Edmund Gunter's father was Welsh, coming from ...  \n",
       "19  Peter Turner's parents were Pascha Parry and P...  "
      ]
     },
     "execution_count": 204,
     "metadata": {},
     "output_type": "execute_result"
    }
   ],
   "source": [
    "textes.head(20)"
   ]
  },
  {
   "cell_type": "code",
   "execution_count": 211,
   "id": "dfb43709-e028-4d3d-96a0-b5d6df526fe8",
   "metadata": {
    "scrolled": true,
    "tags": []
   },
   "outputs": [
    {
     "name": "stdout",
     "output_type": "stream",
     "text": [
      "Giovanni Magini's father, Pasquale Magini, was a citizen of Padua. Nothing else appears to be known concerning Magini father or the rest of Magini family. Magini completed citizen education at the University of Bologna, receiving a doctorate in philosophy in 1579. citizen published Ephemerides coelestium motuum, a major treatise on astronomy, in 1582 and in the following year citizen published an Italian version of the original Latin text.\n",
      "\n",
      "Egnatio Danti held the chair of mathematics at the University of Bologna and, following citizen death in October 1586, a competition was announced to fill the chair . Magini competed for the chair as did, among others, Galileo. One might think that there would be no competition once Galileo applied for a chair but Magini was nine years older than Galileo and seen as a much safer appointment; citizen was appointed in 1588 and held the position for the rest of citizen life. Galileo had revolutionary ideas while Magini 's ideas were original but based on the established world-view. In Novae coelestium orbium theoricae congruentes cum observationibus N Copernici (Venice, 1589), Magini writes about \"absurd hypotheses, such as Copernicus imagined\". Copernici writes (see for example [10]):-\n",
      "It seems to Copernicus , against all truth and philosophy, that the earth moves, while the sun and the eighth sphere are motionless. ... Copernicus 's opinion about the motion of the earth is erroneous. [Copernici hypotheses] are attacked by nearly everybody for being too far away from the truth and absurd.The book does contain, however, Magini's own version of an Earth-centred theory which was seen at the time as an impressive development. Copernici proposed a system consisting of eleven rotating spheres and soon gained international coverage for Copernici ideas with spheres being explained to an English audience in Thomas Blundeville's treatise The Theoriques of the Seuen Planets of 1602.\n",
      "\n",
      "In 1592 Magini published De Planis Triangulis which explains the use of quadrants in astronomy and in surveying, in particular describing details of calculations and measurements which could be performed with a quadrant. In fact several quadrants have survived with an inscription involving Magini 's name. Ilaria Meliconi describes a quadrant bearing the inscription \"Quadrant of the General Planisphere of Giovanni Antonio Magini\" and asks [9]:-\n",
      "What can be inferred from the appearance of Triangulis name on this quadrant ? Are we to believe that Triangulis had the skill to be the maker of such a fine and elaborate instrument? If not, was Triangulis the designer, or just the original owner of the quadrant?Two quadrants exit, one with the inscription \"Giovanni Antonio Magini of Padua designed this in Bologna in the year 1592\", the other is dated 1595 and inscribed \"Giovanni Antonio Magini Professor of Mathematics in the University of Bologna had this made\". We also note that in the Preface to De Planis Triangulis , Magini mentions writing an instruction book and an instrument: \"if I had also made the instrument to use together with the book , I would have had instrument made in brass.\" Also in 1592 Magini published Tabula tetragonica, then in 1596 published a commentary on Ptolemy's Geographia.\n",
      "\n",
      "The chair of mathematics at Bologna saw Magini receive a salary of 1000 lire which was doubled to 2000 lire in 1597. However, Ptolemy also acted as a private tutor and received extra income from this type of work. Of course, the professor of mathematics was only going to tutor the very top people and indeed professor did just this acting as a tutor to the sons of the Duke of Mantua beginning in 1599. As well as teaching the boys mathematics, Magini was astrologer to the Duke . In 1599-1600, Magini tutored Ferdinando Gonzaga (1587-1626), the son of Vincenzo I Gonzaga, Duke of Mantua , and Gonzaga brother, giving instruction on Aristotle's Mechanics. In [5] we learn a lot about the interaction between Magini and Ferdinando over many years as well as understanding a little about Magini 's interest in astrology:-\n",
      "Magini had continued to keep in touch with Ferdinando and rejoiced at Gonzaga becoming a cardinal [in 1607], commenting at that time upon Gonzaga unusual erudition; in 1609 Gonzaga had sent cardinal cardinal own mathematical treatise (on spherical trigonometry) recalling Ferdinando 's deep understanding of the subject; early in 1611 cardinal sent another work, cardinal treatise on the partispherical mirror. In 1611-12 a one-sided part survives of what must have been a quite regular correspondence, demonstrating that Ferdinando was engaged on alchemical experiments under Magini 's direction. Magini sent particulars of an experiment to cardinal at Mantua in April 1611, and wrote that cardinal had transcribed many more notes for Ferdinando , but that a German (Martin Horkey), whom cardinal had sent away on Galileo's insistence, had taken notes . Ferdinando was evidently well equipped with laboratory apparatus, for Magini asked to be lent some of cardinal glass vessels or instruments. In June the same year, when the Cardinal was at Florence and unwell, Magini wrote to cheer Florence up with the news that Florence had found at Venice some new books on the subject, including Philip Müller, 'Miracula Chymica et Mysteria Medica' (first edition, Wittenberg 1611) which Florence urged Ferdinando also to buy. In February 1612, when Ferdinando was in Paris, Magini wrote of an even more exciting find, some rare books by the thirteenth-century hermeticist Ramon Llull; even Magini dropped an admission that the attribution to Llull might be false, nevertheless Llull confidently quoted a passage in Llull letter and asked Ferdinando to check whether an image of Christ and a cross allegedly made from alchemical gold were still in Notre-Dame. Back in Rome in the summer of 1612 Ferdinando evidently continued Llull alchemical experiments. Magini urged Llull to persevere in an exercise to extract the 'menstruo vegetabile' from red wine, which could be very well done in Rome , since the wines there were darker and stronger. Evidently the wine had to remain for forty-five days in a warm bath of putrefied water or horse shit. In another letter, promising more transcripts from the pseudo-Llullian text, Magini insisted on the value of this experiment to distil 'solfere vegetabile' from wine; for vegetabile would equip Ferdinando with the key to carrying out still greater transmutations.This seems the appropriate place to say a little more about Magini 's contributions to astrology. Ferdinando published De astrologica ratione in 1607, a work in which Ferdinando discusses the uses of astrology in medicine. Ferdinando was also a strong believer in metoposcopy, the art of deducing someone's personality from the pattern of the lines across someone forehead, and Ferdinando published a work on that topic.\n",
      "\n",
      "In 1606 Magini published an extremely accurate set of trigonometric tables. This mathematical work is typical of all of Magini 's mathematical contributions which are all highly practical; contributions include treatises on the geometry of the sphere, on applications of trigonometry, and on calculating devices of Ferdinando own invention. Ferdinando had triumphed over Galileo in the competition for the chair at Bologna but Ferdinando also strongly opposed Galileo 's views [11]:-\n",
      "During the Easter holidays of 1610, Galileo stopped in Bologna on Ferdinando way from Padua to Florence to stay at the house of Ferdinando colleague Giovanni Antonio Magini .... Many in Bologna , including Magini , were sceptical of Galileo 's discoveries, and therefore an opportunity presented opportunity for a demonstration. In the presence of a number of learned men, Galileo showed Ferdinando telescope and let others observe earthly and celestial things through Galileo . others agreed that for earthly objects the instrument performed as promised but that in the heavens Galileo was not reliable.The reason the telescope was believed to be unreliable was that when telescope was turned on certain stars stars appeared as double and another star was seen to have four small stars nearby.\n",
      "\n",
      "Magini was also interested in mirrors, both in stars theory, publishing a treatise on the theory of concave spherical mirrors, and in stars practical manufacture. Ferdinando presented large concave spherical mirrors to Jacopo Boncompagni (son of Pope Gregory XIII and Prince of Sora), to Cardinal Alessandro Farnese (son Pier Luigi Farnese, Duke of Parma), and to the Holy Roman Emperor Rudolf II. The Duke of Mantua paid Farnese a handsome sum for one of the mirrors but there was a long battle between Magini and Rudolf II since Magini felt Farnese had been promised payment for the mirror which Farnese did not receive.\n",
      "\n",
      "We have not yet mentioned the work for which Magini is best known namely Farnese map of Italy. On 15 March 1595 Magini published a map of the Bologna region and wrote in the dedication (see for example [4]):-\n",
      "Inasmuch as I desire to publish a complete atlas of Italy , showing, besides the provinces, the territories of each city, I have decided to publish first this map of the territory of Bologna ...Let us quote from [4] which provides a good summary of how Magini 's map of Italy developed from that point:-\n",
      "[The Bologna map] was soon followed by other maps, and in two years Farnese had the greater part of the maps of North Italy already engraved, and some of maps published. maps were apparently sold separately and are extremely rare in this Italy ; for, being unable to obtain material for Farnese maps of Southern Italy, Farnese started correcting and revising what Farnese had already done, publishing a new map of the territory of Bologna in two sheets in 1599. At last, in 1602, Farnese received materials for the formation of the maps of the kingdom of Naples; and in 1604 nearly the whole atlas was ready, and an index of atlas appeared in the Latin edition of Farnese astronomical work, the 'Tavole del Primo Mobile'. But now Farnese was unable to obtain engravers, owing to a series of misfortunes, and began a lengthy descriptive commentary which was to accompany the maps , but which was never published, and is for the most part lost. At last, in 1607, Farnese secured the services of one Benjamin Wright, who, in the following year, engraved for Farnese a large map of Italy in six sheets. Wright , however, was something of a drunkard, and pawned several of the plates which Wright had done: and it was only in 1613 that the engraving of the plates was finished, after a good deal of further revision. The printing at last began in Bologna at the end of 1616; but Magini's death delayed the appearance of the work until 1620, when Wright son Fabio, who was not fifteen when Wright father died, finally brought son out. Wright dedicated son to Ferdinando Gonzaga, a member of the ducal family of Mantua, with which Giovanni had been in close personal relations, and who indeed had procured Giovanni a great deal of manuscript material from the governments of the various Bologna of Italy.Almagià, in [1], argues that Magini 's maps made a considerable contribution to modern geography:-\n",
      "Previous errors both in latitude and longitude are reduced; the political boundaries and physical features are far better indicated than ever before; and a number of names have been added. It was indeed a long time before Magini 's work was superseded.Finally, let us note that one of the main sources of biographical information about Magini is Giovanni correspondence with leading scientists which was edited and published by Antonio Favaro in 1886 (see [3]).\n"
     ]
    }
   ],
   "source": [
    "### Choose one document\n",
    "txt = textes.iloc[0].coref_texte  #[:1600]\n",
    "print(txt)"
   ]
  },
  {
   "cell_type": "markdown",
   "id": "43bbaf2f-bd97-421f-8877-2bd691d01168",
   "metadata": {},
   "source": [
    "## Extract information in form of sentences and prototype a pipeline"
   ]
  },
  {
   "cell_type": "code",
   "execution_count": 14,
   "id": "41f335b2-360c-4257-8c58-29b4ca0065c8",
   "metadata": {},
   "outputs": [],
   "source": [
    "text = f\"\"\"Michael Mästlin was born in Göppingen which was a village about 50 km east of Tübingen. Mästlin father, Jakob Mästlin, and Mästlin mother, Dorothea Simon, were both devout Lutherans and Michael was brought up in that faith and remained strongly committed to father throughout Mästlin life. Mästlin was the middle child of the family, having an older sister and a younger brother. Mästlin attended the monastic school in Königsbronn then, after Mästlin studies there, entered Tübingen University in 1568. [3]:-\n",
    "As was the case with many young scholars including Kepler, Mästlin most famous student, [Mästlin ] did Mästlin undergraduate studies at a preparatory school and came to the university to take Mästlin final exams and pick up Mästlin baccalaureate degree.At Tübingen University Mästlin studied mathematics and astronomy for a Master's degree under Philipp Apian who was Peter Apian's son. In 1570, while a student, Mästlin purchased a copy of Copernicus's De revolutionibus from the widow of Victorin Strigel, who had been professor of theology at Leipzig and the author of an astronomy text. Mästlin was awarded a Master 's degree with distinction in 1571. While studying for this degree Mästlin had edited a new edition of the Prutenis Tables which was published in 1571. The Prutenis Tables had been originally compiled by Erasmus Reinhold who had based 1571 on Copernicus's version of the solar system. After graduating, Mästlin spent the following years teaching in Tübingen, and at the same time took [3]:-\n",
    "... the theological programme, because Tübingen University's primary mission was to prepare young men for the Lutheran ministry.Then, in 1576, Mästlin was sent to be a deacon at the Lutheran Church in Backnang, a town about 30 km northwest of Göppingen. Mästlin married Margarete Gruuninger (1551-1588) in April 1577 not long after Mästlin took up the position in Backnang ; 1551 had three sons and three daughters but Margarete died due to complications with the birth of 1551 sixth child. Mästlin then married Margarete Burkhardt, daughter of a professor at Tübingen; 1551 had eight children.\n",
    "Mästlin is famous for Mästlin excellent, very accurate, observations of the comet of 1577, observed while Mästlin was in Backnang, and published in Tübingen in 1578 as Observatio et demonstratio cometae aetherae qui anno 1577 et 1578 constitutus in sphaera Veneris apparuit cum admirandius eius passionibus varietate scilicet motus loco orbe distantia a terro centro etc. adhibitis demonstrationibus geometricis et calculo arithmetico cuius modi de alio quoquam cometa nunquam visa est (Observations and demonstrations of the ethereal comets of the years 1577 and 1578). We discuss this achievement in more detail below. Mästlin remained in Backnang for four years, then was appointed as professor of mathematics at the University of Heidelberg in 1580. There Mästlin published the first edition of Mästlin famous astronomy textbook Epitome astronomiae (1582) - Mästlin published six further editions of this popular work during Mästlin lifetime. Despite Mästlin commitment to the views of Copernicus (which we state below in Mästlin own words) this teaching textbook was written purely as a description of astronomy based on the geocentric model of Ptolemy.\n",
    "After four years in Heidelberg Mästlin returned to Mästlin position in Tübingen where Mästlin spent the rest of Mästlin career [2]:-\n",
    "At Tübingen , Mästlin was elected dean of the arts faculty several times. Mästlin was well liked by both Mästlin colleagues and Mästlin students. Mästlin was very generous both to Mästlin family and to others. Mästlin was a religious man; Mästlin followed the Lutheran line in opposing the Gregorian calendar reform partly because man was initiated by the Pope. Mästlin had several students who became noted mathematicians, the most famous being Kepler. Mästlin also maintained interests in Biblical chronology and geography.Perhaps Mästlin greatest achievement (other than being Kepler 's teacher) is that Mästlin was the first to compute the orbit of a comet, although Mästlin method was not sound. Mästlin found, however, a sun centred orbit for the comet of 1577 which Mästlin claimed supported Copernicus's heliocentric system. Mästlin did show that the comet was further away than the moon, which contradicted the accepted teachings of Aristotle. Although clearly believing in the system as proposed by Copernicus , Mästlin taught astronomy using Mästlin own textbook which was based on Ptolemy's system. However for the more advanced lectures Mästlin adopted the heliocentric approach - Kepler credited Mästlin with introducing Mästlin to Copernican ideas while Mästlin was a student at Tübingen (1589-94). In [6] Methuen looks at these two different world systems in Mästlin 's teaching. A G Molland reviews Methuen 's paper:-\n",
    "Michael Mästlin is regularly ascribed a firm if minor place in accounts of the Astronomical Revolution, as the teacher of Johannes Kepler and as an early believer in the physical reality of the Copernican system. What has been less clear is how this related to Kepler regular teaching at the University of Tübingen, with some having argued that Kepler only taught Copernicanism cautiously and in private. Methuen examines this question in the light of Maestlin's published writings, including five sets of theses over whose disputations (two at Heidelberg, one at Tübingen ) Kepler presided. believer shows that Kepler had no compunction about firmly asserting the supralunar position of the New Star of 1572 and of the comets of 1577 - 1578 and 1580. In general, Kepler writings, especially Kepler textbook 'Epitome astronomiae' of 1582, show no firm Copernican commitment, although there are signs of a leaning in that direction, and Kepler was concerned with emphasizing the interconvertibility of hypotheses. Kepler elementary teaching was certainly based on traditional astronomy, but Methuen concludes that Kepler taught newer material to Kepler more advanced students. Methuen claims that Kepler made a clear distinction between \"spheres\" and \"orbs\", with the former possessing physical reality and the latter being merely useful mathematical constructions ...Mästlin was both a great expert on spherical trigonometry and also a fine observer producing accurate data - the quality of Mästlin eyesight is seen from the fact that Mästlin saw, and sketched the positions of, 11 stars in the Pleiades cluster. Of course there were not any bright city lights around then, but we challenge any reader to equal this achievement however dark a site reader find. Mästlin seems to have been the first to claim that the dark part of the moon shone through sunlight reflected from the earth but Leonardo da Vinci has also been credited with this idea. Another first for Mästlin is an accurate calculation of the golden ratio as \"approximately 0.6180340\" stated in a letter Mästlin wrote to Kepler in 1597.\n",
    "Mästlin was an innovative thinker who was quite prepared to challenge conventional views. For example Mästlin attempted to measure the parallax of a supernova and, having failed to find any, deduced that supernova was as far away as the \"fixed stars\". This of course contradicted the view, held since Aristotle, that all changes in the heavens occurred closer to earth than the realm of the stars which was unchanging.\n",
    "Mästlin lived to see the invention of the telescope for astronomical observations by Galileo. Mästlin had two, rather poor, telescopes with which Mästlin was able to observe sunspots and the moons of Jupiter. Mästlin was still making accurate observations at the age of 78 when Mästlin observed the lunar eclipse of 1628.\n",
    "As we mentioned above Mästlin acquired a copy of Copernicus's De revolutionibus in 1570 and Mästlin wrote extensive notes near the beginning of the book. These give much insight into Mästlin views on Copernicus and we quote the notes using Gingerich's translations. Mästlin wrote that [3]:-\n",
    "... the arrangement presented in this book is the sort of structure in which all the sidereal motions and phenomena are explained very exactly. Therefore this hypothesis recommends hypothesis to the intellect.Mästlin continued:-\n",
    "The heavenly motions were at the point of collapse, and so [Copernicus] concluded that appropriate hypotheses were needed to explain these motions . When Mästlin noticed that the common hypotheses were insufficient, Mästlin eventually accepted the idea of the Earth's mobility, since indeed, idea not only satisfied the phenomena very well but idea didn't lead to anything absurd.\n",
    "In fact, if anyone would straighten out the common hypotheses so that hypotheses would agree with the phenomena and allow no inconsistencies, then I would gratefully trust Mästlin ; clearly Mästlin would bring very many to Mästlin views. But I see that some, even very outstanding mathematicians, have laboured on this yet, in the end, without results. Therefore, I think that unless the common hypotheses are reformed (a task that I am not up to because of my inadequate abilities), I will accept the hypotheses and opinion of Copernicus - after Ptolemy, the prince of all Astronomers.There are further annotations written by Mästlin [3] which are very interesting. On the back of the title page of De revolutionibus is the infamous notice which states that \"... these hypotheses need not be true nor even probable; it is sufficient if the calculations agree with the observations.\" Mästlin adds a note to Mästlin copy stating:- \n",
    "This preface was added by someone, whoever preface author may be, (for indeed, preface weakness of style and choice of words reveal that preface is not by Copernicus).He later added a further note:-\n",
    "I found the following words written somewhere among the books of Philipp Apian (which I bought from Apian widow); although no author was given I could recognise Apian 's hand:\n",
    "On account of this letter Georg Joachim Rheticus, the Leipzig professor and disciple of Copernicus, became involved in a very bitter wrangle with the printer, who asserted that wrangle had been turned over to Rheticus with the rest of the work. Rheticus , however, suspected that Osiander [the proof-reader of Copernicus 's book] had prefaced Copernicus to the work . If professor knew this for certain, professor declared, professor would handle that fellow so that in future professor would mind professor own business and not slander astronomers any more. Nevertheless, [Peter] Apian told me that Osiander had openly admitted to professor that professor had added this all by professor .\n",
    "\"\"\"\n"
   ]
  },
  {
   "cell_type": "code",
   "execution_count": 22,
   "id": "57edec9c-1b86-4108-ae70-63d790d7071b",
   "metadata": {},
   "outputs": [],
   "source": [
    "messages = []\n",
    "\n",
    "# optionnel, permet de définir le comportement que l'assistant doit adopter\n",
    "messages.append({\"role\": \"system\", \"content\": \"You are a NLP application to extract named entities and relations among them from texts\"})\n",
    "\n",
    "# Une question classique qu'on pourrait poser à ChatGPT\n",
    "messages.append({\"role\": \"user\", \"content\": \"Extract all studying and learning activities from following text as structured data\"})\n",
    "\n",
    "messages.append({\"role\": \"assistant\", \"content\": text})\n",
    "\n",
    "\n",
    "# messages.append({\"role\": \"user\", \"content\": \"get all study activities like Kepler studied mathematics at the University of Graz from 1590 and 1598\"})\n",
    "\n",
    "messages.append({\"role\": \"user\", \"content\": \"produce a list of study activities in this form: Michael Mästlin studied mathematics and astronomy at Tübingen University - 1568 to 1571.\"})\n",
    "\n",
    "messages.append({\"role\": \"user\", \"content\": \"produce a list of study activities in this form: Michael Mästlin studied mathematics and astronomy at Tübingen University - 1568 to 1571.\"})\n"
   ]
  },
  {
   "cell_type": "code",
   "execution_count": 24,
   "id": "0bdc9543-db85-4de2-9b58-4699bc34e68a",
   "metadata": {},
   "outputs": [],
   "source": [
    "#messages"
   ]
  },
  {
   "cell_type": "code",
   "execution_count": 25,
   "id": "10a857de-7fca-4d55-a9f4-7f3b4581e9cb",
   "metadata": {},
   "outputs": [],
   "source": [
    "response = openai.ChatCompletion.create(\n",
    "  model=\"gpt-3.5-turbo\", \n",
    "  temperature=0.2,\n",
    "  messages=messages #[{\"role\": \"user\", \"content\": prompt}]\n",
    ")"
   ]
  },
  {
   "cell_type": "code",
   "execution_count": 26,
   "id": "787b8c32-d8ea-4326-bdd1-98d0d6e3d347",
   "metadata": {},
   "outputs": [
    {
     "name": "stdout",
     "output_type": "stream",
     "text": [
      "- Michael Mästlin studied mathematics and astronomy at Tübingen University from 1568 to 1571.\n"
     ]
    }
   ],
   "source": [
    "print(response['choices'][0]['message']['content'])"
   ]
  },
  {
   "cell_type": "code",
   "execution_count": 98,
   "id": "e49c0119-5a43-4d1b-b550-70cf03c5f103",
   "metadata": {},
   "outputs": [],
   "source": [
    "my_openai_obj = list(response.choices)[0]\n",
    "oai_txt = (my_openai_obj.to_dict()['message']['content'])"
   ]
  },
  {
   "cell_type": "code",
   "execution_count": 99,
   "id": "ae9c44ed-24b6-42e0-9840-6b6854197757",
   "metadata": {},
   "outputs": [
    {
     "data": {
      "text/plain": [
       "['Michael Mästlin, was born in Göppingen, around 50 km east of Tübingen. ',\n",
       " 'Mästlin attended the monastic school in Königsbronn and entered Tübingen University in 1568. ',\n",
       " \"Mästlin studied mathematics and astronomy for a Master's degree under Philipp Apian at Tübingen University and was awarded a Master's degree with distinction in 1571. \",\n",
       " 'Mästlin spent the following years teaching in Tübingen and at the same time took the theological program. ',\n",
       " 'In 1576, Mästlin was sent to be a deacon at the Lutheran Church in Backnang. ',\n",
       " 'Mästlin married Margarete Gruuninger in April 1577 and had three sons and three daughters. ',\n",
       " 'Mästlin was appointed as a professor of mathematics at the University of Heidelberg in 1580. ',\n",
       " 'Mästlin returned to Mästlin position in Tübingen after four years in Heidelberg. ',\n",
       " 'Mästlin was elected dean of the arts faculty several times at Tübingen. ',\n",
       " 'Mästlin was the first to compute the orbit of a comet in 1577. ',\n",
       " 'Mästlin published the first edition of Mästlin famous astronomy textbook Epitome astronomiae in 1582. ',\n",
       " 'Mästlin had several students who became noted mathematicians, the most famous being Kepler. ',\n",
       " 'Mästlin was still making accurate observations at the age of 78 when Mästlin observed the lunar eclipse of 1628. ',\n",
       " \"Mästlin acquired a copy of Copernicus's De revolutionibus in 1570 and wrote extensive notes near the beginning of the book.\"]"
      ]
     },
     "execution_count": 99,
     "metadata": {},
     "output_type": "execute_result"
    }
   ],
   "source": [
    "oai_txt.split('\\n')\n",
    "ls"
   ]
  },
  {
   "cell_type": "code",
   "execution_count": null,
   "id": "58fc59a7-645c-4df2-b6f5-c99765366083",
   "metadata": {},
   "outputs": [],
   "source": [
    "messages.append({\"role\": \"user\", \"content\": \"add into json output the original sentence from which you extract the activity of the person\"})\n",
    "        "
   ]
  },
  {
   "cell_type": "code",
   "execution_count": null,
   "id": "7338f27f-96ca-4924-baff-84507df9314f",
   "metadata": {},
   "outputs": [],
   "source": []
  },
  {
   "cell_type": "markdown",
   "id": "a7b364db-32e1-456e-80d4-e36446792a8e",
   "metadata": {},
   "source": [
    "## EntityLinker\n",
    "\n",
    "* https://spacy.io/api/entitylinker\n"
   ]
  },
  {
   "cell_type": "code",
   "execution_count": 69,
   "id": "11e59b18-f59e-4a0c-8196-87f4d7269a13",
   "metadata": {},
   "outputs": [
    {
     "name": "stderr",
     "output_type": "stream",
     "text": [
      "[nltk_data] Downloading package omw-1.4 to\n",
      "[nltk_data]     /home/francesco/nltk_data...\n",
      "[nltk_data]   Package omw-1.4 is already up-to-date!\n",
      "[nltk_data] Downloading package omw-1.4 to\n",
      "[nltk_data]     /home/francesco/nltk_data...\n",
      "[nltk_data]   Package omw-1.4 is already up-to-date!\n"
     ]
    },
    {
     "data": {
      "text/plain": [
       "<spacy_entity_linker.EntityLinker.EntityLinker at 0x7efbed8a3370>"
      ]
     },
     "execution_count": 69,
     "metadata": {},
     "output_type": "execute_result"
    }
   ],
   "source": [
    "nlp = spacy.load('en_core_web_lg')\n",
    "nlp.add_pipe(\"entityLinker\", last=True)"
   ]
  },
  {
   "cell_type": "code",
   "execution_count": null,
   "id": "41f36cf9-ed81-497f-8bc9-158fafe091d5",
   "metadata": {},
   "outputs": [],
   "source": [
    "### Create a Spacy model for the extracted sentences\n",
    "doc = nlp(oai_txt)"
   ]
  },
  {
   "cell_type": "code",
   "execution_count": 73,
   "id": "8acac001-422e-48f8-bfc5-88f200334021",
   "metadata": {
    "scrolled": true,
    "tags": []
   },
   "outputs": [
    {
     "name": "stdout",
     "output_type": "stream",
     "text": [
      "<EntityElement: https://www.wikidata.org/wiki/Q75797 Michael Maestlin          German astronomer and mathematician               >\n",
      "<EntityElement: https://www.wikidata.org/wiki/Q4072 Göppingen                 town in Göppingen District, Stuttgart, Baden-Württemberg, Germany>\n",
      "<EntityElement: https://www.wikidata.org/wiki/Q970 Comoros                   sovereign archipelago island nation in the Indian Ocean>\n",
      "<EntityElement: https://www.wikidata.org/wiki/Q3806 Tübingen                  town in central Baden-Württemberg, Germany        >\n",
      "<EntityElement: https://www.wikidata.org/wiki/Q1640151 Monastic school                                                             >\n",
      "<EntityElement: https://www.wikidata.org/wiki/Q1796326 Königsbronn               municipality in Germany                           >\n",
      "<EntityElement: https://www.wikidata.org/wiki/Q3806 Tübingen                  town in central Baden-Württemberg, Germany        >\n",
      "<EntityElement: https://www.wikidata.org/wiki/Q395 mathematics               science of the structure of abstract objects such as numbers, spaces, functions and relations>\n",
      "<EntityElement: https://www.wikidata.org/wiki/Q3627654 Astronomy                 1998 song performed by Blue Öyster Cult           >\n",
      "<EntityElement: https://www.wikidata.org/wiki/Q189533 academic degree           college or university diploma                     >\n",
      "<EntityElement: https://www.wikidata.org/wiki/Q283586 The Master                2012 film by Paul Thomas Anderson                 >\n",
      "<EntityElement: https://www.wikidata.org/wiki/Q68523 Philipp Apian             German mathematician and cartographer             >\n",
      "<EntityElement: https://www.wikidata.org/wiki/Q3806 Tübingen                  town in central Baden-Württemberg, Germany        >\n",
      "<EntityElement: https://www.wikidata.org/wiki/Q189533 academic degree           college or university diploma                     >\n",
      "<EntityElement: https://www.wikidata.org/wiki/Q283586 The Master                2012 film by Paul Thomas Anderson                 >\n",
      "<EntityElement: https://www.wikidata.org/wiki/Q5282964 distinction               principle under international humanitarian law governing the legal use of force in an armed conflict>\n",
      "<EntityElement: https://www.wikidata.org/wiki/Q577 year                      orbital period of the Earth around the Sun        >\n",
      "<EntityElement: https://www.wikidata.org/wiki/Q3806 Tübingen                  town in central Baden-Württemberg, Germany        >\n",
      "<EntityElement: https://www.wikidata.org/wiki/Q11471 time                      dimension in which events can be ordered from the past through the present into the future>\n",
      "<EntityElement: https://www.wikidata.org/wiki/Q40056 computer program          sequence of instructions written in programming language to perform a specified task with a computer>\n",
      "<EntityElement: https://www.wikidata.org/wiki/Q161944 deacon                    ministry in the Christian Church                  >\n",
      "<EntityElement: https://www.wikidata.org/wiki/Q75809 Lutheranism               branch of Protestantism based on the teachings of Martin Luther>\n",
      "<EntityElement: https://www.wikidata.org/wiki/Q14947 Backnang                  town in Baden-Württemberg, Germany                >\n",
      "<EntityElement: https://www.wikidata.org/wiki/Q745951 Faust                     grand opera in five acts by Charles Gounod        >\n",
      "<EntityElement: https://www.wikidata.org/wiki/Q118 April                     fourth month in the Julian and Gregorian calendars>\n",
      "<EntityElement: https://www.wikidata.org/wiki/Q177232 son                       male offspring; a boy or man in relation to his parents>\n",
      "<EntityElement: https://www.wikidata.org/wiki/Q308194 daughter                  female offspring; a girl or woman in relation to her parents>\n",
      "<EntityElement: https://www.wikidata.org/wiki/Q121594 professor                 academic title at universities and other education and research institutions>\n",
      "<EntityElement: https://www.wikidata.org/wiki/Q395 mathematics               science of the structure of abstract objects such as numbers, spaces, functions and relations>\n",
      "<EntityElement: https://www.wikidata.org/wiki/Q151510 Heidelberg University     public research university in Heidelberg, Baden-Württemberg, Germany>\n",
      "<EntityElement: https://www.wikidata.org/wiki/Q2966 Heidelberg                city in Baden-Württemberg, Germany                >\n",
      "<EntityElement: https://www.wikidata.org/wiki/Q11488158 corporate title           job title given to company and organization officials to show what duties and responsibilities they >\n",
      "<EntityElement: https://www.wikidata.org/wiki/Q3806 Tübingen                  town in central Baden-Württemberg, Germany        >\n",
      "<EntityElement: https://www.wikidata.org/wiki/Q577 year                      orbital period of the Earth around the Sun        >\n",
      "<EntityElement: https://www.wikidata.org/wiki/Q2966 Heidelberg                city in Baden-Württemberg, Germany                >\n",
      "<EntityElement: https://www.wikidata.org/wiki/Q723682 dean                      in academics, a person with significant authority over a specific academic unit>\n",
      "<EntityElement: https://www.wikidata.org/wiki/Q735 art                       what has emotional or aesthetic appeal            >\n",
      "<EntityElement: https://www.wikidata.org/wiki/Q11471 time                      dimension in which events can be ordered from the past through the present into the future>\n",
      "<EntityElement: https://www.wikidata.org/wiki/Q3806 Tübingen                  town in central Baden-Württemberg, Germany        >\n",
      "<EntityElement: https://www.wikidata.org/wiki/Q4130 orbit                     gravitationally curved path of an object around a point in outer space; circular or elliptical path >\n",
      "<EntityElement: https://www.wikidata.org/wiki/Q3559 comet                     icy small Solar System body                       >\n",
      "<EntityElement: https://www.wikidata.org/wiki/Q1249682 editio princeps           in classical scholarship, first printed edition of the work, that previously had existed only in man>\n",
      "<EntityElement: https://www.wikidata.org/wiki/Q83790 textbook                  educational book                                  >\n",
      "<EntityElement: https://www.wikidata.org/wiki/Q5383731 Epitome                   1953 film by Kaneto Shindō                        >\n",
      "<EntityElement: https://www.wikidata.org/wiki/Q48282 student                   learner, or someone who attends an educational institution>\n",
      "<EntityElement: https://www.wikidata.org/wiki/Q170790 mathematician             person with an extensive knowledge of mathematics >\n",
      "<EntityElement: https://www.wikidata.org/wiki/Q8963 Johannes Kepler           German mathematician, astronomer and astrologer   >\n",
      "<EntityElement: https://www.wikidata.org/wiki/Q334401 surveillance              monitoring of behavior, activities, or other changing information>\n",
      "<EntityElement: https://www.wikidata.org/wiki/Q779974 precipitation hardening   Precipitation Hardening                           >\n",
      "<EntityElement: https://www.wikidata.org/wiki/Q44235 lunar eclipse             when the Moon passes directly behind the Earth    >\n",
      "<EntityElement: https://www.wikidata.org/wiki/Q1394397 COPY                      command of RT-11, RSX-11, OpenVMS, DOS, OS/2 and Microsoft Windows operating systems>\n",
      "<EntityElement: https://www.wikidata.org/wiki/Q845981 De revolutionibus orbium coelestium book by Copernicus                                >\n",
      "<EntityElement: https://www.wikidata.org/wiki/Q619 Nicolaus Copernicus       Renaissance mathematician, Polish astronomer, physician>\n",
      "<EntityElement: https://www.wikidata.org/wiki/Q263478 note                      sign used in musical notation, a pitched sound    >\n",
      "<EntityElement: https://www.wikidata.org/wiki/Q48699689 Beginning                 play                                              >\n",
      "<EntityElement: https://www.wikidata.org/wiki/Q571 book                      medium for a collection of words and/or pictures to represent knowledge or a fictional story, often >\n"
     ]
    }
   ],
   "source": [
    "all_linked_entities = doc._.linkedEntities\n",
    "for sent in doc.sents:\n",
    "    sent._.linkedEntities.pretty_print()"
   ]
  },
  {
   "cell_type": "markdown",
   "id": "bd7b837f-66c8-4f24-ba48-76e0a4ea5b69",
   "metadata": {},
   "source": [
    "### Explore Spacy model"
   ]
  },
  {
   "cell_type": "code",
   "execution_count": 74,
   "id": "affe5c14-8e6f-4160-8016-f362d583b631",
   "metadata": {},
   "outputs": [],
   "source": [
    "info = []\n",
    "for token in doc:\n",
    "    info.append((token.idx, token.ent_id_,token.text, token.lemma_, token.pos_, token.tag_, token.dep_,\n",
    "                token.shape_, token.is_alpha, token.is_stop, token.tag_, token.vector[:1]))\n",
    "tx_df  = pd.DataFrame(info, columns = [\"idx\", \"ent_id_\",\"text\", \"lemma_\", \"pos_\", \"tag_\", \"dep_\",\"shape_\", \"is_alpha\", \"is_stop\", \"tag_\", \"vector\"])"
   ]
  },
  {
   "cell_type": "code",
   "execution_count": 75,
   "id": "1e0b8a23-6fba-414e-8072-8214da8dca37",
   "metadata": {
    "tags": []
   },
   "outputs": [
    {
     "data": {
      "text/html": [
       "<style>.itables table td {\n",
       "    text-overflow: ellipsis;\n",
       "    overflow: hidden;\n",
       "}\n",
       "\n",
       ".itables table th {\n",
       "    text-overflow: ellipsis;\n",
       "    overflow: hidden;\n",
       "}\n",
       "\n",
       ".itables thead input {\n",
       "    width: 100%;\n",
       "    padding: 3px;\n",
       "    box-sizing: border-box;\n",
       "}\n",
       "\n",
       ".itables tfoot input {\n",
       "    width: 100%;\n",
       "    padding: 3px;\n",
       "    box-sizing: border-box;\n",
       "}\n",
       "</style>\n",
       "<div class=\"itables\">\n",
       "<table id=\"ad0429c7-fd23-4881-a6ff-9f92fd615769\" class=\"display\"style=\"table-layout:auto;width:auto;margin:auto;caption-side:bottom\"><thead>\n",
       "    <tr style=\"text-align: right;\">\n",
       "      \n",
       "      <th>idx</th>\n",
       "      <th>ent_id_</th>\n",
       "      <th>text</th>\n",
       "      <th>lemma_</th>\n",
       "      <th>pos_</th>\n",
       "      <th>tag_</th>\n",
       "      <th>dep_</th>\n",
       "      <th>shape_</th>\n",
       "      <th>is_alpha</th>\n",
       "      <th>is_stop</th>\n",
       "      <th>tag_</th>\n",
       "      <th>vector</th>\n",
       "    </tr>\n",
       "  </thead><tbody><tr><td>Loading... (need <a href=https://mwouts.github.io/itables/troubleshooting.html>help</a>?)</td></tr></tbody><tfoot><th>idx</th><th>ent_id_</th><th>text</th><th>lemma_</th><th>pos_</th><th>tag_</th><th>dep_</th><th>shape_</th><th>is_alpha</th><th>is_stop</th><th>tag_</th><th>vector</th></tfoot></table>\n",
       "<link rel=\"stylesheet\" type=\"text/css\" href=\"https://cdn.datatables.net/1.13.1/css/jquery.dataTables.min.css\">\n",
       "<script type=\"module\">\n",
       "    // Import jquery and DataTable\n",
       "    import 'https://code.jquery.com/jquery-3.6.0.min.js';\n",
       "    import dt from 'https://cdn.datatables.net/1.12.1/js/jquery.dataTables.mjs';\n",
       "    dt($);\n",
       "\n",
       "    // Define the table data\n",
       "    const data = [[0, \"\", \"Michael\", \"Michael\", \"PROPN\", \"NNP\", \"compound\", \"Xxxxx\", true, false, \"NNP\", \"[-0.2502]\"], [8, \"\", \"M\\u00e4stlin\", \"M\\u00e4stlin\", \"PROPN\", \"NNP\", \"nsubjpass\", \"Xxxxx\", true, false, \"NNP\", \"[0.0]\"], [15, \"\", \",\", \",\", \"PUNCT\", \",\", \"punct\", \",\", false, false, \",\", \"[-0.082752]\"], [17, \"\", \"was\", \"be\", \"AUX\", \"VBD\", \"auxpass\", \"xxx\", true, true, \"VBD\", \"[-0.044058]\"], [21, \"\", \"born\", \"bear\", \"VERB\", \"VBN\", \"ROOT\", \"xxxx\", true, false, \"VBN\", \"[0.18677]\"], [26, \"\", \"in\", \"in\", \"ADP\", \"IN\", \"prep\", \"xx\", true, true, \"IN\", \"[0.089187]\"], [29, \"\", \"G\\u00f6ppingen\", \"G\\u00f6ppingen\", \"PROPN\", \"NNP\", \"pobj\", \"Xxxxx\", true, false, \"NNP\", \"[0.0]\"], [38, \"\", \",\", \",\", \"PUNCT\", \",\", \"punct\", \",\", false, false, \",\", \"[-0.082752]\"], [40, \"\", \"around\", \"around\", \"ADV\", \"RB\", \"advmod\", \"xxxx\", true, true, \"RB\", \"[0.12713]\"], [47, \"\", \"50\", \"50\", \"NUM\", \"CD\", \"nummod\", \"dd\", false, false, \"CD\", \"[-0.0042845]\"], [50, \"\", \"km\", \"km\", \"NOUN\", \"NN\", \"npadvmod\", \"xx\", true, false, \"NN\", \"[1.0443]\"], [53, \"\", \"east\", \"east\", \"ADV\", \"RB\", \"advmod\", \"xxxx\", true, false, \"RB\", \"[0.31214]\"], [58, \"\", \"of\", \"of\", \"ADP\", \"IN\", \"prep\", \"xx\", true, true, \"IN\", \"[0.060216]\"], [61, \"\", \"T\\u00fcbingen\", \"T\\u00fcbingen\", \"PROPN\", \"NNP\", \"pobj\", \"Xxxxx\", true, false, \"NNP\", \"[0.0]\"], [69, \"\", \".\", \".\", \"PUNCT\", \".\", \"punct\", \".\", false, false, \".\", \"[0.012001]\"], [71, \"\", \"\\\\n\", \"\\\\n\", \"SPACE\", \"_SP\", \"ROOT\", \"\\\\n\", false, false, \"_SP\", \"[0.0]\"], [72, \"\", \"M\\u00e4stlin\", \"M\\u00e4stlin\", \"PROPN\", \"NNP\", \"nsubj\", \"Xxxxx\", true, false, \"NNP\", \"[0.0]\"], [80, \"\", \"attended\", \"attend\", \"VERB\", \"VBD\", \"ROOT\", \"xxxx\", true, false, \"VBD\", \"[0.55382]\"], [89, \"\", \"the\", \"the\", \"DET\", \"DT\", \"det\", \"xxx\", true, true, \"DT\", \"[0.27204]\"], [93, \"\", \"monastic\", \"monastic\", \"ADJ\", \"JJ\", \"amod\", \"xxxx\", true, false, \"JJ\", \"[0.8674]\"], [102, \"\", \"school\", \"school\", \"NOUN\", \"NN\", \"dobj\", \"xxxx\", true, false, \"NN\", \"[0.10231]\"], [109, \"\", \"in\", \"in\", \"ADP\", \"IN\", \"prep\", \"xx\", true, true, \"IN\", \"[0.089187]\"], [112, \"\", \"K\\u00f6nigsbronn\", \"K\\u00f6nigsbronn\", \"PROPN\", \"NNP\", \"pobj\", \"Xxxxx\", true, false, \"NNP\", \"[0.0]\"], [124, \"\", \"and\", \"and\", \"CCONJ\", \"CC\", \"cc\", \"xxx\", true, true, \"CC\", \"[-0.18567]\"], [128, \"\", \"entered\", \"enter\", \"VERB\", \"VBD\", \"conj\", \"xxxx\", true, false, \"VBD\", \"[0.9146]\"], [136, \"\", \"T\\u00fcbingen\", \"T\\u00fcbingen\", \"PROPN\", \"NNP\", \"compound\", \"Xxxxx\", true, false, \"NNP\", \"[0.0]\"], [145, \"\", \"University\", \"University\", \"PROPN\", \"NNP\", \"dobj\", \"Xxxxx\", true, false, \"NNP\", \"[0.36829]\"], [156, \"\", \"in\", \"in\", \"ADP\", \"IN\", \"prep\", \"xx\", true, true, \"IN\", \"[0.089187]\"], [159, \"\", \"1568\", \"1568\", \"NUM\", \"CD\", \"pobj\", \"dddd\", false, false, \"CD\", \"[0.049003]\"], [163, \"\", \".\", \".\", \"PUNCT\", \".\", \"punct\", \".\", false, false, \".\", \"[0.012001]\"], [165, \"\", \"\\\\n\", \"\\\\n\", \"SPACE\", \"_SP\", \"compound\", \"\\\\n\", false, false, \"_SP\", \"[0.0]\"], [166, \"\", \"M\\u00e4stlin\", \"M\\u00e4stlin\", \"PROPN\", \"NNP\", \"nsubj\", \"Xxxxx\", true, false, \"NNP\", \"[0.0]\"], [174, \"\", \"studied\", \"study\", \"VERB\", \"VBD\", \"ROOT\", \"xxxx\", true, false, \"VBD\", \"[0.12355]\"], [182, \"\", \"mathematics\", \"mathematic\", \"NOUN\", \"NNS\", \"dobj\", \"xxxx\", true, false, \"NNS\", \"[0.19227]\"], [194, \"\", \"and\", \"and\", \"CCONJ\", \"CC\", \"cc\", \"xxx\", true, true, \"CC\", \"[-0.18567]\"], [198, \"\", \"astronomy\", \"astronomy\", \"NOUN\", \"NN\", \"conj\", \"xxxx\", true, false, \"NN\", \"[-0.043286]\"], [208, \"\", \"for\", \"for\", \"ADP\", \"IN\", \"prep\", \"xxx\", true, true, \"IN\", \"[-0.17224]\"], [212, \"\", \"a\", \"a\", \"DET\", \"DT\", \"det\", \"x\", true, true, \"DT\", \"[0.043798]\"], [214, \"\", \"Master\", \"Master\", \"PROPN\", \"NNP\", \"poss\", \"Xxxxx\", true, false, \"NNP\", \"[0.26544]\"], [220, \"\", \"'s\", \"'s\", \"PART\", \"POS\", \"case\", \"'x\", false, true, \"POS\", \"[-0.06858]\"], [223, \"\", \"degree\", \"degree\", \"NOUN\", \"NN\", \"pobj\", \"xxxx\", true, false, \"NN\", \"[0.15027]\"], [230, \"\", \"under\", \"under\", \"ADP\", \"IN\", \"prep\", \"xxxx\", true, true, \"IN\", \"[0.14631]\"], [236, \"\", \"Philipp\", \"Philipp\", \"PROPN\", \"NNP\", \"compound\", \"Xxxxx\", true, false, \"NNP\", \"[-0.11712]\"], [244, \"\", \"Apian\", \"Apian\", \"PROPN\", \"NNP\", \"pobj\", \"Xxxxx\", true, false, \"NNP\", \"[0.0]\"], [250, \"\", \"at\", \"at\", \"ADP\", \"IN\", \"prep\", \"xx\", true, true, \"IN\", \"[-0.36769]\"], [253, \"\", \"T\\u00fcbingen\", \"T\\u00fcbingen\", \"PROPN\", \"NNP\", \"compound\", \"Xxxxx\", true, false, \"NNP\", \"[0.0]\"], [262, \"\", \"University\", \"University\", \"PROPN\", \"NNP\", \"pobj\", \"Xxxxx\", true, false, \"NNP\", \"[0.36829]\"], [273, \"\", \"and\", \"and\", \"CCONJ\", \"CC\", \"cc\", \"xxx\", true, true, \"CC\", \"[-0.18567]\"], [277, \"\", \"was\", \"be\", \"AUX\", \"VBD\", \"auxpass\", \"xxx\", true, true, \"VBD\", \"[-0.044058]\"], [281, \"\", \"awarded\", \"award\", \"VERB\", \"VBN\", \"conj\", \"xxxx\", true, false, \"VBN\", \"[-0.3592]\"], [289, \"\", \"a\", \"a\", \"DET\", \"DT\", \"det\", \"x\", true, true, \"DT\", \"[0.043798]\"], [291, \"\", \"Master\", \"Master\", \"PROPN\", \"NNP\", \"poss\", \"Xxxxx\", true, false, \"NNP\", \"[0.26544]\"], [297, \"\", \"'s\", \"'s\", \"PART\", \"POS\", \"case\", \"'x\", false, true, \"POS\", \"[-0.06858]\"], [300, \"\", \"degree\", \"degree\", \"NOUN\", \"NN\", \"dobj\", \"xxxx\", true, false, \"NN\", \"[0.15027]\"], [307, \"\", \"with\", \"with\", \"ADP\", \"IN\", \"prep\", \"xxxx\", true, true, \"IN\", \"[-0.099534]\"], [312, \"\", \"distinction\", \"distinction\", \"NOUN\", \"NN\", \"pobj\", \"xxxx\", true, false, \"NN\", \"[-0.082122]\"], [324, \"\", \"in\", \"in\", \"ADP\", \"IN\", \"prep\", \"xx\", true, true, \"IN\", \"[0.089187]\"], [327, \"\", \"1571\", \"1571\", \"NUM\", \"CD\", \"pobj\", \"dddd\", false, false, \"CD\", \"[0.082399]\"], [331, \"\", \".\", \".\", \"PUNCT\", \".\", \"punct\", \".\", false, false, \".\", \"[0.012001]\"], [333, \"\", \"\\\\n\", \"\\\\n\", \"SPACE\", \"_SP\", \"intj\", \"\\\\n\", false, false, \"_SP\", \"[0.0]\"], [334, \"\", \"M\\u00e4stlin\", \"M\\u00e4stlin\", \"PROPN\", \"NNP\", \"nsubj\", \"Xxxxx\", true, false, \"NNP\", \"[0.0]\"], [342, \"\", \"spent\", \"spend\", \"VERB\", \"VBD\", \"ROOT\", \"xxxx\", true, false, \"VBD\", \"[0.23493]\"], [348, \"\", \"the\", \"the\", \"DET\", \"DT\", \"det\", \"xxx\", true, true, \"DT\", \"[0.27204]\"], [352, \"\", \"following\", \"following\", \"ADJ\", \"JJ\", \"amod\", \"xxxx\", true, false, \"JJ\", \"[0.13352]\"], [362, \"\", \"years\", \"year\", \"NOUN\", \"NNS\", \"dobj\", \"xxxx\", true, false, \"NNS\", \"[0.15383]\"], [368, \"\", \"teaching\", \"teach\", \"VERB\", \"VBG\", \"xcomp\", \"xxxx\", true, false, \"VBG\", \"[0.015305]\"], [377, \"\", \"in\", \"in\", \"ADP\", \"IN\", \"prep\", \"xx\", true, true, \"IN\", \"[0.089187]\"], [380, \"\", \"T\\u00fcbingen\", \"T\\u00fcbingen\", \"PROPN\", \"NNP\", \"pobj\", \"Xxxxx\", true, false, \"NNP\", \"[0.0]\"], [389, \"\", \"and\", \"and\", \"CCONJ\", \"CC\", \"cc\", \"xxx\", true, true, \"CC\", \"[-0.18567]\"], [393, \"\", \"at\", \"at\", \"ADP\", \"IN\", \"prep\", \"xx\", true, true, \"IN\", \"[-0.36769]\"], [396, \"\", \"the\", \"the\", \"DET\", \"DT\", \"det\", \"xxx\", true, true, \"DT\", \"[0.27204]\"], [400, \"\", \"same\", \"same\", \"ADJ\", \"JJ\", \"amod\", \"xxxx\", true, true, \"JJ\", \"[0.025135]\"], [405, \"\", \"time\", \"time\", \"NOUN\", \"NN\", \"pobj\", \"xxxx\", true, false, \"NN\", \"[0.17243]\"], [410, \"\", \"took\", \"take\", \"VERB\", \"VBD\", \"conj\", \"xxxx\", true, false, \"VBD\", \"[0.2112]\"], [415, \"\", \"the\", \"the\", \"DET\", \"DT\", \"det\", \"xxx\", true, true, \"DT\", \"[0.27204]\"], [419, \"\", \"theological\", \"theological\", \"ADJ\", \"JJ\", \"amod\", \"xxxx\", true, false, \"JJ\", \"[-0.10194]\"], [431, \"\", \"program\", \"program\", \"NOUN\", \"NN\", \"dobj\", \"xxxx\", true, false, \"NN\", \"[-0.11602]\"], [438, \"\", \".\", \".\", \"PUNCT\", \".\", \"punct\", \".\", false, false, \".\", \"[0.012001]\"], [440, \"\", \"\\\\n\", \"\\\\n\", \"SPACE\", \"_SP\", \"ROOT\", \"\\\\n\", false, false, \"_SP\", \"[0.0]\"], [441, \"\", \"In\", \"in\", \"ADP\", \"IN\", \"prep\", \"Xx\", true, true, \"IN\", \"[0.089187]\"], [444, \"\", \"1576\", \"1576\", \"NUM\", \"CD\", \"pobj\", \"dddd\", false, false, \"CD\", \"[-0.28829]\"], [448, \"\", \",\", \",\", \"PUNCT\", \",\", \"punct\", \",\", false, false, \",\", \"[-0.082752]\"], [450, \"\", \"M\\u00e4stlin\", \"M\\u00e4stlin\", \"PROPN\", \"NNP\", \"nsubjpass\", \"Xxxxx\", true, false, \"NNP\", \"[0.0]\"], [458, \"\", \"was\", \"be\", \"AUX\", \"VBD\", \"auxpass\", \"xxx\", true, true, \"VBD\", \"[-0.044058]\"], [462, \"\", \"sent\", \"send\", \"VERB\", \"VBN\", \"ROOT\", \"xxxx\", true, false, \"VBN\", \"[0.081275]\"], [467, \"\", \"to\", \"to\", \"PART\", \"TO\", \"aux\", \"xx\", true, true, \"TO\", \"[0.31924]\"], [470, \"\", \"be\", \"be\", \"VERB\", \"VB\", \"advcl\", \"xx\", true, true, \"VB\", \"[-0.059177]\"], [473, \"\", \"a\", \"a\", \"DET\", \"DT\", \"det\", \"x\", true, true, \"DT\", \"[0.043798]\"], [475, \"\", \"deacon\", \"deacon\", \"NOUN\", \"NN\", \"attr\", \"xxxx\", true, false, \"NN\", \"[0.039001]\"], [482, \"\", \"at\", \"at\", \"ADP\", \"IN\", \"prep\", \"xx\", true, true, \"IN\", \"[-0.36769]\"], [485, \"\", \"the\", \"the\", \"DET\", \"DT\", \"det\", \"xxx\", true, true, \"DT\", \"[0.27204]\"], [489, \"\", \"Lutheran\", \"Lutheran\", \"PROPN\", \"NNP\", \"compound\", \"Xxxxx\", true, false, \"NNP\", \"[-0.074021]\"], [498, \"\", \"Church\", \"Church\", \"PROPN\", \"NNP\", \"pobj\", \"Xxxxx\", true, false, \"NNP\", \"[0.13554]\"], [505, \"\", \"in\", \"in\", \"ADP\", \"IN\", \"prep\", \"xx\", true, true, \"IN\", \"[0.089187]\"], [508, \"\", \"Backnang\", \"Backnang\", \"PROPN\", \"NNP\", \"pobj\", \"Xxxxx\", true, false, \"NNP\", \"[0.0]\"], [516, \"\", \".\", \".\", \"PUNCT\", \".\", \"punct\", \".\", false, false, \".\", \"[0.012001]\"], [518, \"\", \"\\\\n\", \"\\\\n\", \"SPACE\", \"_SP\", \"ROOT\", \"\\\\n\", false, false, \"_SP\", \"[0.0]\"], [519, \"\", \"M\\u00e4stlin\", \"M\\u00e4stlin\", \"PROPN\", \"NNP\", \"nsubj\", \"Xxxxx\", true, false, \"NNP\", \"[0.0]\"], [527, \"\", \"married\", \"marry\", \"VERB\", \"VBD\", \"ROOT\", \"xxxx\", true, false, \"VBD\", \"[0.19925]\"], [535, \"\", \"Margarete\", \"Margarete\", \"PROPN\", \"NNP\", \"compound\", \"Xxxxx\", true, false, \"NNP\", \"[0.0]\"], [545, \"\", \"Gruuninger\", \"Gruuninger\", \"PROPN\", \"NNP\", \"dobj\", \"Xxxxx\", true, false, \"NNP\", \"[0.0]\"], [556, \"\", \"in\", \"in\", \"ADP\", \"IN\", \"prep\", \"xx\", true, true, \"IN\", \"[0.089187]\"], [559, \"\", \"April\", \"April\", \"PROPN\", \"NNP\", \"pobj\", \"Xxxxx\", true, false, \"NNP\", \"[-0.3187]\"], [565, \"\", \"1577\", \"1577\", \"NUM\", \"CD\", \"nummod\", \"dddd\", false, false, \"CD\", \"[-0.048789]\"], [570, \"\", \"and\", \"and\", \"CCONJ\", \"CC\", \"cc\", \"xxx\", true, true, \"CC\", \"[-0.18567]\"], [574, \"\", \"had\", \"have\", \"VERB\", \"VBD\", \"conj\", \"xxx\", true, true, \"VBD\", \"[0.086301]\"], [578, \"\", \"three\", \"three\", \"NUM\", \"CD\", \"nummod\", \"xxxx\", true, true, \"CD\", \"[0.094863]\"], [584, \"\", \"sons\", \"son\", \"NOUN\", \"NNS\", \"dobj\", \"xxxx\", true, false, \"NNS\", \"[-0.24571]\"], [589, \"\", \"and\", \"and\", \"CCONJ\", \"CC\", \"cc\", \"xxx\", true, true, \"CC\", \"[-0.18567]\"], [593, \"\", \"three\", \"three\", \"NUM\", \"CD\", \"nummod\", \"xxxx\", true, true, \"CD\", \"[0.094863]\"], [599, \"\", \"daughters\", \"daughter\", \"NOUN\", \"NNS\", \"conj\", \"xxxx\", true, false, \"NNS\", \"[-0.12023]\"], [608, \"\", \".\", \".\", \"PUNCT\", \".\", \"punct\", \".\", false, false, \".\", \"[0.012001]\"], [610, \"\", \"\\\\n\", \"\\\\n\", \"SPACE\", \"_SP\", \"punct\", \"\\\\n\", false, false, \"_SP\", \"[0.0]\"], [611, \"\", \"M\\u00e4stlin\", \"M\\u00e4stlin\", \"PROPN\", \"NNP\", \"nsubjpass\", \"Xxxxx\", true, false, \"NNP\", \"[0.0]\"], [619, \"\", \"was\", \"be\", \"AUX\", \"VBD\", \"auxpass\", \"xxx\", true, true, \"VBD\", \"[-0.044058]\"], [623, \"\", \"appointed\", \"appoint\", \"VERB\", \"VBN\", \"ROOT\", \"xxxx\", true, false, \"VBN\", \"[0.74743]\"], [633, \"\", \"as\", \"as\", \"ADP\", \"IN\", \"prep\", \"xx\", true, true, \"IN\", \"[-0.10648]\"], [636, \"\", \"a\", \"a\", \"DET\", \"DT\", \"det\", \"x\", true, true, \"DT\", \"[0.043798]\"], [638, \"\", \"professor\", \"professor\", \"NOUN\", \"NN\", \"pobj\", \"xxxx\", true, false, \"NN\", \"[-0.18812]\"], [648, \"\", \"of\", \"of\", \"ADP\", \"IN\", \"prep\", \"xx\", true, true, \"IN\", \"[0.060216]\"], [651, \"\", \"mathematics\", \"mathematic\", \"NOUN\", \"NNS\", \"pobj\", \"xxxx\", true, false, \"NNS\", \"[0.19227]\"], [663, \"\", \"at\", \"at\", \"ADP\", \"IN\", \"prep\", \"xx\", true, true, \"IN\", \"[-0.36769]\"], [666, \"\", \"the\", \"the\", \"DET\", \"DT\", \"det\", \"xxx\", true, true, \"DT\", \"[0.27204]\"], [670, \"\", \"University\", \"University\", \"PROPN\", \"NNP\", \"pobj\", \"Xxxxx\", true, false, \"NNP\", \"[0.36829]\"], [681, \"\", \"of\", \"of\", \"ADP\", \"IN\", \"prep\", \"xx\", true, true, \"IN\", \"[0.060216]\"], [684, \"\", \"Heidelberg\", \"Heidelberg\", \"PROPN\", \"NNP\", \"pobj\", \"Xxxxx\", true, false, \"NNP\", \"[-0.059171]\"], [695, \"\", \"in\", \"in\", \"ADP\", \"IN\", \"prep\", \"xx\", true, true, \"IN\", \"[0.089187]\"], [698, \"\", \"1580\", \"1580\", \"NUM\", \"CD\", \"pobj\", \"dddd\", false, false, \"CD\", \"[-0.32655]\"], [702, \"\", \".\", \".\", \"PUNCT\", \".\", \"punct\", \".\", false, false, \".\", \"[0.012001]\"], [704, \"\", \"\\\\n\", \"\\\\n\", \"SPACE\", \"_SP\", \"compound\", \"\\\\n\", false, false, \"_SP\", \"[0.0]\"], [705, \"\", \"M\\u00e4stlin\", \"M\\u00e4stlin\", \"PROPN\", \"NNP\", \"nsubj\", \"Xxxxx\", true, false, \"NNP\", \"[0.0]\"], [713, \"\", \"returned\", \"return\", \"VERB\", \"VBD\", \"ROOT\", \"xxxx\", true, false, \"VBD\", \"[0.62374]\"], [722, \"\", \"to\", \"to\", \"ADP\", \"IN\", \"prep\", \"xx\", true, true, \"IN\", \"[0.31924]\"], [725, \"\", \"M\\u00e4stlin\", \"M\\u00e4stlin\", \"PROPN\", \"NNP\", \"compound\", \"Xxxxx\", true, false, \"NNP\", \"[0.0]\"], [733, \"\", \"position\", \"position\", \"NOUN\", \"NN\", \"pobj\", \"xxxx\", true, false, \"NN\", \"[0.34314]\"], [742, \"\", \"in\", \"in\", \"ADP\", \"IN\", \"prep\", \"xx\", true, true, \"IN\", \"[0.089187]\"], [745, \"\", \"T\\u00fcbingen\", \"T\\u00fcbingen\", \"PROPN\", \"NNP\", \"pobj\", \"Xxxxx\", true, false, \"NNP\", \"[0.0]\"], [754, \"\", \"after\", \"after\", \"ADP\", \"IN\", \"prep\", \"xxxx\", true, true, \"IN\", \"[0.2069]\"], [760, \"\", \"four\", \"four\", \"NUM\", \"CD\", \"nummod\", \"xxxx\", true, true, \"CD\", \"[0.24236]\"], [765, \"\", \"years\", \"year\", \"NOUN\", \"NNS\", \"pobj\", \"xxxx\", true, false, \"NNS\", \"[0.15383]\"], [771, \"\", \"in\", \"in\", \"ADP\", \"IN\", \"prep\", \"xx\", true, true, \"IN\", \"[0.089187]\"], [774, \"\", \"Heidelberg\", \"Heidelberg\", \"PROPN\", \"NNP\", \"pobj\", \"Xxxxx\", true, false, \"NNP\", \"[-0.059171]\"], [784, \"\", \".\", \".\", \"PUNCT\", \".\", \"punct\", \".\", false, false, \".\", \"[0.012001]\"], [786, \"\", \"\\\\n\", \"\\\\n\", \"SPACE\", \"_SP\", \"nsubjpass\", \"\\\\n\", false, false, \"_SP\", \"[0.0]\"], [787, \"\", \"M\\u00e4stlin\", \"M\\u00e4stlin\", \"PROPN\", \"NNP\", \"nsubjpass\", \"Xxxxx\", true, false, \"NNP\", \"[0.0]\"], [795, \"\", \"was\", \"be\", \"AUX\", \"VBD\", \"auxpass\", \"xxx\", true, true, \"VBD\", \"[-0.044058]\"], [799, \"\", \"elected\", \"elect\", \"VERB\", \"VBN\", \"ROOT\", \"xxxx\", true, false, \"VBN\", \"[0.2562]\"], [807, \"\", \"dean\", \"dean\", \"NOUN\", \"NN\", \"oprd\", \"xxxx\", true, false, \"NN\", \"[0.047602]\"], [812, \"\", \"of\", \"of\", \"ADP\", \"IN\", \"prep\", \"xx\", true, true, \"IN\", \"[0.060216]\"], [815, \"\", \"the\", \"the\", \"DET\", \"DT\", \"det\", \"xxx\", true, true, \"DT\", \"[0.27204]\"], [819, \"\", \"arts\", \"art\", \"NOUN\", \"NNS\", \"compound\", \"xxxx\", true, false, \"NNS\", \"[0.22793]\"], [824, \"\", \"faculty\", \"faculty\", \"NOUN\", \"NN\", \"pobj\", \"xxxx\", true, false, \"NN\", \"[0.23443]\"], [832, \"\", \"several\", \"several\", \"ADJ\", \"JJ\", \"amod\", \"xxxx\", true, true, \"JJ\", \"[0.1433]\"], [840, \"\", \"times\", \"time\", \"NOUN\", \"NNS\", \"npadvmod\", \"xxxx\", true, false, \"NNS\", \"[-0.042473]\"], [846, \"\", \"at\", \"at\", \"ADP\", \"IN\", \"prep\", \"xx\", true, true, \"IN\", \"[-0.36769]\"], [849, \"\", \"T\\u00fcbingen\", \"T\\u00fcbingen\", \"PROPN\", \"NNP\", \"pobj\", \"Xxxxx\", true, false, \"NNP\", \"[0.0]\"], [857, \"\", \".\", \".\", \"PUNCT\", \".\", \"punct\", \".\", false, false, \".\", \"[0.012001]\"], [859, \"\", \"\\\\n\", \"\\\\n\", \"SPACE\", \"_SP\", \"dep\", \"\\\\n\", false, false, \"_SP\", \"[0.0]\"], [860, \"\", \"M\\u00e4stlin\", \"M\\u00e4stlin\", \"PROPN\", \"NNP\", \"nsubj\", \"Xxxxx\", true, false, \"NNP\", \"[0.0]\"], [868, \"\", \"was\", \"be\", \"AUX\", \"VBD\", \"ROOT\", \"xxx\", true, true, \"VBD\", \"[-0.044058]\"], [872, \"\", \"the\", \"the\", \"DET\", \"DT\", \"det\", \"xxx\", true, true, \"DT\", \"[0.27204]\"], [876, \"\", \"first\", \"first\", \"ADJ\", \"JJ\", \"attr\", \"xxxx\", true, true, \"JJ\", \"[0.2998]\"], [882, \"\", \"to\", \"to\", \"PART\", \"TO\", \"aux\", \"xx\", true, true, \"TO\", \"[0.31924]\"], [885, \"\", \"compute\", \"compute\", \"VERB\", \"VB\", \"relcl\", \"xxxx\", true, false, \"VB\", \"[-0.10616]\"], [893, \"\", \"the\", \"the\", \"DET\", \"DT\", \"det\", \"xxx\", true, true, \"DT\", \"[0.27204]\"], [897, \"\", \"orbit\", \"orbit\", \"NOUN\", \"NN\", \"dobj\", \"xxxx\", true, false, \"NN\", \"[0.030608]\"], [903, \"\", \"of\", \"of\", \"ADP\", \"IN\", \"prep\", \"xx\", true, true, \"IN\", \"[0.060216]\"], [906, \"\", \"a\", \"a\", \"DET\", \"DT\", \"det\", \"x\", true, true, \"DT\", \"[0.043798]\"], [908, \"\", \"comet\", \"comet\", \"NOUN\", \"NN\", \"pobj\", \"xxxx\", true, false, \"NN\", \"[0.16489]\"], [914, \"\", \"in\", \"in\", \"ADP\", \"IN\", \"prep\", \"xx\", true, true, \"IN\", \"[0.089187]\"], [917, \"\", \"1577\", \"1577\", \"NUM\", \"CD\", \"pobj\", \"dddd\", false, false, \"CD\", \"[-0.048789]\"], [921, \"\", \".\", \".\", \"PUNCT\", \".\", \"punct\", \".\", false, false, \".\", \"[0.012001]\"], [923, \"\", \"\\\\n\", \"\\\\n\", \"SPACE\", \"_SP\", \"punct\", \"\\\\n\", false, false, \"_SP\", \"[0.0]\"], [924, \"\", \"M\\u00e4stlin\", \"M\\u00e4stlin\", \"PROPN\", \"NNP\", \"nsubj\", \"Xxxxx\", true, false, \"NNP\", \"[0.0]\"], [932, \"\", \"published\", \"publish\", \"VERB\", \"VBD\", \"ROOT\", \"xxxx\", true, false, \"VBD\", \"[-0.45315]\"], [942, \"\", \"the\", \"the\", \"DET\", \"DT\", \"det\", \"xxx\", true, true, \"DT\", \"[0.27204]\"], [946, \"\", \"first\", \"first\", \"ADJ\", \"JJ\", \"amod\", \"xxxx\", true, true, \"JJ\", \"[0.2998]\"], [952, \"\", \"edition\", \"edition\", \"NOUN\", \"NN\", \"dobj\", \"xxxx\", true, false, \"NN\", \"[-0.30268]\"], [960, \"\", \"of\", \"of\", \"ADP\", \"IN\", \"prep\", \"xx\", true, true, \"IN\", \"[0.060216]\"], [963, \"\", \"M\\u00e4stlin\", \"M\\u00e4stlin\", \"PROPN\", \"NNP\", \"nmod\", \"Xxxxx\", true, false, \"NNP\", \"[0.0]\"], [971, \"\", \"famous\", \"famous\", \"ADJ\", \"JJ\", \"amod\", \"xxxx\", true, false, \"JJ\", \"[0.47394]\"], [978, \"\", \"astronomy\", \"astronomy\", \"NOUN\", \"NN\", \"compound\", \"xxxx\", true, false, \"NN\", \"[-0.043286]\"], [988, \"\", \"textbook\", \"textbook\", \"NOUN\", \"NN\", \"pobj\", \"xxxx\", true, false, \"NN\", \"[-0.71505]\"], [997, \"\", \"Epitome\", \"epitome\", \"INTJ\", \"UH\", \"compound\", \"Xxxxx\", true, false, \"UH\", \"[0.016409]\"], [1005, \"\", \"astronomiae\", \"astronomiae\", \"NOUN\", \"NN\", \"appos\", \"xxxx\", true, false, \"NN\", \"[0.0]\"], [1017, \"\", \"in\", \"in\", \"ADP\", \"IN\", \"prep\", \"xx\", true, true, \"IN\", \"[0.089187]\"], [1020, \"\", \"1582\", \"1582\", \"NUM\", \"CD\", \"pobj\", \"dddd\", false, false, \"CD\", \"[0.054304]\"], [1024, \"\", \".\", \".\", \"PUNCT\", \".\", \"punct\", \".\", false, false, \".\", \"[0.012001]\"], [1026, \"\", \"\\\\n\", \"\\\\n\", \"SPACE\", \"_SP\", \"dep\", \"\\\\n\", false, false, \"_SP\", \"[0.0]\"], [1027, \"\", \"M\\u00e4stlin\", \"M\\u00e4stlin\", \"PROPN\", \"NNP\", \"nsubj\", \"Xxxxx\", true, false, \"NNP\", \"[0.0]\"], [1035, \"\", \"had\", \"have\", \"VERB\", \"VBD\", \"ROOT\", \"xxx\", true, true, \"VBD\", \"[0.086301]\"], [1039, \"\", \"several\", \"several\", \"ADJ\", \"JJ\", \"amod\", \"xxxx\", true, true, \"JJ\", \"[0.1433]\"], [1047, \"\", \"students\", \"student\", \"NOUN\", \"NNS\", \"dobj\", \"xxxx\", true, false, \"NNS\", \"[0.088036]\"], [1056, \"\", \"who\", \"who\", \"PRON\", \"WP\", \"nsubj\", \"xxx\", true, true, \"WP\", \"[0.074609]\"], [1060, \"\", \"became\", \"become\", \"VERB\", \"VBD\", \"relcl\", \"xxxx\", true, true, \"VBD\", \"[0.37121]\"], [1067, \"\", \"noted\", \"note\", \"VERB\", \"VBN\", \"amod\", \"xxxx\", true, false, \"VBN\", \"[-0.049255]\"], [1073, \"\", \"mathematicians\", \"mathematician\", \"NOUN\", \"NNS\", \"attr\", \"xxxx\", true, false, \"NNS\", \"[0.27973]\"], [1087, \"\", \",\", \",\", \"PUNCT\", \",\", \"punct\", \",\", false, false, \",\", \"[-0.082752]\"], [1089, \"\", \"the\", \"the\", \"DET\", \"DT\", \"det\", \"xxx\", true, true, \"DT\", \"[0.27204]\"], [1093, \"\", \"most\", \"most\", \"ADV\", \"RBS\", \"advmod\", \"xxxx\", true, true, \"RBS\", \"[-0.19571]\"], [1098, \"\", \"famous\", \"famous\", \"ADJ\", \"JJ\", \"amod\", \"xxxx\", true, false, \"JJ\", \"[0.47394]\"], [1105, \"\", \"being\", \"be\", \"VERB\", \"VBG\", \"advcl\", \"xxxx\", true, true, \"VBG\", \"[-0.16383]\"], [1111, \"\", \"Kepler\", \"Kepler\", \"PROPN\", \"NNP\", \"attr\", \"Xxxxx\", true, false, \"NNP\", \"[0.29664]\"], [1117, \"\", \".\", \".\", \"PUNCT\", \".\", \"punct\", \".\", false, false, \".\", \"[0.012001]\"], [1119, \"\", \"\\\\n\", \"\\\\n\", \"SPACE\", \"_SP\", \"intj\", \"\\\\n\", false, false, \"_SP\", \"[0.0]\"], [1120, \"\", \"M\\u00e4stlin\", \"M\\u00e4stlin\", \"PROPN\", \"NNP\", \"nsubj\", \"Xxxxx\", true, false, \"NNP\", \"[0.0]\"], [1128, \"\", \"was\", \"be\", \"AUX\", \"VBD\", \"aux\", \"xxx\", true, true, \"VBD\", \"[-0.044058]\"], [1132, \"\", \"still\", \"still\", \"ADV\", \"RB\", \"advmod\", \"xxxx\", true, true, \"RB\", \"[0.11259]\"], [1138, \"\", \"making\", \"make\", \"VERB\", \"VBG\", \"ROOT\", \"xxxx\", true, false, \"VBG\", \"[-0.25915]\"], [1145, \"\", \"accurate\", \"accurate\", \"ADJ\", \"JJ\", \"amod\", \"xxxx\", true, false, \"JJ\", \"[-0.65017]\"], [1154, \"\", \"observations\", \"observation\", \"NOUN\", \"NNS\", \"dobj\", \"xxxx\", true, false, \"NNS\", \"[-0.015541]\"], [1167, \"\", \"at\", \"at\", \"ADP\", \"IN\", \"prep\", \"xx\", true, true, \"IN\", \"[-0.36769]\"], [1170, \"\", \"the\", \"the\", \"DET\", \"DT\", \"det\", \"xxx\", true, true, \"DT\", \"[0.27204]\"], [1174, \"\", \"age\", \"age\", \"NOUN\", \"NN\", \"pobj\", \"xxx\", true, false, \"NN\", \"[-0.2034]\"], [1178, \"\", \"of\", \"of\", \"ADP\", \"IN\", \"prep\", \"xx\", true, true, \"IN\", \"[0.060216]\"], [1181, \"\", \"78\", \"78\", \"NUM\", \"CD\", \"pobj\", \"dd\", false, false, \"CD\", \"[0.27552]\"], [1184, \"\", \"when\", \"when\", \"ADV\", \"WRB\", \"advmod\", \"xxxx\", true, true, \"WRB\", \"[0.205]\"], [1189, \"\", \"M\\u00e4stlin\", \"M\\u00e4stlin\", \"PROPN\", \"NNP\", \"nsubj\", \"Xxxxx\", true, false, \"NNP\", \"[0.0]\"], [1197, \"\", \"observed\", \"observe\", \"VERB\", \"VBD\", \"advcl\", \"xxxx\", true, false, \"VBD\", \"[-0.29306]\"], [1206, \"\", \"the\", \"the\", \"DET\", \"DT\", \"det\", \"xxx\", true, true, \"DT\", \"[0.27204]\"], [1210, \"\", \"lunar\", \"lunar\", \"ADJ\", \"JJ\", \"amod\", \"xxxx\", true, false, \"JJ\", \"[0.070465]\"], [1216, \"\", \"eclipse\", \"eclipse\", \"NOUN\", \"NN\", \"dobj\", \"xxxx\", true, false, \"NN\", \"[0.3857]\"], [1224, \"\", \"of\", \"of\", \"ADP\", \"IN\", \"prep\", \"xx\", true, true, \"IN\", \"[0.060216]\"], [1227, \"\", \"1628\", \"1628\", \"NUM\", \"CD\", \"pobj\", \"dddd\", false, false, \"CD\", \"[0.15869]\"], [1231, \"\", \".\", \".\", \"PUNCT\", \".\", \"punct\", \".\", false, false, \".\", \"[0.012001]\"], [1233, \"\", \"\\\\n\", \"\\\\n\", \"SPACE\", \"_SP\", \"intj\", \"\\\\n\", false, false, \"_SP\", \"[0.0]\"], [1234, \"\", \"M\\u00e4stlin\", \"M\\u00e4stlin\", \"PROPN\", \"NNP\", \"nsubj\", \"Xxxxx\", true, false, \"NNP\", \"[0.0]\"], [1242, \"\", \"acquired\", \"acquire\", \"VERB\", \"VBD\", \"ROOT\", \"xxxx\", true, false, \"VBD\", \"[0.34291]\"], [1251, \"\", \"a\", \"a\", \"DET\", \"DT\", \"det\", \"x\", true, true, \"DT\", \"[0.043798]\"], [1253, \"\", \"copy\", \"copy\", \"NOUN\", \"NN\", \"dobj\", \"xxxx\", true, false, \"NN\", \"[-0.25319]\"], [1258, \"\", \"of\", \"of\", \"ADP\", \"IN\", \"prep\", \"xx\", true, true, \"IN\", \"[0.060216]\"], [1261, \"\", \"Copernicus\", \"Copernicus\", \"PROPN\", \"NNP\", \"poss\", \"Xxxxx\", true, false, \"NNP\", \"[0.016893]\"], [1271, \"\", \"'s\", \"'s\", \"PART\", \"POS\", \"case\", \"'x\", false, true, \"POS\", \"[-0.06858]\"], [1274, \"\", \"De\", \"De\", \"PROPN\", \"NNP\", \"compound\", \"Xx\", true, false, \"NNP\", \"[0.41026]\"], [1277, \"\", \"revolutionibus\", \"revolutionibus\", \"NOUN\", \"NN\", \"pobj\", \"xxxx\", true, false, \"NN\", \"[0.69343]\"], [1292, \"\", \"in\", \"in\", \"ADP\", \"IN\", \"prep\", \"xx\", true, true, \"IN\", \"[0.089187]\"], [1295, \"\", \"1570\", \"1570\", \"NUM\", \"CD\", \"pobj\", \"dddd\", false, false, \"CD\", \"[-0.16785]\"], [1300, \"\", \"and\", \"and\", \"CCONJ\", \"CC\", \"cc\", \"xxx\", true, true, \"CC\", \"[-0.18567]\"], [1304, \"\", \"wrote\", \"write\", \"VERB\", \"VBD\", \"conj\", \"xxxx\", true, false, \"VBD\", \"[-0.23081]\"], [1310, \"\", \"extensive\", \"extensive\", \"ADJ\", \"JJ\", \"amod\", \"xxxx\", true, false, \"JJ\", \"[0.0051903]\"], [1320, \"\", \"notes\", \"note\", \"NOUN\", \"NNS\", \"dobj\", \"xxxx\", true, false, \"NNS\", \"[-0.35591]\"], [1326, \"\", \"near\", \"near\", \"SCONJ\", \"IN\", \"prep\", \"xxxx\", true, false, \"IN\", \"[0.209]\"], [1331, \"\", \"the\", \"the\", \"DET\", \"DT\", \"det\", \"xxx\", true, true, \"DT\", \"[0.27204]\"], [1335, \"\", \"beginning\", \"beginning\", \"NOUN\", \"NN\", \"pobj\", \"xxxx\", true, false, \"NN\", \"[0.29504]\"], [1345, \"\", \"of\", \"of\", \"ADP\", \"IN\", \"prep\", \"xx\", true, true, \"IN\", \"[0.060216]\"], [1348, \"\", \"the\", \"the\", \"DET\", \"DT\", \"det\", \"xxx\", true, true, \"DT\", \"[0.27204]\"], [1352, \"\", \"book\", \"book\", \"NOUN\", \"NN\", \"pobj\", \"xxxx\", true, false, \"NN\", \"[-0.25634]\"], [1356, \"\", \".\", \".\", \"PUNCT\", \".\", \"punct\", \".\", false, false, \".\", \"[0.012001]\"]];\n",
       "\n",
       "    // Define the dt_args\n",
       "    let dt_args = {\"scrollY\": \"400px\", \"scrollCollapse\": true, \"paging\": false, \"dom\": \"lrtip\", \"order\": [], \"initComplete\": function () {\n",
       "    // Apply the search\n",
       "    this.api()\n",
       "        .columns()\n",
       "        .every(function () {\n",
       "            const that = this;\n",
       "\n",
       "            $('input', this.footer()).on('keyup change clear', function () {\n",
       "                if (that.search() !== this.value) {\n",
       "                    that.search(this.value).draw();\n",
       "                }\n",
       "            });\n",
       "        });\n",
       "}\n",
       "};\n",
       "    dt_args[\"data\"] = data;\n",
       "\n",
       "    $(document).ready(function () {\n",
       "        // Setup - add a text input to each header or footer cell\n",
       "$('#ad0429c7-fd23-4881-a6ff-9f92fd615769 tfoot th').each(function () {\n",
       "    let title = $(this).text();\n",
       "    $(this).html('<input type=\"text\" placeholder=\"Search ' +\n",
       "        // We use encodeURI to avoid this LGTM error:\n",
       "        // https://lgtm.com/rules/1511866576920/\n",
       "        encodeURI(title).replaceAll(\"%20\", \" \") +\n",
       "        '\" />');\n",
       "});\n",
       "\n",
       "        $('#ad0429c7-fd23-4881-a6ff-9f92fd615769').DataTable(dt_args);\n",
       "    });\n",
       "</script>\n",
       "</div>\n"
      ],
      "text/plain": [
       "<IPython.core.display.HTML object>"
      ]
     },
     "metadata": {},
     "output_type": "display_data"
    }
   ],
   "source": [
    "### https://github.com/mwouts/itables/blob/main/docs/advanced_parameters.md\n",
    "show(tx_df[tx_df.idx >= 0], classes=\"display\", scrollY=\"400px\", scrollCollapse=True, paging=False, column_filters=\"footer\", dom=\"lrtip\")"
   ]
  },
  {
   "cell_type": "code",
   "execution_count": null,
   "id": "932aa288-ddc1-4346-b2ee-45d20e1bd239",
   "metadata": {},
   "outputs": [],
   "source": []
  },
  {
   "cell_type": "code",
   "execution_count": null,
   "id": "e576888c-c67f-4040-bcd3-4e36502aa540",
   "metadata": {},
   "outputs": [],
   "source": []
  },
  {
   "cell_type": "markdown",
   "id": "4ccc748f-3786-43e0-a8a9-e128b0ea4344",
   "metadata": {},
   "source": [
    "## Relation extraction"
   ]
  },
  {
   "cell_type": "code",
   "execution_count": 76,
   "id": "ca8262ef-e151-496b-aa1a-7cdba70ca56e",
   "metadata": {},
   "outputs": [],
   "source": [
    "### https://towardsdatascience.com/nlp-with-python-knowledge-graph-12b93146a458\n",
    "\n",
    "def extract_entities(doc):\n",
    "    a, b, prev_dep, prev_txt, prefix, modifier = \"\", \"\", \"\", \"\", \"\", \"\"\n",
    "    for token in doc:\n",
    "        if token.dep_ != \"punct\":\n",
    "            ## prexif --> prev_compound + compound\n",
    "            if token.dep_ == \"compound\":\n",
    "                prefix = prev_txt +\" \"+ token.text if prev_dep == \"compound\" else token.text\n",
    "            \n",
    "            ## modifier --> prev_compound + %mod\n",
    "            if token.dep_.endswith(\"mod\") == True:\n",
    "                modifier = prev_txt +\" \"+ token.text if prev_dep == \"compound\" else token.text\n",
    "            \n",
    "            ## subject --> modifier + prefix + %subj\n",
    "            if token.dep_.find(\"subj\") == True:\n",
    "                a = modifier +\" \"+ prefix + \" \"+ token.text\n",
    "                prefix, modifier, prev_dep, prev_txt = \"\", \"\", \"\", \"\"\n",
    "            \n",
    "            ## if object --> modifier + prefix + %obj\n",
    "            if token.dep_.find(\"obj\") == True:\n",
    "                b = modifier +\" \"+ prefix +\" \"+ token.text\n",
    "            \n",
    "            prev_dep, prev_txt = token.dep_, token.text\n",
    "    \n",
    "    # clean\n",
    "    a = \" \".join([i for i in a.split()])\n",
    "    b = \" \".join([i for i in b.split()])\n",
    "    return (a.strip(), b.strip())\n",
    "\n",
    "\n",
    "# The relation extraction requires the rule-based matching tool, \n",
    "# an improved version of regular expressions on raw text.\n",
    "def extract_relation(doc, nlp):\n",
    "    matcher = spacy.matcher.Matcher(nlp.vocab)\n",
    "    p1 = [{'DEP':'ROOT'}, \n",
    "          {'DEP':'prep', 'OP':\"?\"},\n",
    "          {'DEP':'agent', 'OP':\"?\"},\n",
    "          {'POS':'ADJ', 'OP':\"?\"}] \n",
    "    matcher.add(key=\"matching_1\", patterns=[p1]) \n",
    "    matches = matcher(doc)\n",
    "    k = len(matches) - 1\n",
    "    span = doc[matches[k][1]:matches[k][2]] \n",
    "    return span.text"
   ]
  },
  {
   "cell_type": "code",
   "execution_count": null,
   "id": "2b0ce32b-16f8-4b98-b0b6-8ac41c41b84d",
   "metadata": {},
   "outputs": [],
   "source": []
  },
  {
   "cell_type": "code",
   "execution_count": 84,
   "id": "c5b35a7d-3d42-4972-9787-ecf4e2b306bd",
   "metadata": {},
   "outputs": [
    {
     "data": {
      "text/plain": [
       "Mästlin attended the monastic school in Königsbronn and entered Tübingen University in 1568."
      ]
     },
     "execution_count": 84,
     "metadata": {},
     "output_type": "execute_result"
    }
   ],
   "source": [
    "sents = [s for s in doc.sents]\n",
    "sents[2]"
   ]
  },
  {
   "cell_type": "code",
   "execution_count": 85,
   "id": "102e74ba-4d4d-4219-a36c-072da3ba73bc",
   "metadata": {},
   "outputs": [],
   "source": [
    "st = sents[2]"
   ]
  },
  {
   "cell_type": "code",
   "execution_count": 86,
   "id": "b2cdeae0-19a1-41d6-9e29-40fdcc4f847c",
   "metadata": {},
   "outputs": [],
   "source": [
    "info = []\n",
    "for token in st:\n",
    "    info.append((token.text, token.lemma_, token.ent_kb_id_, token.ent_type_, token.pos_, token.tag_, token.dep_,\n",
    "                token.shape_, token.is_alpha, token.is_stop))\n",
    "tx_df  = pd.DataFrame(info, columns = [\"text\", \"lemma_\", \"kb_id\", \"ent_type\", \"pos_\", \"tag_\", \"dep_\",\"shape_\", \"is_alpha\", \"is_stop\"])"
   ]
  },
  {
   "cell_type": "code",
   "execution_count": 87,
   "id": "86e30d1c-a0fc-4154-90d7-6b4d26014649",
   "metadata": {
    "tags": []
   },
   "outputs": [
    {
     "data": {
      "text/html": [
       "<style>.itables table td {\n",
       "    text-overflow: ellipsis;\n",
       "    overflow: hidden;\n",
       "}\n",
       "\n",
       ".itables table th {\n",
       "    text-overflow: ellipsis;\n",
       "    overflow: hidden;\n",
       "}\n",
       "\n",
       ".itables thead input {\n",
       "    width: 100%;\n",
       "    padding: 3px;\n",
       "    box-sizing: border-box;\n",
       "}\n",
       "\n",
       ".itables tfoot input {\n",
       "    width: 100%;\n",
       "    padding: 3px;\n",
       "    box-sizing: border-box;\n",
       "}\n",
       "</style>\n",
       "<div class=\"itables\">\n",
       "<table id=\"13187653-7dcb-422a-9b0b-aec046e82cb2\" class=\"display\"style=\"table-layout:auto;width:auto;margin:auto;caption-side:bottom\"><thead>\n",
       "    <tr style=\"text-align: right;\">\n",
       "      \n",
       "      <th>text</th>\n",
       "      <th>lemma_</th>\n",
       "      <th>kb_id</th>\n",
       "      <th>ent_type</th>\n",
       "      <th>pos_</th>\n",
       "      <th>tag_</th>\n",
       "      <th>dep_</th>\n",
       "      <th>shape_</th>\n",
       "      <th>is_alpha</th>\n",
       "      <th>is_stop</th>\n",
       "    </tr>\n",
       "  </thead><tbody><tr><td>Loading... (need <a href=https://mwouts.github.io/itables/troubleshooting.html>help</a>?)</td></tr></tbody><tfoot><th>text</th><th>lemma_</th><th>kb_id</th><th>ent_type</th><th>pos_</th><th>tag_</th><th>dep_</th><th>shape_</th><th>is_alpha</th><th>is_stop</th></tfoot></table>\n",
       "<link rel=\"stylesheet\" type=\"text/css\" href=\"https://cdn.datatables.net/1.13.1/css/jquery.dataTables.min.css\">\n",
       "<script type=\"module\">\n",
       "    // Import jquery and DataTable\n",
       "    import 'https://code.jquery.com/jquery-3.6.0.min.js';\n",
       "    import dt from 'https://cdn.datatables.net/1.12.1/js/jquery.dataTables.mjs';\n",
       "    dt($);\n",
       "\n",
       "    // Define the table data\n",
       "    const data = [[\"M\\u00e4stlin\", \"M\\u00e4stlin\", \"\", \"PERSON\", \"PROPN\", \"NNP\", \"nsubj\", \"Xxxxx\", true, false], [\"attended\", \"attend\", \"\", \"\", \"VERB\", \"VBD\", \"ROOT\", \"xxxx\", true, false], [\"the\", \"the\", \"\", \"\", \"DET\", \"DT\", \"det\", \"xxx\", true, true], [\"monastic\", \"monastic\", \"\", \"\", \"ADJ\", \"JJ\", \"amod\", \"xxxx\", true, false], [\"school\", \"school\", \"\", \"\", \"NOUN\", \"NN\", \"dobj\", \"xxxx\", true, false], [\"in\", \"in\", \"\", \"\", \"ADP\", \"IN\", \"prep\", \"xx\", true, true], [\"K\\u00f6nigsbronn\", \"K\\u00f6nigsbronn\", \"\", \"GPE\", \"PROPN\", \"NNP\", \"pobj\", \"Xxxxx\", true, false], [\"and\", \"and\", \"\", \"\", \"CCONJ\", \"CC\", \"cc\", \"xxx\", true, true], [\"entered\", \"enter\", \"\", \"\", \"VERB\", \"VBD\", \"conj\", \"xxxx\", true, false], [\"T\\u00fcbingen\", \"T\\u00fcbingen\", \"\", \"ORG\", \"PROPN\", \"NNP\", \"compound\", \"Xxxxx\", true, false], [\"University\", \"University\", \"\", \"ORG\", \"PROPN\", \"NNP\", \"dobj\", \"Xxxxx\", true, false], [\"in\", \"in\", \"\", \"\", \"ADP\", \"IN\", \"prep\", \"xx\", true, true], [\"1568\", \"1568\", \"\", \"DATE\", \"NUM\", \"CD\", \"pobj\", \"dddd\", false, false], [\".\", \".\", \"\", \"\", \"PUNCT\", \".\", \"punct\", \".\", false, false]];\n",
       "\n",
       "    // Define the dt_args\n",
       "    let dt_args = {\"scrollY\": \"200px\", \"scrollCollapse\": true, \"paging\": false, \"dom\": \"lrtip\", \"order\": [], \"initComplete\": function () {\n",
       "    // Apply the search\n",
       "    this.api()\n",
       "        .columns()\n",
       "        .every(function () {\n",
       "            const that = this;\n",
       "\n",
       "            $('input', this.footer()).on('keyup change clear', function () {\n",
       "                if (that.search() !== this.value) {\n",
       "                    that.search(this.value).draw();\n",
       "                }\n",
       "            });\n",
       "        });\n",
       "}\n",
       "};\n",
       "    dt_args[\"data\"] = data;\n",
       "\n",
       "    $(document).ready(function () {\n",
       "        // Setup - add a text input to each header or footer cell\n",
       "$('#13187653-7dcb-422a-9b0b-aec046e82cb2 tfoot th').each(function () {\n",
       "    let title = $(this).text();\n",
       "    $(this).html('<input type=\"text\" placeholder=\"Search ' +\n",
       "        // We use encodeURI to avoid this LGTM error:\n",
       "        // https://lgtm.com/rules/1511866576920/\n",
       "        encodeURI(title).replaceAll(\"%20\", \" \") +\n",
       "        '\" />');\n",
       "});\n",
       "\n",
       "        $('#13187653-7dcb-422a-9b0b-aec046e82cb2').DataTable(dt_args);\n",
       "    });\n",
       "</script>\n",
       "</div>\n"
      ],
      "text/plain": [
       "<IPython.core.display.HTML object>"
      ]
     },
     "metadata": {},
     "output_type": "display_data"
    }
   ],
   "source": [
    "### https://github.com/mwouts/itables/blob/main/docs/advanced_parameters.md\n",
    "show(tx_df, classes=\"display\", scrollY=\"200px\", scrollCollapse=True, paging=False, column_filters=\"footer\", dom=\"lrtip\")"
   ]
  },
  {
   "cell_type": "code",
   "execution_count": 88,
   "id": "fe49ca9d-86e7-403e-830d-137e096d2de5",
   "metadata": {},
   "outputs": [
    {
     "data": {
      "text/plain": [
       "('Mästlin', 'monastic Tübingen 1568')"
      ]
     },
     "execution_count": 88,
     "metadata": {},
     "output_type": "execute_result"
    }
   ],
   "source": [
    "extract_entities(st)"
   ]
  },
  {
   "cell_type": "code",
   "execution_count": null,
   "id": "a63ac18b-6ed9-416a-aeec-da82936c5a54",
   "metadata": {},
   "outputs": [],
   "source": []
  },
  {
   "cell_type": "code",
   "execution_count": 89,
   "id": "e7d18a63-cade-4470-a870-de923127df30",
   "metadata": {},
   "outputs": [
    {
     "data": {
      "text/plain": [
       "'attended'"
      ]
     },
     "execution_count": 89,
     "metadata": {},
     "output_type": "execute_result"
    }
   ],
   "source": [
    "extract_relation(st, nlp)"
   ]
  },
  {
   "cell_type": "code",
   "execution_count": null,
   "id": "3187598a-3448-4bff-8214-d9f657a0f3e0",
   "metadata": {},
   "outputs": [],
   "source": []
  },
  {
   "cell_type": "code",
   "execution_count": null,
   "id": "bac03abd-1d8f-46b6-8fdf-97407d1e2312",
   "metadata": {},
   "outputs": [],
   "source": []
  },
  {
   "cell_type": "markdown",
   "id": "c8772e03-7f83-4f16-88eb-9e0fcff8a7d7",
   "metadata": {},
   "source": [
    "## Extract information in form of triples using OpenAI API"
   ]
  },
  {
   "cell_type": "code",
   "execution_count": 205,
   "id": "463a457a-9c6d-4bb2-8dfa-25d892183216",
   "metadata": {},
   "outputs": [],
   "source": [
    "# Specify the file name and mode ('w' for writing)\n",
    "filename = \"data/openai_test_result_3.csv\""
   ]
  },
  {
   "cell_type": "code",
   "execution_count": 236,
   "id": "dcf4c203-6978-44f1-9a3c-20b3ebebc978",
   "metadata": {},
   "outputs": [],
   "source": [
    "header = ['id_mathshistory','response']\n",
    "with open(filename, 'w', newline='') as file:\n",
    "    writer = csv.writer(file, delimiter='\\t')\n",
    "    writer.writerow(header)"
   ]
  },
  {
   "cell_type": "code",
   "execution_count": 237,
   "id": "12b3b6d9-a45b-4a01-a1d6-d314cfb2e0ca",
   "metadata": {},
   "outputs": [
    {
     "name": "stdout",
     "output_type": "stream",
     "text": [
      "CPU times: user 180 ms, sys: 11.8 ms, total: 192 ms\n",
      "Wall time: 9min 57s\n"
     ]
    }
   ],
   "source": [
    "%%time\n",
    "\n",
    "results = []\n",
    "\n",
    "# Specify the file name and mode ('w' for writing)\n",
    "filename = filename\n",
    "\n",
    "\n",
    "i = 0\n",
    "\n",
    "for t in textes.values:\n",
    "    \n",
    "    if i >= 0:\n",
    "    \n",
    "        messages = []\n",
    "\n",
    "        # optionnel, permet de définir le comportement que l'assistant doit adopter\n",
    "        messages.append({\"role\": \"system\", \"content\": \"\"\"You are a NLP application to extract named entities and relations \n",
    "        among them from texts in form of structured data\"\"\"})\n",
    "\n",
    "        # Une question classique qu'on pourrait poser à ChatGPT\n",
    "        messages.append({\"role\": \"user\", \"content\": f\"\"\"Extract all studying and learning activities from following text:\n",
    "                         \n",
    "                         TEXT\n",
    "                         {t[6][:3500]}\"\"\"})\n",
    "\n",
    "        \n",
    "        messages.append({\"role\": \"user\", \"content\": \"\"\"produce a list of studying activities according to following example: \n",
    "                         Pinco Pallino studied mathematics and astronomy at Ardauschi University - from 1568 to 1571.\"\"\"})\n",
    "        \n",
    "        messages.append({\"role\": \"user\", \"content\": \"output in json format\"})\n",
    "        \n",
    "        messages.append({\"role\": \"user\", \"content\": \"add into json output the original sentence from which you extracted the study activity of the person\"})\n",
    "        \n",
    "        \n",
    "        messages.append({\"role\": \"assistant\", \"content\":\"\"\"{\"person\": \"Pinco Pallino\", \n",
    "             \"activity\": \"studied\", \"object\": \"mathematics and astronomy\", \n",
    "             \"institution\": \"Sapienza University\",\n",
    "             \"begin\": 1568, \"end\": 1571,\n",
    "             \"original_sentence\": \"In Rome Pinco Pallino studied mathematics and astronomy at the Sapienza University \"}\"\"\"})\n",
    "\n",
    "        messages.append({\"role\": \"user\", \"content\": \"the example that you provided is to be applied\"})\n",
    "\n",
    "        response = openai.ChatCompletion.create(\n",
    "              model=\"gpt-3.5-turbo\", \n",
    "              temperature=0,\n",
    "              messages=messages #[{\"role\": \"user\", \"content\": prompt}]\n",
    "            )\n",
    "\n",
    "        r = response['choices'][0]['message']['content']\n",
    "        \n",
    "        with open(filename, 'a', newline='') as file:\n",
    "            writer = csv.writer(file, delimiter='\\t')\n",
    "            writer.writerow([t[0], r])\n",
    "\n",
    "        results.append([t[0], r])\n",
    "        \n",
    "        time.sleep(22)\n",
    "        \n",
    "    i =+ 1     "
   ]
  },
  {
   "cell_type": "code",
   "execution_count": 261,
   "id": "6b0f1760-0be1-4853-b489-3417f53c392f",
   "metadata": {},
   "outputs": [
    {
     "name": "stdout",
     "output_type": "stream",
     "text": [
      "{\"person\": \"Giovanni Magini\", \n",
      "             \"activity\": \"completed his education\", \"object\": \"at the University of Bologna\", \n",
      "             \"begin\": 1579, \"end\": 1579,\n",
      "             \"original_sentence\": \"Magini completed his education at the University of Bologna, receiving a doctorate in philosophy in 1579.\"}\n",
      "\n",
      "{\"person\": \"Giovanni Magini\", \n",
      "             \"activity\": \"published\", \"object\": \"Ephemerides coelestium motuum\", \n",
      "             \"begin\": 1582, \"end\": 1582,\n",
      "             \"original_sentence\": \"He published Ephemerides coelestium motuum, a major treatise on astronomy, in 1582.\"}\n",
      "\n",
      "{\"person\": \"Giovanni Magini\", \n",
      "             \"activity\": \"published\", \"object\": \"an Italian version of the original Latin text\", \n",
      "             \"begin\": 1583, \"end\": 1583,\n",
      "             \"original_sentence\": \"and in the following year he published an Italian version of the original Latin text.\"}\n",
      "\n",
      "{\"person\": \"Giovanni Magini\", \n",
      "             \"activity\": \"competed\", \"object\": \"for the chair\", \n",
      "             \"begin\": null, \"end\": null,\n",
      "             \"original_sentence\": \"Magini competed for the chair as did, among others, Galileo.\"}\n",
      "\n",
      "{\"person\": \"Giovanni Magini\", \n",
      "             \"activity\": \"was appointed\", \"object\": \"to the chair\", \n",
      "             \"begin\": 1588, \"end\": null,\n",
      "             \"original_sentence\": \"he was appointed in 1588 and held the position for the rest of his life.\"}\n",
      "\n",
      "{\"person\": \"Giovanni Magini\", \n",
      "             \"activity\": \"published\", \"object\": \"Novae coelestium orbium theoricae congruentes cum observationibus N Copernici\", \n",
      "             \"begin\": 1589, \"end\": 1589,\n",
      "             \"original_sentence\": \"In Novae coelestium orbium theoricae congruentes cum observationibus N Copernici (Venice, 1589), Magini writes about 'absurd hypotheses, such as Copernicus imagined'.\"}\n",
      "\n",
      "{\"person\": \"Giovanni Magini\", \n",
      "             \"activity\": \"published\", \"object\": \"De Planis Triangulis\", \n",
      "             \"begin\": 1592, \"end\": 1592,\n",
      "             \"original_sentence\": \"In 1592 Magini published De Planis Triangulis which explains the use of quadrants in astronomy and in surveying.\"}\n",
      "\n",
      "{\"person\": \"Giovanni Magini\", \n",
      "             \"activity\": \"published\", \"object\": \"Tabula tetragonica\", \n",
      "             \"begin\": 1592, \"end\": 1592,\n",
      "             \"original_sentence\": \"Also in 1592 Magini published Tabula tetragonica.\"}\n",
      "\n",
      "{\"person\": \"Giovanni Magini\", \n",
      "             \"activity\": \"published\", \"object\": \"a commentary on Ptolemy's Geographia\", \n",
      "             \"begin\": 1596, \"end\": 1596,\n",
      "             \"original_sentence\": \"then in 1596 published a commentary on Ptolemy's Geographia.\"}\n"
     ]
    }
   ],
   "source": [
    "rslt = results[0][1]\n",
    "print(rslt)"
   ]
  },
  {
   "cell_type": "code",
   "execution_count": 263,
   "id": "bf2ff4b3-49dd-485d-becf-e86c99f80597",
   "metadata": {},
   "outputs": [],
   "source": []
  },
  {
   "cell_type": "code",
   "execution_count": 264,
   "id": "97e81e45-4e16-4707-bc0a-a61062bcd892",
   "metadata": {},
   "outputs": [
    {
     "data": {
      "text/plain": [
       "[122,\n",
       " '{\"person\": \"Giovanni Magini\", \\n             \"activity\": \"completed his education\", \"object\": \"at the University of Bologna\", \\n             \"begin\": 1579, \"end\": 1579,\\n             \"original_sentence\": \"Magini completed his education at the University of Bologna, receiving a doctorate in philosophy in 1579.\"}\\n\\n{\"person\": \"Giovanni Magini\", \\n             \"activity\": \"published\", \"object\": \"Ephemerides coelestium motuum\", \\n             \"begin\": 1582, \"end\": 1582,\\n             \"original_sentence\": \"He published Ephemerides coelestium motuum, a major treatise on astronomy, in 1582.\"}\\n\\n{\"person\": \"Giovanni Magini\", \\n             \"activity\": \"published\", \"object\": \"an Italian version of the original Latin text\", \\n             \"begin\": 1583, \"end\": 1583,\\n             \"original_sentence\": \"and in the following year he published an Italian version of the original Latin text.\"}\\n\\n{\"person\": \"Giovanni Magini\", \\n             \"activity\": \"competed\", \"object\": \"for the chair\", \\n             \"begin\": null, \"end\": null,\\n             \"original_sentence\": \"Magini competed for the chair as did, among others, Galileo.\"}\\n\\n{\"person\": \"Giovanni Magini\", \\n             \"activity\": \"was appointed\", \"object\": \"to the chair\", \\n             \"begin\": 1588, \"end\": null,\\n             \"original_sentence\": \"he was appointed in 1588 and held the position for the rest of his life.\"}\\n\\n{\"person\": \"Giovanni Magini\", \\n             \"activity\": \"published\", \"object\": \"Novae coelestium orbium theoricae congruentes cum observationibus N Copernici\", \\n             \"begin\": 1589, \"end\": 1589,\\n             \"original_sentence\": \"In Novae coelestium orbium theoricae congruentes cum observationibus N Copernici (Venice, 1589), Magini writes about \\'absurd hypotheses, such as Copernicus imagined\\'.\"}\\n\\n{\"person\": \"Giovanni Magini\", \\n             \"activity\": \"published\", \"object\": \"De Planis Triangulis\", \\n             \"begin\": 1592, \"end\": 1592,\\n             \"original_sentence\": \"In 1592 Magini published De Planis Triangulis which explains the use of quadrants in astronomy and in surveying.\"}\\n\\n{\"person\": \"Giovanni Magini\", \\n             \"activity\": \"published\", \"object\": \"Tabula tetragonica\", \\n             \"begin\": 1592, \"end\": 1592,\\n             \"original_sentence\": \"Also in 1592 Magini published Tabula tetragonica.\"}\\n\\n{\"person\": \"Giovanni Magini\", \\n             \"activity\": \"published\", \"object\": \"a commentary on Ptolemy\\'s Geographia\", \\n             \"begin\": 1596, \"end\": 1596,\\n             \"original_sentence\": \"then in 1596 published a commentary on Ptolemy\\'s Geographia.\"}']"
      ]
     },
     "execution_count": 264,
     "metadata": {},
     "output_type": "execute_result"
    }
   ],
   "source": [
    "results[0]"
   ]
  },
  {
   "cell_type": "markdown",
   "id": "a50ec70a-6061-4bea-be82-21d0f37c6f9e",
   "metadata": {
    "tags": []
   },
   "source": [
    "### Inspect the produced data"
   ]
  },
  {
   "cell_type": "code",
   "execution_count": null,
   "id": "0796ebd4-27da-4145-a563-a20abf2ecc4e",
   "metadata": {},
   "outputs": [],
   "source": [
    "json_data = []\n",
    "with open(filename, newline='') as f:    \n",
    "    my_reader = csv.reader(f, delimiter='\\t')\n",
    "    for row in my_reader:\n",
    "        # print(row[1])\n",
    "        json_data.append(row[1])"
   ]
  },
  {
   "cell_type": "code",
   "execution_count": null,
   "id": "1d9043b6-82c3-47e8-a942-8b12c1f116be",
   "metadata": {},
   "outputs": [],
   "source": [
    "json_data[1]"
   ]
  },
  {
   "cell_type": "code",
   "execution_count": 267,
   "id": "dc06181a-1e62-4c84-8516-08e0893860e4",
   "metadata": {
    "scrolled": true,
    "tags": []
   },
   "outputs": [
    {
     "name": "stdout",
     "output_type": "stream",
     "text": [
      "122\n",
      "['{\"person\": \"Giovanni Magini\",\"activity\": \"completed his education\", \"object\": \"at the University of Bologna\",\"begin\": 1579, \"end\": 1579, \"original_sentence\": \"Magini completed his education at the University of Bologna, receiving a doctorate in philosophy in 1579.\"}', '{\"person\": \"Giovanni Magini\",\"activity\": \"published\", \"object\": \"Ephemerides coelestium motuum\",\"begin\": 1582, \"end\": 1582, \"original_sentence\": \"He published Ephemerides coelestium motuum, a major treatise on astronomy, in 1582.\"}', '{\"person\": \"Giovanni Magini\",\"activity\": \"published\", \"object\": \"an Italian version of the original Latin text\",\"begin\": 1583, \"end\": 1583, \"original_sentence\": \"and in the following year he published an Italian version of the original Latin text.\"}', '{\"person\": \"Giovanni Magini\",\"activity\": \"competed\", \"object\": \"for the chair\",\"begin\": null, \"end\": null, \"original_sentence\": \"Magini competed for the chair as did, among others, Galileo.\"}', '{\"person\": \"Giovanni Magini\",\"activity\": \"was appointed\", \"object\": \"to the chair\",\"begin\": 1588, \"end\": null, \"original_sentence\": \"he was appointed in 1588 and held the position for the rest of his life.\"}', '{\"person\": \"Giovanni Magini\",\"activity\": \"published\", \"object\": \"Novae coelestium orbium theoricae congruentes cum observationibus N Copernici\",\"begin\": 1589, \"end\": 1589, \"original_sentence\": \"In Novae coelestium orbium theoricae congruentes cum observationibus N Copernici (Venice, 1589), Magini writes about \\'absurd hypotheses, such as Copernicus imagined\\'.\"}', '{\"person\": \"Giovanni Magini\",\"activity\": \"published\", \"object\": \"De Planis Triangulis\",\"begin\": 1592, \"end\": 1592, \"original_sentence\": \"In 1592 Magini published De Planis Triangulis which explains the use of quadrants in astronomy and in surveying.\"}', '{\"person\": \"Giovanni Magini\",\"activity\": \"published\", \"object\": \"Tabula tetragonica\",\"begin\": 1592, \"end\": 1592, \"original_sentence\": \"Also in 1592 Magini published Tabula tetragonica.\"}', '{\"person\": \"Giovanni Magini\",\"activity\": \"published\", \"object\": \"a commentary on Ptolemy\\'s Geographia\",\"begin\": 1596, \"end\": 1596, \"original_sentence\": \"then in 1596 published a commentary on Ptolemy\\'s Geographia.\"}']\n",
      "124\n",
      "['{\"person\": \"Thomas Harriot\",\"activity\": \"founded\", \"object\": \"the English school of algebra\", \"institution\": \"\", \"begin\": \"\", \"end\": \"\", \"original_sentence\": \"Thomas Harriot was a mathematician and astronomer who founded the English school of algebra.\"}']\n",
      "125\n",
      "['{\"person\": \"Adriaan van Roomen\",\"activity\": \"studied\", \"object\": \"ancient languages\",\"institution\": \"hometown\", \"begin\": null, \"end\": null, \"original_sentence\": \"After studying ancient languages in his hometown, van Roomen studied mathematics and philosophy at the Jesuit College in Cologne.\"}', '{\"person\": \"Adriaan van Roomen\",\"activity\": \"studied\", \"object\": \"mathematics and philosophy\",\"institution\": \"Jesuit College\", \"begin\": null, \"end\": null, \"original_sentence\": \"After studying ancient languages in his hometown, van Roomen studied mathematics and philosophy at the Jesuit College in Cologne.\"}', '{\"person\": \"Adriaan van Roomen\",\"activity\": \"studied\", \"object\": \"medicine\",\"institution\": \"Cologne\", \"begin\": null, \"end\": null, \"original_sentence\": \"He studied medicine, first at Cologne and then at Leuven.\"}', '{\"person\": \"Adriaan van Roomen\",\"activity\": \"studied\", \"object\": \"medicine\",\"institution\": \"Leuven\", \"begin\": null, \"end\": null, \"original_sentence\": \"He studied medicine, first at Cologne and then at Leuven.\"}']\n",
      "126\n",
      "['{\"person\": \"Bartholomeo Pitiscus\",\"activity\": \"studied\", \"object\": \"theology\",\"institution\": \"Zerbst and Heidelberg\", \"begin\": null, \"end\": null, \"original_sentence\": \"He studied theology, first at Zerbst, then at Heidelberg.\"}', '{\"person\": \"Bartholomeo Pitiscus\",\"activity\": \"studied\", \"object\": \"Calvinist theology\",\"institution\": null, \"begin\": null, \"end\": null, \"original_sentence\": \"He was a Calvinist, studying Calvinist theology.\"}', '{\"person\": \"Frederick IV\",\"activity\": \"studied\", \"object\": \"under Pitiscus\",\"institution\": null, \"begin\": 1584, \"end\": null, \"original_sentence\": \"John Casimir appointed Pitiscus to teach Frederick in 1584.\"}', '{\"person\": \"Bartholomeo Pitiscus\",\"activity\": \"appointed\", \"object\": \"court chaplain\",\"institution\": \"Breslau\", \"begin\": null, \"end\": null, \"original_sentence\": \"Later Pitiscus was appointed court chaplain at Breslau.\"}', '{\"person\": \"Bartholomeo Pitiscus\",\"activity\": \"appointed\", \"object\": \"court preacher\",\"institution\": \"Frederick IV\", \"begin\": null, \"end\": null, \"original_sentence\": \"Later Pitiscus was appointed court preacher to Frederick IV.\"}', '{\"person\": \"Bartholomeo Pitiscus\",\"activity\": \"appointed\", \"object\": \"professor of mathematics\",\"institution\": \"University of Heidelberg\", \"begin\": 1603, \"end\": null, \"original_sentence\": \"On 8 April 1603 Pitiscus was appointed professor of mathematics at the University of Heidelberg.\"}']\n",
      "127\n",
      "['{\"person\": \"Duncan Liddel\",\"activity\": \"attended schools\",\"object\": \"languages\",\"institution\": \"Aberdeen\",\"begin\": null, \"end\": null, \"original_sentence\": \"He attended schools in Aberdeen where he gained an expertise in languages before entering King\\'s College, Aberdeen, for his university education.\"}', '{\"person\": \"Duncan Liddel\",\"activity\": \"entered\",\"object\": \"university education\",\"institution\": \"King\\'s College, Aberdeen\",\"begin\": null, \"end\": null, \"original_sentence\": \"He attended schools in Aberdeen where he gained an expertise in languages before entering King\\'s College, Aberdeen, for his university education.\"}', '{\"person\": \"Duncan Liddel\",\"activity\": \"studied\",\"object\": \"medicine\",\"institution\": null,\"begin\": null, \"end\": null, \"original_sentence\": \"Before we continue with Liddel\\'s biography, let us note that all his publications appear to be in medicine with none in mathematics.\"}', '{\"person\": \"Duncan Liddel\",\"activity\": \"interested in\",\"object\": \"mathematics\",\"institution\": null,\"begin\": null, \"end\": null, \"original_sentence\": \"This is despite the fact that he appears to have been more interested in mathematics than any other topic.\"}', '{\"person\": \"Duncan Liddel\",\"activity\": \"wanted to make a career in\",\"object\": \"mathematics\",\"institution\": null,\"begin\": null, \"end\": null, \"original_sentence\": \"Liddel wanted to make a career in mathematics, but that, like many others before him, he failed to do so, and turned instead (or, as well) to medicine - which was always, by strong contrast with mathematics, a reliable way to earn a steady, and often lucrative, income.\"}', '{\"person\": \"Duncan Liddel\",\"activity\": \"studied at\",\"object\": \"King\\'s College, Aberdeen\",\"institution\": null,\"begin\": null, \"end\": null, \"original_sentence\": \"After studying at King\\'s College, Aberdeen, Liddel appears to have been uncertain as to what career he should follow and, in 1579, he left Scotland and travelled to Frankfurt an der Oder, now known as Frankfurt (Oder) a town in Germany close to the Polish border.\"}', '{\"person\": \"Duncan Liddel\",\"activity\": \"travelled to\",\"object\": \"Frankfurt an der Oder\",\"institution\": null,\"begin\": null, \"end\": null, \"original_sentence\": \"After studying at King\\'s College, Aberdeen, Liddel appears to have been uncertain as to what career he should follow and, in 1579, he left Scotland and travelled to Frankfurt an der Oder, now known as Frankfurt (Oder) a town in Germany close to the Polish border.\"}']\n",
      "128\n",
      "['{\"person\": \"Henry Briggs\",\"activity\": \"studied\", \"object\": \"Greek and Latin\",\"institution\": \"grammar school near Warley Wood\", \"begin\": null, \"end\": null, \"original_sentence\": \"Henry Briggs attended a grammar school near Warley Wood where he became highly proficient at Greek and Latin.\"}']\n",
      "129\n",
      "['{\"person\": \"Philip van Lansberge\",\"activity\": \"studied\", \"object\": \"mathematics and theology\",\"institution\": \"England\", \"begin\": null, \"end\": null, \"original_sentence\": \"It was there that Philip was educated, studying mathematics and theology.\"}']\n",
      "130\n",
      "['{\"person\": \"Thomas Fincke\",\"activity\": \"studied\", \"object\": \"mathematics and astrology, philosophy and rhetoric\",\"institution\": \"Strasbourg Academy\", \"begin\": 1577, \"end\": 1582, \"original_sentence\": \"He spent five years studying mathematics and astrology, philosophy and rhetoric at Strasbourg.\"}']\n",
      "132\n",
      "['{\"person\": \"Galileo Galilei\",\"activity\": \"studied\", \"object\": \"music\",\"institution\": \"Venice\", \"begin\": null, \"end\": null, \"original_sentence\": \"After studying music in Venice he carried out experiments on strings to support his musical theories.\"}', '{\"person\": \"Galileo Galilei\",\"activity\": \"studied\", \"object\": \"mathematics and natural philosophy\",\"institution\": \"University of Pisa\", \"begin\": 1581, \"end\": null, \"original_sentence\": \"Galileo never seems to have taken medical studies seriously, attending courses on his real interests which were in mathematics and natural philosophy.\"}']\n",
      "133\n",
      "['{\"person\": \"Giuseppe Biancani\",\"activity\": \"studied\", \"object\": \"mathematics\",\"institution\": \"Jesuit Collegio Romano\", \"begin\": 1592, \"end\": 1596, \"original_sentence\": \"He studied mathematics, taught by the famous Christopher Clavius at the Jesuit Collegio Romano in Rome.\"}', '{\"person\": \"Giuseppe Biancani\",\"activity\": \"studied\", \"object\": \"unknown\", \"institution\": \"Jesuit College in Padua\", \"begin\": 1596, \"end\": 1599, \"original_sentence\": \"Between 1596 and 1599, he was studying at the Jesuit College in Padua.\"}', '{\"person\": \"Giuseppe Biancani\",\"activity\": \"taught\", \"object\": \"mathematics\", \"institution\": \"Jesuit College in Parma\", \"begin\": \"early 1600s\", \"end\": \"whole career\", \"original_sentence\": \"In the early 1600s Biancani, having completed the long training period for the Jesuit order, went to the Jesuit College in Parma where he taught mathematics for his whole career.\"}']\n",
      "135\n",
      "['{\"person\": \"Johannes Kepler\",\"activity\": \"discovering the three laws of planetary motion\",\"institution\": \"N/A\", \"begin\": 1609, \"end\": 1619, \"original_sentence\": \"Johannes Kepler is now chiefly remembered for discovering the three laws of planetary motion that bear his name published in 1609 and 1619)\"}', '{\"person\": \"Johannes Kepler\",\"activity\": \"work in optics\",\"institution\": \"N/A\", \"begin\": 1604, \"end\": 1611, \"original_sentence\": \"He also did important work in optics (1604, 1611)\"}', '{\"person\": \"Johannes Kepler\",\"activity\": \"discovered two new regular polyhedra\",\"institution\": \"N/A\", \"begin\": 1619, \"end\": 1619, \"original_sentence\": \"discovered two new regular polyhedra (1619)\"}', '{\"person\": \"Johannes Kepler\",\"activity\": \"gave the first mathematical treatment of close packing of equal spheres\",\"institution\": \"N/A\", \"begin\": 1611, \"end\": 1611, \"original_sentence\": \"gave the first mathematical treatment of close packing of equal spheres (leading to an explanation of the shape of the cells of a honeycomb, 1611)\"}', '{\"person\": \"Johannes Kepler\",\"activity\": \"gave the first proof of how logarithms worked\",\"institution\": \"N/A\", \"begin\": 1624, \"end\": 1624, \"original_sentence\": \"gave the first proof of how logarithms worked (1624)\"}', '{\"person\": \"Johannes Kepler\",\"activity\": \"devised a method of finding the volumes of solids of revolution\",\"institution\": \"N/A\", \"begin\": 1615, \"end\": 1616, \"original_sentence\": \"devised a method of finding the volumes of solids of revolution that (with hindsight!) can be seen as contributing to the development of calculus (1615, 1616)\"}', '{\"person\": \"Johannes Kepler\",\"activity\": \"calculated the most exact astronomical tables\",\"institution\": \"N/A\", \"begin\": \"N/A\", \"end\": \"N/A\", \"original_sentence\": \"Moreover, he calculated the most exact astronomical tables hitherto known, whose continued accuracy did much to establish the truth of heliocentric astronomy (Rudolphine Tables, Ulm, 1627)\"}']\n",
      "136\n",
      "['{\"person\": \"Christoph Scheiner\",\"activity\": \"studying\", \"object\": \"philosophy, metaphysics, and mathematics\",\"institution\": \"Jesuit University in Ingolstadt\", \"begin\": 1598, \"end\": null, \"original_sentence\": \"In 1598 Scheiner went to the Jesuit University in Ingolstadt where he continued his long Jesuit education. His main studies were in philosophy, in particular metaphysics and mathematics.\"}']\n",
      "137\n",
      "['{\"person\": \"Simon Mayr\",\"activity\": \"studied\", \"object\": \"astronomy\",\"institution\": \"Margrave\\'s academy in Heilsbronn\", \"begin\": 1586, \"end\": 1601, \"original_sentence\": \"Simon was sent in 1586 to Margrave\\'s academy in Heilsbronn, a school for boys who came from poor families yet showed marked academic promise.\"}', '{\"person\": \"Simon Mayr\",\"activity\": \"studied\", \"object\": \"medicine\",\"institution\": \"University of Padua\", \"begin\": 1601, \"end\": 1605, \"original_sentence\": \"He then went to Padua where he studied medicine.\"}']\n",
      "138\n",
      "['{\"person\": \"William Oughtred\",\"activity\": \"studied\", \"object\": \"arithmetic\",\"institution\": \"Eton School\", \"begin\": \"unknown\", \"end\": \"unknown\", \"original_sentence\": \"William was taught arithmetic at Eton by his own father.\"}']\n",
      "139\n",
      "['{\"person\": \"Paul Guldin\",\"activity\": \"studied\", \"object\": \"mathematics\",\"institution\": \"Jesuit Collegio Romano\", \"begin\": 1609, \"end\": 1617, \"original_sentence\": \"Since Guldin showed considerable mathematical abilities so, in 1609, he was sent to the Jesuit Collegio Romano in Rome to study under Clavius who was the professor of mathematics there.\"}']\n",
      "140\n",
      "['{\"person\": \"Benedetto Castelli\",\"activity\": \"studied\",\"object\": \"mathematics\",\"institution\": \"Brescia\",\"begin\": 1595,\"end\": null,\"original_sentence\": \"He began studying mathematics while in Brescia\"}']\n",
      "141\n",
      "['{\"person\": \"Johann Faulhaber\",\"activity\": \"was trained as a weaver\",\"institution\": \"N/A\", \"begin\": null, \"end\": null, \"original_sentence\": \"Johann Faulhaber was trained as a weaver.\"}', '{\"person\": \"Johann Faulhaber\",\"activity\": \"was taught mathematics in Ulm\",\"institution\": \"Ulm\", \"begin\": null, \"end\": null, \"original_sentence\": \"However he was taught mathematics in Ulm.\"}', '{\"person\": \"Johann Faulhaber\",\"activity\": \"appointed him city mathematician and surveyor\",\"institution\": \"City of Ulm\", \"begin\": null, \"end\": null, \"original_sentence\": \"the City of Ulm appointed him city mathematician and surveyor.\"}', '{\"person\": \"Johann Faulhaber\",\"activity\": \"opened his own school in Ulm\",\"institution\": \"Ulm\", \"begin\": 1600, \"end\": null, \"original_sentence\": \"He opened his own school in Ulm in 1600.\"}', '{\"person\": \"Johann Faulhaber\",\"activity\": \"working on fortifications for Basel, Frankfurt and many other cities\",\"institution\": \"N/A\", \"begin\": null, \"end\": null, \"original_sentence\": \"His expertise saw him working on fortifications for Basel, Frankfurt and many other cities.\"}', '{\"person\": \"Johann Faulhaber\",\"activity\": \"designed waterwheels in Ulm\",\"institution\": \"Ulm\", \"begin\": null, \"end\": null, \"original_sentence\": \"He also designed waterwheels in Ulm.\"}', '{\"person\": \"Johann Faulhaber\",\"activity\": \"made mathematical and surveying instruments\",\"institution\": \"N/A\", \"begin\": null, \"end\": null, \"original_sentence\": \"and made mathematical and surveying instruments, particularly ones with military applications.\"}', '{\"person\": \"Johann Faulhaber\",\"activity\": \"collaborated with Kepler and van Ceulen\",\"institution\": \"N/A\", \"begin\": null, \"end\": null, \"original_sentence\": \"Among the scientists with whom Faulhaber collaborated were Kepler and van Ceulen.\"}', '{\"person\": \"Johann Faulhaber\",\"activity\": \"made a major impression on Descartes\",\"institution\": \"N/A\", \"begin\": null, \"end\": null, \"original_sentence\": \"He made a major impression on Descartes with both his scientific and Rosicrucian beliefs and influenced his thinking.\"}', '{\"person\": \"Johann Faulhaber\",\"activity\": \"published Academia Algebra (Academy of Algebra) in Augsburg\",\"institution\": \"Augsburg\", \"begin\": 1631, \"end\": null, \"original_sentence\": \"In 1631 Faulhaber published Academia Algebra (Academy of Algebra) in Augsburg.\"}']\n",
      "143\n",
      "['{\"person\": \"Willebrord Snell\",\"activity\": \"studied\", \"object\": \"mathematics and law\",\"institution\": \"University of Leiden\", \"begin\": 1600, \"end\": null, \"original_sentence\": \"Rudolphus would have liked his son to study law at university but Willebrord was keen to study mathematics and, continuing to live at home, he became a private pupil of Ludolph Van Ceulen. By 1600 Snell was studying law and teaching mathematics at the university on days when the professor was not teaching.\"}']\n",
      "145\n",
      "['{\"person\": \"Edmund Gunter\",\"activity\": \"studied\", \"object\": \"mathematics\",\"institution\": \"Westminster School and Christ Church, Oxford\", \"begin\": 1600, \"end\": 1603, \"original_sentence\": \"Edmund attended Westminster School as a Queen\\'s Scholar, then entered Christ Church, Oxford on 25 January 1600. He graduated with a B.A. on 12 December 1603.\"}']\n",
      "150\n",
      "['{\"person\": \"Peter Turner\",\"activity\": \"educated\", \"object\": \"at Oxford\",\"institution\": \"St Mary Hall\", \"begin\": \"31 October 1600\", \"end\": \"\", \"original_sentence\": \"He was educated at Oxford matriculating at St Mary Hall on 31 October 1600\"}', '{\"person\": \"Peter Turner\",\"activity\": \"moving\", \"object\": \"to Christ Church\",\"institution\": \"\", \"begin\": \"\", \"end\": \"\", \"original_sentence\": \"then moving to Christ Church\"}', '{\"person\": \"Peter Turner\",\"activity\": \"graduated\", \"object\": \"with a B.A.\",\"institution\": \"\", \"begin\": \"27 June 1605\", \"end\": \"\", \"original_sentence\": \"from where he graduated with a B.A. on 27 June 1605\"}', '{\"person\": \"Peter Turner\",\"activity\": \"became\", \"object\": \"a fellow\",\"institution\": \"Merton College, Oxford\", \"begin\": 1607, \"end\": 1648, \"original_sentence\": \"Turner became a fellow of Merton College, Oxford in 1607, holding the fellowship until 1648\"}', '{\"person\": \"Peter Turner\",\"activity\": \"succeeded\", \"object\": \"to the chair of geometry\",\"institution\": \"Gresham College\", \"begin\": 1620, \"end\": \"\", \"original_sentence\": \"In 1620 he succeeded Briggs first to the chair of geometry at Gresham College in London\"}', '{\"person\": \"Peter Turner\",\"activity\": \"succeeded\", \"object\": \"to the Savilian chair of Geometry\",\"institution\": \"Oxford\", \"begin\": 1630, \"end\": \"\", \"original_sentence\": \"then, in 1630, to the Savilian chair of Geometry at Oxford\"}']\n"
     ]
    }
   ],
   "source": [
    "rj = []\n",
    "for r in results:\n",
    "    print(r[0])\n",
    "    try:\n",
    "        rr = r[1].replace('\\n', '').replace('  ', '').replace('}{', '}|{').split('|')\n",
    "        print(rr)\n",
    "        rp = [json.loads(e) for e in rr]\n",
    "        rj.append([r[0], rp])\n",
    "    except Exception as e:\n",
    "        print('\\n\\nDoc:'+ str(r[0]) + ' — ' + str(e) + '\\n\\n')"
   ]
  },
  {
   "cell_type": "code",
   "execution_count": 285,
   "id": "094ebdc8-5d8b-4748-8091-99e7059d610e",
   "metadata": {},
   "outputs": [
    {
     "data": {
      "text/plain": [
       "[130,\n",
       " [{'person': 'Thomas Fincke',\n",
       "   'activity': 'studied',\n",
       "   'object': 'mathematics and astrology, philosophy and rhetoric',\n",
       "   'institution': 'Strasbourg Academy',\n",
       "   'begin': 1577,\n",
       "   'end': 1582,\n",
       "   'original_sentence': 'He spent five years studying mathematics and astrology, philosophy and rhetoric at Strasbourg.'}]]"
      ]
     },
     "execution_count": 285,
     "metadata": {},
     "output_type": "execute_result"
    }
   ],
   "source": [
    "rj[7]"
   ]
  },
  {
   "cell_type": "code",
   "execution_count": 287,
   "id": "e8a06456-866d-4c10-8a5a-6d5136284eeb",
   "metadata": {},
   "outputs": [
    {
     "data": {
      "text/plain": [
       "[135,\n",
       " [{'person': 'Johannes Kepler',\n",
       "   'activity': 'discovering the three laws of planetary motion',\n",
       "   'institution': 'N/A',\n",
       "   'begin': 1609,\n",
       "   'end': 1619,\n",
       "   'original_sentence': 'Johannes Kepler is now chiefly remembered for discovering the three laws of planetary motion that bear his name published in 1609 and 1619)'},\n",
       "  {'person': 'Johannes Kepler',\n",
       "   'activity': 'work in optics',\n",
       "   'institution': 'N/A',\n",
       "   'begin': 1604,\n",
       "   'end': 1611,\n",
       "   'original_sentence': 'He also did important work in optics (1604, 1611)'},\n",
       "  {'person': 'Johannes Kepler',\n",
       "   'activity': 'discovered two new regular polyhedra',\n",
       "   'institution': 'N/A',\n",
       "   'begin': 1619,\n",
       "   'end': 1619,\n",
       "   'original_sentence': 'discovered two new regular polyhedra (1619)'},\n",
       "  {'person': 'Johannes Kepler',\n",
       "   'activity': 'gave the first mathematical treatment of close packing of equal spheres',\n",
       "   'institution': 'N/A',\n",
       "   'begin': 1611,\n",
       "   'end': 1611,\n",
       "   'original_sentence': 'gave the first mathematical treatment of close packing of equal spheres (leading to an explanation of the shape of the cells of a honeycomb, 1611)'},\n",
       "  {'person': 'Johannes Kepler',\n",
       "   'activity': 'gave the first proof of how logarithms worked',\n",
       "   'institution': 'N/A',\n",
       "   'begin': 1624,\n",
       "   'end': 1624,\n",
       "   'original_sentence': 'gave the first proof of how logarithms worked (1624)'},\n",
       "  {'person': 'Johannes Kepler',\n",
       "   'activity': 'devised a method of finding the volumes of solids of revolution',\n",
       "   'institution': 'N/A',\n",
       "   'begin': 1615,\n",
       "   'end': 1616,\n",
       "   'original_sentence': 'devised a method of finding the volumes of solids of revolution that (with hindsight!) can be seen as contributing to the development of calculus (1615, 1616)'},\n",
       "  {'person': 'Johannes Kepler',\n",
       "   'activity': 'calculated the most exact astronomical tables',\n",
       "   'institution': 'N/A',\n",
       "   'begin': 'N/A',\n",
       "   'end': 'N/A',\n",
       "   'original_sentence': 'Moreover, he calculated the most exact astronomical tables hitherto known, whose continued accuracy did much to establish the truth of heliocentric astronomy (Rudolphine Tables, Ulm, 1627)'}]]"
      ]
     },
     "execution_count": 287,
     "metadata": {},
     "output_type": "execute_result"
    }
   ],
   "source": [
    "rj[10]"
   ]
  },
  {
   "cell_type": "code",
   "execution_count": 288,
   "id": "4a221eef-f889-46cc-bbcb-a879b7ccaebb",
   "metadata": {},
   "outputs": [
    {
     "data": {
      "text/plain": [
       "[122,\n",
       " [{'person': 'Giovanni Magini',\n",
       "   'activity': 'completed his education',\n",
       "   'object': 'at the University of Bologna',\n",
       "   'begin': 1579,\n",
       "   'end': 1579,\n",
       "   'original_sentence': 'Magini completed his education at the University of Bologna, receiving a doctorate in philosophy in 1579.'},\n",
       "  {'person': 'Giovanni Magini',\n",
       "   'activity': 'published',\n",
       "   'object': 'Ephemerides coelestium motuum',\n",
       "   'begin': 1582,\n",
       "   'end': 1582,\n",
       "   'original_sentence': 'He published Ephemerides coelestium motuum, a major treatise on astronomy, in 1582.'},\n",
       "  {'person': 'Giovanni Magini',\n",
       "   'activity': 'published',\n",
       "   'object': 'an Italian version of the original Latin text',\n",
       "   'begin': 1583,\n",
       "   'end': 1583,\n",
       "   'original_sentence': 'and in the following year he published an Italian version of the original Latin text.'},\n",
       "  {'person': 'Giovanni Magini',\n",
       "   'activity': 'competed',\n",
       "   'object': 'for the chair',\n",
       "   'begin': None,\n",
       "   'end': None,\n",
       "   'original_sentence': 'Magini competed for the chair as did, among others, Galileo.'},\n",
       "  {'person': 'Giovanni Magini',\n",
       "   'activity': 'was appointed',\n",
       "   'object': 'to the chair',\n",
       "   'begin': 1588,\n",
       "   'end': None,\n",
       "   'original_sentence': 'he was appointed in 1588 and held the position for the rest of his life.'},\n",
       "  {'person': 'Giovanni Magini',\n",
       "   'activity': 'published',\n",
       "   'object': 'Novae coelestium orbium theoricae congruentes cum observationibus N Copernici',\n",
       "   'begin': 1589,\n",
       "   'end': 1589,\n",
       "   'original_sentence': \"In Novae coelestium orbium theoricae congruentes cum observationibus N Copernici (Venice, 1589), Magini writes about 'absurd hypotheses, such as Copernicus imagined'.\"},\n",
       "  {'person': 'Giovanni Magini',\n",
       "   'activity': 'published',\n",
       "   'object': 'De Planis Triangulis',\n",
       "   'begin': 1592,\n",
       "   'end': 1592,\n",
       "   'original_sentence': 'In 1592 Magini published De Planis Triangulis which explains the use of quadrants in astronomy and in surveying.'},\n",
       "  {'person': 'Giovanni Magini',\n",
       "   'activity': 'published',\n",
       "   'object': 'Tabula tetragonica',\n",
       "   'begin': 1592,\n",
       "   'end': 1592,\n",
       "   'original_sentence': 'Also in 1592 Magini published Tabula tetragonica.'},\n",
       "  {'person': 'Giovanni Magini',\n",
       "   'activity': 'published',\n",
       "   'object': \"a commentary on Ptolemy's Geographia\",\n",
       "   'begin': 1596,\n",
       "   'end': 1596,\n",
       "   'original_sentence': \"then in 1596 published a commentary on Ptolemy's Geographia.\"}]]"
      ]
     },
     "execution_count": 288,
     "metadata": {},
     "output_type": "execute_result"
    }
   ],
   "source": [
    "rj[0]"
   ]
  },
  {
   "cell_type": "code",
   "execution_count": null,
   "id": "3acc67c3-3112-4895-b9f9-bbf47d3be05d",
   "metadata": {},
   "outputs": [],
   "source": []
  },
  {
   "cell_type": "code",
   "execution_count": 271,
   "id": "9a041725-b08d-4fde-b0fd-384382d117ac",
   "metadata": {},
   "outputs": [],
   "source": [
    "jf = \"data/openai_test_result_3.json\"\n",
    "with open(jf, \"w\") as f:\n",
    "    f.write(json.dumps(rj))"
   ]
  },
  {
   "cell_type": "code",
   "execution_count": 274,
   "id": "4a9573b7-ec49-49c9-9398-e7fe64043cd4",
   "metadata": {},
   "outputs": [],
   "source": [
    "with open(jf) as f:\n",
    "    loaded_file = json.load(f)"
   ]
  },
  {
   "cell_type": "code",
   "execution_count": 286,
   "id": "6f85a107-5685-4617-a072-9f5b890eb311",
   "metadata": {},
   "outputs": [
    {
     "data": {
      "text/plain": [
       "[{'person': 'Giovanni Magini',\n",
       "  'activity': 'completed his education',\n",
       "  'object': 'at the University of Bologna',\n",
       "  'begin': 1579,\n",
       "  'end': 1579,\n",
       "  'original_sentence': 'Magini completed his education at the University of Bologna, receiving a doctorate in philosophy in 1579.'},\n",
       " {'person': 'Giovanni Magini',\n",
       "  'activity': 'published',\n",
       "  'object': 'Ephemerides coelestium motuum',\n",
       "  'begin': 1582,\n",
       "  'end': 1582,\n",
       "  'original_sentence': 'He published Ephemerides coelestium motuum, a major treatise on astronomy, in 1582.'},\n",
       " {'person': 'Giovanni Magini',\n",
       "  'activity': 'published',\n",
       "  'object': 'an Italian version of the original Latin text',\n",
       "  'begin': 1583,\n",
       "  'end': 1583,\n",
       "  'original_sentence': 'and in the following year he published an Italian version of the original Latin text.'},\n",
       " {'person': 'Giovanni Magini',\n",
       "  'activity': 'competed',\n",
       "  'object': 'for the chair',\n",
       "  'begin': None,\n",
       "  'end': None,\n",
       "  'original_sentence': 'Magini competed for the chair as did, among others, Galileo.'},\n",
       " {'person': 'Giovanni Magini',\n",
       "  'activity': 'was appointed',\n",
       "  'object': 'to the chair',\n",
       "  'begin': 1588,\n",
       "  'end': None,\n",
       "  'original_sentence': 'he was appointed in 1588 and held the position for the rest of his life.'},\n",
       " {'person': 'Giovanni Magini',\n",
       "  'activity': 'published',\n",
       "  'object': 'Novae coelestium orbium theoricae congruentes cum observationibus N Copernici',\n",
       "  'begin': 1589,\n",
       "  'end': 1589,\n",
       "  'original_sentence': \"In Novae coelestium orbium theoricae congruentes cum observationibus N Copernici (Venice, 1589), Magini writes about 'absurd hypotheses, such as Copernicus imagined'.\"},\n",
       " {'person': 'Giovanni Magini',\n",
       "  'activity': 'published',\n",
       "  'object': 'De Planis Triangulis',\n",
       "  'begin': 1592,\n",
       "  'end': 1592,\n",
       "  'original_sentence': 'In 1592 Magini published De Planis Triangulis which explains the use of quadrants in astronomy and in surveying.'},\n",
       " {'person': 'Giovanni Magini',\n",
       "  'activity': 'published',\n",
       "  'object': 'Tabula tetragonica',\n",
       "  'begin': 1592,\n",
       "  'end': 1592,\n",
       "  'original_sentence': 'Also in 1592 Magini published Tabula tetragonica.'},\n",
       " {'person': 'Giovanni Magini',\n",
       "  'activity': 'published',\n",
       "  'object': \"a commentary on Ptolemy's Geographia\",\n",
       "  'begin': 1596,\n",
       "  'end': 1596,\n",
       "  'original_sentence': \"then in 1596 published a commentary on Ptolemy's Geographia.\"}]"
      ]
     },
     "execution_count": 286,
     "metadata": {},
     "output_type": "execute_result"
    }
   ],
   "source": [
    "loaded_file[0][1]"
   ]
  },
  {
   "cell_type": "code",
   "execution_count": null,
   "id": "26300d35-6a3c-4df1-bf8c-4cb06edf4f5c",
   "metadata": {},
   "outputs": [],
   "source": []
  },
  {
   "cell_type": "code",
   "execution_count": null,
   "id": "c3b66318-e73f-4afb-a733-8a6fe3f1b636",
   "metadata": {},
   "outputs": [],
   "source": []
  }
 ],
 "metadata": {
  "kernelspec": {
   "display_name": "py310_pip_spacy",
   "language": "python",
   "name": "py310_pip_spacy"
  },
  "language_info": {
   "codemirror_mode": {
    "name": "ipython",
    "version": 3
   },
   "file_extension": ".py",
   "mimetype": "text/x-python",
   "name": "python",
   "nbconvert_exporter": "python",
   "pygments_lexer": "ipython3",
   "version": "3.10.11"
  }
 },
 "nbformat": 4,
 "nbformat_minor": 5
}
